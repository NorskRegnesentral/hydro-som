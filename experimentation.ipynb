{
 "cells": [
  {
   "cell_type": "code",
   "execution_count": 1,
   "id": "initial_id",
   "metadata": {
    "ExecuteTime": {
     "end_time": "2024-11-13T13:53:47.718951Z",
     "start_time": "2024-11-13T13:53:46.612679Z"
    },
    "collapsed": true
   },
   "outputs": [],
   "source": [
    "import itertools\n",
    "from pathlib import Path\n",
    "\n",
    "import minisom\n",
    "import numpy as np\n",
    "import pandas as pd\n",
    "import plotly.express as px\n",
    "import plotly.graph_objects as go\n",
    "import plotly.io as pio\n",
    "import shapely\n",
    "\n",
    "from plotly.colors import sample_colorscale, DEFAULT_PLOTLY_COLORS\n",
    "from plotly.subplots import make_subplots\n",
    "from plotly.figure_factory import create_dendrogram\n",
    "from scipy.cluster import hierarchy\n",
    "from sklearn.metrics import davies_bouldin_score, silhouette_score\n",
    "from sklearn.decomposition import PCA\n",
    "from IPython.display import IFrame, Image, HTML, display_html"
   ]
  },
  {
   "cell_type": "markdown",
   "id": "697341e4bf46a730",
   "metadata": {
    "ExecuteTime": {
     "end_time": "2024-11-13T13:53:47.740377Z",
     "start_time": "2024-11-13T13:53:47.718951Z"
    }
   },
   "source": [
    "# Parameters"
   ]
  },
  {
   "cell_type": "code",
   "execution_count": 2,
   "id": "224dcff8",
   "metadata": {},
   "outputs": [],
   "source": [
    "\n",
    "data_path = Path(r'data.csv')\n",
    "input_columns = ['pH', 'Ca', 'Mg', 'Na', 'K', 'HCO3', 'Cl', 'SO4']\n",
    "\n",
    "som_nx = None  # Set to None to determine these automatically (PCA)\n",
    "som_ny = None\n",
    "som_sigma = 1.5\n",
    "som_learning_rate = 0.7\n",
    "som_activation_distance = 'euclidean'\n",
    "som_topology = 'hexagonal'\n",
    "som_neighborhood_function = 'gaussian'\n",
    "som_random_seed = 10\n",
    "som_max_iterations = 3000\n",
    "\n",
    "max_clusters = 10\n",
    "number_of_clusters = None  # Set to None to pick the optimal number automatically\n",
    "\n",
    "# Visualization\n",
    "# features_colorscale = 'spectral'\n",
    "features_colorscale = 'RdBu'\n",
    "pio.templates.default = 'plotly_white'\n",
    "plotly_interactive = True"
   ]
  },
  {
   "cell_type": "code",
   "execution_count": 3,
   "id": "eda4af8b0a6af2f2",
   "metadata": {
    "ExecuteTime": {
     "end_time": "2024-11-13T13:53:47.744239Z",
     "start_time": "2024-11-13T13:53:47.740377Z"
    }
   },
   "outputs": [],
   "source": [
    "# Convenience function to allow changing between interactive and static images\n",
    "# Needed to show figures on GitHub notebook preview\n",
    "def show_figure(fig: go.Figure):\n",
    "    global fig_count\n",
    "    if plotly_interactive:\n",
    "        return fig\n",
    "    else:\n",
    "        return Image(data=fig.to_image(format='png', scale=2))\n"
   ]
  },
  {
   "cell_type": "code",
   "execution_count": 4,
   "id": "9de95990402008a9",
   "metadata": {
    "ExecuteTime": {
     "end_time": "2024-11-13T13:53:47.781251Z",
     "start_time": "2024-11-13T13:53:47.744239Z"
    }
   },
   "outputs": [
    {
     "data": {
      "text/html": [
       "<div>\n",
       "<style scoped>\n",
       "    .dataframe tbody tr th:only-of-type {\n",
       "        vertical-align: middle;\n",
       "    }\n",
       "\n",
       "    .dataframe tbody tr th {\n",
       "        vertical-align: top;\n",
       "    }\n",
       "\n",
       "    .dataframe thead th {\n",
       "        text-align: right;\n",
       "    }\n",
       "</style>\n",
       "<table border=\"1\" class=\"dataframe\">\n",
       "  <thead>\n",
       "    <tr style=\"text-align: right;\">\n",
       "      <th></th>\n",
       "      <th>Alpha</th>\n",
       "      <th>Size</th>\n",
       "      <th>pH</th>\n",
       "      <th>Ca</th>\n",
       "      <th>Mg</th>\n",
       "      <th>Na</th>\n",
       "      <th>K</th>\n",
       "      <th>HCO3</th>\n",
       "      <th>CO3</th>\n",
       "      <th>Cl</th>\n",
       "      <th>SO4</th>\n",
       "      <th>TDS</th>\n",
       "    </tr>\n",
       "  </thead>\n",
       "  <tbody>\n",
       "    <tr>\n",
       "      <th>count</th>\n",
       "      <td>102.0</td>\n",
       "      <td>102.0</td>\n",
       "      <td>102.000000</td>\n",
       "      <td>102.000000</td>\n",
       "      <td>102.000000</td>\n",
       "      <td>102.000000</td>\n",
       "      <td>102.000000</td>\n",
       "      <td>102.000000</td>\n",
       "      <td>102.0</td>\n",
       "      <td>102.000000</td>\n",
       "      <td>102.000000</td>\n",
       "      <td>102.000000</td>\n",
       "    </tr>\n",
       "    <tr>\n",
       "      <th>mean</th>\n",
       "      <td>0.6</td>\n",
       "      <td>30.0</td>\n",
       "      <td>7.680392</td>\n",
       "      <td>7.710784</td>\n",
       "      <td>12.067647</td>\n",
       "      <td>18.490196</td>\n",
       "      <td>2.057843</td>\n",
       "      <td>10.184314</td>\n",
       "      <td>0.0</td>\n",
       "      <td>8.826471</td>\n",
       "      <td>17.335294</td>\n",
       "      <td>2627.794118</td>\n",
       "    </tr>\n",
       "    <tr>\n",
       "      <th>std</th>\n",
       "      <td>0.0</td>\n",
       "      <td>0.0</td>\n",
       "      <td>0.214356</td>\n",
       "      <td>6.420371</td>\n",
       "      <td>6.753762</td>\n",
       "      <td>11.158325</td>\n",
       "      <td>1.243553</td>\n",
       "      <td>3.368454</td>\n",
       "      <td>0.0</td>\n",
       "      <td>10.335902</td>\n",
       "      <td>12.658083</td>\n",
       "      <td>1313.058242</td>\n",
       "    </tr>\n",
       "    <tr>\n",
       "      <th>min</th>\n",
       "      <td>0.6</td>\n",
       "      <td>30.0</td>\n",
       "      <td>6.300000</td>\n",
       "      <td>0.400000</td>\n",
       "      <td>1.200000</td>\n",
       "      <td>0.200000</td>\n",
       "      <td>0.000000</td>\n",
       "      <td>2.500000</td>\n",
       "      <td>0.0</td>\n",
       "      <td>1.000000</td>\n",
       "      <td>2.000000</td>\n",
       "      <td>856.000000</td>\n",
       "    </tr>\n",
       "    <tr>\n",
       "      <th>25%</th>\n",
       "      <td>0.6</td>\n",
       "      <td>30.0</td>\n",
       "      <td>7.600000</td>\n",
       "      <td>3.650000</td>\n",
       "      <td>8.000000</td>\n",
       "      <td>11.825000</td>\n",
       "      <td>1.300000</td>\n",
       "      <td>8.500000</td>\n",
       "      <td>0.0</td>\n",
       "      <td>4.400000</td>\n",
       "      <td>9.025000</td>\n",
       "      <td>1902.000000</td>\n",
       "    </tr>\n",
       "    <tr>\n",
       "      <th>50%</th>\n",
       "      <td>0.6</td>\n",
       "      <td>30.0</td>\n",
       "      <td>7.700000</td>\n",
       "      <td>6.600000</td>\n",
       "      <td>11.300000</td>\n",
       "      <td>16.050000</td>\n",
       "      <td>1.800000</td>\n",
       "      <td>10.350000</td>\n",
       "      <td>0.0</td>\n",
       "      <td>7.300000</td>\n",
       "      <td>13.800000</td>\n",
       "      <td>2452.000000</td>\n",
       "    </tr>\n",
       "    <tr>\n",
       "      <th>75%</th>\n",
       "      <td>0.6</td>\n",
       "      <td>30.0</td>\n",
       "      <td>7.800000</td>\n",
       "      <td>9.550000</td>\n",
       "      <td>15.000000</td>\n",
       "      <td>21.950000</td>\n",
       "      <td>2.400000</td>\n",
       "      <td>12.775000</td>\n",
       "      <td>0.0</td>\n",
       "      <td>9.750000</td>\n",
       "      <td>23.500000</td>\n",
       "      <td>2981.000000</td>\n",
       "    </tr>\n",
       "    <tr>\n",
       "      <th>max</th>\n",
       "      <td>0.6</td>\n",
       "      <td>30.0</td>\n",
       "      <td>8.400000</td>\n",
       "      <td>42.600000</td>\n",
       "      <td>58.400000</td>\n",
       "      <td>81.300000</td>\n",
       "      <td>9.000000</td>\n",
       "      <td>16.800000</td>\n",
       "      <td>0.0</td>\n",
       "      <td>78.000000</td>\n",
       "      <td>66.300000</td>\n",
       "      <td>9629.000000</td>\n",
       "    </tr>\n",
       "  </tbody>\n",
       "</table>\n",
       "</div>"
      ],
      "text/plain": [
       "       Alpha   Size          pH          Ca          Mg          Na  \\\n",
       "count  102.0  102.0  102.000000  102.000000  102.000000  102.000000   \n",
       "mean     0.6   30.0    7.680392    7.710784   12.067647   18.490196   \n",
       "std      0.0    0.0    0.214356    6.420371    6.753762   11.158325   \n",
       "min      0.6   30.0    6.300000    0.400000    1.200000    0.200000   \n",
       "25%      0.6   30.0    7.600000    3.650000    8.000000   11.825000   \n",
       "50%      0.6   30.0    7.700000    6.600000   11.300000   16.050000   \n",
       "75%      0.6   30.0    7.800000    9.550000   15.000000   21.950000   \n",
       "max      0.6   30.0    8.400000   42.600000   58.400000   81.300000   \n",
       "\n",
       "                K        HCO3    CO3          Cl         SO4          TDS  \n",
       "count  102.000000  102.000000  102.0  102.000000  102.000000   102.000000  \n",
       "mean     2.057843   10.184314    0.0    8.826471   17.335294  2627.794118  \n",
       "std      1.243553    3.368454    0.0   10.335902   12.658083  1313.058242  \n",
       "min      0.000000    2.500000    0.0    1.000000    2.000000   856.000000  \n",
       "25%      1.300000    8.500000    0.0    4.400000    9.025000  1902.000000  \n",
       "50%      1.800000   10.350000    0.0    7.300000   13.800000  2452.000000  \n",
       "75%      2.400000   12.775000    0.0    9.750000   23.500000  2981.000000  \n",
       "max      9.000000   16.800000    0.0   78.000000   66.300000  9629.000000  "
      ]
     },
     "execution_count": 4,
     "metadata": {},
     "output_type": "execute_result"
    }
   ],
   "source": [
    "# Read input data\n",
    "df = pd.read_csv(data_path)\n",
    "df.describe()"
   ]
  },
  {
   "cell_type": "code",
   "execution_count": 5,
   "id": "71cf3c86d28b206d",
   "metadata": {
    "ExecuteTime": {
     "end_time": "2024-11-13T13:53:47.813445Z",
     "start_time": "2024-11-13T13:53:47.793448Z"
    }
   },
   "outputs": [
    {
     "data": {
      "text/html": [
       "<div>\n",
       "<style scoped>\n",
       "    .dataframe tbody tr th:only-of-type {\n",
       "        vertical-align: middle;\n",
       "    }\n",
       "\n",
       "    .dataframe tbody tr th {\n",
       "        vertical-align: top;\n",
       "    }\n",
       "\n",
       "    .dataframe thead th {\n",
       "        text-align: right;\n",
       "    }\n",
       "</style>\n",
       "<table border=\"1\" class=\"dataframe\">\n",
       "  <thead>\n",
       "    <tr style=\"text-align: right;\">\n",
       "      <th></th>\n",
       "      <th>Sample</th>\n",
       "      <th>Label</th>\n",
       "      <th>Color</th>\n",
       "      <th>Marker</th>\n",
       "      <th>Alpha</th>\n",
       "      <th>Size</th>\n",
       "      <th>pH</th>\n",
       "      <th>Ca</th>\n",
       "      <th>Mg</th>\n",
       "      <th>Na</th>\n",
       "      <th>K</th>\n",
       "      <th>HCO3</th>\n",
       "      <th>CO3</th>\n",
       "      <th>Cl</th>\n",
       "      <th>SO4</th>\n",
       "      <th>TDS</th>\n",
       "    </tr>\n",
       "  </thead>\n",
       "  <tbody>\n",
       "    <tr>\n",
       "      <th>0</th>\n",
       "      <td>sample1</td>\n",
       "      <td>K-1</td>\n",
       "      <td>red</td>\n",
       "      <td>o</td>\n",
       "      <td>0.6</td>\n",
       "      <td>30</td>\n",
       "      <td>7.5</td>\n",
       "      <td>3.2</td>\n",
       "      <td>7.1</td>\n",
       "      <td>11.5</td>\n",
       "      <td>1.3</td>\n",
       "      <td>14.8</td>\n",
       "      <td>0</td>\n",
       "      <td>2.2</td>\n",
       "      <td>3.5</td>\n",
       "      <td>1483</td>\n",
       "    </tr>\n",
       "    <tr>\n",
       "      <th>1</th>\n",
       "      <td>sample2</td>\n",
       "      <td>K-1</td>\n",
       "      <td>red</td>\n",
       "      <td>o</td>\n",
       "      <td>0.6</td>\n",
       "      <td>30</td>\n",
       "      <td>7.7</td>\n",
       "      <td>2.6</td>\n",
       "      <td>7.0</td>\n",
       "      <td>13.0</td>\n",
       "      <td>1.4</td>\n",
       "      <td>13.3</td>\n",
       "      <td>0</td>\n",
       "      <td>3.8</td>\n",
       "      <td>3.2</td>\n",
       "      <td>1601</td>\n",
       "    </tr>\n",
       "    <tr>\n",
       "      <th>2</th>\n",
       "      <td>sample3</td>\n",
       "      <td>K-1</td>\n",
       "      <td>red</td>\n",
       "      <td>o</td>\n",
       "      <td>0.6</td>\n",
       "      <td>30</td>\n",
       "      <td>7.3</td>\n",
       "      <td>1.2</td>\n",
       "      <td>8.0</td>\n",
       "      <td>12.0</td>\n",
       "      <td>1.3</td>\n",
       "      <td>13.9</td>\n",
       "      <td>0</td>\n",
       "      <td>2.0</td>\n",
       "      <td>3.4</td>\n",
       "      <td>1542</td>\n",
       "    </tr>\n",
       "    <tr>\n",
       "      <th>3</th>\n",
       "      <td>sample4</td>\n",
       "      <td>K-1</td>\n",
       "      <td>red</td>\n",
       "      <td>o</td>\n",
       "      <td>0.6</td>\n",
       "      <td>30</td>\n",
       "      <td>7.4</td>\n",
       "      <td>2.2</td>\n",
       "      <td>6.6</td>\n",
       "      <td>12.6</td>\n",
       "      <td>1.4</td>\n",
       "      <td>13.6</td>\n",
       "      <td>0</td>\n",
       "      <td>2.4</td>\n",
       "      <td>3.1</td>\n",
       "      <td>1518</td>\n",
       "    </tr>\n",
       "    <tr>\n",
       "      <th>4</th>\n",
       "      <td>sample5</td>\n",
       "      <td>K-1</td>\n",
       "      <td>red</td>\n",
       "      <td>o</td>\n",
       "      <td>0.6</td>\n",
       "      <td>30</td>\n",
       "      <td>7.3</td>\n",
       "      <td>2.5</td>\n",
       "      <td>9.6</td>\n",
       "      <td>10.3</td>\n",
       "      <td>1.1</td>\n",
       "      <td>14.3</td>\n",
       "      <td>0</td>\n",
       "      <td>2.0</td>\n",
       "      <td>3.4</td>\n",
       "      <td>1476</td>\n",
       "    </tr>\n",
       "    <tr>\n",
       "      <th>...</th>\n",
       "      <td>...</td>\n",
       "      <td>...</td>\n",
       "      <td>...</td>\n",
       "      <td>...</td>\n",
       "      <td>...</td>\n",
       "      <td>...</td>\n",
       "      <td>...</td>\n",
       "      <td>...</td>\n",
       "      <td>...</td>\n",
       "      <td>...</td>\n",
       "      <td>...</td>\n",
       "      <td>...</td>\n",
       "      <td>...</td>\n",
       "      <td>...</td>\n",
       "      <td>...</td>\n",
       "      <td>...</td>\n",
       "    </tr>\n",
       "    <tr>\n",
       "      <th>97</th>\n",
       "      <td>sample98</td>\n",
       "      <td>P-7</td>\n",
       "      <td>orange</td>\n",
       "      <td>o</td>\n",
       "      <td>0.6</td>\n",
       "      <td>30</td>\n",
       "      <td>7.9</td>\n",
       "      <td>1.8</td>\n",
       "      <td>2.4</td>\n",
       "      <td>3.8</td>\n",
       "      <td>0.4</td>\n",
       "      <td>4.0</td>\n",
       "      <td>0</td>\n",
       "      <td>1.0</td>\n",
       "      <td>3.4</td>\n",
       "      <td>856</td>\n",
       "    </tr>\n",
       "    <tr>\n",
       "      <th>98</th>\n",
       "      <td>sample99</td>\n",
       "      <td>P-8</td>\n",
       "      <td>cyan</td>\n",
       "      <td>o</td>\n",
       "      <td>0.6</td>\n",
       "      <td>30</td>\n",
       "      <td>7.5</td>\n",
       "      <td>12.2</td>\n",
       "      <td>14.0</td>\n",
       "      <td>8.6</td>\n",
       "      <td>1.0</td>\n",
       "      <td>5.5</td>\n",
       "      <td>0</td>\n",
       "      <td>6.0</td>\n",
       "      <td>23.4</td>\n",
       "      <td>2394</td>\n",
       "    </tr>\n",
       "    <tr>\n",
       "      <th>99</th>\n",
       "      <td>sample100</td>\n",
       "      <td>P-8</td>\n",
       "      <td>cyan</td>\n",
       "      <td>o</td>\n",
       "      <td>0.6</td>\n",
       "      <td>30</td>\n",
       "      <td>7.8</td>\n",
       "      <td>12.8</td>\n",
       "      <td>13.4</td>\n",
       "      <td>9.6</td>\n",
       "      <td>1.1</td>\n",
       "      <td>6.3</td>\n",
       "      <td>0</td>\n",
       "      <td>6.0</td>\n",
       "      <td>23.8</td>\n",
       "      <td>2456</td>\n",
       "    </tr>\n",
       "    <tr>\n",
       "      <th>100</th>\n",
       "      <td>sample101</td>\n",
       "      <td>P-8</td>\n",
       "      <td>cyan</td>\n",
       "      <td>o</td>\n",
       "      <td>0.6</td>\n",
       "      <td>30</td>\n",
       "      <td>7.8</td>\n",
       "      <td>11.6</td>\n",
       "      <td>12.0</td>\n",
       "      <td>11.4</td>\n",
       "      <td>1.3</td>\n",
       "      <td>5.2</td>\n",
       "      <td>0</td>\n",
       "      <td>6.2</td>\n",
       "      <td>23.8</td>\n",
       "      <td>2435</td>\n",
       "    </tr>\n",
       "    <tr>\n",
       "      <th>101</th>\n",
       "      <td>sample102</td>\n",
       "      <td>P-8</td>\n",
       "      <td>cyan</td>\n",
       "      <td>o</td>\n",
       "      <td>0.6</td>\n",
       "      <td>30</td>\n",
       "      <td>7.7</td>\n",
       "      <td>13.4</td>\n",
       "      <td>12.8</td>\n",
       "      <td>8.8</td>\n",
       "      <td>1.0</td>\n",
       "      <td>5.7</td>\n",
       "      <td>0</td>\n",
       "      <td>6.0</td>\n",
       "      <td>23.6</td>\n",
       "      <td>2448</td>\n",
       "    </tr>\n",
       "  </tbody>\n",
       "</table>\n",
       "<p>102 rows × 16 columns</p>\n",
       "</div>"
      ],
      "text/plain": [
       "        Sample Label   Color Marker  Alpha  Size   pH    Ca    Mg    Na    K  \\\n",
       "0      sample1   K-1     red      o    0.6    30  7.5   3.2   7.1  11.5  1.3   \n",
       "1      sample2   K-1     red      o    0.6    30  7.7   2.6   7.0  13.0  1.4   \n",
       "2      sample3   K-1     red      o    0.6    30  7.3   1.2   8.0  12.0  1.3   \n",
       "3      sample4   K-1     red      o    0.6    30  7.4   2.2   6.6  12.6  1.4   \n",
       "4      sample5   K-1     red      o    0.6    30  7.3   2.5   9.6  10.3  1.1   \n",
       "..         ...   ...     ...    ...    ...   ...  ...   ...   ...   ...  ...   \n",
       "97    sample98   P-7  orange      o    0.6    30  7.9   1.8   2.4   3.8  0.4   \n",
       "98    sample99   P-8    cyan      o    0.6    30  7.5  12.2  14.0   8.6  1.0   \n",
       "99   sample100   P-8    cyan      o    0.6    30  7.8  12.8  13.4   9.6  1.1   \n",
       "100  sample101   P-8    cyan      o    0.6    30  7.8  11.6  12.0  11.4  1.3   \n",
       "101  sample102   P-8    cyan      o    0.6    30  7.7  13.4  12.8   8.8  1.0   \n",
       "\n",
       "     HCO3  CO3   Cl   SO4   TDS  \n",
       "0    14.8    0  2.2   3.5  1483  \n",
       "1    13.3    0  3.8   3.2  1601  \n",
       "2    13.9    0  2.0   3.4  1542  \n",
       "3    13.6    0  2.4   3.1  1518  \n",
       "4    14.3    0  2.0   3.4  1476  \n",
       "..    ...  ...  ...   ...   ...  \n",
       "97    4.0    0  1.0   3.4   856  \n",
       "98    5.5    0  6.0  23.4  2394  \n",
       "99    6.3    0  6.0  23.8  2456  \n",
       "100   5.2    0  6.2  23.8  2435  \n",
       "101   5.7    0  6.0  23.6  2448  \n",
       "\n",
       "[102 rows x 16 columns]"
      ]
     },
     "execution_count": 5,
     "metadata": {},
     "output_type": "execute_result"
    }
   ],
   "source": [
    "df"
   ]
  },
  {
   "cell_type": "code",
   "execution_count": 6,
   "id": "f13e17525749ba42",
   "metadata": {
    "ExecuteTime": {
     "end_time": "2024-11-13T13:53:47.916316Z",
     "start_time": "2024-11-13T13:53:47.835935Z"
    }
   },
   "outputs": [],
   "source": [
    "# Apply data transformation\n",
    "\n",
    "# Normalization:\n",
    "def apply_normalization(arr):\n",
    "    data_min = arr.min(axis=0)\n",
    "    data_range = arr.max(axis=0) - data_min\n",
    "    return (arr - data_min) / data_range\n",
    "\n",
    "# Standardization\n",
    "def apply_standardization(arr):\n",
    "    data_mean = arr.mean(axis=0)\n",
    "    data_std = arr.std(axis=0)\n",
    "    return (arr - data_mean) / data_std\n",
    "\n",
    "# Sigmoid\n",
    "def apply_sigmoid(arr):\n",
    "    return 1 / (1 + np.exp(-arr))\n",
    "\n",
    "input_array = df[input_columns].values\n",
    "\n",
    "## Uncomment the appropriate transform\n",
    "# transformed_data = apply_normalization(input_array)\n",
    "# transformed_data = apply_standardization(input_array)\n",
    "transformed_data = apply_sigmoid(input_array)"
   ]
  },
  {
   "cell_type": "markdown",
   "id": "11c5b5e8",
   "metadata": {},
   "source": [
    "# SOM model"
   ]
  },
  {
   "cell_type": "code",
   "execution_count": 7,
   "id": "3b1ce069",
   "metadata": {},
   "outputs": [
    {
     "name": "stdout",
     "output_type": "stream",
     "text": [
      "Using PCA to determine SOM dimensions: 10 x 5 (PCA ratio: 1.87)\n"
     ]
    }
   ],
   "source": [
    "# Derive SOM dimensions\n",
    "if som_nx is None or som_ny is None:\n",
    "    recommended_nodes = 5 * np.sqrt(len(df))\n",
    "\n",
    "    # \"Naive\" approach: square root of the number of samples (with round-off)\n",
    "    # final_nx = np.round(np.sqrt(som_m)).astype(int)\n",
    "    # final_ny = np.round(som_m / som_nx).astype(int)\n",
    "\n",
    "    # Perform PCA analysis\n",
    "    pca = PCA(n_components=2)\n",
    "    pca.fit(transformed_data)\n",
    "\n",
    "    # Calculate the ratio between the first two principal components\n",
    "    pca_ratio = pca.explained_variance_[0] / pca.explained_variance_[1]\n",
    "    final_nx = np.round(np.sqrt(recommended_nodes * pca_ratio)).astype(int)\n",
    "    final_ny = np.round(recommended_nodes / final_nx).astype(int)\n",
    "    print(f\"Using PCA to determine SOM dimensions: {final_nx} x {final_ny} (PCA ratio: {pca_ratio:.2f})\")\n",
    "else:\n",
    "    final_nx, final_ny = som_nx, som_ny\n",
    "    print(f\"Using fixed SOM dimensions: {final_nx} x {final_ny}\")"
   ]
  },
  {
   "cell_type": "code",
   "execution_count": 8,
   "id": "659c84be",
   "metadata": {},
   "outputs": [],
   "source": [
    "\n",
    "# Set up model\n",
    "som = minisom.MiniSom(\n",
    "    final_nx,\n",
    "    final_ny,\n",
    "    len(input_columns),\n",
    "    sigma=som_sigma,\n",
    "    learning_rate=som_learning_rate,\n",
    "    activation_distance=som_activation_distance,\n",
    "    topology=som_topology,\n",
    "    neighborhood_function=som_neighborhood_function,\n",
    "    random_seed=som_random_seed,\n",
    ")\n",
    "\n",
    "# Train\n",
    "som.train(transformed_data, som_max_iterations)\n",
    "\n",
    "# Extract data\n",
    "xx, yy = som.get_euclidean_coordinates()\n",
    "umatrix = som.distance_map()\n",
    "weights = som.get_weights()\n",
    "win_map = som.win_map(transformed_data, return_indices=True)"
   ]
  },
  {
   "cell_type": "code",
   "execution_count": 9,
   "id": "9c457a5fa8b4b90b",
   "metadata": {
    "ExecuteTime": {
     "end_time": "2024-11-13T13:53:47.935850Z",
     "start_time": "2024-11-13T13:53:47.922044Z"
    }
   },
   "outputs": [],
   "source": [
    "# Setup input to clustering and dendrogram plot\n",
    "mij = np.meshgrid(np.arange(final_nx), np.arange(final_ny), indexing='ij')\n",
    "cells_ij = np.column_stack((mij[0].flat, mij[1].flat))\n",
    "labels = [(i, j) for i, j in cells_ij]\n",
    "flat_weights = weights.reshape(-1, len(input_columns)) \n",
    "\n",
    "links = hierarchy.linkage(flat_weights, method='complete', metric='euclidean')\n"
   ]
  },
  {
   "cell_type": "markdown",
   "id": "9ee35a95",
   "metadata": {},
   "source": [
    "# Clustering"
   ]
  },
  {
   "cell_type": "code",
   "execution_count": 10,
   "id": "2f2516da",
   "metadata": {},
   "outputs": [],
   "source": [
    "cluster_results = []\n",
    "\n",
    "for i in range(2, max_clusters):\n",
    "    flat_labels = hierarchy.fcluster(links, i, 'maxclust')\n",
    "    dbi = davies_bouldin_score(flat_weights, flat_labels) if len(set(flat_labels)) == i else None\n",
    "    sil = silhouette_score(flat_weights, flat_labels) if len(set(flat_labels)) == i else None\n",
    "    cluster_results.append({\n",
    "        \"Number of clusters\": i,\n",
    "        \"DBI\": dbi,\n",
    "        \"Silhouette\": sil,\n",
    "        \"labels\": flat_labels,\n",
    "    })\n",
    "\n",
    "cluster_df = pd.DataFrame.from_dict(cluster_results)\n",
    "\n",
    "dbi_optimal_cluster = cluster_df.iloc[cluster_df['DBI'].idxmin()]\n",
    "sil_optimal_cluster = cluster_df.iloc[cluster_df['Silhouette'].idxmax()]\n",
    "\n",
    "if number_of_clusters is None:\n",
    "    selected_cluster = dbi_optimal_cluster\n",
    "else:\n",
    "    selected_cluster = cluster_df[cluster_df['Number of clusters'] == number_of_clusters].iloc[0]"
   ]
  },
  {
   "cell_type": "code",
   "execution_count": 11,
   "id": "708ec664",
   "metadata": {},
   "outputs": [
    {
     "name": "stdout",
     "output_type": "stream",
     "text": [
      "Optimal number of clusters based on DBI        : 5\n",
      "Optimal number of clusters based on Silhouette : 2\n",
      "\n",
      "Number of clusters picked based on DBI         : 5\n"
     ]
    }
   ],
   "source": [
    "print(f\"Optimal number of clusters based on DBI        : {dbi_optimal_cluster['Number of clusters']}\")\n",
    "print(f\"Optimal number of clusters based on Silhouette : {sil_optimal_cluster['Number of clusters']}\")\n",
    "print()\n",
    "\n",
    "if number_of_clusters is None:\n",
    "    print(f\"Number of clusters picked based on DBI         : {selected_cluster['Number of clusters']}\")\n",
    "else:\n",
    "    print(f\"Number of clusters fixed to                    : {number_of_clusters}\")"
   ]
  },
  {
   "cell_type": "code",
   "execution_count": 12,
   "id": "fdd92293",
   "metadata": {},
   "outputs": [
    {
     "data": {
      "application/vnd.plotly.v1+json": {
       "config": {
        "plotlyServerURL": "https://plot.ly"
       },
       "data": [
        {
         "hovertemplate": "Number of clusters=%{x}<br>DBI=%{y}<extra></extra>",
         "legendgroup": "",
         "line": {
          "color": "#636efa",
          "dash": "solid"
         },
         "marker": {
          "symbol": "circle"
         },
         "mode": "lines+markers",
         "name": "",
         "orientation": "v",
         "showlegend": false,
         "type": "scatter",
         "x": [
          2,
          3,
          4,
          5,
          6,
          7,
          8,
          9
         ],
         "xaxis": "x",
         "y": [
          0.7459839875303019,
          0.9541263401180382,
          0.7798911039103306,
          0.6284781146842717,
          0.750937633648541,
          0.6594279734079179,
          0.721990550529722,
          0.6555408095748082
         ],
         "yaxis": "y"
        }
       ],
       "layout": {
        "legend": {
         "tracegroupgap": 0
        },
        "margin": {
         "t": 60
        },
        "template": {
         "data": {
          "bar": [
           {
            "error_x": {
             "color": "#2a3f5f"
            },
            "error_y": {
             "color": "#2a3f5f"
            },
            "marker": {
             "line": {
              "color": "white",
              "width": 0.5
             },
             "pattern": {
              "fillmode": "overlay",
              "size": 10,
              "solidity": 0.2
             }
            },
            "type": "bar"
           }
          ],
          "barpolar": [
           {
            "marker": {
             "line": {
              "color": "white",
              "width": 0.5
             },
             "pattern": {
              "fillmode": "overlay",
              "size": 10,
              "solidity": 0.2
             }
            },
            "type": "barpolar"
           }
          ],
          "carpet": [
           {
            "aaxis": {
             "endlinecolor": "#2a3f5f",
             "gridcolor": "#C8D4E3",
             "linecolor": "#C8D4E3",
             "minorgridcolor": "#C8D4E3",
             "startlinecolor": "#2a3f5f"
            },
            "baxis": {
             "endlinecolor": "#2a3f5f",
             "gridcolor": "#C8D4E3",
             "linecolor": "#C8D4E3",
             "minorgridcolor": "#C8D4E3",
             "startlinecolor": "#2a3f5f"
            },
            "type": "carpet"
           }
          ],
          "choropleth": [
           {
            "colorbar": {
             "outlinewidth": 0,
             "ticks": ""
            },
            "type": "choropleth"
           }
          ],
          "contour": [
           {
            "colorbar": {
             "outlinewidth": 0,
             "ticks": ""
            },
            "colorscale": [
             [
              0,
              "#0d0887"
             ],
             [
              0.1111111111111111,
              "#46039f"
             ],
             [
              0.2222222222222222,
              "#7201a8"
             ],
             [
              0.3333333333333333,
              "#9c179e"
             ],
             [
              0.4444444444444444,
              "#bd3786"
             ],
             [
              0.5555555555555556,
              "#d8576b"
             ],
             [
              0.6666666666666666,
              "#ed7953"
             ],
             [
              0.7777777777777778,
              "#fb9f3a"
             ],
             [
              0.8888888888888888,
              "#fdca26"
             ],
             [
              1,
              "#f0f921"
             ]
            ],
            "type": "contour"
           }
          ],
          "contourcarpet": [
           {
            "colorbar": {
             "outlinewidth": 0,
             "ticks": ""
            },
            "type": "contourcarpet"
           }
          ],
          "heatmap": [
           {
            "colorbar": {
             "outlinewidth": 0,
             "ticks": ""
            },
            "colorscale": [
             [
              0,
              "#0d0887"
             ],
             [
              0.1111111111111111,
              "#46039f"
             ],
             [
              0.2222222222222222,
              "#7201a8"
             ],
             [
              0.3333333333333333,
              "#9c179e"
             ],
             [
              0.4444444444444444,
              "#bd3786"
             ],
             [
              0.5555555555555556,
              "#d8576b"
             ],
             [
              0.6666666666666666,
              "#ed7953"
             ],
             [
              0.7777777777777778,
              "#fb9f3a"
             ],
             [
              0.8888888888888888,
              "#fdca26"
             ],
             [
              1,
              "#f0f921"
             ]
            ],
            "type": "heatmap"
           }
          ],
          "heatmapgl": [
           {
            "colorbar": {
             "outlinewidth": 0,
             "ticks": ""
            },
            "colorscale": [
             [
              0,
              "#0d0887"
             ],
             [
              0.1111111111111111,
              "#46039f"
             ],
             [
              0.2222222222222222,
              "#7201a8"
             ],
             [
              0.3333333333333333,
              "#9c179e"
             ],
             [
              0.4444444444444444,
              "#bd3786"
             ],
             [
              0.5555555555555556,
              "#d8576b"
             ],
             [
              0.6666666666666666,
              "#ed7953"
             ],
             [
              0.7777777777777778,
              "#fb9f3a"
             ],
             [
              0.8888888888888888,
              "#fdca26"
             ],
             [
              1,
              "#f0f921"
             ]
            ],
            "type": "heatmapgl"
           }
          ],
          "histogram": [
           {
            "marker": {
             "pattern": {
              "fillmode": "overlay",
              "size": 10,
              "solidity": 0.2
             }
            },
            "type": "histogram"
           }
          ],
          "histogram2d": [
           {
            "colorbar": {
             "outlinewidth": 0,
             "ticks": ""
            },
            "colorscale": [
             [
              0,
              "#0d0887"
             ],
             [
              0.1111111111111111,
              "#46039f"
             ],
             [
              0.2222222222222222,
              "#7201a8"
             ],
             [
              0.3333333333333333,
              "#9c179e"
             ],
             [
              0.4444444444444444,
              "#bd3786"
             ],
             [
              0.5555555555555556,
              "#d8576b"
             ],
             [
              0.6666666666666666,
              "#ed7953"
             ],
             [
              0.7777777777777778,
              "#fb9f3a"
             ],
             [
              0.8888888888888888,
              "#fdca26"
             ],
             [
              1,
              "#f0f921"
             ]
            ],
            "type": "histogram2d"
           }
          ],
          "histogram2dcontour": [
           {
            "colorbar": {
             "outlinewidth": 0,
             "ticks": ""
            },
            "colorscale": [
             [
              0,
              "#0d0887"
             ],
             [
              0.1111111111111111,
              "#46039f"
             ],
             [
              0.2222222222222222,
              "#7201a8"
             ],
             [
              0.3333333333333333,
              "#9c179e"
             ],
             [
              0.4444444444444444,
              "#bd3786"
             ],
             [
              0.5555555555555556,
              "#d8576b"
             ],
             [
              0.6666666666666666,
              "#ed7953"
             ],
             [
              0.7777777777777778,
              "#fb9f3a"
             ],
             [
              0.8888888888888888,
              "#fdca26"
             ],
             [
              1,
              "#f0f921"
             ]
            ],
            "type": "histogram2dcontour"
           }
          ],
          "mesh3d": [
           {
            "colorbar": {
             "outlinewidth": 0,
             "ticks": ""
            },
            "type": "mesh3d"
           }
          ],
          "parcoords": [
           {
            "line": {
             "colorbar": {
              "outlinewidth": 0,
              "ticks": ""
             }
            },
            "type": "parcoords"
           }
          ],
          "pie": [
           {
            "automargin": true,
            "type": "pie"
           }
          ],
          "scatter": [
           {
            "fillpattern": {
             "fillmode": "overlay",
             "size": 10,
             "solidity": 0.2
            },
            "type": "scatter"
           }
          ],
          "scatter3d": [
           {
            "line": {
             "colorbar": {
              "outlinewidth": 0,
              "ticks": ""
             }
            },
            "marker": {
             "colorbar": {
              "outlinewidth": 0,
              "ticks": ""
             }
            },
            "type": "scatter3d"
           }
          ],
          "scattercarpet": [
           {
            "marker": {
             "colorbar": {
              "outlinewidth": 0,
              "ticks": ""
             }
            },
            "type": "scattercarpet"
           }
          ],
          "scattergeo": [
           {
            "marker": {
             "colorbar": {
              "outlinewidth": 0,
              "ticks": ""
             }
            },
            "type": "scattergeo"
           }
          ],
          "scattergl": [
           {
            "marker": {
             "colorbar": {
              "outlinewidth": 0,
              "ticks": ""
             }
            },
            "type": "scattergl"
           }
          ],
          "scattermapbox": [
           {
            "marker": {
             "colorbar": {
              "outlinewidth": 0,
              "ticks": ""
             }
            },
            "type": "scattermapbox"
           }
          ],
          "scatterpolar": [
           {
            "marker": {
             "colorbar": {
              "outlinewidth": 0,
              "ticks": ""
             }
            },
            "type": "scatterpolar"
           }
          ],
          "scatterpolargl": [
           {
            "marker": {
             "colorbar": {
              "outlinewidth": 0,
              "ticks": ""
             }
            },
            "type": "scatterpolargl"
           }
          ],
          "scatterternary": [
           {
            "marker": {
             "colorbar": {
              "outlinewidth": 0,
              "ticks": ""
             }
            },
            "type": "scatterternary"
           }
          ],
          "surface": [
           {
            "colorbar": {
             "outlinewidth": 0,
             "ticks": ""
            },
            "colorscale": [
             [
              0,
              "#0d0887"
             ],
             [
              0.1111111111111111,
              "#46039f"
             ],
             [
              0.2222222222222222,
              "#7201a8"
             ],
             [
              0.3333333333333333,
              "#9c179e"
             ],
             [
              0.4444444444444444,
              "#bd3786"
             ],
             [
              0.5555555555555556,
              "#d8576b"
             ],
             [
              0.6666666666666666,
              "#ed7953"
             ],
             [
              0.7777777777777778,
              "#fb9f3a"
             ],
             [
              0.8888888888888888,
              "#fdca26"
             ],
             [
              1,
              "#f0f921"
             ]
            ],
            "type": "surface"
           }
          ],
          "table": [
           {
            "cells": {
             "fill": {
              "color": "#EBF0F8"
             },
             "line": {
              "color": "white"
             }
            },
            "header": {
             "fill": {
              "color": "#C8D4E3"
             },
             "line": {
              "color": "white"
             }
            },
            "type": "table"
           }
          ]
         },
         "layout": {
          "annotationdefaults": {
           "arrowcolor": "#2a3f5f",
           "arrowhead": 0,
           "arrowwidth": 1
          },
          "autotypenumbers": "strict",
          "coloraxis": {
           "colorbar": {
            "outlinewidth": 0,
            "ticks": ""
           }
          },
          "colorscale": {
           "diverging": [
            [
             0,
             "#8e0152"
            ],
            [
             0.1,
             "#c51b7d"
            ],
            [
             0.2,
             "#de77ae"
            ],
            [
             0.3,
             "#f1b6da"
            ],
            [
             0.4,
             "#fde0ef"
            ],
            [
             0.5,
             "#f7f7f7"
            ],
            [
             0.6,
             "#e6f5d0"
            ],
            [
             0.7,
             "#b8e186"
            ],
            [
             0.8,
             "#7fbc41"
            ],
            [
             0.9,
             "#4d9221"
            ],
            [
             1,
             "#276419"
            ]
           ],
           "sequential": [
            [
             0,
             "#0d0887"
            ],
            [
             0.1111111111111111,
             "#46039f"
            ],
            [
             0.2222222222222222,
             "#7201a8"
            ],
            [
             0.3333333333333333,
             "#9c179e"
            ],
            [
             0.4444444444444444,
             "#bd3786"
            ],
            [
             0.5555555555555556,
             "#d8576b"
            ],
            [
             0.6666666666666666,
             "#ed7953"
            ],
            [
             0.7777777777777778,
             "#fb9f3a"
            ],
            [
             0.8888888888888888,
             "#fdca26"
            ],
            [
             1,
             "#f0f921"
            ]
           ],
           "sequentialminus": [
            [
             0,
             "#0d0887"
            ],
            [
             0.1111111111111111,
             "#46039f"
            ],
            [
             0.2222222222222222,
             "#7201a8"
            ],
            [
             0.3333333333333333,
             "#9c179e"
            ],
            [
             0.4444444444444444,
             "#bd3786"
            ],
            [
             0.5555555555555556,
             "#d8576b"
            ],
            [
             0.6666666666666666,
             "#ed7953"
            ],
            [
             0.7777777777777778,
             "#fb9f3a"
            ],
            [
             0.8888888888888888,
             "#fdca26"
            ],
            [
             1,
             "#f0f921"
            ]
           ]
          },
          "colorway": [
           "#636efa",
           "#EF553B",
           "#00cc96",
           "#ab63fa",
           "#FFA15A",
           "#19d3f3",
           "#FF6692",
           "#B6E880",
           "#FF97FF",
           "#FECB52"
          ],
          "font": {
           "color": "#2a3f5f"
          },
          "geo": {
           "bgcolor": "white",
           "lakecolor": "white",
           "landcolor": "white",
           "showlakes": true,
           "showland": true,
           "subunitcolor": "#C8D4E3"
          },
          "hoverlabel": {
           "align": "left"
          },
          "hovermode": "closest",
          "mapbox": {
           "style": "light"
          },
          "paper_bgcolor": "white",
          "plot_bgcolor": "white",
          "polar": {
           "angularaxis": {
            "gridcolor": "#EBF0F8",
            "linecolor": "#EBF0F8",
            "ticks": ""
           },
           "bgcolor": "white",
           "radialaxis": {
            "gridcolor": "#EBF0F8",
            "linecolor": "#EBF0F8",
            "ticks": ""
           }
          },
          "scene": {
           "xaxis": {
            "backgroundcolor": "white",
            "gridcolor": "#DFE8F3",
            "gridwidth": 2,
            "linecolor": "#EBF0F8",
            "showbackground": true,
            "ticks": "",
            "zerolinecolor": "#EBF0F8"
           },
           "yaxis": {
            "backgroundcolor": "white",
            "gridcolor": "#DFE8F3",
            "gridwidth": 2,
            "linecolor": "#EBF0F8",
            "showbackground": true,
            "ticks": "",
            "zerolinecolor": "#EBF0F8"
           },
           "zaxis": {
            "backgroundcolor": "white",
            "gridcolor": "#DFE8F3",
            "gridwidth": 2,
            "linecolor": "#EBF0F8",
            "showbackground": true,
            "ticks": "",
            "zerolinecolor": "#EBF0F8"
           }
          },
          "shapedefaults": {
           "line": {
            "color": "#2a3f5f"
           }
          },
          "ternary": {
           "aaxis": {
            "gridcolor": "#DFE8F3",
            "linecolor": "#A2B1C6",
            "ticks": ""
           },
           "baxis": {
            "gridcolor": "#DFE8F3",
            "linecolor": "#A2B1C6",
            "ticks": ""
           },
           "bgcolor": "white",
           "caxis": {
            "gridcolor": "#DFE8F3",
            "linecolor": "#A2B1C6",
            "ticks": ""
           }
          },
          "title": {
           "x": 0.05
          },
          "xaxis": {
           "automargin": true,
           "gridcolor": "#EBF0F8",
           "linecolor": "#EBF0F8",
           "ticks": "",
           "title": {
            "standoff": 15
           },
           "zerolinecolor": "#EBF0F8",
           "zerolinewidth": 2
          },
          "yaxis": {
           "automargin": true,
           "gridcolor": "#EBF0F8",
           "linecolor": "#EBF0F8",
           "ticks": "",
           "title": {
            "standoff": 15
           },
           "zerolinecolor": "#EBF0F8",
           "zerolinewidth": 2
          }
         }
        },
        "title": {
         "text": "Davies-Bouldin Index (lower is better)"
        },
        "xaxis": {
         "anchor": "y",
         "domain": [
          0,
          1
         ],
         "title": {
          "text": "Number of clusters"
         }
        },
        "yaxis": {
         "anchor": "x",
         "domain": [
          0,
          1
         ],
         "spikemode": "across",
         "spikesnap": "hovered data",
         "spikethickness": 1,
         "title": {
          "text": "DBI"
         }
        }
       }
      }
     },
     "metadata": {},
     "output_type": "display_data"
    }
   ],
   "source": [
    "fig = px.line(cluster_df, x='Number of clusters', y='DBI', markers=True)\n",
    "fig.layout.title = \"Davies-Bouldin Index (lower is better)\"\n",
    "fig.layout.yaxis.spikesnap = \"hovered data\"\n",
    "fig.layout.yaxis.spikemode = \"across\"\n",
    "fig.layout.yaxis.spikethickness = 1\n",
    "fig"
   ]
  },
  {
   "cell_type": "code",
   "execution_count": 13,
   "id": "7799b4d4",
   "metadata": {},
   "outputs": [
    {
     "data": {
      "application/vnd.plotly.v1+json": {
       "config": {
        "plotlyServerURL": "https://plot.ly"
       },
       "data": [
        {
         "hovertemplate": "Number of clusters=%{x}<br>Silhouette=%{y}<extra></extra>",
         "legendgroup": "",
         "line": {
          "color": "#636efa",
          "dash": "solid"
         },
         "marker": {
          "symbol": "circle"
         },
         "mode": "lines+markers",
         "name": "",
         "orientation": "v",
         "showlegend": false,
         "type": "scatter",
         "x": [
          2,
          3,
          4,
          5,
          6,
          7,
          8,
          9
         ],
         "xaxis": "x",
         "y": [
          0.5918112408459251,
          0.34822996615596097,
          0.4090389918349806,
          0.4141834575253814,
          0.39648429902027915,
          0.397934964855944,
          0.33937570101793857,
          0.369471256077768
         ],
         "yaxis": "y"
        }
       ],
       "layout": {
        "legend": {
         "tracegroupgap": 0
        },
        "margin": {
         "t": 60
        },
        "template": {
         "data": {
          "bar": [
           {
            "error_x": {
             "color": "#2a3f5f"
            },
            "error_y": {
             "color": "#2a3f5f"
            },
            "marker": {
             "line": {
              "color": "white",
              "width": 0.5
             },
             "pattern": {
              "fillmode": "overlay",
              "size": 10,
              "solidity": 0.2
             }
            },
            "type": "bar"
           }
          ],
          "barpolar": [
           {
            "marker": {
             "line": {
              "color": "white",
              "width": 0.5
             },
             "pattern": {
              "fillmode": "overlay",
              "size": 10,
              "solidity": 0.2
             }
            },
            "type": "barpolar"
           }
          ],
          "carpet": [
           {
            "aaxis": {
             "endlinecolor": "#2a3f5f",
             "gridcolor": "#C8D4E3",
             "linecolor": "#C8D4E3",
             "minorgridcolor": "#C8D4E3",
             "startlinecolor": "#2a3f5f"
            },
            "baxis": {
             "endlinecolor": "#2a3f5f",
             "gridcolor": "#C8D4E3",
             "linecolor": "#C8D4E3",
             "minorgridcolor": "#C8D4E3",
             "startlinecolor": "#2a3f5f"
            },
            "type": "carpet"
           }
          ],
          "choropleth": [
           {
            "colorbar": {
             "outlinewidth": 0,
             "ticks": ""
            },
            "type": "choropleth"
           }
          ],
          "contour": [
           {
            "colorbar": {
             "outlinewidth": 0,
             "ticks": ""
            },
            "colorscale": [
             [
              0,
              "#0d0887"
             ],
             [
              0.1111111111111111,
              "#46039f"
             ],
             [
              0.2222222222222222,
              "#7201a8"
             ],
             [
              0.3333333333333333,
              "#9c179e"
             ],
             [
              0.4444444444444444,
              "#bd3786"
             ],
             [
              0.5555555555555556,
              "#d8576b"
             ],
             [
              0.6666666666666666,
              "#ed7953"
             ],
             [
              0.7777777777777778,
              "#fb9f3a"
             ],
             [
              0.8888888888888888,
              "#fdca26"
             ],
             [
              1,
              "#f0f921"
             ]
            ],
            "type": "contour"
           }
          ],
          "contourcarpet": [
           {
            "colorbar": {
             "outlinewidth": 0,
             "ticks": ""
            },
            "type": "contourcarpet"
           }
          ],
          "heatmap": [
           {
            "colorbar": {
             "outlinewidth": 0,
             "ticks": ""
            },
            "colorscale": [
             [
              0,
              "#0d0887"
             ],
             [
              0.1111111111111111,
              "#46039f"
             ],
             [
              0.2222222222222222,
              "#7201a8"
             ],
             [
              0.3333333333333333,
              "#9c179e"
             ],
             [
              0.4444444444444444,
              "#bd3786"
             ],
             [
              0.5555555555555556,
              "#d8576b"
             ],
             [
              0.6666666666666666,
              "#ed7953"
             ],
             [
              0.7777777777777778,
              "#fb9f3a"
             ],
             [
              0.8888888888888888,
              "#fdca26"
             ],
             [
              1,
              "#f0f921"
             ]
            ],
            "type": "heatmap"
           }
          ],
          "heatmapgl": [
           {
            "colorbar": {
             "outlinewidth": 0,
             "ticks": ""
            },
            "colorscale": [
             [
              0,
              "#0d0887"
             ],
             [
              0.1111111111111111,
              "#46039f"
             ],
             [
              0.2222222222222222,
              "#7201a8"
             ],
             [
              0.3333333333333333,
              "#9c179e"
             ],
             [
              0.4444444444444444,
              "#bd3786"
             ],
             [
              0.5555555555555556,
              "#d8576b"
             ],
             [
              0.6666666666666666,
              "#ed7953"
             ],
             [
              0.7777777777777778,
              "#fb9f3a"
             ],
             [
              0.8888888888888888,
              "#fdca26"
             ],
             [
              1,
              "#f0f921"
             ]
            ],
            "type": "heatmapgl"
           }
          ],
          "histogram": [
           {
            "marker": {
             "pattern": {
              "fillmode": "overlay",
              "size": 10,
              "solidity": 0.2
             }
            },
            "type": "histogram"
           }
          ],
          "histogram2d": [
           {
            "colorbar": {
             "outlinewidth": 0,
             "ticks": ""
            },
            "colorscale": [
             [
              0,
              "#0d0887"
             ],
             [
              0.1111111111111111,
              "#46039f"
             ],
             [
              0.2222222222222222,
              "#7201a8"
             ],
             [
              0.3333333333333333,
              "#9c179e"
             ],
             [
              0.4444444444444444,
              "#bd3786"
             ],
             [
              0.5555555555555556,
              "#d8576b"
             ],
             [
              0.6666666666666666,
              "#ed7953"
             ],
             [
              0.7777777777777778,
              "#fb9f3a"
             ],
             [
              0.8888888888888888,
              "#fdca26"
             ],
             [
              1,
              "#f0f921"
             ]
            ],
            "type": "histogram2d"
           }
          ],
          "histogram2dcontour": [
           {
            "colorbar": {
             "outlinewidth": 0,
             "ticks": ""
            },
            "colorscale": [
             [
              0,
              "#0d0887"
             ],
             [
              0.1111111111111111,
              "#46039f"
             ],
             [
              0.2222222222222222,
              "#7201a8"
             ],
             [
              0.3333333333333333,
              "#9c179e"
             ],
             [
              0.4444444444444444,
              "#bd3786"
             ],
             [
              0.5555555555555556,
              "#d8576b"
             ],
             [
              0.6666666666666666,
              "#ed7953"
             ],
             [
              0.7777777777777778,
              "#fb9f3a"
             ],
             [
              0.8888888888888888,
              "#fdca26"
             ],
             [
              1,
              "#f0f921"
             ]
            ],
            "type": "histogram2dcontour"
           }
          ],
          "mesh3d": [
           {
            "colorbar": {
             "outlinewidth": 0,
             "ticks": ""
            },
            "type": "mesh3d"
           }
          ],
          "parcoords": [
           {
            "line": {
             "colorbar": {
              "outlinewidth": 0,
              "ticks": ""
             }
            },
            "type": "parcoords"
           }
          ],
          "pie": [
           {
            "automargin": true,
            "type": "pie"
           }
          ],
          "scatter": [
           {
            "fillpattern": {
             "fillmode": "overlay",
             "size": 10,
             "solidity": 0.2
            },
            "type": "scatter"
           }
          ],
          "scatter3d": [
           {
            "line": {
             "colorbar": {
              "outlinewidth": 0,
              "ticks": ""
             }
            },
            "marker": {
             "colorbar": {
              "outlinewidth": 0,
              "ticks": ""
             }
            },
            "type": "scatter3d"
           }
          ],
          "scattercarpet": [
           {
            "marker": {
             "colorbar": {
              "outlinewidth": 0,
              "ticks": ""
             }
            },
            "type": "scattercarpet"
           }
          ],
          "scattergeo": [
           {
            "marker": {
             "colorbar": {
              "outlinewidth": 0,
              "ticks": ""
             }
            },
            "type": "scattergeo"
           }
          ],
          "scattergl": [
           {
            "marker": {
             "colorbar": {
              "outlinewidth": 0,
              "ticks": ""
             }
            },
            "type": "scattergl"
           }
          ],
          "scattermapbox": [
           {
            "marker": {
             "colorbar": {
              "outlinewidth": 0,
              "ticks": ""
             }
            },
            "type": "scattermapbox"
           }
          ],
          "scatterpolar": [
           {
            "marker": {
             "colorbar": {
              "outlinewidth": 0,
              "ticks": ""
             }
            },
            "type": "scatterpolar"
           }
          ],
          "scatterpolargl": [
           {
            "marker": {
             "colorbar": {
              "outlinewidth": 0,
              "ticks": ""
             }
            },
            "type": "scatterpolargl"
           }
          ],
          "scatterternary": [
           {
            "marker": {
             "colorbar": {
              "outlinewidth": 0,
              "ticks": ""
             }
            },
            "type": "scatterternary"
           }
          ],
          "surface": [
           {
            "colorbar": {
             "outlinewidth": 0,
             "ticks": ""
            },
            "colorscale": [
             [
              0,
              "#0d0887"
             ],
             [
              0.1111111111111111,
              "#46039f"
             ],
             [
              0.2222222222222222,
              "#7201a8"
             ],
             [
              0.3333333333333333,
              "#9c179e"
             ],
             [
              0.4444444444444444,
              "#bd3786"
             ],
             [
              0.5555555555555556,
              "#d8576b"
             ],
             [
              0.6666666666666666,
              "#ed7953"
             ],
             [
              0.7777777777777778,
              "#fb9f3a"
             ],
             [
              0.8888888888888888,
              "#fdca26"
             ],
             [
              1,
              "#f0f921"
             ]
            ],
            "type": "surface"
           }
          ],
          "table": [
           {
            "cells": {
             "fill": {
              "color": "#EBF0F8"
             },
             "line": {
              "color": "white"
             }
            },
            "header": {
             "fill": {
              "color": "#C8D4E3"
             },
             "line": {
              "color": "white"
             }
            },
            "type": "table"
           }
          ]
         },
         "layout": {
          "annotationdefaults": {
           "arrowcolor": "#2a3f5f",
           "arrowhead": 0,
           "arrowwidth": 1
          },
          "autotypenumbers": "strict",
          "coloraxis": {
           "colorbar": {
            "outlinewidth": 0,
            "ticks": ""
           }
          },
          "colorscale": {
           "diverging": [
            [
             0,
             "#8e0152"
            ],
            [
             0.1,
             "#c51b7d"
            ],
            [
             0.2,
             "#de77ae"
            ],
            [
             0.3,
             "#f1b6da"
            ],
            [
             0.4,
             "#fde0ef"
            ],
            [
             0.5,
             "#f7f7f7"
            ],
            [
             0.6,
             "#e6f5d0"
            ],
            [
             0.7,
             "#b8e186"
            ],
            [
             0.8,
             "#7fbc41"
            ],
            [
             0.9,
             "#4d9221"
            ],
            [
             1,
             "#276419"
            ]
           ],
           "sequential": [
            [
             0,
             "#0d0887"
            ],
            [
             0.1111111111111111,
             "#46039f"
            ],
            [
             0.2222222222222222,
             "#7201a8"
            ],
            [
             0.3333333333333333,
             "#9c179e"
            ],
            [
             0.4444444444444444,
             "#bd3786"
            ],
            [
             0.5555555555555556,
             "#d8576b"
            ],
            [
             0.6666666666666666,
             "#ed7953"
            ],
            [
             0.7777777777777778,
             "#fb9f3a"
            ],
            [
             0.8888888888888888,
             "#fdca26"
            ],
            [
             1,
             "#f0f921"
            ]
           ],
           "sequentialminus": [
            [
             0,
             "#0d0887"
            ],
            [
             0.1111111111111111,
             "#46039f"
            ],
            [
             0.2222222222222222,
             "#7201a8"
            ],
            [
             0.3333333333333333,
             "#9c179e"
            ],
            [
             0.4444444444444444,
             "#bd3786"
            ],
            [
             0.5555555555555556,
             "#d8576b"
            ],
            [
             0.6666666666666666,
             "#ed7953"
            ],
            [
             0.7777777777777778,
             "#fb9f3a"
            ],
            [
             0.8888888888888888,
             "#fdca26"
            ],
            [
             1,
             "#f0f921"
            ]
           ]
          },
          "colorway": [
           "#636efa",
           "#EF553B",
           "#00cc96",
           "#ab63fa",
           "#FFA15A",
           "#19d3f3",
           "#FF6692",
           "#B6E880",
           "#FF97FF",
           "#FECB52"
          ],
          "font": {
           "color": "#2a3f5f"
          },
          "geo": {
           "bgcolor": "white",
           "lakecolor": "white",
           "landcolor": "white",
           "showlakes": true,
           "showland": true,
           "subunitcolor": "#C8D4E3"
          },
          "hoverlabel": {
           "align": "left"
          },
          "hovermode": "closest",
          "mapbox": {
           "style": "light"
          },
          "paper_bgcolor": "white",
          "plot_bgcolor": "white",
          "polar": {
           "angularaxis": {
            "gridcolor": "#EBF0F8",
            "linecolor": "#EBF0F8",
            "ticks": ""
           },
           "bgcolor": "white",
           "radialaxis": {
            "gridcolor": "#EBF0F8",
            "linecolor": "#EBF0F8",
            "ticks": ""
           }
          },
          "scene": {
           "xaxis": {
            "backgroundcolor": "white",
            "gridcolor": "#DFE8F3",
            "gridwidth": 2,
            "linecolor": "#EBF0F8",
            "showbackground": true,
            "ticks": "",
            "zerolinecolor": "#EBF0F8"
           },
           "yaxis": {
            "backgroundcolor": "white",
            "gridcolor": "#DFE8F3",
            "gridwidth": 2,
            "linecolor": "#EBF0F8",
            "showbackground": true,
            "ticks": "",
            "zerolinecolor": "#EBF0F8"
           },
           "zaxis": {
            "backgroundcolor": "white",
            "gridcolor": "#DFE8F3",
            "gridwidth": 2,
            "linecolor": "#EBF0F8",
            "showbackground": true,
            "ticks": "",
            "zerolinecolor": "#EBF0F8"
           }
          },
          "shapedefaults": {
           "line": {
            "color": "#2a3f5f"
           }
          },
          "ternary": {
           "aaxis": {
            "gridcolor": "#DFE8F3",
            "linecolor": "#A2B1C6",
            "ticks": ""
           },
           "baxis": {
            "gridcolor": "#DFE8F3",
            "linecolor": "#A2B1C6",
            "ticks": ""
           },
           "bgcolor": "white",
           "caxis": {
            "gridcolor": "#DFE8F3",
            "linecolor": "#A2B1C6",
            "ticks": ""
           }
          },
          "title": {
           "x": 0.05
          },
          "xaxis": {
           "automargin": true,
           "gridcolor": "#EBF0F8",
           "linecolor": "#EBF0F8",
           "ticks": "",
           "title": {
            "standoff": 15
           },
           "zerolinecolor": "#EBF0F8",
           "zerolinewidth": 2
          },
          "yaxis": {
           "automargin": true,
           "gridcolor": "#EBF0F8",
           "linecolor": "#EBF0F8",
           "ticks": "",
           "title": {
            "standoff": 15
           },
           "zerolinecolor": "#EBF0F8",
           "zerolinewidth": 2
          }
         }
        },
        "title": {
         "text": "Silhouette score (higher is better)"
        },
        "xaxis": {
         "anchor": "y",
         "domain": [
          0,
          1
         ],
         "title": {
          "text": "Number of clusters"
         }
        },
        "yaxis": {
         "anchor": "x",
         "domain": [
          0,
          1
         ],
         "spikemode": "across",
         "spikesnap": "hovered data",
         "spikethickness": 1,
         "title": {
          "text": "Silhouette"
         }
        }
       }
      }
     },
     "metadata": {},
     "output_type": "display_data"
    }
   ],
   "source": [
    "fig = px.line(cluster_df, x='Number of clusters', y='Silhouette', markers=True)\n",
    "fig.layout.title = \"Silhouette score (higher is better)\"\n",
    "fig.layout.yaxis.spikesnap = \"hovered data\"\n",
    "fig.layout.yaxis.spikemode = \"across\"\n",
    "fig.layout.yaxis.spikethickness = 1\n",
    "show_figure(fig)"
   ]
  },
  {
   "cell_type": "code",
   "execution_count": 14,
   "id": "035b20c8",
   "metadata": {},
   "outputs": [
    {
     "data": {
      "application/vnd.plotly.v1+json": {
       "config": {
        "plotlyServerURL": "https://plot.ly"
       },
       "data": [
        {
         "hoverinfo": "text",
         "marker": {
          "color": "rgb(61,153,112)"
         },
         "mode": "lines",
         "type": "scatter",
         "x": [
          15,
          15,
          25,
          25
         ],
         "xaxis": "x",
         "y": [
          0,
          0.13817420606093334,
          0.13817420606093334,
          0
         ],
         "yaxis": "y"
        },
        {
         "hoverinfo": "text",
         "marker": {
          "color": "rgb(0,116,217)"
         },
         "mode": "lines",
         "type": "scatter",
         "x": [
          5,
          5,
          20,
          20
         ],
         "xaxis": "x",
         "y": [
          0,
          0.3339522978592803,
          0.3339522978592803,
          0.13817420606093334
         ],
         "yaxis": "y"
        },
        {
         "hoverinfo": "text",
         "marker": {
          "color": "rgb(255,65,54)"
         },
         "mode": "lines",
         "type": "scatter",
         "x": [
          75,
          75,
          85,
          85
         ],
         "xaxis": "x",
         "y": [
          0,
          0.017564842737209884,
          0.017564842737209884,
          0
         ],
         "yaxis": "y"
        },
        {
         "hoverinfo": "text",
         "marker": {
          "color": "rgb(255,65,54)"
         },
         "mode": "lines",
         "type": "scatter",
         "x": [
          65,
          65,
          80,
          80
         ],
         "xaxis": "x",
         "y": [
          0,
          0.02369826081333206,
          0.02369826081333206,
          0.017564842737209884
         ],
         "yaxis": "y"
        },
        {
         "hoverinfo": "text",
         "marker": {
          "color": "rgb(255,65,54)"
         },
         "mode": "lines",
         "type": "scatter",
         "x": [
          55,
          55,
          72.5,
          72.5
         ],
         "xaxis": "x",
         "y": [
          0,
          0.03736051549811266,
          0.03736051549811266,
          0.02369826081333206
         ],
         "yaxis": "y"
        },
        {
         "hoverinfo": "text",
         "marker": {
          "color": "rgb(255,65,54)"
         },
         "mode": "lines",
         "type": "scatter",
         "x": [
          45,
          45,
          63.75,
          63.75
         ],
         "xaxis": "x",
         "y": [
          0,
          0.06778179582771914,
          0.06778179582771914,
          0.03736051549811266
         ],
         "yaxis": "y"
        },
        {
         "hoverinfo": "text",
         "marker": {
          "color": "rgb(255,65,54)"
         },
         "mode": "lines",
         "type": "scatter",
         "x": [
          95,
          95,
          105,
          105
         ],
         "xaxis": "x",
         "y": [
          0,
          0.022672322117176097,
          0.022672322117176097,
          0
         ],
         "yaxis": "y"
        },
        {
         "hoverinfo": "text",
         "marker": {
          "color": "rgb(255,65,54)"
         },
         "mode": "lines",
         "type": "scatter",
         "x": [
          115,
          115,
          125,
          125
         ],
         "xaxis": "x",
         "y": [
          0,
          0.02978199381099517,
          0.02978199381099517,
          0
         ],
         "yaxis": "y"
        },
        {
         "hoverinfo": "text",
         "marker": {
          "color": "rgb(255,65,54)"
         },
         "mode": "lines",
         "type": "scatter",
         "x": [
          155,
          155,
          165,
          165
         ],
         "xaxis": "x",
         "y": [
          0,
          0.007042838130988983,
          0.007042838130988983,
          0
         ],
         "yaxis": "y"
        },
        {
         "hoverinfo": "text",
         "marker": {
          "color": "rgb(255,65,54)"
         },
         "mode": "lines",
         "type": "scatter",
         "x": [
          145,
          145,
          160,
          160
         ],
         "xaxis": "x",
         "y": [
          0,
          0.015879277482220202,
          0.015879277482220202,
          0.007042838130988983
         ],
         "yaxis": "y"
        },
        {
         "hoverinfo": "text",
         "marker": {
          "color": "rgb(255,65,54)"
         },
         "mode": "lines",
         "type": "scatter",
         "x": [
          135,
          135,
          152.5,
          152.5
         ],
         "xaxis": "x",
         "y": [
          0,
          0.02238532538850815,
          0.02238532538850815,
          0.015879277482220202
         ],
         "yaxis": "y"
        },
        {
         "hoverinfo": "text",
         "marker": {
          "color": "rgb(255,65,54)"
         },
         "mode": "lines",
         "type": "scatter",
         "x": [
          175,
          175,
          185,
          185
         ],
         "xaxis": "x",
         "y": [
          0,
          0.014593378155589283,
          0.014593378155589283,
          0
         ],
         "yaxis": "y"
        },
        {
         "hoverinfo": "text",
         "marker": {
          "color": "rgb(255,65,54)"
         },
         "mode": "lines",
         "type": "scatter",
         "x": [
          195,
          195,
          205,
          205
         ],
         "xaxis": "x",
         "y": [
          0,
          0.011579737050634226,
          0.011579737050634226,
          0
         ],
         "yaxis": "y"
        },
        {
         "hoverinfo": "text",
         "marker": {
          "color": "rgb(255,65,54)"
         },
         "mode": "lines",
         "type": "scatter",
         "x": [
          215,
          215,
          225,
          225
         ],
         "xaxis": "x",
         "y": [
          0,
          0.01664679966775388,
          0.01664679966775388,
          0
         ],
         "yaxis": "y"
        },
        {
         "hoverinfo": "text",
         "marker": {
          "color": "rgb(255,65,54)"
         },
         "mode": "lines",
         "type": "scatter",
         "x": [
          200,
          200,
          220,
          220
         ],
         "xaxis": "x",
         "y": [
          0.011579737050634226,
          0.020296905165004646,
          0.020296905165004646,
          0.01664679966775388
         ],
         "yaxis": "y"
        },
        {
         "hoverinfo": "text",
         "marker": {
          "color": "rgb(255,65,54)"
         },
         "mode": "lines",
         "type": "scatter",
         "x": [
          180,
          180,
          210,
          210
         ],
         "xaxis": "x",
         "y": [
          0.014593378155589283,
          0.03416878457615656,
          0.03416878457615656,
          0.020296905165004646
         ],
         "yaxis": "y"
        },
        {
         "hoverinfo": "text",
         "marker": {
          "color": "rgb(255,65,54)"
         },
         "mode": "lines",
         "type": "scatter",
         "x": [
          143.75,
          143.75,
          195,
          195
         ],
         "xaxis": "x",
         "y": [
          0.02238532538850815,
          0.05708865986433218,
          0.05708865986433218,
          0.03416878457615656
         ],
         "yaxis": "y"
        },
        {
         "hoverinfo": "text",
         "marker": {
          "color": "rgb(255,65,54)"
         },
         "mode": "lines",
         "type": "scatter",
         "x": [
          120,
          120,
          169.375,
          169.375
         ],
         "xaxis": "x",
         "y": [
          0.02978199381099517,
          0.07284130178499006,
          0.07284130178499006,
          0.05708865986433218
         ],
         "yaxis": "y"
        },
        {
         "hoverinfo": "text",
         "marker": {
          "color": "rgb(255,65,54)"
         },
         "mode": "lines",
         "type": "scatter",
         "x": [
          100,
          100,
          144.6875,
          144.6875
         ],
         "xaxis": "x",
         "y": [
          0.022672322117176097,
          0.09057905005852204,
          0.09057905005852204,
          0.07284130178499006
         ],
         "yaxis": "y"
        },
        {
         "hoverinfo": "text",
         "marker": {
          "color": "rgb(255,65,54)"
         },
         "mode": "lines",
         "type": "scatter",
         "x": [
          54.375,
          54.375,
          122.34375,
          122.34375
         ],
         "xaxis": "x",
         "y": [
          0.06778179582771914,
          0.11415743224911035,
          0.11415743224911035,
          0.09057905005852204
         ],
         "yaxis": "y"
        },
        {
         "hoverinfo": "text",
         "marker": {
          "color": "rgb(255,65,54)"
         },
         "mode": "lines",
         "type": "scatter",
         "x": [
          35,
          35,
          88.359375,
          88.359375
         ],
         "xaxis": "x",
         "y": [
          0,
          0.22054636441610126,
          0.22054636441610126,
          0.11415743224911035
         ],
         "yaxis": "y"
        },
        {
         "hoverinfo": "text",
         "marker": {
          "color": "rgb(35,205,205)"
         },
         "mode": "lines",
         "type": "scatter",
         "x": [
          265,
          265,
          275,
          275
         ],
         "xaxis": "x",
         "y": [
          0,
          0.01162942520907174,
          0.01162942520907174,
          0
         ],
         "yaxis": "y"
        },
        {
         "hoverinfo": "text",
         "marker": {
          "color": "rgb(35,205,205)"
         },
         "mode": "lines",
         "type": "scatter",
         "x": [
          255,
          255,
          270,
          270
         ],
         "xaxis": "x",
         "y": [
          0,
          0.029625890341770073,
          0.029625890341770073,
          0.01162942520907174
         ],
         "yaxis": "y"
        },
        {
         "hoverinfo": "text",
         "marker": {
          "color": "rgb(35,205,205)"
         },
         "mode": "lines",
         "type": "scatter",
         "x": [
          245,
          245,
          262.5,
          262.5
         ],
         "xaxis": "x",
         "y": [
          0,
          0.038421381416264944,
          0.038421381416264944,
          0.029625890341770073
         ],
         "yaxis": "y"
        },
        {
         "hoverinfo": "text",
         "marker": {
          "color": "rgb(35,205,205)"
         },
         "mode": "lines",
         "type": "scatter",
         "x": [
          235,
          235,
          253.75,
          253.75
         ],
         "xaxis": "x",
         "y": [
          0,
          0.10137019459317115,
          0.10137019459317115,
          0.038421381416264944
         ],
         "yaxis": "y"
        },
        {
         "hoverinfo": "text",
         "marker": {
          "color": "rgb(35,205,205)"
         },
         "mode": "lines",
         "type": "scatter",
         "x": [
          285,
          285,
          295,
          295
         ],
         "xaxis": "x",
         "y": [
          0,
          0.011194291580490469,
          0.011194291580490469,
          0
         ],
         "yaxis": "y"
        },
        {
         "hoverinfo": "text",
         "marker": {
          "color": "rgb(35,205,205)"
         },
         "mode": "lines",
         "type": "scatter",
         "x": [
          305,
          305,
          315,
          315
         ],
         "xaxis": "x",
         "y": [
          0,
          0.011836931144078517,
          0.011836931144078517,
          0
         ],
         "yaxis": "y"
        },
        {
         "hoverinfo": "text",
         "marker": {
          "color": "rgb(35,205,205)"
         },
         "mode": "lines",
         "type": "scatter",
         "x": [
          325,
          325,
          335,
          335
         ],
         "xaxis": "x",
         "y": [
          0,
          0.02024104409294218,
          0.02024104409294218,
          0
         ],
         "yaxis": "y"
        },
        {
         "hoverinfo": "text",
         "marker": {
          "color": "rgb(35,205,205)"
         },
         "mode": "lines",
         "type": "scatter",
         "x": [
          310,
          310,
          330,
          330
         ],
         "xaxis": "x",
         "y": [
          0.011836931144078517,
          0.03675402795683461,
          0.03675402795683461,
          0.02024104409294218
         ],
         "yaxis": "y"
        },
        {
         "hoverinfo": "text",
         "marker": {
          "color": "rgb(35,205,205)"
         },
         "mode": "lines",
         "type": "scatter",
         "x": [
          290,
          290,
          320,
          320
         ],
         "xaxis": "x",
         "y": [
          0.011194291580490469,
          0.039401279796103764,
          0.039401279796103764,
          0.03675402795683461
         ],
         "yaxis": "y"
        },
        {
         "hoverinfo": "text",
         "marker": {
          "color": "rgb(35,205,205)"
         },
         "mode": "lines",
         "type": "scatter",
         "x": [
          355,
          355,
          365,
          365
         ],
         "xaxis": "x",
         "y": [
          0,
          0.014015382695625522,
          0.014015382695625522,
          0
         ],
         "yaxis": "y"
        },
        {
         "hoverinfo": "text",
         "marker": {
          "color": "rgb(35,205,205)"
         },
         "mode": "lines",
         "type": "scatter",
         "x": [
          375,
          375,
          385,
          385
         ],
         "xaxis": "x",
         "y": [
          0,
          0.019719085815374997,
          0.019719085815374997,
          0
         ],
         "yaxis": "y"
        },
        {
         "hoverinfo": "text",
         "marker": {
          "color": "rgb(35,205,205)"
         },
         "mode": "lines",
         "type": "scatter",
         "x": [
          360,
          360,
          380,
          380
         ],
         "xaxis": "x",
         "y": [
          0.014015382695625522,
          0.02811481124793213,
          0.02811481124793213,
          0.019719085815374997
         ],
         "yaxis": "y"
        },
        {
         "hoverinfo": "text",
         "marker": {
          "color": "rgb(35,205,205)"
         },
         "mode": "lines",
         "type": "scatter",
         "x": [
          345,
          345,
          370,
          370
         ],
         "xaxis": "x",
         "y": [
          0,
          0.056190933296398134,
          0.056190933296398134,
          0.02811481124793213
         ],
         "yaxis": "y"
        },
        {
         "hoverinfo": "text",
         "marker": {
          "color": "rgb(35,205,205)"
         },
         "mode": "lines",
         "type": "scatter",
         "x": [
          305,
          305,
          357.5,
          357.5
         ],
         "xaxis": "x",
         "y": [
          0.039401279796103764,
          0.0863356426749231,
          0.0863356426749231,
          0.056190933296398134
         ],
         "yaxis": "y"
        },
        {
         "hoverinfo": "text",
         "marker": {
          "color": "rgb(35,205,205)"
         },
         "mode": "lines",
         "type": "scatter",
         "x": [
          395,
          395,
          405,
          405
         ],
         "xaxis": "x",
         "y": [
          0,
          0.05751624733552425,
          0.05751624733552425,
          0
         ],
         "yaxis": "y"
        },
        {
         "hoverinfo": "text",
         "marker": {
          "color": "rgb(35,205,205)"
         },
         "mode": "lines",
         "type": "scatter",
         "x": [
          435,
          435,
          445,
          445
         ],
         "xaxis": "x",
         "y": [
          0,
          0.019463079678268713,
          0.019463079678268713,
          0
         ],
         "yaxis": "y"
        },
        {
         "hoverinfo": "text",
         "marker": {
          "color": "rgb(35,205,205)"
         },
         "mode": "lines",
         "type": "scatter",
         "x": [
          425,
          425,
          440,
          440
         ],
         "xaxis": "x",
         "y": [
          0,
          0.036380918611453684,
          0.036380918611453684,
          0.019463079678268713
         ],
         "yaxis": "y"
        },
        {
         "hoverinfo": "text",
         "marker": {
          "color": "rgb(35,205,205)"
         },
         "mode": "lines",
         "type": "scatter",
         "x": [
          415,
          415,
          432.5,
          432.5
         ],
         "xaxis": "x",
         "y": [
          0,
          0.07854060881088135,
          0.07854060881088135,
          0.036380918611453684
         ],
         "yaxis": "y"
        },
        {
         "hoverinfo": "text",
         "marker": {
          "color": "rgb(35,205,205)"
         },
         "mode": "lines",
         "type": "scatter",
         "x": [
          400,
          400,
          423.75,
          423.75
         ],
         "xaxis": "x",
         "y": [
          0.05751624733552425,
          0.09602576443158395,
          0.09602576443158395,
          0.07854060881088135
         ],
         "yaxis": "y"
        },
        {
         "hoverinfo": "text",
         "marker": {
          "color": "rgb(35,205,205)"
         },
         "mode": "lines",
         "type": "scatter",
         "x": [
          331.25,
          331.25,
          411.875,
          411.875
         ],
         "xaxis": "x",
         "y": [
          0.0863356426749231,
          0.16210651331087123,
          0.16210651331087123,
          0.09602576443158395
         ],
         "yaxis": "y"
        },
        {
         "hoverinfo": "text",
         "marker": {
          "color": "rgb(35,205,205)"
         },
         "mode": "lines",
         "type": "scatter",
         "x": [
          244.375,
          244.375,
          371.5625,
          371.5625
         ],
         "xaxis": "x",
         "y": [
          0.10137019459317115,
          0.21098075358371746,
          0.21098075358371746,
          0.16210651331087123
         ],
         "yaxis": "y"
        },
        {
         "hoverinfo": "text",
         "marker": {
          "color": "rgb(133,20,75)"
         },
         "mode": "lines",
         "type": "scatter",
         "x": [
          465,
          465,
          475,
          475
         ],
         "xaxis": "x",
         "y": [
          0,
          0.06719698768031496,
          0.06719698768031496,
          0
         ],
         "yaxis": "y"
        },
        {
         "hoverinfo": "text",
         "marker": {
          "color": "rgb(133,20,75)"
         },
         "mode": "lines",
         "type": "scatter",
         "x": [
          455,
          455,
          470,
          470
         ],
         "xaxis": "x",
         "y": [
          0,
          0.12532599078570267,
          0.12532599078570267,
          0.06719698768031496
         ],
         "yaxis": "y"
        },
        {
         "hoverinfo": "text",
         "marker": {
          "color": "rgb(133,20,75)"
         },
         "mode": "lines",
         "type": "scatter",
         "x": [
          485,
          485,
          495,
          495
         ],
         "xaxis": "x",
         "y": [
          0,
          0.15363737912456232,
          0.15363737912456232,
          0
         ],
         "yaxis": "y"
        },
        {
         "hoverinfo": "text",
         "marker": {
          "color": "rgb(133,20,75)"
         },
         "mode": "lines",
         "type": "scatter",
         "x": [
          462.5,
          462.5,
          490,
          490
         ],
         "xaxis": "x",
         "y": [
          0.12532599078570267,
          0.22228626678664792,
          0.22228626678664792,
          0.15363737912456232
         ],
         "yaxis": "y"
        },
        {
         "hoverinfo": "text",
         "marker": {
          "color": "rgb(0,116,217)"
         },
         "mode": "lines",
         "type": "scatter",
         "x": [
          307.96875,
          307.96875,
          476.25,
          476.25
         ],
         "xaxis": "x",
         "y": [
          0.21098075358371746,
          0.3480925460749025,
          0.3480925460749025,
          0.22228626678664792
         ],
         "yaxis": "y"
        },
        {
         "hoverinfo": "text",
         "marker": {
          "color": "rgb(0,116,217)"
         },
         "mode": "lines",
         "type": "scatter",
         "x": [
          61.6796875,
          61.6796875,
          392.109375,
          392.109375
         ],
         "xaxis": "x",
         "y": [
          0.22054636441610126,
          0.40509497591796084,
          0.40509497591796084,
          0.3480925460749025
         ],
         "yaxis": "y"
        },
        {
         "hoverinfo": "text",
         "marker": {
          "color": "rgb(0,116,217)"
         },
         "mode": "lines",
         "type": "scatter",
         "x": [
          12.5,
          12.5,
          226.89453125,
          226.89453125
         ],
         "xaxis": "x",
         "y": [
          0.3339522978592803,
          0.5646480489756742,
          0.5646480489756742,
          0.40509497591796084
         ],
         "yaxis": "y"
        }
       ],
       "layout": {
        "autosize": false,
        "height": null,
        "hovermode": "closest",
        "showlegend": false,
        "template": {
         "data": {
          "bar": [
           {
            "error_x": {
             "color": "#2a3f5f"
            },
            "error_y": {
             "color": "#2a3f5f"
            },
            "marker": {
             "line": {
              "color": "white",
              "width": 0.5
             },
             "pattern": {
              "fillmode": "overlay",
              "size": 10,
              "solidity": 0.2
             }
            },
            "type": "bar"
           }
          ],
          "barpolar": [
           {
            "marker": {
             "line": {
              "color": "white",
              "width": 0.5
             },
             "pattern": {
              "fillmode": "overlay",
              "size": 10,
              "solidity": 0.2
             }
            },
            "type": "barpolar"
           }
          ],
          "carpet": [
           {
            "aaxis": {
             "endlinecolor": "#2a3f5f",
             "gridcolor": "#C8D4E3",
             "linecolor": "#C8D4E3",
             "minorgridcolor": "#C8D4E3",
             "startlinecolor": "#2a3f5f"
            },
            "baxis": {
             "endlinecolor": "#2a3f5f",
             "gridcolor": "#C8D4E3",
             "linecolor": "#C8D4E3",
             "minorgridcolor": "#C8D4E3",
             "startlinecolor": "#2a3f5f"
            },
            "type": "carpet"
           }
          ],
          "choropleth": [
           {
            "colorbar": {
             "outlinewidth": 0,
             "ticks": ""
            },
            "type": "choropleth"
           }
          ],
          "contour": [
           {
            "colorbar": {
             "outlinewidth": 0,
             "ticks": ""
            },
            "colorscale": [
             [
              0,
              "#0d0887"
             ],
             [
              0.1111111111111111,
              "#46039f"
             ],
             [
              0.2222222222222222,
              "#7201a8"
             ],
             [
              0.3333333333333333,
              "#9c179e"
             ],
             [
              0.4444444444444444,
              "#bd3786"
             ],
             [
              0.5555555555555556,
              "#d8576b"
             ],
             [
              0.6666666666666666,
              "#ed7953"
             ],
             [
              0.7777777777777778,
              "#fb9f3a"
             ],
             [
              0.8888888888888888,
              "#fdca26"
             ],
             [
              1,
              "#f0f921"
             ]
            ],
            "type": "contour"
           }
          ],
          "contourcarpet": [
           {
            "colorbar": {
             "outlinewidth": 0,
             "ticks": ""
            },
            "type": "contourcarpet"
           }
          ],
          "heatmap": [
           {
            "colorbar": {
             "outlinewidth": 0,
             "ticks": ""
            },
            "colorscale": [
             [
              0,
              "#0d0887"
             ],
             [
              0.1111111111111111,
              "#46039f"
             ],
             [
              0.2222222222222222,
              "#7201a8"
             ],
             [
              0.3333333333333333,
              "#9c179e"
             ],
             [
              0.4444444444444444,
              "#bd3786"
             ],
             [
              0.5555555555555556,
              "#d8576b"
             ],
             [
              0.6666666666666666,
              "#ed7953"
             ],
             [
              0.7777777777777778,
              "#fb9f3a"
             ],
             [
              0.8888888888888888,
              "#fdca26"
             ],
             [
              1,
              "#f0f921"
             ]
            ],
            "type": "heatmap"
           }
          ],
          "heatmapgl": [
           {
            "colorbar": {
             "outlinewidth": 0,
             "ticks": ""
            },
            "colorscale": [
             [
              0,
              "#0d0887"
             ],
             [
              0.1111111111111111,
              "#46039f"
             ],
             [
              0.2222222222222222,
              "#7201a8"
             ],
             [
              0.3333333333333333,
              "#9c179e"
             ],
             [
              0.4444444444444444,
              "#bd3786"
             ],
             [
              0.5555555555555556,
              "#d8576b"
             ],
             [
              0.6666666666666666,
              "#ed7953"
             ],
             [
              0.7777777777777778,
              "#fb9f3a"
             ],
             [
              0.8888888888888888,
              "#fdca26"
             ],
             [
              1,
              "#f0f921"
             ]
            ],
            "type": "heatmapgl"
           }
          ],
          "histogram": [
           {
            "marker": {
             "pattern": {
              "fillmode": "overlay",
              "size": 10,
              "solidity": 0.2
             }
            },
            "type": "histogram"
           }
          ],
          "histogram2d": [
           {
            "colorbar": {
             "outlinewidth": 0,
             "ticks": ""
            },
            "colorscale": [
             [
              0,
              "#0d0887"
             ],
             [
              0.1111111111111111,
              "#46039f"
             ],
             [
              0.2222222222222222,
              "#7201a8"
             ],
             [
              0.3333333333333333,
              "#9c179e"
             ],
             [
              0.4444444444444444,
              "#bd3786"
             ],
             [
              0.5555555555555556,
              "#d8576b"
             ],
             [
              0.6666666666666666,
              "#ed7953"
             ],
             [
              0.7777777777777778,
              "#fb9f3a"
             ],
             [
              0.8888888888888888,
              "#fdca26"
             ],
             [
              1,
              "#f0f921"
             ]
            ],
            "type": "histogram2d"
           }
          ],
          "histogram2dcontour": [
           {
            "colorbar": {
             "outlinewidth": 0,
             "ticks": ""
            },
            "colorscale": [
             [
              0,
              "#0d0887"
             ],
             [
              0.1111111111111111,
              "#46039f"
             ],
             [
              0.2222222222222222,
              "#7201a8"
             ],
             [
              0.3333333333333333,
              "#9c179e"
             ],
             [
              0.4444444444444444,
              "#bd3786"
             ],
             [
              0.5555555555555556,
              "#d8576b"
             ],
             [
              0.6666666666666666,
              "#ed7953"
             ],
             [
              0.7777777777777778,
              "#fb9f3a"
             ],
             [
              0.8888888888888888,
              "#fdca26"
             ],
             [
              1,
              "#f0f921"
             ]
            ],
            "type": "histogram2dcontour"
           }
          ],
          "mesh3d": [
           {
            "colorbar": {
             "outlinewidth": 0,
             "ticks": ""
            },
            "type": "mesh3d"
           }
          ],
          "parcoords": [
           {
            "line": {
             "colorbar": {
              "outlinewidth": 0,
              "ticks": ""
             }
            },
            "type": "parcoords"
           }
          ],
          "pie": [
           {
            "automargin": true,
            "type": "pie"
           }
          ],
          "scatter": [
           {
            "fillpattern": {
             "fillmode": "overlay",
             "size": 10,
             "solidity": 0.2
            },
            "type": "scatter"
           }
          ],
          "scatter3d": [
           {
            "line": {
             "colorbar": {
              "outlinewidth": 0,
              "ticks": ""
             }
            },
            "marker": {
             "colorbar": {
              "outlinewidth": 0,
              "ticks": ""
             }
            },
            "type": "scatter3d"
           }
          ],
          "scattercarpet": [
           {
            "marker": {
             "colorbar": {
              "outlinewidth": 0,
              "ticks": ""
             }
            },
            "type": "scattercarpet"
           }
          ],
          "scattergeo": [
           {
            "marker": {
             "colorbar": {
              "outlinewidth": 0,
              "ticks": ""
             }
            },
            "type": "scattergeo"
           }
          ],
          "scattergl": [
           {
            "marker": {
             "colorbar": {
              "outlinewidth": 0,
              "ticks": ""
             }
            },
            "type": "scattergl"
           }
          ],
          "scattermapbox": [
           {
            "marker": {
             "colorbar": {
              "outlinewidth": 0,
              "ticks": ""
             }
            },
            "type": "scattermapbox"
           }
          ],
          "scatterpolar": [
           {
            "marker": {
             "colorbar": {
              "outlinewidth": 0,
              "ticks": ""
             }
            },
            "type": "scatterpolar"
           }
          ],
          "scatterpolargl": [
           {
            "marker": {
             "colorbar": {
              "outlinewidth": 0,
              "ticks": ""
             }
            },
            "type": "scatterpolargl"
           }
          ],
          "scatterternary": [
           {
            "marker": {
             "colorbar": {
              "outlinewidth": 0,
              "ticks": ""
             }
            },
            "type": "scatterternary"
           }
          ],
          "surface": [
           {
            "colorbar": {
             "outlinewidth": 0,
             "ticks": ""
            },
            "colorscale": [
             [
              0,
              "#0d0887"
             ],
             [
              0.1111111111111111,
              "#46039f"
             ],
             [
              0.2222222222222222,
              "#7201a8"
             ],
             [
              0.3333333333333333,
              "#9c179e"
             ],
             [
              0.4444444444444444,
              "#bd3786"
             ],
             [
              0.5555555555555556,
              "#d8576b"
             ],
             [
              0.6666666666666666,
              "#ed7953"
             ],
             [
              0.7777777777777778,
              "#fb9f3a"
             ],
             [
              0.8888888888888888,
              "#fdca26"
             ],
             [
              1,
              "#f0f921"
             ]
            ],
            "type": "surface"
           }
          ],
          "table": [
           {
            "cells": {
             "fill": {
              "color": "#EBF0F8"
             },
             "line": {
              "color": "white"
             }
            },
            "header": {
             "fill": {
              "color": "#C8D4E3"
             },
             "line": {
              "color": "white"
             }
            },
            "type": "table"
           }
          ]
         },
         "layout": {
          "annotationdefaults": {
           "arrowcolor": "#2a3f5f",
           "arrowhead": 0,
           "arrowwidth": 1
          },
          "autotypenumbers": "strict",
          "coloraxis": {
           "colorbar": {
            "outlinewidth": 0,
            "ticks": ""
           }
          },
          "colorscale": {
           "diverging": [
            [
             0,
             "#8e0152"
            ],
            [
             0.1,
             "#c51b7d"
            ],
            [
             0.2,
             "#de77ae"
            ],
            [
             0.3,
             "#f1b6da"
            ],
            [
             0.4,
             "#fde0ef"
            ],
            [
             0.5,
             "#f7f7f7"
            ],
            [
             0.6,
             "#e6f5d0"
            ],
            [
             0.7,
             "#b8e186"
            ],
            [
             0.8,
             "#7fbc41"
            ],
            [
             0.9,
             "#4d9221"
            ],
            [
             1,
             "#276419"
            ]
           ],
           "sequential": [
            [
             0,
             "#0d0887"
            ],
            [
             0.1111111111111111,
             "#46039f"
            ],
            [
             0.2222222222222222,
             "#7201a8"
            ],
            [
             0.3333333333333333,
             "#9c179e"
            ],
            [
             0.4444444444444444,
             "#bd3786"
            ],
            [
             0.5555555555555556,
             "#d8576b"
            ],
            [
             0.6666666666666666,
             "#ed7953"
            ],
            [
             0.7777777777777778,
             "#fb9f3a"
            ],
            [
             0.8888888888888888,
             "#fdca26"
            ],
            [
             1,
             "#f0f921"
            ]
           ],
           "sequentialminus": [
            [
             0,
             "#0d0887"
            ],
            [
             0.1111111111111111,
             "#46039f"
            ],
            [
             0.2222222222222222,
             "#7201a8"
            ],
            [
             0.3333333333333333,
             "#9c179e"
            ],
            [
             0.4444444444444444,
             "#bd3786"
            ],
            [
             0.5555555555555556,
             "#d8576b"
            ],
            [
             0.6666666666666666,
             "#ed7953"
            ],
            [
             0.7777777777777778,
             "#fb9f3a"
            ],
            [
             0.8888888888888888,
             "#fdca26"
            ],
            [
             1,
             "#f0f921"
            ]
           ]
          },
          "colorway": [
           "#636efa",
           "#EF553B",
           "#00cc96",
           "#ab63fa",
           "#FFA15A",
           "#19d3f3",
           "#FF6692",
           "#B6E880",
           "#FF97FF",
           "#FECB52"
          ],
          "font": {
           "color": "#2a3f5f"
          },
          "geo": {
           "bgcolor": "white",
           "lakecolor": "white",
           "landcolor": "white",
           "showlakes": true,
           "showland": true,
           "subunitcolor": "#C8D4E3"
          },
          "hoverlabel": {
           "align": "left"
          },
          "hovermode": "closest",
          "mapbox": {
           "style": "light"
          },
          "paper_bgcolor": "white",
          "plot_bgcolor": "white",
          "polar": {
           "angularaxis": {
            "gridcolor": "#EBF0F8",
            "linecolor": "#EBF0F8",
            "ticks": ""
           },
           "bgcolor": "white",
           "radialaxis": {
            "gridcolor": "#EBF0F8",
            "linecolor": "#EBF0F8",
            "ticks": ""
           }
          },
          "scene": {
           "xaxis": {
            "backgroundcolor": "white",
            "gridcolor": "#DFE8F3",
            "gridwidth": 2,
            "linecolor": "#EBF0F8",
            "showbackground": true,
            "ticks": "",
            "zerolinecolor": "#EBF0F8"
           },
           "yaxis": {
            "backgroundcolor": "white",
            "gridcolor": "#DFE8F3",
            "gridwidth": 2,
            "linecolor": "#EBF0F8",
            "showbackground": true,
            "ticks": "",
            "zerolinecolor": "#EBF0F8"
           },
           "zaxis": {
            "backgroundcolor": "white",
            "gridcolor": "#DFE8F3",
            "gridwidth": 2,
            "linecolor": "#EBF0F8",
            "showbackground": true,
            "ticks": "",
            "zerolinecolor": "#EBF0F8"
           }
          },
          "shapedefaults": {
           "line": {
            "color": "#2a3f5f"
           }
          },
          "ternary": {
           "aaxis": {
            "gridcolor": "#DFE8F3",
            "linecolor": "#A2B1C6",
            "ticks": ""
           },
           "baxis": {
            "gridcolor": "#DFE8F3",
            "linecolor": "#A2B1C6",
            "ticks": ""
           },
           "bgcolor": "white",
           "caxis": {
            "gridcolor": "#DFE8F3",
            "linecolor": "#A2B1C6",
            "ticks": ""
           }
          },
          "title": {
           "x": 0.05
          },
          "xaxis": {
           "automargin": true,
           "gridcolor": "#EBF0F8",
           "linecolor": "#EBF0F8",
           "ticks": "",
           "title": {
            "standoff": 15
           },
           "zerolinecolor": "#EBF0F8",
           "zerolinewidth": 2
          },
          "yaxis": {
           "automargin": true,
           "gridcolor": "#EBF0F8",
           "linecolor": "#EBF0F8",
           "ticks": "",
           "title": {
            "standoff": 15
           },
           "zerolinecolor": "#EBF0F8",
           "zerolinewidth": 2
          }
         }
        },
        "width": null,
        "xaxis": {
         "mirror": "allticks",
         "rangemode": "tozero",
         "showgrid": false,
         "showline": true,
         "showticklabels": true,
         "tickmode": "array",
         "ticks": "outside",
         "ticktext": [
          [
           9,
           0
          ],
          [
           8,
           1
          ],
          [
           9,
           1
          ],
          [
           0,
           4
          ],
          [
           1,
           4
          ],
          [
           0,
           2
          ],
          [
           0,
           3
          ],
          [
           0,
           1
          ],
          [
           1,
           2
          ],
          [
           0,
           0
          ],
          [
           1,
           0
          ],
          [
           3,
           4
          ],
          [
           4,
           4
          ],
          [
           3,
           3
          ],
          [
           2,
           1
          ],
          [
           3,
           0
          ],
          [
           3,
           2
          ],
          [
           1,
           3
          ],
          [
           2,
           4
          ],
          [
           2,
           2
          ],
          [
           2,
           3
          ],
          [
           1,
           1
          ],
          [
           2,
           0
          ],
          [
           8,
           0
          ],
          [
           7,
           1
          ],
          [
           7,
           0
          ],
          [
           6,
           0
          ],
          [
           6,
           1
          ],
          [
           5,
           0
          ],
          [
           5,
           1
          ],
          [
           4,
           1
          ],
          [
           5,
           2
          ],
          [
           5,
           3
          ],
          [
           6,
           2
          ],
          [
           5,
           4
          ],
          [
           3,
           1
          ],
          [
           4,
           2
          ],
          [
           4,
           0
          ],
          [
           4,
           3
          ],
          [
           7,
           3
          ],
          [
           7,
           4
          ],
          [
           8,
           2
          ],
          [
           7,
           2
          ],
          [
           6,
           3
          ],
          [
           6,
           4
          ],
          [
           9,
           4
          ],
          [
           8,
           3
          ],
          [
           8,
           4
          ],
          [
           9,
           2
          ],
          [
           9,
           3
          ]
         ],
         "tickvals": [
          5,
          15,
          25,
          35,
          45,
          55,
          65,
          75,
          85,
          95,
          105,
          115,
          125,
          135,
          145,
          155,
          165,
          175,
          185,
          195,
          205,
          215,
          225,
          235,
          245,
          255,
          265,
          275,
          285,
          295,
          305,
          315,
          325,
          335,
          345,
          355,
          365,
          375,
          385,
          395,
          405,
          415,
          425,
          435,
          445,
          455,
          465,
          475,
          485,
          495
         ],
         "type": "linear",
         "zeroline": false
        },
        "yaxis": {
         "mirror": "allticks",
         "rangemode": "tozero",
         "showgrid": false,
         "showline": true,
         "showticklabels": true,
         "ticks": "outside",
         "type": "linear",
         "zeroline": false
        }
       }
      }
     },
     "metadata": {},
     "output_type": "display_data"
    }
   ],
   "source": [
    "show_figure(create_dendrogram(\n",
    "    flat_weights,\n",
    "    linkagefun=lambda _: links,\n",
    "    labels=labels,\n",
    "    # NB! The color_threshold must be manually set to a value corresponding to the number of clusters\n",
    "    color_threshold=0.3\n",
    "))"
   ]
  },
  {
   "cell_type": "code",
   "execution_count": 15,
   "id": "406bcf3c",
   "metadata": {},
   "outputs": [],
   "source": [
    "# Optimal number of lables\n",
    "node_labels = selected_cluster['labels'].reshape(final_nx, final_ny)\n",
    "\n",
    "# Sample labels\n",
    "sample_ij = [None] * len(df)\n",
    "sample_label = [-1] * len(df)\n",
    "for key, value in win_map.items():\n",
    "    for ix in value:\n",
    "        sample_ij[ix] = key\n",
    "        sample_label[ix] = node_labels[key]\n",
    "\n",
    "df['ij'] = sample_ij\n",
    "df['cluster_label'] = sample_label\n"
   ]
  },
  {
   "cell_type": "code",
   "execution_count": 16,
   "id": "8147b87f",
   "metadata": {},
   "outputs": [
    {
     "name": "stdout",
     "output_type": "stream",
     "text": [
      "Cluster 1: 2 samples\n",
      "  sample96             sample98           \n",
      "\n",
      "Cluster 2: 1 samples\n",
      "  sample97           \n",
      "\n",
      "Cluster 3: 45 samples\n",
      "  sample12             sample13             sample14             sample15             sample23             sample25           \n",
      "  sample27             sample28             sample29             sample30             sample37             sample38           \n",
      "  sample39             sample41             sample43             sample44             sample45             sample46           \n",
      "  sample47             sample54             sample58             sample60             sample64             sample65           \n",
      "  sample68             sample69             sample70             sample71             sample72             sample73           \n",
      "  sample74             sample75             sample76             sample77             sample78             sample82           \n",
      "  sample83             sample84             sample85             sample86             sample88             sample89           \n",
      "  sample90             sample91             sample93           \n",
      "\n",
      "Cluster 4: 47 samples\n",
      "  sample1              sample2              sample4              sample5              sample6              sample8            \n",
      "  sample10             sample11             sample16             sample17             sample18             sample19           \n",
      "  sample20             sample21             sample22             sample24             sample31             sample32           \n",
      "  sample33             sample34             sample35             sample36             sample40             sample42           \n",
      "  sample48             sample49             sample50             sample51             sample52             sample53           \n",
      "  sample55             sample56             sample57             sample59             sample61             sample62           \n",
      "  sample63             sample66             sample67             sample87             sample92             sample94           \n",
      "  sample95             sample99             sample100            sample101            sample102          \n",
      "\n",
      "Cluster 5: 7 samples\n",
      "  sample3              sample7              sample9              sample26             sample79             sample80           \n",
      "  sample81           \n",
      "\n"
     ]
    }
   ],
   "source": [
    "n_cols = 6\n",
    "for lab, sub_df in df.groupby('cluster_label'):\n",
    "    print(f\"Cluster {lab}: {len(sub_df)} samples\")\n",
    "    for i, s in enumerate(sub_df['Sample']):\n",
    "        print(f\"  {s:19}\", end=\"\")\n",
    "        if i % n_cols == n_cols - 1:\n",
    "            print()\n",
    "    print(\"\\n\")"
   ]
  },
  {
   "cell_type": "code",
   "execution_count": 17,
   "id": "5a17979e",
   "metadata": {},
   "outputs": [
    {
     "data": {
      "text/html": [
       "<h2>Cluster 1</h2>sample96 sample98<table border=\"1\" class=\"dataframe\">\n",
       "  <thead>\n",
       "    <tr style=\"text-align: right;\">\n",
       "      <th></th>\n",
       "      <th>Alpha</th>\n",
       "      <th>Size</th>\n",
       "      <th>pH</th>\n",
       "      <th>Ca</th>\n",
       "      <th>Mg</th>\n",
       "      <th>Na</th>\n",
       "      <th>K</th>\n",
       "      <th>HCO3</th>\n",
       "      <th>CO3</th>\n",
       "      <th>Cl</th>\n",
       "      <th>SO4</th>\n",
       "      <th>TDS</th>\n",
       "      <th>cluster_label</th>\n",
       "    </tr>\n",
       "  </thead>\n",
       "  <tbody>\n",
       "    <tr>\n",
       "      <th>count</th>\n",
       "      <td>2.0</td>\n",
       "      <td>2.0</td>\n",
       "      <td>2.000000</td>\n",
       "      <td>2.000000</td>\n",
       "      <td>2.000000</td>\n",
       "      <td>2.000000</td>\n",
       "      <td>2.0</td>\n",
       "      <td>2.000000</td>\n",
       "      <td>2.0</td>\n",
       "      <td>2.000000</td>\n",
       "      <td>2.0</td>\n",
       "      <td>2.000000</td>\n",
       "      <td>2.0</td>\n",
       "    </tr>\n",
       "    <tr>\n",
       "      <th>mean</th>\n",
       "      <td>0.6</td>\n",
       "      <td>30.0</td>\n",
       "      <td>7.700000</td>\n",
       "      <td>2.800000</td>\n",
       "      <td>2.900000</td>\n",
       "      <td>3.500000</td>\n",
       "      <td>0.4</td>\n",
       "      <td>4.800000</td>\n",
       "      <td>0.0</td>\n",
       "      <td>1.400000</td>\n",
       "      <td>3.4</td>\n",
       "      <td>925.500000</td>\n",
       "      <td>1.0</td>\n",
       "    </tr>\n",
       "    <tr>\n",
       "      <th>std</th>\n",
       "      <td>0.0</td>\n",
       "      <td>0.0</td>\n",
       "      <td>0.282843</td>\n",
       "      <td>1.414214</td>\n",
       "      <td>0.707107</td>\n",
       "      <td>0.424264</td>\n",
       "      <td>0.0</td>\n",
       "      <td>1.131371</td>\n",
       "      <td>0.0</td>\n",
       "      <td>0.565685</td>\n",
       "      <td>0.0</td>\n",
       "      <td>98.287843</td>\n",
       "      <td>0.0</td>\n",
       "    </tr>\n",
       "    <tr>\n",
       "      <th>min</th>\n",
       "      <td>0.6</td>\n",
       "      <td>30.0</td>\n",
       "      <td>7.500000</td>\n",
       "      <td>1.800000</td>\n",
       "      <td>2.400000</td>\n",
       "      <td>3.200000</td>\n",
       "      <td>0.4</td>\n",
       "      <td>4.000000</td>\n",
       "      <td>0.0</td>\n",
       "      <td>1.000000</td>\n",
       "      <td>3.4</td>\n",
       "      <td>856.000000</td>\n",
       "      <td>1.0</td>\n",
       "    </tr>\n",
       "    <tr>\n",
       "      <th>25%</th>\n",
       "      <td>0.6</td>\n",
       "      <td>30.0</td>\n",
       "      <td>7.600000</td>\n",
       "      <td>2.300000</td>\n",
       "      <td>2.650000</td>\n",
       "      <td>3.350000</td>\n",
       "      <td>0.4</td>\n",
       "      <td>4.400000</td>\n",
       "      <td>0.0</td>\n",
       "      <td>1.200000</td>\n",
       "      <td>3.4</td>\n",
       "      <td>890.750000</td>\n",
       "      <td>1.0</td>\n",
       "    </tr>\n",
       "    <tr>\n",
       "      <th>50%</th>\n",
       "      <td>0.6</td>\n",
       "      <td>30.0</td>\n",
       "      <td>7.700000</td>\n",
       "      <td>2.800000</td>\n",
       "      <td>2.900000</td>\n",
       "      <td>3.500000</td>\n",
       "      <td>0.4</td>\n",
       "      <td>4.800000</td>\n",
       "      <td>0.0</td>\n",
       "      <td>1.400000</td>\n",
       "      <td>3.4</td>\n",
       "      <td>925.500000</td>\n",
       "      <td>1.0</td>\n",
       "    </tr>\n",
       "    <tr>\n",
       "      <th>75%</th>\n",
       "      <td>0.6</td>\n",
       "      <td>30.0</td>\n",
       "      <td>7.800000</td>\n",
       "      <td>3.300000</td>\n",
       "      <td>3.150000</td>\n",
       "      <td>3.650000</td>\n",
       "      <td>0.4</td>\n",
       "      <td>5.200000</td>\n",
       "      <td>0.0</td>\n",
       "      <td>1.600000</td>\n",
       "      <td>3.4</td>\n",
       "      <td>960.250000</td>\n",
       "      <td>1.0</td>\n",
       "    </tr>\n",
       "    <tr>\n",
       "      <th>max</th>\n",
       "      <td>0.6</td>\n",
       "      <td>30.0</td>\n",
       "      <td>7.900000</td>\n",
       "      <td>3.800000</td>\n",
       "      <td>3.400000</td>\n",
       "      <td>3.800000</td>\n",
       "      <td>0.4</td>\n",
       "      <td>5.600000</td>\n",
       "      <td>0.0</td>\n",
       "      <td>1.800000</td>\n",
       "      <td>3.4</td>\n",
       "      <td>995.000000</td>\n",
       "      <td>1.0</td>\n",
       "    </tr>\n",
       "  </tbody>\n",
       "</table><h2>Cluster 2</h2>sample97<table border=\"1\" class=\"dataframe\">\n",
       "  <thead>\n",
       "    <tr style=\"text-align: right;\">\n",
       "      <th></th>\n",
       "      <th>Alpha</th>\n",
       "      <th>Size</th>\n",
       "      <th>pH</th>\n",
       "      <th>Ca</th>\n",
       "      <th>Mg</th>\n",
       "      <th>Na</th>\n",
       "      <th>K</th>\n",
       "      <th>HCO3</th>\n",
       "      <th>CO3</th>\n",
       "      <th>Cl</th>\n",
       "      <th>SO4</th>\n",
       "      <th>TDS</th>\n",
       "      <th>cluster_label</th>\n",
       "    </tr>\n",
       "  </thead>\n",
       "  <tbody>\n",
       "    <tr>\n",
       "      <th>count</th>\n",
       "      <td>1.0</td>\n",
       "      <td>1.0</td>\n",
       "      <td>1.0</td>\n",
       "      <td>1.0</td>\n",
       "      <td>1.0</td>\n",
       "      <td>1.0</td>\n",
       "      <td>1.0</td>\n",
       "      <td>1.0</td>\n",
       "      <td>1.0</td>\n",
       "      <td>1.0</td>\n",
       "      <td>1.0</td>\n",
       "      <td>1.0</td>\n",
       "      <td>1.0</td>\n",
       "    </tr>\n",
       "    <tr>\n",
       "      <th>mean</th>\n",
       "      <td>0.6</td>\n",
       "      <td>30.0</td>\n",
       "      <td>7.5</td>\n",
       "      <td>9.0</td>\n",
       "      <td>18.6</td>\n",
       "      <td>0.2</td>\n",
       "      <td>0.0</td>\n",
       "      <td>6.8</td>\n",
       "      <td>0.0</td>\n",
       "      <td>6.2</td>\n",
       "      <td>13.2</td>\n",
       "      <td>1880.0</td>\n",
       "      <td>2.0</td>\n",
       "    </tr>\n",
       "    <tr>\n",
       "      <th>std</th>\n",
       "      <td>NaN</td>\n",
       "      <td>NaN</td>\n",
       "      <td>NaN</td>\n",
       "      <td>NaN</td>\n",
       "      <td>NaN</td>\n",
       "      <td>NaN</td>\n",
       "      <td>NaN</td>\n",
       "      <td>NaN</td>\n",
       "      <td>NaN</td>\n",
       "      <td>NaN</td>\n",
       "      <td>NaN</td>\n",
       "      <td>NaN</td>\n",
       "      <td>NaN</td>\n",
       "    </tr>\n",
       "    <tr>\n",
       "      <th>min</th>\n",
       "      <td>0.6</td>\n",
       "      <td>30.0</td>\n",
       "      <td>7.5</td>\n",
       "      <td>9.0</td>\n",
       "      <td>18.6</td>\n",
       "      <td>0.2</td>\n",
       "      <td>0.0</td>\n",
       "      <td>6.8</td>\n",
       "      <td>0.0</td>\n",
       "      <td>6.2</td>\n",
       "      <td>13.2</td>\n",
       "      <td>1880.0</td>\n",
       "      <td>2.0</td>\n",
       "    </tr>\n",
       "    <tr>\n",
       "      <th>25%</th>\n",
       "      <td>0.6</td>\n",
       "      <td>30.0</td>\n",
       "      <td>7.5</td>\n",
       "      <td>9.0</td>\n",
       "      <td>18.6</td>\n",
       "      <td>0.2</td>\n",
       "      <td>0.0</td>\n",
       "      <td>6.8</td>\n",
       "      <td>0.0</td>\n",
       "      <td>6.2</td>\n",
       "      <td>13.2</td>\n",
       "      <td>1880.0</td>\n",
       "      <td>2.0</td>\n",
       "    </tr>\n",
       "    <tr>\n",
       "      <th>50%</th>\n",
       "      <td>0.6</td>\n",
       "      <td>30.0</td>\n",
       "      <td>7.5</td>\n",
       "      <td>9.0</td>\n",
       "      <td>18.6</td>\n",
       "      <td>0.2</td>\n",
       "      <td>0.0</td>\n",
       "      <td>6.8</td>\n",
       "      <td>0.0</td>\n",
       "      <td>6.2</td>\n",
       "      <td>13.2</td>\n",
       "      <td>1880.0</td>\n",
       "      <td>2.0</td>\n",
       "    </tr>\n",
       "    <tr>\n",
       "      <th>75%</th>\n",
       "      <td>0.6</td>\n",
       "      <td>30.0</td>\n",
       "      <td>7.5</td>\n",
       "      <td>9.0</td>\n",
       "      <td>18.6</td>\n",
       "      <td>0.2</td>\n",
       "      <td>0.0</td>\n",
       "      <td>6.8</td>\n",
       "      <td>0.0</td>\n",
       "      <td>6.2</td>\n",
       "      <td>13.2</td>\n",
       "      <td>1880.0</td>\n",
       "      <td>2.0</td>\n",
       "    </tr>\n",
       "    <tr>\n",
       "      <th>max</th>\n",
       "      <td>0.6</td>\n",
       "      <td>30.0</td>\n",
       "      <td>7.5</td>\n",
       "      <td>9.0</td>\n",
       "      <td>18.6</td>\n",
       "      <td>0.2</td>\n",
       "      <td>0.0</td>\n",
       "      <td>6.8</td>\n",
       "      <td>0.0</td>\n",
       "      <td>6.2</td>\n",
       "      <td>13.2</td>\n",
       "      <td>1880.0</td>\n",
       "      <td>2.0</td>\n",
       "    </tr>\n",
       "  </tbody>\n",
       "</table><h2>Cluster 3</h2>sample12 sample13 sample14 sample15 sample23 sample25 sample27 sample28 sample29 sample30 sample37 sample38 sample39 sample41 sample43 sample44 sample45 sample46 sample47 sample54 sample58 sample60 sample64 sample65 sample68 sample69 sample70 sample71 sample72 sample73 sample74 sample75 sample76 sample77 sample78 sample82 sample83 sample84 sample85 sample86 sample88 sample89 sample90 sample91 sample93<table border=\"1\" class=\"dataframe\">\n",
       "  <thead>\n",
       "    <tr style=\"text-align: right;\">\n",
       "      <th></th>\n",
       "      <th>Alpha</th>\n",
       "      <th>Size</th>\n",
       "      <th>pH</th>\n",
       "      <th>Ca</th>\n",
       "      <th>Mg</th>\n",
       "      <th>Na</th>\n",
       "      <th>K</th>\n",
       "      <th>HCO3</th>\n",
       "      <th>CO3</th>\n",
       "      <th>Cl</th>\n",
       "      <th>SO4</th>\n",
       "      <th>TDS</th>\n",
       "      <th>cluster_label</th>\n",
       "    </tr>\n",
       "  </thead>\n",
       "  <tbody>\n",
       "    <tr>\n",
       "      <th>count</th>\n",
       "      <td>4.500000e+01</td>\n",
       "      <td>45.0</td>\n",
       "      <td>45.000000</td>\n",
       "      <td>45.000000</td>\n",
       "      <td>45.000000</td>\n",
       "      <td>45.000000</td>\n",
       "      <td>45.000000</td>\n",
       "      <td>45.000000</td>\n",
       "      <td>45.0</td>\n",
       "      <td>45.000000</td>\n",
       "      <td>45.000000</td>\n",
       "      <td>45.000000</td>\n",
       "      <td>45.0</td>\n",
       "    </tr>\n",
       "    <tr>\n",
       "      <th>mean</th>\n",
       "      <td>6.000000e-01</td>\n",
       "      <td>30.0</td>\n",
       "      <td>7.720000</td>\n",
       "      <td>9.042222</td>\n",
       "      <td>14.984444</td>\n",
       "      <td>26.437778</td>\n",
       "      <td>2.946667</td>\n",
       "      <td>10.433333</td>\n",
       "      <td>0.0</td>\n",
       "      <td>13.244444</td>\n",
       "      <td>24.897778</td>\n",
       "      <td>3446.600000</td>\n",
       "      <td>3.0</td>\n",
       "    </tr>\n",
       "    <tr>\n",
       "      <th>std</th>\n",
       "      <td>2.245537e-16</td>\n",
       "      <td>0.0</td>\n",
       "      <td>0.177866</td>\n",
       "      <td>7.997343</td>\n",
       "      <td>8.395506</td>\n",
       "      <td>12.112508</td>\n",
       "      <td>1.347152</td>\n",
       "      <td>3.948763</td>\n",
       "      <td>0.0</td>\n",
       "      <td>14.182264</td>\n",
       "      <td>14.418556</td>\n",
       "      <td>1556.639685</td>\n",
       "      <td>0.0</td>\n",
       "    </tr>\n",
       "    <tr>\n",
       "      <th>min</th>\n",
       "      <td>6.000000e-01</td>\n",
       "      <td>30.0</td>\n",
       "      <td>7.300000</td>\n",
       "      <td>2.400000</td>\n",
       "      <td>1.200000</td>\n",
       "      <td>16.900000</td>\n",
       "      <td>1.900000</td>\n",
       "      <td>2.500000</td>\n",
       "      <td>0.0</td>\n",
       "      <td>3.900000</td>\n",
       "      <td>7.100000</td>\n",
       "      <td>2115.000000</td>\n",
       "      <td>3.0</td>\n",
       "    </tr>\n",
       "    <tr>\n",
       "      <th>25%</th>\n",
       "      <td>6.000000e-01</td>\n",
       "      <td>30.0</td>\n",
       "      <td>7.600000</td>\n",
       "      <td>5.400000</td>\n",
       "      <td>11.600000</td>\n",
       "      <td>19.000000</td>\n",
       "      <td>2.100000</td>\n",
       "      <td>8.600000</td>\n",
       "      <td>0.0</td>\n",
       "      <td>7.600000</td>\n",
       "      <td>13.500000</td>\n",
       "      <td>2673.000000</td>\n",
       "      <td>3.0</td>\n",
       "    </tr>\n",
       "    <tr>\n",
       "      <th>50%</th>\n",
       "      <td>6.000000e-01</td>\n",
       "      <td>30.0</td>\n",
       "      <td>7.700000</td>\n",
       "      <td>6.800000</td>\n",
       "      <td>13.400000</td>\n",
       "      <td>22.600000</td>\n",
       "      <td>2.500000</td>\n",
       "      <td>11.000000</td>\n",
       "      <td>0.0</td>\n",
       "      <td>9.600000</td>\n",
       "      <td>18.500000</td>\n",
       "      <td>3005.000000</td>\n",
       "      <td>3.0</td>\n",
       "    </tr>\n",
       "    <tr>\n",
       "      <th>75%</th>\n",
       "      <td>6.000000e-01</td>\n",
       "      <td>30.0</td>\n",
       "      <td>7.800000</td>\n",
       "      <td>10.000000</td>\n",
       "      <td>16.800000</td>\n",
       "      <td>26.600000</td>\n",
       "      <td>3.000000</td>\n",
       "      <td>13.500000</td>\n",
       "      <td>0.0</td>\n",
       "      <td>13.000000</td>\n",
       "      <td>32.900000</td>\n",
       "      <td>3278.000000</td>\n",
       "      <td>3.0</td>\n",
       "    </tr>\n",
       "    <tr>\n",
       "      <th>max</th>\n",
       "      <td>6.000000e-01</td>\n",
       "      <td>30.0</td>\n",
       "      <td>8.400000</td>\n",
       "      <td>42.600000</td>\n",
       "      <td>58.400000</td>\n",
       "      <td>81.300000</td>\n",
       "      <td>9.000000</td>\n",
       "      <td>16.800000</td>\n",
       "      <td>0.0</td>\n",
       "      <td>78.000000</td>\n",
       "      <td>66.300000</td>\n",
       "      <td>9629.000000</td>\n",
       "      <td>3.0</td>\n",
       "    </tr>\n",
       "  </tbody>\n",
       "</table><h2>Cluster 4</h2>sample1 sample2 sample4 sample5 sample6 sample8 sample10 sample11 sample16 sample17 sample18 sample19 sample20 sample21 sample22 sample24 sample31 sample32 sample33 sample34 sample35 sample36 sample40 sample42 sample48 sample49 sample50 sample51 sample52 sample53 sample55 sample56 sample57 sample59 sample61 sample62 sample63 sample66 sample67 sample87 sample92 sample94 sample95 sample99 sample100 sample101 sample102<table border=\"1\" class=\"dataframe\">\n",
       "  <thead>\n",
       "    <tr style=\"text-align: right;\">\n",
       "      <th></th>\n",
       "      <th>Alpha</th>\n",
       "      <th>Size</th>\n",
       "      <th>pH</th>\n",
       "      <th>Ca</th>\n",
       "      <th>Mg</th>\n",
       "      <th>Na</th>\n",
       "      <th>K</th>\n",
       "      <th>HCO3</th>\n",
       "      <th>CO3</th>\n",
       "      <th>Cl</th>\n",
       "      <th>SO4</th>\n",
       "      <th>TDS</th>\n",
       "      <th>cluster_label</th>\n",
       "    </tr>\n",
       "  </thead>\n",
       "  <tbody>\n",
       "    <tr>\n",
       "      <th>count</th>\n",
       "      <td>4.700000e+01</td>\n",
       "      <td>47.0</td>\n",
       "      <td>47.000000</td>\n",
       "      <td>47.000000</td>\n",
       "      <td>47.000000</td>\n",
       "      <td>47.000000</td>\n",
       "      <td>47.000000</td>\n",
       "      <td>47.000000</td>\n",
       "      <td>47.0</td>\n",
       "      <td>47.000000</td>\n",
       "      <td>47.000000</td>\n",
       "      <td>47.000000</td>\n",
       "      <td>47.0</td>\n",
       "    </tr>\n",
       "    <tr>\n",
       "      <th>mean</th>\n",
       "      <td>6.000000e-01</td>\n",
       "      <td>30.0</td>\n",
       "      <td>7.646809</td>\n",
       "      <td>7.600000</td>\n",
       "      <td>9.931915</td>\n",
       "      <td>11.978723</td>\n",
       "      <td>1.331915</td>\n",
       "      <td>9.889362</td>\n",
       "      <td>0.0</td>\n",
       "      <td>5.476596</td>\n",
       "      <td>12.129787</td>\n",
       "      <td>2020.595745</td>\n",
       "      <td>4.0</td>\n",
       "    </tr>\n",
       "    <tr>\n",
       "      <th>std</th>\n",
       "      <td>2.244452e-16</td>\n",
       "      <td>0.0</td>\n",
       "      <td>0.238520</td>\n",
       "      <td>4.451233</td>\n",
       "      <td>3.682810</td>\n",
       "      <td>2.453386</td>\n",
       "      <td>0.273549</td>\n",
       "      <td>2.630030</td>\n",
       "      <td>0.0</td>\n",
       "      <td>2.500975</td>\n",
       "      <td>6.629444</td>\n",
       "      <td>449.500673</td>\n",
       "      <td>0.0</td>\n",
       "    </tr>\n",
       "    <tr>\n",
       "      <th>min</th>\n",
       "      <td>6.000000e-01</td>\n",
       "      <td>30.0</td>\n",
       "      <td>6.300000</td>\n",
       "      <td>2.000000</td>\n",
       "      <td>4.000000</td>\n",
       "      <td>5.800000</td>\n",
       "      <td>0.600000</td>\n",
       "      <td>3.200000</td>\n",
       "      <td>0.0</td>\n",
       "      <td>2.000000</td>\n",
       "      <td>2.000000</td>\n",
       "      <td>1270.000000</td>\n",
       "      <td>4.0</td>\n",
       "    </tr>\n",
       "    <tr>\n",
       "      <th>25%</th>\n",
       "      <td>6.000000e-01</td>\n",
       "      <td>30.0</td>\n",
       "      <td>7.600000</td>\n",
       "      <td>3.500000</td>\n",
       "      <td>7.050000</td>\n",
       "      <td>10.250000</td>\n",
       "      <td>1.100000</td>\n",
       "      <td>8.550000</td>\n",
       "      <td>0.0</td>\n",
       "      <td>3.900000</td>\n",
       "      <td>6.900000</td>\n",
       "      <td>1605.500000</td>\n",
       "      <td>4.0</td>\n",
       "    </tr>\n",
       "    <tr>\n",
       "      <th>50%</th>\n",
       "      <td>6.000000e-01</td>\n",
       "      <td>30.0</td>\n",
       "      <td>7.700000</td>\n",
       "      <td>7.200000</td>\n",
       "      <td>9.600000</td>\n",
       "      <td>12.000000</td>\n",
       "      <td>1.300000</td>\n",
       "      <td>9.800000</td>\n",
       "      <td>0.0</td>\n",
       "      <td>5.000000</td>\n",
       "      <td>12.200000</td>\n",
       "      <td>1979.000000</td>\n",
       "      <td>4.0</td>\n",
       "    </tr>\n",
       "    <tr>\n",
       "      <th>75%</th>\n",
       "      <td>6.000000e-01</td>\n",
       "      <td>30.0</td>\n",
       "      <td>7.800000</td>\n",
       "      <td>10.150000</td>\n",
       "      <td>12.550000</td>\n",
       "      <td>13.550000</td>\n",
       "      <td>1.500000</td>\n",
       "      <td>11.500000</td>\n",
       "      <td>0.0</td>\n",
       "      <td>6.300000</td>\n",
       "      <td>17.000000</td>\n",
       "      <td>2427.500000</td>\n",
       "      <td>4.0</td>\n",
       "    </tr>\n",
       "    <tr>\n",
       "      <th>max</th>\n",
       "      <td>6.000000e-01</td>\n",
       "      <td>30.0</td>\n",
       "      <td>7.900000</td>\n",
       "      <td>18.400000</td>\n",
       "      <td>17.800000</td>\n",
       "      <td>16.600000</td>\n",
       "      <td>1.800000</td>\n",
       "      <td>14.800000</td>\n",
       "      <td>0.0</td>\n",
       "      <td>11.600000</td>\n",
       "      <td>23.800000</td>\n",
       "      <td>3058.000000</td>\n",
       "      <td>4.0</td>\n",
       "    </tr>\n",
       "  </tbody>\n",
       "</table><h2>Cluster 5</h2>sample3 sample7 sample9 sample26 sample79 sample80 sample81<table border=\"1\" class=\"dataframe\">\n",
       "  <thead>\n",
       "    <tr style=\"text-align: right;\">\n",
       "      <th></th>\n",
       "      <th>Alpha</th>\n",
       "      <th>Size</th>\n",
       "      <th>pH</th>\n",
       "      <th>Ca</th>\n",
       "      <th>Mg</th>\n",
       "      <th>Na</th>\n",
       "      <th>K</th>\n",
       "      <th>HCO3</th>\n",
       "      <th>CO3</th>\n",
       "      <th>Cl</th>\n",
       "      <th>SO4</th>\n",
       "      <th>TDS</th>\n",
       "      <th>cluster_label</th>\n",
       "    </tr>\n",
       "  </thead>\n",
       "  <tbody>\n",
       "    <tr>\n",
       "      <th>count</th>\n",
       "      <td>7.0</td>\n",
       "      <td>7.0</td>\n",
       "      <td>7.000000</td>\n",
       "      <td>7.000000</td>\n",
       "      <td>7.000000</td>\n",
       "      <td>7.000000</td>\n",
       "      <td>7.000000</td>\n",
       "      <td>7.000000</td>\n",
       "      <td>7.0</td>\n",
       "      <td>7.000000</td>\n",
       "      <td>7.000000</td>\n",
       "      <td>7.000000</td>\n",
       "      <td>7.0</td>\n",
       "    </tr>\n",
       "    <tr>\n",
       "      <th>mean</th>\n",
       "      <td>0.6</td>\n",
       "      <td>30.0</td>\n",
       "      <td>7.671429</td>\n",
       "      <td>1.114286</td>\n",
       "      <td>9.342857</td>\n",
       "      <td>18.014286</td>\n",
       "      <td>1.985714</td>\n",
       "      <td>12.585714</td>\n",
       "      <td>0.0</td>\n",
       "      <td>5.414286</td>\n",
       "      <td>8.242857</td>\n",
       "      <td>2034.142857</td>\n",
       "      <td>5.0</td>\n",
       "    </tr>\n",
       "    <tr>\n",
       "      <th>std</th>\n",
       "      <td>0.0</td>\n",
       "      <td>0.0</td>\n",
       "      <td>0.256348</td>\n",
       "      <td>0.397612</td>\n",
       "      <td>1.882248</td>\n",
       "      <td>6.085893</td>\n",
       "      <td>0.684175</td>\n",
       "      <td>1.990334</td>\n",
       "      <td>0.0</td>\n",
       "      <td>2.810948</td>\n",
       "      <td>5.515390</td>\n",
       "      <td>561.931618</td>\n",
       "      <td>0.0</td>\n",
       "    </tr>\n",
       "    <tr>\n",
       "      <th>min</th>\n",
       "      <td>0.6</td>\n",
       "      <td>30.0</td>\n",
       "      <td>7.300000</td>\n",
       "      <td>0.400000</td>\n",
       "      <td>7.600000</td>\n",
       "      <td>11.900000</td>\n",
       "      <td>1.300000</td>\n",
       "      <td>8.400000</td>\n",
       "      <td>0.0</td>\n",
       "      <td>2.000000</td>\n",
       "      <td>2.200000</td>\n",
       "      <td>1407.000000</td>\n",
       "      <td>5.0</td>\n",
       "    </tr>\n",
       "    <tr>\n",
       "      <th>25%</th>\n",
       "      <td>0.6</td>\n",
       "      <td>30.0</td>\n",
       "      <td>7.550000</td>\n",
       "      <td>1.000000</td>\n",
       "      <td>8.000000</td>\n",
       "      <td>12.050000</td>\n",
       "      <td>1.300000</td>\n",
       "      <td>12.300000</td>\n",
       "      <td>0.0</td>\n",
       "      <td>2.700000</td>\n",
       "      <td>2.850000</td>\n",
       "      <td>1495.000000</td>\n",
       "      <td>5.0</td>\n",
       "    </tr>\n",
       "    <tr>\n",
       "      <th>50%</th>\n",
       "      <td>0.6</td>\n",
       "      <td>30.0</td>\n",
       "      <td>7.800000</td>\n",
       "      <td>1.200000</td>\n",
       "      <td>9.000000</td>\n",
       "      <td>20.400000</td>\n",
       "      <td>2.300000</td>\n",
       "      <td>13.500000</td>\n",
       "      <td>0.0</td>\n",
       "      <td>6.600000</td>\n",
       "      <td>9.000000</td>\n",
       "      <td>2229.000000</td>\n",
       "      <td>5.0</td>\n",
       "    </tr>\n",
       "    <tr>\n",
       "      <th>75%</th>\n",
       "      <td>0.6</td>\n",
       "      <td>30.0</td>\n",
       "      <td>7.800000</td>\n",
       "      <td>1.300000</td>\n",
       "      <td>9.900000</td>\n",
       "      <td>21.150000</td>\n",
       "      <td>2.350000</td>\n",
       "      <td>13.850000</td>\n",
       "      <td>0.0</td>\n",
       "      <td>7.900000</td>\n",
       "      <td>13.400000</td>\n",
       "      <td>2455.500000</td>\n",
       "      <td>5.0</td>\n",
       "    </tr>\n",
       "    <tr>\n",
       "      <th>max</th>\n",
       "      <td>0.6</td>\n",
       "      <td>30.0</td>\n",
       "      <td>7.900000</td>\n",
       "      <td>1.600000</td>\n",
       "      <td>13.000000</td>\n",
       "      <td>27.400000</td>\n",
       "      <td>3.000000</td>\n",
       "      <td>13.900000</td>\n",
       "      <td>0.0</td>\n",
       "      <td>8.100000</td>\n",
       "      <td>14.000000</td>\n",
       "      <td>2702.000000</td>\n",
       "      <td>5.0</td>\n",
       "    </tr>\n",
       "  </tbody>\n",
       "</table>"
      ]
     },
     "metadata": {},
     "output_type": "display_data"
    }
   ],
   "source": [
    "t = \"\"\n",
    "for lab, sub in df.groupby('cluster_label'):\n",
    "    t += f\"<h2>Cluster {lab}</h2>\"\n",
    "    t += \" \".join(sub[\"Sample\"])\n",
    "    t += sub.describe().to_html()\n",
    "display_html(t, raw=True)"
   ]
  },
  {
   "cell_type": "markdown",
   "id": "38854a7521812472",
   "metadata": {},
   "source": [
    "# Plotting and Visualization"
   ]
  },
  {
   "cell_type": "code",
   "execution_count": 18,
   "id": "9992d97a",
   "metadata": {},
   "outputs": [
    {
     "data": {
      "text/plain": [
       "(10, 5, 7, 2)"
      ]
     },
     "execution_count": 18,
     "metadata": {},
     "output_type": "execute_result"
    }
   ],
   "source": [
    "# Create hexagons for visualization\n",
    "def hexagon(_xx, _yy, radius):\n",
    "    # Returns a NX x NY x 6 x 2 array of hexagon coordinates\n",
    "    hex_xy = np.zeros((_xx.shape[0], _xx.shape[1], 7, 2))\n",
    "    for i in range(7):\n",
    "        theta = np.pi / 6 + 2 * np.pi * i / 6\n",
    "        hex_xy[:, :, i, 0] = _xx + radius * np.cos(theta)\n",
    "        hex_xy[:, :, i, 1] = _yy + radius * np.sin(theta)\n",
    "    return hex_xy\n",
    "\n",
    "\n",
    "hexagons = hexagon(xx, yy, 0.5)\n",
    "hexagons.shape"
   ]
  },
  {
   "cell_type": "code",
   "execution_count": 19,
   "id": "9d9e89f1",
   "metadata": {},
   "outputs": [],
   "source": [
    "\n",
    "# Cluster polygons\n",
    "node_hexagons = hexagon(xx, yy, np.sqrt(3) / 3 + 0.001).reshape(-1, 7, 2)\n",
    "cluster_boundaries = {}\n",
    "for c in np.unique(node_labels):\n",
    "    matches = node_labels.flatten() == c\n",
    "    joined_polygon = shapely.union_all([shapely.Polygon(p) for p in node_hexagons[matches]])\n",
    "    cluster_boundaries[c] = joined_polygon"
   ]
  },
  {
   "cell_type": "code",
   "execution_count": 20,
   "id": "4bd24ab8e9024e4c",
   "metadata": {
    "ExecuteTime": {
     "end_time": "2024-11-13T13:53:51.669611Z",
     "start_time": "2024-11-13T13:53:47.948391Z"
    }
   },
   "outputs": [
    {
     "data": {
      "application/vnd.plotly.v1+json": {
       "config": {
        "plotlyServerURL": "https://plot.ly"
       },
       "data": [
        {
         "fill": "toself",
         "fillcolor": "rgb(21, 78, 139)",
         "hoverinfo": "text",
         "hoveron": "fills",
         "line": {
          "color": "black",
          "width": 0
         },
         "mode": "lines",
         "showlegend": false,
         "text": "[70, 74]",
         "type": "scatter",
         "x": [
          -0.06698729810778065,
          -0.49999999999999994,
          -0.9330127018922192,
          -0.9330127018922194,
          -0.5000000000000001,
          -0.06698729810778059,
          -0.0669872981077807
         ],
         "xaxis": "x",
         "y": [
          0.24999999999999997,
          0.5,
          0.25000000000000017,
          -0.24999999999999986,
          -0.5,
          -0.24999999999999983,
          0.25
         ],
         "yaxis": "y"
        },
        {
         "fill": "toself",
         "fillcolor": "rgb(31, 98, 167)",
         "hoverinfo": "text",
         "hoveron": "fills",
         "line": {
          "color": "black",
          "width": 0
         },
         "mode": "lines",
         "showlegend": false,
         "text": "[]",
         "type": "scatter",
         "x": [
          0.43301270189221935,
          3.061616997868383e-17,
          -0.43301270189221924,
          -0.4330127018922194,
          -9.184850993605148e-17,
          0.4330127018922194,
          0.4330127018922193
         ],
         "xaxis": "x",
         "y": [
          1.1160254037844386,
          1.3660254037844388,
          1.1160254037844388,
          0.6160254037844388,
          0.3660254037844387,
          0.6160254037844388,
          1.1160254037844388
         ],
         "yaxis": "y"
        },
        {
         "fill": "toself",
         "fillcolor": "rgb(38, 109, 175)",
         "hoverinfo": "text",
         "hoveron": "fills",
         "line": {
          "color": "black",
          "width": 0
         },
         "mode": "lines",
         "showlegend": false,
         "text": "[37, 38, 42, 43, 44, 45, 46, 64, 92]",
         "type": "scatter",
         "x": [
          -0.06698729810778065,
          -0.49999999999999994,
          -0.9330127018922192,
          -0.9330127018922194,
          -0.5000000000000001,
          -0.06698729810778059,
          -0.0669872981077807
         ],
         "xaxis": "x",
         "y": [
          1.9820508075688774,
          2.2320508075688776,
          1.9820508075688776,
          1.4820508075688776,
          1.2320508075688774,
          1.4820508075688776,
          1.9820508075688774
         ],
         "yaxis": "y"
        },
        {
         "fill": "toself",
         "fillcolor": "rgb(41, 113, 178)",
         "hoverinfo": "text",
         "hoveron": "fills",
         "line": {
          "color": "black",
          "width": 0
         },
         "mode": "lines",
         "showlegend": false,
         "text": "[]",
         "type": "scatter",
         "x": [
          0.43301270189221935,
          3.061616997868383e-17,
          -0.43301270189221924,
          -0.4330127018922194,
          -9.184850993605148e-17,
          0.4330127018922194,
          0.4330127018922193
         ],
         "xaxis": "x",
         "y": [
          2.848076211353316,
          3.098076211353316,
          2.848076211353316,
          2.348076211353316,
          2.098076211353316,
          2.348076211353316,
          2.848076211353316
         ],
         "yaxis": "y"
        },
        {
         "fill": "toself",
         "fillcolor": "rgb(16, 69, 127)",
         "hoverinfo": "text",
         "hoveron": "fills",
         "line": {
          "color": "black",
          "width": 0
         },
         "mode": "lines",
         "showlegend": false,
         "text": "[36]",
         "type": "scatter",
         "x": [
          -0.06698729810778065,
          -0.49999999999999994,
          -0.9330127018922192,
          -0.9330127018922194,
          -0.5000000000000001,
          -0.06698729810778059,
          -0.0669872981077807
         ],
         "xaxis": "x",
         "y": [
          3.714101615137755,
          3.964101615137755,
          3.714101615137755,
          3.214101615137755,
          2.964101615137755,
          3.214101615137755,
          3.714101615137755
         ],
         "yaxis": "y"
        },
        {
         "fill": "toself",
         "fillcolor": "rgb(5, 48, 97)",
         "hoverinfo": "text",
         "hoveron": "fills",
         "line": {
          "color": "black",
          "width": 0
         },
         "mode": "lines",
         "showlegend": false,
         "text": "[72, 76]",
         "type": "scatter",
         "x": [
          0.9330127018922194,
          0.5,
          0.06698729810778076,
          0.06698729810778059,
          0.4999999999999999,
          0.9330127018922194,
          0.9330127018922193
         ],
         "xaxis": "x",
         "y": [
          0.24999999999999997,
          0.5,
          0.25000000000000017,
          -0.24999999999999986,
          -0.5,
          -0.24999999999999983,
          0.25
         ],
         "yaxis": "y"
        },
        {
         "fill": "toself",
         "fillcolor": "rgb(26, 88, 153)",
         "hoverinfo": "text",
         "hoveron": "fills",
         "line": {
          "color": "black",
          "width": 0
         },
         "mode": "lines",
         "showlegend": false,
         "text": "[71, 73]",
         "type": "scatter",
         "x": [
          1.4330127018922194,
          1,
          0.5669872981077808,
          0.5669872981077806,
          0.9999999999999999,
          1.4330127018922194,
          1.4330127018922192
         ],
         "xaxis": "x",
         "y": [
          1.1160254037844386,
          1.3660254037844388,
          1.1160254037844388,
          0.6160254037844388,
          0.3660254037844387,
          0.6160254037844388,
          1.1160254037844388
         ],
         "yaxis": "y"
        },
        {
         "fill": "toself",
         "fillcolor": "rgb(31, 98, 166)",
         "hoverinfo": "text",
         "hoveron": "fills",
         "line": {
          "color": "black",
          "width": 0
         },
         "mode": "lines",
         "showlegend": false,
         "text": "[27, 40, 88]",
         "type": "scatter",
         "x": [
          0.9330127018922194,
          0.5,
          0.06698729810778076,
          0.06698729810778059,
          0.4999999999999999,
          0.9330127018922194,
          0.9330127018922193
         ],
         "xaxis": "x",
         "y": [
          1.9820508075688774,
          2.2320508075688776,
          1.9820508075688776,
          1.4820508075688776,
          1.2320508075688774,
          1.4820508075688776,
          1.9820508075688774
         ],
         "yaxis": "y"
        },
        {
         "fill": "toself",
         "fillcolor": "rgb(32, 99, 168)",
         "hoverinfo": "text",
         "hoveron": "fills",
         "line": {
          "color": "black",
          "width": 0
         },
         "mode": "lines",
         "showlegend": false,
         "text": "[29, 53, 75, 77, 83, 85]",
         "type": "scatter",
         "x": [
          1.4330127018922194,
          1,
          0.5669872981077808,
          0.5669872981077806,
          0.9999999999999999,
          1.4330127018922194,
          1.4330127018922192
         ],
         "xaxis": "x",
         "y": [
          2.848076211353316,
          3.098076211353316,
          2.848076211353316,
          2.348076211353316,
          2.098076211353316,
          2.348076211353316,
          2.848076211353316
         ],
         "yaxis": "y"
        },
        {
         "fill": "toself",
         "fillcolor": "rgb(58, 135, 189)",
         "hoverinfo": "text",
         "hoveron": "fills",
         "line": {
          "color": "black",
          "width": 0
         },
         "mode": "lines",
         "showlegend": false,
         "text": "[63]",
         "type": "scatter",
         "x": [
          0.9330127018922194,
          0.5,
          0.06698729810778076,
          0.06698729810778059,
          0.4999999999999999,
          0.9330127018922194,
          0.9330127018922193
         ],
         "xaxis": "x",
         "y": [
          3.714101615137755,
          3.964101615137755,
          3.714101615137755,
          3.214101615137755,
          2.964101615137755,
          3.214101615137755,
          3.714101615137755
         ],
         "yaxis": "y"
        },
        {
         "fill": "toself",
         "fillcolor": "rgb(42, 114, 178)",
         "hoverinfo": "text",
         "hoveron": "fills",
         "line": {
          "color": "black",
          "width": 0
         },
         "mode": "lines",
         "showlegend": false,
         "text": "[]",
         "type": "scatter",
         "x": [
          1.9330127018922194,
          1.5,
          1.0669872981077808,
          1.0669872981077806,
          1.5,
          1.9330127018922194,
          1.9330127018922192
         ],
         "xaxis": "x",
         "y": [
          0.24999999999999997,
          0.5,
          0.25000000000000017,
          -0.24999999999999986,
          -0.5,
          -0.24999999999999983,
          0.25
         ],
         "yaxis": "y"
        },
        {
         "fill": "toself",
         "fillcolor": "rgb(55, 131, 187)",
         "hoverinfo": "text",
         "hoveron": "fills",
         "line": {
          "color": "black",
          "width": 0
         },
         "mode": "lines",
         "showlegend": false,
         "text": "[13, 14, 26, 59, 87, 89]",
         "type": "scatter",
         "x": [
          2.433012701892219,
          2,
          1.5669872981077808,
          1.5669872981077806,
          2,
          2.4330127018922196,
          2.433012701892219
         ],
         "xaxis": "x",
         "y": [
          1.1160254037844386,
          1.3660254037844388,
          1.1160254037844388,
          0.6160254037844388,
          0.3660254037844387,
          0.6160254037844388,
          1.1160254037844388
         ],
         "yaxis": "y"
        },
        {
         "fill": "toself",
         "fillcolor": "rgb(14, 65, 121)",
         "hoverinfo": "text",
         "hoveron": "fills",
         "line": {
          "color": "black",
          "width": 0
         },
         "mode": "lines",
         "showlegend": false,
         "text": "[12, 67, 82]",
         "type": "scatter",
         "x": [
          1.9330127018922194,
          1.5,
          1.0669872981077808,
          1.0669872981077806,
          1.5,
          1.9330127018922194,
          1.9330127018922192
         ],
         "xaxis": "x",
         "y": [
          1.9820508075688774,
          2.2320508075688776,
          1.9820508075688776,
          1.4820508075688776,
          1.2320508075688774,
          1.4820508075688776,
          1.9820508075688774
         ],
         "yaxis": "y"
        },
        {
         "fill": "toself",
         "fillcolor": "rgb(51, 126, 184)",
         "hoverinfo": "text",
         "hoveron": "fills",
         "line": {
          "color": "black",
          "width": 0
         },
         "mode": "lines",
         "showlegend": false,
         "text": "[28]",
         "type": "scatter",
         "x": [
          2.433012701892219,
          2,
          1.5669872981077808,
          1.5669872981077806,
          2,
          2.4330127018922196,
          2.433012701892219
         ],
         "xaxis": "x",
         "y": [
          2.848076211353316,
          3.098076211353316,
          2.848076211353316,
          2.348076211353316,
          2.098076211353316,
          2.348076211353316,
          2.848076211353316
         ],
         "yaxis": "y"
        },
        {
         "fill": "toself",
         "fillcolor": "rgb(42, 114, 178)",
         "hoverinfo": "text",
         "hoveron": "fills",
         "line": {
          "color": "black",
          "width": 0
         },
         "mode": "lines",
         "showlegend": false,
         "text": "[]",
         "type": "scatter",
         "x": [
          1.9330127018922194,
          1.5,
          1.0669872981077808,
          1.0669872981077806,
          1.5,
          1.9330127018922194,
          1.9330127018922192
         ],
         "xaxis": "x",
         "y": [
          3.714101615137755,
          3.964101615137755,
          3.714101615137755,
          3.214101615137755,
          2.964101615137755,
          3.214101615137755,
          3.714101615137755
         ],
         "yaxis": "y"
        },
        {
         "fill": "toself",
         "fillcolor": "rgb(43, 115, 179)",
         "hoverinfo": "text",
         "hoveron": "fills",
         "line": {
          "color": "black",
          "width": 0
         },
         "mode": "lines",
         "showlegend": false,
         "text": "[]",
         "type": "scatter",
         "x": [
          2.933012701892219,
          2.5,
          2.066987298107781,
          2.0669872981077804,
          2.5,
          2.9330127018922196,
          2.933012701892219
         ],
         "xaxis": "x",
         "y": [
          0.24999999999999997,
          0.5,
          0.25000000000000017,
          -0.24999999999999986,
          -0.5,
          -0.24999999999999983,
          0.25
         ],
         "yaxis": "y"
        },
        {
         "fill": "toself",
         "fillcolor": "rgb(26, 89, 154)",
         "hoverinfo": "text",
         "hoveron": "fills",
         "line": {
          "color": "black",
          "width": 0
         },
         "mode": "lines",
         "showlegend": false,
         "text": "[21, 61, 66, 86]",
         "type": "scatter",
         "x": [
          3.433012701892219,
          3,
          2.566987298107781,
          2.5669872981077804,
          3,
          3.4330127018922196,
          3.433012701892219
         ],
         "xaxis": "x",
         "y": [
          1.1160254037844386,
          1.3660254037844388,
          1.1160254037844388,
          0.6160254037844388,
          0.3660254037844387,
          0.6160254037844388,
          1.1160254037844388
         ],
         "yaxis": "y"
        },
        {
         "fill": "toself",
         "fillcolor": "rgb(39, 110, 176)",
         "hoverinfo": "text",
         "hoveron": "fills",
         "line": {
          "color": "black",
          "width": 0
         },
         "mode": "lines",
         "showlegend": false,
         "text": "[11, 22, 57, 69]",
         "type": "scatter",
         "x": [
          2.933012701892219,
          2.5,
          2.066987298107781,
          2.0669872981077804,
          2.5,
          2.9330127018922196,
          2.933012701892219
         ],
         "xaxis": "x",
         "y": [
          1.9820508075688774,
          2.2320508075688776,
          1.9820508075688776,
          1.4820508075688776,
          1.2320508075688774,
          1.4820508075688776,
          1.9820508075688774
         ],
         "yaxis": "y"
        },
        {
         "fill": "toself",
         "fillcolor": "rgb(50, 124, 183)",
         "hoverinfo": "text",
         "hoveron": "fills",
         "line": {
          "color": "black",
          "width": 0
         },
         "mode": "lines",
         "showlegend": false,
         "text": "[24, 90]",
         "type": "scatter",
         "x": [
          3.433012701892219,
          3,
          2.566987298107781,
          2.5669872981077804,
          3,
          3.4330127018922196,
          3.433012701892219
         ],
         "xaxis": "x",
         "y": [
          2.848076211353316,
          3.098076211353316,
          2.848076211353316,
          2.348076211353316,
          2.098076211353316,
          2.348076211353316,
          2.848076211353316
         ],
         "yaxis": "y"
        },
        {
         "fill": "toself",
         "fillcolor": "rgb(33, 101, 171)",
         "hoverinfo": "text",
         "hoveron": "fills",
         "line": {
          "color": "black",
          "width": 0
         },
         "mode": "lines",
         "showlegend": false,
         "text": "[68, 84]",
         "type": "scatter",
         "x": [
          2.933012701892219,
          2.5,
          2.066987298107781,
          2.0669872981077804,
          2.5,
          2.9330127018922196,
          2.933012701892219
         ],
         "xaxis": "x",
         "y": [
          3.714101615137755,
          3.964101615137755,
          3.714101615137755,
          3.214101615137755,
          2.964101615137755,
          3.214101615137755,
          3.714101615137755
         ],
         "yaxis": "y"
        },
        {
         "fill": "toself",
         "fillcolor": "rgb(32, 100, 170)",
         "hoverinfo": "text",
         "hoveron": "fills",
         "line": {
          "color": "black",
          "width": 0
         },
         "mode": "lines",
         "showlegend": false,
         "text": "[93]",
         "type": "scatter",
         "x": [
          3.933012701892219,
          3.5,
          3.066987298107781,
          3.0669872981077804,
          3.5,
          3.9330127018922196,
          3.933012701892219
         ],
         "xaxis": "x",
         "y": [
          0.24999999999999997,
          0.5,
          0.25000000000000017,
          -0.24999999999999986,
          -0.5,
          -0.24999999999999983,
          0.25
         ],
         "yaxis": "y"
        },
        {
         "fill": "toself",
         "fillcolor": "rgb(45, 118, 180)",
         "hoverinfo": "text",
         "hoveron": "fills",
         "line": {
          "color": "black",
          "width": 0
         },
         "mode": "lines",
         "showlegend": false,
         "text": "[10, 34, 65]",
         "type": "scatter",
         "x": [
          4.43301270189222,
          4,
          3.566987298107781,
          3.5669872981077804,
          4,
          4.43301270189222,
          4.43301270189222
         ],
         "xaxis": "x",
         "y": [
          1.1160254037844386,
          1.3660254037844388,
          1.1160254037844388,
          0.6160254037844388,
          0.3660254037844387,
          0.6160254037844388,
          1.1160254037844388
         ],
         "yaxis": "y"
        },
        {
         "fill": "toself",
         "fillcolor": "rgb(23, 83, 146)",
         "hoverinfo": "text",
         "hoveron": "fills",
         "line": {
          "color": "black",
          "width": 0
         },
         "mode": "lines",
         "showlegend": false,
         "text": "[31, 58, 91]",
         "type": "scatter",
         "x": [
          3.933012701892219,
          3.5,
          3.066987298107781,
          3.0669872981077804,
          3.5,
          3.9330127018922196,
          3.933012701892219
         ],
         "xaxis": "x",
         "y": [
          1.9820508075688774,
          2.2320508075688776,
          1.9820508075688776,
          1.4820508075688776,
          1.2320508075688774,
          1.4820508075688776,
          1.9820508075688774
         ],
         "yaxis": "y"
        },
        {
         "fill": "toself",
         "fillcolor": "rgb(49, 123, 183)",
         "hoverinfo": "text",
         "hoveron": "fills",
         "line": {
          "color": "black",
          "width": 0
         },
         "mode": "lines",
         "showlegend": false,
         "text": "[]",
         "type": "scatter",
         "x": [
          4.43301270189222,
          4,
          3.566987298107781,
          3.5669872981077804,
          4,
          4.43301270189222,
          4.43301270189222
         ],
         "xaxis": "x",
         "y": [
          2.848076211353316,
          3.098076211353316,
          2.848076211353316,
          2.348076211353316,
          2.098076211353316,
          2.348076211353316,
          2.848076211353316
         ],
         "yaxis": "y"
        },
        {
         "fill": "toself",
         "fillcolor": "rgb(76, 152, 198)",
         "hoverinfo": "text",
         "hoveron": "fills",
         "line": {
          "color": "black",
          "width": 0
         },
         "mode": "lines",
         "showlegend": false,
         "text": "[81]",
         "type": "scatter",
         "x": [
          3.933012701892219,
          3.5,
          3.066987298107781,
          3.0669872981077804,
          3.5,
          3.9330127018922196,
          3.933012701892219
         ],
         "xaxis": "x",
         "y": [
          3.714101615137755,
          3.964101615137755,
          3.714101615137755,
          3.214101615137755,
          2.964101615137755,
          3.214101615137755,
          3.714101615137755
         ],
         "yaxis": "y"
        },
        {
         "fill": "toself",
         "fillcolor": "rgb(25, 87, 151)",
         "hoverinfo": "text",
         "hoveron": "fills",
         "line": {
          "color": "black",
          "width": 0
         },
         "mode": "lines",
         "showlegend": false,
         "text": "[100]",
         "type": "scatter",
         "x": [
          4.93301270189222,
          4.5,
          4.06698729810778,
          4.06698729810778,
          4.5,
          4.93301270189222,
          4.93301270189222
         ],
         "xaxis": "x",
         "y": [
          0.24999999999999997,
          0.5,
          0.25000000000000017,
          -0.24999999999999986,
          -0.5,
          -0.24999999999999983,
          0.25
         ],
         "yaxis": "y"
        },
        {
         "fill": "toself",
         "fillcolor": "rgb(49, 123, 183)",
         "hoverinfo": "text",
         "hoveron": "fills",
         "line": {
          "color": "black",
          "width": 0
         },
         "mode": "lines",
         "showlegend": false,
         "text": "[15, 41]",
         "type": "scatter",
         "x": [
          5.43301270189222,
          5,
          4.56698729810778,
          4.56698729810778,
          5,
          5.43301270189222,
          5.43301270189222
         ],
         "xaxis": "x",
         "y": [
          1.1160254037844386,
          1.3660254037844388,
          1.1160254037844388,
          0.6160254037844388,
          0.3660254037844387,
          0.6160254037844388,
          1.1160254037844388
         ],
         "yaxis": "y"
        },
        {
         "fill": "toself",
         "fillcolor": "rgb(45, 117, 180)",
         "hoverinfo": "text",
         "hoveron": "fills",
         "line": {
          "color": "black",
          "width": 0
         },
         "mode": "lines",
         "showlegend": false,
         "text": "[16, 18, 60]",
         "type": "scatter",
         "x": [
          4.93301270189222,
          4.5,
          4.06698729810778,
          4.06698729810778,
          4.5,
          4.93301270189222,
          4.93301270189222
         ],
         "xaxis": "x",
         "y": [
          1.9820508075688774,
          2.2320508075688776,
          1.9820508075688776,
          1.4820508075688776,
          1.2320508075688774,
          1.4820508075688776,
          1.9820508075688774
         ],
         "yaxis": "y"
        },
        {
         "fill": "toself",
         "fillcolor": "rgb(70, 149, 196)",
         "hoverinfo": "text",
         "hoveron": "fills",
         "line": {
          "color": "black",
          "width": 0
         },
         "mode": "lines",
         "showlegend": false,
         "text": "[50]",
         "type": "scatter",
         "x": [
          5.43301270189222,
          5,
          4.56698729810778,
          4.56698729810778,
          5,
          5.43301270189222,
          5.43301270189222
         ],
         "xaxis": "x",
         "y": [
          2.848076211353316,
          3.098076211353316,
          2.848076211353316,
          2.348076211353316,
          2.098076211353316,
          2.348076211353316,
          2.848076211353316
         ],
         "yaxis": "y"
        },
        {
         "fill": "toself",
         "fillcolor": "rgb(109, 173, 209)",
         "hoverinfo": "text",
         "hoveron": "fills",
         "line": {
          "color": "black",
          "width": 0
         },
         "mode": "lines",
         "showlegend": false,
         "text": "[]",
         "type": "scatter",
         "x": [
          4.93301270189222,
          4.5,
          4.06698729810778,
          4.06698729810778,
          4.5,
          4.93301270189222,
          4.93301270189222
         ],
         "xaxis": "x",
         "y": [
          3.714101615137755,
          3.964101615137755,
          3.714101615137755,
          3.214101615137755,
          2.964101615137755,
          3.214101615137755,
          3.714101615137755
         ],
         "yaxis": "y"
        },
        {
         "fill": "toself",
         "fillcolor": "rgb(29, 95, 162)",
         "hoverinfo": "text",
         "hoveron": "fills",
         "line": {
          "color": "black",
          "width": 0
         },
         "mode": "lines",
         "showlegend": false,
         "text": "[17, 32, 33, 56, 94, 99]",
         "type": "scatter",
         "x": [
          5.93301270189222,
          5.5,
          5.06698729810778,
          5.06698729810778,
          5.5,
          5.93301270189222,
          5.93301270189222
         ],
         "xaxis": "x",
         "y": [
          0.24999999999999997,
          0.5,
          0.25000000000000017,
          -0.24999999999999986,
          -0.5,
          -0.24999999999999983,
          0.25
         ],
         "yaxis": "y"
        },
        {
         "fill": "toself",
         "fillcolor": "rgb(38, 108, 175)",
         "hoverinfo": "text",
         "hoveron": "fills",
         "line": {
          "color": "black",
          "width": 0
         },
         "mode": "lines",
         "showlegend": false,
         "text": "[20, 35, 48]",
         "type": "scatter",
         "x": [
          6.43301270189222,
          6,
          5.56698729810778,
          5.56698729810778,
          6,
          6.43301270189222,
          6.43301270189222
         ],
         "xaxis": "x",
         "y": [
          1.1160254037844386,
          1.3660254037844388,
          1.1160254037844388,
          0.6160254037844388,
          0.3660254037844387,
          0.6160254037844388,
          1.1160254037844388
         ],
         "yaxis": "y"
        },
        {
         "fill": "toself",
         "fillcolor": "rgb(66, 145, 194)",
         "hoverinfo": "text",
         "hoveron": "fills",
         "line": {
          "color": "black",
          "width": 0
         },
         "mode": "lines",
         "showlegend": false,
         "text": "[19, 23, 47]",
         "type": "scatter",
         "x": [
          5.93301270189222,
          5.5,
          5.06698729810778,
          5.06698729810778,
          5.5,
          5.93301270189222,
          5.93301270189222
         ],
         "xaxis": "x",
         "y": [
          1.9820508075688774,
          2.2320508075688776,
          1.9820508075688776,
          1.4820508075688776,
          1.2320508075688774,
          1.4820508075688776,
          1.9820508075688774
         ],
         "yaxis": "y"
        },
        {
         "fill": "toself",
         "fillcolor": "rgb(226, 237, 243)",
         "hoverinfo": "text",
         "hoveron": "fills",
         "line": {
          "color": "black",
          "width": 0
         },
         "mode": "lines",
         "showlegend": false,
         "text": "[1]",
         "type": "scatter",
         "x": [
          6.43301270189222,
          6,
          5.56698729810778,
          5.56698729810778,
          6,
          6.43301270189222,
          6.43301270189222
         ],
         "xaxis": "x",
         "y": [
          2.848076211353316,
          3.098076211353316,
          2.848076211353316,
          2.348076211353316,
          2.098076211353316,
          2.348076211353316,
          2.848076211353316
         ],
         "yaxis": "y"
        },
        {
         "fill": "toself",
         "fillcolor": "rgb(96, 165, 205)",
         "hoverinfo": "text",
         "hoveron": "fills",
         "line": {
          "color": "black",
          "width": 0
         },
         "mode": "lines",
         "showlegend": false,
         "text": "[]",
         "type": "scatter",
         "x": [
          5.93301270189222,
          5.5,
          5.06698729810778,
          5.06698729810778,
          5.5,
          5.93301270189222,
          5.93301270189222
         ],
         "xaxis": "x",
         "y": [
          3.714101615137755,
          3.964101615137755,
          3.714101615137755,
          3.214101615137755,
          2.964101615137755,
          3.214101615137755,
          3.714101615137755
         ],
         "yaxis": "y"
        },
        {
         "fill": "toself",
         "fillcolor": "rgb(26, 88, 153)",
         "hoverinfo": "text",
         "hoveron": "fills",
         "line": {
          "color": "black",
          "width": 0
         },
         "mode": "lines",
         "showlegend": false,
         "text": "[30, 39, 49, 62, 98, 101]",
         "type": "scatter",
         "x": [
          6.93301270189222,
          6.5,
          6.06698729810778,
          6.06698729810778,
          6.5,
          6.93301270189222,
          6.93301270189222
         ],
         "xaxis": "x",
         "y": [
          0.24999999999999997,
          0.5,
          0.25000000000000017,
          -0.24999999999999986,
          -0.5,
          -0.24999999999999983,
          0.25
         ],
         "yaxis": "y"
        },
        {
         "fill": "toself",
         "fillcolor": "rgb(113, 176, 211)",
         "hoverinfo": "text",
         "hoveron": "fills",
         "line": {
          "color": "black",
          "width": 0
         },
         "mode": "lines",
         "showlegend": false,
         "text": "[]",
         "type": "scatter",
         "x": [
          7.43301270189222,
          7,
          6.56698729810778,
          6.56698729810778,
          7,
          7.43301270189222,
          7.43301270189222
         ],
         "xaxis": "x",
         "y": [
          1.1160254037844386,
          1.3660254037844388,
          1.1160254037844388,
          0.6160254037844388,
          0.3660254037844387,
          0.6160254037844388,
          1.1160254037844388
         ],
         "yaxis": "y"
        },
        {
         "fill": "toself",
         "fillcolor": "rgb(222, 235, 242)",
         "hoverinfo": "text",
         "hoveron": "fills",
         "line": {
          "color": "black",
          "width": 0
         },
         "mode": "lines",
         "showlegend": false,
         "text": "[51, 55]",
         "type": "scatter",
         "x": [
          6.93301270189222,
          6.5,
          6.06698729810778,
          6.06698729810778,
          6.5,
          6.93301270189222,
          6.93301270189222
         ],
         "xaxis": "x",
         "y": [
          1.9820508075688774,
          2.2320508075688776,
          1.9820508075688776,
          1.4820508075688776,
          1.2320508075688774,
          1.4820508075688776,
          1.9820508075688774
         ],
         "yaxis": "y"
        },
        {
         "fill": "toself",
         "fillcolor": "rgb(103, 0, 31)",
         "hoverinfo": "text",
         "hoveron": "fills",
         "line": {
          "color": "black",
          "width": 0
         },
         "mode": "lines",
         "showlegend": false,
         "text": "[5, 7, 9]",
         "type": "scatter",
         "x": [
          7.43301270189222,
          7,
          6.56698729810778,
          6.56698729810778,
          7,
          7.43301270189222,
          7.43301270189222
         ],
         "xaxis": "x",
         "y": [
          2.848076211353316,
          3.098076211353316,
          2.848076211353316,
          2.348076211353316,
          2.098076211353316,
          2.348076211353316,
          2.848076211353316
         ],
         "yaxis": "y"
        },
        {
         "fill": "toself",
         "fillcolor": "rgb(248, 242, 239)",
         "hoverinfo": "text",
         "hoveron": "fills",
         "line": {
          "color": "black",
          "width": 0
         },
         "mode": "lines",
         "showlegend": false,
         "text": "[3, 52]",
         "type": "scatter",
         "x": [
          6.93301270189222,
          6.5,
          6.06698729810778,
          6.06698729810778,
          6.5,
          6.93301270189222,
          6.93301270189222
         ],
         "xaxis": "x",
         "y": [
          3.714101615137755,
          3.964101615137755,
          3.714101615137755,
          3.214101615137755,
          2.964101615137755,
          3.214101615137755,
          3.714101615137755
         ],
         "yaxis": "y"
        },
        {
         "fill": "toself",
         "fillcolor": "rgb(141, 194, 220)",
         "hoverinfo": "text",
         "hoveron": "fills",
         "line": {
          "color": "black",
          "width": 0
         },
         "mode": "lines",
         "showlegend": false,
         "text": "[54]",
         "type": "scatter",
         "x": [
          7.93301270189222,
          7.5,
          7.06698729810778,
          7.06698729810778,
          7.5,
          7.93301270189222,
          7.93301270189222
         ],
         "xaxis": "x",
         "y": [
          0.24999999999999997,
          0.5,
          0.25000000000000017,
          -0.24999999999999986,
          -0.5,
          -0.24999999999999983,
          0.25
         ],
         "yaxis": "y"
        },
        {
         "fill": "toself",
         "fillcolor": "rgb(208, 228, 240)",
         "hoverinfo": "text",
         "hoveron": "fills",
         "line": {
          "color": "black",
          "width": 0
         },
         "mode": "lines",
         "showlegend": false,
         "text": "[95]",
         "type": "scatter",
         "x": [
          8.433012701892219,
          8,
          7.56698729810778,
          7.56698729810778,
          8,
          8.433012701892219,
          8.433012701892219
         ],
         "xaxis": "x",
         "y": [
          1.1160254037844386,
          1.3660254037844388,
          1.1160254037844388,
          0.6160254037844388,
          0.3660254037844387,
          0.6160254037844388,
          1.1160254037844388
         ],
         "yaxis": "y"
        },
        {
         "fill": "toself",
         "fillcolor": "rgb(232, 137, 109)",
         "hoverinfo": "text",
         "hoveron": "fills",
         "line": {
          "color": "black",
          "width": 0
         },
         "mode": "lines",
         "showlegend": false,
         "text": "[0, 4]",
         "type": "scatter",
         "x": [
          7.93301270189222,
          7.5,
          7.06698729810778,
          7.06698729810778,
          7.5,
          7.93301270189222,
          7.93301270189222
         ],
         "xaxis": "x",
         "y": [
          1.9820508075688774,
          2.2320508075688776,
          1.9820508075688776,
          1.4820508075688776,
          1.2320508075688774,
          1.4820508075688776,
          1.9820508075688774
         ],
         "yaxis": "y"
        },
        {
         "fill": "toself",
         "fillcolor": "rgb(253, 221, 202)",
         "hoverinfo": "text",
         "hoveron": "fills",
         "line": {
          "color": "black",
          "width": 0
         },
         "mode": "lines",
         "showlegend": false,
         "text": "[]",
         "type": "scatter",
         "x": [
          8.433012701892219,
          8,
          7.56698729810778,
          7.56698729810778,
          8,
          8.433012701892219,
          8.433012701892219
         ],
         "xaxis": "x",
         "y": [
          2.848076211353316,
          3.098076211353316,
          2.848076211353316,
          2.348076211353316,
          2.098076211353316,
          2.348076211353316,
          2.848076211353316
         ],
         "yaxis": "y"
        },
        {
         "fill": "toself",
         "fillcolor": "rgb(198, 224, 237)",
         "hoverinfo": "text",
         "hoveron": "fills",
         "line": {
          "color": "black",
          "width": 0
         },
         "mode": "lines",
         "showlegend": false,
         "text": "[79]",
         "type": "scatter",
         "x": [
          7.93301270189222,
          7.5,
          7.06698729810778,
          7.06698729810778,
          7.5,
          7.93301270189222,
          7.93301270189222
         ],
         "xaxis": "x",
         "y": [
          3.714101615137755,
          3.964101615137755,
          3.714101615137755,
          3.214101615137755,
          2.964101615137755,
          3.214101615137755,
          3.714101615137755
         ],
         "yaxis": "y"
        },
        {
         "fill": "toself",
         "fillcolor": "rgb(177, 213, 231)",
         "hoverinfo": "text",
         "hoveron": "fills",
         "line": {
          "color": "black",
          "width": 0
         },
         "mode": "lines",
         "showlegend": false,
         "text": "[96]",
         "type": "scatter",
         "x": [
          8.933012701892219,
          8.5,
          8.066987298107781,
          8.066987298107781,
          8.5,
          8.933012701892219,
          8.933012701892219
         ],
         "xaxis": "x",
         "y": [
          0.24999999999999997,
          0.5,
          0.25000000000000017,
          -0.24999999999999986,
          -0.5,
          -0.24999999999999983,
          0.25
         ],
         "yaxis": "y"
        },
        {
         "fill": "toself",
         "fillcolor": "rgb(10, 58, 111)",
         "hoverinfo": "text",
         "hoveron": "fills",
         "line": {
          "color": "black",
          "width": 0
         },
         "mode": "lines",
         "showlegend": false,
         "text": "[97]",
         "type": "scatter",
         "x": [
          9.433012701892219,
          9,
          8.566987298107781,
          8.566987298107781,
          9,
          9.433012701892219,
          9.433012701892219
         ],
         "xaxis": "x",
         "y": [
          1.1160254037844386,
          1.3660254037844388,
          1.1160254037844388,
          0.6160254037844388,
          0.3660254037844387,
          0.6160254037844388,
          1.1160254037844388
         ],
         "yaxis": "y"
        },
        {
         "fill": "toself",
         "fillcolor": "rgb(226, 237, 243)",
         "hoverinfo": "text",
         "hoveron": "fills",
         "line": {
          "color": "black",
          "width": 0
         },
         "mode": "lines",
         "showlegend": false,
         "text": "[2]",
         "type": "scatter",
         "x": [
          8.933012701892219,
          8.5,
          8.066987298107781,
          8.066987298107781,
          8.5,
          8.933012701892219,
          8.933012701892219
         ],
         "xaxis": "x",
         "y": [
          1.9820508075688774,
          2.2320508075688776,
          1.9820508075688776,
          1.4820508075688776,
          1.2320508075688774,
          1.4820508075688776,
          1.9820508075688774
         ],
         "yaxis": "y"
        },
        {
         "fill": "toself",
         "fillcolor": "rgb(201, 225, 238)",
         "hoverinfo": "text",
         "hoveron": "fills",
         "line": {
          "color": "black",
          "width": 0
         },
         "mode": "lines",
         "showlegend": false,
         "text": "[6, 8]",
         "type": "scatter",
         "x": [
          9.433012701892219,
          9,
          8.566987298107781,
          8.566987298107781,
          9,
          9.433012701892219,
          9.433012701892219
         ],
         "xaxis": "x",
         "y": [
          2.848076211353316,
          3.098076211353316,
          2.848076211353316,
          2.348076211353316,
          2.098076211353316,
          2.348076211353316,
          2.848076211353316
         ],
         "yaxis": "y"
        },
        {
         "fill": "toself",
         "fillcolor": "rgb(12, 61, 115)",
         "hoverinfo": "text",
         "hoveron": "fills",
         "line": {
          "color": "black",
          "width": 0
         },
         "mode": "lines",
         "showlegend": false,
         "text": "[25, 78, 80]",
         "type": "scatter",
         "x": [
          8.933012701892219,
          8.5,
          8.066987298107781,
          8.066987298107781,
          8.5,
          8.933012701892219,
          8.933012701892219
         ],
         "xaxis": "x",
         "y": [
          3.714101615137755,
          3.964101615137755,
          3.714101615137755,
          3.214101615137755,
          2.964101615137755,
          3.214101615137755,
          3.714101615137755
         ],
         "yaxis": "y"
        },
        {
         "marker": {
          "color": [
           0.999246079159323,
           0.9995899436416094
          ],
          "colorbar": {
           "len": 0.1,
           "thickness": 20,
           "x": -0.15,
           "y": 0.9
          },
          "colorscale": [
           [
            0,
            "rgb(103,0,31)"
           ],
           [
            0.1,
            "rgb(178,24,43)"
           ],
           [
            0.2,
            "rgb(214,96,77)"
           ],
           [
            0.3,
            "rgb(244,165,130)"
           ],
           [
            0.4,
            "rgb(253,219,199)"
           ],
           [
            0.5,
            "rgb(247,247,247)"
           ],
           [
            0.6,
            "rgb(209,229,240)"
           ],
           [
            0.7,
            "rgb(146,197,222)"
           ],
           [
            0.8,
            "rgb(67,147,195)"
           ],
           [
            0.9,
            "rgb(33,102,172)"
           ],
           [
            1,
            "rgb(5,48,97)"
           ]
          ],
          "size": 0.001
         },
         "showlegend": false,
         "type": "scatter",
         "x": [
          0,
          0
         ],
         "xaxis": "x",
         "y": [
          0,
          0
         ],
         "yaxis": "y"
        },
        {
         "fill": "toself",
         "fillcolor": "rgb(10, 58, 111)",
         "hoverinfo": "text",
         "hoveron": "fills",
         "line": {
          "color": "black",
          "width": 0
         },
         "mode": "lines",
         "showlegend": false,
         "text": "[70, 74]",
         "type": "scatter",
         "x": [
          -0.06698729810778065,
          -0.49999999999999994,
          -0.9330127018922192,
          -0.9330127018922194,
          -0.5000000000000001,
          -0.06698729810778059,
          -0.0669872981077807
         ],
         "xaxis": "x2",
         "y": [
          0.24999999999999997,
          0.5,
          0.25000000000000017,
          -0.24999999999999986,
          -0.5,
          -0.24999999999999983,
          0.25
         ],
         "yaxis": "y2"
        },
        {
         "fill": "toself",
         "fillcolor": "rgb(9, 55, 107)",
         "hoverinfo": "text",
         "hoveron": "fills",
         "line": {
          "color": "black",
          "width": 0
         },
         "mode": "lines",
         "showlegend": false,
         "text": "[]",
         "type": "scatter",
         "x": [
          0.43301270189221935,
          3.061616997868383e-17,
          -0.43301270189221924,
          -0.4330127018922194,
          -9.184850993605148e-17,
          0.4330127018922194,
          0.4330127018922193
         ],
         "xaxis": "x2",
         "y": [
          1.1160254037844386,
          1.3660254037844388,
          1.1160254037844388,
          0.6160254037844388,
          0.3660254037844387,
          0.6160254037844388,
          1.1160254037844388
         ],
         "yaxis": "y2"
        },
        {
         "fill": "toself",
         "fillcolor": "rgb(5, 48, 98)",
         "hoverinfo": "text",
         "hoveron": "fills",
         "line": {
          "color": "black",
          "width": 0
         },
         "mode": "lines",
         "showlegend": false,
         "text": "[37, 38, 42, 43, 44, 45, 46, 64, 92]",
         "type": "scatter",
         "x": [
          -0.06698729810778065,
          -0.49999999999999994,
          -0.9330127018922192,
          -0.9330127018922194,
          -0.5000000000000001,
          -0.06698729810778059,
          -0.0669872981077807
         ],
         "xaxis": "x2",
         "y": [
          1.9820508075688774,
          2.2320508075688776,
          1.9820508075688776,
          1.4820508075688776,
          1.2320508075688774,
          1.4820508075688776,
          1.9820508075688774
         ],
         "yaxis": "y2"
        },
        {
         "fill": "toself",
         "fillcolor": "rgb(6, 49, 99)",
         "hoverinfo": "text",
         "hoveron": "fills",
         "line": {
          "color": "black",
          "width": 0
         },
         "mode": "lines",
         "showlegend": false,
         "text": "[]",
         "type": "scatter",
         "x": [
          0.43301270189221935,
          3.061616997868383e-17,
          -0.43301270189221924,
          -0.4330127018922194,
          -9.184850993605148e-17,
          0.4330127018922194,
          0.4330127018922193
         ],
         "xaxis": "x2",
         "y": [
          2.848076211353316,
          3.098076211353316,
          2.848076211353316,
          2.348076211353316,
          2.098076211353316,
          2.348076211353316,
          2.848076211353316
         ],
         "yaxis": "y2"
        },
        {
         "fill": "toself",
         "fillcolor": "rgb(5, 48, 97)",
         "hoverinfo": "text",
         "hoveron": "fills",
         "line": {
          "color": "black",
          "width": 0
         },
         "mode": "lines",
         "showlegend": false,
         "text": "[36]",
         "type": "scatter",
         "x": [
          -0.06698729810778065,
          -0.49999999999999994,
          -0.9330127018922192,
          -0.9330127018922194,
          -0.5000000000000001,
          -0.06698729810778059,
          -0.0669872981077807
         ],
         "xaxis": "x2",
         "y": [
          3.714101615137755,
          3.964101615137755,
          3.714101615137755,
          3.214101615137755,
          2.964101615137755,
          3.214101615137755,
          3.714101615137755
         ],
         "yaxis": "y2"
        },
        {
         "fill": "toself",
         "fillcolor": "rgb(26, 89, 154)",
         "hoverinfo": "text",
         "hoveron": "fills",
         "line": {
          "color": "black",
          "width": 0
         },
         "mode": "lines",
         "showlegend": false,
         "text": "[72, 76]",
         "type": "scatter",
         "x": [
          0.9330127018922194,
          0.5,
          0.06698729810778076,
          0.06698729810778059,
          0.4999999999999999,
          0.9330127018922194,
          0.9330127018922193
         ],
         "xaxis": "x2",
         "y": [
          0.24999999999999997,
          0.5,
          0.25000000000000017,
          -0.24999999999999986,
          -0.5,
          -0.24999999999999983,
          0.25
         ],
         "yaxis": "y2"
        },
        {
         "fill": "toself",
         "fillcolor": "rgb(8, 54, 105)",
         "hoverinfo": "text",
         "hoveron": "fills",
         "line": {
          "color": "black",
          "width": 0
         },
         "mode": "lines",
         "showlegend": false,
         "text": "[71, 73]",
         "type": "scatter",
         "x": [
          1.4330127018922194,
          1,
          0.5669872981077808,
          0.5669872981077806,
          0.9999999999999999,
          1.4330127018922194,
          1.4330127018922192
         ],
         "xaxis": "x2",
         "y": [
          1.1160254037844386,
          1.3660254037844388,
          1.1160254037844388,
          0.6160254037844388,
          0.3660254037844387,
          0.6160254037844388,
          1.1160254037844388
         ],
         "yaxis": "y2"
        },
        {
         "fill": "toself",
         "fillcolor": "rgb(5, 49, 98)",
         "hoverinfo": "text",
         "hoveron": "fills",
         "line": {
          "color": "black",
          "width": 0
         },
         "mode": "lines",
         "showlegend": false,
         "text": "[27, 40, 88]",
         "type": "scatter",
         "x": [
          0.9330127018922194,
          0.5,
          0.06698729810778076,
          0.06698729810778059,
          0.4999999999999999,
          0.9330127018922194,
          0.9330127018922193
         ],
         "xaxis": "x2",
         "y": [
          1.9820508075688774,
          2.2320508075688776,
          1.9820508075688776,
          1.4820508075688776,
          1.2320508075688774,
          1.4820508075688776,
          1.9820508075688774
         ],
         "yaxis": "y2"
        },
        {
         "fill": "toself",
         "fillcolor": "rgb(6, 50, 100)",
         "hoverinfo": "text",
         "hoveron": "fills",
         "line": {
          "color": "black",
          "width": 0
         },
         "mode": "lines",
         "showlegend": false,
         "text": "[29, 53, 75, 77, 83, 85]",
         "type": "scatter",
         "x": [
          1.4330127018922194,
          1,
          0.5669872981077808,
          0.5669872981077806,
          0.9999999999999999,
          1.4330127018922194,
          1.4330127018922192
         ],
         "xaxis": "x2",
         "y": [
          2.848076211353316,
          3.098076211353316,
          2.848076211353316,
          2.348076211353316,
          2.098076211353316,
          2.348076211353316,
          2.848076211353316
         ],
         "yaxis": "y2"
        },
        {
         "fill": "toself",
         "fillcolor": "rgb(6, 50, 100)",
         "hoverinfo": "text",
         "hoveron": "fills",
         "line": {
          "color": "black",
          "width": 0
         },
         "mode": "lines",
         "showlegend": false,
         "text": "[63]",
         "type": "scatter",
         "x": [
          0.9330127018922194,
          0.5,
          0.06698729810778076,
          0.06698729810778059,
          0.4999999999999999,
          0.9330127018922194,
          0.9330127018922193
         ],
         "xaxis": "x2",
         "y": [
          3.714101615137755,
          3.964101615137755,
          3.714101615137755,
          3.214101615137755,
          2.964101615137755,
          3.214101615137755,
          3.714101615137755
         ],
         "yaxis": "y2"
        },
        {
         "fill": "toself",
         "fillcolor": "rgb(11, 60, 113)",
         "hoverinfo": "text",
         "hoveron": "fills",
         "line": {
          "color": "black",
          "width": 0
         },
         "mode": "lines",
         "showlegend": false,
         "text": "[]",
         "type": "scatter",
         "x": [
          1.9330127018922194,
          1.5,
          1.0669872981077808,
          1.0669872981077806,
          1.5,
          1.9330127018922194,
          1.9330127018922192
         ],
         "xaxis": "x2",
         "y": [
          0.24999999999999997,
          0.5,
          0.25000000000000017,
          -0.24999999999999986,
          -0.5,
          -0.24999999999999983,
          0.25
         ],
         "yaxis": "y2"
        },
        {
         "fill": "toself",
         "fillcolor": "rgb(7, 51, 102)",
         "hoverinfo": "text",
         "hoveron": "fills",
         "line": {
          "color": "black",
          "width": 0
         },
         "mode": "lines",
         "showlegend": false,
         "text": "[13, 14, 26, 59, 87, 89]",
         "type": "scatter",
         "x": [
          2.433012701892219,
          2,
          1.5669872981077808,
          1.5669872981077806,
          2,
          2.4330127018922196,
          2.433012701892219
         ],
         "xaxis": "x2",
         "y": [
          1.1160254037844386,
          1.3660254037844388,
          1.1160254037844388,
          0.6160254037844388,
          0.3660254037844387,
          0.6160254037844388,
          1.1160254037844388
         ],
         "yaxis": "y2"
        },
        {
         "fill": "toself",
         "fillcolor": "rgb(6, 50, 100)",
         "hoverinfo": "text",
         "hoveron": "fills",
         "line": {
          "color": "black",
          "width": 0
         },
         "mode": "lines",
         "showlegend": false,
         "text": "[12, 67, 82]",
         "type": "scatter",
         "x": [
          1.9330127018922194,
          1.5,
          1.0669872981077808,
          1.0669872981077806,
          1.5,
          1.9330127018922194,
          1.9330127018922192
         ],
         "xaxis": "x2",
         "y": [
          1.9820508075688774,
          2.2320508075688776,
          1.9820508075688776,
          1.4820508075688776,
          1.2320508075688774,
          1.4820508075688776,
          1.9820508075688774
         ],
         "yaxis": "y2"
        },
        {
         "fill": "toself",
         "fillcolor": "rgb(16, 70, 128)",
         "hoverinfo": "text",
         "hoveron": "fills",
         "line": {
          "color": "black",
          "width": 0
         },
         "mode": "lines",
         "showlegend": false,
         "text": "[28]",
         "type": "scatter",
         "x": [
          2.433012701892219,
          2,
          1.5669872981077808,
          1.5669872981077806,
          2,
          2.4330127018922196,
          2.433012701892219
         ],
         "xaxis": "x2",
         "y": [
          2.848076211353316,
          3.098076211353316,
          2.848076211353316,
          2.348076211353316,
          2.098076211353316,
          2.348076211353316,
          2.848076211353316
         ],
         "yaxis": "y2"
        },
        {
         "fill": "toself",
         "fillcolor": "rgb(18, 74, 132)",
         "hoverinfo": "text",
         "hoveron": "fills",
         "line": {
          "color": "black",
          "width": 0
         },
         "mode": "lines",
         "showlegend": false,
         "text": "[]",
         "type": "scatter",
         "x": [
          1.9330127018922194,
          1.5,
          1.0669872981077808,
          1.0669872981077806,
          1.5,
          1.9330127018922194,
          1.9330127018922192
         ],
         "xaxis": "x2",
         "y": [
          3.714101615137755,
          3.964101615137755,
          3.714101615137755,
          3.214101615137755,
          2.964101615137755,
          3.214101615137755,
          3.714101615137755
         ],
         "yaxis": "y2"
        },
        {
         "fill": "toself",
         "fillcolor": "rgb(6, 49, 99)",
         "hoverinfo": "text",
         "hoveron": "fills",
         "line": {
          "color": "black",
          "width": 0
         },
         "mode": "lines",
         "showlegend": false,
         "text": "[]",
         "type": "scatter",
         "x": [
          2.933012701892219,
          2.5,
          2.066987298107781,
          2.0669872981077804,
          2.5,
          2.9330127018922196,
          2.933012701892219
         ],
         "xaxis": "x2",
         "y": [
          0.24999999999999997,
          0.5,
          0.25000000000000017,
          -0.24999999999999986,
          -0.5,
          -0.24999999999999983,
          0.25
         ],
         "yaxis": "y2"
        },
        {
         "fill": "toself",
         "fillcolor": "rgb(6, 49, 99)",
         "hoverinfo": "text",
         "hoveron": "fills",
         "line": {
          "color": "black",
          "width": 0
         },
         "mode": "lines",
         "showlegend": false,
         "text": "[21, 61, 66, 86]",
         "type": "scatter",
         "x": [
          3.433012701892219,
          3,
          2.566987298107781,
          2.5669872981077804,
          3,
          3.4330127018922196,
          3.433012701892219
         ],
         "xaxis": "x2",
         "y": [
          1.1160254037844386,
          1.3660254037844388,
          1.1160254037844388,
          0.6160254037844388,
          0.3660254037844387,
          0.6160254037844388,
          1.1160254037844388
         ],
         "yaxis": "y2"
        },
        {
         "fill": "toself",
         "fillcolor": "rgb(8, 54, 105)",
         "hoverinfo": "text",
         "hoveron": "fills",
         "line": {
          "color": "black",
          "width": 0
         },
         "mode": "lines",
         "showlegend": false,
         "text": "[11, 22, 57, 69]",
         "type": "scatter",
         "x": [
          2.933012701892219,
          2.5,
          2.066987298107781,
          2.0669872981077804,
          2.5,
          2.9330127018922196,
          2.933012701892219
         ],
         "xaxis": "x2",
         "y": [
          1.9820508075688774,
          2.2320508075688776,
          1.9820508075688776,
          1.4820508075688776,
          1.2320508075688774,
          1.4820508075688776,
          1.9820508075688774
         ],
         "yaxis": "y2"
        },
        {
         "fill": "toself",
         "fillcolor": "rgb(25, 86, 149)",
         "hoverinfo": "text",
         "hoveron": "fills",
         "line": {
          "color": "black",
          "width": 0
         },
         "mode": "lines",
         "showlegend": false,
         "text": "[24, 90]",
         "type": "scatter",
         "x": [
          3.433012701892219,
          3,
          2.566987298107781,
          2.5669872981077804,
          3,
          3.4330127018922196,
          3.433012701892219
         ],
         "xaxis": "x2",
         "y": [
          2.848076211353316,
          3.098076211353316,
          2.848076211353316,
          2.348076211353316,
          2.098076211353316,
          2.348076211353316,
          2.848076211353316
         ],
         "yaxis": "y2"
        },
        {
         "fill": "toself",
         "fillcolor": "rgb(53, 129, 186)",
         "hoverinfo": "text",
         "hoveron": "fills",
         "line": {
          "color": "black",
          "width": 0
         },
         "mode": "lines",
         "showlegend": false,
         "text": "[68, 84]",
         "type": "scatter",
         "x": [
          2.933012701892219,
          2.5,
          2.066987298107781,
          2.0669872981077804,
          2.5,
          2.9330127018922196,
          2.933012701892219
         ],
         "xaxis": "x2",
         "y": [
          3.714101615137755,
          3.964101615137755,
          3.714101615137755,
          3.214101615137755,
          2.964101615137755,
          3.214101615137755,
          3.714101615137755
         ],
         "yaxis": "y2"
        },
        {
         "fill": "toself",
         "fillcolor": "rgb(5, 48, 97)",
         "hoverinfo": "text",
         "hoveron": "fills",
         "line": {
          "color": "black",
          "width": 0
         },
         "mode": "lines",
         "showlegend": false,
         "text": "[93]",
         "type": "scatter",
         "x": [
          3.933012701892219,
          3.5,
          3.066987298107781,
          3.0669872981077804,
          3.5,
          3.9330127018922196,
          3.933012701892219
         ],
         "xaxis": "x2",
         "y": [
          0.24999999999999997,
          0.5,
          0.25000000000000017,
          -0.24999999999999986,
          -0.5,
          -0.24999999999999983,
          0.25
         ],
         "yaxis": "y2"
        },
        {
         "fill": "toself",
         "fillcolor": "rgb(5, 48, 98)",
         "hoverinfo": "text",
         "hoveron": "fills",
         "line": {
          "color": "black",
          "width": 0
         },
         "mode": "lines",
         "showlegend": false,
         "text": "[10, 34, 65]",
         "type": "scatter",
         "x": [
          4.43301270189222,
          4,
          3.566987298107781,
          3.5669872981077804,
          4,
          4.43301270189222,
          4.43301270189222
         ],
         "xaxis": "x2",
         "y": [
          1.1160254037844386,
          1.3660254037844388,
          1.1160254037844388,
          0.6160254037844388,
          0.3660254037844387,
          0.6160254037844388,
          1.1160254037844388
         ],
         "yaxis": "y2"
        },
        {
         "fill": "toself",
         "fillcolor": "rgb(6, 51, 101)",
         "hoverinfo": "text",
         "hoveron": "fills",
         "line": {
          "color": "black",
          "width": 0
         },
         "mode": "lines",
         "showlegend": false,
         "text": "[31, 58, 91]",
         "type": "scatter",
         "x": [
          3.933012701892219,
          3.5,
          3.066987298107781,
          3.0669872981077804,
          3.5,
          3.9330127018922196,
          3.933012701892219
         ],
         "xaxis": "x2",
         "y": [
          1.9820508075688774,
          2.2320508075688776,
          1.9820508075688776,
          1.4820508075688776,
          1.2320508075688774,
          1.4820508075688776,
          1.9820508075688774
         ],
         "yaxis": "y2"
        },
        {
         "fill": "toself",
         "fillcolor": "rgb(19, 75, 134)",
         "hoverinfo": "text",
         "hoveron": "fills",
         "line": {
          "color": "black",
          "width": 0
         },
         "mode": "lines",
         "showlegend": false,
         "text": "[]",
         "type": "scatter",
         "x": [
          4.43301270189222,
          4,
          3.566987298107781,
          3.5669872981077804,
          4,
          4.43301270189222,
          4.43301270189222
         ],
         "xaxis": "x2",
         "y": [
          2.848076211353316,
          3.098076211353316,
          2.848076211353316,
          2.348076211353316,
          2.098076211353316,
          2.348076211353316,
          2.848076211353316
         ],
         "yaxis": "y2"
        },
        {
         "fill": "toself",
         "fillcolor": "rgb(79, 155, 199)",
         "hoverinfo": "text",
         "hoveron": "fills",
         "line": {
          "color": "black",
          "width": 0
         },
         "mode": "lines",
         "showlegend": false,
         "text": "[81]",
         "type": "scatter",
         "x": [
          3.933012701892219,
          3.5,
          3.066987298107781,
          3.0669872981077804,
          3.5,
          3.9330127018922196,
          3.933012701892219
         ],
         "xaxis": "x2",
         "y": [
          3.714101615137755,
          3.964101615137755,
          3.714101615137755,
          3.214101615137755,
          2.964101615137755,
          3.214101615137755,
          3.714101615137755
         ],
         "yaxis": "y2"
        },
        {
         "fill": "toself",
         "fillcolor": "rgb(5, 48, 97)",
         "hoverinfo": "text",
         "hoveron": "fills",
         "line": {
          "color": "black",
          "width": 0
         },
         "mode": "lines",
         "showlegend": false,
         "text": "[100]",
         "type": "scatter",
         "x": [
          4.93301270189222,
          4.5,
          4.06698729810778,
          4.06698729810778,
          4.5,
          4.93301270189222,
          4.93301270189222
         ],
         "xaxis": "x2",
         "y": [
          0.24999999999999997,
          0.5,
          0.25000000000000017,
          -0.24999999999999986,
          -0.5,
          -0.24999999999999983,
          0.25
         ],
         "yaxis": "y2"
        },
        {
         "fill": "toself",
         "fillcolor": "rgb(8, 55, 106)",
         "hoverinfo": "text",
         "hoveron": "fills",
         "line": {
          "color": "black",
          "width": 0
         },
         "mode": "lines",
         "showlegend": false,
         "text": "[15, 41]",
         "type": "scatter",
         "x": [
          5.43301270189222,
          5,
          4.56698729810778,
          4.56698729810778,
          5,
          5.43301270189222,
          5.43301270189222
         ],
         "xaxis": "x2",
         "y": [
          1.1160254037844386,
          1.3660254037844388,
          1.1160254037844388,
          0.6160254037844388,
          0.3660254037844387,
          0.6160254037844388,
          1.1160254037844388
         ],
         "yaxis": "y2"
        },
        {
         "fill": "toself",
         "fillcolor": "rgb(8, 55, 106)",
         "hoverinfo": "text",
         "hoveron": "fills",
         "line": {
          "color": "black",
          "width": 0
         },
         "mode": "lines",
         "showlegend": false,
         "text": "[16, 18, 60]",
         "type": "scatter",
         "x": [
          4.93301270189222,
          4.5,
          4.06698729810778,
          4.06698729810778,
          4.5,
          4.93301270189222,
          4.93301270189222
         ],
         "xaxis": "x2",
         "y": [
          1.9820508075688774,
          2.2320508075688776,
          1.9820508075688776,
          1.4820508075688776,
          1.2320508075688774,
          1.4820508075688776,
          1.9820508075688774
         ],
         "yaxis": "y2"
        },
        {
         "fill": "toself",
         "fillcolor": "rgb(25, 86, 150)",
         "hoverinfo": "text",
         "hoveron": "fills",
         "line": {
          "color": "black",
          "width": 0
         },
         "mode": "lines",
         "showlegend": false,
         "text": "[50]",
         "type": "scatter",
         "x": [
          5.43301270189222,
          5,
          4.56698729810778,
          4.56698729810778,
          5,
          5.43301270189222,
          5.43301270189222
         ],
         "xaxis": "x2",
         "y": [
          2.848076211353316,
          3.098076211353316,
          2.848076211353316,
          2.348076211353316,
          2.098076211353316,
          2.348076211353316,
          2.848076211353316
         ],
         "yaxis": "y2"
        },
        {
         "fill": "toself",
         "fillcolor": "rgb(52, 127, 185)",
         "hoverinfo": "text",
         "hoveron": "fills",
         "line": {
          "color": "black",
          "width": 0
         },
         "mode": "lines",
         "showlegend": false,
         "text": "[]",
         "type": "scatter",
         "x": [
          4.93301270189222,
          4.5,
          4.06698729810778,
          4.06698729810778,
          4.5,
          4.93301270189222,
          4.93301270189222
         ],
         "xaxis": "x2",
         "y": [
          3.714101615137755,
          3.964101615137755,
          3.714101615137755,
          3.214101615137755,
          2.964101615137755,
          3.214101615137755,
          3.714101615137755
         ],
         "yaxis": "y2"
        },
        {
         "fill": "toself",
         "fillcolor": "rgb(5, 49, 98)",
         "hoverinfo": "text",
         "hoveron": "fills",
         "line": {
          "color": "black",
          "width": 0
         },
         "mode": "lines",
         "showlegend": false,
         "text": "[17, 32, 33, 56, 94, 99]",
         "type": "scatter",
         "x": [
          5.93301270189222,
          5.5,
          5.06698729810778,
          5.06698729810778,
          5.5,
          5.93301270189222,
          5.93301270189222
         ],
         "xaxis": "x2",
         "y": [
          0.24999999999999997,
          0.5,
          0.25000000000000017,
          -0.24999999999999986,
          -0.5,
          -0.24999999999999983,
          0.25
         ],
         "yaxis": "y2"
        },
        {
         "fill": "toself",
         "fillcolor": "rgb(10, 57, 110)",
         "hoverinfo": "text",
         "hoveron": "fills",
         "line": {
          "color": "black",
          "width": 0
         },
         "mode": "lines",
         "showlegend": false,
         "text": "[20, 35, 48]",
         "type": "scatter",
         "x": [
          6.43301270189222,
          6,
          5.56698729810778,
          5.56698729810778,
          6,
          6.43301270189222,
          6.43301270189222
         ],
         "xaxis": "x2",
         "y": [
          1.1160254037844386,
          1.3660254037844388,
          1.1160254037844388,
          0.6160254037844388,
          0.3660254037844387,
          0.6160254037844388,
          1.1160254037844388
         ],
         "yaxis": "y2"
        },
        {
         "fill": "toself",
         "fillcolor": "rgb(29, 94, 162)",
         "hoverinfo": "text",
         "hoveron": "fills",
         "line": {
          "color": "black",
          "width": 0
         },
         "mode": "lines",
         "showlegend": false,
         "text": "[19, 23, 47]",
         "type": "scatter",
         "x": [
          5.93301270189222,
          5.5,
          5.06698729810778,
          5.06698729810778,
          5.5,
          5.93301270189222,
          5.93301270189222
         ],
         "xaxis": "x2",
         "y": [
          1.9820508075688774,
          2.2320508075688776,
          1.9820508075688776,
          1.4820508075688776,
          1.2320508075688774,
          1.4820508075688776,
          1.9820508075688774
         ],
         "yaxis": "y2"
        },
        {
         "fill": "toself",
         "fillcolor": "rgb(91, 162, 203)",
         "hoverinfo": "text",
         "hoveron": "fills",
         "line": {
          "color": "black",
          "width": 0
         },
         "mode": "lines",
         "showlegend": false,
         "text": "[1]",
         "type": "scatter",
         "x": [
          6.43301270189222,
          6,
          5.56698729810778,
          5.56698729810778,
          6,
          6.43301270189222,
          6.43301270189222
         ],
         "xaxis": "x2",
         "y": [
          2.848076211353316,
          3.098076211353316,
          2.848076211353316,
          2.348076211353316,
          2.098076211353316,
          2.348076211353316,
          2.848076211353316
         ],
         "yaxis": "y2"
        },
        {
         "fill": "toself",
         "fillcolor": "rgb(93, 163, 204)",
         "hoverinfo": "text",
         "hoveron": "fills",
         "line": {
          "color": "black",
          "width": 0
         },
         "mode": "lines",
         "showlegend": false,
         "text": "[]",
         "type": "scatter",
         "x": [
          5.93301270189222,
          5.5,
          5.06698729810778,
          5.06698729810778,
          5.5,
          5.93301270189222,
          5.93301270189222
         ],
         "xaxis": "x2",
         "y": [
          3.714101615137755,
          3.964101615137755,
          3.714101615137755,
          3.214101615137755,
          2.964101615137755,
          3.214101615137755,
          3.714101615137755
         ],
         "yaxis": "y2"
        },
        {
         "fill": "toself",
         "fillcolor": "rgb(6, 49, 98)",
         "hoverinfo": "text",
         "hoveron": "fills",
         "line": {
          "color": "black",
          "width": 0
         },
         "mode": "lines",
         "showlegend": false,
         "text": "[30, 39, 49, 62, 98, 101]",
         "type": "scatter",
         "x": [
          6.93301270189222,
          6.5,
          6.06698729810778,
          6.06698729810778,
          6.5,
          6.93301270189222,
          6.93301270189222
         ],
         "xaxis": "x2",
         "y": [
          0.24999999999999997,
          0.5,
          0.25000000000000017,
          -0.24999999999999986,
          -0.5,
          -0.24999999999999983,
          0.25
         ],
         "yaxis": "y2"
        },
        {
         "fill": "toself",
         "fillcolor": "rgb(21, 78, 139)",
         "hoverinfo": "text",
         "hoveron": "fills",
         "line": {
          "color": "black",
          "width": 0
         },
         "mode": "lines",
         "showlegend": false,
         "text": "[]",
         "type": "scatter",
         "x": [
          7.43301270189222,
          7,
          6.56698729810778,
          6.56698729810778,
          7,
          7.43301270189222,
          7.43301270189222
         ],
         "xaxis": "x2",
         "y": [
          1.1160254037844386,
          1.3660254037844388,
          1.1160254037844388,
          0.6160254037844388,
          0.3660254037844387,
          0.6160254037844388,
          1.1160254037844388
         ],
         "yaxis": "y2"
        },
        {
         "fill": "toself",
         "fillcolor": "rgb(55, 131, 187)",
         "hoverinfo": "text",
         "hoveron": "fills",
         "line": {
          "color": "black",
          "width": 0
         },
         "mode": "lines",
         "showlegend": false,
         "text": "[51, 55]",
         "type": "scatter",
         "x": [
          6.93301270189222,
          6.5,
          6.06698729810778,
          6.06698729810778,
          6.5,
          6.93301270189222,
          6.93301270189222
         ],
         "xaxis": "x2",
         "y": [
          1.9820508075688774,
          2.2320508075688776,
          1.9820508075688776,
          1.4820508075688776,
          1.2320508075688774,
          1.4820508075688776,
          1.9820508075688774
         ],
         "yaxis": "y2"
        },
        {
         "fill": "toself",
         "fillcolor": "rgb(179, 214, 231)",
         "hoverinfo": "text",
         "hoveron": "fills",
         "line": {
          "color": "black",
          "width": 0
         },
         "mode": "lines",
         "showlegend": false,
         "text": "[5, 7, 9]",
         "type": "scatter",
         "x": [
          7.43301270189222,
          7,
          6.56698729810778,
          6.56698729810778,
          7,
          7.43301270189222,
          7.43301270189222
         ],
         "xaxis": "x2",
         "y": [
          2.848076211353316,
          3.098076211353316,
          2.848076211353316,
          2.348076211353316,
          2.098076211353316,
          2.348076211353316,
          2.848076211353316
         ],
         "yaxis": "y2"
        },
        {
         "fill": "toself",
         "fillcolor": "rgb(196, 222, 236)",
         "hoverinfo": "text",
         "hoveron": "fills",
         "line": {
          "color": "black",
          "width": 0
         },
         "mode": "lines",
         "showlegend": false,
         "text": "[3, 52]",
         "type": "scatter",
         "x": [
          6.93301270189222,
          6.5,
          6.06698729810778,
          6.06698729810778,
          6.5,
          6.93301270189222,
          6.93301270189222
         ],
         "xaxis": "x2",
         "y": [
          3.714101615137755,
          3.964101615137755,
          3.714101615137755,
          3.214101615137755,
          2.964101615137755,
          3.214101615137755,
          3.714101615137755
         ],
         "yaxis": "y2"
        },
        {
         "fill": "toself",
         "fillcolor": "rgb(9, 56, 108)",
         "hoverinfo": "text",
         "hoveron": "fills",
         "line": {
          "color": "black",
          "width": 0
         },
         "mode": "lines",
         "showlegend": false,
         "text": "[54]",
         "type": "scatter",
         "x": [
          7.93301270189222,
          7.5,
          7.06698729810778,
          7.06698729810778,
          7.5,
          7.93301270189222,
          7.93301270189222
         ],
         "xaxis": "x2",
         "y": [
          0.24999999999999997,
          0.5,
          0.25000000000000017,
          -0.24999999999999986,
          -0.5,
          -0.24999999999999983,
          0.25
         ],
         "yaxis": "y2"
        },
        {
         "fill": "toself",
         "fillcolor": "rgb(42, 114, 178)",
         "hoverinfo": "text",
         "hoveron": "fills",
         "line": {
          "color": "black",
          "width": 0
         },
         "mode": "lines",
         "showlegend": false,
         "text": "[95]",
         "type": "scatter",
         "x": [
          8.433012701892219,
          8,
          7.56698729810778,
          7.56698729810778,
          8,
          8.433012701892219,
          8.433012701892219
         ],
         "xaxis": "x2",
         "y": [
          1.1160254037844386,
          1.3660254037844388,
          1.1160254037844388,
          0.6160254037844388,
          0.3660254037844387,
          0.6160254037844388,
          1.1160254037844388
         ],
         "yaxis": "y2"
        },
        {
         "fill": "toself",
         "fillcolor": "rgb(91, 162, 203)",
         "hoverinfo": "text",
         "hoveron": "fills",
         "line": {
          "color": "black",
          "width": 0
         },
         "mode": "lines",
         "showlegend": false,
         "text": "[0, 4]",
         "type": "scatter",
         "x": [
          7.93301270189222,
          7.5,
          7.06698729810778,
          7.06698729810778,
          7.5,
          7.93301270189222,
          7.93301270189222
         ],
         "xaxis": "x2",
         "y": [
          1.9820508075688774,
          2.2320508075688776,
          1.9820508075688776,
          1.4820508075688776,
          1.2320508075688774,
          1.4820508075688776,
          1.9820508075688774
         ],
         "yaxis": "y2"
        },
        {
         "fill": "toself",
         "fillcolor": "rgb(253, 217, 197)",
         "hoverinfo": "text",
         "hoveron": "fills",
         "line": {
          "color": "black",
          "width": 0
         },
         "mode": "lines",
         "showlegend": false,
         "text": "[]",
         "type": "scatter",
         "x": [
          8.433012701892219,
          8,
          7.56698729810778,
          7.56698729810778,
          8,
          8.433012701892219,
          8.433012701892219
         ],
         "xaxis": "x2",
         "y": [
          2.848076211353316,
          3.098076211353316,
          2.848076211353316,
          2.348076211353316,
          2.098076211353316,
          2.348076211353316,
          2.848076211353316
         ],
         "yaxis": "y2"
        },
        {
         "fill": "toself",
         "fillcolor": "rgb(250, 234, 225)",
         "hoverinfo": "text",
         "hoveron": "fills",
         "line": {
          "color": "black",
          "width": 0
         },
         "mode": "lines",
         "showlegend": false,
         "text": "[79]",
         "type": "scatter",
         "x": [
          7.93301270189222,
          7.5,
          7.06698729810778,
          7.06698729810778,
          7.5,
          7.93301270189222,
          7.93301270189222
         ],
         "xaxis": "x2",
         "y": [
          3.714101615137755,
          3.964101615137755,
          3.714101615137755,
          3.214101615137755,
          2.964101615137755,
          3.214101615137755,
          3.714101615137755
         ],
         "yaxis": "y2"
        },
        {
         "fill": "toself",
         "fillcolor": "rgb(23, 83, 146)",
         "hoverinfo": "text",
         "hoveron": "fills",
         "line": {
          "color": "black",
          "width": 0
         },
         "mode": "lines",
         "showlegend": false,
         "text": "[96]",
         "type": "scatter",
         "x": [
          8.933012701892219,
          8.5,
          8.066987298107781,
          8.066987298107781,
          8.5,
          8.933012701892219,
          8.933012701892219
         ],
         "xaxis": "x2",
         "y": [
          0.24999999999999997,
          0.5,
          0.25000000000000017,
          -0.24999999999999986,
          -0.5,
          -0.24999999999999983,
          0.25
         ],
         "yaxis": "y2"
        },
        {
         "fill": "toself",
         "fillcolor": "rgb(195, 222, 236)",
         "hoverinfo": "text",
         "hoveron": "fills",
         "line": {
          "color": "black",
          "width": 0
         },
         "mode": "lines",
         "showlegend": false,
         "text": "[97]",
         "type": "scatter",
         "x": [
          9.433012701892219,
          9,
          8.566987298107781,
          8.566987298107781,
          9,
          9.433012701892219,
          9.433012701892219
         ],
         "xaxis": "x2",
         "y": [
          1.1160254037844386,
          1.3660254037844388,
          1.1160254037844388,
          0.6160254037844388,
          0.3660254037844387,
          0.6160254037844388,
          1.1160254037844388
         ],
         "yaxis": "y2"
        },
        {
         "fill": "toself",
         "fillcolor": "rgb(251, 227, 213)",
         "hoverinfo": "text",
         "hoveron": "fills",
         "line": {
          "color": "black",
          "width": 0
         },
         "mode": "lines",
         "showlegend": false,
         "text": "[2]",
         "type": "scatter",
         "x": [
          8.933012701892219,
          8.5,
          8.066987298107781,
          8.066987298107781,
          8.5,
          8.933012701892219,
          8.933012701892219
         ],
         "xaxis": "x2",
         "y": [
          1.9820508075688774,
          2.2320508075688776,
          1.9820508075688776,
          1.4820508075688776,
          1.2320508075688774,
          1.4820508075688776,
          1.9820508075688774
         ],
         "yaxis": "y2"
        },
        {
         "fill": "toself",
         "fillcolor": "rgb(103, 0, 31)",
         "hoverinfo": "text",
         "hoveron": "fills",
         "line": {
          "color": "black",
          "width": 0
         },
         "mode": "lines",
         "showlegend": false,
         "text": "[6, 8]",
         "type": "scatter",
         "x": [
          9.433012701892219,
          9,
          8.566987298107781,
          8.566987298107781,
          9,
          9.433012701892219,
          9.433012701892219
         ],
         "xaxis": "x2",
         "y": [
          2.848076211353316,
          3.098076211353316,
          2.848076211353316,
          2.348076211353316,
          2.098076211353316,
          2.348076211353316,
          2.848076211353316
         ],
         "yaxis": "y2"
        },
        {
         "fill": "toself",
         "fillcolor": "rgb(192, 52, 56)",
         "hoverinfo": "text",
         "hoveron": "fills",
         "line": {
          "color": "black",
          "width": 0
         },
         "mode": "lines",
         "showlegend": false,
         "text": "[25, 78, 80]",
         "type": "scatter",
         "x": [
          8.933012701892219,
          8.5,
          8.066987298107781,
          8.066987298107781,
          8.5,
          8.933012701892219,
          8.933012701892219
         ],
         "xaxis": "x2",
         "y": [
          3.714101615137755,
          3.964101615137755,
          3.714101615137755,
          3.214101615137755,
          2.964101615137755,
          3.214101615137755,
          3.714101615137755
         ],
         "yaxis": "y2"
        },
        {
         "marker": {
          "color": [
           0.7007603098854072,
           0.9996858649878213
          ],
          "colorbar": {
           "len": 0.1,
           "thickness": 20,
           "x": 1,
           "y": 0.9
          },
          "colorscale": [
           [
            0,
            "rgb(103,0,31)"
           ],
           [
            0.1,
            "rgb(178,24,43)"
           ],
           [
            0.2,
            "rgb(214,96,77)"
           ],
           [
            0.3,
            "rgb(244,165,130)"
           ],
           [
            0.4,
            "rgb(253,219,199)"
           ],
           [
            0.5,
            "rgb(247,247,247)"
           ],
           [
            0.6,
            "rgb(209,229,240)"
           ],
           [
            0.7,
            "rgb(146,197,222)"
           ],
           [
            0.8,
            "rgb(67,147,195)"
           ],
           [
            0.9,
            "rgb(33,102,172)"
           ],
           [
            1,
            "rgb(5,48,97)"
           ]
          ],
          "size": 0.001
         },
         "showlegend": false,
         "type": "scatter",
         "x": [
          0,
          0
         ],
         "xaxis": "x2",
         "y": [
          0,
          0
         ],
         "yaxis": "y2"
        },
        {
         "fill": "toself",
         "fillcolor": "rgb(5, 48, 97)",
         "hoverinfo": "text",
         "hoveron": "fills",
         "line": {
          "color": "black",
          "width": 0
         },
         "mode": "lines",
         "showlegend": false,
         "text": "[70, 74]",
         "type": "scatter",
         "x": [
          -0.06698729810778065,
          -0.49999999999999994,
          -0.9330127018922192,
          -0.9330127018922194,
          -0.5000000000000001,
          -0.06698729810778059,
          -0.0669872981077807
         ],
         "xaxis": "x3",
         "y": [
          0.24999999999999997,
          0.5,
          0.25000000000000017,
          -0.24999999999999986,
          -0.5,
          -0.24999999999999983,
          0.25
         ],
         "yaxis": "y3"
        },
        {
         "fill": "toself",
         "fillcolor": "rgb(5, 48, 97)",
         "hoverinfo": "text",
         "hoveron": "fills",
         "line": {
          "color": "black",
          "width": 0
         },
         "mode": "lines",
         "showlegend": false,
         "text": "[]",
         "type": "scatter",
         "x": [
          0.43301270189221935,
          3.061616997868383e-17,
          -0.43301270189221924,
          -0.4330127018922194,
          -9.184850993605148e-17,
          0.4330127018922194,
          0.4330127018922193
         ],
         "xaxis": "x3",
         "y": [
          1.1160254037844386,
          1.3660254037844388,
          1.1160254037844388,
          0.6160254037844388,
          0.3660254037844387,
          0.6160254037844388,
          1.1160254037844388
         ],
         "yaxis": "y3"
        },
        {
         "fill": "toself",
         "fillcolor": "rgb(5, 48, 97)",
         "hoverinfo": "text",
         "hoveron": "fills",
         "line": {
          "color": "black",
          "width": 0
         },
         "mode": "lines",
         "showlegend": false,
         "text": "[37, 38, 42, 43, 44, 45, 46, 64, 92]",
         "type": "scatter",
         "x": [
          -0.06698729810778065,
          -0.49999999999999994,
          -0.9330127018922192,
          -0.9330127018922194,
          -0.5000000000000001,
          -0.06698729810778059,
          -0.0669872981077807
         ],
         "xaxis": "x3",
         "y": [
          1.9820508075688774,
          2.2320508075688776,
          1.9820508075688776,
          1.4820508075688776,
          1.2320508075688774,
          1.4820508075688776,
          1.9820508075688774
         ],
         "yaxis": "y3"
        },
        {
         "fill": "toself",
         "fillcolor": "rgb(29, 95, 162)",
         "hoverinfo": "text",
         "hoveron": "fills",
         "line": {
          "color": "black",
          "width": 0
         },
         "mode": "lines",
         "showlegend": false,
         "text": "[]",
         "type": "scatter",
         "x": [
          0.43301270189221935,
          3.061616997868383e-17,
          -0.43301270189221924,
          -0.4330127018922194,
          -9.184850993605148e-17,
          0.4330127018922194,
          0.4330127018922193
         ],
         "xaxis": "x3",
         "y": [
          2.848076211353316,
          3.098076211353316,
          2.848076211353316,
          2.348076211353316,
          2.098076211353316,
          2.348076211353316,
          2.848076211353316
         ],
         "yaxis": "y3"
        },
        {
         "fill": "toself",
         "fillcolor": "rgb(103, 0, 31)",
         "hoverinfo": "text",
         "hoveron": "fills",
         "line": {
          "color": "black",
          "width": 0
         },
         "mode": "lines",
         "showlegend": false,
         "text": "[36]",
         "type": "scatter",
         "x": [
          -0.06698729810778065,
          -0.49999999999999994,
          -0.9330127018922192,
          -0.9330127018922194,
          -0.5000000000000001,
          -0.06698729810778059,
          -0.0669872981077807
         ],
         "xaxis": "x3",
         "y": [
          3.714101615137755,
          3.964101615137755,
          3.714101615137755,
          3.214101615137755,
          2.964101615137755,
          3.214101615137755,
          3.714101615137755
         ],
         "yaxis": "y3"
        },
        {
         "fill": "toself",
         "fillcolor": "rgb(5, 48, 97)",
         "hoverinfo": "text",
         "hoveron": "fills",
         "line": {
          "color": "black",
          "width": 0
         },
         "mode": "lines",
         "showlegend": false,
         "text": "[72, 76]",
         "type": "scatter",
         "x": [
          0.9330127018922194,
          0.5,
          0.06698729810778076,
          0.06698729810778059,
          0.4999999999999999,
          0.9330127018922194,
          0.9330127018922193
         ],
         "xaxis": "x3",
         "y": [
          0.24999999999999997,
          0.5,
          0.25000000000000017,
          -0.24999999999999986,
          -0.5,
          -0.24999999999999983,
          0.25
         ],
         "yaxis": "y3"
        },
        {
         "fill": "toself",
         "fillcolor": "rgb(5, 48, 97)",
         "hoverinfo": "text",
         "hoveron": "fills",
         "line": {
          "color": "black",
          "width": 0
         },
         "mode": "lines",
         "showlegend": false,
         "text": "[71, 73]",
         "type": "scatter",
         "x": [
          1.4330127018922194,
          1,
          0.5669872981077808,
          0.5669872981077806,
          0.9999999999999999,
          1.4330127018922194,
          1.4330127018922192
         ],
         "xaxis": "x3",
         "y": [
          1.1160254037844386,
          1.3660254037844388,
          1.1160254037844388,
          0.6160254037844388,
          0.3660254037844387,
          0.6160254037844388,
          1.1160254037844388
         ],
         "yaxis": "y3"
        },
        {
         "fill": "toself",
         "fillcolor": "rgb(5, 48, 97)",
         "hoverinfo": "text",
         "hoveron": "fills",
         "line": {
          "color": "black",
          "width": 0
         },
         "mode": "lines",
         "showlegend": false,
         "text": "[27, 40, 88]",
         "type": "scatter",
         "x": [
          0.9330127018922194,
          0.5,
          0.06698729810778076,
          0.06698729810778059,
          0.4999999999999999,
          0.9330127018922194,
          0.9330127018922193
         ],
         "xaxis": "x3",
         "y": [
          1.9820508075688774,
          2.2320508075688776,
          1.9820508075688776,
          1.4820508075688776,
          1.2320508075688774,
          1.4820508075688776,
          1.9820508075688774
         ],
         "yaxis": "y3"
        },
        {
         "fill": "toself",
         "fillcolor": "rgb(7, 51, 101)",
         "hoverinfo": "text",
         "hoveron": "fills",
         "line": {
          "color": "black",
          "width": 0
         },
         "mode": "lines",
         "showlegend": false,
         "text": "[29, 53, 75, 77, 83, 85]",
         "type": "scatter",
         "x": [
          1.4330127018922194,
          1,
          0.5669872981077808,
          0.5669872981077806,
          0.9999999999999999,
          1.4330127018922194,
          1.4330127018922192
         ],
         "xaxis": "x3",
         "y": [
          2.848076211353316,
          3.098076211353316,
          2.848076211353316,
          2.348076211353316,
          2.098076211353316,
          2.348076211353316,
          2.848076211353316
         ],
         "yaxis": "y3"
        },
        {
         "fill": "toself",
         "fillcolor": "rgb(149, 199, 223)",
         "hoverinfo": "text",
         "hoveron": "fills",
         "line": {
          "color": "black",
          "width": 0
         },
         "mode": "lines",
         "showlegend": false,
         "text": "[63]",
         "type": "scatter",
         "x": [
          0.9330127018922194,
          0.5,
          0.06698729810778076,
          0.06698729810778059,
          0.4999999999999999,
          0.9330127018922194,
          0.9330127018922193
         ],
         "xaxis": "x3",
         "y": [
          3.714101615137755,
          3.964101615137755,
          3.714101615137755,
          3.214101615137755,
          2.964101615137755,
          3.214101615137755,
          3.714101615137755
         ],
         "yaxis": "y3"
        },
        {
         "fill": "toself",
         "fillcolor": "rgb(5, 48, 97)",
         "hoverinfo": "text",
         "hoveron": "fills",
         "line": {
          "color": "black",
          "width": 0
         },
         "mode": "lines",
         "showlegend": false,
         "text": "[]",
         "type": "scatter",
         "x": [
          1.9330127018922194,
          1.5,
          1.0669872981077808,
          1.0669872981077806,
          1.5,
          1.9330127018922194,
          1.9330127018922192
         ],
         "xaxis": "x3",
         "y": [
          0.24999999999999997,
          0.5,
          0.25000000000000017,
          -0.24999999999999986,
          -0.5,
          -0.24999999999999983,
          0.25
         ],
         "yaxis": "y3"
        },
        {
         "fill": "toself",
         "fillcolor": "rgb(5, 49, 98)",
         "hoverinfo": "text",
         "hoveron": "fills",
         "line": {
          "color": "black",
          "width": 0
         },
         "mode": "lines",
         "showlegend": false,
         "text": "[13, 14, 26, 59, 87, 89]",
         "type": "scatter",
         "x": [
          2.433012701892219,
          2,
          1.5669872981077808,
          1.5669872981077806,
          2,
          2.4330127018922196,
          2.433012701892219
         ],
         "xaxis": "x3",
         "y": [
          1.1160254037844386,
          1.3660254037844388,
          1.1160254037844388,
          0.6160254037844388,
          0.3660254037844387,
          0.6160254037844388,
          1.1160254037844388
         ],
         "yaxis": "y3"
        },
        {
         "fill": "toself",
         "fillcolor": "rgb(5, 48, 97)",
         "hoverinfo": "text",
         "hoveron": "fills",
         "line": {
          "color": "black",
          "width": 0
         },
         "mode": "lines",
         "showlegend": false,
         "text": "[12, 67, 82]",
         "type": "scatter",
         "x": [
          1.9330127018922194,
          1.5,
          1.0669872981077808,
          1.0669872981077806,
          1.5,
          1.9330127018922194,
          1.9330127018922192
         ],
         "xaxis": "x3",
         "y": [
          1.9820508075688774,
          2.2320508075688776,
          1.9820508075688776,
          1.4820508075688776,
          1.2320508075688774,
          1.4820508075688776,
          1.9820508075688774
         ],
         "yaxis": "y3"
        },
        {
         "fill": "toself",
         "fillcolor": "rgb(5, 48, 97)",
         "hoverinfo": "text",
         "hoveron": "fills",
         "line": {
          "color": "black",
          "width": 0
         },
         "mode": "lines",
         "showlegend": false,
         "text": "[28]",
         "type": "scatter",
         "x": [
          2.433012701892219,
          2,
          1.5669872981077808,
          1.5669872981077806,
          2,
          2.4330127018922196,
          2.433012701892219
         ],
         "xaxis": "x3",
         "y": [
          2.848076211353316,
          3.098076211353316,
          2.848076211353316,
          2.348076211353316,
          2.098076211353316,
          2.348076211353316,
          2.848076211353316
         ],
         "yaxis": "y3"
        },
        {
         "fill": "toself",
         "fillcolor": "rgb(16, 70, 127)",
         "hoverinfo": "text",
         "hoveron": "fills",
         "line": {
          "color": "black",
          "width": 0
         },
         "mode": "lines",
         "showlegend": false,
         "text": "[]",
         "type": "scatter",
         "x": [
          1.9330127018922194,
          1.5,
          1.0669872981077808,
          1.0669872981077806,
          1.5,
          1.9330127018922194,
          1.9330127018922192
         ],
         "xaxis": "x3",
         "y": [
          3.714101615137755,
          3.964101615137755,
          3.714101615137755,
          3.214101615137755,
          2.964101615137755,
          3.214101615137755,
          3.714101615137755
         ],
         "yaxis": "y3"
        },
        {
         "fill": "toself",
         "fillcolor": "rgb(5, 48, 97)",
         "hoverinfo": "text",
         "hoveron": "fills",
         "line": {
          "color": "black",
          "width": 0
         },
         "mode": "lines",
         "showlegend": false,
         "text": "[]",
         "type": "scatter",
         "x": [
          2.933012701892219,
          2.5,
          2.066987298107781,
          2.0669872981077804,
          2.5,
          2.9330127018922196,
          2.933012701892219
         ],
         "xaxis": "x3",
         "y": [
          0.24999999999999997,
          0.5,
          0.25000000000000017,
          -0.24999999999999986,
          -0.5,
          -0.24999999999999983,
          0.25
         ],
         "yaxis": "y3"
        },
        {
         "fill": "toself",
         "fillcolor": "rgb(5, 48, 98)",
         "hoverinfo": "text",
         "hoveron": "fills",
         "line": {
          "color": "black",
          "width": 0
         },
         "mode": "lines",
         "showlegend": false,
         "text": "[21, 61, 66, 86]",
         "type": "scatter",
         "x": [
          3.433012701892219,
          3,
          2.566987298107781,
          2.5669872981077804,
          3,
          3.4330127018922196,
          3.433012701892219
         ],
         "xaxis": "x3",
         "y": [
          1.1160254037844386,
          1.3660254037844388,
          1.1160254037844388,
          0.6160254037844388,
          0.3660254037844387,
          0.6160254037844388,
          1.1160254037844388
         ],
         "yaxis": "y3"
        },
        {
         "fill": "toself",
         "fillcolor": "rgb(5, 48, 97)",
         "hoverinfo": "text",
         "hoveron": "fills",
         "line": {
          "color": "black",
          "width": 0
         },
         "mode": "lines",
         "showlegend": false,
         "text": "[11, 22, 57, 69]",
         "type": "scatter",
         "x": [
          2.933012701892219,
          2.5,
          2.066987298107781,
          2.0669872981077804,
          2.5,
          2.9330127018922196,
          2.933012701892219
         ],
         "xaxis": "x3",
         "y": [
          1.9820508075688774,
          2.2320508075688776,
          1.9820508075688776,
          1.4820508075688776,
          1.2320508075688774,
          1.4820508075688776,
          1.9820508075688774
         ],
         "yaxis": "y3"
        },
        {
         "fill": "toself",
         "fillcolor": "rgb(5, 48, 98)",
         "hoverinfo": "text",
         "hoveron": "fills",
         "line": {
          "color": "black",
          "width": 0
         },
         "mode": "lines",
         "showlegend": false,
         "text": "[24, 90]",
         "type": "scatter",
         "x": [
          3.433012701892219,
          3,
          2.566987298107781,
          2.5669872981077804,
          3,
          3.4330127018922196,
          3.433012701892219
         ],
         "xaxis": "x3",
         "y": [
          2.848076211353316,
          3.098076211353316,
          2.848076211353316,
          2.348076211353316,
          2.098076211353316,
          2.348076211353316,
          2.848076211353316
         ],
         "yaxis": "y3"
        },
        {
         "fill": "toself",
         "fillcolor": "rgb(5, 48, 97)",
         "hoverinfo": "text",
         "hoveron": "fills",
         "line": {
          "color": "black",
          "width": 0
         },
         "mode": "lines",
         "showlegend": false,
         "text": "[68, 84]",
         "type": "scatter",
         "x": [
          2.933012701892219,
          2.5,
          2.066987298107781,
          2.0669872981077804,
          2.5,
          2.9330127018922196,
          2.933012701892219
         ],
         "xaxis": "x3",
         "y": [
          3.714101615137755,
          3.964101615137755,
          3.714101615137755,
          3.214101615137755,
          2.964101615137755,
          3.214101615137755,
          3.714101615137755
         ],
         "yaxis": "y3"
        },
        {
         "fill": "toself",
         "fillcolor": "rgb(5, 48, 97)",
         "hoverinfo": "text",
         "hoveron": "fills",
         "line": {
          "color": "black",
          "width": 0
         },
         "mode": "lines",
         "showlegend": false,
         "text": "[93]",
         "type": "scatter",
         "x": [
          3.933012701892219,
          3.5,
          3.066987298107781,
          3.0669872981077804,
          3.5,
          3.9330127018922196,
          3.933012701892219
         ],
         "xaxis": "x3",
         "y": [
          0.24999999999999997,
          0.5,
          0.25000000000000017,
          -0.24999999999999986,
          -0.5,
          -0.24999999999999983,
          0.25
         ],
         "yaxis": "y3"
        },
        {
         "fill": "toself",
         "fillcolor": "rgb(7, 51, 101)",
         "hoverinfo": "text",
         "hoveron": "fills",
         "line": {
          "color": "black",
          "width": 0
         },
         "mode": "lines",
         "showlegend": false,
         "text": "[10, 34, 65]",
         "type": "scatter",
         "x": [
          4.43301270189222,
          4,
          3.566987298107781,
          3.5669872981077804,
          4,
          4.43301270189222,
          4.43301270189222
         ],
         "xaxis": "x3",
         "y": [
          1.1160254037844386,
          1.3660254037844388,
          1.1160254037844388,
          0.6160254037844388,
          0.3660254037844387,
          0.6160254037844388,
          1.1160254037844388
         ],
         "yaxis": "y3"
        },
        {
         "fill": "toself",
         "fillcolor": "rgb(5, 49, 98)",
         "hoverinfo": "text",
         "hoveron": "fills",
         "line": {
          "color": "black",
          "width": 0
         },
         "mode": "lines",
         "showlegend": false,
         "text": "[31, 58, 91]",
         "type": "scatter",
         "x": [
          3.933012701892219,
          3.5,
          3.066987298107781,
          3.0669872981077804,
          3.5,
          3.9330127018922196,
          3.933012701892219
         ],
         "xaxis": "x3",
         "y": [
          1.9820508075688774,
          2.2320508075688776,
          1.9820508075688776,
          1.4820508075688776,
          1.2320508075688774,
          1.4820508075688776,
          1.9820508075688774
         ],
         "yaxis": "y3"
        },
        {
         "fill": "toself",
         "fillcolor": "rgb(7, 51, 102)",
         "hoverinfo": "text",
         "hoveron": "fills",
         "line": {
          "color": "black",
          "width": 0
         },
         "mode": "lines",
         "showlegend": false,
         "text": "[]",
         "type": "scatter",
         "x": [
          4.43301270189222,
          4,
          3.566987298107781,
          3.5669872981077804,
          4,
          4.43301270189222,
          4.43301270189222
         ],
         "xaxis": "x3",
         "y": [
          2.848076211353316,
          3.098076211353316,
          2.848076211353316,
          2.348076211353316,
          2.098076211353316,
          2.348076211353316,
          2.848076211353316
         ],
         "yaxis": "y3"
        },
        {
         "fill": "toself",
         "fillcolor": "rgb(5, 48, 97)",
         "hoverinfo": "text",
         "hoveron": "fills",
         "line": {
          "color": "black",
          "width": 0
         },
         "mode": "lines",
         "showlegend": false,
         "text": "[81]",
         "type": "scatter",
         "x": [
          3.933012701892219,
          3.5,
          3.066987298107781,
          3.0669872981077804,
          3.5,
          3.9330127018922196,
          3.933012701892219
         ],
         "xaxis": "x3",
         "y": [
          3.714101615137755,
          3.964101615137755,
          3.714101615137755,
          3.214101615137755,
          2.964101615137755,
          3.214101615137755,
          3.714101615137755
         ],
         "yaxis": "y3"
        },
        {
         "fill": "toself",
         "fillcolor": "rgb(7, 52, 102)",
         "hoverinfo": "text",
         "hoveron": "fills",
         "line": {
          "color": "black",
          "width": 0
         },
         "mode": "lines",
         "showlegend": false,
         "text": "[100]",
         "type": "scatter",
         "x": [
          4.93301270189222,
          4.5,
          4.06698729810778,
          4.06698729810778,
          4.5,
          4.93301270189222,
          4.93301270189222
         ],
         "xaxis": "x3",
         "y": [
          0.24999999999999997,
          0.5,
          0.25000000000000017,
          -0.24999999999999986,
          -0.5,
          -0.24999999999999983,
          0.25
         ],
         "yaxis": "y3"
        },
        {
         "fill": "toself",
         "fillcolor": "rgb(14, 66, 122)",
         "hoverinfo": "text",
         "hoveron": "fills",
         "line": {
          "color": "black",
          "width": 0
         },
         "mode": "lines",
         "showlegend": false,
         "text": "[15, 41]",
         "type": "scatter",
         "x": [
          5.43301270189222,
          5,
          4.56698729810778,
          4.56698729810778,
          5,
          5.43301270189222,
          5.43301270189222
         ],
         "xaxis": "x3",
         "y": [
          1.1160254037844386,
          1.3660254037844388,
          1.1160254037844388,
          0.6160254037844388,
          0.3660254037844387,
          0.6160254037844388,
          1.1160254037844388
         ],
         "yaxis": "y3"
        },
        {
         "fill": "toself",
         "fillcolor": "rgb(9, 56, 108)",
         "hoverinfo": "text",
         "hoveron": "fills",
         "line": {
          "color": "black",
          "width": 0
         },
         "mode": "lines",
         "showlegend": false,
         "text": "[16, 18, 60]",
         "type": "scatter",
         "x": [
          4.93301270189222,
          4.5,
          4.06698729810778,
          4.06698729810778,
          4.5,
          4.93301270189222,
          4.93301270189222
         ],
         "xaxis": "x3",
         "y": [
          1.9820508075688774,
          2.2320508075688776,
          1.9820508075688776,
          1.4820508075688776,
          1.2320508075688774,
          1.4820508075688776,
          1.9820508075688774
         ],
         "yaxis": "y3"
        },
        {
         "fill": "toself",
         "fillcolor": "rgb(9, 56, 108)",
         "hoverinfo": "text",
         "hoveron": "fills",
         "line": {
          "color": "black",
          "width": 0
         },
         "mode": "lines",
         "showlegend": false,
         "text": "[50]",
         "type": "scatter",
         "x": [
          5.43301270189222,
          5,
          4.56698729810778,
          4.56698729810778,
          5,
          5.43301270189222,
          5.43301270189222
         ],
         "xaxis": "x3",
         "y": [
          2.848076211353316,
          3.098076211353316,
          2.848076211353316,
          2.348076211353316,
          2.098076211353316,
          2.348076211353316,
          2.848076211353316
         ],
         "yaxis": "y3"
        },
        {
         "fill": "toself",
         "fillcolor": "rgb(8, 53, 104)",
         "hoverinfo": "text",
         "hoveron": "fills",
         "line": {
          "color": "black",
          "width": 0
         },
         "mode": "lines",
         "showlegend": false,
         "text": "[]",
         "type": "scatter",
         "x": [
          4.93301270189222,
          4.5,
          4.06698729810778,
          4.06698729810778,
          4.5,
          4.93301270189222,
          4.93301270189222
         ],
         "xaxis": "x3",
         "y": [
          3.714101615137755,
          3.964101615137755,
          3.714101615137755,
          3.214101615137755,
          2.964101615137755,
          3.214101615137755,
          3.714101615137755
         ],
         "yaxis": "y3"
        },
        {
         "fill": "toself",
         "fillcolor": "rgb(6, 50, 100)",
         "hoverinfo": "text",
         "hoveron": "fills",
         "line": {
          "color": "black",
          "width": 0
         },
         "mode": "lines",
         "showlegend": false,
         "text": "[17, 32, 33, 56, 94, 99]",
         "type": "scatter",
         "x": [
          5.93301270189222,
          5.5,
          5.06698729810778,
          5.06698729810778,
          5.5,
          5.93301270189222,
          5.93301270189222
         ],
         "xaxis": "x3",
         "y": [
          0.24999999999999997,
          0.5,
          0.25000000000000017,
          -0.24999999999999986,
          -0.5,
          -0.24999999999999983,
          0.25
         ],
         "yaxis": "y3"
        },
        {
         "fill": "toself",
         "fillcolor": "rgb(6, 51, 101)",
         "hoverinfo": "text",
         "hoveron": "fills",
         "line": {
          "color": "black",
          "width": 0
         },
         "mode": "lines",
         "showlegend": false,
         "text": "[20, 35, 48]",
         "type": "scatter",
         "x": [
          6.43301270189222,
          6,
          5.56698729810778,
          5.56698729810778,
          6,
          6.43301270189222,
          6.43301270189222
         ],
         "xaxis": "x3",
         "y": [
          1.1160254037844386,
          1.3660254037844388,
          1.1160254037844388,
          0.6160254037844388,
          0.3660254037844387,
          0.6160254037844388,
          1.1160254037844388
         ],
         "yaxis": "y3"
        },
        {
         "fill": "toself",
         "fillcolor": "rgb(7, 52, 103)",
         "hoverinfo": "text",
         "hoveron": "fills",
         "line": {
          "color": "black",
          "width": 0
         },
         "mode": "lines",
         "showlegend": false,
         "text": "[19, 23, 47]",
         "type": "scatter",
         "x": [
          5.93301270189222,
          5.5,
          5.06698729810778,
          5.06698729810778,
          5.5,
          5.93301270189222,
          5.93301270189222
         ],
         "xaxis": "x3",
         "y": [
          1.9820508075688774,
          2.2320508075688776,
          1.9820508075688776,
          1.4820508075688776,
          1.2320508075688774,
          1.4820508075688776,
          1.9820508075688774
         ],
         "yaxis": "y3"
        },
        {
         "fill": "toself",
         "fillcolor": "rgb(7, 52, 103)",
         "hoverinfo": "text",
         "hoveron": "fills",
         "line": {
          "color": "black",
          "width": 0
         },
         "mode": "lines",
         "showlegend": false,
         "text": "[1]",
         "type": "scatter",
         "x": [
          6.43301270189222,
          6,
          5.56698729810778,
          5.56698729810778,
          6,
          6.43301270189222,
          6.43301270189222
         ],
         "xaxis": "x3",
         "y": [
          2.848076211353316,
          3.098076211353316,
          2.848076211353316,
          2.348076211353316,
          2.098076211353316,
          2.348076211353316,
          2.848076211353316
         ],
         "yaxis": "y3"
        },
        {
         "fill": "toself",
         "fillcolor": "rgb(7, 53, 104)",
         "hoverinfo": "text",
         "hoveron": "fills",
         "line": {
          "color": "black",
          "width": 0
         },
         "mode": "lines",
         "showlegend": false,
         "text": "[]",
         "type": "scatter",
         "x": [
          5.93301270189222,
          5.5,
          5.06698729810778,
          5.06698729810778,
          5.5,
          5.93301270189222,
          5.93301270189222
         ],
         "xaxis": "x3",
         "y": [
          3.714101615137755,
          3.964101615137755,
          3.714101615137755,
          3.214101615137755,
          2.964101615137755,
          3.214101615137755,
          3.714101615137755
         ],
         "yaxis": "y3"
        },
        {
         "fill": "toself",
         "fillcolor": "rgb(5, 48, 97)",
         "hoverinfo": "text",
         "hoveron": "fills",
         "line": {
          "color": "black",
          "width": 0
         },
         "mode": "lines",
         "showlegend": false,
         "text": "[30, 39, 49, 62, 98, 101]",
         "type": "scatter",
         "x": [
          6.93301270189222,
          6.5,
          6.06698729810778,
          6.06698729810778,
          6.5,
          6.93301270189222,
          6.93301270189222
         ],
         "xaxis": "x3",
         "y": [
          0.24999999999999997,
          0.5,
          0.25000000000000017,
          -0.24999999999999986,
          -0.5,
          -0.24999999999999983,
          0.25
         ],
         "yaxis": "y3"
        },
        {
         "fill": "toself",
         "fillcolor": "rgb(8, 55, 106)",
         "hoverinfo": "text",
         "hoveron": "fills",
         "line": {
          "color": "black",
          "width": 0
         },
         "mode": "lines",
         "showlegend": false,
         "text": "[]",
         "type": "scatter",
         "x": [
          7.43301270189222,
          7,
          6.56698729810778,
          6.56698729810778,
          7,
          7.43301270189222,
          7.43301270189222
         ],
         "xaxis": "x3",
         "y": [
          1.1160254037844386,
          1.3660254037844388,
          1.1160254037844388,
          0.6160254037844388,
          0.3660254037844387,
          0.6160254037844388,
          1.1160254037844388
         ],
         "yaxis": "y3"
        },
        {
         "fill": "toself",
         "fillcolor": "rgb(8, 53, 104)",
         "hoverinfo": "text",
         "hoveron": "fills",
         "line": {
          "color": "black",
          "width": 0
         },
         "mode": "lines",
         "showlegend": false,
         "text": "[51, 55]",
         "type": "scatter",
         "x": [
          6.93301270189222,
          6.5,
          6.06698729810778,
          6.06698729810778,
          6.5,
          6.93301270189222,
          6.93301270189222
         ],
         "xaxis": "x3",
         "y": [
          1.9820508075688774,
          2.2320508075688776,
          1.9820508075688776,
          1.4820508075688776,
          1.2320508075688774,
          1.4820508075688776,
          1.9820508075688774
         ],
         "yaxis": "y3"
        },
        {
         "fill": "toself",
         "fillcolor": "rgb(9, 55, 107)",
         "hoverinfo": "text",
         "hoveron": "fills",
         "line": {
          "color": "black",
          "width": 0
         },
         "mode": "lines",
         "showlegend": false,
         "text": "[5, 7, 9]",
         "type": "scatter",
         "x": [
          7.43301270189222,
          7,
          6.56698729810778,
          6.56698729810778,
          7,
          7.43301270189222,
          7.43301270189222
         ],
         "xaxis": "x3",
         "y": [
          2.848076211353316,
          3.098076211353316,
          2.848076211353316,
          2.348076211353316,
          2.098076211353316,
          2.348076211353316,
          2.848076211353316
         ],
         "yaxis": "y3"
        },
        {
         "fill": "toself",
         "fillcolor": "rgb(7, 51, 101)",
         "hoverinfo": "text",
         "hoveron": "fills",
         "line": {
          "color": "black",
          "width": 0
         },
         "mode": "lines",
         "showlegend": false,
         "text": "[3, 52]",
         "type": "scatter",
         "x": [
          6.93301270189222,
          6.5,
          6.06698729810778,
          6.06698729810778,
          6.5,
          6.93301270189222,
          6.93301270189222
         ],
         "xaxis": "x3",
         "y": [
          3.714101615137755,
          3.964101615137755,
          3.714101615137755,
          3.214101615137755,
          2.964101615137755,
          3.214101615137755,
          3.714101615137755
         ],
         "yaxis": "y3"
        },
        {
         "fill": "toself",
         "fillcolor": "rgb(9, 56, 108)",
         "hoverinfo": "text",
         "hoveron": "fills",
         "line": {
          "color": "black",
          "width": 0
         },
         "mode": "lines",
         "showlegend": false,
         "text": "[54]",
         "type": "scatter",
         "x": [
          7.93301270189222,
          7.5,
          7.06698729810778,
          7.06698729810778,
          7.5,
          7.93301270189222,
          7.93301270189222
         ],
         "xaxis": "x3",
         "y": [
          0.24999999999999997,
          0.5,
          0.25000000000000017,
          -0.24999999999999986,
          -0.5,
          -0.24999999999999983,
          0.25
         ],
         "yaxis": "y3"
        },
        {
         "fill": "toself",
         "fillcolor": "rgb(41, 112, 177)",
         "hoverinfo": "text",
         "hoveron": "fills",
         "line": {
          "color": "black",
          "width": 0
         },
         "mode": "lines",
         "showlegend": false,
         "text": "[95]",
         "type": "scatter",
         "x": [
          8.433012701892219,
          8,
          7.56698729810778,
          7.56698729810778,
          8,
          8.433012701892219,
          8.433012701892219
         ],
         "xaxis": "x3",
         "y": [
          1.1160254037844386,
          1.3660254037844388,
          1.1160254037844388,
          0.6160254037844388,
          0.3660254037844387,
          0.6160254037844388,
          1.1160254037844388
         ],
         "yaxis": "y3"
        },
        {
         "fill": "toself",
         "fillcolor": "rgb(8, 54, 105)",
         "hoverinfo": "text",
         "hoveron": "fills",
         "line": {
          "color": "black",
          "width": 0
         },
         "mode": "lines",
         "showlegend": false,
         "text": "[0, 4]",
         "type": "scatter",
         "x": [
          7.93301270189222,
          7.5,
          7.06698729810778,
          7.06698729810778,
          7.5,
          7.93301270189222,
          7.93301270189222
         ],
         "xaxis": "x3",
         "y": [
          1.9820508075688774,
          2.2320508075688776,
          1.9820508075688776,
          1.4820508075688776,
          1.2320508075688774,
          1.4820508075688776,
          1.9820508075688774
         ],
         "yaxis": "y3"
        },
        {
         "fill": "toself",
         "fillcolor": "rgb(7, 51, 101)",
         "hoverinfo": "text",
         "hoveron": "fills",
         "line": {
          "color": "black",
          "width": 0
         },
         "mode": "lines",
         "showlegend": false,
         "text": "[]",
         "type": "scatter",
         "x": [
          8.433012701892219,
          8,
          7.56698729810778,
          7.56698729810778,
          8,
          8.433012701892219,
          8.433012701892219
         ],
         "xaxis": "x3",
         "y": [
          2.848076211353316,
          3.098076211353316,
          2.848076211353316,
          2.348076211353316,
          2.098076211353316,
          2.348076211353316,
          2.848076211353316
         ],
         "yaxis": "y3"
        },
        {
         "fill": "toself",
         "fillcolor": "rgb(6, 51, 101)",
         "hoverinfo": "text",
         "hoveron": "fills",
         "line": {
          "color": "black",
          "width": 0
         },
         "mode": "lines",
         "showlegend": false,
         "text": "[79]",
         "type": "scatter",
         "x": [
          7.93301270189222,
          7.5,
          7.06698729810778,
          7.06698729810778,
          7.5,
          7.93301270189222,
          7.93301270189222
         ],
         "xaxis": "x3",
         "y": [
          3.714101615137755,
          3.964101615137755,
          3.714101615137755,
          3.214101615137755,
          2.964101615137755,
          3.214101615137755,
          3.714101615137755
         ],
         "yaxis": "y3"
        },
        {
         "fill": "toself",
         "fillcolor": "rgb(23, 83, 146)",
         "hoverinfo": "text",
         "hoveron": "fills",
         "line": {
          "color": "black",
          "width": 0
         },
         "mode": "lines",
         "showlegend": false,
         "text": "[96]",
         "type": "scatter",
         "x": [
          8.933012701892219,
          8.5,
          8.066987298107781,
          8.066987298107781,
          8.5,
          8.933012701892219,
          8.933012701892219
         ],
         "xaxis": "x3",
         "y": [
          0.24999999999999997,
          0.5,
          0.25000000000000017,
          -0.24999999999999986,
          -0.5,
          -0.24999999999999983,
          0.25
         ],
         "yaxis": "y3"
        },
        {
         "fill": "toself",
         "fillcolor": "rgb(167, 208, 228)",
         "hoverinfo": "text",
         "hoveron": "fills",
         "line": {
          "color": "black",
          "width": 0
         },
         "mode": "lines",
         "showlegend": false,
         "text": "[97]",
         "type": "scatter",
         "x": [
          9.433012701892219,
          9,
          8.566987298107781,
          8.566987298107781,
          9,
          9.433012701892219,
          9.433012701892219
         ],
         "xaxis": "x3",
         "y": [
          1.1160254037844386,
          1.3660254037844388,
          1.1160254037844388,
          0.6160254037844388,
          0.3660254037844387,
          0.6160254037844388,
          1.1160254037844388
         ],
         "yaxis": "y3"
        },
        {
         "fill": "toself",
         "fillcolor": "rgb(25, 87, 151)",
         "hoverinfo": "text",
         "hoveron": "fills",
         "line": {
          "color": "black",
          "width": 0
         },
         "mode": "lines",
         "showlegend": false,
         "text": "[2]",
         "type": "scatter",
         "x": [
          8.933012701892219,
          8.5,
          8.066987298107781,
          8.066987298107781,
          8.5,
          8.933012701892219,
          8.933012701892219
         ],
         "xaxis": "x3",
         "y": [
          1.9820508075688774,
          2.2320508075688776,
          1.9820508075688776,
          1.4820508075688776,
          1.2320508075688774,
          1.4820508075688776,
          1.9820508075688774
         ],
         "yaxis": "y3"
        },
        {
         "fill": "toself",
         "fillcolor": "rgb(5, 49, 98)",
         "hoverinfo": "text",
         "hoveron": "fills",
         "line": {
          "color": "black",
          "width": 0
         },
         "mode": "lines",
         "showlegend": false,
         "text": "[6, 8]",
         "type": "scatter",
         "x": [
          9.433012701892219,
          9,
          8.566987298107781,
          8.566987298107781,
          9,
          9.433012701892219,
          9.433012701892219
         ],
         "xaxis": "x3",
         "y": [
          2.848076211353316,
          3.098076211353316,
          2.848076211353316,
          2.348076211353316,
          2.098076211353316,
          2.348076211353316,
          2.848076211353316
         ],
         "yaxis": "y3"
        },
        {
         "fill": "toself",
         "fillcolor": "rgb(5, 49, 98)",
         "hoverinfo": "text",
         "hoveron": "fills",
         "line": {
          "color": "black",
          "width": 0
         },
         "mode": "lines",
         "showlegend": false,
         "text": "[25, 78, 80]",
         "type": "scatter",
         "x": [
          8.933012701892219,
          8.5,
          8.066987298107781,
          8.066987298107781,
          8.5,
          8.933012701892219,
          8.933012701892219
         ],
         "xaxis": "x3",
         "y": [
          3.714101615137755,
          3.964101615137755,
          3.714101615137755,
          3.214101615137755,
          2.964101615137755,
          3.214101615137755,
          3.714101615137755
         ],
         "yaxis": "y3"
        },
        {
         "marker": {
          "color": [
           0.7993278510515913,
           0.9999984552219003
          ],
          "colorbar": {
           "len": 0.1,
           "thickness": 20,
           "x": -0.15,
           "y": 0.7
          },
          "colorscale": [
           [
            0,
            "rgb(103,0,31)"
           ],
           [
            0.1,
            "rgb(178,24,43)"
           ],
           [
            0.2,
            "rgb(214,96,77)"
           ],
           [
            0.3,
            "rgb(244,165,130)"
           ],
           [
            0.4,
            "rgb(253,219,199)"
           ],
           [
            0.5,
            "rgb(247,247,247)"
           ],
           [
            0.6,
            "rgb(209,229,240)"
           ],
           [
            0.7,
            "rgb(146,197,222)"
           ],
           [
            0.8,
            "rgb(67,147,195)"
           ],
           [
            0.9,
            "rgb(33,102,172)"
           ],
           [
            1,
            "rgb(5,48,97)"
           ]
          ],
          "size": 0.001
         },
         "showlegend": false,
         "type": "scatter",
         "x": [
          0,
          0
         ],
         "xaxis": "x3",
         "y": [
          0,
          0
         ],
         "yaxis": "y3"
        },
        {
         "fill": "toself",
         "fillcolor": "rgb(5, 48, 97)",
         "hoverinfo": "text",
         "hoveron": "fills",
         "line": {
          "color": "black",
          "width": 0
         },
         "mode": "lines",
         "showlegend": false,
         "text": "[70, 74]",
         "type": "scatter",
         "x": [
          -0.06698729810778065,
          -0.49999999999999994,
          -0.9330127018922192,
          -0.9330127018922194,
          -0.5000000000000001,
          -0.06698729810778059,
          -0.0669872981077807
         ],
         "xaxis": "x4",
         "y": [
          0.24999999999999997,
          0.5,
          0.25000000000000017,
          -0.24999999999999986,
          -0.5,
          -0.24999999999999983,
          0.25
         ],
         "yaxis": "y4"
        },
        {
         "fill": "toself",
         "fillcolor": "rgb(5, 48, 97)",
         "hoverinfo": "text",
         "hoveron": "fills",
         "line": {
          "color": "black",
          "width": 0
         },
         "mode": "lines",
         "showlegend": false,
         "text": "[]",
         "type": "scatter",
         "x": [
          0.43301270189221935,
          3.061616997868383e-17,
          -0.43301270189221924,
          -0.4330127018922194,
          -9.184850993605148e-17,
          0.4330127018922194,
          0.4330127018922193
         ],
         "xaxis": "x4",
         "y": [
          1.1160254037844386,
          1.3660254037844388,
          1.1160254037844388,
          0.6160254037844388,
          0.3660254037844387,
          0.6160254037844388,
          1.1160254037844388
         ],
         "yaxis": "y4"
        },
        {
         "fill": "toself",
         "fillcolor": "rgb(5, 48, 97)",
         "hoverinfo": "text",
         "hoveron": "fills",
         "line": {
          "color": "black",
          "width": 0
         },
         "mode": "lines",
         "showlegend": false,
         "text": "[37, 38, 42, 43, 44, 45, 46, 64, 92]",
         "type": "scatter",
         "x": [
          -0.06698729810778065,
          -0.49999999999999994,
          -0.9330127018922192,
          -0.9330127018922194,
          -0.5000000000000001,
          -0.06698729810778059,
          -0.0669872981077807
         ],
         "xaxis": "x4",
         "y": [
          1.9820508075688774,
          2.2320508075688776,
          1.9820508075688776,
          1.4820508075688776,
          1.2320508075688774,
          1.4820508075688776,
          1.9820508075688774
         ],
         "yaxis": "y4"
        },
        {
         "fill": "toself",
         "fillcolor": "rgb(5, 48, 97)",
         "hoverinfo": "text",
         "hoveron": "fills",
         "line": {
          "color": "black",
          "width": 0
         },
         "mode": "lines",
         "showlegend": false,
         "text": "[]",
         "type": "scatter",
         "x": [
          0.43301270189221935,
          3.061616997868383e-17,
          -0.43301270189221924,
          -0.4330127018922194,
          -9.184850993605148e-17,
          0.4330127018922194,
          0.4330127018922193
         ],
         "xaxis": "x4",
         "y": [
          2.848076211353316,
          3.098076211353316,
          2.848076211353316,
          2.348076211353316,
          2.098076211353316,
          2.348076211353316,
          2.848076211353316
         ],
         "yaxis": "y4"
        },
        {
         "fill": "toself",
         "fillcolor": "rgb(5, 48, 97)",
         "hoverinfo": "text",
         "hoveron": "fills",
         "line": {
          "color": "black",
          "width": 0
         },
         "mode": "lines",
         "showlegend": false,
         "text": "[36]",
         "type": "scatter",
         "x": [
          -0.06698729810778065,
          -0.49999999999999994,
          -0.9330127018922192,
          -0.9330127018922194,
          -0.5000000000000001,
          -0.06698729810778059,
          -0.0669872981077807
         ],
         "xaxis": "x4",
         "y": [
          3.714101615137755,
          3.964101615137755,
          3.714101615137755,
          3.214101615137755,
          2.964101615137755,
          3.214101615137755,
          3.714101615137755
         ],
         "yaxis": "y4"
        },
        {
         "fill": "toself",
         "fillcolor": "rgb(5, 48, 97)",
         "hoverinfo": "text",
         "hoveron": "fills",
         "line": {
          "color": "black",
          "width": 0
         },
         "mode": "lines",
         "showlegend": false,
         "text": "[72, 76]",
         "type": "scatter",
         "x": [
          0.9330127018922194,
          0.5,
          0.06698729810778076,
          0.06698729810778059,
          0.4999999999999999,
          0.9330127018922194,
          0.9330127018922193
         ],
         "xaxis": "x4",
         "y": [
          0.24999999999999997,
          0.5,
          0.25000000000000017,
          -0.24999999999999986,
          -0.5,
          -0.24999999999999983,
          0.25
         ],
         "yaxis": "y4"
        },
        {
         "fill": "toself",
         "fillcolor": "rgb(5, 48, 97)",
         "hoverinfo": "text",
         "hoveron": "fills",
         "line": {
          "color": "black",
          "width": 0
         },
         "mode": "lines",
         "showlegend": false,
         "text": "[71, 73]",
         "type": "scatter",
         "x": [
          1.4330127018922194,
          1,
          0.5669872981077808,
          0.5669872981077806,
          0.9999999999999999,
          1.4330127018922194,
          1.4330127018922192
         ],
         "xaxis": "x4",
         "y": [
          1.1160254037844386,
          1.3660254037844388,
          1.1160254037844388,
          0.6160254037844388,
          0.3660254037844387,
          0.6160254037844388,
          1.1160254037844388
         ],
         "yaxis": "y4"
        },
        {
         "fill": "toself",
         "fillcolor": "rgb(5, 48, 97)",
         "hoverinfo": "text",
         "hoveron": "fills",
         "line": {
          "color": "black",
          "width": 0
         },
         "mode": "lines",
         "showlegend": false,
         "text": "[27, 40, 88]",
         "type": "scatter",
         "x": [
          0.9330127018922194,
          0.5,
          0.06698729810778076,
          0.06698729810778059,
          0.4999999999999999,
          0.9330127018922194,
          0.9330127018922193
         ],
         "xaxis": "x4",
         "y": [
          1.9820508075688774,
          2.2320508075688776,
          1.9820508075688776,
          1.4820508075688776,
          1.2320508075688774,
          1.4820508075688776,
          1.9820508075688774
         ],
         "yaxis": "y4"
        },
        {
         "fill": "toself",
         "fillcolor": "rgb(5, 48, 97)",
         "hoverinfo": "text",
         "hoveron": "fills",
         "line": {
          "color": "black",
          "width": 0
         },
         "mode": "lines",
         "showlegend": false,
         "text": "[29, 53, 75, 77, 83, 85]",
         "type": "scatter",
         "x": [
          1.4330127018922194,
          1,
          0.5669872981077808,
          0.5669872981077806,
          0.9999999999999999,
          1.4330127018922194,
          1.4330127018922192
         ],
         "xaxis": "x4",
         "y": [
          2.848076211353316,
          3.098076211353316,
          2.848076211353316,
          2.348076211353316,
          2.098076211353316,
          2.348076211353316,
          2.848076211353316
         ],
         "yaxis": "y4"
        },
        {
         "fill": "toself",
         "fillcolor": "rgb(5, 48, 97)",
         "hoverinfo": "text",
         "hoveron": "fills",
         "line": {
          "color": "black",
          "width": 0
         },
         "mode": "lines",
         "showlegend": false,
         "text": "[63]",
         "type": "scatter",
         "x": [
          0.9330127018922194,
          0.5,
          0.06698729810778076,
          0.06698729810778059,
          0.4999999999999999,
          0.9330127018922194,
          0.9330127018922193
         ],
         "xaxis": "x4",
         "y": [
          3.714101615137755,
          3.964101615137755,
          3.714101615137755,
          3.214101615137755,
          2.964101615137755,
          3.214101615137755,
          3.714101615137755
         ],
         "yaxis": "y4"
        },
        {
         "fill": "toself",
         "fillcolor": "rgb(5, 48, 97)",
         "hoverinfo": "text",
         "hoveron": "fills",
         "line": {
          "color": "black",
          "width": 0
         },
         "mode": "lines",
         "showlegend": false,
         "text": "[]",
         "type": "scatter",
         "x": [
          1.9330127018922194,
          1.5,
          1.0669872981077808,
          1.0669872981077806,
          1.5,
          1.9330127018922194,
          1.9330127018922192
         ],
         "xaxis": "x4",
         "y": [
          0.24999999999999997,
          0.5,
          0.25000000000000017,
          -0.24999999999999986,
          -0.5,
          -0.24999999999999983,
          0.25
         ],
         "yaxis": "y4"
        },
        {
         "fill": "toself",
         "fillcolor": "rgb(5, 48, 97)",
         "hoverinfo": "text",
         "hoveron": "fills",
         "line": {
          "color": "black",
          "width": 0
         },
         "mode": "lines",
         "showlegend": false,
         "text": "[13, 14, 26, 59, 87, 89]",
         "type": "scatter",
         "x": [
          2.433012701892219,
          2,
          1.5669872981077808,
          1.5669872981077806,
          2,
          2.4330127018922196,
          2.433012701892219
         ],
         "xaxis": "x4",
         "y": [
          1.1160254037844386,
          1.3660254037844388,
          1.1160254037844388,
          0.6160254037844388,
          0.3660254037844387,
          0.6160254037844388,
          1.1160254037844388
         ],
         "yaxis": "y4"
        },
        {
         "fill": "toself",
         "fillcolor": "rgb(5, 48, 97)",
         "hoverinfo": "text",
         "hoveron": "fills",
         "line": {
          "color": "black",
          "width": 0
         },
         "mode": "lines",
         "showlegend": false,
         "text": "[12, 67, 82]",
         "type": "scatter",
         "x": [
          1.9330127018922194,
          1.5,
          1.0669872981077808,
          1.0669872981077806,
          1.5,
          1.9330127018922194,
          1.9330127018922192
         ],
         "xaxis": "x4",
         "y": [
          1.9820508075688774,
          2.2320508075688776,
          1.9820508075688776,
          1.4820508075688776,
          1.2320508075688774,
          1.4820508075688776,
          1.9820508075688774
         ],
         "yaxis": "y4"
        },
        {
         "fill": "toself",
         "fillcolor": "rgb(5, 48, 97)",
         "hoverinfo": "text",
         "hoveron": "fills",
         "line": {
          "color": "black",
          "width": 0
         },
         "mode": "lines",
         "showlegend": false,
         "text": "[28]",
         "type": "scatter",
         "x": [
          2.433012701892219,
          2,
          1.5669872981077808,
          1.5669872981077806,
          2,
          2.4330127018922196,
          2.433012701892219
         ],
         "xaxis": "x4",
         "y": [
          2.848076211353316,
          3.098076211353316,
          2.848076211353316,
          2.348076211353316,
          2.098076211353316,
          2.348076211353316,
          2.848076211353316
         ],
         "yaxis": "y4"
        },
        {
         "fill": "toself",
         "fillcolor": "rgb(5, 48, 97)",
         "hoverinfo": "text",
         "hoveron": "fills",
         "line": {
          "color": "black",
          "width": 0
         },
         "mode": "lines",
         "showlegend": false,
         "text": "[]",
         "type": "scatter",
         "x": [
          1.9330127018922194,
          1.5,
          1.0669872981077808,
          1.0669872981077806,
          1.5,
          1.9330127018922194,
          1.9330127018922192
         ],
         "xaxis": "x4",
         "y": [
          3.714101615137755,
          3.964101615137755,
          3.714101615137755,
          3.214101615137755,
          2.964101615137755,
          3.214101615137755,
          3.714101615137755
         ],
         "yaxis": "y4"
        },
        {
         "fill": "toself",
         "fillcolor": "rgb(5, 48, 97)",
         "hoverinfo": "text",
         "hoveron": "fills",
         "line": {
          "color": "black",
          "width": 0
         },
         "mode": "lines",
         "showlegend": false,
         "text": "[]",
         "type": "scatter",
         "x": [
          2.933012701892219,
          2.5,
          2.066987298107781,
          2.0669872981077804,
          2.5,
          2.9330127018922196,
          2.933012701892219
         ],
         "xaxis": "x4",
         "y": [
          0.24999999999999997,
          0.5,
          0.25000000000000017,
          -0.24999999999999986,
          -0.5,
          -0.24999999999999983,
          0.25
         ],
         "yaxis": "y4"
        },
        {
         "fill": "toself",
         "fillcolor": "rgb(5, 48, 97)",
         "hoverinfo": "text",
         "hoveron": "fills",
         "line": {
          "color": "black",
          "width": 0
         },
         "mode": "lines",
         "showlegend": false,
         "text": "[21, 61, 66, 86]",
         "type": "scatter",
         "x": [
          3.433012701892219,
          3,
          2.566987298107781,
          2.5669872981077804,
          3,
          3.4330127018922196,
          3.433012701892219
         ],
         "xaxis": "x4",
         "y": [
          1.1160254037844386,
          1.3660254037844388,
          1.1160254037844388,
          0.6160254037844388,
          0.3660254037844387,
          0.6160254037844388,
          1.1160254037844388
         ],
         "yaxis": "y4"
        },
        {
         "fill": "toself",
         "fillcolor": "rgb(5, 48, 97)",
         "hoverinfo": "text",
         "hoveron": "fills",
         "line": {
          "color": "black",
          "width": 0
         },
         "mode": "lines",
         "showlegend": false,
         "text": "[11, 22, 57, 69]",
         "type": "scatter",
         "x": [
          2.933012701892219,
          2.5,
          2.066987298107781,
          2.0669872981077804,
          2.5,
          2.9330127018922196,
          2.933012701892219
         ],
         "xaxis": "x4",
         "y": [
          1.9820508075688774,
          2.2320508075688776,
          1.9820508075688776,
          1.4820508075688776,
          1.2320508075688774,
          1.4820508075688776,
          1.9820508075688774
         ],
         "yaxis": "y4"
        },
        {
         "fill": "toself",
         "fillcolor": "rgb(5, 48, 97)",
         "hoverinfo": "text",
         "hoveron": "fills",
         "line": {
          "color": "black",
          "width": 0
         },
         "mode": "lines",
         "showlegend": false,
         "text": "[24, 90]",
         "type": "scatter",
         "x": [
          3.433012701892219,
          3,
          2.566987298107781,
          2.5669872981077804,
          3,
          3.4330127018922196,
          3.433012701892219
         ],
         "xaxis": "x4",
         "y": [
          2.848076211353316,
          3.098076211353316,
          2.848076211353316,
          2.348076211353316,
          2.098076211353316,
          2.348076211353316,
          2.848076211353316
         ],
         "yaxis": "y4"
        },
        {
         "fill": "toself",
         "fillcolor": "rgb(5, 48, 97)",
         "hoverinfo": "text",
         "hoveron": "fills",
         "line": {
          "color": "black",
          "width": 0
         },
         "mode": "lines",
         "showlegend": false,
         "text": "[68, 84]",
         "type": "scatter",
         "x": [
          2.933012701892219,
          2.5,
          2.066987298107781,
          2.0669872981077804,
          2.5,
          2.9330127018922196,
          2.933012701892219
         ],
         "xaxis": "x4",
         "y": [
          3.714101615137755,
          3.964101615137755,
          3.714101615137755,
          3.214101615137755,
          2.964101615137755,
          3.214101615137755,
          3.714101615137755
         ],
         "yaxis": "y4"
        },
        {
         "fill": "toself",
         "fillcolor": "rgb(5, 48, 97)",
         "hoverinfo": "text",
         "hoveron": "fills",
         "line": {
          "color": "black",
          "width": 0
         },
         "mode": "lines",
         "showlegend": false,
         "text": "[93]",
         "type": "scatter",
         "x": [
          3.933012701892219,
          3.5,
          3.066987298107781,
          3.0669872981077804,
          3.5,
          3.9330127018922196,
          3.933012701892219
         ],
         "xaxis": "x4",
         "y": [
          0.24999999999999997,
          0.5,
          0.25000000000000017,
          -0.24999999999999986,
          -0.5,
          -0.24999999999999983,
          0.25
         ],
         "yaxis": "y4"
        },
        {
         "fill": "toself",
         "fillcolor": "rgb(5, 48, 97)",
         "hoverinfo": "text",
         "hoveron": "fills",
         "line": {
          "color": "black",
          "width": 0
         },
         "mode": "lines",
         "showlegend": false,
         "text": "[10, 34, 65]",
         "type": "scatter",
         "x": [
          4.43301270189222,
          4,
          3.566987298107781,
          3.5669872981077804,
          4,
          4.43301270189222,
          4.43301270189222
         ],
         "xaxis": "x4",
         "y": [
          1.1160254037844386,
          1.3660254037844388,
          1.1160254037844388,
          0.6160254037844388,
          0.3660254037844387,
          0.6160254037844388,
          1.1160254037844388
         ],
         "yaxis": "y4"
        },
        {
         "fill": "toself",
         "fillcolor": "rgb(5, 48, 97)",
         "hoverinfo": "text",
         "hoveron": "fills",
         "line": {
          "color": "black",
          "width": 0
         },
         "mode": "lines",
         "showlegend": false,
         "text": "[31, 58, 91]",
         "type": "scatter",
         "x": [
          3.933012701892219,
          3.5,
          3.066987298107781,
          3.0669872981077804,
          3.5,
          3.9330127018922196,
          3.933012701892219
         ],
         "xaxis": "x4",
         "y": [
          1.9820508075688774,
          2.2320508075688776,
          1.9820508075688776,
          1.4820508075688776,
          1.2320508075688774,
          1.4820508075688776,
          1.9820508075688774
         ],
         "yaxis": "y4"
        },
        {
         "fill": "toself",
         "fillcolor": "rgb(5, 48, 97)",
         "hoverinfo": "text",
         "hoveron": "fills",
         "line": {
          "color": "black",
          "width": 0
         },
         "mode": "lines",
         "showlegend": false,
         "text": "[]",
         "type": "scatter",
         "x": [
          4.43301270189222,
          4,
          3.566987298107781,
          3.5669872981077804,
          4,
          4.43301270189222,
          4.43301270189222
         ],
         "xaxis": "x4",
         "y": [
          2.848076211353316,
          3.098076211353316,
          2.848076211353316,
          2.348076211353316,
          2.098076211353316,
          2.348076211353316,
          2.848076211353316
         ],
         "yaxis": "y4"
        },
        {
         "fill": "toself",
         "fillcolor": "rgb(5, 48, 97)",
         "hoverinfo": "text",
         "hoveron": "fills",
         "line": {
          "color": "black",
          "width": 0
         },
         "mode": "lines",
         "showlegend": false,
         "text": "[81]",
         "type": "scatter",
         "x": [
          3.933012701892219,
          3.5,
          3.066987298107781,
          3.0669872981077804,
          3.5,
          3.9330127018922196,
          3.933012701892219
         ],
         "xaxis": "x4",
         "y": [
          3.714101615137755,
          3.964101615137755,
          3.714101615137755,
          3.214101615137755,
          2.964101615137755,
          3.214101615137755,
          3.714101615137755
         ],
         "yaxis": "y4"
        },
        {
         "fill": "toself",
         "fillcolor": "rgb(5, 48, 97)",
         "hoverinfo": "text",
         "hoveron": "fills",
         "line": {
          "color": "black",
          "width": 0
         },
         "mode": "lines",
         "showlegend": false,
         "text": "[100]",
         "type": "scatter",
         "x": [
          4.93301270189222,
          4.5,
          4.06698729810778,
          4.06698729810778,
          4.5,
          4.93301270189222,
          4.93301270189222
         ],
         "xaxis": "x4",
         "y": [
          0.24999999999999997,
          0.5,
          0.25000000000000017,
          -0.24999999999999986,
          -0.5,
          -0.24999999999999983,
          0.25
         ],
         "yaxis": "y4"
        },
        {
         "fill": "toself",
         "fillcolor": "rgb(5, 48, 97)",
         "hoverinfo": "text",
         "hoveron": "fills",
         "line": {
          "color": "black",
          "width": 0
         },
         "mode": "lines",
         "showlegend": false,
         "text": "[15, 41]",
         "type": "scatter",
         "x": [
          5.43301270189222,
          5,
          4.56698729810778,
          4.56698729810778,
          5,
          5.43301270189222,
          5.43301270189222
         ],
         "xaxis": "x4",
         "y": [
          1.1160254037844386,
          1.3660254037844388,
          1.1160254037844388,
          0.6160254037844388,
          0.3660254037844387,
          0.6160254037844388,
          1.1160254037844388
         ],
         "yaxis": "y4"
        },
        {
         "fill": "toself",
         "fillcolor": "rgb(5, 48, 97)",
         "hoverinfo": "text",
         "hoveron": "fills",
         "line": {
          "color": "black",
          "width": 0
         },
         "mode": "lines",
         "showlegend": false,
         "text": "[16, 18, 60]",
         "type": "scatter",
         "x": [
          4.93301270189222,
          4.5,
          4.06698729810778,
          4.06698729810778,
          4.5,
          4.93301270189222,
          4.93301270189222
         ],
         "xaxis": "x4",
         "y": [
          1.9820508075688774,
          2.2320508075688776,
          1.9820508075688776,
          1.4820508075688776,
          1.2320508075688774,
          1.4820508075688776,
          1.9820508075688774
         ],
         "yaxis": "y4"
        },
        {
         "fill": "toself",
         "fillcolor": "rgb(5, 48, 97)",
         "hoverinfo": "text",
         "hoveron": "fills",
         "line": {
          "color": "black",
          "width": 0
         },
         "mode": "lines",
         "showlegend": false,
         "text": "[50]",
         "type": "scatter",
         "x": [
          5.43301270189222,
          5,
          4.56698729810778,
          4.56698729810778,
          5,
          5.43301270189222,
          5.43301270189222
         ],
         "xaxis": "x4",
         "y": [
          2.848076211353316,
          3.098076211353316,
          2.848076211353316,
          2.348076211353316,
          2.098076211353316,
          2.348076211353316,
          2.848076211353316
         ],
         "yaxis": "y4"
        },
        {
         "fill": "toself",
         "fillcolor": "rgb(5, 48, 97)",
         "hoverinfo": "text",
         "hoveron": "fills",
         "line": {
          "color": "black",
          "width": 0
         },
         "mode": "lines",
         "showlegend": false,
         "text": "[]",
         "type": "scatter",
         "x": [
          4.93301270189222,
          4.5,
          4.06698729810778,
          4.06698729810778,
          4.5,
          4.93301270189222,
          4.93301270189222
         ],
         "xaxis": "x4",
         "y": [
          3.714101615137755,
          3.964101615137755,
          3.714101615137755,
          3.214101615137755,
          2.964101615137755,
          3.214101615137755,
          3.714101615137755
         ],
         "yaxis": "y4"
        },
        {
         "fill": "toself",
         "fillcolor": "rgb(5, 48, 97)",
         "hoverinfo": "text",
         "hoveron": "fills",
         "line": {
          "color": "black",
          "width": 0
         },
         "mode": "lines",
         "showlegend": false,
         "text": "[17, 32, 33, 56, 94, 99]",
         "type": "scatter",
         "x": [
          5.93301270189222,
          5.5,
          5.06698729810778,
          5.06698729810778,
          5.5,
          5.93301270189222,
          5.93301270189222
         ],
         "xaxis": "x4",
         "y": [
          0.24999999999999997,
          0.5,
          0.25000000000000017,
          -0.24999999999999986,
          -0.5,
          -0.24999999999999983,
          0.25
         ],
         "yaxis": "y4"
        },
        {
         "fill": "toself",
         "fillcolor": "rgb(5, 48, 97)",
         "hoverinfo": "text",
         "hoveron": "fills",
         "line": {
          "color": "black",
          "width": 0
         },
         "mode": "lines",
         "showlegend": false,
         "text": "[20, 35, 48]",
         "type": "scatter",
         "x": [
          6.43301270189222,
          6,
          5.56698729810778,
          5.56698729810778,
          6,
          6.43301270189222,
          6.43301270189222
         ],
         "xaxis": "x4",
         "y": [
          1.1160254037844386,
          1.3660254037844388,
          1.1160254037844388,
          0.6160254037844388,
          0.3660254037844387,
          0.6160254037844388,
          1.1160254037844388
         ],
         "yaxis": "y4"
        },
        {
         "fill": "toself",
         "fillcolor": "rgb(5, 48, 97)",
         "hoverinfo": "text",
         "hoveron": "fills",
         "line": {
          "color": "black",
          "width": 0
         },
         "mode": "lines",
         "showlegend": false,
         "text": "[19, 23, 47]",
         "type": "scatter",
         "x": [
          5.93301270189222,
          5.5,
          5.06698729810778,
          5.06698729810778,
          5.5,
          5.93301270189222,
          5.93301270189222
         ],
         "xaxis": "x4",
         "y": [
          1.9820508075688774,
          2.2320508075688776,
          1.9820508075688776,
          1.4820508075688776,
          1.2320508075688774,
          1.4820508075688776,
          1.9820508075688774
         ],
         "yaxis": "y4"
        },
        {
         "fill": "toself",
         "fillcolor": "rgb(5, 48, 97)",
         "hoverinfo": "text",
         "hoveron": "fills",
         "line": {
          "color": "black",
          "width": 0
         },
         "mode": "lines",
         "showlegend": false,
         "text": "[1]",
         "type": "scatter",
         "x": [
          6.43301270189222,
          6,
          5.56698729810778,
          5.56698729810778,
          6,
          6.43301270189222,
          6.43301270189222
         ],
         "xaxis": "x4",
         "y": [
          2.848076211353316,
          3.098076211353316,
          2.848076211353316,
          2.348076211353316,
          2.098076211353316,
          2.348076211353316,
          2.848076211353316
         ],
         "yaxis": "y4"
        },
        {
         "fill": "toself",
         "fillcolor": "rgb(5, 48, 97)",
         "hoverinfo": "text",
         "hoveron": "fills",
         "line": {
          "color": "black",
          "width": 0
         },
         "mode": "lines",
         "showlegend": false,
         "text": "[]",
         "type": "scatter",
         "x": [
          5.93301270189222,
          5.5,
          5.06698729810778,
          5.06698729810778,
          5.5,
          5.93301270189222,
          5.93301270189222
         ],
         "xaxis": "x4",
         "y": [
          3.714101615137755,
          3.964101615137755,
          3.714101615137755,
          3.214101615137755,
          2.964101615137755,
          3.214101615137755,
          3.714101615137755
         ],
         "yaxis": "y4"
        },
        {
         "fill": "toself",
         "fillcolor": "rgb(5, 48, 97)",
         "hoverinfo": "text",
         "hoveron": "fills",
         "line": {
          "color": "black",
          "width": 0
         },
         "mode": "lines",
         "showlegend": false,
         "text": "[30, 39, 49, 62, 98, 101]",
         "type": "scatter",
         "x": [
          6.93301270189222,
          6.5,
          6.06698729810778,
          6.06698729810778,
          6.5,
          6.93301270189222,
          6.93301270189222
         ],
         "xaxis": "x4",
         "y": [
          0.24999999999999997,
          0.5,
          0.25000000000000017,
          -0.24999999999999986,
          -0.5,
          -0.24999999999999983,
          0.25
         ],
         "yaxis": "y4"
        },
        {
         "fill": "toself",
         "fillcolor": "rgb(8, 54, 105)",
         "hoverinfo": "text",
         "hoveron": "fills",
         "line": {
          "color": "black",
          "width": 0
         },
         "mode": "lines",
         "showlegend": false,
         "text": "[]",
         "type": "scatter",
         "x": [
          7.43301270189222,
          7,
          6.56698729810778,
          6.56698729810778,
          7,
          7.43301270189222,
          7.43301270189222
         ],
         "xaxis": "x4",
         "y": [
          1.1160254037844386,
          1.3660254037844388,
          1.1160254037844388,
          0.6160254037844388,
          0.3660254037844387,
          0.6160254037844388,
          1.1160254037844388
         ],
         "yaxis": "y4"
        },
        {
         "fill": "toself",
         "fillcolor": "rgb(5, 48, 97)",
         "hoverinfo": "text",
         "hoveron": "fills",
         "line": {
          "color": "black",
          "width": 0
         },
         "mode": "lines",
         "showlegend": false,
         "text": "[51, 55]",
         "type": "scatter",
         "x": [
          6.93301270189222,
          6.5,
          6.06698729810778,
          6.06698729810778,
          6.5,
          6.93301270189222,
          6.93301270189222
         ],
         "xaxis": "x4",
         "y": [
          1.9820508075688774,
          2.2320508075688776,
          1.9820508075688776,
          1.4820508075688776,
          1.2320508075688774,
          1.4820508075688776,
          1.9820508075688774
         ],
         "yaxis": "y4"
        },
        {
         "fill": "toself",
         "fillcolor": "rgb(5, 48, 97)",
         "hoverinfo": "text",
         "hoveron": "fills",
         "line": {
          "color": "black",
          "width": 0
         },
         "mode": "lines",
         "showlegend": false,
         "text": "[5, 7, 9]",
         "type": "scatter",
         "x": [
          7.43301270189222,
          7,
          6.56698729810778,
          6.56698729810778,
          7,
          7.43301270189222,
          7.43301270189222
         ],
         "xaxis": "x4",
         "y": [
          2.848076211353316,
          3.098076211353316,
          2.848076211353316,
          2.348076211353316,
          2.098076211353316,
          2.348076211353316,
          2.848076211353316
         ],
         "yaxis": "y4"
        },
        {
         "fill": "toself",
         "fillcolor": "rgb(5, 48, 97)",
         "hoverinfo": "text",
         "hoveron": "fills",
         "line": {
          "color": "black",
          "width": 0
         },
         "mode": "lines",
         "showlegend": false,
         "text": "[3, 52]",
         "type": "scatter",
         "x": [
          6.93301270189222,
          6.5,
          6.06698729810778,
          6.06698729810778,
          6.5,
          6.93301270189222,
          6.93301270189222
         ],
         "xaxis": "x4",
         "y": [
          3.714101615137755,
          3.964101615137755,
          3.714101615137755,
          3.214101615137755,
          2.964101615137755,
          3.214101615137755,
          3.714101615137755
         ],
         "yaxis": "y4"
        },
        {
         "fill": "toself",
         "fillcolor": "rgb(38, 108, 175)",
         "hoverinfo": "text",
         "hoveron": "fills",
         "line": {
          "color": "black",
          "width": 0
         },
         "mode": "lines",
         "showlegend": false,
         "text": "[54]",
         "type": "scatter",
         "x": [
          7.93301270189222,
          7.5,
          7.06698729810778,
          7.06698729810778,
          7.5,
          7.93301270189222,
          7.93301270189222
         ],
         "xaxis": "x4",
         "y": [
          0.24999999999999997,
          0.5,
          0.25000000000000017,
          -0.24999999999999986,
          -0.5,
          -0.24999999999999983,
          0.25
         ],
         "yaxis": "y4"
        },
        {
         "fill": "toself",
         "fillcolor": "rgb(67, 147, 195)",
         "hoverinfo": "text",
         "hoveron": "fills",
         "line": {
          "color": "black",
          "width": 0
         },
         "mode": "lines",
         "showlegend": false,
         "text": "[95]",
         "type": "scatter",
         "x": [
          8.433012701892219,
          8,
          7.56698729810778,
          7.56698729810778,
          8,
          8.433012701892219,
          8.433012701892219
         ],
         "xaxis": "x4",
         "y": [
          1.1160254037844386,
          1.3660254037844388,
          1.1160254037844388,
          0.6160254037844388,
          0.3660254037844387,
          0.6160254037844388,
          1.1160254037844388
         ],
         "yaxis": "y4"
        },
        {
         "fill": "toself",
         "fillcolor": "rgb(6, 50, 100)",
         "hoverinfo": "text",
         "hoveron": "fills",
         "line": {
          "color": "black",
          "width": 0
         },
         "mode": "lines",
         "showlegend": false,
         "text": "[0, 4]",
         "type": "scatter",
         "x": [
          7.93301270189222,
          7.5,
          7.06698729810778,
          7.06698729810778,
          7.5,
          7.93301270189222,
          7.93301270189222
         ],
         "xaxis": "x4",
         "y": [
          1.9820508075688774,
          2.2320508075688776,
          1.9820508075688776,
          1.4820508075688776,
          1.2320508075688774,
          1.4820508075688776,
          1.9820508075688774
         ],
         "yaxis": "y4"
        },
        {
         "fill": "toself",
         "fillcolor": "rgb(5, 48, 97)",
         "hoverinfo": "text",
         "hoveron": "fills",
         "line": {
          "color": "black",
          "width": 0
         },
         "mode": "lines",
         "showlegend": false,
         "text": "[]",
         "type": "scatter",
         "x": [
          8.433012701892219,
          8,
          7.56698729810778,
          7.56698729810778,
          8,
          8.433012701892219,
          8.433012701892219
         ],
         "xaxis": "x4",
         "y": [
          2.848076211353316,
          3.098076211353316,
          2.848076211353316,
          2.348076211353316,
          2.098076211353316,
          2.348076211353316,
          2.848076211353316
         ],
         "yaxis": "y4"
        },
        {
         "fill": "toself",
         "fillcolor": "rgb(5, 48, 97)",
         "hoverinfo": "text",
         "hoveron": "fills",
         "line": {
          "color": "black",
          "width": 0
         },
         "mode": "lines",
         "showlegend": false,
         "text": "[79]",
         "type": "scatter",
         "x": [
          7.93301270189222,
          7.5,
          7.06698729810778,
          7.06698729810778,
          7.5,
          7.93301270189222,
          7.93301270189222
         ],
         "xaxis": "x4",
         "y": [
          3.714101615137755,
          3.964101615137755,
          3.714101615137755,
          3.214101615137755,
          2.964101615137755,
          3.214101615137755,
          3.714101615137755
         ],
         "yaxis": "y4"
        },
        {
         "fill": "toself",
         "fillcolor": "rgb(103, 0, 31)",
         "hoverinfo": "text",
         "hoveron": "fills",
         "line": {
          "color": "black",
          "width": 0
         },
         "mode": "lines",
         "showlegend": false,
         "text": "[96]",
         "type": "scatter",
         "x": [
          8.933012701892219,
          8.5,
          8.066987298107781,
          8.066987298107781,
          8.5,
          8.933012701892219,
          8.933012701892219
         ],
         "xaxis": "x4",
         "y": [
          0.24999999999999997,
          0.5,
          0.25000000000000017,
          -0.24999999999999986,
          -0.5,
          -0.24999999999999983,
          0.25
         ],
         "yaxis": "y4"
        },
        {
         "fill": "toself",
         "fillcolor": "rgb(67, 147, 195)",
         "hoverinfo": "text",
         "hoveron": "fills",
         "line": {
          "color": "black",
          "width": 0
         },
         "mode": "lines",
         "showlegend": false,
         "text": "[97]",
         "type": "scatter",
         "x": [
          9.433012701892219,
          9,
          8.566987298107781,
          8.566987298107781,
          9,
          9.433012701892219,
          9.433012701892219
         ],
         "xaxis": "x4",
         "y": [
          1.1160254037844386,
          1.3660254037844388,
          1.1160254037844388,
          0.6160254037844388,
          0.3660254037844387,
          0.6160254037844388,
          1.1160254037844388
         ],
         "yaxis": "y4"
        },
        {
         "fill": "toself",
         "fillcolor": "rgb(13, 64, 119)",
         "hoverinfo": "text",
         "hoveron": "fills",
         "line": {
          "color": "black",
          "width": 0
         },
         "mode": "lines",
         "showlegend": false,
         "text": "[2]",
         "type": "scatter",
         "x": [
          8.933012701892219,
          8.5,
          8.066987298107781,
          8.066987298107781,
          8.5,
          8.933012701892219,
          8.933012701892219
         ],
         "xaxis": "x4",
         "y": [
          1.9820508075688774,
          2.2320508075688776,
          1.9820508075688776,
          1.4820508075688776,
          1.2320508075688774,
          1.4820508075688776,
          1.9820508075688774
         ],
         "yaxis": "y4"
        },
        {
         "fill": "toself",
         "fillcolor": "rgb(5, 48, 97)",
         "hoverinfo": "text",
         "hoveron": "fills",
         "line": {
          "color": "black",
          "width": 0
         },
         "mode": "lines",
         "showlegend": false,
         "text": "[6, 8]",
         "type": "scatter",
         "x": [
          9.433012701892219,
          9,
          8.566987298107781,
          8.566987298107781,
          9,
          9.433012701892219,
          9.433012701892219
         ],
         "xaxis": "x4",
         "y": [
          2.848076211353316,
          3.098076211353316,
          2.848076211353316,
          2.348076211353316,
          2.098076211353316,
          2.348076211353316,
          2.848076211353316
         ],
         "yaxis": "y4"
        },
        {
         "fill": "toself",
         "fillcolor": "rgb(5, 48, 97)",
         "hoverinfo": "text",
         "hoveron": "fills",
         "line": {
          "color": "black",
          "width": 0
         },
         "mode": "lines",
         "showlegend": false,
         "text": "[25, 78, 80]",
         "type": "scatter",
         "x": [
          8.933012701892219,
          8.5,
          8.066987298107781,
          8.066987298107781,
          8.5,
          8.933012701892219,
          8.933012701892219
         ],
         "xaxis": "x4",
         "y": [
          3.714101615137755,
          3.964101615137755,
          3.714101615137755,
          3.214101615137755,
          2.964101615137755,
          3.214101615137755,
          3.714101615137755
         ],
         "yaxis": "y4"
        },
        {
         "marker": {
          "color": [
           0.679951767372174,
           0.9999999999981616
          ],
          "colorbar": {
           "len": 0.1,
           "thickness": 20,
           "x": 1,
           "y": 0.7
          },
          "colorscale": [
           [
            0,
            "rgb(103,0,31)"
           ],
           [
            0.1,
            "rgb(178,24,43)"
           ],
           [
            0.2,
            "rgb(214,96,77)"
           ],
           [
            0.3,
            "rgb(244,165,130)"
           ],
           [
            0.4,
            "rgb(253,219,199)"
           ],
           [
            0.5,
            "rgb(247,247,247)"
           ],
           [
            0.6,
            "rgb(209,229,240)"
           ],
           [
            0.7,
            "rgb(146,197,222)"
           ],
           [
            0.8,
            "rgb(67,147,195)"
           ],
           [
            0.9,
            "rgb(33,102,172)"
           ],
           [
            1,
            "rgb(5,48,97)"
           ]
          ],
          "size": 0.001
         },
         "showlegend": false,
         "type": "scatter",
         "x": [
          0,
          0
         ],
         "xaxis": "x4",
         "y": [
          0,
          0
         ],
         "yaxis": "y4"
        },
        {
         "fill": "toself",
         "fillcolor": "rgb(43, 115, 179)",
         "hoverinfo": "text",
         "hoveron": "fills",
         "line": {
          "color": "black",
          "width": 0
         },
         "mode": "lines",
         "showlegend": false,
         "text": "[70, 74]",
         "type": "scatter",
         "x": [
          -0.06698729810778065,
          -0.49999999999999994,
          -0.9330127018922192,
          -0.9330127018922194,
          -0.5000000000000001,
          -0.06698729810778059,
          -0.0669872981077807
         ],
         "xaxis": "x5",
         "y": [
          0.24999999999999997,
          0.5,
          0.25000000000000017,
          -0.24999999999999986,
          -0.5,
          -0.24999999999999983,
          0.25
         ],
         "yaxis": "y5"
        },
        {
         "fill": "toself",
         "fillcolor": "rgb(23, 83, 146)",
         "hoverinfo": "text",
         "hoveron": "fills",
         "line": {
          "color": "black",
          "width": 0
         },
         "mode": "lines",
         "showlegend": false,
         "text": "[]",
         "type": "scatter",
         "x": [
          0.43301270189221935,
          3.061616997868383e-17,
          -0.43301270189221924,
          -0.4330127018922194,
          -9.184850993605148e-17,
          0.4330127018922194,
          0.4330127018922193
         ],
         "xaxis": "x5",
         "y": [
          1.1160254037844386,
          1.3660254037844388,
          1.1160254037844388,
          0.6160254037844388,
          0.3660254037844387,
          0.6160254037844388,
          1.1160254037844388
         ],
         "yaxis": "y5"
        },
        {
         "fill": "toself",
         "fillcolor": "rgb(5, 48, 97)",
         "hoverinfo": "text",
         "hoveron": "fills",
         "line": {
          "color": "black",
          "width": 0
         },
         "mode": "lines",
         "showlegend": false,
         "text": "[37, 38, 42, 43, 44, 45, 46, 64, 92]",
         "type": "scatter",
         "x": [
          -0.06698729810778065,
          -0.49999999999999994,
          -0.9330127018922192,
          -0.9330127018922194,
          -0.5000000000000001,
          -0.06698729810778059,
          -0.0669872981077807
         ],
         "xaxis": "x5",
         "y": [
          1.9820508075688774,
          2.2320508075688776,
          1.9820508075688776,
          1.4820508075688776,
          1.2320508075688774,
          1.4820508075688776,
          1.9820508075688774
         ],
         "yaxis": "y5"
        },
        {
         "fill": "toself",
         "fillcolor": "rgb(21, 78, 139)",
         "hoverinfo": "text",
         "hoveron": "fills",
         "line": {
          "color": "black",
          "width": 0
         },
         "mode": "lines",
         "showlegend": false,
         "text": "[]",
         "type": "scatter",
         "x": [
          0.43301270189221935,
          3.061616997868383e-17,
          -0.43301270189221924,
          -0.4330127018922194,
          -9.184850993605148e-17,
          0.4330127018922194,
          0.4330127018922193
         ],
         "xaxis": "x5",
         "y": [
          2.848076211353316,
          3.098076211353316,
          2.848076211353316,
          2.348076211353316,
          2.098076211353316,
          2.348076211353316,
          2.848076211353316
         ],
         "yaxis": "y5"
        },
        {
         "fill": "toself",
         "fillcolor": "rgb(23, 83, 146)",
         "hoverinfo": "text",
         "hoveron": "fills",
         "line": {
          "color": "black",
          "width": 0
         },
         "mode": "lines",
         "showlegend": false,
         "text": "[36]",
         "type": "scatter",
         "x": [
          -0.06698729810778065,
          -0.49999999999999994,
          -0.9330127018922192,
          -0.9330127018922194,
          -0.5000000000000001,
          -0.06698729810778059,
          -0.0669872981077807
         ],
         "xaxis": "x5",
         "y": [
          3.714101615137755,
          3.964101615137755,
          3.714101615137755,
          3.214101615137755,
          2.964101615137755,
          3.214101615137755,
          3.714101615137755
         ],
         "yaxis": "y5"
        },
        {
         "fill": "toself",
         "fillcolor": "rgb(51, 126, 184)",
         "hoverinfo": "text",
         "hoveron": "fills",
         "line": {
          "color": "black",
          "width": 0
         },
         "mode": "lines",
         "showlegend": false,
         "text": "[72, 76]",
         "type": "scatter",
         "x": [
          0.9330127018922194,
          0.5,
          0.06698729810778076,
          0.06698729810778059,
          0.4999999999999999,
          0.9330127018922194,
          0.9330127018922193
         ],
         "xaxis": "x5",
         "y": [
          0.24999999999999997,
          0.5,
          0.25000000000000017,
          -0.24999999999999986,
          -0.5,
          -0.24999999999999983,
          0.25
         ],
         "yaxis": "y5"
        },
        {
         "fill": "toself",
         "fillcolor": "rgb(51, 126, 184)",
         "hoverinfo": "text",
         "hoveron": "fills",
         "line": {
          "color": "black",
          "width": 0
         },
         "mode": "lines",
         "showlegend": false,
         "text": "[71, 73]",
         "type": "scatter",
         "x": [
          1.4330127018922194,
          1,
          0.5669872981077808,
          0.5669872981077806,
          0.9999999999999999,
          1.4330127018922194,
          1.4330127018922192
         ],
         "xaxis": "x5",
         "y": [
          1.1160254037844386,
          1.3660254037844388,
          1.1160254037844388,
          0.6160254037844388,
          0.3660254037844387,
          0.6160254037844388,
          1.1160254037844388
         ],
         "yaxis": "y5"
        },
        {
         "fill": "toself",
         "fillcolor": "rgb(28, 93, 159)",
         "hoverinfo": "text",
         "hoveron": "fills",
         "line": {
          "color": "black",
          "width": 0
         },
         "mode": "lines",
         "showlegend": false,
         "text": "[27, 40, 88]",
         "type": "scatter",
         "x": [
          0.9330127018922194,
          0.5,
          0.06698729810778076,
          0.06698729810778059,
          0.4999999999999999,
          0.9330127018922194,
          0.9330127018922193
         ],
         "xaxis": "x5",
         "y": [
          1.9820508075688774,
          2.2320508075688776,
          1.9820508075688776,
          1.4820508075688776,
          1.2320508075688774,
          1.4820508075688776,
          1.9820508075688774
         ],
         "yaxis": "y5"
        },
        {
         "fill": "toself",
         "fillcolor": "rgb(44, 116, 179)",
         "hoverinfo": "text",
         "hoveron": "fills",
         "line": {
          "color": "black",
          "width": 0
         },
         "mode": "lines",
         "showlegend": false,
         "text": "[29, 53, 75, 77, 83, 85]",
         "type": "scatter",
         "x": [
          1.4330127018922194,
          1,
          0.5669872981077808,
          0.5669872981077806,
          0.9999999999999999,
          1.4330127018922194,
          1.4330127018922192
         ],
         "xaxis": "x5",
         "y": [
          2.848076211353316,
          3.098076211353316,
          2.848076211353316,
          2.348076211353316,
          2.098076211353316,
          2.348076211353316,
          2.848076211353316
         ],
         "yaxis": "y5"
        },
        {
         "fill": "toself",
         "fillcolor": "rgb(23, 83, 145)",
         "hoverinfo": "text",
         "hoveron": "fills",
         "line": {
          "color": "black",
          "width": 0
         },
         "mode": "lines",
         "showlegend": false,
         "text": "[63]",
         "type": "scatter",
         "x": [
          0.9330127018922194,
          0.5,
          0.06698729810778076,
          0.06698729810778059,
          0.4999999999999999,
          0.9330127018922194,
          0.9330127018922193
         ],
         "xaxis": "x5",
         "y": [
          3.714101615137755,
          3.964101615137755,
          3.714101615137755,
          3.214101615137755,
          2.964101615137755,
          3.214101615137755,
          3.714101615137755
         ],
         "yaxis": "y5"
        },
        {
         "fill": "toself",
         "fillcolor": "rgb(63, 142, 192)",
         "hoverinfo": "text",
         "hoveron": "fills",
         "line": {
          "color": "black",
          "width": 0
         },
         "mode": "lines",
         "showlegend": false,
         "text": "[]",
         "type": "scatter",
         "x": [
          1.9330127018922194,
          1.5,
          1.0669872981077808,
          1.0669872981077806,
          1.5,
          1.9330127018922194,
          1.9330127018922192
         ],
         "xaxis": "x5",
         "y": [
          0.24999999999999997,
          0.5,
          0.25000000000000017,
          -0.24999999999999986,
          -0.5,
          -0.24999999999999983,
          0.25
         ],
         "yaxis": "y5"
        },
        {
         "fill": "toself",
         "fillcolor": "rgb(79, 154, 199)",
         "hoverinfo": "text",
         "hoveron": "fills",
         "line": {
          "color": "black",
          "width": 0
         },
         "mode": "lines",
         "showlegend": false,
         "text": "[13, 14, 26, 59, 87, 89]",
         "type": "scatter",
         "x": [
          2.433012701892219,
          2,
          1.5669872981077808,
          1.5669872981077806,
          2,
          2.4330127018922196,
          2.433012701892219
         ],
         "xaxis": "x5",
         "y": [
          1.1160254037844386,
          1.3660254037844388,
          1.1160254037844388,
          0.6160254037844388,
          0.3660254037844387,
          0.6160254037844388,
          1.1160254037844388
         ],
         "yaxis": "y5"
        },
        {
         "fill": "toself",
         "fillcolor": "rgb(58, 134, 189)",
         "hoverinfo": "text",
         "hoveron": "fills",
         "line": {
          "color": "black",
          "width": 0
         },
         "mode": "lines",
         "showlegend": false,
         "text": "[12, 67, 82]",
         "type": "scatter",
         "x": [
          1.9330127018922194,
          1.5,
          1.0669872981077808,
          1.0669872981077806,
          1.5,
          1.9330127018922194,
          1.9330127018922192
         ],
         "xaxis": "x5",
         "y": [
          1.9820508075688774,
          2.2320508075688776,
          1.9820508075688776,
          1.4820508075688776,
          1.2320508075688774,
          1.4820508075688776,
          1.9820508075688774
         ],
         "yaxis": "y5"
        },
        {
         "fill": "toself",
         "fillcolor": "rgb(60, 138, 190)",
         "hoverinfo": "text",
         "hoveron": "fills",
         "line": {
          "color": "black",
          "width": 0
         },
         "mode": "lines",
         "showlegend": false,
         "text": "[28]",
         "type": "scatter",
         "x": [
          2.433012701892219,
          2,
          1.5669872981077808,
          1.5669872981077806,
          2,
          2.4330127018922196,
          2.433012701892219
         ],
         "xaxis": "x5",
         "y": [
          2.848076211353316,
          3.098076211353316,
          2.848076211353316,
          2.348076211353316,
          2.098076211353316,
          2.348076211353316,
          2.848076211353316
         ],
         "yaxis": "y5"
        },
        {
         "fill": "toself",
         "fillcolor": "rgb(43, 115, 179)",
         "hoverinfo": "text",
         "hoveron": "fills",
         "line": {
          "color": "black",
          "width": 0
         },
         "mode": "lines",
         "showlegend": false,
         "text": "[]",
         "type": "scatter",
         "x": [
          1.9330127018922194,
          1.5,
          1.0669872981077808,
          1.0669872981077806,
          1.5,
          1.9330127018922194,
          1.9330127018922192
         ],
         "xaxis": "x5",
         "y": [
          3.714101615137755,
          3.964101615137755,
          3.714101615137755,
          3.214101615137755,
          2.964101615137755,
          3.214101615137755,
          3.714101615137755
         ],
         "yaxis": "y5"
        },
        {
         "fill": "toself",
         "fillcolor": "rgb(106, 172, 208)",
         "hoverinfo": "text",
         "hoveron": "fills",
         "line": {
          "color": "black",
          "width": 0
         },
         "mode": "lines",
         "showlegend": false,
         "text": "[]",
         "type": "scatter",
         "x": [
          2.933012701892219,
          2.5,
          2.066987298107781,
          2.0669872981077804,
          2.5,
          2.9330127018922196,
          2.933012701892219
         ],
         "xaxis": "x5",
         "y": [
          0.24999999999999997,
          0.5,
          0.25000000000000017,
          -0.24999999999999986,
          -0.5,
          -0.24999999999999983,
          0.25
         ],
         "yaxis": "y5"
        },
        {
         "fill": "toself",
         "fillcolor": "rgb(130, 187, 217)",
         "hoverinfo": "text",
         "hoveron": "fills",
         "line": {
          "color": "black",
          "width": 0
         },
         "mode": "lines",
         "showlegend": false,
         "text": "[21, 61, 66, 86]",
         "type": "scatter",
         "x": [
          3.433012701892219,
          3,
          2.566987298107781,
          2.5669872981077804,
          3,
          3.4330127018922196,
          3.433012701892219
         ],
         "xaxis": "x5",
         "y": [
          1.1160254037844386,
          1.3660254037844388,
          1.1160254037844388,
          0.6160254037844388,
          0.3660254037844387,
          0.6160254037844388,
          1.1160254037844388
         ],
         "yaxis": "y5"
        },
        {
         "fill": "toself",
         "fillcolor": "rgb(95, 165, 205)",
         "hoverinfo": "text",
         "hoveron": "fills",
         "line": {
          "color": "black",
          "width": 0
         },
         "mode": "lines",
         "showlegend": false,
         "text": "[11, 22, 57, 69]",
         "type": "scatter",
         "x": [
          2.933012701892219,
          2.5,
          2.066987298107781,
          2.0669872981077804,
          2.5,
          2.9330127018922196,
          2.933012701892219
         ],
         "xaxis": "x5",
         "y": [
          1.9820508075688774,
          2.2320508075688776,
          1.9820508075688776,
          1.4820508075688776,
          1.2320508075688774,
          1.4820508075688776,
          1.9820508075688774
         ],
         "yaxis": "y5"
        },
        {
         "fill": "toself",
         "fillcolor": "rgb(99, 168, 206)",
         "hoverinfo": "text",
         "hoveron": "fills",
         "line": {
          "color": "black",
          "width": 0
         },
         "mode": "lines",
         "showlegend": false,
         "text": "[24, 90]",
         "type": "scatter",
         "x": [
          3.433012701892219,
          3,
          2.566987298107781,
          2.5669872981077804,
          3,
          3.4330127018922196,
          3.433012701892219
         ],
         "xaxis": "x5",
         "y": [
          2.848076211353316,
          3.098076211353316,
          2.848076211353316,
          2.348076211353316,
          2.098076211353316,
          2.348076211353316,
          2.848076211353316
         ],
         "yaxis": "y5"
        },
        {
         "fill": "toself",
         "fillcolor": "rgb(53, 128, 185)",
         "hoverinfo": "text",
         "hoveron": "fills",
         "line": {
          "color": "black",
          "width": 0
         },
         "mode": "lines",
         "showlegend": false,
         "text": "[68, 84]",
         "type": "scatter",
         "x": [
          2.933012701892219,
          2.5,
          2.066987298107781,
          2.0669872981077804,
          2.5,
          2.9330127018922196,
          2.933012701892219
         ],
         "xaxis": "x5",
         "y": [
          3.714101615137755,
          3.964101615137755,
          3.714101615137755,
          3.214101615137755,
          2.964101615137755,
          3.214101615137755,
          3.714101615137755
         ],
         "yaxis": "y5"
        },
        {
         "fill": "toself",
         "fillcolor": "rgb(173, 211, 230)",
         "hoverinfo": "text",
         "hoveron": "fills",
         "line": {
          "color": "black",
          "width": 0
         },
         "mode": "lines",
         "showlegend": false,
         "text": "[93]",
         "type": "scatter",
         "x": [
          3.933012701892219,
          3.5,
          3.066987298107781,
          3.0669872981077804,
          3.5,
          3.9330127018922196,
          3.933012701892219
         ],
         "xaxis": "x5",
         "y": [
          0.24999999999999997,
          0.5,
          0.25000000000000017,
          -0.24999999999999986,
          -0.5,
          -0.24999999999999983,
          0.25
         ],
         "yaxis": "y5"
        },
        {
         "fill": "toself",
         "fillcolor": "rgb(190, 219, 235)",
         "hoverinfo": "text",
         "hoveron": "fills",
         "line": {
          "color": "black",
          "width": 0
         },
         "mode": "lines",
         "showlegend": false,
         "text": "[10, 34, 65]",
         "type": "scatter",
         "x": [
          4.43301270189222,
          4,
          3.566987298107781,
          3.5669872981077804,
          4,
          4.43301270189222,
          4.43301270189222
         ],
         "xaxis": "x5",
         "y": [
          1.1160254037844386,
          1.3660254037844388,
          1.1160254037844388,
          0.6160254037844388,
          0.3660254037844387,
          0.6160254037844388,
          1.1160254037844388
         ],
         "yaxis": "y5"
        },
        {
         "fill": "toself",
         "fillcolor": "rgb(153, 200, 224)",
         "hoverinfo": "text",
         "hoveron": "fills",
         "line": {
          "color": "black",
          "width": 0
         },
         "mode": "lines",
         "showlegend": false,
         "text": "[31, 58, 91]",
         "type": "scatter",
         "x": [
          3.933012701892219,
          3.5,
          3.066987298107781,
          3.0669872981077804,
          3.5,
          3.9330127018922196,
          3.933012701892219
         ],
         "xaxis": "x5",
         "y": [
          1.9820508075688774,
          2.2320508075688776,
          1.9820508075688776,
          1.4820508075688776,
          1.2320508075688774,
          1.4820508075688776,
          1.9820508075688774
         ],
         "yaxis": "y5"
        },
        {
         "fill": "toself",
         "fillcolor": "rgb(158, 203, 225)",
         "hoverinfo": "text",
         "hoveron": "fills",
         "line": {
          "color": "black",
          "width": 0
         },
         "mode": "lines",
         "showlegend": false,
         "text": "[]",
         "type": "scatter",
         "x": [
          4.43301270189222,
          4,
          3.566987298107781,
          3.5669872981077804,
          4,
          4.43301270189222,
          4.43301270189222
         ],
         "xaxis": "x5",
         "y": [
          2.848076211353316,
          3.098076211353316,
          2.848076211353316,
          2.348076211353316,
          2.098076211353316,
          2.348076211353316,
          2.848076211353316
         ],
         "yaxis": "y5"
        },
        {
         "fill": "toself",
         "fillcolor": "rgb(73, 151, 197)",
         "hoverinfo": "text",
         "hoveron": "fills",
         "line": {
          "color": "black",
          "width": 0
         },
         "mode": "lines",
         "showlegend": false,
         "text": "[81]",
         "type": "scatter",
         "x": [
          3.933012701892219,
          3.5,
          3.066987298107781,
          3.0669872981077804,
          3.5,
          3.9330127018922196,
          3.933012701892219
         ],
         "xaxis": "x5",
         "y": [
          3.714101615137755,
          3.964101615137755,
          3.714101615137755,
          3.214101615137755,
          2.964101615137755,
          3.214101615137755,
          3.714101615137755
         ],
         "yaxis": "y5"
        },
        {
         "fill": "toself",
         "fillcolor": "rgb(229, 238, 244)",
         "hoverinfo": "text",
         "hoveron": "fills",
         "line": {
          "color": "black",
          "width": 0
         },
         "mode": "lines",
         "showlegend": false,
         "text": "[100]",
         "type": "scatter",
         "x": [
          4.93301270189222,
          4.5,
          4.06698729810778,
          4.06698729810778,
          4.5,
          4.93301270189222,
          4.93301270189222
         ],
         "xaxis": "x5",
         "y": [
          0.24999999999999997,
          0.5,
          0.25000000000000017,
          -0.24999999999999986,
          -0.5,
          -0.24999999999999983,
          0.25
         ],
         "yaxis": "y5"
        },
        {
         "fill": "toself",
         "fillcolor": "rgb(228, 238, 243)",
         "hoverinfo": "text",
         "hoveron": "fills",
         "line": {
          "color": "black",
          "width": 0
         },
         "mode": "lines",
         "showlegend": false,
         "text": "[15, 41]",
         "type": "scatter",
         "x": [
          5.43301270189222,
          5,
          4.56698729810778,
          4.56698729810778,
          5,
          5.43301270189222,
          5.43301270189222
         ],
         "xaxis": "x5",
         "y": [
          1.1160254037844386,
          1.3660254037844388,
          1.1160254037844388,
          0.6160254037844388,
          0.3660254037844387,
          0.6160254037844388,
          1.1160254037844388
         ],
         "yaxis": "y5"
        },
        {
         "fill": "toself",
         "fillcolor": "rgb(204, 227, 239)",
         "hoverinfo": "text",
         "hoveron": "fills",
         "line": {
          "color": "black",
          "width": 0
         },
         "mode": "lines",
         "showlegend": false,
         "text": "[16, 18, 60]",
         "type": "scatter",
         "x": [
          4.93301270189222,
          4.5,
          4.06698729810778,
          4.06698729810778,
          4.5,
          4.93301270189222,
          4.93301270189222
         ],
         "xaxis": "x5",
         "y": [
          1.9820508075688774,
          2.2320508075688776,
          1.9820508075688776,
          1.4820508075688776,
          1.2320508075688774,
          1.4820508075688776,
          1.9820508075688774
         ],
         "yaxis": "y5"
        },
        {
         "fill": "toself",
         "fillcolor": "rgb(204, 226, 239)",
         "hoverinfo": "text",
         "hoveron": "fills",
         "line": {
          "color": "black",
          "width": 0
         },
         "mode": "lines",
         "showlegend": false,
         "text": "[50]",
         "type": "scatter",
         "x": [
          5.43301270189222,
          5,
          4.56698729810778,
          4.56698729810778,
          5,
          5.43301270189222,
          5.43301270189222
         ],
         "xaxis": "x5",
         "y": [
          2.848076211353316,
          3.098076211353316,
          2.848076211353316,
          2.348076211353316,
          2.098076211353316,
          2.348076211353316,
          2.848076211353316
         ],
         "yaxis": "y5"
        },
        {
         "fill": "toself",
         "fillcolor": "rgb(143, 195, 221)",
         "hoverinfo": "text",
         "hoveron": "fills",
         "line": {
          "color": "black",
          "width": 0
         },
         "mode": "lines",
         "showlegend": false,
         "text": "[]",
         "type": "scatter",
         "x": [
          4.93301270189222,
          4.5,
          4.06698729810778,
          4.06698729810778,
          4.5,
          4.93301270189222,
          4.93301270189222
         ],
         "xaxis": "x5",
         "y": [
          3.714101615137755,
          3.964101615137755,
          3.714101615137755,
          3.214101615137755,
          2.964101615137755,
          3.214101615137755,
          3.714101615137755
         ],
         "yaxis": "y5"
        },
        {
         "fill": "toself",
         "fillcolor": "rgb(248, 241, 237)",
         "hoverinfo": "text",
         "hoveron": "fills",
         "line": {
          "color": "black",
          "width": 0
         },
         "mode": "lines",
         "showlegend": false,
         "text": "[17, 32, 33, 56, 94, 99]",
         "type": "scatter",
         "x": [
          5.93301270189222,
          5.5,
          5.06698729810778,
          5.06698729810778,
          5.5,
          5.93301270189222,
          5.93301270189222
         ],
         "xaxis": "x5",
         "y": [
          0.24999999999999997,
          0.5,
          0.25000000000000017,
          -0.24999999999999986,
          -0.5,
          -0.24999999999999983,
          0.25
         ],
         "yaxis": "y5"
        },
        {
         "fill": "toself",
         "fillcolor": "rgb(246, 247, 247)",
         "hoverinfo": "text",
         "hoveron": "fills",
         "line": {
          "color": "black",
          "width": 0
         },
         "mode": "lines",
         "showlegend": false,
         "text": "[20, 35, 48]",
         "type": "scatter",
         "x": [
          6.43301270189222,
          6,
          5.56698729810778,
          5.56698729810778,
          6,
          6.43301270189222,
          6.43301270189222
         ],
         "xaxis": "x5",
         "y": [
          1.1160254037844386,
          1.3660254037844388,
          1.1160254037844388,
          0.6160254037844388,
          0.3660254037844387,
          0.6160254037844388,
          1.1160254037844388
         ],
         "yaxis": "y5"
        },
        {
         "fill": "toself",
         "fillcolor": "rgb(218, 233, 242)",
         "hoverinfo": "text",
         "hoveron": "fills",
         "line": {
          "color": "black",
          "width": 0
         },
         "mode": "lines",
         "showlegend": false,
         "text": "[19, 23, 47]",
         "type": "scatter",
         "x": [
          5.93301270189222,
          5.5,
          5.06698729810778,
          5.06698729810778,
          5.5,
          5.93301270189222,
          5.93301270189222
         ],
         "xaxis": "x5",
         "y": [
          1.9820508075688774,
          2.2320508075688776,
          1.9820508075688776,
          1.4820508075688776,
          1.2320508075688774,
          1.4820508075688776,
          1.9820508075688774
         ],
         "yaxis": "y5"
        },
        {
         "fill": "toself",
         "fillcolor": "rgb(210, 230, 240)",
         "hoverinfo": "text",
         "hoveron": "fills",
         "line": {
          "color": "black",
          "width": 0
         },
         "mode": "lines",
         "showlegend": false,
         "text": "[1]",
         "type": "scatter",
         "x": [
          6.43301270189222,
          6,
          5.56698729810778,
          5.56698729810778,
          6,
          6.43301270189222,
          6.43301270189222
         ],
         "xaxis": "x5",
         "y": [
          2.848076211353316,
          3.098076211353316,
          2.848076211353316,
          2.348076211353316,
          2.098076211353316,
          2.348076211353316,
          2.848076211353316
         ],
         "yaxis": "y5"
        },
        {
         "fill": "toself",
         "fillcolor": "rgb(200, 224, 237)",
         "hoverinfo": "text",
         "hoveron": "fills",
         "line": {
          "color": "black",
          "width": 0
         },
         "mode": "lines",
         "showlegend": false,
         "text": "[]",
         "type": "scatter",
         "x": [
          5.93301270189222,
          5.5,
          5.06698729810778,
          5.06698729810778,
          5.5,
          5.93301270189222,
          5.93301270189222
         ],
         "xaxis": "x5",
         "y": [
          3.714101615137755,
          3.964101615137755,
          3.714101615137755,
          3.214101615137755,
          2.964101615137755,
          3.214101615137755,
          3.714101615137755
         ],
         "yaxis": "y5"
        },
        {
         "fill": "toself",
         "fillcolor": "rgb(251, 230, 218)",
         "hoverinfo": "text",
         "hoveron": "fills",
         "line": {
          "color": "black",
          "width": 0
         },
         "mode": "lines",
         "showlegend": false,
         "text": "[30, 39, 49, 62, 98, 101]",
         "type": "scatter",
         "x": [
          6.93301270189222,
          6.5,
          6.06698729810778,
          6.06698729810778,
          6.5,
          6.93301270189222,
          6.93301270189222
         ],
         "xaxis": "x5",
         "y": [
          0.24999999999999997,
          0.5,
          0.25000000000000017,
          -0.24999999999999986,
          -0.5,
          -0.24999999999999983,
          0.25
         ],
         "yaxis": "y5"
        },
        {
         "fill": "toself",
         "fillcolor": "rgb(250, 231, 220)",
         "hoverinfo": "text",
         "hoveron": "fills",
         "line": {
          "color": "black",
          "width": 0
         },
         "mode": "lines",
         "showlegend": false,
         "text": "[]",
         "type": "scatter",
         "x": [
          7.43301270189222,
          7,
          6.56698729810778,
          6.56698729810778,
          7,
          7.43301270189222,
          7.43301270189222
         ],
         "xaxis": "x5",
         "y": [
          1.1160254037844386,
          1.3660254037844388,
          1.1160254037844388,
          0.6160254037844388,
          0.3660254037844387,
          0.6160254037844388,
          1.1160254037844388
         ],
         "yaxis": "y5"
        },
        {
         "fill": "toself",
         "fillcolor": "rgb(227, 237, 243)",
         "hoverinfo": "text",
         "hoveron": "fills",
         "line": {
          "color": "black",
          "width": 0
         },
         "mode": "lines",
         "showlegend": false,
         "text": "[51, 55]",
         "type": "scatter",
         "x": [
          6.93301270189222,
          6.5,
          6.06698729810778,
          6.06698729810778,
          6.5,
          6.93301270189222,
          6.93301270189222
         ],
         "xaxis": "x5",
         "y": [
          1.9820508075688774,
          2.2320508075688776,
          1.9820508075688776,
          1.4820508075688776,
          1.2320508075688774,
          1.4820508075688776,
          1.9820508075688774
         ],
         "yaxis": "y5"
        },
        {
         "fill": "toself",
         "fillcolor": "rgb(192, 220, 235)",
         "hoverinfo": "text",
         "hoveron": "fills",
         "line": {
          "color": "black",
          "width": 0
         },
         "mode": "lines",
         "showlegend": false,
         "text": "[5, 7, 9]",
         "type": "scatter",
         "x": [
          7.43301270189222,
          7,
          6.56698729810778,
          6.56698729810778,
          7,
          7.43301270189222,
          7.43301270189222
         ],
         "xaxis": "x5",
         "y": [
          2.848076211353316,
          3.098076211353316,
          2.848076211353316,
          2.348076211353316,
          2.098076211353316,
          2.348076211353316,
          2.848076211353316
         ],
         "yaxis": "y5"
        },
        {
         "fill": "toself",
         "fillcolor": "rgb(184, 216, 233)",
         "hoverinfo": "text",
         "hoveron": "fills",
         "line": {
          "color": "black",
          "width": 0
         },
         "mode": "lines",
         "showlegend": false,
         "text": "[3, 52]",
         "type": "scatter",
         "x": [
          6.93301270189222,
          6.5,
          6.06698729810778,
          6.06698729810778,
          6.5,
          6.93301270189222,
          6.93301270189222
         ],
         "xaxis": "x5",
         "y": [
          3.714101615137755,
          3.964101615137755,
          3.714101615137755,
          3.214101615137755,
          2.964101615137755,
          3.214101615137755,
          3.714101615137755
         ],
         "yaxis": "y5"
        },
        {
         "fill": "toself",
         "fillcolor": "rgb(243, 163, 129)",
         "hoverinfo": "text",
         "hoveron": "fills",
         "line": {
          "color": "black",
          "width": 0
         },
         "mode": "lines",
         "showlegend": false,
         "text": "[54]",
         "type": "scatter",
         "x": [
          7.93301270189222,
          7.5,
          7.06698729810778,
          7.06698729810778,
          7.5,
          7.93301270189222,
          7.93301270189222
         ],
         "xaxis": "x5",
         "y": [
          0.24999999999999997,
          0.5,
          0.25000000000000017,
          -0.24999999999999986,
          -0.5,
          -0.24999999999999983,
          0.25
         ],
         "yaxis": "y5"
        },
        {
         "fill": "toself",
         "fillcolor": "rgb(218, 106, 84)",
         "hoverinfo": "text",
         "hoveron": "fills",
         "line": {
          "color": "black",
          "width": 0
         },
         "mode": "lines",
         "showlegend": false,
         "text": "[95]",
         "type": "scatter",
         "x": [
          8.433012701892219,
          8,
          7.56698729810778,
          7.56698729810778,
          8,
          8.433012701892219,
          8.433012701892219
         ],
         "xaxis": "x5",
         "y": [
          1.1160254037844386,
          1.3660254037844388,
          1.1160254037844388,
          0.6160254037844388,
          0.3660254037844387,
          0.6160254037844388,
          1.1160254037844388
         ],
         "yaxis": "y5"
        },
        {
         "fill": "toself",
         "fillcolor": "rgb(237, 242, 245)",
         "hoverinfo": "text",
         "hoveron": "fills",
         "line": {
          "color": "black",
          "width": 0
         },
         "mode": "lines",
         "showlegend": false,
         "text": "[0, 4]",
         "type": "scatter",
         "x": [
          7.93301270189222,
          7.5,
          7.06698729810778,
          7.06698729810778,
          7.5,
          7.93301270189222,
          7.93301270189222
         ],
         "xaxis": "x5",
         "y": [
          1.9820508075688774,
          2.2320508075688776,
          1.9820508075688776,
          1.4820508075688776,
          1.2320508075688774,
          1.4820508075688776,
          1.9820508075688774
         ],
         "yaxis": "y5"
        },
        {
         "fill": "toself",
         "fillcolor": "rgb(173, 211, 230)",
         "hoverinfo": "text",
         "hoveron": "fills",
         "line": {
          "color": "black",
          "width": 0
         },
         "mode": "lines",
         "showlegend": false,
         "text": "[]",
         "type": "scatter",
         "x": [
          8.433012701892219,
          8,
          7.56698729810778,
          7.56698729810778,
          8,
          8.433012701892219,
          8.433012701892219
         ],
         "xaxis": "x5",
         "y": [
          2.848076211353316,
          3.098076211353316,
          2.848076211353316,
          2.348076211353316,
          2.098076211353316,
          2.348076211353316,
          2.848076211353316
         ],
         "yaxis": "y5"
        },
        {
         "fill": "toself",
         "fillcolor": "rgb(93, 163, 204)",
         "hoverinfo": "text",
         "hoveron": "fills",
         "line": {
          "color": "black",
          "width": 0
         },
         "mode": "lines",
         "showlegend": false,
         "text": "[79]",
         "type": "scatter",
         "x": [
          7.93301270189222,
          7.5,
          7.06698729810778,
          7.06698729810778,
          7.5,
          7.93301270189222,
          7.93301270189222
         ],
         "xaxis": "x5",
         "y": [
          3.714101615137755,
          3.964101615137755,
          3.714101615137755,
          3.214101615137755,
          2.964101615137755,
          3.214101615137755,
          3.714101615137755
         ],
         "yaxis": "y5"
        },
        {
         "fill": "toself",
         "fillcolor": "rgb(103, 0, 31)",
         "hoverinfo": "text",
         "hoveron": "fills",
         "line": {
          "color": "black",
          "width": 0
         },
         "mode": "lines",
         "showlegend": false,
         "text": "[96]",
         "type": "scatter",
         "x": [
          8.933012701892219,
          8.5,
          8.066987298107781,
          8.066987298107781,
          8.5,
          8.933012701892219,
          8.933012701892219
         ],
         "xaxis": "x5",
         "y": [
          0.24999999999999997,
          0.5,
          0.25000000000000017,
          -0.24999999999999986,
          -0.5,
          -0.24999999999999983,
          0.25
         ],
         "yaxis": "y5"
        },
        {
         "fill": "toself",
         "fillcolor": "rgb(188, 45, 53)",
         "hoverinfo": "text",
         "hoveron": "fills",
         "line": {
          "color": "black",
          "width": 0
         },
         "mode": "lines",
         "showlegend": false,
         "text": "[97]",
         "type": "scatter",
         "x": [
          9.433012701892219,
          9,
          8.566987298107781,
          8.566987298107781,
          9,
          9.433012701892219,
          9.433012701892219
         ],
         "xaxis": "x5",
         "y": [
          1.1160254037844386,
          1.3660254037844388,
          1.1160254037844388,
          0.6160254037844388,
          0.3660254037844387,
          0.6160254037844388,
          1.1160254037844388
         ],
         "yaxis": "y5"
        },
        {
         "fill": "toself",
         "fillcolor": "rgb(250, 232, 221)",
         "hoverinfo": "text",
         "hoveron": "fills",
         "line": {
          "color": "black",
          "width": 0
         },
         "mode": "lines",
         "showlegend": false,
         "text": "[2]",
         "type": "scatter",
         "x": [
          8.933012701892219,
          8.5,
          8.066987298107781,
          8.066987298107781,
          8.5,
          8.933012701892219,
          8.933012701892219
         ],
         "xaxis": "x5",
         "y": [
          1.9820508075688774,
          2.2320508075688776,
          1.9820508075688776,
          1.4820508075688776,
          1.2320508075688774,
          1.4820508075688776,
          1.9820508075688774
         ],
         "yaxis": "y5"
        },
        {
         "fill": "toself",
         "fillcolor": "rgb(214, 231, 241)",
         "hoverinfo": "text",
         "hoveron": "fills",
         "line": {
          "color": "black",
          "width": 0
         },
         "mode": "lines",
         "showlegend": false,
         "text": "[6, 8]",
         "type": "scatter",
         "x": [
          9.433012701892219,
          9,
          8.566987298107781,
          8.566987298107781,
          9,
          9.433012701892219,
          9.433012701892219
         ],
         "xaxis": "x5",
         "y": [
          2.848076211353316,
          3.098076211353316,
          2.848076211353316,
          2.348076211353316,
          2.098076211353316,
          2.348076211353316,
          2.848076211353316
         ],
         "yaxis": "y5"
        },
        {
         "fill": "toself",
         "fillcolor": "rgb(61, 139, 191)",
         "hoverinfo": "text",
         "hoveron": "fills",
         "line": {
          "color": "black",
          "width": 0
         },
         "mode": "lines",
         "showlegend": false,
         "text": "[25, 78, 80]",
         "type": "scatter",
         "x": [
          8.933012701892219,
          8.5,
          8.066987298107781,
          8.066987298107781,
          8.5,
          8.933012701892219,
          8.933012701892219
         ],
         "xaxis": "x5",
         "y": [
          3.714101615137755,
          3.964101615137755,
          3.714101615137755,
          3.214101615137755,
          2.964101615137755,
          3.214101615137755,
          3.714101615137755
         ],
         "yaxis": "y5"
        },
        {
         "marker": {
          "color": [
           0.5348170281493348,
           0.9867767504836491
          ],
          "colorbar": {
           "len": 0.1,
           "thickness": 20,
           "x": -0.15,
           "y": 0.5
          },
          "colorscale": [
           [
            0,
            "rgb(103,0,31)"
           ],
           [
            0.1,
            "rgb(178,24,43)"
           ],
           [
            0.2,
            "rgb(214,96,77)"
           ],
           [
            0.3,
            "rgb(244,165,130)"
           ],
           [
            0.4,
            "rgb(253,219,199)"
           ],
           [
            0.5,
            "rgb(247,247,247)"
           ],
           [
            0.6,
            "rgb(209,229,240)"
           ],
           [
            0.7,
            "rgb(146,197,222)"
           ],
           [
            0.8,
            "rgb(67,147,195)"
           ],
           [
            0.9,
            "rgb(33,102,172)"
           ],
           [
            1,
            "rgb(5,48,97)"
           ]
          ],
          "size": 0.001
         },
         "showlegend": false,
         "type": "scatter",
         "x": [
          0,
          0
         ],
         "xaxis": "x5",
         "y": [
          0,
          0
         ],
         "yaxis": "y5"
        },
        {
         "fill": "toself",
         "fillcolor": "rgb(193, 54, 57)",
         "hoverinfo": "text",
         "hoveron": "fills",
         "line": {
          "color": "black",
          "width": 0
         },
         "mode": "lines",
         "showlegend": false,
         "text": "[70, 74]",
         "type": "scatter",
         "x": [
          -0.06698729810778065,
          -0.49999999999999994,
          -0.9330127018922192,
          -0.9330127018922194,
          -0.5000000000000001,
          -0.06698729810778059,
          -0.0669872981077807
         ],
         "xaxis": "x6",
         "y": [
          0.24999999999999997,
          0.5,
          0.25000000000000017,
          -0.24999999999999986,
          -0.5,
          -0.24999999999999983,
          0.25
         ],
         "yaxis": "y6"
        },
        {
         "fill": "toself",
         "fillcolor": "rgb(96, 165, 205)",
         "hoverinfo": "text",
         "hoveron": "fills",
         "line": {
          "color": "black",
          "width": 0
         },
         "mode": "lines",
         "showlegend": false,
         "text": "[]",
         "type": "scatter",
         "x": [
          0.43301270189221935,
          3.061616997868383e-17,
          -0.43301270189221924,
          -0.4330127018922194,
          -9.184850993605148e-17,
          0.4330127018922194,
          0.4330127018922193
         ],
         "xaxis": "x6",
         "y": [
          1.1160254037844386,
          1.3660254037844388,
          1.1160254037844388,
          0.6160254037844388,
          0.3660254037844387,
          0.6160254037844388,
          1.1160254037844388
         ],
         "yaxis": "y6"
        },
        {
         "fill": "toself",
         "fillcolor": "rgb(6, 50, 99)",
         "hoverinfo": "text",
         "hoveron": "fills",
         "line": {
          "color": "black",
          "width": 0
         },
         "mode": "lines",
         "showlegend": false,
         "text": "[37, 38, 42, 43, 44, 45, 46, 64, 92]",
         "type": "scatter",
         "x": [
          -0.06698729810778065,
          -0.49999999999999994,
          -0.9330127018922192,
          -0.9330127018922194,
          -0.5000000000000001,
          -0.06698729810778059,
          -0.0669872981077807
         ],
         "xaxis": "x6",
         "y": [
          1.9820508075688774,
          2.2320508075688776,
          1.9820508075688776,
          1.4820508075688776,
          1.2320508075688774,
          1.4820508075688776,
          1.9820508075688774
         ],
         "yaxis": "y6"
        },
        {
         "fill": "toself",
         "fillcolor": "rgb(8, 54, 105)",
         "hoverinfo": "text",
         "hoveron": "fills",
         "line": {
          "color": "black",
          "width": 0
         },
         "mode": "lines",
         "showlegend": false,
         "text": "[]",
         "type": "scatter",
         "x": [
          0.43301270189221935,
          3.061616997868383e-17,
          -0.43301270189221924,
          -0.4330127018922194,
          -9.184850993605148e-17,
          0.4330127018922194,
          0.4330127018922193
         ],
         "xaxis": "x6",
         "y": [
          2.848076211353316,
          3.098076211353316,
          2.848076211353316,
          2.348076211353316,
          2.098076211353316,
          2.348076211353316,
          2.848076211353316
         ],
         "yaxis": "y6"
        },
        {
         "fill": "toself",
         "fillcolor": "rgb(6, 49, 98)",
         "hoverinfo": "text",
         "hoveron": "fills",
         "line": {
          "color": "black",
          "width": 0
         },
         "mode": "lines",
         "showlegend": false,
         "text": "[36]",
         "type": "scatter",
         "x": [
          -0.06698729810778065,
          -0.49999999999999994,
          -0.9330127018922192,
          -0.9330127018922194,
          -0.5000000000000001,
          -0.06698729810778059,
          -0.0669872981077807
         ],
         "xaxis": "x6",
         "y": [
          3.714101615137755,
          3.964101615137755,
          3.714101615137755,
          3.214101615137755,
          2.964101615137755,
          3.214101615137755,
          3.714101615137755
         ],
         "yaxis": "y6"
        },
        {
         "fill": "toself",
         "fillcolor": "rgb(103, 0, 31)",
         "hoverinfo": "text",
         "hoveron": "fills",
         "line": {
          "color": "black",
          "width": 0
         },
         "mode": "lines",
         "showlegend": false,
         "text": "[72, 76]",
         "type": "scatter",
         "x": [
          0.9330127018922194,
          0.5,
          0.06698729810778076,
          0.06698729810778059,
          0.4999999999999999,
          0.9330127018922194,
          0.9330127018922193
         ],
         "xaxis": "x6",
         "y": [
          0.24999999999999997,
          0.5,
          0.25000000000000017,
          -0.24999999999999986,
          -0.5,
          -0.24999999999999983,
          0.25
         ],
         "yaxis": "y6"
        },
        {
         "fill": "toself",
         "fillcolor": "rgb(79, 154, 199)",
         "hoverinfo": "text",
         "hoveron": "fills",
         "line": {
          "color": "black",
          "width": 0
         },
         "mode": "lines",
         "showlegend": false,
         "text": "[71, 73]",
         "type": "scatter",
         "x": [
          1.4330127018922194,
          1,
          0.5669872981077808,
          0.5669872981077806,
          0.9999999999999999,
          1.4330127018922194,
          1.4330127018922192
         ],
         "xaxis": "x6",
         "y": [
          1.1160254037844386,
          1.3660254037844388,
          1.1160254037844388,
          0.6160254037844388,
          0.3660254037844387,
          0.6160254037844388,
          1.1160254037844388
         ],
         "yaxis": "y6"
        },
        {
         "fill": "toself",
         "fillcolor": "rgb(8, 54, 105)",
         "hoverinfo": "text",
         "hoveron": "fills",
         "line": {
          "color": "black",
          "width": 0
         },
         "mode": "lines",
         "showlegend": false,
         "text": "[27, 40, 88]",
         "type": "scatter",
         "x": [
          0.9330127018922194,
          0.5,
          0.06698729810778076,
          0.06698729810778059,
          0.4999999999999999,
          0.9330127018922194,
          0.9330127018922193
         ],
         "xaxis": "x6",
         "y": [
          1.9820508075688774,
          2.2320508075688776,
          1.9820508075688776,
          1.4820508075688776,
          1.2320508075688774,
          1.4820508075688776,
          1.9820508075688774
         ],
         "yaxis": "y6"
        },
        {
         "fill": "toself",
         "fillcolor": "rgb(12, 61, 115)",
         "hoverinfo": "text",
         "hoveron": "fills",
         "line": {
          "color": "black",
          "width": 0
         },
         "mode": "lines",
         "showlegend": false,
         "text": "[29, 53, 75, 77, 83, 85]",
         "type": "scatter",
         "x": [
          1.4330127018922194,
          1,
          0.5669872981077808,
          0.5669872981077806,
          0.9999999999999999,
          1.4330127018922194,
          1.4330127018922192
         ],
         "xaxis": "x6",
         "y": [
          2.848076211353316,
          3.098076211353316,
          2.848076211353316,
          2.348076211353316,
          2.098076211353316,
          2.348076211353316,
          2.848076211353316
         ],
         "yaxis": "y6"
        },
        {
         "fill": "toself",
         "fillcolor": "rgb(10, 57, 110)",
         "hoverinfo": "text",
         "hoveron": "fills",
         "line": {
          "color": "black",
          "width": 0
         },
         "mode": "lines",
         "showlegend": false,
         "text": "[63]",
         "type": "scatter",
         "x": [
          0.9330127018922194,
          0.5,
          0.06698729810778076,
          0.06698729810778059,
          0.4999999999999999,
          0.9330127018922194,
          0.9330127018922193
         ],
         "xaxis": "x6",
         "y": [
          3.714101615137755,
          3.964101615137755,
          3.714101615137755,
          3.214101615137755,
          2.964101615137755,
          3.214101615137755,
          3.714101615137755
         ],
         "yaxis": "y6"
        },
        {
         "fill": "toself",
         "fillcolor": "rgb(132, 188, 217)",
         "hoverinfo": "text",
         "hoveron": "fills",
         "line": {
          "color": "black",
          "width": 0
         },
         "mode": "lines",
         "showlegend": false,
         "text": "[]",
         "type": "scatter",
         "x": [
          1.9330127018922194,
          1.5,
          1.0669872981077808,
          1.0669872981077806,
          1.5,
          1.9330127018922194,
          1.9330127018922192
         ],
         "xaxis": "x6",
         "y": [
          0.24999999999999997,
          0.5,
          0.25000000000000017,
          -0.24999999999999986,
          -0.5,
          -0.24999999999999983,
          0.25
         ],
         "yaxis": "y6"
        },
        {
         "fill": "toself",
         "fillcolor": "rgb(7, 51, 102)",
         "hoverinfo": "text",
         "hoveron": "fills",
         "line": {
          "color": "black",
          "width": 0
         },
         "mode": "lines",
         "showlegend": false,
         "text": "[13, 14, 26, 59, 87, 89]",
         "type": "scatter",
         "x": [
          2.433012701892219,
          2,
          1.5669872981077808,
          1.5669872981077806,
          2,
          2.4330127018922196,
          2.433012701892219
         ],
         "xaxis": "x6",
         "y": [
          1.1160254037844386,
          1.3660254037844388,
          1.1160254037844388,
          0.6160254037844388,
          0.3660254037844387,
          0.6160254037844388,
          1.1160254037844388
         ],
         "yaxis": "y6"
        },
        {
         "fill": "toself",
         "fillcolor": "rgb(9, 55, 107)",
         "hoverinfo": "text",
         "hoveron": "fills",
         "line": {
          "color": "black",
          "width": 0
         },
         "mode": "lines",
         "showlegend": false,
         "text": "[12, 67, 82]",
         "type": "scatter",
         "x": [
          1.9330127018922194,
          1.5,
          1.0669872981077808,
          1.0669872981077806,
          1.5,
          1.9330127018922194,
          1.9330127018922192
         ],
         "xaxis": "x6",
         "y": [
          1.9820508075688774,
          2.2320508075688776,
          1.9820508075688776,
          1.4820508075688776,
          1.2320508075688774,
          1.4820508075688776,
          1.9820508075688774
         ],
         "yaxis": "y6"
        },
        {
         "fill": "toself",
         "fillcolor": "rgb(7, 52, 103)",
         "hoverinfo": "text",
         "hoveron": "fills",
         "line": {
          "color": "black",
          "width": 0
         },
         "mode": "lines",
         "showlegend": false,
         "text": "[28]",
         "type": "scatter",
         "x": [
          2.433012701892219,
          2,
          1.5669872981077808,
          1.5669872981077806,
          2,
          2.4330127018922196,
          2.433012701892219
         ],
         "xaxis": "x6",
         "y": [
          2.848076211353316,
          3.098076211353316,
          2.848076211353316,
          2.348076211353316,
          2.098076211353316,
          2.348076211353316,
          2.848076211353316
         ],
         "yaxis": "y6"
        },
        {
         "fill": "toself",
         "fillcolor": "rgb(11, 60, 113)",
         "hoverinfo": "text",
         "hoveron": "fills",
         "line": {
          "color": "black",
          "width": 0
         },
         "mode": "lines",
         "showlegend": false,
         "text": "[]",
         "type": "scatter",
         "x": [
          1.9330127018922194,
          1.5,
          1.0669872981077808,
          1.0669872981077806,
          1.5,
          1.9330127018922194,
          1.9330127018922192
         ],
         "xaxis": "x6",
         "y": [
          3.714101615137755,
          3.964101615137755,
          3.714101615137755,
          3.214101615137755,
          2.964101615137755,
          3.214101615137755,
          3.714101615137755
         ],
         "yaxis": "y6"
        },
        {
         "fill": "toself",
         "fillcolor": "rgb(6, 50, 99)",
         "hoverinfo": "text",
         "hoveron": "fills",
         "line": {
          "color": "black",
          "width": 0
         },
         "mode": "lines",
         "showlegend": false,
         "text": "[]",
         "type": "scatter",
         "x": [
          2.933012701892219,
          2.5,
          2.066987298107781,
          2.0669872981077804,
          2.5,
          2.9330127018922196,
          2.933012701892219
         ],
         "xaxis": "x6",
         "y": [
          0.24999999999999997,
          0.5,
          0.25000000000000017,
          -0.24999999999999986,
          -0.5,
          -0.24999999999999983,
          0.25
         ],
         "yaxis": "y6"
        },
        {
         "fill": "toself",
         "fillcolor": "rgb(5, 48, 98)",
         "hoverinfo": "text",
         "hoveron": "fills",
         "line": {
          "color": "black",
          "width": 0
         },
         "mode": "lines",
         "showlegend": false,
         "text": "[21, 61, 66, 86]",
         "type": "scatter",
         "x": [
          3.433012701892219,
          3,
          2.566987298107781,
          2.5669872981077804,
          3,
          3.4330127018922196,
          3.433012701892219
         ],
         "xaxis": "x6",
         "y": [
          1.1160254037844386,
          1.3660254037844388,
          1.1160254037844388,
          0.6160254037844388,
          0.3660254037844387,
          0.6160254037844388,
          1.1160254037844388
         ],
         "yaxis": "y6"
        },
        {
         "fill": "toself",
         "fillcolor": "rgb(5, 48, 98)",
         "hoverinfo": "text",
         "hoveron": "fills",
         "line": {
          "color": "black",
          "width": 0
         },
         "mode": "lines",
         "showlegend": false,
         "text": "[11, 22, 57, 69]",
         "type": "scatter",
         "x": [
          2.933012701892219,
          2.5,
          2.066987298107781,
          2.0669872981077804,
          2.5,
          2.9330127018922196,
          2.933012701892219
         ],
         "xaxis": "x6",
         "y": [
          1.9820508075688774,
          2.2320508075688776,
          1.9820508075688776,
          1.4820508075688776,
          1.2320508075688774,
          1.4820508075688776,
          1.9820508075688774
         ],
         "yaxis": "y6"
        },
        {
         "fill": "toself",
         "fillcolor": "rgb(5, 49, 98)",
         "hoverinfo": "text",
         "hoveron": "fills",
         "line": {
          "color": "black",
          "width": 0
         },
         "mode": "lines",
         "showlegend": false,
         "text": "[24, 90]",
         "type": "scatter",
         "x": [
          3.433012701892219,
          3,
          2.566987298107781,
          2.5669872981077804,
          3,
          3.4330127018922196,
          3.433012701892219
         ],
         "xaxis": "x6",
         "y": [
          2.848076211353316,
          3.098076211353316,
          2.848076211353316,
          2.348076211353316,
          2.098076211353316,
          2.348076211353316,
          2.848076211353316
         ],
         "yaxis": "y6"
        },
        {
         "fill": "toself",
         "fillcolor": "rgb(5, 48, 98)",
         "hoverinfo": "text",
         "hoveron": "fills",
         "line": {
          "color": "black",
          "width": 0
         },
         "mode": "lines",
         "showlegend": false,
         "text": "[68, 84]",
         "type": "scatter",
         "x": [
          2.933012701892219,
          2.5,
          2.066987298107781,
          2.0669872981077804,
          2.5,
          2.9330127018922196,
          2.933012701892219
         ],
         "xaxis": "x6",
         "y": [
          3.714101615137755,
          3.964101615137755,
          3.714101615137755,
          3.214101615137755,
          2.964101615137755,
          3.214101615137755,
          3.714101615137755
         ],
         "yaxis": "y6"
        },
        {
         "fill": "toself",
         "fillcolor": "rgb(7, 52, 102)",
         "hoverinfo": "text",
         "hoveron": "fills",
         "line": {
          "color": "black",
          "width": 0
         },
         "mode": "lines",
         "showlegend": false,
         "text": "[93]",
         "type": "scatter",
         "x": [
          3.933012701892219,
          3.5,
          3.066987298107781,
          3.0669872981077804,
          3.5,
          3.9330127018922196,
          3.933012701892219
         ],
         "xaxis": "x6",
         "y": [
          0.24999999999999997,
          0.5,
          0.25000000000000017,
          -0.24999999999999986,
          -0.5,
          -0.24999999999999983,
          0.25
         ],
         "yaxis": "y6"
        },
        {
         "fill": "toself",
         "fillcolor": "rgb(6, 51, 101)",
         "hoverinfo": "text",
         "hoveron": "fills",
         "line": {
          "color": "black",
          "width": 0
         },
         "mode": "lines",
         "showlegend": false,
         "text": "[10, 34, 65]",
         "type": "scatter",
         "x": [
          4.43301270189222,
          4,
          3.566987298107781,
          3.5669872981077804,
          4,
          4.43301270189222,
          4.43301270189222
         ],
         "xaxis": "x6",
         "y": [
          1.1160254037844386,
          1.3660254037844388,
          1.1160254037844388,
          0.6160254037844388,
          0.3660254037844387,
          0.6160254037844388,
          1.1160254037844388
         ],
         "yaxis": "y6"
        },
        {
         "fill": "toself",
         "fillcolor": "rgb(6, 49, 99)",
         "hoverinfo": "text",
         "hoveron": "fills",
         "line": {
          "color": "black",
          "width": 0
         },
         "mode": "lines",
         "showlegend": false,
         "text": "[31, 58, 91]",
         "type": "scatter",
         "x": [
          3.933012701892219,
          3.5,
          3.066987298107781,
          3.0669872981077804,
          3.5,
          3.9330127018922196,
          3.933012701892219
         ],
         "xaxis": "x6",
         "y": [
          1.9820508075688774,
          2.2320508075688776,
          1.9820508075688776,
          1.4820508075688776,
          1.2320508075688774,
          1.4820508075688776,
          1.9820508075688774
         ],
         "yaxis": "y6"
        },
        {
         "fill": "toself",
         "fillcolor": "rgb(5, 49, 98)",
         "hoverinfo": "text",
         "hoveron": "fills",
         "line": {
          "color": "black",
          "width": 0
         },
         "mode": "lines",
         "showlegend": false,
         "text": "[]",
         "type": "scatter",
         "x": [
          4.43301270189222,
          4,
          3.566987298107781,
          3.5669872981077804,
          4,
          4.43301270189222,
          4.43301270189222
         ],
         "xaxis": "x6",
         "y": [
          2.848076211353316,
          3.098076211353316,
          2.848076211353316,
          2.348076211353316,
          2.098076211353316,
          2.348076211353316,
          2.848076211353316
         ],
         "yaxis": "y6"
        },
        {
         "fill": "toself",
         "fillcolor": "rgb(5, 48, 97)",
         "hoverinfo": "text",
         "hoveron": "fills",
         "line": {
          "color": "black",
          "width": 0
         },
         "mode": "lines",
         "showlegend": false,
         "text": "[81]",
         "type": "scatter",
         "x": [
          3.933012701892219,
          3.5,
          3.066987298107781,
          3.0669872981077804,
          3.5,
          3.9330127018922196,
          3.933012701892219
         ],
         "xaxis": "x6",
         "y": [
          3.714101615137755,
          3.964101615137755,
          3.714101615137755,
          3.214101615137755,
          2.964101615137755,
          3.214101615137755,
          3.714101615137755
         ],
         "yaxis": "y6"
        },
        {
         "fill": "toself",
         "fillcolor": "rgb(14, 66, 122)",
         "hoverinfo": "text",
         "hoveron": "fills",
         "line": {
          "color": "black",
          "width": 0
         },
         "mode": "lines",
         "showlegend": false,
         "text": "[100]",
         "type": "scatter",
         "x": [
          4.93301270189222,
          4.5,
          4.06698729810778,
          4.06698729810778,
          4.5,
          4.93301270189222,
          4.93301270189222
         ],
         "xaxis": "x6",
         "y": [
          0.24999999999999997,
          0.5,
          0.25000000000000017,
          -0.24999999999999986,
          -0.5,
          -0.24999999999999983,
          0.25
         ],
         "yaxis": "y6"
        },
        {
         "fill": "toself",
         "fillcolor": "rgb(6, 50, 100)",
         "hoverinfo": "text",
         "hoveron": "fills",
         "line": {
          "color": "black",
          "width": 0
         },
         "mode": "lines",
         "showlegend": false,
         "text": "[15, 41]",
         "type": "scatter",
         "x": [
          5.43301270189222,
          5,
          4.56698729810778,
          4.56698729810778,
          5,
          5.43301270189222,
          5.43301270189222
         ],
         "xaxis": "x6",
         "y": [
          1.1160254037844386,
          1.3660254037844388,
          1.1160254037844388,
          0.6160254037844388,
          0.3660254037844387,
          0.6160254037844388,
          1.1160254037844388
         ],
         "yaxis": "y6"
        },
        {
         "fill": "toself",
         "fillcolor": "rgb(5, 49, 98)",
         "hoverinfo": "text",
         "hoveron": "fills",
         "line": {
          "color": "black",
          "width": 0
         },
         "mode": "lines",
         "showlegend": false,
         "text": "[16, 18, 60]",
         "type": "scatter",
         "x": [
          4.93301270189222,
          4.5,
          4.06698729810778,
          4.06698729810778,
          4.5,
          4.93301270189222,
          4.93301270189222
         ],
         "xaxis": "x6",
         "y": [
          1.9820508075688774,
          2.2320508075688776,
          1.9820508075688776,
          1.4820508075688776,
          1.2320508075688774,
          1.4820508075688776,
          1.9820508075688774
         ],
         "yaxis": "y6"
        },
        {
         "fill": "toself",
         "fillcolor": "rgb(5, 48, 97)",
         "hoverinfo": "text",
         "hoveron": "fills",
         "line": {
          "color": "black",
          "width": 0
         },
         "mode": "lines",
         "showlegend": false,
         "text": "[50]",
         "type": "scatter",
         "x": [
          5.43301270189222,
          5,
          4.56698729810778,
          4.56698729810778,
          5,
          5.43301270189222,
          5.43301270189222
         ],
         "xaxis": "x6",
         "y": [
          2.848076211353316,
          3.098076211353316,
          2.848076211353316,
          2.348076211353316,
          2.098076211353316,
          2.348076211353316,
          2.848076211353316
         ],
         "yaxis": "y6"
        },
        {
         "fill": "toself",
         "fillcolor": "rgb(5, 48, 97)",
         "hoverinfo": "text",
         "hoveron": "fills",
         "line": {
          "color": "black",
          "width": 0
         },
         "mode": "lines",
         "showlegend": false,
         "text": "[]",
         "type": "scatter",
         "x": [
          4.93301270189222,
          4.5,
          4.06698729810778,
          4.06698729810778,
          4.5,
          4.93301270189222,
          4.93301270189222
         ],
         "xaxis": "x6",
         "y": [
          3.714101615137755,
          3.964101615137755,
          3.714101615137755,
          3.214101615137755,
          2.964101615137755,
          3.214101615137755,
          3.714101615137755
         ],
         "yaxis": "y6"
        },
        {
         "fill": "toself",
         "fillcolor": "rgb(8, 54, 105)",
         "hoverinfo": "text",
         "hoveron": "fills",
         "line": {
          "color": "black",
          "width": 0
         },
         "mode": "lines",
         "showlegend": false,
         "text": "[17, 32, 33, 56, 94, 99]",
         "type": "scatter",
         "x": [
          5.93301270189222,
          5.5,
          5.06698729810778,
          5.06698729810778,
          5.5,
          5.93301270189222,
          5.93301270189222
         ],
         "xaxis": "x6",
         "y": [
          0.24999999999999997,
          0.5,
          0.25000000000000017,
          -0.24999999999999986,
          -0.5,
          -0.24999999999999983,
          0.25
         ],
         "yaxis": "y6"
        },
        {
         "fill": "toself",
         "fillcolor": "rgb(7, 52, 102)",
         "hoverinfo": "text",
         "hoveron": "fills",
         "line": {
          "color": "black",
          "width": 0
         },
         "mode": "lines",
         "showlegend": false,
         "text": "[20, 35, 48]",
         "type": "scatter",
         "x": [
          6.43301270189222,
          6,
          5.56698729810778,
          5.56698729810778,
          6,
          6.43301270189222,
          6.43301270189222
         ],
         "xaxis": "x6",
         "y": [
          1.1160254037844386,
          1.3660254037844388,
          1.1160254037844388,
          0.6160254037844388,
          0.3660254037844387,
          0.6160254037844388,
          1.1160254037844388
         ],
         "yaxis": "y6"
        },
        {
         "fill": "toself",
         "fillcolor": "rgb(5, 49, 98)",
         "hoverinfo": "text",
         "hoveron": "fills",
         "line": {
          "color": "black",
          "width": 0
         },
         "mode": "lines",
         "showlegend": false,
         "text": "[19, 23, 47]",
         "type": "scatter",
         "x": [
          5.93301270189222,
          5.5,
          5.06698729810778,
          5.06698729810778,
          5.5,
          5.93301270189222,
          5.93301270189222
         ],
         "xaxis": "x6",
         "y": [
          1.9820508075688774,
          2.2320508075688776,
          1.9820508075688776,
          1.4820508075688776,
          1.2320508075688774,
          1.4820508075688776,
          1.9820508075688774
         ],
         "yaxis": "y6"
        },
        {
         "fill": "toself",
         "fillcolor": "rgb(5, 48, 97)",
         "hoverinfo": "text",
         "hoveron": "fills",
         "line": {
          "color": "black",
          "width": 0
         },
         "mode": "lines",
         "showlegend": false,
         "text": "[1]",
         "type": "scatter",
         "x": [
          6.43301270189222,
          6,
          5.56698729810778,
          5.56698729810778,
          6,
          6.43301270189222,
          6.43301270189222
         ],
         "xaxis": "x6",
         "y": [
          2.848076211353316,
          3.098076211353316,
          2.848076211353316,
          2.348076211353316,
          2.098076211353316,
          2.348076211353316,
          2.848076211353316
         ],
         "yaxis": "y6"
        },
        {
         "fill": "toself",
         "fillcolor": "rgb(5, 48, 97)",
         "hoverinfo": "text",
         "hoveron": "fills",
         "line": {
          "color": "black",
          "width": 0
         },
         "mode": "lines",
         "showlegend": false,
         "text": "[]",
         "type": "scatter",
         "x": [
          5.93301270189222,
          5.5,
          5.06698729810778,
          5.06698729810778,
          5.5,
          5.93301270189222,
          5.93301270189222
         ],
         "xaxis": "x6",
         "y": [
          3.714101615137755,
          3.964101615137755,
          3.714101615137755,
          3.214101615137755,
          2.964101615137755,
          3.214101615137755,
          3.714101615137755
         ],
         "yaxis": "y6"
        },
        {
         "fill": "toself",
         "fillcolor": "rgb(11, 59, 112)",
         "hoverinfo": "text",
         "hoveron": "fills",
         "line": {
          "color": "black",
          "width": 0
         },
         "mode": "lines",
         "showlegend": false,
         "text": "[30, 39, 49, 62, 98, 101]",
         "type": "scatter",
         "x": [
          6.93301270189222,
          6.5,
          6.06698729810778,
          6.06698729810778,
          6.5,
          6.93301270189222,
          6.93301270189222
         ],
         "xaxis": "x6",
         "y": [
          0.24999999999999997,
          0.5,
          0.25000000000000017,
          -0.24999999999999986,
          -0.5,
          -0.24999999999999983,
          0.25
         ],
         "yaxis": "y6"
        },
        {
         "fill": "toself",
         "fillcolor": "rgb(18, 72, 131)",
         "hoverinfo": "text",
         "hoveron": "fills",
         "line": {
          "color": "black",
          "width": 0
         },
         "mode": "lines",
         "showlegend": false,
         "text": "[]",
         "type": "scatter",
         "x": [
          7.43301270189222,
          7,
          6.56698729810778,
          6.56698729810778,
          7,
          7.43301270189222,
          7.43301270189222
         ],
         "xaxis": "x6",
         "y": [
          1.1160254037844386,
          1.3660254037844388,
          1.1160254037844388,
          0.6160254037844388,
          0.3660254037844387,
          0.6160254037844388,
          1.1160254037844388
         ],
         "yaxis": "y6"
        },
        {
         "fill": "toself",
         "fillcolor": "rgb(5, 49, 98)",
         "hoverinfo": "text",
         "hoveron": "fills",
         "line": {
          "color": "black",
          "width": 0
         },
         "mode": "lines",
         "showlegend": false,
         "text": "[51, 55]",
         "type": "scatter",
         "x": [
          6.93301270189222,
          6.5,
          6.06698729810778,
          6.06698729810778,
          6.5,
          6.93301270189222,
          6.93301270189222
         ],
         "xaxis": "x6",
         "y": [
          1.9820508075688774,
          2.2320508075688776,
          1.9820508075688776,
          1.4820508075688776,
          1.2320508075688774,
          1.4820508075688776,
          1.9820508075688774
         ],
         "yaxis": "y6"
        },
        {
         "fill": "toself",
         "fillcolor": "rgb(5, 48, 97)",
         "hoverinfo": "text",
         "hoveron": "fills",
         "line": {
          "color": "black",
          "width": 0
         },
         "mode": "lines",
         "showlegend": false,
         "text": "[5, 7, 9]",
         "type": "scatter",
         "x": [
          7.43301270189222,
          7,
          6.56698729810778,
          6.56698729810778,
          7,
          7.43301270189222,
          7.43301270189222
         ],
         "xaxis": "x6",
         "y": [
          2.848076211353316,
          3.098076211353316,
          2.848076211353316,
          2.348076211353316,
          2.098076211353316,
          2.348076211353316,
          2.848076211353316
         ],
         "yaxis": "y6"
        },
        {
         "fill": "toself",
         "fillcolor": "rgb(5, 48, 97)",
         "hoverinfo": "text",
         "hoveron": "fills",
         "line": {
          "color": "black",
          "width": 0
         },
         "mode": "lines",
         "showlegend": false,
         "text": "[3, 52]",
         "type": "scatter",
         "x": [
          6.93301270189222,
          6.5,
          6.06698729810778,
          6.06698729810778,
          6.5,
          6.93301270189222,
          6.93301270189222
         ],
         "xaxis": "x6",
         "y": [
          3.714101615137755,
          3.964101615137755,
          3.714101615137755,
          3.214101615137755,
          2.964101615137755,
          3.214101615137755,
          3.714101615137755
         ],
         "yaxis": "y6"
        },
        {
         "fill": "toself",
         "fillcolor": "rgb(110, 174, 210)",
         "hoverinfo": "text",
         "hoveron": "fills",
         "line": {
          "color": "black",
          "width": 0
         },
         "mode": "lines",
         "showlegend": false,
         "text": "[54]",
         "type": "scatter",
         "x": [
          7.93301270189222,
          7.5,
          7.06698729810778,
          7.06698729810778,
          7.5,
          7.93301270189222,
          7.93301270189222
         ],
         "xaxis": "x6",
         "y": [
          0.24999999999999997,
          0.5,
          0.25000000000000017,
          -0.24999999999999986,
          -0.5,
          -0.24999999999999983,
          0.25
         ],
         "yaxis": "y6"
        },
        {
         "fill": "toself",
         "fillcolor": "rgb(32, 100, 170)",
         "hoverinfo": "text",
         "hoveron": "fills",
         "line": {
          "color": "black",
          "width": 0
         },
         "mode": "lines",
         "showlegend": false,
         "text": "[95]",
         "type": "scatter",
         "x": [
          8.433012701892219,
          8,
          7.56698729810778,
          7.56698729810778,
          8,
          8.433012701892219,
          8.433012701892219
         ],
         "xaxis": "x6",
         "y": [
          1.1160254037844386,
          1.3660254037844388,
          1.1160254037844388,
          0.6160254037844388,
          0.3660254037844387,
          0.6160254037844388,
          1.1160254037844388
         ],
         "yaxis": "y6"
        },
        {
         "fill": "toself",
         "fillcolor": "rgb(6, 49, 99)",
         "hoverinfo": "text",
         "hoveron": "fills",
         "line": {
          "color": "black",
          "width": 0
         },
         "mode": "lines",
         "showlegend": false,
         "text": "[0, 4]",
         "type": "scatter",
         "x": [
          7.93301270189222,
          7.5,
          7.06698729810778,
          7.06698729810778,
          7.5,
          7.93301270189222,
          7.93301270189222
         ],
         "xaxis": "x6",
         "y": [
          1.9820508075688774,
          2.2320508075688776,
          1.9820508075688776,
          1.4820508075688776,
          1.2320508075688774,
          1.4820508075688776,
          1.9820508075688774
         ],
         "yaxis": "y6"
        },
        {
         "fill": "toself",
         "fillcolor": "rgb(5, 48, 97)",
         "hoverinfo": "text",
         "hoveron": "fills",
         "line": {
          "color": "black",
          "width": 0
         },
         "mode": "lines",
         "showlegend": false,
         "text": "[]",
         "type": "scatter",
         "x": [
          8.433012701892219,
          8,
          7.56698729810778,
          7.56698729810778,
          8,
          8.433012701892219,
          8.433012701892219
         ],
         "xaxis": "x6",
         "y": [
          2.848076211353316,
          3.098076211353316,
          2.848076211353316,
          2.348076211353316,
          2.098076211353316,
          2.348076211353316,
          2.848076211353316
         ],
         "yaxis": "y6"
        },
        {
         "fill": "toself",
         "fillcolor": "rgb(5, 48, 97)",
         "hoverinfo": "text",
         "hoveron": "fills",
         "line": {
          "color": "black",
          "width": 0
         },
         "mode": "lines",
         "showlegend": false,
         "text": "[79]",
         "type": "scatter",
         "x": [
          7.93301270189222,
          7.5,
          7.06698729810778,
          7.06698729810778,
          7.5,
          7.93301270189222,
          7.93301270189222
         ],
         "xaxis": "x6",
         "y": [
          3.714101615137755,
          3.964101615137755,
          3.714101615137755,
          3.214101615137755,
          2.964101615137755,
          3.214101615137755,
          3.714101615137755
         ],
         "yaxis": "y6"
        },
        {
         "fill": "toself",
         "fillcolor": "rgb(33, 102, 172)",
         "hoverinfo": "text",
         "hoveron": "fills",
         "line": {
          "color": "black",
          "width": 0
         },
         "mode": "lines",
         "showlegend": false,
         "text": "[96]",
         "type": "scatter",
         "x": [
          8.933012701892219,
          8.5,
          8.066987298107781,
          8.066987298107781,
          8.5,
          8.933012701892219,
          8.933012701892219
         ],
         "xaxis": "x6",
         "y": [
          0.24999999999999997,
          0.5,
          0.25000000000000017,
          -0.24999999999999986,
          -0.5,
          -0.24999999999999983,
          0.25
         ],
         "yaxis": "y6"
        },
        {
         "fill": "toself",
         "fillcolor": "rgb(76, 152, 198)",
         "hoverinfo": "text",
         "hoveron": "fills",
         "line": {
          "color": "black",
          "width": 0
         },
         "mode": "lines",
         "showlegend": false,
         "text": "[97]",
         "type": "scatter",
         "x": [
          9.433012701892219,
          9,
          8.566987298107781,
          8.566987298107781,
          9,
          9.433012701892219,
          9.433012701892219
         ],
         "xaxis": "x6",
         "y": [
          1.1160254037844386,
          1.3660254037844388,
          1.1160254037844388,
          0.6160254037844388,
          0.3660254037844387,
          0.6160254037844388,
          1.1160254037844388
         ],
         "yaxis": "y6"
        },
        {
         "fill": "toself",
         "fillcolor": "rgb(16, 70, 127)",
         "hoverinfo": "text",
         "hoveron": "fills",
         "line": {
          "color": "black",
          "width": 0
         },
         "mode": "lines",
         "showlegend": false,
         "text": "[2]",
         "type": "scatter",
         "x": [
          8.933012701892219,
          8.5,
          8.066987298107781,
          8.066987298107781,
          8.5,
          8.933012701892219,
          8.933012701892219
         ],
         "xaxis": "x6",
         "y": [
          1.9820508075688774,
          2.2320508075688776,
          1.9820508075688776,
          1.4820508075688776,
          1.2320508075688774,
          1.4820508075688776,
          1.9820508075688774
         ],
         "yaxis": "y6"
        },
        {
         "fill": "toself",
         "fillcolor": "rgb(5, 48, 97)",
         "hoverinfo": "text",
         "hoveron": "fills",
         "line": {
          "color": "black",
          "width": 0
         },
         "mode": "lines",
         "showlegend": false,
         "text": "[6, 8]",
         "type": "scatter",
         "x": [
          9.433012701892219,
          9,
          8.566987298107781,
          8.566987298107781,
          9,
          9.433012701892219,
          9.433012701892219
         ],
         "xaxis": "x6",
         "y": [
          2.848076211353316,
          3.098076211353316,
          2.848076211353316,
          2.348076211353316,
          2.098076211353316,
          2.348076211353316,
          2.848076211353316
         ],
         "yaxis": "y6"
        },
        {
         "fill": "toself",
         "fillcolor": "rgb(5, 48, 97)",
         "hoverinfo": "text",
         "hoveron": "fills",
         "line": {
          "color": "black",
          "width": 0
         },
         "mode": "lines",
         "showlegend": false,
         "text": "[25, 78, 80]",
         "type": "scatter",
         "x": [
          8.933012701892219,
          8.5,
          8.066987298107781,
          8.066987298107781,
          8.5,
          8.933012701892219,
          8.933012701892219
         ],
         "xaxis": "x6",
         "y": [
          3.714101615137755,
          3.964101615137755,
          3.714101615137755,
          3.214101615137755,
          2.964101615137755,
          3.214101615137755,
          3.714101615137755
         ],
         "yaxis": "y6"
        },
        {
         "marker": {
          "color": [
           0.9326098992226718,
           0.9999964909737817
          ],
          "colorbar": {
           "len": 0.1,
           "thickness": 20,
           "x": 1,
           "y": 0.5
          },
          "colorscale": [
           [
            0,
            "rgb(103,0,31)"
           ],
           [
            0.1,
            "rgb(178,24,43)"
           ],
           [
            0.2,
            "rgb(214,96,77)"
           ],
           [
            0.3,
            "rgb(244,165,130)"
           ],
           [
            0.4,
            "rgb(253,219,199)"
           ],
           [
            0.5,
            "rgb(247,247,247)"
           ],
           [
            0.6,
            "rgb(209,229,240)"
           ],
           [
            0.7,
            "rgb(146,197,222)"
           ],
           [
            0.8,
            "rgb(67,147,195)"
           ],
           [
            0.9,
            "rgb(33,102,172)"
           ],
           [
            1,
            "rgb(5,48,97)"
           ]
          ],
          "size": 0.001
         },
         "showlegend": false,
         "type": "scatter",
         "x": [
          0,
          0
         ],
         "xaxis": "x6",
         "y": [
          0,
          0
         ],
         "yaxis": "y6"
        },
        {
         "fill": "toself",
         "fillcolor": "rgb(5, 48, 97)",
         "hoverinfo": "text",
         "hoveron": "fills",
         "line": {
          "color": "black",
          "width": 0
         },
         "mode": "lines",
         "showlegend": false,
         "text": "[70, 74]",
         "type": "scatter",
         "x": [
          -0.06698729810778065,
          -0.49999999999999994,
          -0.9330127018922192,
          -0.9330127018922194,
          -0.5000000000000001,
          -0.06698729810778059,
          -0.0669872981077807
         ],
         "xaxis": "x7",
         "y": [
          0.24999999999999997,
          0.5,
          0.25000000000000017,
          -0.24999999999999986,
          -0.5,
          -0.24999999999999983,
          0.25
         ],
         "yaxis": "y7"
        },
        {
         "fill": "toself",
         "fillcolor": "rgb(5, 48, 97)",
         "hoverinfo": "text",
         "hoveron": "fills",
         "line": {
          "color": "black",
          "width": 0
         },
         "mode": "lines",
         "showlegend": false,
         "text": "[]",
         "type": "scatter",
         "x": [
          0.43301270189221935,
          3.061616997868383e-17,
          -0.43301270189221924,
          -0.4330127018922194,
          -9.184850993605148e-17,
          0.4330127018922194,
          0.4330127018922193
         ],
         "xaxis": "x7",
         "y": [
          1.1160254037844386,
          1.3660254037844388,
          1.1160254037844388,
          0.6160254037844388,
          0.3660254037844387,
          0.6160254037844388,
          1.1160254037844388
         ],
         "yaxis": "y7"
        },
        {
         "fill": "toself",
         "fillcolor": "rgb(5, 48, 97)",
         "hoverinfo": "text",
         "hoveron": "fills",
         "line": {
          "color": "black",
          "width": 0
         },
         "mode": "lines",
         "showlegend": false,
         "text": "[37, 38, 42, 43, 44, 45, 46, 64, 92]",
         "type": "scatter",
         "x": [
          -0.06698729810778065,
          -0.49999999999999994,
          -0.9330127018922192,
          -0.9330127018922194,
          -0.5000000000000001,
          -0.06698729810778059,
          -0.0669872981077807
         ],
         "xaxis": "x7",
         "y": [
          1.9820508075688774,
          2.2320508075688776,
          1.9820508075688776,
          1.4820508075688776,
          1.2320508075688774,
          1.4820508075688776,
          1.9820508075688774
         ],
         "yaxis": "y7"
        },
        {
         "fill": "toself",
         "fillcolor": "rgb(5, 48, 97)",
         "hoverinfo": "text",
         "hoveron": "fills",
         "line": {
          "color": "black",
          "width": 0
         },
         "mode": "lines",
         "showlegend": false,
         "text": "[]",
         "type": "scatter",
         "x": [
          0.43301270189221935,
          3.061616997868383e-17,
          -0.43301270189221924,
          -0.4330127018922194,
          -9.184850993605148e-17,
          0.4330127018922194,
          0.4330127018922193
         ],
         "xaxis": "x7",
         "y": [
          2.848076211353316,
          3.098076211353316,
          2.848076211353316,
          2.348076211353316,
          2.098076211353316,
          2.348076211353316,
          2.848076211353316
         ],
         "yaxis": "y7"
        },
        {
         "fill": "toself",
         "fillcolor": "rgb(6, 49, 99)",
         "hoverinfo": "text",
         "hoveron": "fills",
         "line": {
          "color": "black",
          "width": 0
         },
         "mode": "lines",
         "showlegend": false,
         "text": "[36]",
         "type": "scatter",
         "x": [
          -0.06698729810778065,
          -0.49999999999999994,
          -0.9330127018922192,
          -0.9330127018922194,
          -0.5000000000000001,
          -0.06698729810778059,
          -0.0669872981077807
         ],
         "xaxis": "x7",
         "y": [
          3.714101615137755,
          3.964101615137755,
          3.714101615137755,
          3.214101615137755,
          2.964101615137755,
          3.214101615137755,
          3.714101615137755
         ],
         "yaxis": "y7"
        },
        {
         "fill": "toself",
         "fillcolor": "rgb(5, 48, 97)",
         "hoverinfo": "text",
         "hoveron": "fills",
         "line": {
          "color": "black",
          "width": 0
         },
         "mode": "lines",
         "showlegend": false,
         "text": "[72, 76]",
         "type": "scatter",
         "x": [
          0.9330127018922194,
          0.5,
          0.06698729810778076,
          0.06698729810778059,
          0.4999999999999999,
          0.9330127018922194,
          0.9330127018922193
         ],
         "xaxis": "x7",
         "y": [
          0.24999999999999997,
          0.5,
          0.25000000000000017,
          -0.24999999999999986,
          -0.5,
          -0.24999999999999983,
          0.25
         ],
         "yaxis": "y7"
        },
        {
         "fill": "toself",
         "fillcolor": "rgb(5, 49, 98)",
         "hoverinfo": "text",
         "hoveron": "fills",
         "line": {
          "color": "black",
          "width": 0
         },
         "mode": "lines",
         "showlegend": false,
         "text": "[71, 73]",
         "type": "scatter",
         "x": [
          1.4330127018922194,
          1,
          0.5669872981077808,
          0.5669872981077806,
          0.9999999999999999,
          1.4330127018922194,
          1.4330127018922192
         ],
         "xaxis": "x7",
         "y": [
          1.1160254037844386,
          1.3660254037844388,
          1.1160254037844388,
          0.6160254037844388,
          0.3660254037844387,
          0.6160254037844388,
          1.1160254037844388
         ],
         "yaxis": "y7"
        },
        {
         "fill": "toself",
         "fillcolor": "rgb(5, 49, 98)",
         "hoverinfo": "text",
         "hoveron": "fills",
         "line": {
          "color": "black",
          "width": 0
         },
         "mode": "lines",
         "showlegend": false,
         "text": "[27, 40, 88]",
         "type": "scatter",
         "x": [
          0.9330127018922194,
          0.5,
          0.06698729810778076,
          0.06698729810778059,
          0.4999999999999999,
          0.9330127018922194,
          0.9330127018922193
         ],
         "xaxis": "x7",
         "y": [
          1.9820508075688774,
          2.2320508075688776,
          1.9820508075688776,
          1.4820508075688776,
          1.2320508075688774,
          1.4820508075688776,
          1.9820508075688774
         ],
         "yaxis": "y7"
        },
        {
         "fill": "toself",
         "fillcolor": "rgb(5, 48, 97)",
         "hoverinfo": "text",
         "hoveron": "fills",
         "line": {
          "color": "black",
          "width": 0
         },
         "mode": "lines",
         "showlegend": false,
         "text": "[29, 53, 75, 77, 83, 85]",
         "type": "scatter",
         "x": [
          1.4330127018922194,
          1,
          0.5669872981077808,
          0.5669872981077806,
          0.9999999999999999,
          1.4330127018922194,
          1.4330127018922192
         ],
         "xaxis": "x7",
         "y": [
          2.848076211353316,
          3.098076211353316,
          2.848076211353316,
          2.348076211353316,
          2.098076211353316,
          2.348076211353316,
          2.848076211353316
         ],
         "yaxis": "y7"
        },
        {
         "fill": "toself",
         "fillcolor": "rgb(5, 48, 97)",
         "hoverinfo": "text",
         "hoveron": "fills",
         "line": {
          "color": "black",
          "width": 0
         },
         "mode": "lines",
         "showlegend": false,
         "text": "[63]",
         "type": "scatter",
         "x": [
          0.9330127018922194,
          0.5,
          0.06698729810778076,
          0.06698729810778059,
          0.4999999999999999,
          0.9330127018922194,
          0.9330127018922193
         ],
         "xaxis": "x7",
         "y": [
          3.714101615137755,
          3.964101615137755,
          3.714101615137755,
          3.214101615137755,
          2.964101615137755,
          3.214101615137755,
          3.714101615137755
         ],
         "yaxis": "y7"
        },
        {
         "fill": "toself",
         "fillcolor": "rgb(5, 49, 98)",
         "hoverinfo": "text",
         "hoveron": "fills",
         "line": {
          "color": "black",
          "width": 0
         },
         "mode": "lines",
         "showlegend": false,
         "text": "[]",
         "type": "scatter",
         "x": [
          1.9330127018922194,
          1.5,
          1.0669872981077808,
          1.0669872981077806,
          1.5,
          1.9330127018922194,
          1.9330127018922192
         ],
         "xaxis": "x7",
         "y": [
          0.24999999999999997,
          0.5,
          0.25000000000000017,
          -0.24999999999999986,
          -0.5,
          -0.24999999999999983,
          0.25
         ],
         "yaxis": "y7"
        },
        {
         "fill": "toself",
         "fillcolor": "rgb(6, 49, 99)",
         "hoverinfo": "text",
         "hoveron": "fills",
         "line": {
          "color": "black",
          "width": 0
         },
         "mode": "lines",
         "showlegend": false,
         "text": "[13, 14, 26, 59, 87, 89]",
         "type": "scatter",
         "x": [
          2.433012701892219,
          2,
          1.5669872981077808,
          1.5669872981077806,
          2,
          2.4330127018922196,
          2.433012701892219
         ],
         "xaxis": "x7",
         "y": [
          1.1160254037844386,
          1.3660254037844388,
          1.1160254037844388,
          0.6160254037844388,
          0.3660254037844387,
          0.6160254037844388,
          1.1160254037844388
         ],
         "yaxis": "y7"
        },
        {
         "fill": "toself",
         "fillcolor": "rgb(5, 49, 98)",
         "hoverinfo": "text",
         "hoveron": "fills",
         "line": {
          "color": "black",
          "width": 0
         },
         "mode": "lines",
         "showlegend": false,
         "text": "[12, 67, 82]",
         "type": "scatter",
         "x": [
          1.9330127018922194,
          1.5,
          1.0669872981077808,
          1.0669872981077806,
          1.5,
          1.9330127018922194,
          1.9330127018922192
         ],
         "xaxis": "x7",
         "y": [
          1.9820508075688774,
          2.2320508075688776,
          1.9820508075688776,
          1.4820508075688776,
          1.2320508075688774,
          1.4820508075688776,
          1.9820508075688774
         ],
         "yaxis": "y7"
        },
        {
         "fill": "toself",
         "fillcolor": "rgb(6, 49, 98)",
         "hoverinfo": "text",
         "hoveron": "fills",
         "line": {
          "color": "black",
          "width": 0
         },
         "mode": "lines",
         "showlegend": false,
         "text": "[28]",
         "type": "scatter",
         "x": [
          2.433012701892219,
          2,
          1.5669872981077808,
          1.5669872981077806,
          2,
          2.4330127018922196,
          2.433012701892219
         ],
         "xaxis": "x7",
         "y": [
          2.848076211353316,
          3.098076211353316,
          2.848076211353316,
          2.348076211353316,
          2.098076211353316,
          2.348076211353316,
          2.848076211353316
         ],
         "yaxis": "y7"
        },
        {
         "fill": "toself",
         "fillcolor": "rgb(5, 48, 97)",
         "hoverinfo": "text",
         "hoveron": "fills",
         "line": {
          "color": "black",
          "width": 0
         },
         "mode": "lines",
         "showlegend": false,
         "text": "[]",
         "type": "scatter",
         "x": [
          1.9330127018922194,
          1.5,
          1.0669872981077808,
          1.0669872981077806,
          1.5,
          1.9330127018922194,
          1.9330127018922192
         ],
         "xaxis": "x7",
         "y": [
          3.714101615137755,
          3.964101615137755,
          3.714101615137755,
          3.214101615137755,
          2.964101615137755,
          3.214101615137755,
          3.714101615137755
         ],
         "yaxis": "y7"
        },
        {
         "fill": "toself",
         "fillcolor": "rgb(5, 49, 98)",
         "hoverinfo": "text",
         "hoveron": "fills",
         "line": {
          "color": "black",
          "width": 0
         },
         "mode": "lines",
         "showlegend": false,
         "text": "[]",
         "type": "scatter",
         "x": [
          2.933012701892219,
          2.5,
          2.066987298107781,
          2.0669872981077804,
          2.5,
          2.9330127018922196,
          2.933012701892219
         ],
         "xaxis": "x7",
         "y": [
          0.24999999999999997,
          0.5,
          0.25000000000000017,
          -0.24999999999999986,
          -0.5,
          -0.24999999999999983,
          0.25
         ],
         "yaxis": "y7"
        },
        {
         "fill": "toself",
         "fillcolor": "rgb(6, 50, 100)",
         "hoverinfo": "text",
         "hoveron": "fills",
         "line": {
          "color": "black",
          "width": 0
         },
         "mode": "lines",
         "showlegend": false,
         "text": "[21, 61, 66, 86]",
         "type": "scatter",
         "x": [
          3.433012701892219,
          3,
          2.566987298107781,
          2.5669872981077804,
          3,
          3.4330127018922196,
          3.433012701892219
         ],
         "xaxis": "x7",
         "y": [
          1.1160254037844386,
          1.3660254037844388,
          1.1160254037844388,
          0.6160254037844388,
          0.3660254037844387,
          0.6160254037844388,
          1.1160254037844388
         ],
         "yaxis": "y7"
        },
        {
         "fill": "toself",
         "fillcolor": "rgb(6, 50, 100)",
         "hoverinfo": "text",
         "hoveron": "fills",
         "line": {
          "color": "black",
          "width": 0
         },
         "mode": "lines",
         "showlegend": false,
         "text": "[11, 22, 57, 69]",
         "type": "scatter",
         "x": [
          2.933012701892219,
          2.5,
          2.066987298107781,
          2.0669872981077804,
          2.5,
          2.9330127018922196,
          2.933012701892219
         ],
         "xaxis": "x7",
         "y": [
          1.9820508075688774,
          2.2320508075688776,
          1.9820508075688776,
          1.4820508075688776,
          1.2320508075688774,
          1.4820508075688776,
          1.9820508075688774
         ],
         "yaxis": "y7"
        },
        {
         "fill": "toself",
         "fillcolor": "rgb(7, 52, 102)",
         "hoverinfo": "text",
         "hoveron": "fills",
         "line": {
          "color": "black",
          "width": 0
         },
         "mode": "lines",
         "showlegend": false,
         "text": "[24, 90]",
         "type": "scatter",
         "x": [
          3.433012701892219,
          3,
          2.566987298107781,
          2.5669872981077804,
          3,
          3.4330127018922196,
          3.433012701892219
         ],
         "xaxis": "x7",
         "y": [
          2.848076211353316,
          3.098076211353316,
          2.848076211353316,
          2.348076211353316,
          2.098076211353316,
          2.348076211353316,
          2.848076211353316
         ],
         "yaxis": "y7"
        },
        {
         "fill": "toself",
         "fillcolor": "rgb(6, 51, 101)",
         "hoverinfo": "text",
         "hoveron": "fills",
         "line": {
          "color": "black",
          "width": 0
         },
         "mode": "lines",
         "showlegend": false,
         "text": "[68, 84]",
         "type": "scatter",
         "x": [
          2.933012701892219,
          2.5,
          2.066987298107781,
          2.0669872981077804,
          2.5,
          2.9330127018922196,
          2.933012701892219
         ],
         "xaxis": "x7",
         "y": [
          3.714101615137755,
          3.964101615137755,
          3.714101615137755,
          3.214101615137755,
          2.964101615137755,
          3.214101615137755,
          3.714101615137755
         ],
         "yaxis": "y7"
        },
        {
         "fill": "toself",
         "fillcolor": "rgb(6, 49, 99)",
         "hoverinfo": "text",
         "hoveron": "fills",
         "line": {
          "color": "black",
          "width": 0
         },
         "mode": "lines",
         "showlegend": false,
         "text": "[93]",
         "type": "scatter",
         "x": [
          3.933012701892219,
          3.5,
          3.066987298107781,
          3.0669872981077804,
          3.5,
          3.9330127018922196,
          3.933012701892219
         ],
         "xaxis": "x7",
         "y": [
          0.24999999999999997,
          0.5,
          0.25000000000000017,
          -0.24999999999999986,
          -0.5,
          -0.24999999999999983,
          0.25
         ],
         "yaxis": "y7"
        },
        {
         "fill": "toself",
         "fillcolor": "rgb(9, 56, 108)",
         "hoverinfo": "text",
         "hoveron": "fills",
         "line": {
          "color": "black",
          "width": 0
         },
         "mode": "lines",
         "showlegend": false,
         "text": "[10, 34, 65]",
         "type": "scatter",
         "x": [
          4.43301270189222,
          4,
          3.566987298107781,
          3.5669872981077804,
          4,
          4.43301270189222,
          4.43301270189222
         ],
         "xaxis": "x7",
         "y": [
          1.1160254037844386,
          1.3660254037844388,
          1.1160254037844388,
          0.6160254037844388,
          0.3660254037844387,
          0.6160254037844388,
          1.1160254037844388
         ],
         "yaxis": "y7"
        },
        {
         "fill": "toself",
         "fillcolor": "rgb(8, 53, 105)",
         "hoverinfo": "text",
         "hoveron": "fills",
         "line": {
          "color": "black",
          "width": 0
         },
         "mode": "lines",
         "showlegend": false,
         "text": "[31, 58, 91]",
         "type": "scatter",
         "x": [
          3.933012701892219,
          3.5,
          3.066987298107781,
          3.0669872981077804,
          3.5,
          3.9330127018922196,
          3.933012701892219
         ],
         "xaxis": "x7",
         "y": [
          1.9820508075688774,
          2.2320508075688776,
          1.9820508075688776,
          1.4820508075688776,
          1.2320508075688774,
          1.4820508075688776,
          1.9820508075688774
         ],
         "yaxis": "y7"
        },
        {
         "fill": "toself",
         "fillcolor": "rgb(15, 68, 125)",
         "hoverinfo": "text",
         "hoveron": "fills",
         "line": {
          "color": "black",
          "width": 0
         },
         "mode": "lines",
         "showlegend": false,
         "text": "[]",
         "type": "scatter",
         "x": [
          4.43301270189222,
          4,
          3.566987298107781,
          3.5669872981077804,
          4,
          4.43301270189222,
          4.43301270189222
         ],
         "xaxis": "x7",
         "y": [
          2.848076211353316,
          3.098076211353316,
          2.848076211353316,
          2.348076211353316,
          2.098076211353316,
          2.348076211353316,
          2.848076211353316
         ],
         "yaxis": "y7"
        },
        {
         "fill": "toself",
         "fillcolor": "rgb(20, 77, 137)",
         "hoverinfo": "text",
         "hoveron": "fills",
         "line": {
          "color": "black",
          "width": 0
         },
         "mode": "lines",
         "showlegend": false,
         "text": "[81]",
         "type": "scatter",
         "x": [
          3.933012701892219,
          3.5,
          3.066987298107781,
          3.0669872981077804,
          3.5,
          3.9330127018922196,
          3.933012701892219
         ],
         "xaxis": "x7",
         "y": [
          3.714101615137755,
          3.964101615137755,
          3.714101615137755,
          3.214101615137755,
          2.964101615137755,
          3.214101615137755,
          3.714101615137755
         ],
         "yaxis": "y7"
        },
        {
         "fill": "toself",
         "fillcolor": "rgb(14, 65, 120)",
         "hoverinfo": "text",
         "hoveron": "fills",
         "line": {
          "color": "black",
          "width": 0
         },
         "mode": "lines",
         "showlegend": false,
         "text": "[100]",
         "type": "scatter",
         "x": [
          4.93301270189222,
          4.5,
          4.06698729810778,
          4.06698729810778,
          4.5,
          4.93301270189222,
          4.93301270189222
         ],
         "xaxis": "x7",
         "y": [
          0.24999999999999997,
          0.5,
          0.25000000000000017,
          -0.24999999999999986,
          -0.5,
          -0.24999999999999983,
          0.25
         ],
         "yaxis": "y7"
        },
        {
         "fill": "toself",
         "fillcolor": "rgb(25, 86, 150)",
         "hoverinfo": "text",
         "hoveron": "fills",
         "line": {
          "color": "black",
          "width": 0
         },
         "mode": "lines",
         "showlegend": false,
         "text": "[15, 41]",
         "type": "scatter",
         "x": [
          5.43301270189222,
          5,
          4.56698729810778,
          4.56698729810778,
          5,
          5.43301270189222,
          5.43301270189222
         ],
         "xaxis": "x7",
         "y": [
          1.1160254037844386,
          1.3660254037844388,
          1.1160254037844388,
          0.6160254037844388,
          0.3660254037844387,
          0.6160254037844388,
          1.1160254037844388
         ],
         "yaxis": "y7"
        },
        {
         "fill": "toself",
         "fillcolor": "rgb(15, 68, 124)",
         "hoverinfo": "text",
         "hoveron": "fills",
         "line": {
          "color": "black",
          "width": 0
         },
         "mode": "lines",
         "showlegend": false,
         "text": "[16, 18, 60]",
         "type": "scatter",
         "x": [
          4.93301270189222,
          4.5,
          4.06698729810778,
          4.06698729810778,
          4.5,
          4.93301270189222,
          4.93301270189222
         ],
         "xaxis": "x7",
         "y": [
          1.9820508075688774,
          2.2320508075688776,
          1.9820508075688776,
          1.4820508075688776,
          1.2320508075688774,
          1.4820508075688776,
          1.9820508075688774
         ],
         "yaxis": "y7"
        },
        {
         "fill": "toself",
         "fillcolor": "rgb(34, 103, 173)",
         "hoverinfo": "text",
         "hoveron": "fills",
         "line": {
          "color": "black",
          "width": 0
         },
         "mode": "lines",
         "showlegend": false,
         "text": "[50]",
         "type": "scatter",
         "x": [
          5.43301270189222,
          5,
          4.56698729810778,
          4.56698729810778,
          5,
          5.43301270189222,
          5.43301270189222
         ],
         "xaxis": "x7",
         "y": [
          2.848076211353316,
          3.098076211353316,
          2.848076211353316,
          2.348076211353316,
          2.098076211353316,
          2.348076211353316,
          2.848076211353316
         ],
         "yaxis": "y7"
        },
        {
         "fill": "toself",
         "fillcolor": "rgb(36, 106, 174)",
         "hoverinfo": "text",
         "hoveron": "fills",
         "line": {
          "color": "black",
          "width": 0
         },
         "mode": "lines",
         "showlegend": false,
         "text": "[]",
         "type": "scatter",
         "x": [
          4.93301270189222,
          4.5,
          4.06698729810778,
          4.06698729810778,
          4.5,
          4.93301270189222,
          4.93301270189222
         ],
         "xaxis": "x7",
         "y": [
          3.714101615137755,
          3.964101615137755,
          3.714101615137755,
          3.214101615137755,
          2.964101615137755,
          3.214101615137755,
          3.714101615137755
         ],
         "yaxis": "y7"
        },
        {
         "fill": "toself",
         "fillcolor": "rgb(18, 74, 133)",
         "hoverinfo": "text",
         "hoveron": "fills",
         "line": {
          "color": "black",
          "width": 0
         },
         "mode": "lines",
         "showlegend": false,
         "text": "[17, 32, 33, 56, 94, 99]",
         "type": "scatter",
         "x": [
          5.93301270189222,
          5.5,
          5.06698729810778,
          5.06698729810778,
          5.5,
          5.93301270189222,
          5.93301270189222
         ],
         "xaxis": "x7",
         "y": [
          0.24999999999999997,
          0.5,
          0.25000000000000017,
          -0.24999999999999986,
          -0.5,
          -0.24999999999999983,
          0.25
         ],
         "yaxis": "y7"
        },
        {
         "fill": "toself",
         "fillcolor": "rgb(19, 75, 134)",
         "hoverinfo": "text",
         "hoveron": "fills",
         "line": {
          "color": "black",
          "width": 0
         },
         "mode": "lines",
         "showlegend": false,
         "text": "[20, 35, 48]",
         "type": "scatter",
         "x": [
          6.43301270189222,
          6,
          5.56698729810778,
          5.56698729810778,
          6,
          6.43301270189222,
          6.43301270189222
         ],
         "xaxis": "x7",
         "y": [
          1.1160254037844386,
          1.3660254037844388,
          1.1160254037844388,
          0.6160254037844388,
          0.3660254037844387,
          0.6160254037844388,
          1.1160254037844388
         ],
         "yaxis": "y7"
        },
        {
         "fill": "toself",
         "fillcolor": "rgb(19, 75, 134)",
         "hoverinfo": "text",
         "hoveron": "fills",
         "line": {
          "color": "black",
          "width": 0
         },
         "mode": "lines",
         "showlegend": false,
         "text": "[19, 23, 47]",
         "type": "scatter",
         "x": [
          5.93301270189222,
          5.5,
          5.06698729810778,
          5.06698729810778,
          5.5,
          5.93301270189222,
          5.93301270189222
         ],
         "xaxis": "x7",
         "y": [
          1.9820508075688774,
          2.2320508075688776,
          1.9820508075688776,
          1.4820508075688776,
          1.2320508075688774,
          1.4820508075688776,
          1.9820508075688774
         ],
         "yaxis": "y7"
        },
        {
         "fill": "toself",
         "fillcolor": "rgb(60, 138, 190)",
         "hoverinfo": "text",
         "hoveron": "fills",
         "line": {
          "color": "black",
          "width": 0
         },
         "mode": "lines",
         "showlegend": false,
         "text": "[1]",
         "type": "scatter",
         "x": [
          6.43301270189222,
          6,
          5.56698729810778,
          5.56698729810778,
          6,
          6.43301270189222,
          6.43301270189222
         ],
         "xaxis": "x7",
         "y": [
          2.848076211353316,
          3.098076211353316,
          2.848076211353316,
          2.348076211353316,
          2.098076211353316,
          2.348076211353316,
          2.848076211353316
         ],
         "yaxis": "y7"
        },
        {
         "fill": "toself",
         "fillcolor": "rgb(56, 132, 188)",
         "hoverinfo": "text",
         "hoveron": "fills",
         "line": {
          "color": "black",
          "width": 0
         },
         "mode": "lines",
         "showlegend": false,
         "text": "[]",
         "type": "scatter",
         "x": [
          5.93301270189222,
          5.5,
          5.06698729810778,
          5.06698729810778,
          5.5,
          5.93301270189222,
          5.93301270189222
         ],
         "xaxis": "x7",
         "y": [
          3.714101615137755,
          3.964101615137755,
          3.714101615137755,
          3.214101615137755,
          2.964101615137755,
          3.214101615137755,
          3.714101615137755
         ],
         "yaxis": "y7"
        },
        {
         "fill": "toself",
         "fillcolor": "rgb(12, 61, 116)",
         "hoverinfo": "text",
         "hoveron": "fills",
         "line": {
          "color": "black",
          "width": 0
         },
         "mode": "lines",
         "showlegend": false,
         "text": "[30, 39, 49, 62, 98, 101]",
         "type": "scatter",
         "x": [
          6.93301270189222,
          6.5,
          6.06698729810778,
          6.06698729810778,
          6.5,
          6.93301270189222,
          6.93301270189222
         ],
         "xaxis": "x7",
         "y": [
          0.24999999999999997,
          0.5,
          0.25000000000000017,
          -0.24999999999999986,
          -0.5,
          -0.24999999999999983,
          0.25
         ],
         "yaxis": "y7"
        },
        {
         "fill": "toself",
         "fillcolor": "rgb(52, 127, 185)",
         "hoverinfo": "text",
         "hoveron": "fills",
         "line": {
          "color": "black",
          "width": 0
         },
         "mode": "lines",
         "showlegend": false,
         "text": "[]",
         "type": "scatter",
         "x": [
          7.43301270189222,
          7,
          6.56698729810778,
          6.56698729810778,
          7,
          7.43301270189222,
          7.43301270189222
         ],
         "xaxis": "x7",
         "y": [
          1.1160254037844386,
          1.3660254037844388,
          1.1160254037844388,
          0.6160254037844388,
          0.3660254037844387,
          0.6160254037844388,
          1.1160254037844388
         ],
         "yaxis": "y7"
        },
        {
         "fill": "toself",
         "fillcolor": "rgb(85, 158, 201)",
         "hoverinfo": "text",
         "hoveron": "fills",
         "line": {
          "color": "black",
          "width": 0
         },
         "mode": "lines",
         "showlegend": false,
         "text": "[51, 55]",
         "type": "scatter",
         "x": [
          6.93301270189222,
          6.5,
          6.06698729810778,
          6.06698729810778,
          6.5,
          6.93301270189222,
          6.93301270189222
         ],
         "xaxis": "x7",
         "y": [
          1.9820508075688774,
          2.2320508075688776,
          1.9820508075688776,
          1.4820508075688776,
          1.2320508075688774,
          1.4820508075688776,
          1.9820508075688774
         ],
         "yaxis": "y7"
        },
        {
         "fill": "toself",
         "fillcolor": "rgb(193, 221, 235)",
         "hoverinfo": "text",
         "hoveron": "fills",
         "line": {
          "color": "black",
          "width": 0
         },
         "mode": "lines",
         "showlegend": false,
         "text": "[5, 7, 9]",
         "type": "scatter",
         "x": [
          7.43301270189222,
          7,
          6.56698729810778,
          6.56698729810778,
          7,
          7.43301270189222,
          7.43301270189222
         ],
         "xaxis": "x7",
         "y": [
          2.848076211353316,
          3.098076211353316,
          2.848076211353316,
          2.348076211353316,
          2.098076211353316,
          2.348076211353316,
          2.848076211353316
         ],
         "yaxis": "y7"
        },
        {
         "fill": "toself",
         "fillcolor": "rgb(107, 172, 209)",
         "hoverinfo": "text",
         "hoveron": "fills",
         "line": {
          "color": "black",
          "width": 0
         },
         "mode": "lines",
         "showlegend": false,
         "text": "[3, 52]",
         "type": "scatter",
         "x": [
          6.93301270189222,
          6.5,
          6.06698729810778,
          6.06698729810778,
          6.5,
          6.93301270189222,
          6.93301270189222
         ],
         "xaxis": "x7",
         "y": [
          3.714101615137755,
          3.964101615137755,
          3.714101615137755,
          3.214101615137755,
          2.964101615137755,
          3.214101615137755,
          3.714101615137755
         ],
         "yaxis": "y7"
        },
        {
         "fill": "toself",
         "fillcolor": "rgb(28, 93, 159)",
         "hoverinfo": "text",
         "hoveron": "fills",
         "line": {
          "color": "black",
          "width": 0
         },
         "mode": "lines",
         "showlegend": false,
         "text": "[54]",
         "type": "scatter",
         "x": [
          7.93301270189222,
          7.5,
          7.06698729810778,
          7.06698729810778,
          7.5,
          7.93301270189222,
          7.93301270189222
         ],
         "xaxis": "x7",
         "y": [
          0.24999999999999997,
          0.5,
          0.25000000000000017,
          -0.24999999999999986,
          -0.5,
          -0.24999999999999983,
          0.25
         ],
         "yaxis": "y7"
        },
        {
         "fill": "toself",
         "fillcolor": "rgb(250, 233, 223)",
         "hoverinfo": "text",
         "hoveron": "fills",
         "line": {
          "color": "black",
          "width": 0
         },
         "mode": "lines",
         "showlegend": false,
         "text": "[95]",
         "type": "scatter",
         "x": [
          8.433012701892219,
          8,
          7.56698729810778,
          7.56698729810778,
          8,
          8.433012701892219,
          8.433012701892219
         ],
         "xaxis": "x7",
         "y": [
          1.1160254037844386,
          1.3660254037844388,
          1.1160254037844388,
          0.6160254037844388,
          0.3660254037844387,
          0.6160254037844388,
          1.1160254037844388
         ],
         "yaxis": "y7"
        },
        {
         "fill": "toself",
         "fillcolor": "rgb(230, 239, 244)",
         "hoverinfo": "text",
         "hoveron": "fills",
         "line": {
          "color": "black",
          "width": 0
         },
         "mode": "lines",
         "showlegend": false,
         "text": "[0, 4]",
         "type": "scatter",
         "x": [
          7.93301270189222,
          7.5,
          7.06698729810778,
          7.06698729810778,
          7.5,
          7.93301270189222,
          7.93301270189222
         ],
         "xaxis": "x7",
         "y": [
          1.9820508075688774,
          2.2320508075688776,
          1.9820508075688776,
          1.4820508075688776,
          1.2320508075688774,
          1.4820508075688776,
          1.9820508075688774
         ],
         "yaxis": "y7"
        },
        {
         "fill": "toself",
         "fillcolor": "rgb(136, 191, 219)",
         "hoverinfo": "text",
         "hoveron": "fills",
         "line": {
          "color": "black",
          "width": 0
         },
         "mode": "lines",
         "showlegend": false,
         "text": "[]",
         "type": "scatter",
         "x": [
          8.433012701892219,
          8,
          7.56698729810778,
          7.56698729810778,
          8,
          8.433012701892219,
          8.433012701892219
         ],
         "xaxis": "x7",
         "y": [
          2.848076211353316,
          3.098076211353316,
          2.848076211353316,
          2.348076211353316,
          2.098076211353316,
          2.348076211353316,
          2.848076211353316
         ],
         "yaxis": "y7"
        },
        {
         "fill": "toself",
         "fillcolor": "rgb(45, 118, 180)",
         "hoverinfo": "text",
         "hoveron": "fills",
         "line": {
          "color": "black",
          "width": 0
         },
         "mode": "lines",
         "showlegend": false,
         "text": "[79]",
         "type": "scatter",
         "x": [
          7.93301270189222,
          7.5,
          7.06698729810778,
          7.06698729810778,
          7.5,
          7.93301270189222,
          7.93301270189222
         ],
         "xaxis": "x7",
         "y": [
          3.714101615137755,
          3.964101615137755,
          3.714101615137755,
          3.214101615137755,
          2.964101615137755,
          3.214101615137755,
          3.714101615137755
         ],
         "yaxis": "y7"
        },
        {
         "fill": "toself",
         "fillcolor": "rgb(80, 155, 199)",
         "hoverinfo": "text",
         "hoveron": "fills",
         "line": {
          "color": "black",
          "width": 0
         },
         "mode": "lines",
         "showlegend": false,
         "text": "[96]",
         "type": "scatter",
         "x": [
          8.933012701892219,
          8.5,
          8.066987298107781,
          8.066987298107781,
          8.5,
          8.933012701892219,
          8.933012701892219
         ],
         "xaxis": "x7",
         "y": [
          0.24999999999999997,
          0.5,
          0.25000000000000017,
          -0.24999999999999986,
          -0.5,
          -0.24999999999999983,
          0.25
         ],
         "yaxis": "y7"
        },
        {
         "fill": "toself",
         "fillcolor": "rgb(103, 0, 31)",
         "hoverinfo": "text",
         "hoveron": "fills",
         "line": {
          "color": "black",
          "width": 0
         },
         "mode": "lines",
         "showlegend": false,
         "text": "[97]",
         "type": "scatter",
         "x": [
          9.433012701892219,
          9,
          8.566987298107781,
          8.566987298107781,
          9,
          9.433012701892219,
          9.433012701892219
         ],
         "xaxis": "x7",
         "y": [
          1.1160254037844386,
          1.3660254037844388,
          1.1160254037844388,
          0.6160254037844388,
          0.3660254037844387,
          0.6160254037844388,
          1.1160254037844388
         ],
         "yaxis": "y7"
        },
        {
         "fill": "toself",
         "fillcolor": "rgb(249, 239, 233)",
         "hoverinfo": "text",
         "hoveron": "fills",
         "line": {
          "color": "black",
          "width": 0
         },
         "mode": "lines",
         "showlegend": false,
         "text": "[2]",
         "type": "scatter",
         "x": [
          8.933012701892219,
          8.5,
          8.066987298107781,
          8.066987298107781,
          8.5,
          8.933012701892219,
          8.933012701892219
         ],
         "xaxis": "x7",
         "y": [
          1.9820508075688774,
          2.2320508075688776,
          1.9820508075688776,
          1.4820508075688776,
          1.2320508075688774,
          1.4820508075688776,
          1.9820508075688774
         ],
         "yaxis": "y7"
        },
        {
         "fill": "toself",
         "fillcolor": "rgb(154, 201, 224)",
         "hoverinfo": "text",
         "hoveron": "fills",
         "line": {
          "color": "black",
          "width": 0
         },
         "mode": "lines",
         "showlegend": false,
         "text": "[6, 8]",
         "type": "scatter",
         "x": [
          9.433012701892219,
          9,
          8.566987298107781,
          8.566987298107781,
          9,
          9.433012701892219,
          9.433012701892219
         ],
         "xaxis": "x7",
         "y": [
          2.848076211353316,
          3.098076211353316,
          2.848076211353316,
          2.348076211353316,
          2.098076211353316,
          2.348076211353316,
          2.848076211353316
         ],
         "yaxis": "y7"
        },
        {
         "fill": "toself",
         "fillcolor": "rgb(19, 75, 135)",
         "hoverinfo": "text",
         "hoveron": "fills",
         "line": {
          "color": "black",
          "width": 0
         },
         "mode": "lines",
         "showlegend": false,
         "text": "[25, 78, 80]",
         "type": "scatter",
         "x": [
          8.933012701892219,
          8.5,
          8.066987298107781,
          8.066987298107781,
          8.5,
          8.933012701892219,
          8.933012701892219
         ],
         "xaxis": "x7",
         "y": [
          3.714101615137755,
          3.964101615137755,
          3.714101615137755,
          3.214101615137755,
          2.964101615137755,
          3.214101615137755,
          3.714101615137755
         ],
         "yaxis": "y7"
        },
        {
         "marker": {
          "color": [
           0.7771217241453537,
           0.9999650878387113
          ],
          "colorbar": {
           "len": 0.1,
           "thickness": 20,
           "x": -0.15,
           "y": 0.30000000000000004
          },
          "colorscale": [
           [
            0,
            "rgb(103,0,31)"
           ],
           [
            0.1,
            "rgb(178,24,43)"
           ],
           [
            0.2,
            "rgb(214,96,77)"
           ],
           [
            0.3,
            "rgb(244,165,130)"
           ],
           [
            0.4,
            "rgb(253,219,199)"
           ],
           [
            0.5,
            "rgb(247,247,247)"
           ],
           [
            0.6,
            "rgb(209,229,240)"
           ],
           [
            0.7,
            "rgb(146,197,222)"
           ],
           [
            0.8,
            "rgb(67,147,195)"
           ],
           [
            0.9,
            "rgb(33,102,172)"
           ],
           [
            1,
            "rgb(5,48,97)"
           ]
          ],
          "size": 0.001
         },
         "showlegend": false,
         "type": "scatter",
         "x": [
          0,
          0
         ],
         "xaxis": "x7",
         "y": [
          0,
          0
         ],
         "yaxis": "y7"
        },
        {
         "fill": "toself",
         "fillcolor": "rgb(5, 48, 97)",
         "hoverinfo": "text",
         "hoveron": "fills",
         "line": {
          "color": "black",
          "width": 0
         },
         "mode": "lines",
         "showlegend": false,
         "text": "[70, 74]",
         "type": "scatter",
         "x": [
          -0.06698729810778065,
          -0.49999999999999994,
          -0.9330127018922192,
          -0.9330127018922194,
          -0.5000000000000001,
          -0.06698729810778059,
          -0.0669872981077807
         ],
         "xaxis": "x8",
         "y": [
          0.24999999999999997,
          0.5,
          0.25000000000000017,
          -0.24999999999999986,
          -0.5,
          -0.24999999999999983,
          0.25
         ],
         "yaxis": "y8"
        },
        {
         "fill": "toself",
         "fillcolor": "rgb(5, 48, 97)",
         "hoverinfo": "text",
         "hoveron": "fills",
         "line": {
          "color": "black",
          "width": 0
         },
         "mode": "lines",
         "showlegend": false,
         "text": "[]",
         "type": "scatter",
         "x": [
          0.43301270189221935,
          3.061616997868383e-17,
          -0.43301270189221924,
          -0.4330127018922194,
          -9.184850993605148e-17,
          0.4330127018922194,
          0.4330127018922193
         ],
         "xaxis": "x8",
         "y": [
          1.1160254037844386,
          1.3660254037844388,
          1.1160254037844388,
          0.6160254037844388,
          0.3660254037844387,
          0.6160254037844388,
          1.1160254037844388
         ],
         "yaxis": "y8"
        },
        {
         "fill": "toself",
         "fillcolor": "rgb(5, 48, 97)",
         "hoverinfo": "text",
         "hoveron": "fills",
         "line": {
          "color": "black",
          "width": 0
         },
         "mode": "lines",
         "showlegend": false,
         "text": "[37, 38, 42, 43, 44, 45, 46, 64, 92]",
         "type": "scatter",
         "x": [
          -0.06698729810778065,
          -0.49999999999999994,
          -0.9330127018922192,
          -0.9330127018922194,
          -0.5000000000000001,
          -0.06698729810778059,
          -0.0669872981077807
         ],
         "xaxis": "x8",
         "y": [
          1.9820508075688774,
          2.2320508075688776,
          1.9820508075688776,
          1.4820508075688776,
          1.2320508075688774,
          1.4820508075688776,
          1.9820508075688774
         ],
         "yaxis": "y8"
        },
        {
         "fill": "toself",
         "fillcolor": "rgb(5, 48, 97)",
         "hoverinfo": "text",
         "hoveron": "fills",
         "line": {
          "color": "black",
          "width": 0
         },
         "mode": "lines",
         "showlegend": false,
         "text": "[]",
         "type": "scatter",
         "x": [
          0.43301270189221935,
          3.061616997868383e-17,
          -0.43301270189221924,
          -0.4330127018922194,
          -9.184850993605148e-17,
          0.4330127018922194,
          0.4330127018922193
         ],
         "xaxis": "x8",
         "y": [
          2.848076211353316,
          3.098076211353316,
          2.848076211353316,
          2.348076211353316,
          2.098076211353316,
          2.348076211353316,
          2.848076211353316
         ],
         "yaxis": "y8"
        },
        {
         "fill": "toself",
         "fillcolor": "rgb(5, 48, 97)",
         "hoverinfo": "text",
         "hoveron": "fills",
         "line": {
          "color": "black",
          "width": 0
         },
         "mode": "lines",
         "showlegend": false,
         "text": "[36]",
         "type": "scatter",
         "x": [
          -0.06698729810778065,
          -0.49999999999999994,
          -0.9330127018922192,
          -0.9330127018922194,
          -0.5000000000000001,
          -0.06698729810778059,
          -0.0669872981077807
         ],
         "xaxis": "x8",
         "y": [
          3.714101615137755,
          3.964101615137755,
          3.714101615137755,
          3.214101615137755,
          2.964101615137755,
          3.214101615137755,
          3.714101615137755
         ],
         "yaxis": "y8"
        },
        {
         "fill": "toself",
         "fillcolor": "rgb(5, 48, 97)",
         "hoverinfo": "text",
         "hoveron": "fills",
         "line": {
          "color": "black",
          "width": 0
         },
         "mode": "lines",
         "showlegend": false,
         "text": "[72, 76]",
         "type": "scatter",
         "x": [
          0.9330127018922194,
          0.5,
          0.06698729810778076,
          0.06698729810778059,
          0.4999999999999999,
          0.9330127018922194,
          0.9330127018922193
         ],
         "xaxis": "x8",
         "y": [
          0.24999999999999997,
          0.5,
          0.25000000000000017,
          -0.24999999999999986,
          -0.5,
          -0.24999999999999983,
          0.25
         ],
         "yaxis": "y8"
        },
        {
         "fill": "toself",
         "fillcolor": "rgb(5, 48, 97)",
         "hoverinfo": "text",
         "hoveron": "fills",
         "line": {
          "color": "black",
          "width": 0
         },
         "mode": "lines",
         "showlegend": false,
         "text": "[71, 73]",
         "type": "scatter",
         "x": [
          1.4330127018922194,
          1,
          0.5669872981077808,
          0.5669872981077806,
          0.9999999999999999,
          1.4330127018922194,
          1.4330127018922192
         ],
         "xaxis": "x8",
         "y": [
          1.1160254037844386,
          1.3660254037844388,
          1.1160254037844388,
          0.6160254037844388,
          0.3660254037844387,
          0.6160254037844388,
          1.1160254037844388
         ],
         "yaxis": "y8"
        },
        {
         "fill": "toself",
         "fillcolor": "rgb(5, 48, 97)",
         "hoverinfo": "text",
         "hoveron": "fills",
         "line": {
          "color": "black",
          "width": 0
         },
         "mode": "lines",
         "showlegend": false,
         "text": "[27, 40, 88]",
         "type": "scatter",
         "x": [
          0.9330127018922194,
          0.5,
          0.06698729810778076,
          0.06698729810778059,
          0.4999999999999999,
          0.9330127018922194,
          0.9330127018922193
         ],
         "xaxis": "x8",
         "y": [
          1.9820508075688774,
          2.2320508075688776,
          1.9820508075688776,
          1.4820508075688776,
          1.2320508075688774,
          1.4820508075688776,
          1.9820508075688774
         ],
         "yaxis": "y8"
        },
        {
         "fill": "toself",
         "fillcolor": "rgb(5, 48, 97)",
         "hoverinfo": "text",
         "hoveron": "fills",
         "line": {
          "color": "black",
          "width": 0
         },
         "mode": "lines",
         "showlegend": false,
         "text": "[29, 53, 75, 77, 83, 85]",
         "type": "scatter",
         "x": [
          1.4330127018922194,
          1,
          0.5669872981077808,
          0.5669872981077806,
          0.9999999999999999,
          1.4330127018922194,
          1.4330127018922192
         ],
         "xaxis": "x8",
         "y": [
          2.848076211353316,
          3.098076211353316,
          2.848076211353316,
          2.348076211353316,
          2.098076211353316,
          2.348076211353316,
          2.848076211353316
         ],
         "yaxis": "y8"
        },
        {
         "fill": "toself",
         "fillcolor": "rgb(5, 48, 97)",
         "hoverinfo": "text",
         "hoveron": "fills",
         "line": {
          "color": "black",
          "width": 0
         },
         "mode": "lines",
         "showlegend": false,
         "text": "[63]",
         "type": "scatter",
         "x": [
          0.9330127018922194,
          0.5,
          0.06698729810778076,
          0.06698729810778059,
          0.4999999999999999,
          0.9330127018922194,
          0.9330127018922193
         ],
         "xaxis": "x8",
         "y": [
          3.714101615137755,
          3.964101615137755,
          3.714101615137755,
          3.214101615137755,
          2.964101615137755,
          3.214101615137755,
          3.714101615137755
         ],
         "yaxis": "y8"
        },
        {
         "fill": "toself",
         "fillcolor": "rgb(5, 48, 97)",
         "hoverinfo": "text",
         "hoveron": "fills",
         "line": {
          "color": "black",
          "width": 0
         },
         "mode": "lines",
         "showlegend": false,
         "text": "[]",
         "type": "scatter",
         "x": [
          1.9330127018922194,
          1.5,
          1.0669872981077808,
          1.0669872981077806,
          1.5,
          1.9330127018922194,
          1.9330127018922192
         ],
         "xaxis": "x8",
         "y": [
          0.24999999999999997,
          0.5,
          0.25000000000000017,
          -0.24999999999999986,
          -0.5,
          -0.24999999999999983,
          0.25
         ],
         "yaxis": "y8"
        },
        {
         "fill": "toself",
         "fillcolor": "rgb(5, 49, 98)",
         "hoverinfo": "text",
         "hoveron": "fills",
         "line": {
          "color": "black",
          "width": 0
         },
         "mode": "lines",
         "showlegend": false,
         "text": "[13, 14, 26, 59, 87, 89]",
         "type": "scatter",
         "x": [
          2.433012701892219,
          2,
          1.5669872981077808,
          1.5669872981077806,
          2,
          2.4330127018922196,
          2.433012701892219
         ],
         "xaxis": "x8",
         "y": [
          1.1160254037844386,
          1.3660254037844388,
          1.1160254037844388,
          0.6160254037844388,
          0.3660254037844387,
          0.6160254037844388,
          1.1160254037844388
         ],
         "yaxis": "y8"
        },
        {
         "fill": "toself",
         "fillcolor": "rgb(5, 48, 97)",
         "hoverinfo": "text",
         "hoveron": "fills",
         "line": {
          "color": "black",
          "width": 0
         },
         "mode": "lines",
         "showlegend": false,
         "text": "[12, 67, 82]",
         "type": "scatter",
         "x": [
          1.9330127018922194,
          1.5,
          1.0669872981077808,
          1.0669872981077806,
          1.5,
          1.9330127018922194,
          1.9330127018922192
         ],
         "xaxis": "x8",
         "y": [
          1.9820508075688774,
          2.2320508075688776,
          1.9820508075688776,
          1.4820508075688776,
          1.2320508075688774,
          1.4820508075688776,
          1.9820508075688774
         ],
         "yaxis": "y8"
        },
        {
         "fill": "toself",
         "fillcolor": "rgb(5, 48, 97)",
         "hoverinfo": "text",
         "hoveron": "fills",
         "line": {
          "color": "black",
          "width": 0
         },
         "mode": "lines",
         "showlegend": false,
         "text": "[28]",
         "type": "scatter",
         "x": [
          2.433012701892219,
          2,
          1.5669872981077808,
          1.5669872981077806,
          2,
          2.4330127018922196,
          2.433012701892219
         ],
         "xaxis": "x8",
         "y": [
          2.848076211353316,
          3.098076211353316,
          2.848076211353316,
          2.348076211353316,
          2.098076211353316,
          2.348076211353316,
          2.848076211353316
         ],
         "yaxis": "y8"
        },
        {
         "fill": "toself",
         "fillcolor": "rgb(5, 48, 97)",
         "hoverinfo": "text",
         "hoveron": "fills",
         "line": {
          "color": "black",
          "width": 0
         },
         "mode": "lines",
         "showlegend": false,
         "text": "[]",
         "type": "scatter",
         "x": [
          1.9330127018922194,
          1.5,
          1.0669872981077808,
          1.0669872981077806,
          1.5,
          1.9330127018922194,
          1.9330127018922192
         ],
         "xaxis": "x8",
         "y": [
          3.714101615137755,
          3.964101615137755,
          3.714101615137755,
          3.214101615137755,
          2.964101615137755,
          3.214101615137755,
          3.714101615137755
         ],
         "yaxis": "y8"
        },
        {
         "fill": "toself",
         "fillcolor": "rgb(5, 48, 97)",
         "hoverinfo": "text",
         "hoveron": "fills",
         "line": {
          "color": "black",
          "width": 0
         },
         "mode": "lines",
         "showlegend": false,
         "text": "[]",
         "type": "scatter",
         "x": [
          2.933012701892219,
          2.5,
          2.066987298107781,
          2.0669872981077804,
          2.5,
          2.9330127018922196,
          2.933012701892219
         ],
         "xaxis": "x8",
         "y": [
          0.24999999999999997,
          0.5,
          0.25000000000000017,
          -0.24999999999999986,
          -0.5,
          -0.24999999999999983,
          0.25
         ],
         "yaxis": "y8"
        },
        {
         "fill": "toself",
         "fillcolor": "rgb(5, 48, 98)",
         "hoverinfo": "text",
         "hoveron": "fills",
         "line": {
          "color": "black",
          "width": 0
         },
         "mode": "lines",
         "showlegend": false,
         "text": "[21, 61, 66, 86]",
         "type": "scatter",
         "x": [
          3.433012701892219,
          3,
          2.566987298107781,
          2.5669872981077804,
          3,
          3.4330127018922196,
          3.433012701892219
         ],
         "xaxis": "x8",
         "y": [
          1.1160254037844386,
          1.3660254037844388,
          1.1160254037844388,
          0.6160254037844388,
          0.3660254037844387,
          0.6160254037844388,
          1.1160254037844388
         ],
         "yaxis": "y8"
        },
        {
         "fill": "toself",
         "fillcolor": "rgb(5, 49, 98)",
         "hoverinfo": "text",
         "hoveron": "fills",
         "line": {
          "color": "black",
          "width": 0
         },
         "mode": "lines",
         "showlegend": false,
         "text": "[11, 22, 57, 69]",
         "type": "scatter",
         "x": [
          2.933012701892219,
          2.5,
          2.066987298107781,
          2.0669872981077804,
          2.5,
          2.9330127018922196,
          2.933012701892219
         ],
         "xaxis": "x8",
         "y": [
          1.9820508075688774,
          2.2320508075688776,
          1.9820508075688776,
          1.4820508075688776,
          1.2320508075688774,
          1.4820508075688776,
          1.9820508075688774
         ],
         "yaxis": "y8"
        },
        {
         "fill": "toself",
         "fillcolor": "rgb(5, 49, 98)",
         "hoverinfo": "text",
         "hoveron": "fills",
         "line": {
          "color": "black",
          "width": 0
         },
         "mode": "lines",
         "showlegend": false,
         "text": "[24, 90]",
         "type": "scatter",
         "x": [
          3.433012701892219,
          3,
          2.566987298107781,
          2.5669872981077804,
          3,
          3.4330127018922196,
          3.433012701892219
         ],
         "xaxis": "x8",
         "y": [
          2.848076211353316,
          3.098076211353316,
          2.848076211353316,
          2.348076211353316,
          2.098076211353316,
          2.348076211353316,
          2.848076211353316
         ],
         "yaxis": "y8"
        },
        {
         "fill": "toself",
         "fillcolor": "rgb(5, 48, 97)",
         "hoverinfo": "text",
         "hoveron": "fills",
         "line": {
          "color": "black",
          "width": 0
         },
         "mode": "lines",
         "showlegend": false,
         "text": "[68, 84]",
         "type": "scatter",
         "x": [
          2.933012701892219,
          2.5,
          2.066987298107781,
          2.0669872981077804,
          2.5,
          2.9330127018922196,
          2.933012701892219
         ],
         "xaxis": "x8",
         "y": [
          3.714101615137755,
          3.964101615137755,
          3.714101615137755,
          3.214101615137755,
          2.964101615137755,
          3.214101615137755,
          3.714101615137755
         ],
         "yaxis": "y8"
        },
        {
         "fill": "toself",
         "fillcolor": "rgb(5, 48, 97)",
         "hoverinfo": "text",
         "hoveron": "fills",
         "line": {
          "color": "black",
          "width": 0
         },
         "mode": "lines",
         "showlegend": false,
         "text": "[93]",
         "type": "scatter",
         "x": [
          3.933012701892219,
          3.5,
          3.066987298107781,
          3.0669872981077804,
          3.5,
          3.9330127018922196,
          3.933012701892219
         ],
         "xaxis": "x8",
         "y": [
          0.24999999999999997,
          0.5,
          0.25000000000000017,
          -0.24999999999999986,
          -0.5,
          -0.24999999999999983,
          0.25
         ],
         "yaxis": "y8"
        },
        {
         "fill": "toself",
         "fillcolor": "rgb(5, 48, 97)",
         "hoverinfo": "text",
         "hoveron": "fills",
         "line": {
          "color": "black",
          "width": 0
         },
         "mode": "lines",
         "showlegend": false,
         "text": "[10, 34, 65]",
         "type": "scatter",
         "x": [
          4.43301270189222,
          4,
          3.566987298107781,
          3.5669872981077804,
          4,
          4.43301270189222,
          4.43301270189222
         ],
         "xaxis": "x8",
         "y": [
          1.1160254037844386,
          1.3660254037844388,
          1.1160254037844388,
          0.6160254037844388,
          0.3660254037844387,
          0.6160254037844388,
          1.1160254037844388
         ],
         "yaxis": "y8"
        },
        {
         "fill": "toself",
         "fillcolor": "rgb(5, 48, 97)",
         "hoverinfo": "text",
         "hoveron": "fills",
         "line": {
          "color": "black",
          "width": 0
         },
         "mode": "lines",
         "showlegend": false,
         "text": "[31, 58, 91]",
         "type": "scatter",
         "x": [
          3.933012701892219,
          3.5,
          3.066987298107781,
          3.0669872981077804,
          3.5,
          3.9330127018922196,
          3.933012701892219
         ],
         "xaxis": "x8",
         "y": [
          1.9820508075688774,
          2.2320508075688776,
          1.9820508075688776,
          1.4820508075688776,
          1.2320508075688774,
          1.4820508075688776,
          1.9820508075688774
         ],
         "yaxis": "y8"
        },
        {
         "fill": "toself",
         "fillcolor": "rgb(9, 55, 107)",
         "hoverinfo": "text",
         "hoveron": "fills",
         "line": {
          "color": "black",
          "width": 0
         },
         "mode": "lines",
         "showlegend": false,
         "text": "[]",
         "type": "scatter",
         "x": [
          4.43301270189222,
          4,
          3.566987298107781,
          3.5669872981077804,
          4,
          4.43301270189222,
          4.43301270189222
         ],
         "xaxis": "x8",
         "y": [
          2.848076211353316,
          3.098076211353316,
          2.848076211353316,
          2.348076211353316,
          2.098076211353316,
          2.348076211353316,
          2.848076211353316
         ],
         "yaxis": "y8"
        },
        {
         "fill": "toself",
         "fillcolor": "rgb(5, 48, 97)",
         "hoverinfo": "text",
         "hoveron": "fills",
         "line": {
          "color": "black",
          "width": 0
         },
         "mode": "lines",
         "showlegend": false,
         "text": "[81]",
         "type": "scatter",
         "x": [
          3.933012701892219,
          3.5,
          3.066987298107781,
          3.0669872981077804,
          3.5,
          3.9330127018922196,
          3.933012701892219
         ],
         "xaxis": "x8",
         "y": [
          3.714101615137755,
          3.964101615137755,
          3.714101615137755,
          3.214101615137755,
          2.964101615137755,
          3.214101615137755,
          3.714101615137755
         ],
         "yaxis": "y8"
        },
        {
         "fill": "toself",
         "fillcolor": "rgb(5, 48, 98)",
         "hoverinfo": "text",
         "hoveron": "fills",
         "line": {
          "color": "black",
          "width": 0
         },
         "mode": "lines",
         "showlegend": false,
         "text": "[100]",
         "type": "scatter",
         "x": [
          4.93301270189222,
          4.5,
          4.06698729810778,
          4.06698729810778,
          4.5,
          4.93301270189222,
          4.93301270189222
         ],
         "xaxis": "x8",
         "y": [
          0.24999999999999997,
          0.5,
          0.25000000000000017,
          -0.24999999999999986,
          -0.5,
          -0.24999999999999983,
          0.25
         ],
         "yaxis": "y8"
        },
        {
         "fill": "toself",
         "fillcolor": "rgb(8, 54, 106)",
         "hoverinfo": "text",
         "hoveron": "fills",
         "line": {
          "color": "black",
          "width": 0
         },
         "mode": "lines",
         "showlegend": false,
         "text": "[15, 41]",
         "type": "scatter",
         "x": [
          5.43301270189222,
          5,
          4.56698729810778,
          4.56698729810778,
          5,
          5.43301270189222,
          5.43301270189222
         ],
         "xaxis": "x8",
         "y": [
          1.1160254037844386,
          1.3660254037844388,
          1.1160254037844388,
          0.6160254037844388,
          0.3660254037844387,
          0.6160254037844388,
          1.1160254037844388
         ],
         "yaxis": "y8"
        },
        {
         "fill": "toself",
         "fillcolor": "rgb(7, 52, 103)",
         "hoverinfo": "text",
         "hoveron": "fills",
         "line": {
          "color": "black",
          "width": 0
         },
         "mode": "lines",
         "showlegend": false,
         "text": "[16, 18, 60]",
         "type": "scatter",
         "x": [
          4.93301270189222,
          4.5,
          4.06698729810778,
          4.06698729810778,
          4.5,
          4.93301270189222,
          4.93301270189222
         ],
         "xaxis": "x8",
         "y": [
          1.9820508075688774,
          2.2320508075688776,
          1.9820508075688776,
          1.4820508075688776,
          1.2320508075688774,
          1.4820508075688776,
          1.9820508075688774
         ],
         "yaxis": "y8"
        },
        {
         "fill": "toself",
         "fillcolor": "rgb(40, 111, 177)",
         "hoverinfo": "text",
         "hoveron": "fills",
         "line": {
          "color": "black",
          "width": 0
         },
         "mode": "lines",
         "showlegend": false,
         "text": "[50]",
         "type": "scatter",
         "x": [
          5.43301270189222,
          5,
          4.56698729810778,
          4.56698729810778,
          5,
          5.43301270189222,
          5.43301270189222
         ],
         "xaxis": "x8",
         "y": [
          2.848076211353316,
          3.098076211353316,
          2.848076211353316,
          2.348076211353316,
          2.098076211353316,
          2.348076211353316,
          2.848076211353316
         ],
         "yaxis": "y8"
        },
        {
         "fill": "toself",
         "fillcolor": "rgb(24, 85, 149)",
         "hoverinfo": "text",
         "hoveron": "fills",
         "line": {
          "color": "black",
          "width": 0
         },
         "mode": "lines",
         "showlegend": false,
         "text": "[]",
         "type": "scatter",
         "x": [
          4.93301270189222,
          4.5,
          4.06698729810778,
          4.06698729810778,
          4.5,
          4.93301270189222,
          4.93301270189222
         ],
         "xaxis": "x8",
         "y": [
          3.714101615137755,
          3.964101615137755,
          3.714101615137755,
          3.214101615137755,
          2.964101615137755,
          3.214101615137755,
          3.714101615137755
         ],
         "yaxis": "y8"
        },
        {
         "fill": "toself",
         "fillcolor": "rgb(6, 50, 99)",
         "hoverinfo": "text",
         "hoveron": "fills",
         "line": {
          "color": "black",
          "width": 0
         },
         "mode": "lines",
         "showlegend": false,
         "text": "[17, 32, 33, 56, 94, 99]",
         "type": "scatter",
         "x": [
          5.93301270189222,
          5.5,
          5.06698729810778,
          5.06698729810778,
          5.5,
          5.93301270189222,
          5.93301270189222
         ],
         "xaxis": "x8",
         "y": [
          0.24999999999999997,
          0.5,
          0.25000000000000017,
          -0.24999999999999986,
          -0.5,
          -0.24999999999999983,
          0.25
         ],
         "yaxis": "y8"
        },
        {
         "fill": "toself",
         "fillcolor": "rgb(15, 68, 124)",
         "hoverinfo": "text",
         "hoveron": "fills",
         "line": {
          "color": "black",
          "width": 0
         },
         "mode": "lines",
         "showlegend": false,
         "text": "[20, 35, 48]",
         "type": "scatter",
         "x": [
          6.43301270189222,
          6,
          5.56698729810778,
          5.56698729810778,
          6,
          6.43301270189222,
          6.43301270189222
         ],
         "xaxis": "x8",
         "y": [
          1.1160254037844386,
          1.3660254037844388,
          1.1160254037844388,
          0.6160254037844388,
          0.3660254037844387,
          0.6160254037844388,
          1.1160254037844388
         ],
         "yaxis": "y8"
        },
        {
         "fill": "toself",
         "fillcolor": "rgb(23, 82, 145)",
         "hoverinfo": "text",
         "hoveron": "fills",
         "line": {
          "color": "black",
          "width": 0
         },
         "mode": "lines",
         "showlegend": false,
         "text": "[19, 23, 47]",
         "type": "scatter",
         "x": [
          5.93301270189222,
          5.5,
          5.06698729810778,
          5.06698729810778,
          5.5,
          5.93301270189222,
          5.93301270189222
         ],
         "xaxis": "x8",
         "y": [
          1.9820508075688774,
          2.2320508075688776,
          1.9820508075688776,
          1.4820508075688776,
          1.2320508075688774,
          1.4820508075688776,
          1.9820508075688774
         ],
         "yaxis": "y8"
        },
        {
         "fill": "toself",
         "fillcolor": "rgb(231, 239, 244)",
         "hoverinfo": "text",
         "hoveron": "fills",
         "line": {
          "color": "black",
          "width": 0
         },
         "mode": "lines",
         "showlegend": false,
         "text": "[1]",
         "type": "scatter",
         "x": [
          6.43301270189222,
          6,
          5.56698729810778,
          5.56698729810778,
          6,
          6.43301270189222,
          6.43301270189222
         ],
         "xaxis": "x8",
         "y": [
          2.848076211353316,
          3.098076211353316,
          2.848076211353316,
          2.348076211353316,
          2.098076211353316,
          2.348076211353316,
          2.848076211353316
         ],
         "yaxis": "y8"
        },
        {
         "fill": "toself",
         "fillcolor": "rgb(104, 170, 208)",
         "hoverinfo": "text",
         "hoveron": "fills",
         "line": {
          "color": "black",
          "width": 0
         },
         "mode": "lines",
         "showlegend": false,
         "text": "[]",
         "type": "scatter",
         "x": [
          5.93301270189222,
          5.5,
          5.06698729810778,
          5.06698729810778,
          5.5,
          5.93301270189222,
          5.93301270189222
         ],
         "xaxis": "x8",
         "y": [
          3.714101615137755,
          3.964101615137755,
          3.714101615137755,
          3.214101615137755,
          2.964101615137755,
          3.214101615137755,
          3.714101615137755
         ],
         "yaxis": "y8"
        },
        {
         "fill": "toself",
         "fillcolor": "rgb(9, 55, 107)",
         "hoverinfo": "text",
         "hoveron": "fills",
         "line": {
          "color": "black",
          "width": 0
         },
         "mode": "lines",
         "showlegend": false,
         "text": "[30, 39, 49, 62, 98, 101]",
         "type": "scatter",
         "x": [
          6.93301270189222,
          6.5,
          6.06698729810778,
          6.06698729810778,
          6.5,
          6.93301270189222,
          6.93301270189222
         ],
         "xaxis": "x8",
         "y": [
          0.24999999999999997,
          0.5,
          0.25000000000000017,
          -0.24999999999999986,
          -0.5,
          -0.24999999999999983,
          0.25
         ],
         "yaxis": "y8"
        },
        {
         "fill": "toself",
         "fillcolor": "rgb(37, 107, 175)",
         "hoverinfo": "text",
         "hoveron": "fills",
         "line": {
          "color": "black",
          "width": 0
         },
         "mode": "lines",
         "showlegend": false,
         "text": "[]",
         "type": "scatter",
         "x": [
          7.43301270189222,
          7,
          6.56698729810778,
          6.56698729810778,
          7,
          7.43301270189222,
          7.43301270189222
         ],
         "xaxis": "x8",
         "y": [
          1.1160254037844386,
          1.3660254037844388,
          1.1160254037844388,
          0.6160254037844388,
          0.3660254037844387,
          0.6160254037844388,
          1.1160254037844388
         ],
         "yaxis": "y8"
        },
        {
         "fill": "toself",
         "fillcolor": "rgb(106, 172, 208)",
         "hoverinfo": "text",
         "hoveron": "fills",
         "line": {
          "color": "black",
          "width": 0
         },
         "mode": "lines",
         "showlegend": false,
         "text": "[51, 55]",
         "type": "scatter",
         "x": [
          6.93301270189222,
          6.5,
          6.06698729810778,
          6.06698729810778,
          6.5,
          6.93301270189222,
          6.93301270189222
         ],
         "xaxis": "x8",
         "y": [
          1.9820508075688774,
          2.2320508075688776,
          1.9820508075688776,
          1.4820508075688776,
          1.2320508075688774,
          1.4820508075688776,
          1.9820508075688774
         ],
         "yaxis": "y8"
        },
        {
         "fill": "toself",
         "fillcolor": "rgb(103, 0, 31)",
         "hoverinfo": "text",
         "hoveron": "fills",
         "line": {
          "color": "black",
          "width": 0
         },
         "mode": "lines",
         "showlegend": false,
         "text": "[5, 7, 9]",
         "type": "scatter",
         "x": [
          7.43301270189222,
          7,
          6.56698729810778,
          6.56698729810778,
          7,
          7.43301270189222,
          7.43301270189222
         ],
         "xaxis": "x8",
         "y": [
          2.848076211353316,
          3.098076211353316,
          2.848076211353316,
          2.348076211353316,
          2.098076211353316,
          2.348076211353316,
          2.848076211353316
         ],
         "yaxis": "y8"
        },
        {
         "fill": "toself",
         "fillcolor": "rgb(209, 229, 240)",
         "hoverinfo": "text",
         "hoveron": "fills",
         "line": {
          "color": "black",
          "width": 0
         },
         "mode": "lines",
         "showlegend": false,
         "text": "[3, 52]",
         "type": "scatter",
         "x": [
          6.93301270189222,
          6.5,
          6.06698729810778,
          6.06698729810778,
          6.5,
          6.93301270189222,
          6.93301270189222
         ],
         "xaxis": "x8",
         "y": [
          3.714101615137755,
          3.964101615137755,
          3.714101615137755,
          3.214101615137755,
          2.964101615137755,
          3.214101615137755,
          3.714101615137755
         ],
         "yaxis": "y8"
        },
        {
         "fill": "toself",
         "fillcolor": "rgb(17, 70, 128)",
         "hoverinfo": "text",
         "hoveron": "fills",
         "line": {
          "color": "black",
          "width": 0
         },
         "mode": "lines",
         "showlegend": false,
         "text": "[54]",
         "type": "scatter",
         "x": [
          7.93301270189222,
          7.5,
          7.06698729810778,
          7.06698729810778,
          7.5,
          7.93301270189222,
          7.93301270189222
         ],
         "xaxis": "x8",
         "y": [
          0.24999999999999997,
          0.5,
          0.25000000000000017,
          -0.24999999999999986,
          -0.5,
          -0.24999999999999983,
          0.25
         ],
         "yaxis": "y8"
        },
        {
         "fill": "toself",
         "fillcolor": "rgb(158, 203, 225)",
         "hoverinfo": "text",
         "hoveron": "fills",
         "line": {
          "color": "black",
          "width": 0
         },
         "mode": "lines",
         "showlegend": false,
         "text": "[95]",
         "type": "scatter",
         "x": [
          8.433012701892219,
          8,
          7.56698729810778,
          7.56698729810778,
          8,
          8.433012701892219,
          8.433012701892219
         ],
         "xaxis": "x8",
         "y": [
          1.1160254037844386,
          1.3660254037844388,
          1.1160254037844388,
          0.6160254037844388,
          0.3660254037844387,
          0.6160254037844388,
          1.1160254037844388
         ],
         "yaxis": "y8"
        },
        {
         "fill": "toself",
         "fillcolor": "rgb(247, 245, 244)",
         "hoverinfo": "text",
         "hoveron": "fills",
         "line": {
          "color": "black",
          "width": 0
         },
         "mode": "lines",
         "showlegend": false,
         "text": "[0, 4]",
         "type": "scatter",
         "x": [
          7.93301270189222,
          7.5,
          7.06698729810778,
          7.06698729810778,
          7.5,
          7.93301270189222,
          7.93301270189222
         ],
         "xaxis": "x8",
         "y": [
          1.9820508075688774,
          2.2320508075688776,
          1.9820508075688776,
          1.4820508075688776,
          1.2320508075688774,
          1.4820508075688776,
          1.9820508075688774
         ],
         "yaxis": "y8"
        },
        {
         "fill": "toself",
         "fillcolor": "rgb(252, 211, 189)",
         "hoverinfo": "text",
         "hoveron": "fills",
         "line": {
          "color": "black",
          "width": 0
         },
         "mode": "lines",
         "showlegend": false,
         "text": "[]",
         "type": "scatter",
         "x": [
          8.433012701892219,
          8,
          7.56698729810778,
          7.56698729810778,
          8,
          8.433012701892219,
          8.433012701892219
         ],
         "xaxis": "x8",
         "y": [
          2.848076211353316,
          3.098076211353316,
          2.848076211353316,
          2.348076211353316,
          2.098076211353316,
          2.348076211353316,
          2.848076211353316
         ],
         "yaxis": "y8"
        },
        {
         "fill": "toself",
         "fillcolor": "rgb(156, 202, 225)",
         "hoverinfo": "text",
         "hoveron": "fills",
         "line": {
          "color": "black",
          "width": 0
         },
         "mode": "lines",
         "showlegend": false,
         "text": "[79]",
         "type": "scatter",
         "x": [
          7.93301270189222,
          7.5,
          7.06698729810778,
          7.06698729810778,
          7.5,
          7.93301270189222,
          7.93301270189222
         ],
         "xaxis": "x8",
         "y": [
          3.714101615137755,
          3.964101615137755,
          3.714101615137755,
          3.214101615137755,
          2.964101615137755,
          3.214101615137755,
          3.714101615137755
         ],
         "yaxis": "y8"
        },
        {
         "fill": "toself",
         "fillcolor": "rgb(28, 93, 159)",
         "hoverinfo": "text",
         "hoveron": "fills",
         "line": {
          "color": "black",
          "width": 0
         },
         "mode": "lines",
         "showlegend": false,
         "text": "[96]",
         "type": "scatter",
         "x": [
          8.933012701892219,
          8.5,
          8.066987298107781,
          8.066987298107781,
          8.5,
          8.933012701892219,
          8.933012701892219
         ],
         "xaxis": "x8",
         "y": [
          0.24999999999999997,
          0.5,
          0.25000000000000017,
          -0.24999999999999986,
          -0.5,
          -0.24999999999999983,
          0.25
         ],
         "yaxis": "y8"
        },
        {
         "fill": "toself",
         "fillcolor": "rgb(183, 216, 233)",
         "hoverinfo": "text",
         "hoveron": "fills",
         "line": {
          "color": "black",
          "width": 0
         },
         "mode": "lines",
         "showlegend": false,
         "text": "[97]",
         "type": "scatter",
         "x": [
          9.433012701892219,
          9,
          8.566987298107781,
          8.566987298107781,
          9,
          9.433012701892219,
          9.433012701892219
         ],
         "xaxis": "x8",
         "y": [
          1.1160254037844386,
          1.3660254037844388,
          1.1160254037844388,
          0.6160254037844388,
          0.3660254037844387,
          0.6160254037844388,
          1.1160254037844388
         ],
         "yaxis": "y8"
        },
        {
         "fill": "toself",
         "fillcolor": "rgb(251, 205, 181)",
         "hoverinfo": "text",
         "hoveron": "fills",
         "line": {
          "color": "black",
          "width": 0
         },
         "mode": "lines",
         "showlegend": false,
         "text": "[2]",
         "type": "scatter",
         "x": [
          8.933012701892219,
          8.5,
          8.066987298107781,
          8.066987298107781,
          8.5,
          8.933012701892219,
          8.933012701892219
         ],
         "xaxis": "x8",
         "y": [
          1.9820508075688774,
          2.2320508075688776,
          1.9820508075688776,
          1.4820508075688776,
          1.2320508075688774,
          1.4820508075688776,
          1.9820508075688774
         ],
         "yaxis": "y8"
        },
        {
         "fill": "toself",
         "fillcolor": "rgb(190, 48, 54)",
         "hoverinfo": "text",
         "hoveron": "fills",
         "line": {
          "color": "black",
          "width": 0
         },
         "mode": "lines",
         "showlegend": false,
         "text": "[6, 8]",
         "type": "scatter",
         "x": [
          9.433012701892219,
          9,
          8.566987298107781,
          8.566987298107781,
          9,
          9.433012701892219,
          9.433012701892219
         ],
         "xaxis": "x8",
         "y": [
          2.848076211353316,
          3.098076211353316,
          2.848076211353316,
          2.348076211353316,
          2.098076211353316,
          2.348076211353316,
          2.848076211353316
         ],
         "yaxis": "y8"
        },
        {
         "fill": "toself",
         "fillcolor": "rgb(39, 110, 176)",
         "hoverinfo": "text",
         "hoveron": "fills",
         "line": {
          "color": "black",
          "width": 0
         },
         "mode": "lines",
         "showlegend": false,
         "text": "[25, 78, 80]",
         "type": "scatter",
         "x": [
          8.933012701892219,
          8.5,
          8.066987298107781,
          8.066987298107781,
          8.5,
          8.933012701892219,
          8.933012701892219
         ],
         "xaxis": "x8",
         "y": [
          3.714101615137755,
          3.964101615137755,
          3.714101615137755,
          3.214101615137755,
          2.964101615137755,
          3.214101615137755,
          3.714101615137755
         ],
         "yaxis": "y8"
        },
        {
         "marker": {
          "color": [
           0.9175258225257541,
           0.99999998887881
          ],
          "colorbar": {
           "len": 0.1,
           "thickness": 20,
           "x": 1,
           "y": 0.30000000000000004
          },
          "colorscale": [
           [
            0,
            "rgb(103,0,31)"
           ],
           [
            0.1,
            "rgb(178,24,43)"
           ],
           [
            0.2,
            "rgb(214,96,77)"
           ],
           [
            0.3,
            "rgb(244,165,130)"
           ],
           [
            0.4,
            "rgb(253,219,199)"
           ],
           [
            0.5,
            "rgb(247,247,247)"
           ],
           [
            0.6,
            "rgb(209,229,240)"
           ],
           [
            0.7,
            "rgb(146,197,222)"
           ],
           [
            0.8,
            "rgb(67,147,195)"
           ],
           [
            0.9,
            "rgb(33,102,172)"
           ],
           [
            1,
            "rgb(5,48,97)"
           ]
          ],
          "size": 0.001
         },
         "showlegend": false,
         "type": "scatter",
         "x": [
          0,
          0
         ],
         "xaxis": "x8",
         "y": [
          0,
          0
         ],
         "yaxis": "y8"
        },
        {
         "fill": "toself",
         "fillcolor": "rgb(103, 0, 31)",
         "hoverinfo": "text",
         "hoveron": "fills",
         "line": {
          "color": "black",
          "width": 0
         },
         "mode": "lines",
         "showlegend": false,
         "text": "[70, 74]",
         "type": "scatter",
         "x": [
          -0.06698729810778065,
          -0.49999999999999994,
          -0.9330127018922192,
          -0.9330127018922194,
          -0.5000000000000001,
          -0.06698729810778059,
          -0.0669872981077807
         ],
         "xaxis": "x9",
         "y": [
          0.24999999999999997,
          0.5,
          0.25000000000000017,
          -0.24999999999999986,
          -0.5,
          -0.24999999999999983,
          0.25
         ],
         "yaxis": "y9"
        },
        {
         "fill": "toself",
         "fillcolor": "rgb(193, 54, 57)",
         "hoverinfo": "text",
         "hoveron": "fills",
         "line": {
          "color": "black",
          "width": 0
         },
         "mode": "lines",
         "showlegend": false,
         "text": "[]",
         "type": "scatter",
         "x": [
          0.43301270189221935,
          3.061616997868383e-17,
          -0.43301270189221924,
          -0.4330127018922194,
          -9.184850993605148e-17,
          0.4330127018922194,
          0.4330127018922193
         ],
         "xaxis": "x9",
         "y": [
          1.1160254037844386,
          1.3660254037844388,
          1.1160254037844388,
          0.6160254037844388,
          0.3660254037844387,
          0.6160254037844388,
          1.1160254037844388
         ],
         "yaxis": "y9"
        },
        {
         "fill": "toself",
         "fillcolor": "rgb(125, 7, 34)",
         "hoverinfo": "text",
         "hoveron": "fills",
         "line": {
          "color": "black",
          "width": 0
         },
         "mode": "lines",
         "showlegend": false,
         "text": "[37, 38, 42, 43, 44, 45, 46, 64, 92]",
         "type": "scatter",
         "x": [
          -0.06698729810778065,
          -0.49999999999999994,
          -0.9330127018922192,
          -0.9330127018922194,
          -0.5000000000000001,
          -0.06698729810778059,
          -0.0669872981077807
         ],
         "xaxis": "x9",
         "y": [
          1.9820508075688774,
          2.2320508075688776,
          1.9820508075688776,
          1.4820508075688776,
          1.2320508075688774,
          1.4820508075688776,
          1.9820508075688774
         ],
         "yaxis": "y9"
        },
        {
         "fill": "toself",
         "fillcolor": "rgb(229, 131, 104)",
         "hoverinfo": "text",
         "hoveron": "fills",
         "line": {
          "color": "black",
          "width": 0
         },
         "mode": "lines",
         "showlegend": false,
         "text": "[]",
         "type": "scatter",
         "x": [
          0.43301270189221935,
          3.061616997868383e-17,
          -0.43301270189221924,
          -0.4330127018922194,
          -9.184850993605148e-17,
          0.4330127018922194,
          0.4330127018922193
         ],
         "xaxis": "x9",
         "y": [
          2.848076211353316,
          3.098076211353316,
          2.848076211353316,
          2.348076211353316,
          2.098076211353316,
          2.348076211353316,
          2.848076211353316
         ],
         "yaxis": "y9"
        },
        {
         "fill": "toself",
         "fillcolor": "rgb(231, 136, 107)",
         "hoverinfo": "text",
         "hoveron": "fills",
         "line": {
          "color": "black",
          "width": 0
         },
         "mode": "lines",
         "showlegend": false,
         "text": "[36]",
         "type": "scatter",
         "x": [
          -0.06698729810778065,
          -0.49999999999999994,
          -0.9330127018922192,
          -0.9330127018922194,
          -0.5000000000000001,
          -0.06698729810778059,
          -0.0669872981077807
         ],
         "xaxis": "x9",
         "y": [
          3.714101615137755,
          3.964101615137755,
          3.714101615137755,
          3.214101615137755,
          2.964101615137755,
          3.214101615137755,
          3.714101615137755
         ],
         "yaxis": "y9"
        },
        {
         "fill": "toself",
         "fillcolor": "rgb(189, 46, 54)",
         "hoverinfo": "text",
         "hoveron": "fills",
         "line": {
          "color": "black",
          "width": 0
         },
         "mode": "lines",
         "showlegend": false,
         "text": "[72, 76]",
         "type": "scatter",
         "x": [
          0.9330127018922194,
          0.5,
          0.06698729810778076,
          0.06698729810778059,
          0.4999999999999999,
          0.9330127018922194,
          0.9330127018922193
         ],
         "xaxis": "x9",
         "y": [
          0.24999999999999997,
          0.5,
          0.25000000000000017,
          -0.24999999999999986,
          -0.5,
          -0.24999999999999983,
          0.25
         ],
         "yaxis": "y9"
        },
        {
         "fill": "toself",
         "fillcolor": "rgb(187, 43, 52)",
         "hoverinfo": "text",
         "hoveron": "fills",
         "line": {
          "color": "black",
          "width": 0
         },
         "mode": "lines",
         "showlegend": false,
         "text": "[71, 73]",
         "type": "scatter",
         "x": [
          1.4330127018922194,
          1,
          0.5669872981077808,
          0.5669872981077806,
          0.9999999999999999,
          1.4330127018922194,
          1.4330127018922192
         ],
         "xaxis": "x9",
         "y": [
          1.1160254037844386,
          1.3660254037844388,
          1.1160254037844388,
          0.6160254037844388,
          0.3660254037844387,
          0.6160254037844388,
          1.1160254037844388
         ],
         "yaxis": "y9"
        },
        {
         "fill": "toself",
         "fillcolor": "rgb(179, 26, 44)",
         "hoverinfo": "text",
         "hoveron": "fills",
         "line": {
          "color": "black",
          "width": 0
         },
         "mode": "lines",
         "showlegend": false,
         "text": "[27, 40, 88]",
         "type": "scatter",
         "x": [
          0.9330127018922194,
          0.5,
          0.06698729810778076,
          0.06698729810778059,
          0.4999999999999999,
          0.9330127018922194,
          0.9330127018922193
         ],
         "xaxis": "x9",
         "y": [
          1.9820508075688774,
          2.2320508075688776,
          1.9820508075688776,
          1.4820508075688776,
          1.2320508075688774,
          1.4820508075688776,
          1.9820508075688774
         ],
         "yaxis": "y9"
        },
        {
         "fill": "toself",
         "fillcolor": "rgb(183, 35, 48)",
         "hoverinfo": "text",
         "hoveron": "fills",
         "line": {
          "color": "black",
          "width": 0
         },
         "mode": "lines",
         "showlegend": false,
         "text": "[29, 53, 75, 77, 83, 85]",
         "type": "scatter",
         "x": [
          1.4330127018922194,
          1,
          0.5669872981077808,
          0.5669872981077806,
          0.9999999999999999,
          1.4330127018922194,
          1.4330127018922192
         ],
         "xaxis": "x9",
         "y": [
          2.848076211353316,
          3.098076211353316,
          2.848076211353316,
          2.348076211353316,
          2.098076211353316,
          2.348076211353316,
          2.848076211353316
         ],
         "yaxis": "y9"
        },
        {
         "fill": "toself",
         "fillcolor": "rgb(228, 128, 102)",
         "hoverinfo": "text",
         "hoveron": "fills",
         "line": {
          "color": "black",
          "width": 0
         },
         "mode": "lines",
         "showlegend": false,
         "text": "[63]",
         "type": "scatter",
         "x": [
          0.9330127018922194,
          0.5,
          0.06698729810778076,
          0.06698729810778059,
          0.4999999999999999,
          0.9330127018922194,
          0.9330127018922193
         ],
         "xaxis": "x9",
         "y": [
          3.714101615137755,
          3.964101615137755,
          3.714101615137755,
          3.214101615137755,
          2.964101615137755,
          3.214101615137755,
          3.714101615137755
         ],
         "yaxis": "y9"
        },
        {
         "fill": "toself",
         "fillcolor": "rgb(144, 13, 38)",
         "hoverinfo": "text",
         "hoveron": "fills",
         "line": {
          "color": "black",
          "width": 0
         },
         "mode": "lines",
         "showlegend": false,
         "text": "[]",
         "type": "scatter",
         "x": [
          1.9330127018922194,
          1.5,
          1.0669872981077808,
          1.0669872981077806,
          1.5,
          1.9330127018922194,
          1.9330127018922192
         ],
         "xaxis": "x9",
         "y": [
          0.24999999999999997,
          0.5,
          0.25000000000000017,
          -0.24999999999999986,
          -0.5,
          -0.24999999999999983,
          0.25
         ],
         "yaxis": "y9"
        },
        {
         "fill": "toself",
         "fillcolor": "rgb(145, 13, 38)",
         "hoverinfo": "text",
         "hoveron": "fills",
         "line": {
          "color": "black",
          "width": 0
         },
         "mode": "lines",
         "showlegend": false,
         "text": "[13, 14, 26, 59, 87, 89]",
         "type": "scatter",
         "x": [
          2.433012701892219,
          2,
          1.5669872981077808,
          1.5669872981077806,
          2,
          2.4330127018922196,
          2.433012701892219
         ],
         "xaxis": "x9",
         "y": [
          1.1160254037844386,
          1.3660254037844388,
          1.1160254037844388,
          0.6160254037844388,
          0.3660254037844387,
          0.6160254037844388,
          1.1160254037844388
         ],
         "yaxis": "y9"
        },
        {
         "fill": "toself",
         "fillcolor": "rgb(150, 15, 39)",
         "hoverinfo": "text",
         "hoveron": "fills",
         "line": {
          "color": "black",
          "width": 0
         },
         "mode": "lines",
         "showlegend": false,
         "text": "[12, 67, 82]",
         "type": "scatter",
         "x": [
          1.9330127018922194,
          1.5,
          1.0669872981077808,
          1.0669872981077806,
          1.5,
          1.9330127018922194,
          1.9330127018922192
         ],
         "xaxis": "x9",
         "y": [
          1.9820508075688774,
          2.2320508075688776,
          1.9820508075688776,
          1.4820508075688776,
          1.2320508075688774,
          1.4820508075688776,
          1.9820508075688774
         ],
         "yaxis": "y9"
        },
        {
         "fill": "toself",
         "fillcolor": "rgb(165, 20, 41)",
         "hoverinfo": "text",
         "hoveron": "fills",
         "line": {
          "color": "black",
          "width": 0
         },
         "mode": "lines",
         "showlegend": false,
         "text": "[28]",
         "type": "scatter",
         "x": [
          2.433012701892219,
          2,
          1.5669872981077808,
          1.5669872981077806,
          2,
          2.4330127018922196,
          2.433012701892219
         ],
         "xaxis": "x9",
         "y": [
          2.848076211353316,
          3.098076211353316,
          2.848076211353316,
          2.348076211353316,
          2.098076211353316,
          2.348076211353316,
          2.848076211353316
         ],
         "yaxis": "y9"
        },
        {
         "fill": "toself",
         "fillcolor": "rgb(153, 16, 39)",
         "hoverinfo": "text",
         "hoveron": "fills",
         "line": {
          "color": "black",
          "width": 0
         },
         "mode": "lines",
         "showlegend": false,
         "text": "[]",
         "type": "scatter",
         "x": [
          1.9330127018922194,
          1.5,
          1.0669872981077808,
          1.0669872981077806,
          1.5,
          1.9330127018922194,
          1.9330127018922192
         ],
         "xaxis": "x9",
         "y": [
          3.714101615137755,
          3.964101615137755,
          3.714101615137755,
          3.214101615137755,
          2.964101615137755,
          3.214101615137755,
          3.714101615137755
         ],
         "yaxis": "y9"
        },
        {
         "fill": "toself",
         "fillcolor": "rgb(127, 8, 35)",
         "hoverinfo": "text",
         "hoveron": "fills",
         "line": {
          "color": "black",
          "width": 0
         },
         "mode": "lines",
         "showlegend": false,
         "text": "[]",
         "type": "scatter",
         "x": [
          2.933012701892219,
          2.5,
          2.066987298107781,
          2.0669872981077804,
          2.5,
          2.9330127018922196,
          2.933012701892219
         ],
         "xaxis": "x9",
         "y": [
          0.24999999999999997,
          0.5,
          0.25000000000000017,
          -0.24999999999999986,
          -0.5,
          -0.24999999999999983,
          0.25
         ],
         "yaxis": "y9"
        },
        {
         "fill": "toself",
         "fillcolor": "rgb(159, 18, 40)",
         "hoverinfo": "text",
         "hoveron": "fills",
         "line": {
          "color": "black",
          "width": 0
         },
         "mode": "lines",
         "showlegend": false,
         "text": "[21, 61, 66, 86]",
         "type": "scatter",
         "x": [
          3.433012701892219,
          3,
          2.566987298107781,
          2.5669872981077804,
          3,
          3.4330127018922196,
          3.433012701892219
         ],
         "xaxis": "x9",
         "y": [
          1.1160254037844386,
          1.3660254037844388,
          1.1160254037844388,
          0.6160254037844388,
          0.3660254037844387,
          0.6160254037844388,
          1.1160254037844388
         ],
         "yaxis": "y9"
        },
        {
         "fill": "toself",
         "fillcolor": "rgb(152, 16, 39)",
         "hoverinfo": "text",
         "hoveron": "fills",
         "line": {
          "color": "black",
          "width": 0
         },
         "mode": "lines",
         "showlegend": false,
         "text": "[11, 22, 57, 69]",
         "type": "scatter",
         "x": [
          2.933012701892219,
          2.5,
          2.066987298107781,
          2.0669872981077804,
          2.5,
          2.9330127018922196,
          2.933012701892219
         ],
         "xaxis": "x9",
         "y": [
          1.9820508075688774,
          2.2320508075688776,
          1.9820508075688776,
          1.4820508075688776,
          1.2320508075688774,
          1.4820508075688776,
          1.9820508075688774
         ],
         "yaxis": "y9"
        },
        {
         "fill": "toself",
         "fillcolor": "rgb(194, 56, 58)",
         "hoverinfo": "text",
         "hoveron": "fills",
         "line": {
          "color": "black",
          "width": 0
         },
         "mode": "lines",
         "showlegend": false,
         "text": "[24, 90]",
         "type": "scatter",
         "x": [
          3.433012701892219,
          3,
          2.566987298107781,
          2.5669872981077804,
          3,
          3.4330127018922196,
          3.433012701892219
         ],
         "xaxis": "x9",
         "y": [
          2.848076211353316,
          3.098076211353316,
          2.848076211353316,
          2.348076211353316,
          2.098076211353316,
          2.348076211353316,
          2.848076211353316
         ],
         "yaxis": "y9"
        },
        {
         "fill": "toself",
         "fillcolor": "rgb(162, 19, 40)",
         "hoverinfo": "text",
         "hoveron": "fills",
         "line": {
          "color": "black",
          "width": 0
         },
         "mode": "lines",
         "showlegend": false,
         "text": "[68, 84]",
         "type": "scatter",
         "x": [
          2.933012701892219,
          2.5,
          2.066987298107781,
          2.0669872981077804,
          2.5,
          2.9330127018922196,
          2.933012701892219
         ],
         "xaxis": "x9",
         "y": [
          3.714101615137755,
          3.964101615137755,
          3.714101615137755,
          3.214101615137755,
          2.964101615137755,
          3.214101615137755,
          3.714101615137755
         ],
         "yaxis": "y9"
        },
        {
         "fill": "toself",
         "fillcolor": "rgb(149, 15, 38)",
         "hoverinfo": "text",
         "hoveron": "fills",
         "line": {
          "color": "black",
          "width": 0
         },
         "mode": "lines",
         "showlegend": false,
         "text": "[93]",
         "type": "scatter",
         "x": [
          3.933012701892219,
          3.5,
          3.066987298107781,
          3.0669872981077804,
          3.5,
          3.9330127018922196,
          3.933012701892219
         ],
         "xaxis": "x9",
         "y": [
          0.24999999999999997,
          0.5,
          0.25000000000000017,
          -0.24999999999999986,
          -0.5,
          -0.24999999999999983,
          0.25
         ],
         "yaxis": "y9"
        },
        {
         "fill": "toself",
         "fillcolor": "rgb(177, 24, 43)",
         "hoverinfo": "text",
         "hoveron": "fills",
         "line": {
          "color": "black",
          "width": 0
         },
         "mode": "lines",
         "showlegend": false,
         "text": "[10, 34, 65]",
         "type": "scatter",
         "x": [
          4.43301270189222,
          4,
          3.566987298107781,
          3.5669872981077804,
          4,
          4.43301270189222,
          4.43301270189222
         ],
         "xaxis": "x9",
         "y": [
          1.1160254037844386,
          1.3660254037844388,
          1.1160254037844388,
          0.6160254037844388,
          0.3660254037844387,
          0.6160254037844388,
          1.1160254037844388
         ],
         "yaxis": "y9"
        },
        {
         "fill": "toself",
         "fillcolor": "rgb(174, 23, 42)",
         "hoverinfo": "text",
         "hoveron": "fills",
         "line": {
          "color": "black",
          "width": 0
         },
         "mode": "lines",
         "showlegend": false,
         "text": "[31, 58, 91]",
         "type": "scatter",
         "x": [
          3.933012701892219,
          3.5,
          3.066987298107781,
          3.0669872981077804,
          3.5,
          3.9330127018922196,
          3.933012701892219
         ],
         "xaxis": "x9",
         "y": [
          1.9820508075688774,
          2.2320508075688776,
          1.9820508075688776,
          1.4820508075688776,
          1.2320508075688774,
          1.4820508075688776,
          1.9820508075688774
         ],
         "yaxis": "y9"
        },
        {
         "fill": "toself",
         "fillcolor": "rgb(201, 70, 65)",
         "hoverinfo": "text",
         "hoveron": "fills",
         "line": {
          "color": "black",
          "width": 0
         },
         "mode": "lines",
         "showlegend": false,
         "text": "[]",
         "type": "scatter",
         "x": [
          4.43301270189222,
          4,
          3.566987298107781,
          3.5669872981077804,
          4,
          4.43301270189222,
          4.43301270189222
         ],
         "xaxis": "x9",
         "y": [
          2.848076211353316,
          3.098076211353316,
          2.848076211353316,
          2.348076211353316,
          2.098076211353316,
          2.348076211353316,
          2.848076211353316
         ],
         "yaxis": "y9"
        },
        {
         "fill": "toself",
         "fillcolor": "rgb(187, 41, 51)",
         "hoverinfo": "text",
         "hoveron": "fills",
         "line": {
          "color": "black",
          "width": 0
         },
         "mode": "lines",
         "showlegend": false,
         "text": "[81]",
         "type": "scatter",
         "x": [
          3.933012701892219,
          3.5,
          3.066987298107781,
          3.0669872981077804,
          3.5,
          3.9330127018922196,
          3.933012701892219
         ],
         "xaxis": "x9",
         "y": [
          3.714101615137755,
          3.964101615137755,
          3.714101615137755,
          3.214101615137755,
          2.964101615137755,
          3.214101615137755,
          3.714101615137755
         ],
         "yaxis": "y9"
        },
        {
         "fill": "toself",
         "fillcolor": "rgb(147, 14, 38)",
         "hoverinfo": "text",
         "hoveron": "fills",
         "line": {
          "color": "black",
          "width": 0
         },
         "mode": "lines",
         "showlegend": false,
         "text": "[100]",
         "type": "scatter",
         "x": [
          4.93301270189222,
          4.5,
          4.06698729810778,
          4.06698729810778,
          4.5,
          4.93301270189222,
          4.93301270189222
         ],
         "xaxis": "x9",
         "y": [
          0.24999999999999997,
          0.5,
          0.25000000000000017,
          -0.24999999999999986,
          -0.5,
          -0.24999999999999983,
          0.25
         ],
         "yaxis": "y9"
        },
        {
         "fill": "toself",
         "fillcolor": "rgb(169, 21, 42)",
         "hoverinfo": "text",
         "hoveron": "fills",
         "line": {
          "color": "black",
          "width": 0
         },
         "mode": "lines",
         "showlegend": false,
         "text": "[15, 41]",
         "type": "scatter",
         "x": [
          5.43301270189222,
          5,
          4.56698729810778,
          4.56698729810778,
          5,
          5.43301270189222,
          5.43301270189222
         ],
         "xaxis": "x9",
         "y": [
          1.1160254037844386,
          1.3660254037844388,
          1.1160254037844388,
          0.6160254037844388,
          0.3660254037844387,
          0.6160254037844388,
          1.1160254037844388
         ],
         "yaxis": "y9"
        },
        {
         "fill": "toself",
         "fillcolor": "rgb(172, 22, 42)",
         "hoverinfo": "text",
         "hoveron": "fills",
         "line": {
          "color": "black",
          "width": 0
         },
         "mode": "lines",
         "showlegend": false,
         "text": "[16, 18, 60]",
         "type": "scatter",
         "x": [
          4.93301270189222,
          4.5,
          4.06698729810778,
          4.06698729810778,
          4.5,
          4.93301270189222,
          4.93301270189222
         ],
         "xaxis": "x9",
         "y": [
          1.9820508075688774,
          2.2320508075688776,
          1.9820508075688776,
          1.4820508075688776,
          1.2320508075688774,
          1.4820508075688776,
          1.9820508075688774
         ],
         "yaxis": "y9"
        },
        {
         "fill": "toself",
         "fillcolor": "rgb(205, 78, 68)",
         "hoverinfo": "text",
         "hoveron": "fills",
         "line": {
          "color": "black",
          "width": 0
         },
         "mode": "lines",
         "showlegend": false,
         "text": "[50]",
         "type": "scatter",
         "x": [
          5.43301270189222,
          5,
          4.56698729810778,
          4.56698729810778,
          5,
          5.43301270189222,
          5.43301270189222
         ],
         "xaxis": "x9",
         "y": [
          2.848076211353316,
          3.098076211353316,
          2.848076211353316,
          2.348076211353316,
          2.098076211353316,
          2.348076211353316,
          2.848076211353316
         ],
         "yaxis": "y9"
        },
        {
         "fill": "toself",
         "fillcolor": "rgb(183, 34, 48)",
         "hoverinfo": "text",
         "hoveron": "fills",
         "line": {
          "color": "black",
          "width": 0
         },
         "mode": "lines",
         "showlegend": false,
         "text": "[]",
         "type": "scatter",
         "x": [
          4.93301270189222,
          4.5,
          4.06698729810778,
          4.06698729810778,
          4.5,
          4.93301270189222,
          4.93301270189222
         ],
         "xaxis": "x9",
         "y": [
          3.714101615137755,
          3.964101615137755,
          3.714101615137755,
          3.214101615137755,
          2.964101615137755,
          3.214101615137755,
          3.714101615137755
         ],
         "yaxis": "y9"
        },
        {
         "fill": "toself",
         "fillcolor": "rgb(119, 5, 34)",
         "hoverinfo": "text",
         "hoveron": "fills",
         "line": {
          "color": "black",
          "width": 0
         },
         "mode": "lines",
         "showlegend": false,
         "text": "[17, 32, 33, 56, 94, 99]",
         "type": "scatter",
         "x": [
          5.93301270189222,
          5.5,
          5.06698729810778,
          5.06698729810778,
          5.5,
          5.93301270189222,
          5.93301270189222
         ],
         "xaxis": "x9",
         "y": [
          0.24999999999999997,
          0.5,
          0.25000000000000017,
          -0.24999999999999986,
          -0.5,
          -0.24999999999999983,
          0.25
         ],
         "yaxis": "y9"
        },
        {
         "fill": "toself",
         "fillcolor": "rgb(192, 51, 56)",
         "hoverinfo": "text",
         "hoveron": "fills",
         "line": {
          "color": "black",
          "width": 0
         },
         "mode": "lines",
         "showlegend": false,
         "text": "[20, 35, 48]",
         "type": "scatter",
         "x": [
          6.43301270189222,
          6,
          5.56698729810778,
          5.56698729810778,
          6,
          6.43301270189222,
          6.43301270189222
         ],
         "xaxis": "x9",
         "y": [
          1.1160254037844386,
          1.3660254037844388,
          1.1160254037844388,
          0.6160254037844388,
          0.3660254037844387,
          0.6160254037844388,
          1.1160254037844388
         ],
         "yaxis": "y9"
        },
        {
         "fill": "toself",
         "fillcolor": "rgb(198, 63, 61)",
         "hoverinfo": "text",
         "hoveron": "fills",
         "line": {
          "color": "black",
          "width": 0
         },
         "mode": "lines",
         "showlegend": false,
         "text": "[19, 23, 47]",
         "type": "scatter",
         "x": [
          5.93301270189222,
          5.5,
          5.06698729810778,
          5.06698729810778,
          5.5,
          5.93301270189222,
          5.93301270189222
         ],
         "xaxis": "x9",
         "y": [
          1.9820508075688774,
          2.2320508075688776,
          1.9820508075688776,
          1.4820508075688776,
          1.2320508075688774,
          1.4820508075688776,
          1.9820508075688774
         ],
         "yaxis": "y9"
        },
        {
         "fill": "toself",
         "fillcolor": "rgb(224, 118, 94)",
         "hoverinfo": "text",
         "hoveron": "fills",
         "line": {
          "color": "black",
          "width": 0
         },
         "mode": "lines",
         "showlegend": false,
         "text": "[1]",
         "type": "scatter",
         "x": [
          6.43301270189222,
          6,
          5.56698729810778,
          5.56698729810778,
          6,
          6.43301270189222,
          6.43301270189222
         ],
         "xaxis": "x9",
         "y": [
          2.848076211353316,
          3.098076211353316,
          2.848076211353316,
          2.348076211353316,
          2.098076211353316,
          2.348076211353316,
          2.848076211353316
         ],
         "yaxis": "y9"
        },
        {
         "fill": "toself",
         "fillcolor": "rgb(179, 25, 44)",
         "hoverinfo": "text",
         "hoveron": "fills",
         "line": {
          "color": "black",
          "width": 0
         },
         "mode": "lines",
         "showlegend": false,
         "text": "[]",
         "type": "scatter",
         "x": [
          5.93301270189222,
          5.5,
          5.06698729810778,
          5.06698729810778,
          5.5,
          5.93301270189222,
          5.93301270189222
         ],
         "xaxis": "x9",
         "y": [
          3.714101615137755,
          3.964101615137755,
          3.714101615137755,
          3.214101615137755,
          2.964101615137755,
          3.214101615137755,
          3.714101615137755
         ],
         "yaxis": "y9"
        },
        {
         "fill": "toself",
         "fillcolor": "rgb(170, 21, 42)",
         "hoverinfo": "text",
         "hoveron": "fills",
         "line": {
          "color": "black",
          "width": 0
         },
         "mode": "lines",
         "showlegend": false,
         "text": "[30, 39, 49, 62, 98, 101]",
         "type": "scatter",
         "x": [
          6.93301270189222,
          6.5,
          6.06698729810778,
          6.06698729810778,
          6.5,
          6.93301270189222,
          6.93301270189222
         ],
         "xaxis": "x9",
         "y": [
          0.24999999999999997,
          0.5,
          0.25000000000000017,
          -0.24999999999999986,
          -0.5,
          -0.24999999999999983,
          0.25
         ],
         "yaxis": "y9"
        },
        {
         "fill": "toself",
         "fillcolor": "rgb(253, 220, 201)",
         "hoverinfo": "text",
         "hoveron": "fills",
         "line": {
          "color": "black",
          "width": 0
         },
         "mode": "lines",
         "showlegend": false,
         "text": "[]",
         "type": "scatter",
         "x": [
          7.43301270189222,
          7,
          6.56698729810778,
          6.56698729810778,
          7,
          7.43301270189222,
          7.43301270189222
         ],
         "xaxis": "x9",
         "y": [
          1.1160254037844386,
          1.3660254037844388,
          1.1160254037844388,
          0.6160254037844388,
          0.3660254037844387,
          0.6160254037844388,
          1.1160254037844388
         ],
         "yaxis": "y9"
        },
        {
         "fill": "toself",
         "fillcolor": "rgb(244, 167, 132)",
         "hoverinfo": "text",
         "hoveron": "fills",
         "line": {
          "color": "black",
          "width": 0
         },
         "mode": "lines",
         "showlegend": false,
         "text": "[51, 55]",
         "type": "scatter",
         "x": [
          6.93301270189222,
          6.5,
          6.06698729810778,
          6.06698729810778,
          6.5,
          6.93301270189222,
          6.93301270189222
         ],
         "xaxis": "x9",
         "y": [
          1.9820508075688774,
          2.2320508075688776,
          1.9820508075688776,
          1.4820508075688776,
          1.2320508075688774,
          1.4820508075688776,
          1.9820508075688774
         ],
         "yaxis": "y9"
        },
        {
         "fill": "toself",
         "fillcolor": "rgb(251, 231, 219)",
         "hoverinfo": "text",
         "hoveron": "fills",
         "line": {
          "color": "black",
          "width": 0
         },
         "mode": "lines",
         "showlegend": false,
         "text": "[5, 7, 9]",
         "type": "scatter",
         "x": [
          7.43301270189222,
          7,
          6.56698729810778,
          6.56698729810778,
          7,
          7.43301270189222,
          7.43301270189222
         ],
         "xaxis": "x9",
         "y": [
          2.848076211353316,
          3.098076211353316,
          2.848076211353316,
          2.348076211353316,
          2.098076211353316,
          2.348076211353316,
          2.848076211353316
         ],
         "yaxis": "y9"
        },
        {
         "fill": "toself",
         "fillcolor": "rgb(204, 76, 68)",
         "hoverinfo": "text",
         "hoveron": "fills",
         "line": {
          "color": "black",
          "width": 0
         },
         "mode": "lines",
         "showlegend": false,
         "text": "[3, 52]",
         "type": "scatter",
         "x": [
          6.93301270189222,
          6.5,
          6.06698729810778,
          6.06698729810778,
          6.5,
          6.93301270189222,
          6.93301270189222
         ],
         "xaxis": "x9",
         "y": [
          3.714101615137755,
          3.964101615137755,
          3.714101615137755,
          3.214101615137755,
          2.964101615137755,
          3.214101615137755,
          3.714101615137755
         ],
         "yaxis": "y9"
        },
        {
         "fill": "toself",
         "fillcolor": "rgb(233, 240, 244)",
         "hoverinfo": "text",
         "hoveron": "fills",
         "line": {
          "color": "black",
          "width": 0
         },
         "mode": "lines",
         "showlegend": false,
         "text": "[54]",
         "type": "scatter",
         "x": [
          7.93301270189222,
          7.5,
          7.06698729810778,
          7.06698729810778,
          7.5,
          7.93301270189222,
          7.93301270189222
         ],
         "xaxis": "x9",
         "y": [
          0.24999999999999997,
          0.5,
          0.25000000000000017,
          -0.24999999999999986,
          -0.5,
          -0.24999999999999983,
          0.25
         ],
         "yaxis": "y9"
        },
        {
         "fill": "toself",
         "fillcolor": "rgb(5, 48, 97)",
         "hoverinfo": "text",
         "hoveron": "fills",
         "line": {
          "color": "black",
          "width": 0
         },
         "mode": "lines",
         "showlegend": false,
         "text": "[95]",
         "type": "scatter",
         "x": [
          8.433012701892219,
          8,
          7.56698729810778,
          7.56698729810778,
          8,
          8.433012701892219,
          8.433012701892219
         ],
         "xaxis": "x9",
         "y": [
          1.1160254037844386,
          1.3660254037844388,
          1.1160254037844388,
          0.6160254037844388,
          0.3660254037844387,
          0.6160254037844388,
          1.1160254037844388
         ],
         "yaxis": "y9"
        },
        {
         "fill": "toself",
         "fillcolor": "rgb(216, 232, 241)",
         "hoverinfo": "text",
         "hoveron": "fills",
         "line": {
          "color": "black",
          "width": 0
         },
         "mode": "lines",
         "showlegend": false,
         "text": "[0, 4]",
         "type": "scatter",
         "x": [
          7.93301270189222,
          7.5,
          7.06698729810778,
          7.06698729810778,
          7.5,
          7.93301270189222,
          7.93301270189222
         ],
         "xaxis": "x9",
         "y": [
          1.9820508075688774,
          2.2320508075688776,
          1.9820508075688776,
          1.4820508075688776,
          1.2320508075688774,
          1.4820508075688776,
          1.9820508075688774
         ],
         "yaxis": "y9"
        },
        {
         "fill": "toself",
         "fillcolor": "rgb(212, 231, 241)",
         "hoverinfo": "text",
         "hoveron": "fills",
         "line": {
          "color": "black",
          "width": 0
         },
         "mode": "lines",
         "showlegend": false,
         "text": "[]",
         "type": "scatter",
         "x": [
          8.433012701892219,
          8,
          7.56698729810778,
          7.56698729810778,
          8,
          8.433012701892219,
          8.433012701892219
         ],
         "xaxis": "x9",
         "y": [
          2.848076211353316,
          3.098076211353316,
          2.848076211353316,
          2.348076211353316,
          2.098076211353316,
          2.348076211353316,
          2.848076211353316
         ],
         "yaxis": "y9"
        },
        {
         "fill": "toself",
         "fillcolor": "rgb(244, 165, 130)",
         "hoverinfo": "text",
         "hoveron": "fills",
         "line": {
          "color": "black",
          "width": 0
         },
         "mode": "lines",
         "showlegend": false,
         "text": "[79]",
         "type": "scatter",
         "x": [
          7.93301270189222,
          7.5,
          7.06698729810778,
          7.06698729810778,
          7.5,
          7.93301270189222,
          7.93301270189222
         ],
         "xaxis": "x9",
         "y": [
          3.714101615137755,
          3.964101615137755,
          3.714101615137755,
          3.214101615137755,
          2.964101615137755,
          3.214101615137755,
          3.714101615137755
         ],
         "yaxis": "y9"
        },
        {
         "fill": "toself",
         "fillcolor": "rgb(36, 106, 174)",
         "hoverinfo": "text",
         "hoveron": "fills",
         "line": {
          "color": "black",
          "width": 0
         },
         "mode": "lines",
         "showlegend": false,
         "text": "[96]",
         "type": "scatter",
         "x": [
          8.933012701892219,
          8.5,
          8.066987298107781,
          8.066987298107781,
          8.5,
          8.933012701892219,
          8.933012701892219
         ],
         "xaxis": "x9",
         "y": [
          0.24999999999999997,
          0.5,
          0.25000000000000017,
          -0.24999999999999986,
          -0.5,
          -0.24999999999999983,
          0.25
         ],
         "yaxis": "y9"
        },
        {
         "fill": "toself",
         "fillcolor": "rgb(195, 222, 236)",
         "hoverinfo": "text",
         "hoveron": "fills",
         "line": {
          "color": "black",
          "width": 0
         },
         "mode": "lines",
         "showlegend": false,
         "text": "[97]",
         "type": "scatter",
         "x": [
          9.433012701892219,
          9,
          8.566987298107781,
          8.566987298107781,
          9,
          9.433012701892219,
          9.433012701892219
         ],
         "xaxis": "x9",
         "y": [
          1.1160254037844386,
          1.3660254037844388,
          1.1160254037844388,
          0.6160254037844388,
          0.3660254037844387,
          0.6160254037844388,
          1.1160254037844388
         ],
         "yaxis": "y9"
        },
        {
         "fill": "toself",
         "fillcolor": "rgb(140, 193, 220)",
         "hoverinfo": "text",
         "hoveron": "fills",
         "line": {
          "color": "black",
          "width": 0
         },
         "mode": "lines",
         "showlegend": false,
         "text": "[2]",
         "type": "scatter",
         "x": [
          8.933012701892219,
          8.5,
          8.066987298107781,
          8.066987298107781,
          8.5,
          8.933012701892219,
          8.933012701892219
         ],
         "xaxis": "x9",
         "y": [
          1.9820508075688774,
          2.2320508075688776,
          1.9820508075688776,
          1.4820508075688776,
          1.2320508075688774,
          1.4820508075688776,
          1.9820508075688774
         ],
         "yaxis": "y9"
        },
        {
         "fill": "toself",
         "fillcolor": "rgb(249, 196, 170)",
         "hoverinfo": "text",
         "hoveron": "fills",
         "line": {
          "color": "black",
          "width": 0
         },
         "mode": "lines",
         "showlegend": false,
         "text": "[6, 8]",
         "type": "scatter",
         "x": [
          9.433012701892219,
          9,
          8.566987298107781,
          8.566987298107781,
          9,
          9.433012701892219,
          9.433012701892219
         ],
         "xaxis": "x9",
         "y": [
          2.848076211353316,
          3.098076211353316,
          2.848076211353316,
          2.348076211353316,
          2.098076211353316,
          2.348076211353316,
          2.848076211353316
         ],
         "yaxis": "y9"
        },
        {
         "fill": "toself",
         "fillcolor": "rgb(244, 166, 132)",
         "hoverinfo": "text",
         "hoveron": "fills",
         "line": {
          "color": "black",
          "width": 0
         },
         "mode": "lines",
         "showlegend": false,
         "text": "[25, 78, 80]",
         "type": "scatter",
         "x": [
          8.933012701892219,
          8.5,
          8.066987298107781,
          8.066987298107781,
          8.5,
          8.933012701892219,
          8.933012701892219
         ],
         "xaxis": "x9",
         "y": [
          3.714101615137755,
          3.964101615137755,
          3.714101615137755,
          3.214101615137755,
          2.964101615137755,
          3.214101615137755,
          3.714101615137755
         ],
         "yaxis": "y9"
        },
        {
         "marker": {
          "color": [
           0.07076683231335859,
           1
          ],
          "colorbar": {
           "len": 0.1,
           "thickness": 20,
           "x": -0.15,
           "y": 0.09999999999999998
          },
          "colorscale": [
           [
            0,
            "rgb(103,0,31)"
           ],
           [
            0.1,
            "rgb(178,24,43)"
           ],
           [
            0.2,
            "rgb(214,96,77)"
           ],
           [
            0.3,
            "rgb(244,165,130)"
           ],
           [
            0.4,
            "rgb(253,219,199)"
           ],
           [
            0.5,
            "rgb(247,247,247)"
           ],
           [
            0.6,
            "rgb(209,229,240)"
           ],
           [
            0.7,
            "rgb(146,197,222)"
           ],
           [
            0.8,
            "rgb(67,147,195)"
           ],
           [
            0.9,
            "rgb(33,102,172)"
           ],
           [
            1,
            "rgb(5,48,97)"
           ]
          ],
          "size": 0.001
         },
         "showlegend": false,
         "type": "scatter",
         "x": [
          0,
          0
         ],
         "xaxis": "x9",
         "y": [
          0,
          0
         ],
         "yaxis": "y9"
        },
        {
         "fill": "toself",
         "fillcolor": "rgb(214, 39, 40)",
         "hoverinfo": "text",
         "hoveron": "fills",
         "line": {
          "width": 0
         },
         "mode": "lines",
         "showlegend": false,
         "text": "70,74",
         "type": "scatter",
         "x": [
          -0.06698729810778065,
          -0.49999999999999994,
          -0.9330127018922192,
          -0.9330127018922194,
          -0.5000000000000001,
          -0.06698729810778059,
          -0.0669872981077807
         ],
         "xaxis": "x10",
         "y": [
          0.24999999999999997,
          0.5,
          0.25000000000000017,
          -0.24999999999999986,
          -0.5,
          -0.24999999999999983,
          0.25
         ],
         "yaxis": "y10"
        },
        {
         "hoverinfo": "none",
         "marker": {
          "color": "black"
         },
         "mode": "text",
         "showlegend": false,
         "text": "70,74",
         "textfont": {
          "color": "black",
          "size": 6
         },
         "type": "scatter",
         "x": [
          -0.5
         ],
         "xaxis": "x10",
         "y": [
          5.551115123125783e-17
         ],
         "yaxis": "y10"
        },
        {
         "fill": "toself",
         "fillcolor": "rgb(214, 39, 40)",
         "hoverinfo": "text",
         "hoveron": "fills",
         "line": {
          "width": 0
         },
         "mode": "lines",
         "showlegend": false,
         "text": "",
         "type": "scatter",
         "x": [
          0.43301270189221935,
          3.061616997868383e-17,
          -0.43301270189221924,
          -0.4330127018922194,
          -9.184850993605148e-17,
          0.4330127018922194,
          0.4330127018922193
         ],
         "xaxis": "x10",
         "y": [
          1.1160254037844386,
          1.3660254037844388,
          1.1160254037844388,
          0.6160254037844388,
          0.3660254037844387,
          0.6160254037844388,
          1.1160254037844388
         ],
         "yaxis": "y10"
        },
        {
         "hoverinfo": "none",
         "marker": {
          "color": "black"
         },
         "mode": "text",
         "showlegend": false,
         "text": "",
         "textfont": {
          "color": "black",
          "size": 6
         },
         "type": "scatter",
         "x": [
          -2.7755575615628914e-17
         ],
         "xaxis": "x10",
         "y": [
          0.8660254037844387
         ],
         "yaxis": "y10"
        },
        {
         "fill": "toself",
         "fillcolor": "rgb(214, 39, 40)",
         "hoverinfo": "text",
         "hoveron": "fills",
         "line": {
          "width": 0
         },
         "mode": "lines",
         "showlegend": false,
         "text": "37,38,42<br>43,44,45<br>46,64,92",
         "type": "scatter",
         "x": [
          -0.06698729810778065,
          -0.49999999999999994,
          -0.9330127018922192,
          -0.9330127018922194,
          -0.5000000000000001,
          -0.06698729810778059,
          -0.0669872981077807
         ],
         "xaxis": "x10",
         "y": [
          1.9820508075688774,
          2.2320508075688776,
          1.9820508075688776,
          1.4820508075688776,
          1.2320508075688774,
          1.4820508075688776,
          1.9820508075688774
         ],
         "yaxis": "y10"
        },
        {
         "hoverinfo": "none",
         "marker": {
          "color": "black"
         },
         "mode": "text",
         "showlegend": false,
         "text": "37,38,42<br>43,44,45<br>46,64,92",
         "textfont": {
          "color": "black",
          "size": 6
         },
         "type": "scatter",
         "x": [
          -0.5
         ],
         "xaxis": "x10",
         "y": [
          1.7320508075688776
         ],
         "yaxis": "y10"
        },
        {
         "fill": "toself",
         "fillcolor": "rgb(214, 39, 40)",
         "hoverinfo": "text",
         "hoveron": "fills",
         "line": {
          "width": 0
         },
         "mode": "lines",
         "showlegend": false,
         "text": "",
         "type": "scatter",
         "x": [
          0.43301270189221935,
          3.061616997868383e-17,
          -0.43301270189221924,
          -0.4330127018922194,
          -9.184850993605148e-17,
          0.4330127018922194,
          0.4330127018922193
         ],
         "xaxis": "x10",
         "y": [
          2.848076211353316,
          3.098076211353316,
          2.848076211353316,
          2.348076211353316,
          2.098076211353316,
          2.348076211353316,
          2.848076211353316
         ],
         "yaxis": "y10"
        },
        {
         "hoverinfo": "none",
         "marker": {
          "color": "black"
         },
         "mode": "text",
         "showlegend": false,
         "text": "",
         "textfont": {
          "color": "black",
          "size": 6
         },
         "type": "scatter",
         "x": [
          -2.7755575615628914e-17
         ],
         "xaxis": "x10",
         "y": [
          2.598076211353316
         ],
         "yaxis": "y10"
        },
        {
         "fill": "toself",
         "fillcolor": "rgb(214, 39, 40)",
         "hoverinfo": "text",
         "hoveron": "fills",
         "line": {
          "width": 0
         },
         "mode": "lines",
         "showlegend": false,
         "text": "36",
         "type": "scatter",
         "x": [
          -0.06698729810778065,
          -0.49999999999999994,
          -0.9330127018922192,
          -0.9330127018922194,
          -0.5000000000000001,
          -0.06698729810778059,
          -0.0669872981077807
         ],
         "xaxis": "x10",
         "y": [
          3.714101615137755,
          3.964101615137755,
          3.714101615137755,
          3.214101615137755,
          2.964101615137755,
          3.214101615137755,
          3.714101615137755
         ],
         "yaxis": "y10"
        },
        {
         "hoverinfo": "none",
         "marker": {
          "color": "black"
         },
         "mode": "text",
         "showlegend": false,
         "text": "36",
         "textfont": {
          "color": "black",
          "size": 6
         },
         "type": "scatter",
         "x": [
          -0.5
         ],
         "xaxis": "x10",
         "y": [
          3.464101615137755
         ],
         "yaxis": "y10"
        },
        {
         "fill": "toself",
         "fillcolor": "rgb(214, 39, 40)",
         "hoverinfo": "text",
         "hoveron": "fills",
         "line": {
          "width": 0
         },
         "mode": "lines",
         "showlegend": false,
         "text": "72,76",
         "type": "scatter",
         "x": [
          0.9330127018922194,
          0.5,
          0.06698729810778076,
          0.06698729810778059,
          0.4999999999999999,
          0.9330127018922194,
          0.9330127018922193
         ],
         "xaxis": "x10",
         "y": [
          0.24999999999999997,
          0.5,
          0.25000000000000017,
          -0.24999999999999986,
          -0.5,
          -0.24999999999999983,
          0.25
         ],
         "yaxis": "y10"
        },
        {
         "hoverinfo": "none",
         "marker": {
          "color": "black"
         },
         "mode": "text",
         "showlegend": false,
         "text": "72,76",
         "textfont": {
          "color": "black",
          "size": 6
         },
         "type": "scatter",
         "x": [
          0.5
         ],
         "xaxis": "x10",
         "y": [
          5.551115123125783e-17
         ],
         "yaxis": "y10"
        },
        {
         "fill": "toself",
         "fillcolor": "rgb(214, 39, 40)",
         "hoverinfo": "text",
         "hoveron": "fills",
         "line": {
          "width": 0
         },
         "mode": "lines",
         "showlegend": false,
         "text": "71,73",
         "type": "scatter",
         "x": [
          1.4330127018922194,
          1,
          0.5669872981077808,
          0.5669872981077806,
          0.9999999999999999,
          1.4330127018922194,
          1.4330127018922192
         ],
         "xaxis": "x10",
         "y": [
          1.1160254037844386,
          1.3660254037844388,
          1.1160254037844388,
          0.6160254037844388,
          0.3660254037844387,
          0.6160254037844388,
          1.1160254037844388
         ],
         "yaxis": "y10"
        },
        {
         "hoverinfo": "none",
         "marker": {
          "color": "black"
         },
         "mode": "text",
         "showlegend": false,
         "text": "71,73",
         "textfont": {
          "color": "black",
          "size": 6
         },
         "type": "scatter",
         "x": [
          1
         ],
         "xaxis": "x10",
         "y": [
          0.8660254037844387
         ],
         "yaxis": "y10"
        },
        {
         "fill": "toself",
         "fillcolor": "rgb(214, 39, 40)",
         "hoverinfo": "text",
         "hoveron": "fills",
         "line": {
          "width": 0
         },
         "mode": "lines",
         "showlegend": false,
         "text": "27,40,88",
         "type": "scatter",
         "x": [
          0.9330127018922194,
          0.5,
          0.06698729810778076,
          0.06698729810778059,
          0.4999999999999999,
          0.9330127018922194,
          0.9330127018922193
         ],
         "xaxis": "x10",
         "y": [
          1.9820508075688774,
          2.2320508075688776,
          1.9820508075688776,
          1.4820508075688776,
          1.2320508075688774,
          1.4820508075688776,
          1.9820508075688774
         ],
         "yaxis": "y10"
        },
        {
         "hoverinfo": "none",
         "marker": {
          "color": "black"
         },
         "mode": "text",
         "showlegend": false,
         "text": "27,40,88",
         "textfont": {
          "color": "black",
          "size": 6
         },
         "type": "scatter",
         "x": [
          0.5
         ],
         "xaxis": "x10",
         "y": [
          1.7320508075688776
         ],
         "yaxis": "y10"
        },
        {
         "fill": "toself",
         "fillcolor": "rgb(214, 39, 40)",
         "hoverinfo": "text",
         "hoveron": "fills",
         "line": {
          "width": 0
         },
         "mode": "lines",
         "showlegend": false,
         "text": "29,53,75<br>77,83,85",
         "type": "scatter",
         "x": [
          1.4330127018922194,
          1,
          0.5669872981077808,
          0.5669872981077806,
          0.9999999999999999,
          1.4330127018922194,
          1.4330127018922192
         ],
         "xaxis": "x10",
         "y": [
          2.848076211353316,
          3.098076211353316,
          2.848076211353316,
          2.348076211353316,
          2.098076211353316,
          2.348076211353316,
          2.848076211353316
         ],
         "yaxis": "y10"
        },
        {
         "hoverinfo": "none",
         "marker": {
          "color": "black"
         },
         "mode": "text",
         "showlegend": false,
         "text": "29,53,75<br>77,83,85",
         "textfont": {
          "color": "black",
          "size": 6
         },
         "type": "scatter",
         "x": [
          1
         ],
         "xaxis": "x10",
         "y": [
          2.598076211353316
         ],
         "yaxis": "y10"
        },
        {
         "fill": "toself",
         "fillcolor": "rgb(214, 39, 40)",
         "hoverinfo": "text",
         "hoveron": "fills",
         "line": {
          "width": 0
         },
         "mode": "lines",
         "showlegend": false,
         "text": "63",
         "type": "scatter",
         "x": [
          0.9330127018922194,
          0.5,
          0.06698729810778076,
          0.06698729810778059,
          0.4999999999999999,
          0.9330127018922194,
          0.9330127018922193
         ],
         "xaxis": "x10",
         "y": [
          3.714101615137755,
          3.964101615137755,
          3.714101615137755,
          3.214101615137755,
          2.964101615137755,
          3.214101615137755,
          3.714101615137755
         ],
         "yaxis": "y10"
        },
        {
         "hoverinfo": "none",
         "marker": {
          "color": "black"
         },
         "mode": "text",
         "showlegend": false,
         "text": "63",
         "textfont": {
          "color": "black",
          "size": 6
         },
         "type": "scatter",
         "x": [
          0.5
         ],
         "xaxis": "x10",
         "y": [
          3.464101615137755
         ],
         "yaxis": "y10"
        },
        {
         "fill": "toself",
         "fillcolor": "rgb(214, 39, 40)",
         "hoverinfo": "text",
         "hoveron": "fills",
         "line": {
          "width": 0
         },
         "mode": "lines",
         "showlegend": false,
         "text": "",
         "type": "scatter",
         "x": [
          1.9330127018922194,
          1.5,
          1.0669872981077808,
          1.0669872981077806,
          1.5,
          1.9330127018922194,
          1.9330127018922192
         ],
         "xaxis": "x10",
         "y": [
          0.24999999999999997,
          0.5,
          0.25000000000000017,
          -0.24999999999999986,
          -0.5,
          -0.24999999999999983,
          0.25
         ],
         "yaxis": "y10"
        },
        {
         "hoverinfo": "none",
         "marker": {
          "color": "black"
         },
         "mode": "text",
         "showlegend": false,
         "text": "",
         "textfont": {
          "color": "black",
          "size": 6
         },
         "type": "scatter",
         "x": [
          1.5
         ],
         "xaxis": "x10",
         "y": [
          5.551115123125783e-17
         ],
         "yaxis": "y10"
        },
        {
         "fill": "toself",
         "fillcolor": "rgb(214, 39, 40)",
         "hoverinfo": "text",
         "hoveron": "fills",
         "line": {
          "width": 0
         },
         "mode": "lines",
         "showlegend": false,
         "text": "13,14,26<br>59,87,89",
         "type": "scatter",
         "x": [
          2.433012701892219,
          2,
          1.5669872981077808,
          1.5669872981077806,
          2,
          2.4330127018922196,
          2.433012701892219
         ],
         "xaxis": "x10",
         "y": [
          1.1160254037844386,
          1.3660254037844388,
          1.1160254037844388,
          0.6160254037844388,
          0.3660254037844387,
          0.6160254037844388,
          1.1160254037844388
         ],
         "yaxis": "y10"
        },
        {
         "hoverinfo": "none",
         "marker": {
          "color": "black"
         },
         "mode": "text",
         "showlegend": false,
         "text": "13,14,26<br>59,87,89",
         "textfont": {
          "color": "black",
          "size": 6
         },
         "type": "scatter",
         "x": [
          2
         ],
         "xaxis": "x10",
         "y": [
          0.8660254037844387
         ],
         "yaxis": "y10"
        },
        {
         "fill": "toself",
         "fillcolor": "rgb(214, 39, 40)",
         "hoverinfo": "text",
         "hoveron": "fills",
         "line": {
          "width": 0
         },
         "mode": "lines",
         "showlegend": false,
         "text": "12,67,82",
         "type": "scatter",
         "x": [
          1.9330127018922194,
          1.5,
          1.0669872981077808,
          1.0669872981077806,
          1.5,
          1.9330127018922194,
          1.9330127018922192
         ],
         "xaxis": "x10",
         "y": [
          1.9820508075688774,
          2.2320508075688776,
          1.9820508075688776,
          1.4820508075688776,
          1.2320508075688774,
          1.4820508075688776,
          1.9820508075688774
         ],
         "yaxis": "y10"
        },
        {
         "hoverinfo": "none",
         "marker": {
          "color": "black"
         },
         "mode": "text",
         "showlegend": false,
         "text": "12,67,82",
         "textfont": {
          "color": "black",
          "size": 6
         },
         "type": "scatter",
         "x": [
          1.5
         ],
         "xaxis": "x10",
         "y": [
          1.7320508075688776
         ],
         "yaxis": "y10"
        },
        {
         "fill": "toself",
         "fillcolor": "rgb(214, 39, 40)",
         "hoverinfo": "text",
         "hoveron": "fills",
         "line": {
          "width": 0
         },
         "mode": "lines",
         "showlegend": false,
         "text": "28",
         "type": "scatter",
         "x": [
          2.433012701892219,
          2,
          1.5669872981077808,
          1.5669872981077806,
          2,
          2.4330127018922196,
          2.433012701892219
         ],
         "xaxis": "x10",
         "y": [
          2.848076211353316,
          3.098076211353316,
          2.848076211353316,
          2.348076211353316,
          2.098076211353316,
          2.348076211353316,
          2.848076211353316
         ],
         "yaxis": "y10"
        },
        {
         "hoverinfo": "none",
         "marker": {
          "color": "black"
         },
         "mode": "text",
         "showlegend": false,
         "text": "28",
         "textfont": {
          "color": "black",
          "size": 6
         },
         "type": "scatter",
         "x": [
          2
         ],
         "xaxis": "x10",
         "y": [
          2.598076211353316
         ],
         "yaxis": "y10"
        },
        {
         "fill": "toself",
         "fillcolor": "rgb(214, 39, 40)",
         "hoverinfo": "text",
         "hoveron": "fills",
         "line": {
          "width": 0
         },
         "mode": "lines",
         "showlegend": false,
         "text": "",
         "type": "scatter",
         "x": [
          1.9330127018922194,
          1.5,
          1.0669872981077808,
          1.0669872981077806,
          1.5,
          1.9330127018922194,
          1.9330127018922192
         ],
         "xaxis": "x10",
         "y": [
          3.714101615137755,
          3.964101615137755,
          3.714101615137755,
          3.214101615137755,
          2.964101615137755,
          3.214101615137755,
          3.714101615137755
         ],
         "yaxis": "y10"
        },
        {
         "hoverinfo": "none",
         "marker": {
          "color": "black"
         },
         "mode": "text",
         "showlegend": false,
         "text": "",
         "textfont": {
          "color": "black",
          "size": 6
         },
         "type": "scatter",
         "x": [
          1.5
         ],
         "xaxis": "x10",
         "y": [
          3.464101615137755
         ],
         "yaxis": "y10"
        },
        {
         "fill": "toself",
         "fillcolor": "rgb(214, 39, 40)",
         "hoverinfo": "text",
         "hoveron": "fills",
         "line": {
          "width": 0
         },
         "mode": "lines",
         "showlegend": false,
         "text": "",
         "type": "scatter",
         "x": [
          2.933012701892219,
          2.5,
          2.066987298107781,
          2.0669872981077804,
          2.5,
          2.9330127018922196,
          2.933012701892219
         ],
         "xaxis": "x10",
         "y": [
          0.24999999999999997,
          0.5,
          0.25000000000000017,
          -0.24999999999999986,
          -0.5,
          -0.24999999999999983,
          0.25
         ],
         "yaxis": "y10"
        },
        {
         "hoverinfo": "none",
         "marker": {
          "color": "black"
         },
         "mode": "text",
         "showlegend": false,
         "text": "",
         "textfont": {
          "color": "black",
          "size": 6
         },
         "type": "scatter",
         "x": [
          2.5
         ],
         "xaxis": "x10",
         "y": [
          5.551115123125783e-17
         ],
         "yaxis": "y10"
        },
        {
         "fill": "toself",
         "fillcolor": "rgb(148, 103, 189)",
         "hoverinfo": "text",
         "hoveron": "fills",
         "line": {
          "width": 0
         },
         "mode": "lines",
         "showlegend": false,
         "text": "21,61,66<br>86",
         "type": "scatter",
         "x": [
          3.433012701892219,
          3,
          2.566987298107781,
          2.5669872981077804,
          3,
          3.4330127018922196,
          3.433012701892219
         ],
         "xaxis": "x10",
         "y": [
          1.1160254037844386,
          1.3660254037844388,
          1.1160254037844388,
          0.6160254037844388,
          0.3660254037844387,
          0.6160254037844388,
          1.1160254037844388
         ],
         "yaxis": "y10"
        },
        {
         "hoverinfo": "none",
         "marker": {
          "color": "black"
         },
         "mode": "text",
         "showlegend": false,
         "text": "21,61,66<br>86",
         "textfont": {
          "color": "black",
          "size": 6
         },
         "type": "scatter",
         "x": [
          3
         ],
         "xaxis": "x10",
         "y": [
          0.8660254037844387
         ],
         "yaxis": "y10"
        },
        {
         "fill": "toself",
         "fillcolor": "rgb(214, 39, 40)",
         "hoverinfo": "text",
         "hoveron": "fills",
         "line": {
          "width": 0
         },
         "mode": "lines",
         "showlegend": false,
         "text": "11,22,57<br>69",
         "type": "scatter",
         "x": [
          2.933012701892219,
          2.5,
          2.066987298107781,
          2.0669872981077804,
          2.5,
          2.9330127018922196,
          2.933012701892219
         ],
         "xaxis": "x10",
         "y": [
          1.9820508075688774,
          2.2320508075688776,
          1.9820508075688776,
          1.4820508075688776,
          1.2320508075688774,
          1.4820508075688776,
          1.9820508075688774
         ],
         "yaxis": "y10"
        },
        {
         "hoverinfo": "none",
         "marker": {
          "color": "black"
         },
         "mode": "text",
         "showlegend": false,
         "text": "11,22,57<br>69",
         "textfont": {
          "color": "black",
          "size": 6
         },
         "type": "scatter",
         "x": [
          2.5
         ],
         "xaxis": "x10",
         "y": [
          1.7320508075688776
         ],
         "yaxis": "y10"
        },
        {
         "fill": "toself",
         "fillcolor": "rgb(214, 39, 40)",
         "hoverinfo": "text",
         "hoveron": "fills",
         "line": {
          "width": 0
         },
         "mode": "lines",
         "showlegend": false,
         "text": "24,90",
         "type": "scatter",
         "x": [
          3.433012701892219,
          3,
          2.566987298107781,
          2.5669872981077804,
          3,
          3.4330127018922196,
          3.433012701892219
         ],
         "xaxis": "x10",
         "y": [
          2.848076211353316,
          3.098076211353316,
          2.848076211353316,
          2.348076211353316,
          2.098076211353316,
          2.348076211353316,
          2.848076211353316
         ],
         "yaxis": "y10"
        },
        {
         "hoverinfo": "none",
         "marker": {
          "color": "black"
         },
         "mode": "text",
         "showlegend": false,
         "text": "24,90",
         "textfont": {
          "color": "black",
          "size": 6
         },
         "type": "scatter",
         "x": [
          3
         ],
         "xaxis": "x10",
         "y": [
          2.598076211353316
         ],
         "yaxis": "y10"
        },
        {
         "fill": "toself",
         "fillcolor": "rgb(214, 39, 40)",
         "hoverinfo": "text",
         "hoveron": "fills",
         "line": {
          "width": 0
         },
         "mode": "lines",
         "showlegend": false,
         "text": "68,84",
         "type": "scatter",
         "x": [
          2.933012701892219,
          2.5,
          2.066987298107781,
          2.0669872981077804,
          2.5,
          2.9330127018922196,
          2.933012701892219
         ],
         "xaxis": "x10",
         "y": [
          3.714101615137755,
          3.964101615137755,
          3.714101615137755,
          3.214101615137755,
          2.964101615137755,
          3.214101615137755,
          3.714101615137755
         ],
         "yaxis": "y10"
        },
        {
         "hoverinfo": "none",
         "marker": {
          "color": "black"
         },
         "mode": "text",
         "showlegend": false,
         "text": "68,84",
         "textfont": {
          "color": "black",
          "size": 6
         },
         "type": "scatter",
         "x": [
          2.5
         ],
         "xaxis": "x10",
         "y": [
          3.464101615137755
         ],
         "yaxis": "y10"
        },
        {
         "fill": "toself",
         "fillcolor": "rgb(148, 103, 189)",
         "hoverinfo": "text",
         "hoveron": "fills",
         "line": {
          "width": 0
         },
         "mode": "lines",
         "showlegend": false,
         "text": "93",
         "type": "scatter",
         "x": [
          3.933012701892219,
          3.5,
          3.066987298107781,
          3.0669872981077804,
          3.5,
          3.9330127018922196,
          3.933012701892219
         ],
         "xaxis": "x10",
         "y": [
          0.24999999999999997,
          0.5,
          0.25000000000000017,
          -0.24999999999999986,
          -0.5,
          -0.24999999999999983,
          0.25
         ],
         "yaxis": "y10"
        },
        {
         "hoverinfo": "none",
         "marker": {
          "color": "black"
         },
         "mode": "text",
         "showlegend": false,
         "text": "93",
         "textfont": {
          "color": "black",
          "size": 6
         },
         "type": "scatter",
         "x": [
          3.5
         ],
         "xaxis": "x10",
         "y": [
          5.551115123125783e-17
         ],
         "yaxis": "y10"
        },
        {
         "fill": "toself",
         "fillcolor": "rgb(148, 103, 189)",
         "hoverinfo": "text",
         "hoveron": "fills",
         "line": {
          "width": 0
         },
         "mode": "lines",
         "showlegend": false,
         "text": "10,34,65",
         "type": "scatter",
         "x": [
          4.43301270189222,
          4,
          3.566987298107781,
          3.5669872981077804,
          4,
          4.43301270189222,
          4.43301270189222
         ],
         "xaxis": "x10",
         "y": [
          1.1160254037844386,
          1.3660254037844388,
          1.1160254037844388,
          0.6160254037844388,
          0.3660254037844387,
          0.6160254037844388,
          1.1160254037844388
         ],
         "yaxis": "y10"
        },
        {
         "hoverinfo": "none",
         "marker": {
          "color": "black"
         },
         "mode": "text",
         "showlegend": false,
         "text": "10,34,65",
         "textfont": {
          "color": "black",
          "size": 6
         },
         "type": "scatter",
         "x": [
          4
         ],
         "xaxis": "x10",
         "y": [
          0.8660254037844387
         ],
         "yaxis": "y10"
        },
        {
         "fill": "toself",
         "fillcolor": "rgb(148, 103, 189)",
         "hoverinfo": "text",
         "hoveron": "fills",
         "line": {
          "width": 0
         },
         "mode": "lines",
         "showlegend": false,
         "text": "31,58,91",
         "type": "scatter",
         "x": [
          3.933012701892219,
          3.5,
          3.066987298107781,
          3.0669872981077804,
          3.5,
          3.9330127018922196,
          3.933012701892219
         ],
         "xaxis": "x10",
         "y": [
          1.9820508075688774,
          2.2320508075688776,
          1.9820508075688776,
          1.4820508075688776,
          1.2320508075688774,
          1.4820508075688776,
          1.9820508075688774
         ],
         "yaxis": "y10"
        },
        {
         "hoverinfo": "none",
         "marker": {
          "color": "black"
         },
         "mode": "text",
         "showlegend": false,
         "text": "31,58,91",
         "textfont": {
          "color": "black",
          "size": 6
         },
         "type": "scatter",
         "x": [
          3.5
         ],
         "xaxis": "x10",
         "y": [
          1.7320508075688776
         ],
         "yaxis": "y10"
        },
        {
         "fill": "toself",
         "fillcolor": "rgb(148, 103, 189)",
         "hoverinfo": "text",
         "hoveron": "fills",
         "line": {
          "width": 0
         },
         "mode": "lines",
         "showlegend": false,
         "text": "",
         "type": "scatter",
         "x": [
          4.43301270189222,
          4,
          3.566987298107781,
          3.5669872981077804,
          4,
          4.43301270189222,
          4.43301270189222
         ],
         "xaxis": "x10",
         "y": [
          2.848076211353316,
          3.098076211353316,
          2.848076211353316,
          2.348076211353316,
          2.098076211353316,
          2.348076211353316,
          2.848076211353316
         ],
         "yaxis": "y10"
        },
        {
         "hoverinfo": "none",
         "marker": {
          "color": "black"
         },
         "mode": "text",
         "showlegend": false,
         "text": "",
         "textfont": {
          "color": "black",
          "size": 6
         },
         "type": "scatter",
         "x": [
          4
         ],
         "xaxis": "x10",
         "y": [
          2.598076211353316
         ],
         "yaxis": "y10"
        },
        {
         "fill": "toself",
         "fillcolor": "rgb(214, 39, 40)",
         "hoverinfo": "text",
         "hoveron": "fills",
         "line": {
          "width": 0
         },
         "mode": "lines",
         "showlegend": false,
         "text": "81",
         "type": "scatter",
         "x": [
          3.933012701892219,
          3.5,
          3.066987298107781,
          3.0669872981077804,
          3.5,
          3.9330127018922196,
          3.933012701892219
         ],
         "xaxis": "x10",
         "y": [
          3.714101615137755,
          3.964101615137755,
          3.714101615137755,
          3.214101615137755,
          2.964101615137755,
          3.214101615137755,
          3.714101615137755
         ],
         "yaxis": "y10"
        },
        {
         "hoverinfo": "none",
         "marker": {
          "color": "black"
         },
         "mode": "text",
         "showlegend": false,
         "text": "81",
         "textfont": {
          "color": "black",
          "size": 6
         },
         "type": "scatter",
         "x": [
          3.5
         ],
         "xaxis": "x10",
         "y": [
          3.464101615137755
         ],
         "yaxis": "y10"
        },
        {
         "fill": "toself",
         "fillcolor": "rgb(148, 103, 189)",
         "hoverinfo": "text",
         "hoveron": "fills",
         "line": {
          "width": 0
         },
         "mode": "lines",
         "showlegend": false,
         "text": "100",
         "type": "scatter",
         "x": [
          4.93301270189222,
          4.5,
          4.06698729810778,
          4.06698729810778,
          4.5,
          4.93301270189222,
          4.93301270189222
         ],
         "xaxis": "x10",
         "y": [
          0.24999999999999997,
          0.5,
          0.25000000000000017,
          -0.24999999999999986,
          -0.5,
          -0.24999999999999983,
          0.25
         ],
         "yaxis": "y10"
        },
        {
         "hoverinfo": "none",
         "marker": {
          "color": "black"
         },
         "mode": "text",
         "showlegend": false,
         "text": "100",
         "textfont": {
          "color": "black",
          "size": 6
         },
         "type": "scatter",
         "x": [
          4.5
         ],
         "xaxis": "x10",
         "y": [
          5.551115123125783e-17
         ],
         "yaxis": "y10"
        },
        {
         "fill": "toself",
         "fillcolor": "rgb(148, 103, 189)",
         "hoverinfo": "text",
         "hoveron": "fills",
         "line": {
          "width": 0
         },
         "mode": "lines",
         "showlegend": false,
         "text": "15,41",
         "type": "scatter",
         "x": [
          5.43301270189222,
          5,
          4.56698729810778,
          4.56698729810778,
          5,
          5.43301270189222,
          5.43301270189222
         ],
         "xaxis": "x10",
         "y": [
          1.1160254037844386,
          1.3660254037844388,
          1.1160254037844388,
          0.6160254037844388,
          0.3660254037844387,
          0.6160254037844388,
          1.1160254037844388
         ],
         "yaxis": "y10"
        },
        {
         "hoverinfo": "none",
         "marker": {
          "color": "black"
         },
         "mode": "text",
         "showlegend": false,
         "text": "15,41",
         "textfont": {
          "color": "black",
          "size": 6
         },
         "type": "scatter",
         "x": [
          5
         ],
         "xaxis": "x10",
         "y": [
          0.8660254037844387
         ],
         "yaxis": "y10"
        },
        {
         "fill": "toself",
         "fillcolor": "rgb(148, 103, 189)",
         "hoverinfo": "text",
         "hoveron": "fills",
         "line": {
          "width": 0
         },
         "mode": "lines",
         "showlegend": false,
         "text": "16,18,60",
         "type": "scatter",
         "x": [
          4.93301270189222,
          4.5,
          4.06698729810778,
          4.06698729810778,
          4.5,
          4.93301270189222,
          4.93301270189222
         ],
         "xaxis": "x10",
         "y": [
          1.9820508075688774,
          2.2320508075688776,
          1.9820508075688776,
          1.4820508075688776,
          1.2320508075688774,
          1.4820508075688776,
          1.9820508075688774
         ],
         "yaxis": "y10"
        },
        {
         "hoverinfo": "none",
         "marker": {
          "color": "black"
         },
         "mode": "text",
         "showlegend": false,
         "text": "16,18,60",
         "textfont": {
          "color": "black",
          "size": 6
         },
         "type": "scatter",
         "x": [
          4.5
         ],
         "xaxis": "x10",
         "y": [
          1.7320508075688776
         ],
         "yaxis": "y10"
        },
        {
         "fill": "toself",
         "fillcolor": "rgb(148, 103, 189)",
         "hoverinfo": "text",
         "hoveron": "fills",
         "line": {
          "width": 0
         },
         "mode": "lines",
         "showlegend": false,
         "text": "50",
         "type": "scatter",
         "x": [
          5.43301270189222,
          5,
          4.56698729810778,
          4.56698729810778,
          5,
          5.43301270189222,
          5.43301270189222
         ],
         "xaxis": "x10",
         "y": [
          2.848076211353316,
          3.098076211353316,
          2.848076211353316,
          2.348076211353316,
          2.098076211353316,
          2.348076211353316,
          2.848076211353316
         ],
         "yaxis": "y10"
        },
        {
         "hoverinfo": "none",
         "marker": {
          "color": "black"
         },
         "mode": "text",
         "showlegend": false,
         "text": "50",
         "textfont": {
          "color": "black",
          "size": 6
         },
         "type": "scatter",
         "x": [
          5
         ],
         "xaxis": "x10",
         "y": [
          2.598076211353316
         ],
         "yaxis": "y10"
        },
        {
         "fill": "toself",
         "fillcolor": "rgb(148, 103, 189)",
         "hoverinfo": "text",
         "hoveron": "fills",
         "line": {
          "width": 0
         },
         "mode": "lines",
         "showlegend": false,
         "text": "",
         "type": "scatter",
         "x": [
          4.93301270189222,
          4.5,
          4.06698729810778,
          4.06698729810778,
          4.5,
          4.93301270189222,
          4.93301270189222
         ],
         "xaxis": "x10",
         "y": [
          3.714101615137755,
          3.964101615137755,
          3.714101615137755,
          3.214101615137755,
          2.964101615137755,
          3.214101615137755,
          3.714101615137755
         ],
         "yaxis": "y10"
        },
        {
         "hoverinfo": "none",
         "marker": {
          "color": "black"
         },
         "mode": "text",
         "showlegend": false,
         "text": "",
         "textfont": {
          "color": "black",
          "size": 6
         },
         "type": "scatter",
         "x": [
          4.5
         ],
         "xaxis": "x10",
         "y": [
          3.464101615137755
         ],
         "yaxis": "y10"
        },
        {
         "fill": "toself",
         "fillcolor": "rgb(148, 103, 189)",
         "hoverinfo": "text",
         "hoveron": "fills",
         "line": {
          "width": 0
         },
         "mode": "lines",
         "showlegend": false,
         "text": "17,32,33<br>56,94,99",
         "type": "scatter",
         "x": [
          5.93301270189222,
          5.5,
          5.06698729810778,
          5.06698729810778,
          5.5,
          5.93301270189222,
          5.93301270189222
         ],
         "xaxis": "x10",
         "y": [
          0.24999999999999997,
          0.5,
          0.25000000000000017,
          -0.24999999999999986,
          -0.5,
          -0.24999999999999983,
          0.25
         ],
         "yaxis": "y10"
        },
        {
         "hoverinfo": "none",
         "marker": {
          "color": "black"
         },
         "mode": "text",
         "showlegend": false,
         "text": "17,32,33<br>56,94,99",
         "textfont": {
          "color": "black",
          "size": 6
         },
         "type": "scatter",
         "x": [
          5.5
         ],
         "xaxis": "x10",
         "y": [
          5.551115123125783e-17
         ],
         "yaxis": "y10"
        },
        {
         "fill": "toself",
         "fillcolor": "rgb(148, 103, 189)",
         "hoverinfo": "text",
         "hoveron": "fills",
         "line": {
          "width": 0
         },
         "mode": "lines",
         "showlegend": false,
         "text": "20,35,48",
         "type": "scatter",
         "x": [
          6.43301270189222,
          6,
          5.56698729810778,
          5.56698729810778,
          6,
          6.43301270189222,
          6.43301270189222
         ],
         "xaxis": "x10",
         "y": [
          1.1160254037844386,
          1.3660254037844388,
          1.1160254037844388,
          0.6160254037844388,
          0.3660254037844387,
          0.6160254037844388,
          1.1160254037844388
         ],
         "yaxis": "y10"
        },
        {
         "hoverinfo": "none",
         "marker": {
          "color": "black"
         },
         "mode": "text",
         "showlegend": false,
         "text": "20,35,48",
         "textfont": {
          "color": "black",
          "size": 6
         },
         "type": "scatter",
         "x": [
          6
         ],
         "xaxis": "x10",
         "y": [
          0.8660254037844387
         ],
         "yaxis": "y10"
        },
        {
         "fill": "toself",
         "fillcolor": "rgb(148, 103, 189)",
         "hoverinfo": "text",
         "hoveron": "fills",
         "line": {
          "width": 0
         },
         "mode": "lines",
         "showlegend": false,
         "text": "19,23,47",
         "type": "scatter",
         "x": [
          5.93301270189222,
          5.5,
          5.06698729810778,
          5.06698729810778,
          5.5,
          5.93301270189222,
          5.93301270189222
         ],
         "xaxis": "x10",
         "y": [
          1.9820508075688774,
          2.2320508075688776,
          1.9820508075688776,
          1.4820508075688776,
          1.2320508075688774,
          1.4820508075688776,
          1.9820508075688774
         ],
         "yaxis": "y10"
        },
        {
         "hoverinfo": "none",
         "marker": {
          "color": "black"
         },
         "mode": "text",
         "showlegend": false,
         "text": "19,23,47",
         "textfont": {
          "color": "black",
          "size": 6
         },
         "type": "scatter",
         "x": [
          5.5
         ],
         "xaxis": "x10",
         "y": [
          1.7320508075688776
         ],
         "yaxis": "y10"
        },
        {
         "fill": "toself",
         "fillcolor": "rgb(148, 103, 189)",
         "hoverinfo": "text",
         "hoveron": "fills",
         "line": {
          "width": 0
         },
         "mode": "lines",
         "showlegend": false,
         "text": "1",
         "type": "scatter",
         "x": [
          6.43301270189222,
          6,
          5.56698729810778,
          5.56698729810778,
          6,
          6.43301270189222,
          6.43301270189222
         ],
         "xaxis": "x10",
         "y": [
          2.848076211353316,
          3.098076211353316,
          2.848076211353316,
          2.348076211353316,
          2.098076211353316,
          2.348076211353316,
          2.848076211353316
         ],
         "yaxis": "y10"
        },
        {
         "hoverinfo": "none",
         "marker": {
          "color": "black"
         },
         "mode": "text",
         "showlegend": false,
         "text": "1",
         "textfont": {
          "color": "black",
          "size": 6
         },
         "type": "scatter",
         "x": [
          6
         ],
         "xaxis": "x10",
         "y": [
          2.598076211353316
         ],
         "yaxis": "y10"
        },
        {
         "fill": "toself",
         "fillcolor": "rgb(148, 103, 189)",
         "hoverinfo": "text",
         "hoveron": "fills",
         "line": {
          "width": 0
         },
         "mode": "lines",
         "showlegend": false,
         "text": "",
         "type": "scatter",
         "x": [
          5.93301270189222,
          5.5,
          5.06698729810778,
          5.06698729810778,
          5.5,
          5.93301270189222,
          5.93301270189222
         ],
         "xaxis": "x10",
         "y": [
          3.714101615137755,
          3.964101615137755,
          3.714101615137755,
          3.214101615137755,
          2.964101615137755,
          3.214101615137755,
          3.714101615137755
         ],
         "yaxis": "y10"
        },
        {
         "hoverinfo": "none",
         "marker": {
          "color": "black"
         },
         "mode": "text",
         "showlegend": false,
         "text": "",
         "textfont": {
          "color": "black",
          "size": 6
         },
         "type": "scatter",
         "x": [
          5.5
         ],
         "xaxis": "x10",
         "y": [
          3.464101615137755
         ],
         "yaxis": "y10"
        },
        {
         "fill": "toself",
         "fillcolor": "rgb(148, 103, 189)",
         "hoverinfo": "text",
         "hoveron": "fills",
         "line": {
          "width": 0
         },
         "mode": "lines",
         "showlegend": false,
         "text": "30,39,49<br>62,98,101",
         "type": "scatter",
         "x": [
          6.93301270189222,
          6.5,
          6.06698729810778,
          6.06698729810778,
          6.5,
          6.93301270189222,
          6.93301270189222
         ],
         "xaxis": "x10",
         "y": [
          0.24999999999999997,
          0.5,
          0.25000000000000017,
          -0.24999999999999986,
          -0.5,
          -0.24999999999999983,
          0.25
         ],
         "yaxis": "y10"
        },
        {
         "hoverinfo": "none",
         "marker": {
          "color": "black"
         },
         "mode": "text",
         "showlegend": false,
         "text": "30,39,49<br>62,98,101",
         "textfont": {
          "color": "black",
          "size": 6
         },
         "type": "scatter",
         "x": [
          6.5
         ],
         "xaxis": "x10",
         "y": [
          5.551115123125783e-17
         ],
         "yaxis": "y10"
        },
        {
         "fill": "toself",
         "fillcolor": "rgb(148, 103, 189)",
         "hoverinfo": "text",
         "hoveron": "fills",
         "line": {
          "width": 0
         },
         "mode": "lines",
         "showlegend": false,
         "text": "",
         "type": "scatter",
         "x": [
          7.43301270189222,
          7,
          6.56698729810778,
          6.56698729810778,
          7,
          7.43301270189222,
          7.43301270189222
         ],
         "xaxis": "x10",
         "y": [
          1.1160254037844386,
          1.3660254037844388,
          1.1160254037844388,
          0.6160254037844388,
          0.3660254037844387,
          0.6160254037844388,
          1.1160254037844388
         ],
         "yaxis": "y10"
        },
        {
         "hoverinfo": "none",
         "marker": {
          "color": "black"
         },
         "mode": "text",
         "showlegend": false,
         "text": "",
         "textfont": {
          "color": "black",
          "size": 6
         },
         "type": "scatter",
         "x": [
          7
         ],
         "xaxis": "x10",
         "y": [
          0.8660254037844387
         ],
         "yaxis": "y10"
        },
        {
         "fill": "toself",
         "fillcolor": "rgb(148, 103, 189)",
         "hoverinfo": "text",
         "hoveron": "fills",
         "line": {
          "width": 0
         },
         "mode": "lines",
         "showlegend": false,
         "text": "51,55",
         "type": "scatter",
         "x": [
          6.93301270189222,
          6.5,
          6.06698729810778,
          6.06698729810778,
          6.5,
          6.93301270189222,
          6.93301270189222
         ],
         "xaxis": "x10",
         "y": [
          1.9820508075688774,
          2.2320508075688776,
          1.9820508075688776,
          1.4820508075688776,
          1.2320508075688774,
          1.4820508075688776,
          1.9820508075688774
         ],
         "yaxis": "y10"
        },
        {
         "hoverinfo": "none",
         "marker": {
          "color": "black"
         },
         "mode": "text",
         "showlegend": false,
         "text": "51,55",
         "textfont": {
          "color": "black",
          "size": 6
         },
         "type": "scatter",
         "x": [
          6.5
         ],
         "xaxis": "x10",
         "y": [
          1.7320508075688776
         ],
         "yaxis": "y10"
        },
        {
         "fill": "toself",
         "fillcolor": "rgb(148, 103, 189)",
         "hoverinfo": "text",
         "hoveron": "fills",
         "line": {
          "width": 0
         },
         "mode": "lines",
         "showlegend": false,
         "text": "5,7,9",
         "type": "scatter",
         "x": [
          7.43301270189222,
          7,
          6.56698729810778,
          6.56698729810778,
          7,
          7.43301270189222,
          7.43301270189222
         ],
         "xaxis": "x10",
         "y": [
          2.848076211353316,
          3.098076211353316,
          2.848076211353316,
          2.348076211353316,
          2.098076211353316,
          2.348076211353316,
          2.848076211353316
         ],
         "yaxis": "y10"
        },
        {
         "hoverinfo": "none",
         "marker": {
          "color": "black"
         },
         "mode": "text",
         "showlegend": false,
         "text": "5,7,9",
         "textfont": {
          "color": "black",
          "size": 6
         },
         "type": "scatter",
         "x": [
          7
         ],
         "xaxis": "x10",
         "y": [
          2.598076211353316
         ],
         "yaxis": "y10"
        },
        {
         "fill": "toself",
         "fillcolor": "rgb(148, 103, 189)",
         "hoverinfo": "text",
         "hoveron": "fills",
         "line": {
          "width": 0
         },
         "mode": "lines",
         "showlegend": false,
         "text": "3,52",
         "type": "scatter",
         "x": [
          6.93301270189222,
          6.5,
          6.06698729810778,
          6.06698729810778,
          6.5,
          6.93301270189222,
          6.93301270189222
         ],
         "xaxis": "x10",
         "y": [
          3.714101615137755,
          3.964101615137755,
          3.714101615137755,
          3.214101615137755,
          2.964101615137755,
          3.214101615137755,
          3.714101615137755
         ],
         "yaxis": "y10"
        },
        {
         "hoverinfo": "none",
         "marker": {
          "color": "black"
         },
         "mode": "text",
         "showlegend": false,
         "text": "3,52",
         "textfont": {
          "color": "black",
          "size": 6
         },
         "type": "scatter",
         "x": [
          6.5
         ],
         "xaxis": "x10",
         "y": [
          3.464101615137755
         ],
         "yaxis": "y10"
        },
        {
         "fill": "toself",
         "fillcolor": "rgb(148, 103, 189)",
         "hoverinfo": "text",
         "hoveron": "fills",
         "line": {
          "width": 0
         },
         "mode": "lines",
         "showlegend": false,
         "text": "54",
         "type": "scatter",
         "x": [
          7.93301270189222,
          7.5,
          7.06698729810778,
          7.06698729810778,
          7.5,
          7.93301270189222,
          7.93301270189222
         ],
         "xaxis": "x10",
         "y": [
          0.24999999999999997,
          0.5,
          0.25000000000000017,
          -0.24999999999999986,
          -0.5,
          -0.24999999999999983,
          0.25
         ],
         "yaxis": "y10"
        },
        {
         "hoverinfo": "none",
         "marker": {
          "color": "black"
         },
         "mode": "text",
         "showlegend": false,
         "text": "54",
         "textfont": {
          "color": "black",
          "size": 6
         },
         "type": "scatter",
         "x": [
          7.5
         ],
         "xaxis": "x10",
         "y": [
          5.551115123125783e-17
         ],
         "yaxis": "y10"
        },
        {
         "fill": "toself",
         "fillcolor": "rgb(255, 127, 14)",
         "hoverinfo": "text",
         "hoveron": "fills",
         "line": {
          "width": 0
         },
         "mode": "lines",
         "showlegend": false,
         "text": "95",
         "type": "scatter",
         "x": [
          8.433012701892219,
          8,
          7.56698729810778,
          7.56698729810778,
          8,
          8.433012701892219,
          8.433012701892219
         ],
         "xaxis": "x10",
         "y": [
          1.1160254037844386,
          1.3660254037844388,
          1.1160254037844388,
          0.6160254037844388,
          0.3660254037844387,
          0.6160254037844388,
          1.1160254037844388
         ],
         "yaxis": "y10"
        },
        {
         "hoverinfo": "none",
         "marker": {
          "color": "black"
         },
         "mode": "text",
         "showlegend": false,
         "text": "95",
         "textfont": {
          "color": "black",
          "size": 6
         },
         "type": "scatter",
         "x": [
          8
         ],
         "xaxis": "x10",
         "y": [
          0.8660254037844387
         ],
         "yaxis": "y10"
        },
        {
         "fill": "toself",
         "fillcolor": "rgb(148, 103, 189)",
         "hoverinfo": "text",
         "hoveron": "fills",
         "line": {
          "width": 0
         },
         "mode": "lines",
         "showlegend": false,
         "text": "0,4",
         "type": "scatter",
         "x": [
          7.93301270189222,
          7.5,
          7.06698729810778,
          7.06698729810778,
          7.5,
          7.93301270189222,
          7.93301270189222
         ],
         "xaxis": "x10",
         "y": [
          1.9820508075688774,
          2.2320508075688776,
          1.9820508075688776,
          1.4820508075688776,
          1.2320508075688774,
          1.4820508075688776,
          1.9820508075688774
         ],
         "yaxis": "y10"
        },
        {
         "hoverinfo": "none",
         "marker": {
          "color": "black"
         },
         "mode": "text",
         "showlegend": false,
         "text": "0,4",
         "textfont": {
          "color": "black",
          "size": 6
         },
         "type": "scatter",
         "x": [
          7.5
         ],
         "xaxis": "x10",
         "y": [
          1.7320508075688776
         ],
         "yaxis": "y10"
        },
        {
         "fill": "toself",
         "fillcolor": "rgb(140, 86, 75)",
         "hoverinfo": "text",
         "hoveron": "fills",
         "line": {
          "width": 0
         },
         "mode": "lines",
         "showlegend": false,
         "text": "",
         "type": "scatter",
         "x": [
          8.433012701892219,
          8,
          7.56698729810778,
          7.56698729810778,
          8,
          8.433012701892219,
          8.433012701892219
         ],
         "xaxis": "x10",
         "y": [
          2.848076211353316,
          3.098076211353316,
          2.848076211353316,
          2.348076211353316,
          2.098076211353316,
          2.348076211353316,
          2.848076211353316
         ],
         "yaxis": "y10"
        },
        {
         "hoverinfo": "none",
         "marker": {
          "color": "black"
         },
         "mode": "text",
         "showlegend": false,
         "text": "",
         "textfont": {
          "color": "black",
          "size": 6
         },
         "type": "scatter",
         "x": [
          8
         ],
         "xaxis": "x10",
         "y": [
          2.598076211353316
         ],
         "yaxis": "y10"
        },
        {
         "fill": "toself",
         "fillcolor": "rgb(140, 86, 75)",
         "hoverinfo": "text",
         "hoveron": "fills",
         "line": {
          "width": 0
         },
         "mode": "lines",
         "showlegend": false,
         "text": "79",
         "type": "scatter",
         "x": [
          7.93301270189222,
          7.5,
          7.06698729810778,
          7.06698729810778,
          7.5,
          7.93301270189222,
          7.93301270189222
         ],
         "xaxis": "x10",
         "y": [
          3.714101615137755,
          3.964101615137755,
          3.714101615137755,
          3.214101615137755,
          2.964101615137755,
          3.214101615137755,
          3.714101615137755
         ],
         "yaxis": "y10"
        },
        {
         "hoverinfo": "none",
         "marker": {
          "color": "black"
         },
         "mode": "text",
         "showlegend": false,
         "text": "79",
         "textfont": {
          "color": "black",
          "size": 6
         },
         "type": "scatter",
         "x": [
          7.5
         ],
         "xaxis": "x10",
         "y": [
          3.464101615137755
         ],
         "yaxis": "y10"
        },
        {
         "fill": "toself",
         "fillcolor": "rgb(44, 160, 44)",
         "hoverinfo": "text",
         "hoveron": "fills",
         "line": {
          "width": 0
         },
         "mode": "lines",
         "showlegend": false,
         "text": "96",
         "type": "scatter",
         "x": [
          8.933012701892219,
          8.5,
          8.066987298107781,
          8.066987298107781,
          8.5,
          8.933012701892219,
          8.933012701892219
         ],
         "xaxis": "x10",
         "y": [
          0.24999999999999997,
          0.5,
          0.25000000000000017,
          -0.24999999999999986,
          -0.5,
          -0.24999999999999983,
          0.25
         ],
         "yaxis": "y10"
        },
        {
         "hoverinfo": "none",
         "marker": {
          "color": "black"
         },
         "mode": "text",
         "showlegend": false,
         "text": "96",
         "textfont": {
          "color": "black",
          "size": 6
         },
         "type": "scatter",
         "x": [
          8.5
         ],
         "xaxis": "x10",
         "y": [
          5.551115123125783e-17
         ],
         "yaxis": "y10"
        },
        {
         "fill": "toself",
         "fillcolor": "rgb(255, 127, 14)",
         "hoverinfo": "text",
         "hoveron": "fills",
         "line": {
          "width": 0
         },
         "mode": "lines",
         "showlegend": false,
         "text": "97",
         "type": "scatter",
         "x": [
          9.433012701892219,
          9,
          8.566987298107781,
          8.566987298107781,
          9,
          9.433012701892219,
          9.433012701892219
         ],
         "xaxis": "x10",
         "y": [
          1.1160254037844386,
          1.3660254037844388,
          1.1160254037844388,
          0.6160254037844388,
          0.3660254037844387,
          0.6160254037844388,
          1.1160254037844388
         ],
         "yaxis": "y10"
        },
        {
         "hoverinfo": "none",
         "marker": {
          "color": "black"
         },
         "mode": "text",
         "showlegend": false,
         "text": "97",
         "textfont": {
          "color": "black",
          "size": 6
         },
         "type": "scatter",
         "x": [
          9
         ],
         "xaxis": "x10",
         "y": [
          0.8660254037844387
         ],
         "yaxis": "y10"
        },
        {
         "fill": "toself",
         "fillcolor": "rgb(140, 86, 75)",
         "hoverinfo": "text",
         "hoveron": "fills",
         "line": {
          "width": 0
         },
         "mode": "lines",
         "showlegend": false,
         "text": "2",
         "type": "scatter",
         "x": [
          8.933012701892219,
          8.5,
          8.066987298107781,
          8.066987298107781,
          8.5,
          8.933012701892219,
          8.933012701892219
         ],
         "xaxis": "x10",
         "y": [
          1.9820508075688774,
          2.2320508075688776,
          1.9820508075688776,
          1.4820508075688776,
          1.2320508075688774,
          1.4820508075688776,
          1.9820508075688774
         ],
         "yaxis": "y10"
        },
        {
         "hoverinfo": "none",
         "marker": {
          "color": "black"
         },
         "mode": "text",
         "showlegend": false,
         "text": "2",
         "textfont": {
          "color": "black",
          "size": 6
         },
         "type": "scatter",
         "x": [
          8.5
         ],
         "xaxis": "x10",
         "y": [
          1.7320508075688776
         ],
         "yaxis": "y10"
        },
        {
         "fill": "toself",
         "fillcolor": "rgb(140, 86, 75)",
         "hoverinfo": "text",
         "hoveron": "fills",
         "line": {
          "width": 0
         },
         "mode": "lines",
         "showlegend": false,
         "text": "6,8",
         "type": "scatter",
         "x": [
          9.433012701892219,
          9,
          8.566987298107781,
          8.566987298107781,
          9,
          9.433012701892219,
          9.433012701892219
         ],
         "xaxis": "x10",
         "y": [
          2.848076211353316,
          3.098076211353316,
          2.848076211353316,
          2.348076211353316,
          2.098076211353316,
          2.348076211353316,
          2.848076211353316
         ],
         "yaxis": "y10"
        },
        {
         "hoverinfo": "none",
         "marker": {
          "color": "black"
         },
         "mode": "text",
         "showlegend": false,
         "text": "6,8",
         "textfont": {
          "color": "black",
          "size": 6
         },
         "type": "scatter",
         "x": [
          9
         ],
         "xaxis": "x10",
         "y": [
          2.598076211353316
         ],
         "yaxis": "y10"
        },
        {
         "fill": "toself",
         "fillcolor": "rgb(140, 86, 75)",
         "hoverinfo": "text",
         "hoveron": "fills",
         "line": {
          "width": 0
         },
         "mode": "lines",
         "showlegend": false,
         "text": "25,78,80",
         "type": "scatter",
         "x": [
          8.933012701892219,
          8.5,
          8.066987298107781,
          8.066987298107781,
          8.5,
          8.933012701892219,
          8.933012701892219
         ],
         "xaxis": "x10",
         "y": [
          3.714101615137755,
          3.964101615137755,
          3.714101615137755,
          3.214101615137755,
          2.964101615137755,
          3.214101615137755,
          3.714101615137755
         ],
         "yaxis": "y10"
        },
        {
         "hoverinfo": "none",
         "marker": {
          "color": "black"
         },
         "mode": "text",
         "showlegend": false,
         "text": "25,78,80",
         "textfont": {
          "color": "black",
          "size": 6
         },
         "type": "scatter",
         "x": [
          8.5
         ],
         "xaxis": "x10",
         "y": [
          3.464101615137755
         ],
         "yaxis": "y10"
        },
        {
         "line": {
          "color": "black",
          "width": 2
         },
         "mode": "lines",
         "showlegend": false,
         "type": "scatter",
         "x": [
          8,
          7.499133974596216,
          7.499133974596216,
          8,
          8.5,
          9,
          9.500866025403784,
          9.500866025403784,
          9,
          8.5,
          8
         ],
         "xaxis": "x10",
         "y": [
          0.287675134594813,
          0.576850269189626,
          1.1552005383792516,
          1.4443756729740644,
          1.1557005383792516,
          1.4443756729740644,
          1.1552005383792516,
          0.576850269189626,
          0.287675134594813,
          0.5763502691896262,
          0.287675134594813
         ],
         "yaxis": "y10"
        },
        {
         "line": {
          "color": "black",
          "width": 2
         },
         "mode": "lines",
         "showlegend": false,
         "type": "scatter",
         "x": [
          9.000866025403784,
          8.5,
          7.999133974596216,
          7.999133974596216,
          8.5,
          9.000866025403784,
          9.000866025403784,
          9.000866025403784
         ],
         "xaxis": "x10",
         "y": [
          0.2891751345948128,
          0.5783502691896257,
          0.28917513459481303,
          -0.2891751345948127,
          -0.5783502691896257,
          -0.2891751345948127,
          0.28917513459481287,
          0.2891751345948128
         ],
         "yaxis": "y10"
        },
        {
         "line": {
          "color": "black",
          "width": 2
         },
         "mode": "lines",
         "showlegend": false,
         "type": "scatter",
         "x": [
          -0.5008660254037846,
          -0.5008660254037843,
          -1.0008660254037847,
          -1.0008660254037842,
          -0.5008660254037846,
          -0.5008660254037843,
          -1.0008660254037847,
          -1.0008660254037842,
          -0.49999999999999994,
          -3.284643949577509e-16,
          0.5,
          0.9999999999999997,
          1.5,
          1.9999999999999996,
          2.5,
          2.9999999999999996,
          3.5,
          4.000866025403784,
          4.000866025403784,
          3.500866025403784,
          3.5008660254037847,
          3.000866025403784,
          3.0008660254037847,
          2.500866025403784,
          2.5008660254037847,
          3.000866025403784,
          3.000866025403784,
          3.0008660254037847,
          2.5,
          2,
          1.5,
          1,
          0.4999999999999999,
          -1.9196377762233136e-19,
          -0.5000000000000001,
          -1.0008660254037847,
          -1.0008660254037842,
          -0.5008660254037846
         ],
         "xaxis": "x10",
         "y": [
          0.5778502691896257,
          1.1542005383792515,
          1.4428756729740648,
          2.0212259421636904,
          2.309901076758503,
          2.886251345948129,
          3.174926480542942,
          3.753276749732568,
          4.042451884327381,
          3.753776749732568,
          4.042451884327381,
          3.753776749732568,
          4.042451884327381,
          3.753776749732568,
          4.042451884327381,
          3.753776749732568,
          4.042451884327381,
          3.7532767497325676,
          3.174926480542942,
          2.886251345948129,
          2.308901076758503,
          2.02022594216369,
          1.4428756729740648,
          1.1542005383792515,
          0.5778502691896256,
          0.2891751345948128,
          0.28917513459481287,
          -0.2891751345948127,
          -0.5783502691896257,
          -0.2896751345948128,
          -0.5783502691896257,
          -0.2896751345948128,
          -0.5783502691896257,
          -0.28967513459481276,
          -0.5783502691896257,
          -0.2891751345948127,
          0.28917513459481303,
          0.5778502691896257
         ],
         "yaxis": "y10"
        },
        {
         "line": {
          "color": "black",
          "width": 2
         },
         "mode": "lines",
         "showlegend": false,
         "type": "scatter",
         "x": [
          2.4991339745962153,
          2.499133974596216,
          2.9991339745962153,
          2.999133974596216,
          3.4991339745962153,
          3.499133974596216,
          3.9991339745962153,
          3.999133974596216,
          4.5,
          5,
          5.5,
          6,
          6.5,
          7.000866025403784,
          7.000866025403784,
          7.500866025403784,
          7.500866025403784,
          8.000866025403784,
          8.000866025403784,
          7.500866025403784,
          7.500866025403784,
          8.000866025403784,
          8.000866025403784,
          7.5,
          7,
          6.5,
          6,
          5.5,
          5,
          4.5,
          4,
          3.5,
          2.9991339745962153,
          2.999133974596216,
          2.4991339745962153
         ],
         "xaxis": "x10",
         "y": [
          0.576850269189626,
          1.1552005383792516,
          1.4438756729740643,
          2.0212259421636904,
          2.309901076758503,
          2.887251345948129,
          3.1759264805429415,
          3.753276749732568,
          4.042451884327381,
          3.753776749732568,
          4.042451884327381,
          3.753776749732568,
          4.042451884327381,
          3.7532767497325676,
          3.175926480542942,
          2.887251345948129,
          2.3099010767585035,
          2.0212259421636904,
          1.4428756729740648,
          1.1542005383792515,
          0.5778502691896259,
          0.2891751345948128,
          -0.2891751345948127,
          -0.5783502691896257,
          -0.2896751345948126,
          -0.5783502691896257,
          -0.2896751345948126,
          -0.5783502691896257,
          -0.2896751345948126,
          -0.5783502691896257,
          -0.2896751345948127,
          -0.5783502691896257,
          -0.2891751345948127,
          0.28817513459481287,
          0.576850269189626
         ],
         "yaxis": "y10"
        },
        {
         "line": {
          "color": "black",
          "width": 2
         },
         "mode": "lines",
         "showlegend": false,
         "type": "scatter",
         "x": [
          9.000866025403784,
          8.5,
          7.999133974596216,
          7.999133974596216,
          7.499133974596216,
          7.499133974596216,
          6.999133974596216,
          6.999133974596216,
          7.5,
          8,
          8.5,
          9.000866025403784,
          9.000866025403784,
          9.500866025403784,
          9.500866025403784,
          9.000866025403784,
          9.000866025403784
         ],
         "xaxis": "x10",
         "y": [
          1.4428756729740648,
          1.1537005383792516,
          1.4428756729740648,
          2.02022594216369,
          2.308901076758503,
          2.886251345948129,
          3.174926480542942,
          3.753276749732568,
          4.042451884327381,
          3.753776749732568,
          4.042451884327381,
          3.7532767497325676,
          3.175926480542942,
          2.887251345948129,
          2.308901076758503,
          2.02022594216369,
          1.4428756729740648
         ],
         "yaxis": "y10"
        }
       ],
       "layout": {
        "annotations": [
         {
          "font": {
           "size": 16
          },
          "showarrow": false,
          "text": "pH",
          "x": 0.2375,
          "xanchor": "center",
          "xref": "paper",
          "y": 1,
          "yanchor": "bottom",
          "yref": "paper"
         },
         {
          "font": {
           "size": 16
          },
          "showarrow": false,
          "text": "Ca",
          "x": 0.7625,
          "xanchor": "center",
          "xref": "paper",
          "y": 1,
          "yanchor": "bottom",
          "yref": "paper"
         },
         {
          "font": {
           "size": 16
          },
          "showarrow": false,
          "text": "Mg",
          "x": 0.2375,
          "xanchor": "center",
          "xref": "paper",
          "y": 0.79,
          "yanchor": "bottom",
          "yref": "paper"
         },
         {
          "font": {
           "size": 16
          },
          "showarrow": false,
          "text": "Na",
          "x": 0.7625,
          "xanchor": "center",
          "xref": "paper",
          "y": 0.79,
          "yanchor": "bottom",
          "yref": "paper"
         },
         {
          "font": {
           "size": 16
          },
          "showarrow": false,
          "text": "K",
          "x": 0.2375,
          "xanchor": "center",
          "xref": "paper",
          "y": 0.5800000000000001,
          "yanchor": "bottom",
          "yref": "paper"
         },
         {
          "font": {
           "size": 16
          },
          "showarrow": false,
          "text": "HCO3",
          "x": 0.7625,
          "xanchor": "center",
          "xref": "paper",
          "y": 0.5800000000000001,
          "yanchor": "bottom",
          "yref": "paper"
         },
         {
          "font": {
           "size": 16
          },
          "showarrow": false,
          "text": "Cl",
          "x": 0.2375,
          "xanchor": "center",
          "xref": "paper",
          "y": 0.37,
          "yanchor": "bottom",
          "yref": "paper"
         },
         {
          "font": {
           "size": 16
          },
          "showarrow": false,
          "text": "SO4",
          "x": 0.7625,
          "xanchor": "center",
          "xref": "paper",
          "y": 0.37,
          "yanchor": "bottom",
          "yref": "paper"
         },
         {
          "font": {
           "size": 16
          },
          "showarrow": false,
          "text": "Umatrix",
          "x": 0.2375,
          "xanchor": "center",
          "xref": "paper",
          "y": 0.16,
          "yanchor": "bottom",
          "yref": "paper"
         },
         {
          "font": {
           "size": 16
          },
          "showarrow": false,
          "text": "Clusters and winning cells",
          "x": 0.7625,
          "xanchor": "center",
          "xref": "paper",
          "y": 0.16,
          "yanchor": "bottom",
          "yref": "paper"
         }
        ],
        "height": 1300,
        "template": {
         "data": {
          "bar": [
           {
            "error_x": {
             "color": "#2a3f5f"
            },
            "error_y": {
             "color": "#2a3f5f"
            },
            "marker": {
             "line": {
              "color": "white",
              "width": 0.5
             },
             "pattern": {
              "fillmode": "overlay",
              "size": 10,
              "solidity": 0.2
             }
            },
            "type": "bar"
           }
          ],
          "barpolar": [
           {
            "marker": {
             "line": {
              "color": "white",
              "width": 0.5
             },
             "pattern": {
              "fillmode": "overlay",
              "size": 10,
              "solidity": 0.2
             }
            },
            "type": "barpolar"
           }
          ],
          "carpet": [
           {
            "aaxis": {
             "endlinecolor": "#2a3f5f",
             "gridcolor": "#C8D4E3",
             "linecolor": "#C8D4E3",
             "minorgridcolor": "#C8D4E3",
             "startlinecolor": "#2a3f5f"
            },
            "baxis": {
             "endlinecolor": "#2a3f5f",
             "gridcolor": "#C8D4E3",
             "linecolor": "#C8D4E3",
             "minorgridcolor": "#C8D4E3",
             "startlinecolor": "#2a3f5f"
            },
            "type": "carpet"
           }
          ],
          "choropleth": [
           {
            "colorbar": {
             "outlinewidth": 0,
             "ticks": ""
            },
            "type": "choropleth"
           }
          ],
          "contour": [
           {
            "colorbar": {
             "outlinewidth": 0,
             "ticks": ""
            },
            "colorscale": [
             [
              0,
              "#0d0887"
             ],
             [
              0.1111111111111111,
              "#46039f"
             ],
             [
              0.2222222222222222,
              "#7201a8"
             ],
             [
              0.3333333333333333,
              "#9c179e"
             ],
             [
              0.4444444444444444,
              "#bd3786"
             ],
             [
              0.5555555555555556,
              "#d8576b"
             ],
             [
              0.6666666666666666,
              "#ed7953"
             ],
             [
              0.7777777777777778,
              "#fb9f3a"
             ],
             [
              0.8888888888888888,
              "#fdca26"
             ],
             [
              1,
              "#f0f921"
             ]
            ],
            "type": "contour"
           }
          ],
          "contourcarpet": [
           {
            "colorbar": {
             "outlinewidth": 0,
             "ticks": ""
            },
            "type": "contourcarpet"
           }
          ],
          "heatmap": [
           {
            "colorbar": {
             "outlinewidth": 0,
             "ticks": ""
            },
            "colorscale": [
             [
              0,
              "#0d0887"
             ],
             [
              0.1111111111111111,
              "#46039f"
             ],
             [
              0.2222222222222222,
              "#7201a8"
             ],
             [
              0.3333333333333333,
              "#9c179e"
             ],
             [
              0.4444444444444444,
              "#bd3786"
             ],
             [
              0.5555555555555556,
              "#d8576b"
             ],
             [
              0.6666666666666666,
              "#ed7953"
             ],
             [
              0.7777777777777778,
              "#fb9f3a"
             ],
             [
              0.8888888888888888,
              "#fdca26"
             ],
             [
              1,
              "#f0f921"
             ]
            ],
            "type": "heatmap"
           }
          ],
          "heatmapgl": [
           {
            "colorbar": {
             "outlinewidth": 0,
             "ticks": ""
            },
            "colorscale": [
             [
              0,
              "#0d0887"
             ],
             [
              0.1111111111111111,
              "#46039f"
             ],
             [
              0.2222222222222222,
              "#7201a8"
             ],
             [
              0.3333333333333333,
              "#9c179e"
             ],
             [
              0.4444444444444444,
              "#bd3786"
             ],
             [
              0.5555555555555556,
              "#d8576b"
             ],
             [
              0.6666666666666666,
              "#ed7953"
             ],
             [
              0.7777777777777778,
              "#fb9f3a"
             ],
             [
              0.8888888888888888,
              "#fdca26"
             ],
             [
              1,
              "#f0f921"
             ]
            ],
            "type": "heatmapgl"
           }
          ],
          "histogram": [
           {
            "marker": {
             "pattern": {
              "fillmode": "overlay",
              "size": 10,
              "solidity": 0.2
             }
            },
            "type": "histogram"
           }
          ],
          "histogram2d": [
           {
            "colorbar": {
             "outlinewidth": 0,
             "ticks": ""
            },
            "colorscale": [
             [
              0,
              "#0d0887"
             ],
             [
              0.1111111111111111,
              "#46039f"
             ],
             [
              0.2222222222222222,
              "#7201a8"
             ],
             [
              0.3333333333333333,
              "#9c179e"
             ],
             [
              0.4444444444444444,
              "#bd3786"
             ],
             [
              0.5555555555555556,
              "#d8576b"
             ],
             [
              0.6666666666666666,
              "#ed7953"
             ],
             [
              0.7777777777777778,
              "#fb9f3a"
             ],
             [
              0.8888888888888888,
              "#fdca26"
             ],
             [
              1,
              "#f0f921"
             ]
            ],
            "type": "histogram2d"
           }
          ],
          "histogram2dcontour": [
           {
            "colorbar": {
             "outlinewidth": 0,
             "ticks": ""
            },
            "colorscale": [
             [
              0,
              "#0d0887"
             ],
             [
              0.1111111111111111,
              "#46039f"
             ],
             [
              0.2222222222222222,
              "#7201a8"
             ],
             [
              0.3333333333333333,
              "#9c179e"
             ],
             [
              0.4444444444444444,
              "#bd3786"
             ],
             [
              0.5555555555555556,
              "#d8576b"
             ],
             [
              0.6666666666666666,
              "#ed7953"
             ],
             [
              0.7777777777777778,
              "#fb9f3a"
             ],
             [
              0.8888888888888888,
              "#fdca26"
             ],
             [
              1,
              "#f0f921"
             ]
            ],
            "type": "histogram2dcontour"
           }
          ],
          "mesh3d": [
           {
            "colorbar": {
             "outlinewidth": 0,
             "ticks": ""
            },
            "type": "mesh3d"
           }
          ],
          "parcoords": [
           {
            "line": {
             "colorbar": {
              "outlinewidth": 0,
              "ticks": ""
             }
            },
            "type": "parcoords"
           }
          ],
          "pie": [
           {
            "automargin": true,
            "type": "pie"
           }
          ],
          "scatter": [
           {
            "fillpattern": {
             "fillmode": "overlay",
             "size": 10,
             "solidity": 0.2
            },
            "type": "scatter"
           }
          ],
          "scatter3d": [
           {
            "line": {
             "colorbar": {
              "outlinewidth": 0,
              "ticks": ""
             }
            },
            "marker": {
             "colorbar": {
              "outlinewidth": 0,
              "ticks": ""
             }
            },
            "type": "scatter3d"
           }
          ],
          "scattercarpet": [
           {
            "marker": {
             "colorbar": {
              "outlinewidth": 0,
              "ticks": ""
             }
            },
            "type": "scattercarpet"
           }
          ],
          "scattergeo": [
           {
            "marker": {
             "colorbar": {
              "outlinewidth": 0,
              "ticks": ""
             }
            },
            "type": "scattergeo"
           }
          ],
          "scattergl": [
           {
            "marker": {
             "colorbar": {
              "outlinewidth": 0,
              "ticks": ""
             }
            },
            "type": "scattergl"
           }
          ],
          "scattermapbox": [
           {
            "marker": {
             "colorbar": {
              "outlinewidth": 0,
              "ticks": ""
             }
            },
            "type": "scattermapbox"
           }
          ],
          "scatterpolar": [
           {
            "marker": {
             "colorbar": {
              "outlinewidth": 0,
              "ticks": ""
             }
            },
            "type": "scatterpolar"
           }
          ],
          "scatterpolargl": [
           {
            "marker": {
             "colorbar": {
              "outlinewidth": 0,
              "ticks": ""
             }
            },
            "type": "scatterpolargl"
           }
          ],
          "scatterternary": [
           {
            "marker": {
             "colorbar": {
              "outlinewidth": 0,
              "ticks": ""
             }
            },
            "type": "scatterternary"
           }
          ],
          "surface": [
           {
            "colorbar": {
             "outlinewidth": 0,
             "ticks": ""
            },
            "colorscale": [
             [
              0,
              "#0d0887"
             ],
             [
              0.1111111111111111,
              "#46039f"
             ],
             [
              0.2222222222222222,
              "#7201a8"
             ],
             [
              0.3333333333333333,
              "#9c179e"
             ],
             [
              0.4444444444444444,
              "#bd3786"
             ],
             [
              0.5555555555555556,
              "#d8576b"
             ],
             [
              0.6666666666666666,
              "#ed7953"
             ],
             [
              0.7777777777777778,
              "#fb9f3a"
             ],
             [
              0.8888888888888888,
              "#fdca26"
             ],
             [
              1,
              "#f0f921"
             ]
            ],
            "type": "surface"
           }
          ],
          "table": [
           {
            "cells": {
             "fill": {
              "color": "#EBF0F8"
             },
             "line": {
              "color": "white"
             }
            },
            "header": {
             "fill": {
              "color": "#C8D4E3"
             },
             "line": {
              "color": "white"
             }
            },
            "type": "table"
           }
          ]
         },
         "layout": {
          "annotationdefaults": {
           "arrowcolor": "#2a3f5f",
           "arrowhead": 0,
           "arrowwidth": 1
          },
          "autotypenumbers": "strict",
          "coloraxis": {
           "colorbar": {
            "outlinewidth": 0,
            "ticks": ""
           }
          },
          "colorscale": {
           "diverging": [
            [
             0,
             "#8e0152"
            ],
            [
             0.1,
             "#c51b7d"
            ],
            [
             0.2,
             "#de77ae"
            ],
            [
             0.3,
             "#f1b6da"
            ],
            [
             0.4,
             "#fde0ef"
            ],
            [
             0.5,
             "#f7f7f7"
            ],
            [
             0.6,
             "#e6f5d0"
            ],
            [
             0.7,
             "#b8e186"
            ],
            [
             0.8,
             "#7fbc41"
            ],
            [
             0.9,
             "#4d9221"
            ],
            [
             1,
             "#276419"
            ]
           ],
           "sequential": [
            [
             0,
             "#0d0887"
            ],
            [
             0.1111111111111111,
             "#46039f"
            ],
            [
             0.2222222222222222,
             "#7201a8"
            ],
            [
             0.3333333333333333,
             "#9c179e"
            ],
            [
             0.4444444444444444,
             "#bd3786"
            ],
            [
             0.5555555555555556,
             "#d8576b"
            ],
            [
             0.6666666666666666,
             "#ed7953"
            ],
            [
             0.7777777777777778,
             "#fb9f3a"
            ],
            [
             0.8888888888888888,
             "#fdca26"
            ],
            [
             1,
             "#f0f921"
            ]
           ],
           "sequentialminus": [
            [
             0,
             "#0d0887"
            ],
            [
             0.1111111111111111,
             "#46039f"
            ],
            [
             0.2222222222222222,
             "#7201a8"
            ],
            [
             0.3333333333333333,
             "#9c179e"
            ],
            [
             0.4444444444444444,
             "#bd3786"
            ],
            [
             0.5555555555555556,
             "#d8576b"
            ],
            [
             0.6666666666666666,
             "#ed7953"
            ],
            [
             0.7777777777777778,
             "#fb9f3a"
            ],
            [
             0.8888888888888888,
             "#fdca26"
            ],
            [
             1,
             "#f0f921"
            ]
           ]
          },
          "colorway": [
           "#636efa",
           "#EF553B",
           "#00cc96",
           "#ab63fa",
           "#FFA15A",
           "#19d3f3",
           "#FF6692",
           "#B6E880",
           "#FF97FF",
           "#FECB52"
          ],
          "font": {
           "color": "#2a3f5f"
          },
          "geo": {
           "bgcolor": "white",
           "lakecolor": "white",
           "landcolor": "white",
           "showlakes": true,
           "showland": true,
           "subunitcolor": "#C8D4E3"
          },
          "hoverlabel": {
           "align": "left"
          },
          "hovermode": "closest",
          "mapbox": {
           "style": "light"
          },
          "paper_bgcolor": "white",
          "plot_bgcolor": "white",
          "polar": {
           "angularaxis": {
            "gridcolor": "#EBF0F8",
            "linecolor": "#EBF0F8",
            "ticks": ""
           },
           "bgcolor": "white",
           "radialaxis": {
            "gridcolor": "#EBF0F8",
            "linecolor": "#EBF0F8",
            "ticks": ""
           }
          },
          "scene": {
           "xaxis": {
            "backgroundcolor": "white",
            "gridcolor": "#DFE8F3",
            "gridwidth": 2,
            "linecolor": "#EBF0F8",
            "showbackground": true,
            "ticks": "",
            "zerolinecolor": "#EBF0F8"
           },
           "yaxis": {
            "backgroundcolor": "white",
            "gridcolor": "#DFE8F3",
            "gridwidth": 2,
            "linecolor": "#EBF0F8",
            "showbackground": true,
            "ticks": "",
            "zerolinecolor": "#EBF0F8"
           },
           "zaxis": {
            "backgroundcolor": "white",
            "gridcolor": "#DFE8F3",
            "gridwidth": 2,
            "linecolor": "#EBF0F8",
            "showbackground": true,
            "ticks": "",
            "zerolinecolor": "#EBF0F8"
           }
          },
          "shapedefaults": {
           "line": {
            "color": "#2a3f5f"
           }
          },
          "ternary": {
           "aaxis": {
            "gridcolor": "#DFE8F3",
            "linecolor": "#A2B1C6",
            "ticks": ""
           },
           "baxis": {
            "gridcolor": "#DFE8F3",
            "linecolor": "#A2B1C6",
            "ticks": ""
           },
           "bgcolor": "white",
           "caxis": {
            "gridcolor": "#DFE8F3",
            "linecolor": "#A2B1C6",
            "ticks": ""
           }
          },
          "title": {
           "x": 0.05
          },
          "xaxis": {
           "automargin": true,
           "gridcolor": "#EBF0F8",
           "linecolor": "#EBF0F8",
           "ticks": "",
           "title": {
            "standoff": 15
           },
           "zerolinecolor": "#EBF0F8",
           "zerolinewidth": 2
          },
          "yaxis": {
           "automargin": true,
           "gridcolor": "#EBF0F8",
           "linecolor": "#EBF0F8",
           "ticks": "",
           "title": {
            "standoff": 15
           },
           "zerolinecolor": "#EBF0F8",
           "zerolinewidth": 2
          }
         }
        },
        "xaxis": {
         "anchor": "y",
         "domain": [
          0,
          0.475
         ],
         "showticklabels": false
        },
        "xaxis10": {
         "anchor": "y10",
         "domain": [
          0.525,
          1
         ],
         "showticklabels": false
        },
        "xaxis2": {
         "anchor": "y2",
         "domain": [
          0.525,
          1
         ],
         "showticklabels": false
        },
        "xaxis3": {
         "anchor": "y3",
         "domain": [
          0,
          0.475
         ],
         "showticklabels": false
        },
        "xaxis4": {
         "anchor": "y4",
         "domain": [
          0.525,
          1
         ],
         "showticklabels": false
        },
        "xaxis5": {
         "anchor": "y5",
         "domain": [
          0,
          0.475
         ],
         "showticklabels": false
        },
        "xaxis6": {
         "anchor": "y6",
         "domain": [
          0.525,
          1
         ],
         "showticklabels": false
        },
        "xaxis7": {
         "anchor": "y7",
         "domain": [
          0,
          0.475
         ],
         "showticklabels": false
        },
        "xaxis8": {
         "anchor": "y8",
         "domain": [
          0.525,
          1
         ],
         "showticklabels": false
        },
        "xaxis9": {
         "anchor": "y9",
         "domain": [
          0,
          0.475
         ],
         "showticklabels": false
        },
        "yaxis": {
         "anchor": "x",
         "domain": [
          0.8400000000000001,
          1
         ],
         "scaleanchor": "x",
         "showticklabels": false
        },
        "yaxis10": {
         "anchor": "x10",
         "domain": [
          0,
          0.16
         ],
         "scaleanchor": "x10",
         "showticklabels": false
        },
        "yaxis2": {
         "anchor": "x2",
         "domain": [
          0.8400000000000001,
          1
         ],
         "scaleanchor": "x2",
         "showticklabels": false
        },
        "yaxis3": {
         "anchor": "x3",
         "domain": [
          0.63,
          0.79
         ],
         "scaleanchor": "x3",
         "showticklabels": false
        },
        "yaxis4": {
         "anchor": "x4",
         "domain": [
          0.63,
          0.79
         ],
         "scaleanchor": "x4",
         "showticklabels": false
        },
        "yaxis5": {
         "anchor": "x5",
         "domain": [
          0.42000000000000004,
          0.5800000000000001
         ],
         "scaleanchor": "x5",
         "showticklabels": false
        },
        "yaxis6": {
         "anchor": "x6",
         "domain": [
          0.42000000000000004,
          0.5800000000000001
         ],
         "scaleanchor": "x6",
         "showticklabels": false
        },
        "yaxis7": {
         "anchor": "x7",
         "domain": [
          0.21000000000000002,
          0.37
         ],
         "scaleanchor": "x7",
         "showticklabels": false
        },
        "yaxis8": {
         "anchor": "x8",
         "domain": [
          0.21000000000000002,
          0.37
         ],
         "scaleanchor": "x8",
         "showticklabels": false
        },
        "yaxis9": {
         "anchor": "x9",
         "domain": [
          0,
          0.16
         ],
         "scaleanchor": "x9",
         "showticklabels": false
        }
       }
      }
     },
     "metadata": {},
     "output_type": "display_data"
    }
   ],
   "source": [
    "# Define functions for plotting\n",
    "def add_cluster_boundaries(fig: go.Figure, row_index, col_index):\n",
    "    for k, boundary in cluster_boundaries.items():\n",
    "        \n",
    "        if boundary.geom_type == 'Polygon':\n",
    "            bnds = [boundary]\n",
    "        elif boundary.geom_type == 'MultiPolygon':\n",
    "            bnds = list(boundary.geoms)\n",
    "        else:\n",
    "            raise NotImplementedError(boundary.geom_type)\n",
    "        \n",
    "        for poly in bnds:\n",
    "            if poly.boundary.geom_type == 'LineString':\n",
    "                crds = np.array(poly.boundary.coords)\n",
    "            else:\n",
    "                crds = np.array(poly.boundary.geoms[0].coords)\n",
    "\n",
    "            fig.add_scatter(\n",
    "                x=crds[:, 0],\n",
    "                y=crds[:, 1],\n",
    "                # fill='toself',\n",
    "                mode=\"lines\",\n",
    "                showlegend=False,\n",
    "                line=dict(color='black', width=2),\n",
    "                row=row_index,\n",
    "                col=col_index,\n",
    "            )\n",
    "\n",
    "\n",
    "def add_som_features(fig: go.Figure, row, col, feature_index, colorbar_settings):\n",
    "    if feature_index >= weights.shape[2]:\n",
    "        w = umatrix.copy()\n",
    "    else:\n",
    "        # The value of the weights will refer to the transformed data. If we want\n",
    "        # the original scale, we will need to apply the inverse transform here\n",
    "        w = weights[:, :, feature_index]\n",
    "\n",
    "    w_min = w.min()\n",
    "    w_max = w.max()\n",
    "    w -= w.min()\n",
    "    w /= w.max()\n",
    "    colors = np.array(\n",
    "        sample_colorscale(features_colorscale, w.flatten())\n",
    "    ).reshape(final_nx, final_ny)\n",
    "\n",
    "    # Add colored hexagons\n",
    "    for i in range(final_nx):\n",
    "        for j in range(final_ny):\n",
    "            text = str(sorted(df.iloc[win_map[(i, j)]].index.values.tolist()))\n",
    "\n",
    "            fig.add_scatter(\n",
    "                x=hexagons[i, j, :, 0],\n",
    "                y=hexagons[i, j, :, 1],\n",
    "                fill='toself',\n",
    "                mode='lines',\n",
    "                fillcolor=colors[i, j],\n",
    "                line=dict(color='black', width=0),\n",
    "                text=text,\n",
    "                showlegend=False,\n",
    "                hoverinfo=\"text\",\n",
    "                hoveron=\"fills\",\n",
    "                row=row,\n",
    "                col=col,\n",
    "            )\n",
    "           \n",
    "    fig.add_scatter(\n",
    "        x=[0, 0],\n",
    "        y=[0, 0],\n",
    "        showlegend=False,\n",
    "        marker=dict(color=[w_min, w_max], colorscale=features_colorscale, size=0.001, colorbar=colorbar_settings),\n",
    "        row=row,\n",
    "        col=col,\n",
    "    )\n",
    "\n",
    "\n",
    "def add_training_cells(fig: go.Figure, row, col):\n",
    "    # Add colored hexagons\n",
    "    label_colors = DEFAULT_PLOTLY_COLORS\n",
    "    for i in range(final_nx):\n",
    "        for j in range(final_ny):\n",
    "            text = \"\"\n",
    "            if len(win_map[(i, j)]) > 0:\n",
    "                samples = [str(s) for s in sorted(df.iloc[win_map[(i, j)]].index.values.tolist())]\n",
    "                if len(samples) <= 3:\n",
    "                    text = f\"{','.join(samples)}\"\n",
    "                elif len(samples) <= 6:\n",
    "                    text = f\"{','.join(samples[:3])}\" + f\"<br>{','.join(samples[3:])}\"\n",
    "                elif len(samples) <= 9:\n",
    "                    text = f\"{','.join(samples[:3])}\" + f\"<br>{','.join(samples[3:6])}\" + f\"<br>{','.join(samples[6:])}\"\n",
    "                else:\n",
    "                    text = f\"{','.join(samples[:3])}\" + f\"<br>{','.join(samples[3:-3])}\" + f\"<br>{','.join(samples[-3:])}\"\n",
    "\n",
    "            fig.add_scatter(\n",
    "                x=hexagons[i, j, :, 0],\n",
    "                y=hexagons[i, j, :, 1],\n",
    "                fill='toself',\n",
    "                mode='lines',\n",
    "                fillcolor=label_colors[node_labels[i, j]],\n",
    "                line=dict(width=0),\n",
    "                text=text,\n",
    "                showlegend=False,\n",
    "                hoverinfo=\"text\",\n",
    "                hoveron=\"fills\",\n",
    "                row=row,\n",
    "                col=col,\n",
    "            )\n",
    "\n",
    "            mid = (hexagons[i, j, 0, :] + hexagons[i, j, 3, :]) / 2\n",
    "            fig.add_scatter(\n",
    "                x=[mid[0]],\n",
    "                y=[mid[1]],\n",
    "                mode=\"text\",\n",
    "                text=text,\n",
    "                textfont=dict(color=\"black\", size=6),\n",
    "                marker=dict(color='black'),\n",
    "                showlegend=False,\n",
    "                hoverinfo=\"none\",\n",
    "                row=row,\n",
    "                col=col,\n",
    "            )\n",
    "\n",
    "\n",
    "n_plots = len(input_columns) + 2\n",
    "subplot_rows = (n_plots + 1) // 2\n",
    "subplot_columns = 2\n",
    "features_fig = make_subplots(\n",
    "    rows=subplot_rows,\n",
    "    cols=subplot_columns,\n",
    "    subplot_titles=input_columns + [\"Umatrix\"] + [\"Clusters and winning cells\"],\n",
    "    horizontal_spacing=0.05,\n",
    "    vertical_spacing=0.05,\n",
    "\n",
    ")\n",
    "features_fig.layout.height = 50 + 250 * subplot_rows\n",
    "\n",
    "subplot_ix = list(\n",
    "    itertools.product(range(1, subplot_rows + 1), range(1, subplot_columns + 1))\n",
    ")[:n_plots]\n",
    "\n",
    "# Feature plots\n",
    "for i, (row_index, col_index) in enumerate(subplot_ix[:len(input_columns)+1]):\n",
    "    # add_cluster_boundaries(features_fig, row_index, col_index)\n",
    "    colorbar_settings = dict(\n",
    "        thickness = 20,\n",
    "        len = 0.5 * (1 / subplot_rows),\n",
    "        y = 1 - (row_index - 0.5) / subplot_rows,\n",
    "        x = -0.15 if col_index == 1 else 1\n",
    "    )\n",
    "    add_som_features(features_fig, row_index, col_index, i, colorbar_settings)\n",
    "\n",
    "add_training_cells(features_fig, subplot_ix[-1][0], subplot_ix[-1][1])\n",
    "add_cluster_boundaries(features_fig, subplot_ix[-1][0], subplot_ix[-1][1])\n",
    "\n",
    "\n",
    "for i, (row_index, col_index) in enumerate(subplot_ix):\n",
    "    sp = features_fig.get_subplot(row_index, col_index)\n",
    "    sp.yaxis.scaleanchor = sp.yaxis.anchor\n",
    "    sp.yaxis.showticklabels = False\n",
    "    sp.xaxis.showticklabels = False\n",
    "\n",
    "\n",
    "show_figure(features_fig)"
   ]
  },
  {
   "cell_type": "markdown",
   "id": "0845e6d7",
   "metadata": {},
   "source": [
    "# Gibbs diagram"
   ]
  },
  {
   "cell_type": "code",
   "execution_count": 21,
   "id": "72671bbd",
   "metadata": {},
   "outputs": [],
   "source": [
    "# Values from https://github.com/jyangfsu/WQChartPy/blob/main/wqchartpy/gibbs.py\n",
    "na_ca_line = np.array(\n",
    "    [\n",
    "        [0.0083, 0.0277, 0.0505, 0.0668, 0.0830, 0.1090, 0.1253, 0.1481, 0.1611, 0.1871, 0.2067, 0.2294, 0.2457, 0.2718, 0.2880, 0.3174, 0.3500, 0.3956, 0.4379, 0.4802, 0.5225, 0.5681, 0.6039, 0.6429, 0.6819, 0.7144, 0.7534, 0.7729, 0.7924, 0.8119, 0.8314, 0.8509, 0.8737, 0.8997, 0.9225, 0.9420, 0.9615, 0.9843, 0.9973, None, None, 0.9932, 0.9866, 0.9636, 0.9406, 0.9209, 0.9045, 0.8881, 0.8716, 0.8519, 0.8322, 0.8026, 0.7663, 0.7367, 0.7070, 0.6774, 0.6543, 0.6279, 0.6146, 0.5916, 0.5783, 0.5617, 0.5419, 0.5383, 0.5513, 0.5739, 0.6096, 0.6453, 0.6778, 0.6940, 0.7135, 0.7362, 0.7653, 0.8010, 0.8399, 0.8724, 0.8983, 0.9340, 0.9469, 0.9696, 0.9891, 0.9955, None, None, 0.9003, 0.8871, 0.8410, 0.8278, 0.7949, 0.7619, 0.7290, 0.6830, 0.6369, 0.5942, 0.5516, 0.5089, 0.4399, 0.4005, 0.3545, 0.3118, 0.2658, 0.2296, 0.1836, 0.1442, 0.1047, 0.0718, 0.0454, 0.0092],\n",
    "        [108.9257, 97.0774, 88.1725, 80.1044, 74.1755, 66.0907, 61.199, 56.6553, 52.4686, 47.6497, 44.9668, 40.842, 39.2892, 35.6808, 33.0399, 30.5792, 28.2983, 24.7192, 21.5954, 18.5101, 15.5659, 12.5986, 11.0093, 9.0844, 7.3545, 6.3061, 5.2036, 4.6375, 4.2938, 3.8267, 3.543, 3.2184, 2.9232, 2.6046, 2.321, 2.1489, 1.9896, 1.8419, 1.7386, 1.7386, 7514.32, 7514.32, 7234.9489, 6582.7621, 5989.366, 5553.6776, 5051.7878, 4683.7185, 4179.9779, 3730.8803, 3394.141, 2808.0488, 2153.0926, 1714.648, 1365.4861, 1087.4256, 899.4273, 702.6564, 592.1454, 508.812, 420.6893, 334.8554, 271.6992, 204.138, 175.1691, 144.6326, 114.8937, 91.2695, 78.2591, 68.4377, 59.8414, 50.3607, 39.2599, 30.5983, 22.9525, 18.2353, 14.4912, 11.7332, 10.262, 8.6362, 7.5514, 7.267, 7.267, 45278.8769, 45278.8769, 39640.8983, 28715.7533, 25624.1396, 20408.7169, 15947.8034, 12461.9512, 9558.8684, 7473.2267, 6069.0146, 5023.5351, 4238.2048, 3072.823, 2592.1249, 2065.5649, 1614.6797, 1311.4464, 1044.6506, 816.7192, 650.65, 508.5584, 412.8464, 341.5145, 261.8588],\n",
    "    ]\n",
    ")\n",
    "cl_hco3_line = np.array(\n",
    "    [\n",
    "        [0.0056, 0.0251, 0.0446, 0.0771, 0.1096, 0.1291, 0.1454, 0.1844, 0.2104, 0.2299, 0.2656, 0.2883, 0.3078, 0.3500, 0.3792, 0.4052, 0.4507, 0.4799, 0.4994, 0.5351, 0.5579, 0.5741, 0.5904, 0.6196, 0.6488, 0.6716, 0.6976, 0.7236, 0.7495, 0.7723, 0.7983, 0.8242, 0.8535, 0.8827, 0.9119, 0.9444, 0.9704, 0.9931, None, None, 0.9961, 0.9830, 0.9668, 0.9538, 0.944, 0.9180, 0.9050, 0.8887, 0.8530, 0.8302, 0.8074, 0.7814, 0.7554, 0.7294, 0.7132, 0.6937, 0.6742, 0.6417, 0.6189, 0.5897, 0.5735, 0.5605, 0.5377, 0.5150, 0.4955, 0.4760, 0.4565, 0.4402, 0.4175, 0.4013, 0.3785, 0.3590, 0.3395, 0.3200, 0.3070, 0.2941, 0.2746, 0.2551, 0.2388, 0.2291, 0.2128, 0.2063, 0.1998, 0.1997, 0.2062, 0.2159, 0.2354, 0.2516, 0.2646, 0.2873, 0.3002, 0.3262, 0.3489, 0.3683, 0.3878, 0.4105, 0.4267, 0.4527, 0.4754, 0.5175, 0.5500, 0.5694, 0.5889, 0.6148, 0.6376, 0.6538, 0.6700, 0.6927, 0.7089, 0.7252, 0.7479, 0.7771, 0.7965, 0.8160, 0.8322, 0.8517, 0.8841, 0.9003, 0.9165, 0.9392, 0.9522, 0.9684, 0.9846, 0.9975, None, None, 0.9935, 0.9870, 0.9708, 0.9579, 0.9385, 0.9255, 0.9061, 0.8801, 0.8607, 0.8347, 0.8088, 0.7893, 0.7602, 0.7277, 0.6855, 0.6531, 0.6044, 0.5623, 0.5298, 0.4909, 0.4520, 0.4196, 0.3839, 0.3450, 0.3158, 0.2899, 0.2672, 0.2380, 0.2088, 0.1861, 0.1634, 0.1408, 0.1148, 0.0889, 0.0759, 0.0630, 0.0500, 0.0371, 0.0209, 0.0079],\n",
    "        [21.4751, 19.1493, 17.0753, 15.2298, 13.0728, 11.8826, 11.2221, 10.2041, 9.6387, 9.2797, 8.9368, 8.7709, 8.6076, 8.6146, 8.4558, 8.2994, 7.8425, 7.6979, 7.4111, 7.0018, 6.7414, 6.4899, 6.3687, 5.9019, 5.6831, 5.4718, 5.1686, 4.9767, 4.7919, 4.6137, 4.5284, 4.4446, 4.3627, 4.2822, 4.2033, 4.2059, 4.208, 4.1299, 4.1299, 10.1674, 10.1674, 11.4037, 12.7896, 14.0724, 15.4849, 17.6996, 19.8518, 21.8417, 24.487, 27.9908, 30.2081, 33.2299, 35.8599, 38.6981, 40.9758, 43.3849, 46.8245, 50.5243, 54.5265, 58.8385, 61.1188, 62.2861, 67.2201, 69.8165, 73.9212, 76.7813, 81.2954, 84.446, 89.4052, 92.8702, 96.4574, 102.1283, 104.0659, 110.1841, 114.4615, 116.6475, 121.1607, 125.8485, 130.7259, 138.4373, 146.5855, 161.3088, 174.141, 191.656, 219.2029, 236.7142, 260.6201, 281.4751, 298.2091, 322.1122, 347.8662, 383.045, 421.755, 455.5326, 482.6745, 521.3635, 563.0834, 608.2554, 657.0104, 751.9576, 828.1041, 877.4449, 929.7256, 985.244, 1044.0127, 1085.1491, 1127.9064, 1195.1847, 1242.2777, 1291.2262, 1368.2463, 1506.707, 1596.481, 1724.3402, 1826.9677, 1973.2861, 2258.0322, 2485.9166, 2684.8419, 3013.3769, 3317.2855, 3582.7378, 3944.3137, 4178.8072, 4178.8072, 62336.9735, 62336.9735, 56633.1044, 49506.8651, 42458.3638, 35717.6411, 33073.3075, 28909.8381, 24787.6514, 22513.9619, 20058.1172, 17870.1583, 16545.0928, 14739.4207, 13643.1016, 12151.1174, 11247.3165, 9825.9309, 8585.2422, 7795.8054, 6682.5559, 5839.1344, 5201.5485, 4459.0392, 3822.2836, 3277.0691, 2919.6032, 2551.907, 2273.401, 1875.816, 1703.6475, 1460.8193, 1252.6024, 1053.6071, 886.2253, 805.035, 731.2828, 677.1427, 603.4295, 517.4845, 452.3967],\n",
    "    ]\n",
    ")"
   ]
  },
  {
   "cell_type": "code",
   "execution_count": 22,
   "id": "a7953f4d",
   "metadata": {},
   "outputs": [
    {
     "data": {
      "application/vnd.plotly.v1+json": {
       "config": {
        "plotlyServerURL": "https://plot.ly"
       },
       "data": [
        {
         "hovertemplate": "cluster_label_str=1<br>Na/(Na+Cl)=%{x}<br>TDS=%{y}<extra></extra>",
         "legendgroup": "1",
         "marker": {
          "color": "rgb(31, 119, 180)",
          "symbol": "circle"
         },
         "mode": "markers",
         "name": "1",
         "orientation": "v",
         "showlegend": true,
         "type": "scatter",
         "x": [
          0.64,
          0.7916666666666666
         ],
         "xaxis": "x",
         "y": [
          995,
          856
         ],
         "yaxis": "y"
        },
        {
         "hovertemplate": "cluster_label_str=2<br>Na/(Na+Cl)=%{x}<br>TDS=%{y}<extra></extra>",
         "legendgroup": "2",
         "marker": {
          "color": "rgb(255, 127, 14)",
          "symbol": "circle"
         },
         "mode": "markers",
         "name": "2",
         "orientation": "v",
         "showlegend": true,
         "type": "scatter",
         "x": [
          0.03125
         ],
         "xaxis": "x",
         "y": [
          1880
         ],
         "yaxis": "y"
        },
        {
         "hovertemplate": "cluster_label_str=3<br>Na/(Na+Cl)=%{x}<br>TDS=%{y}<extra></extra>",
         "legendgroup": "3",
         "marker": {
          "color": "rgb(44, 160, 44)",
          "symbol": "circle"
         },
         "mode": "markers",
         "name": "3",
         "orientation": "v",
         "showlegend": true,
         "type": "scatter",
         "x": [
          0.7131782945736435,
          0.724907063197026,
          0.7230769230769231,
          0.7218045112781954,
          0.7398373983739837,
          0.7317073170731707,
          0.7276264591439688,
          0.7819314641744548,
          0.7285714285714285,
          0.7707006369426752,
          0.7823529411764706,
          0.5191570881226054,
          0.3843725335438043,
          0.7277486910994764,
          0.7430830039525692,
          0.7305263157894737,
          0.7936046511627908,
          0.7832167832167832,
          0.7217741935483871,
          0.6845238095238095,
          0.6929133858267716,
          0.5568862275449101,
          0.7056603773584905,
          0.6098484848484849,
          0.6747404844290658,
          0.6776315789473685,
          0.6559139784946237,
          0.694267515923567,
          0.7189542483660131,
          0.7177177177177178,
          0.722397476340694,
          0.718562874251497,
          0.7350157728706624,
          0.6767676767676768,
          0.7106918238993711,
          0.828193832599119,
          0.6091954022988506,
          0.6298342541436464,
          0.6344647519582246,
          0.6132596685082872,
          0.6209150326797386,
          0.6858638743455496,
          0.627906976744186,
          0.6329588014981273,
          0.7538461538461539
         ],
         "xaxis": "x",
         "y": [
          2647,
          2574,
          2488,
          2539,
          2213,
          2172,
          2199,
          2993,
          3005,
          2959,
          2941,
          9629,
          9420,
          4620,
          4708,
          4777,
          5102,
          4674,
          5049,
          3113,
          2115,
          2817,
          3278,
          3922,
          2706,
          2620,
          2673,
          3077,
          2963,
          2987,
          3014,
          3133,
          3114,
          3017,
          3148,
          2259,
          3015,
          3413,
          3038,
          3252,
          2781,
          2790,
          2740,
          2379,
          5024
         ],
         "yaxis": "y"
        },
        {
         "hovertemplate": "cluster_label_str=4<br>Na/(Na+Cl)=%{x}<br>TDS=%{y}<extra></extra>",
         "legendgroup": "4",
         "marker": {
          "color": "rgb(214, 39, 40)",
          "symbol": "circle"
         },
         "mode": "markers",
         "name": "4",
         "orientation": "v",
         "showlegend": true,
         "type": "scatter",
         "x": [
          0.8394160583941607,
          0.7738095238095237,
          0.84,
          0.8373983739837398,
          0.8580645161290323,
          0.852760736196319,
          0.8596491228070177,
          0.6492890995260663,
          0.7468354430379747,
          0.7660818713450291,
          0.7083333333333334,
          0.6923076923076923,
          0.7441860465116278,
          0.7086092715231788,
          0.7117117117117117,
          0.6842105263157895,
          0.6818181818181819,
          0.7168949771689498,
          0.676056338028169,
          0.7006802721088435,
          0.67,
          0.6933333333333334,
          0.4831460674157304,
          0.7692307692307693,
          0.6867469879518072,
          0.6645161290322581,
          0.6028368794326241,
          0.8048780487804879,
          0.7793103448275862,
          0.8159509202453988,
          0.58,
          0.787878787878788,
          0.6282051282051282,
          0.7487437185929648,
          0.5545454545454546,
          0.6124031007751938,
          0.5,
          0.5965665236051502,
          0.6287878787878788,
          0.5842293906810037,
          0.6081632653061224,
          0.6166666666666667,
          0.7101449275362319,
          0.589041095890411,
          0.6153846153846154,
          0.6477272727272727,
          0.5945945945945946
         ],
         "xaxis": "x",
         "y": [
          1483,
          1601,
          1518,
          1476,
          1449,
          1389,
          1521,
          2465,
          1872,
          1966,
          1841,
          2034,
          1830,
          1896,
          2185,
          1956,
          2097,
          2656,
          2022,
          2111,
          2164,
          2083,
          3058,
          1688,
          1472,
          1432,
          1496,
          1722,
          1610,
          1839,
          1270,
          1397,
          1920,
          2243,
          2636,
          2616,
          2372,
          2532,
          2612,
          2658,
          2648,
          2420,
          1979,
          2394,
          2456,
          2435,
          2448
         ],
         "yaxis": "y"
        },
        {
         "hovertemplate": "cluster_label_str=5<br>Na/(Na+Cl)=%{x}<br>TDS=%{y}<extra></extra>",
         "legendgroup": "5",
         "marker": {
          "color": "rgb(148, 103, 189)",
          "symbol": "circle"
         },
         "mode": "markers",
         "name": "5",
         "orientation": "v",
         "showlegend": true,
         "type": "scatter",
         "x": [
          0.8571428571428571,
          0.8120805369127517,
          0.8206896551724138,
          0.759124087591241,
          0.7157894736842105,
          0.7337883959044369,
          0.7740112994350282
         ],
         "xaxis": "x",
         "y": [
          1542,
          1407,
          1448,
          2260,
          2229,
          2702,
          2651
         ],
         "yaxis": "y"
        },
        {
         "line": {
          "color": "black",
          "dash": "dash",
          "width": 2
         },
         "mode": "lines",
         "name": "Na/Ca line",
         "showlegend": false,
         "type": "scatter",
         "x": [
          0.0083,
          0.0277,
          0.0505,
          0.0668,
          0.083,
          0.109,
          0.1253,
          0.1481,
          0.1611,
          0.1871,
          0.2067,
          0.2294,
          0.2457,
          0.2718,
          0.288,
          0.3174,
          0.35,
          0.3956,
          0.4379,
          0.4802,
          0.5225,
          0.5681,
          0.6039,
          0.6429,
          0.6819,
          0.7144,
          0.7534,
          0.7729,
          0.7924,
          0.8119,
          0.8314,
          0.8509,
          0.8737,
          0.8997,
          0.9225,
          0.942,
          0.9615,
          0.9843,
          0.9973,
          null,
          null,
          0.9932,
          0.9866,
          0.9636,
          0.9406,
          0.9209,
          0.9045,
          0.8881,
          0.8716,
          0.8519,
          0.8322,
          0.8026,
          0.7663,
          0.7367,
          0.707,
          0.6774,
          0.6543,
          0.6279,
          0.6146,
          0.5916,
          0.5783,
          0.5617,
          0.5419,
          0.5383,
          0.5513,
          0.5739,
          0.6096,
          0.6453,
          0.6778,
          0.694,
          0.7135,
          0.7362,
          0.7653,
          0.801,
          0.8399,
          0.8724,
          0.8983,
          0.934,
          0.9469,
          0.9696,
          0.9891,
          0.9955,
          null,
          null,
          0.9003,
          0.8871,
          0.841,
          0.8278,
          0.7949,
          0.7619,
          0.729,
          0.683,
          0.6369,
          0.5942,
          0.5516,
          0.5089,
          0.4399,
          0.4005,
          0.3545,
          0.3118,
          0.2658,
          0.2296,
          0.1836,
          0.1442,
          0.1047,
          0.0718,
          0.0454,
          0.0092
         ],
         "y": [
          108.9257,
          97.0774,
          88.1725,
          80.1044,
          74.1755,
          66.0907,
          61.199,
          56.6553,
          52.4686,
          47.6497,
          44.9668,
          40.842,
          39.2892,
          35.6808,
          33.0399,
          30.5792,
          28.2983,
          24.7192,
          21.5954,
          18.5101,
          15.5659,
          12.5986,
          11.0093,
          9.0844,
          7.3545,
          6.3061,
          5.2036,
          4.6375,
          4.2938,
          3.8267,
          3.543,
          3.2184,
          2.9232,
          2.6046,
          2.321,
          2.1489,
          1.9896,
          1.8419,
          1.7386,
          1.7386,
          7514.32,
          7514.32,
          7234.9489,
          6582.7621,
          5989.366,
          5553.6776,
          5051.7878,
          4683.7185,
          4179.9779,
          3730.8803,
          3394.141,
          2808.0488,
          2153.0926,
          1714.648,
          1365.4861,
          1087.4256,
          899.4273,
          702.6564,
          592.1454,
          508.812,
          420.6893,
          334.8554,
          271.6992,
          204.138,
          175.1691,
          144.6326,
          114.8937,
          91.2695,
          78.2591,
          68.4377,
          59.8414,
          50.3607,
          39.2599,
          30.5983,
          22.9525,
          18.2353,
          14.4912,
          11.7332,
          10.262,
          8.6362,
          7.5514,
          7.267,
          7.267,
          45278.8769,
          45278.8769,
          39640.8983,
          28715.7533,
          25624.1396,
          20408.7169,
          15947.8034,
          12461.9512,
          9558.8684,
          7473.2267,
          6069.0146,
          5023.5351,
          4238.2048,
          3072.823,
          2592.1249,
          2065.5649,
          1614.6797,
          1311.4464,
          1044.6506,
          816.7192,
          650.65,
          508.5584,
          412.8464,
          341.5145,
          261.8588
         ]
        }
       ],
       "layout": {
        "annotations": [
         {
          "font": {
           "size": 20,
           "weight": "bold"
          },
          "showarrow": false,
          "text": "Rock weathering",
          "x": 0.3,
          "y": 2.3010299956639813
         },
         {
          "font": {
           "size": 20,
           "weight": "bold"
          },
          "showarrow": false,
          "text": "Evaporation",
          "textangle": -20,
          "x": 0.7,
          "y": 3.6532125137753435
         },
         {
          "font": {
           "size": 20,
           "weight": "bold"
          },
          "showarrow": false,
          "text": "Precipitation",
          "textangle": 20,
          "x": 0.7,
          "y": 1.3010299956639813
         }
        ],
        "height": 800,
        "legend": {
         "title": {
          "text": "Cluster"
         },
         "tracegroupgap": 0
        },
        "margin": {
         "t": 60
        },
        "template": {
         "data": {
          "bar": [
           {
            "error_x": {
             "color": "#2a3f5f"
            },
            "error_y": {
             "color": "#2a3f5f"
            },
            "marker": {
             "line": {
              "color": "white",
              "width": 0.5
             },
             "pattern": {
              "fillmode": "overlay",
              "size": 10,
              "solidity": 0.2
             }
            },
            "type": "bar"
           }
          ],
          "barpolar": [
           {
            "marker": {
             "line": {
              "color": "white",
              "width": 0.5
             },
             "pattern": {
              "fillmode": "overlay",
              "size": 10,
              "solidity": 0.2
             }
            },
            "type": "barpolar"
           }
          ],
          "carpet": [
           {
            "aaxis": {
             "endlinecolor": "#2a3f5f",
             "gridcolor": "#C8D4E3",
             "linecolor": "#C8D4E3",
             "minorgridcolor": "#C8D4E3",
             "startlinecolor": "#2a3f5f"
            },
            "baxis": {
             "endlinecolor": "#2a3f5f",
             "gridcolor": "#C8D4E3",
             "linecolor": "#C8D4E3",
             "minorgridcolor": "#C8D4E3",
             "startlinecolor": "#2a3f5f"
            },
            "type": "carpet"
           }
          ],
          "choropleth": [
           {
            "colorbar": {
             "outlinewidth": 0,
             "ticks": ""
            },
            "type": "choropleth"
           }
          ],
          "contour": [
           {
            "colorbar": {
             "outlinewidth": 0,
             "ticks": ""
            },
            "colorscale": [
             [
              0,
              "#0d0887"
             ],
             [
              0.1111111111111111,
              "#46039f"
             ],
             [
              0.2222222222222222,
              "#7201a8"
             ],
             [
              0.3333333333333333,
              "#9c179e"
             ],
             [
              0.4444444444444444,
              "#bd3786"
             ],
             [
              0.5555555555555556,
              "#d8576b"
             ],
             [
              0.6666666666666666,
              "#ed7953"
             ],
             [
              0.7777777777777778,
              "#fb9f3a"
             ],
             [
              0.8888888888888888,
              "#fdca26"
             ],
             [
              1,
              "#f0f921"
             ]
            ],
            "type": "contour"
           }
          ],
          "contourcarpet": [
           {
            "colorbar": {
             "outlinewidth": 0,
             "ticks": ""
            },
            "type": "contourcarpet"
           }
          ],
          "heatmap": [
           {
            "colorbar": {
             "outlinewidth": 0,
             "ticks": ""
            },
            "colorscale": [
             [
              0,
              "#0d0887"
             ],
             [
              0.1111111111111111,
              "#46039f"
             ],
             [
              0.2222222222222222,
              "#7201a8"
             ],
             [
              0.3333333333333333,
              "#9c179e"
             ],
             [
              0.4444444444444444,
              "#bd3786"
             ],
             [
              0.5555555555555556,
              "#d8576b"
             ],
             [
              0.6666666666666666,
              "#ed7953"
             ],
             [
              0.7777777777777778,
              "#fb9f3a"
             ],
             [
              0.8888888888888888,
              "#fdca26"
             ],
             [
              1,
              "#f0f921"
             ]
            ],
            "type": "heatmap"
           }
          ],
          "heatmapgl": [
           {
            "colorbar": {
             "outlinewidth": 0,
             "ticks": ""
            },
            "colorscale": [
             [
              0,
              "#0d0887"
             ],
             [
              0.1111111111111111,
              "#46039f"
             ],
             [
              0.2222222222222222,
              "#7201a8"
             ],
             [
              0.3333333333333333,
              "#9c179e"
             ],
             [
              0.4444444444444444,
              "#bd3786"
             ],
             [
              0.5555555555555556,
              "#d8576b"
             ],
             [
              0.6666666666666666,
              "#ed7953"
             ],
             [
              0.7777777777777778,
              "#fb9f3a"
             ],
             [
              0.8888888888888888,
              "#fdca26"
             ],
             [
              1,
              "#f0f921"
             ]
            ],
            "type": "heatmapgl"
           }
          ],
          "histogram": [
           {
            "marker": {
             "pattern": {
              "fillmode": "overlay",
              "size": 10,
              "solidity": 0.2
             }
            },
            "type": "histogram"
           }
          ],
          "histogram2d": [
           {
            "colorbar": {
             "outlinewidth": 0,
             "ticks": ""
            },
            "colorscale": [
             [
              0,
              "#0d0887"
             ],
             [
              0.1111111111111111,
              "#46039f"
             ],
             [
              0.2222222222222222,
              "#7201a8"
             ],
             [
              0.3333333333333333,
              "#9c179e"
             ],
             [
              0.4444444444444444,
              "#bd3786"
             ],
             [
              0.5555555555555556,
              "#d8576b"
             ],
             [
              0.6666666666666666,
              "#ed7953"
             ],
             [
              0.7777777777777778,
              "#fb9f3a"
             ],
             [
              0.8888888888888888,
              "#fdca26"
             ],
             [
              1,
              "#f0f921"
             ]
            ],
            "type": "histogram2d"
           }
          ],
          "histogram2dcontour": [
           {
            "colorbar": {
             "outlinewidth": 0,
             "ticks": ""
            },
            "colorscale": [
             [
              0,
              "#0d0887"
             ],
             [
              0.1111111111111111,
              "#46039f"
             ],
             [
              0.2222222222222222,
              "#7201a8"
             ],
             [
              0.3333333333333333,
              "#9c179e"
             ],
             [
              0.4444444444444444,
              "#bd3786"
             ],
             [
              0.5555555555555556,
              "#d8576b"
             ],
             [
              0.6666666666666666,
              "#ed7953"
             ],
             [
              0.7777777777777778,
              "#fb9f3a"
             ],
             [
              0.8888888888888888,
              "#fdca26"
             ],
             [
              1,
              "#f0f921"
             ]
            ],
            "type": "histogram2dcontour"
           }
          ],
          "mesh3d": [
           {
            "colorbar": {
             "outlinewidth": 0,
             "ticks": ""
            },
            "type": "mesh3d"
           }
          ],
          "parcoords": [
           {
            "line": {
             "colorbar": {
              "outlinewidth": 0,
              "ticks": ""
             }
            },
            "type": "parcoords"
           }
          ],
          "pie": [
           {
            "automargin": true,
            "type": "pie"
           }
          ],
          "scatter": [
           {
            "fillpattern": {
             "fillmode": "overlay",
             "size": 10,
             "solidity": 0.2
            },
            "type": "scatter"
           }
          ],
          "scatter3d": [
           {
            "line": {
             "colorbar": {
              "outlinewidth": 0,
              "ticks": ""
             }
            },
            "marker": {
             "colorbar": {
              "outlinewidth": 0,
              "ticks": ""
             }
            },
            "type": "scatter3d"
           }
          ],
          "scattercarpet": [
           {
            "marker": {
             "colorbar": {
              "outlinewidth": 0,
              "ticks": ""
             }
            },
            "type": "scattercarpet"
           }
          ],
          "scattergeo": [
           {
            "marker": {
             "colorbar": {
              "outlinewidth": 0,
              "ticks": ""
             }
            },
            "type": "scattergeo"
           }
          ],
          "scattergl": [
           {
            "marker": {
             "colorbar": {
              "outlinewidth": 0,
              "ticks": ""
             }
            },
            "type": "scattergl"
           }
          ],
          "scattermapbox": [
           {
            "marker": {
             "colorbar": {
              "outlinewidth": 0,
              "ticks": ""
             }
            },
            "type": "scattermapbox"
           }
          ],
          "scatterpolar": [
           {
            "marker": {
             "colorbar": {
              "outlinewidth": 0,
              "ticks": ""
             }
            },
            "type": "scatterpolar"
           }
          ],
          "scatterpolargl": [
           {
            "marker": {
             "colorbar": {
              "outlinewidth": 0,
              "ticks": ""
             }
            },
            "type": "scatterpolargl"
           }
          ],
          "scatterternary": [
           {
            "marker": {
             "colorbar": {
              "outlinewidth": 0,
              "ticks": ""
             }
            },
            "type": "scatterternary"
           }
          ],
          "surface": [
           {
            "colorbar": {
             "outlinewidth": 0,
             "ticks": ""
            },
            "colorscale": [
             [
              0,
              "#0d0887"
             ],
             [
              0.1111111111111111,
              "#46039f"
             ],
             [
              0.2222222222222222,
              "#7201a8"
             ],
             [
              0.3333333333333333,
              "#9c179e"
             ],
             [
              0.4444444444444444,
              "#bd3786"
             ],
             [
              0.5555555555555556,
              "#d8576b"
             ],
             [
              0.6666666666666666,
              "#ed7953"
             ],
             [
              0.7777777777777778,
              "#fb9f3a"
             ],
             [
              0.8888888888888888,
              "#fdca26"
             ],
             [
              1,
              "#f0f921"
             ]
            ],
            "type": "surface"
           }
          ],
          "table": [
           {
            "cells": {
             "fill": {
              "color": "#EBF0F8"
             },
             "line": {
              "color": "white"
             }
            },
            "header": {
             "fill": {
              "color": "#C8D4E3"
             },
             "line": {
              "color": "white"
             }
            },
            "type": "table"
           }
          ]
         },
         "layout": {
          "annotationdefaults": {
           "arrowcolor": "#2a3f5f",
           "arrowhead": 0,
           "arrowwidth": 1
          },
          "autotypenumbers": "strict",
          "coloraxis": {
           "colorbar": {
            "outlinewidth": 0,
            "ticks": ""
           }
          },
          "colorscale": {
           "diverging": [
            [
             0,
             "#8e0152"
            ],
            [
             0.1,
             "#c51b7d"
            ],
            [
             0.2,
             "#de77ae"
            ],
            [
             0.3,
             "#f1b6da"
            ],
            [
             0.4,
             "#fde0ef"
            ],
            [
             0.5,
             "#f7f7f7"
            ],
            [
             0.6,
             "#e6f5d0"
            ],
            [
             0.7,
             "#b8e186"
            ],
            [
             0.8,
             "#7fbc41"
            ],
            [
             0.9,
             "#4d9221"
            ],
            [
             1,
             "#276419"
            ]
           ],
           "sequential": [
            [
             0,
             "#0d0887"
            ],
            [
             0.1111111111111111,
             "#46039f"
            ],
            [
             0.2222222222222222,
             "#7201a8"
            ],
            [
             0.3333333333333333,
             "#9c179e"
            ],
            [
             0.4444444444444444,
             "#bd3786"
            ],
            [
             0.5555555555555556,
             "#d8576b"
            ],
            [
             0.6666666666666666,
             "#ed7953"
            ],
            [
             0.7777777777777778,
             "#fb9f3a"
            ],
            [
             0.8888888888888888,
             "#fdca26"
            ],
            [
             1,
             "#f0f921"
            ]
           ],
           "sequentialminus": [
            [
             0,
             "#0d0887"
            ],
            [
             0.1111111111111111,
             "#46039f"
            ],
            [
             0.2222222222222222,
             "#7201a8"
            ],
            [
             0.3333333333333333,
             "#9c179e"
            ],
            [
             0.4444444444444444,
             "#bd3786"
            ],
            [
             0.5555555555555556,
             "#d8576b"
            ],
            [
             0.6666666666666666,
             "#ed7953"
            ],
            [
             0.7777777777777778,
             "#fb9f3a"
            ],
            [
             0.8888888888888888,
             "#fdca26"
            ],
            [
             1,
             "#f0f921"
            ]
           ]
          },
          "colorway": [
           "#636efa",
           "#EF553B",
           "#00cc96",
           "#ab63fa",
           "#FFA15A",
           "#19d3f3",
           "#FF6692",
           "#B6E880",
           "#FF97FF",
           "#FECB52"
          ],
          "font": {
           "color": "#2a3f5f"
          },
          "geo": {
           "bgcolor": "white",
           "lakecolor": "white",
           "landcolor": "white",
           "showlakes": true,
           "showland": true,
           "subunitcolor": "#C8D4E3"
          },
          "hoverlabel": {
           "align": "left"
          },
          "hovermode": "closest",
          "mapbox": {
           "style": "light"
          },
          "paper_bgcolor": "white",
          "plot_bgcolor": "white",
          "polar": {
           "angularaxis": {
            "gridcolor": "#EBF0F8",
            "linecolor": "#EBF0F8",
            "ticks": ""
           },
           "bgcolor": "white",
           "radialaxis": {
            "gridcolor": "#EBF0F8",
            "linecolor": "#EBF0F8",
            "ticks": ""
           }
          },
          "scene": {
           "xaxis": {
            "backgroundcolor": "white",
            "gridcolor": "#DFE8F3",
            "gridwidth": 2,
            "linecolor": "#EBF0F8",
            "showbackground": true,
            "ticks": "",
            "zerolinecolor": "#EBF0F8"
           },
           "yaxis": {
            "backgroundcolor": "white",
            "gridcolor": "#DFE8F3",
            "gridwidth": 2,
            "linecolor": "#EBF0F8",
            "showbackground": true,
            "ticks": "",
            "zerolinecolor": "#EBF0F8"
           },
           "zaxis": {
            "backgroundcolor": "white",
            "gridcolor": "#DFE8F3",
            "gridwidth": 2,
            "linecolor": "#EBF0F8",
            "showbackground": true,
            "ticks": "",
            "zerolinecolor": "#EBF0F8"
           }
          },
          "shapedefaults": {
           "line": {
            "color": "#2a3f5f"
           }
          },
          "ternary": {
           "aaxis": {
            "gridcolor": "#DFE8F3",
            "linecolor": "#A2B1C6",
            "ticks": ""
           },
           "baxis": {
            "gridcolor": "#DFE8F3",
            "linecolor": "#A2B1C6",
            "ticks": ""
           },
           "bgcolor": "white",
           "caxis": {
            "gridcolor": "#DFE8F3",
            "linecolor": "#A2B1C6",
            "ticks": ""
           }
          },
          "title": {
           "x": 0.05
          },
          "xaxis": {
           "automargin": true,
           "gridcolor": "#EBF0F8",
           "linecolor": "#EBF0F8",
           "ticks": "",
           "title": {
            "standoff": 15
           },
           "zerolinecolor": "#EBF0F8",
           "zerolinewidth": 2
          },
          "yaxis": {
           "automargin": true,
           "gridcolor": "#EBF0F8",
           "linecolor": "#EBF0F8",
           "ticks": "",
           "title": {
            "standoff": 15
           },
           "zerolinecolor": "#EBF0F8",
           "zerolinewidth": 2
          }
         }
        },
        "title": {
         "text": "Gibbs Diagram"
        },
        "xaxis": {
         "anchor": "y",
         "domain": [
          0,
          1
         ],
         "title": {
          "text": "Na/(Na+Cl)"
         }
        },
        "yaxis": {
         "anchor": "x",
         "domain": [
          0,
          1
         ],
         "title": {
          "text": "TDS"
         },
         "type": "log"
        }
       }
      }
     },
     "metadata": {},
     "output_type": "display_data"
    }
   ],
   "source": [
    "# Create a figure that shows a hydrological Gibbs diagram with Na/Na+Cl on the x-axis and logarithmic TDS on the y-axis\n",
    "# Calculate Na/(Na+Cl) and log(TDS)\n",
    "df['Na/(Na+Cl)'] = df['Na'] / (df['Na'] + df['Cl'])\n",
    "df['cluster_label_str'] = df['cluster_label'].astype(str)\n",
    "\n",
    "# Create Gibbs diagram\n",
    "fig_gibbs = px.scatter(\n",
    "    df,\n",
    "    x='Na/(Na+Cl)',\n",
    "    y='TDS',\n",
    "    log_y=True,\n",
    "    color=df['cluster_label_str'],\n",
    "    category_orders={'cluster_label_str': list(sorted(df['cluster_label_str'].unique()))},\n",
    "    color_discrete_sequence=DEFAULT_PLOTLY_COLORS,\n",
    ")\n",
    "fig_gibbs.add_scatter(\n",
    "    x=na_ca_line[0],\n",
    "    y=na_ca_line[1],\n",
    "    mode='lines',\n",
    "    line=dict(color='black', width=2, dash='dash'),\n",
    "    name='Na/Ca line',\n",
    "    showlegend=False,\n",
    ")\n",
    "fig_gibbs.add_annotation(\n",
    "    x=0.3,\n",
    "    y=np.log10(200),\n",
    "    showarrow=False,\n",
    "    text=\"Rock weathering\",\n",
    "    font=dict(size=20, weight=\"bold\"),\n",
    ")\n",
    "fig_gibbs.add_annotation(\n",
    "    x=0.7,\n",
    "    y=np.log10(4500),\n",
    "    showarrow=False,\n",
    "    text=\"Evaporation\",\n",
    "    font=dict(size=20, weight=\"bold\"),\n",
    "    textangle=-20,\n",
    ")\n",
    "fig_gibbs.add_annotation(\n",
    "    x=0.7,\n",
    "    y=np.log10(20),\n",
    "    showarrow=False,\n",
    "    text=\"Precipitation\",\n",
    "    font=dict(size=20, weight=\"bold\"),\n",
    "    textangle=20,\n",
    ")\n",
    "\n",
    "# Update layout\n",
    "fig_gibbs.update_layout(\n",
    "    title='Gibbs Diagram',\n",
    "    xaxis_title='Na/(Na+Cl)',\n",
    "    yaxis_title='TDS',\n",
    "    # coloraxis_colorbar=dict(title='Cluster')\n",
    ")\n",
    "fig_gibbs.layout.height = 800\n",
    "fig_gibbs.layout.legend.title = 'Cluster'\n",
    "\n",
    "show_figure(fig_gibbs)\n"
   ]
  },
  {
   "cell_type": "markdown",
   "id": "e1d2e8c8",
   "metadata": {},
   "source": [
    "# Piper diagram"
   ]
  },
  {
   "cell_type": "code",
   "execution_count": 23,
   "id": "3ca03006",
   "metadata": {},
   "outputs": [],
   "source": [
    "# Calculate percentages for Piper diagram\n",
    "sum_cations = df[['Ca', 'Mg', 'K', 'Na']].sum(axis=1)\n",
    "sum_anions = df[['Cl', 'SO4', 'CO3', 'HCO3']].sum(axis=1)\n",
    "\n",
    "df['Ca%'] = df['Ca'] / sum_cations\n",
    "df['Mg%'] = df['Mg'] / sum_cations\n",
    "df['K+Na%'] = (df['K'] + df['Na']) / sum_cations\n",
    "\n",
    "df['Cl%'] = df['Cl'] / sum_anions\n",
    "df['SO4%'] = df['SO4'] / sum_anions\n",
    "df['CO3+HCO3%'] = (df['CO3'] + df['HCO3']) / sum_anions\n"
   ]
  },
  {
   "cell_type": "code",
   "execution_count": 24,
   "id": "8410be8d237827b2",
   "metadata": {
    "ExecuteTime": {
     "end_time": "2024-11-13T13:53:52.059889Z",
     "start_time": "2024-11-13T13:53:51.857264Z"
    }
   },
   "outputs": [
    {
     "data": {
      "application/vnd.plotly.v1+json": {
       "config": {
        "plotlyServerURL": "https://plot.ly"
       },
       "data": [
        {
         "hovertemplate": "cluster=4<br>x=%{x}<br>y=%{y}<extra></extra>",
         "legendgroup": "4",
         "marker": {
          "color": "rgb(148, 103, 189)",
          "symbol": "circle"
         },
         "mode": "markers",
         "name": "4",
         "orientation": "v",
         "showlegend": true,
         "type": "scatter",
         "x": [
          7.077922077922079,
          7.458333333333332,
          7.587719298245615,
          6.893617021276595,
          7.731277533039648,
          7.913043478260869,
          7.942386831275719,
          5.50761421319797,
          6.104868913857678,
          6.18705035971223,
          5.968379446640315,
          6.296296296296296,
          7.086614173228346,
          6.138996138996139,
          6.8370607028754,
          6.896551724137931,
          4.757281553398057,
          5.53921568627451,
          5.355932203389829,
          5.596026490066226,
          6.1993769470404985,
          5.359477124183007,
          3.9719626168224305,
          6.5665236051502145,
          7.08695652173913,
          6.411290322580644,
          5.99206349206349,
          7.219917012448133,
          7.086956521739129,
          7.37037037037037,
          5.305555555555555,
          7.079207920792079,
          5.223367697594503,
          6.308139534883721,
          4.626556016597509,
          5.208333333333333,
          4.232456140350877,
          5.671052631578947,
          6.166666666666666,
          5.906040268456375,
          5.990338164251208,
          6.005025125628141,
          5.730337078651685,
          4.636871508379888,
          4.715447154471545,
          5.151515151515152,
          4.5,
          15.926829268292686,
          16.66009852216749,
          16.068062827225134,
          15.878172588832491,
          16.022471910112362,
          15.942857142857147,
          15.971428571428575,
          18.471428571428575,
          17.802281368821298,
          17.949275362318843,
          18.05138339920949,
          18.333333333333336,
          18.110671936758898,
          18.054054054054056,
          17.61386138613862,
          18.452554744525553,
          18.27868852459017,
          18.698952879581157,
          18.60481099656358,
          18.442567567567572,
          18.873015873015877,
          18.515050167224086,
          18.952718676122934,
          17.28260869565218,
          17.743315508021393,
          17.73015873015873,
          17.937823834196895,
          16.559241706161142,
          17.399014778325128,
          17.057851239669425,
          19.320512820512825,
          17.2967032967033,
          18.738805970149258,
          18.509803921568633,
          18.864457831325304,
          19.000000000000004,
          18.91935483870968,
          18.717741935483875,
          18.86338797814208,
          19.090361445783138,
          18.703389830508478,
          18.68934911242604,
          18.13857677902622,
          19.071633237822354,
          18.95844875346261,
          19.14204545454546,
          19.04249291784703,
          11.160806673001797,
          11.724137931034484,
          11.509966014512724,
          10.796090290528136,
          11.664406276295601,
          11.604968944099381,
          11.639623750734865,
          12.343219724438,
          12.495008615656285,
          12.850536961734964,
          12.454545454545457,
          12.888888888888891,
          13.036382309918773,
          12.501930501930502,
          12.36925737302165,
          12.8404228542663,
          12.20828691177251,
          13.019787496150293,
          12.627992311724622,
          12.586741542867372,
          13.14626909954013,
          12.64124423459462,
          11.98674355405316,
          12.354077253218886,
          12.113810741687981,
          11.65288445127155,
          11.352125997203718,
          11.850740398418912,
          12.349967873206255,
          12.178757269666363,
          12.752136752136753,
          12.3987596561854,
          12.529568651587425,
          13.105601155190762,
          11.799342598610211,
          12.336327345309382,
          11.543576683644597,
          12.480616864742503,
          12.715066354410618,
          12.367981995094473,
          12.35228854499304,
          12.388703874401598,
          12.430711610486892,
          12.552816506859184,
          12.577288321359669,
          13.01067493112948,
          12.553745672017628
         ],
         "xaxis": "x",
         "y": [
          2.661809682627495,
          2.5259074277046127,
          2.5069156425339005,
          3.537805904821536,
          2.0982994364821197,
          2.1085835918229807,
          2.1383343303319475,
          2.8574442256846955,
          2.075866136412137,
          1.6199036329780867,
          2.601499236664717,
          1.9245008972987523,
          2.591257113685722,
          2.674981942191316,
          2.1028092871443236,
          3.3446498353054177,
          2.634510937078875,
          2.2075157351368047,
          2.9943929215597533,
          3.1543971661022594,
          2.697898454157129,
          2.7169424432452973,
          2.9946672841144135,
          1.486738890617062,
          2.711036046629547,
          3.1428341266370756,
          3.9177339695010316,
          1.9404718591020615,
          2.7863426034803678,
          3.271651525407879,
          3.0310889132455348,
          2.3151174160574097,
          2.5593877912529797,
          2.567866022849207,
          3.126315772997766,
          2.670244995002019,
          3.3805377603866242,
          2.8031874911969985,
          3.0929478706587092,
          3.216112237767714,
          3.4306320343151673,
          3.2639148383835628,
          2.8543159375666884,
          3.386691523179369,
          3.1449161004638144,
          2.862893896808061,
          3.0792014356780038,
          1.4785799576807488,
          1.3651631980838441,
          1.405590969493068,
          1.4946631334350713,
          1.3622871520204651,
          0.9897433186107869,
          1.0392304845413263,
          4.082691189269496,
          3.9514467092826093,
          4.330127018922193,
          4.1418606267951406,
          3.9131518245074632,
          4.107630373681132,
          4.079347461841756,
          2.600934381002769,
          3.919239053623007,
          5.025786769503135,
          5.327643190820498,
          5.237816875122378,
          5.120082623725565,
          4.811252243246881,
          5.155602738248498,
          4.81125224324688,
          2.9746089956074195,
          1.6672146810823414,
          1.6953936476203295,
          1.794871303180184,
          1.8059297519675497,
          3.156939895568889,
          3.1491832864888676,
          4.552184814764357,
          3.04536405726396,
          4.459384541875094,
          4.981061145949712,
          3.312808020500713,
          3.474473176859724,
          3.268547491702558,
          3.7946812047543945,
          3.7859034045221356,
          2.7650208675045325,
          3.4494232184634415,
          3.407733097731667,
          4.57339258178299,
          5.806588667207984,
          5.709530362900177,
          5.855512673315238,
          5.789858223601345,
          9.733573242745846,
          9.914497726083917,
          9.300446234928721,
          10.29708788234462,
          8.910678252510953,
          8.503186076412673,
          8.54213652245462,
          14.697060271650255,
          13.143912767390358,
          13.161400983235946,
          13.83586830868261,
          13.34320622127135,
          12.896557819687942,
          13.695907544019537,
          11.684854997300983,
          13.63973662632959,
          15.540030785251368,
          15.16424617950913,
          15.589970504890442,
          15.262670818790387,
          14.730268616988006,
          15.32933304736222,
          16.876675078932536,
          11.5110758606026,
          11.417802957822968,
          12.22154147018444,
          13.201634560148818,
          9.961293244481588,
          11.902145665033165,
          11.600021937437107,
          15.928945888411212,
          11.52885129524983,
          15.21409905387692,
          14.34141491172046,
          15.549946564892064,
          15.016292779791252,
          16.043770001631916,
          14.597698720440075,
          14.4351088380994,
          14.40852362385425,
          14.449853328992184,
          14.3207707704569,
          14.459705056445793,
          17.097510450466245,
          16.762024442550633,
          16.47535793990189,
          17.028698130850483
         ],
         "yaxis": "y"
        },
        {
         "hovertemplate": "cluster=5<br>x=%{x}<br>y=%{y}<extra></extra>",
         "legendgroup": "5",
         "marker": {
          "color": "rgb(140, 86, 75)",
          "symbol": "circle"
         },
         "mode": "markers",
         "name": "5",
         "orientation": "v",
         "showlegend": true,
         "type": "scatter",
         "x": [
          7.688888888888888,
          7.699115044247788,
          7.782608695652172,
          8.389057750759878,
          8.134110787172013,
          7.896103896103895,
          8.680203045685278,
          15.917098445595858,
          16.32352941176471,
          16.114285714285717,
          17.814432989690726,
          18.950495049504955,
          18.145658263305325,
          18.16666666666667,
          11.354519286125505,
          11.464601769911507,
          11.240993788819878,
          13.191050669006362,
          13.922899287013252,
          13.15711739241151,
          13.875109399614916
         ],
         "xaxis": "x",
         "y": [
          3.0792014356780038,
          3.065576650564384,
          3.5394081719885753,
          2.3690664541215636,
          2.6258496208041286,
          2.924241623168234,
          1.6705058550156682,
          1.525640607703156,
          1.1716814286495345,
          1.0887176504718656,
          2.6784290838693976,
          3.9442741162459583,
          3.3961780540566218,
          3.23515237045911,
          9.428259525460705,
          9.587590974640111,
          9.529506865493858,
          10.686362166110413,
          12.652325416799574,
          12.036584298078598,
          10.668347600584182
         ],
         "yaxis": "y"
        },
        {
         "hovertemplate": "cluster=3<br>x=%{x}<br>y=%{y}<extra></extra>",
         "legendgroup": "3",
         "marker": {
          "color": "rgb(214, 39, 40)",
          "symbol": "circle"
         },
         "mode": "markers",
         "name": "3",
         "orientation": "v",
         "showlegend": true,
         "type": "scatter",
         "x": [
          6.3288288288288275,
          6.592427616926504,
          6.5525672371638155,
          6.553287981859409,
          7.105263157894738,
          7.453416149068323,
          7.379518072289157,
          7.208791208791208,
          7.069351230425055,
          7.2808988764044935,
          7.156398104265402,
          6.575837163493105,
          5.370728562217924,
          6.301564722617355,
          7.2521246458923505,
          6.955307262569831,
          8.700947225981055,
          8.23008849557522,
          7.029972752043597,
          6.995967741935483,
          7.050561797752809,
          5.223300970873786,
          8.525896414342629,
          7.318611987381702,
          6.4402810304449645,
          7.326968973747016,
          6.288416075650118,
          6.904761904761906,
          7.222222222222221,
          7.56578947368421,
          7.066666666666666,
          7.213822894168466,
          6.941431670281995,
          7.015250544662309,
          7.08245243128964,
          7.728613569321534,
          6.586956521739131,
          6.279069767441859,
          7.64069264069264,
          6.441351888667991,
          5.792811839323466,
          7.3784355179704,
          5.876068376068376,
          7.154696132596685,
          7.4728260869565215,
          18.528571428571432,
          18.46902654867257,
          18.520123839009294,
          18.462686567164184,
          17.653198653198658,
          17.78048780487805,
          17.854166666666668,
          18.694117647058828,
          18.88151658767773,
          18.78260869565218,
          18.767726161369197,
          21.249331550802143,
          21.313581890812255,
          18.550387596899228,
          19.096296296296302,
          19.036656891495607,
          19.11299435028249,
          19.10638297872341,
          19.07801418439717,
          18.54545454545455,
          18.188191881918826,
          19.663129973474806,
          19.58426966292135,
          20.036269430051817,
          18.74393530997305,
          18.876712328767127,
          18.80874316939891,
          19.72527472527473,
          19.554245283018872,
          19.78231292517007,
          19.59770114942529,
          19.723542116630675,
          19.367483296213813,
          19.77510917030568,
          19.46536796536797,
          17.542372881355938,
          18.93932038834952,
          18.609195402298855,
          19.024213075060537,
          18.705215419501137,
          18.70994475138122,
          18.83286908077995,
          18.67329545454546,
          19.19817073170732,
          18.77528089887641,
          12.76872586872587,
          12.79406218998627,
          12.960584980356835,
          12.77317494161844,
          12.528973950026582,
          12.736252083017725,
          12.771419009370819,
          13.936522301228186,
          13.520192542171614,
          13.935515388373231,
          14.370189689335914,
          14.697163984677022,
          13.461080047149686,
          12.941910086340933,
          14.09367327667611,
          13.793771195465197,
          15.217070709387404,
          14.836700110283243,
          13.810462442267188,
          12.890668471313635,
          12.501886479538955,
          12.70997398985347,
          14.974886968978023,
          14.080684090376643,
          13.01807255534444,
          13.26694347271717,
          12.896794946324073,
          14.289377289377292,
          14.364168413696719,
          14.633219954648528,
          14.408429118773949,
          14.591792656587476,
          14.241181898554998,
          14.156268135589997,
          14.12297392529951,
          12.963951802409882,
          12.85405234276066,
          12.743384121892545,
          13.251375742901168,
          12.573182221861575,
          12.338178781259856,
          13.237669825154443,
          12.325976107226108,
          13.300953375555858,
          13.838361016121155
         ],
         "xaxis": "x",
         "y": [
          3.0037818059189987,
          3.047483603517623,
          2.498557399671485,
          2.9849401672388813,
          2.076435178664443,
          2.1516159100234495,
          1.9302975867484473,
          1.8652854850741754,
          3.448602279052127,
          2.1407369531750167,
          0.24626314799557494,
          1.120203575479543,
          3.2608564526764154,
          3.3014908707571773,
          2.3061299704174854,
          2.709353218543495,
          0.8437595273677886,
          1.532788325282192,
          2.7844958486802107,
          3.177754505821931,
          2.675921191468771,
          2.0851873799858325,
          0.4140360496180582,
          2.895857817070993,
          2.3526685442387554,
          3.224342792132993,
          2.57965013893237,
          2.886751345948128,
          2.726376271173232,
          3.0007020569723974,
          2.463361148542403,
          2.506423414840492,
          2.291867662943633,
          3.7357958594622835,
          3.075946465872847,
          2.707926041331873,
          2.5227696545024947,
          1.611210053552444,
          3.111693009268762,
          2.6514495463778043,
          2.3069598494046355,
          2.1238677978645852,
          2.4056261216234405,
          3.3971162247897873,
          2.6827960878104893,
          4.181665521130574,
          3.959703173645663,
          3.968165936845106,
          3.9035771931776186,
          2.5951603009028625,
          2.5648836000584416,
          2.465766774664026,
          5.27766069600399,
          5.335701539904123,
          5.271458979557452,
          5.1241600908516896,
          3.8380671304083074,
          3.672824115916694,
          5.088738419136468,
          5.49124256029244,
          5.472975792244766,
          5.382078780581257,
          5.580467647486351,
          5.404981243477347,
          3.5932988781731954,
          2.2689226446012967,
          3.0092659919300115,
          3.600330330339801,
          4.292733866772606,
          3.8282524587775724,
          3.7962757426167166,
          3.7859034045221356,
          6.262029842749017,
          6.1071131068761115,
          6.3233600911244725,
          6.191583921309434,
          6.396991103548121,
          6.056391465218568,
          6.372282992911699,
          6.017189493826944,
          3.8457399286698797,
          2.837704599779107,
          2.647847786283456,
          2.8308336443317,
          2.651098174850322,
          2.6076455528315967,
          2.581189922143034,
          2.583314414697899,
          3.8284659618519394,
          5.157229932648904,
          14.158010674533088,
          13.78902977403286,
          13.597569706684645,
          13.758100398876632,
          11.470577836196439,
          11.301756155674394,
          11.26934395915212,
          13.51805755683588,
          14.621787182561423,
          13.666870856791647,
          12.74091668855052,
          15.186754254641924,
          17.273756275668536,
          14.802906420530846,
          14.156039801388237,
          14.553920196045544,
          12.130016469020271,
          12.975775307831139,
          14.528648492344423,
          13.387675664518202,
          12.117892508876611,
          15.052485428513712,
          11.584015347778347,
          14.60811026390235,
          13.745737666960608,
          13.512680420012778,
          14.025698098604291,
          15.677280386456758,
          15.096589939730094,
          15.241850728963534,
          15.179666732693676,
          15.285441900057087,
          14.935405940874979,
          16.10440114469214,
          15.270487405278672,
          11.775797855848758,
          13.377698032414367,
          12.807730951557831,
          12.829681207462091,
          13.272091226861084,
          13.643867947020185,
          12.272359311357967,
          13.577194016119932,
          14.042746045983277,
          13.708226002477982
         ],
         "yaxis": "y"
        },
        {
         "hovertemplate": "cluster=1<br>x=%{x}<br>y=%{y}<extra></extra>",
         "legendgroup": "1",
         "marker": {
          "color": "rgb(255, 127, 14)",
          "symbol": "circle"
         },
         "mode": "markers",
         "name": "1",
         "orientation": "v",
         "showlegend": true,
         "type": "scatter",
         "x": [
          4.9074074074074066,
          6.428571428571428,
          17.240740740740744,
          17.214285714285715,
          11.074074074074076,
          12.11904761904762
         ],
         "xaxis": "x",
         "y": [
          2.726376271173232,
          2.474358296526967,
          2.726376271173232,
          3.50534092007987,
          13.407356251181309,
          12.33055217769272
         ],
         "yaxis": "y"
        },
        {
         "hovertemplate": "cluster=2<br>x=%{x}<br>y=%{y}<extra></extra>",
         "legendgroup": "2",
         "marker": {
          "color": "rgb(44, 160, 44)",
          "symbol": "circle"
         },
         "mode": "markers",
         "name": "2",
         "orientation": "v",
         "showlegend": true,
         "type": "scatter",
         "x": [
          3.4172661870503593,
          18.885496183206108,
          10.738261299357461
         ],
         "xaxis": "x",
         "y": [
          5.794270687190848,
          4.36318142364679,
          18.47460618367016
         ],
         "yaxis": "y"
        },
        {
         "line": {
          "color": "black",
          "width": 2
         },
         "mode": "lines",
         "showlegend": false,
         "type": "scatter",
         "x": [
          0,
          5.000000000000001,
          10,
          0
         ],
         "y": [
          0,
          8.660254037844386,
          0,
          0
         ]
        },
        {
         "line": {
          "color": "black",
          "width": 1
         },
         "mode": "lines",
         "showlegend": false,
         "type": "scatter",
         "x": [
          5,
          7.5,
          2.5000000000000004,
          5
         ],
         "y": [
          0,
          4.330127018922193,
          4.330127018922193,
          0
         ]
        },
        {
         "line": {
          "color": "black",
          "width": 1
         },
         "mode": "lines",
         "showlegend": false,
         "type": "scatter",
         "x": [
          0.5000000000000001,
          1,
          null,
          1.0000000000000002,
          1.5000000000000002,
          null,
          1.5000000000000004,
          2.0000000000000004,
          null,
          2.0000000000000004,
          2.5000000000000004,
          null,
          2.5000000000000004,
          3.0000000000000004,
          null,
          3.000000000000001,
          3.500000000000001,
          null,
          3.500000000000001,
          4.000000000000001,
          null,
          4.000000000000001,
          4.500000000000001,
          null,
          4.500000000000001,
          5.000000000000001,
          null,
          1,
          0.75,
          null,
          2,
          1.75,
          null,
          3.0000000000000004,
          2.7500000000000004,
          null,
          4,
          3.75,
          null,
          5,
          4.75,
          null,
          6.000000000000001,
          5.750000000000001,
          null,
          7.000000000000001,
          6.750000000000001,
          null,
          8,
          7.75,
          null,
          9,
          8.75,
          null,
          9.5,
          9.25,
          null,
          9,
          8.75,
          null,
          8.5,
          8.25,
          null,
          8,
          7.75,
          null,
          7.5,
          7.25,
          null,
          6.999999999999999,
          6.749999999999999,
          null,
          6.499999999999999,
          6.249999999999999,
          null,
          5.999999999999999,
          5.749999999999999,
          null,
          5.499999999999999,
          5.249999999999999,
          null
         ],
         "y": [
          0.8660254037844386,
          0.8660254037844386,
          null,
          1.7320508075688772,
          1.7320508075688772,
          null,
          2.598076211353316,
          2.598076211353316,
          null,
          3.4641016151377544,
          3.4641016151377544,
          null,
          4.330127018922193,
          4.330127018922193,
          null,
          5.196152422706632,
          5.196152422706632,
          null,
          6.06217782649107,
          6.06217782649107,
          null,
          6.928203230275509,
          6.928203230275509,
          null,
          7.794228634059947,
          7.794228634059947,
          null,
          0,
          0.4330127018922193,
          null,
          0,
          0.4330127018922193,
          null,
          0,
          0.4330127018922193,
          null,
          0,
          0.4330127018922193,
          null,
          0,
          0.4330127018922193,
          null,
          0,
          0.4330127018922193,
          null,
          0,
          0.4330127018922193,
          null,
          0,
          0.4330127018922193,
          null,
          0,
          0.4330127018922193,
          null,
          0.8660254037844386,
          0.4330127018922193,
          null,
          1.7320508075688772,
          1.299038105676658,
          null,
          2.598076211353316,
          2.165063509461097,
          null,
          3.4641016151377544,
          3.031088913245535,
          null,
          4.330127018922193,
          3.8971143170299736,
          null,
          5.196152422706632,
          4.763139720814412,
          null,
          6.06217782649107,
          5.629165124598851,
          null,
          6.928203230275509,
          6.495190528383289,
          null,
          7.794228634059947,
          7.3612159321677275,
          null
         ]
        },
        {
         "line": {
          "color": "black",
          "width": 1
         },
         "mode": "lines",
         "showlegend": false,
         "type": "scatter",
         "x": [
          23.500000000000004,
          23.000000000000004,
          null,
          23.000000000000004,
          22.500000000000004,
          null,
          22.500000000000004,
          22.000000000000004,
          null,
          22.000000000000004,
          21.500000000000004,
          null,
          21.500000000000004,
          21.000000000000004,
          null,
          21.000000000000004,
          20.500000000000004,
          null,
          20.500000000000004,
          20.000000000000004,
          null,
          20.000000000000004,
          19.500000000000004,
          null,
          19.500000000000004,
          19.000000000000004,
          null,
          23.000000000000004,
          23.250000000000004,
          null,
          22.000000000000004,
          22.250000000000004,
          null,
          21.000000000000004,
          21.250000000000004,
          null,
          20.000000000000004,
          20.250000000000004,
          null,
          19.000000000000004,
          19.250000000000004,
          null,
          18.000000000000004,
          18.250000000000004,
          null,
          17.000000000000004,
          17.250000000000004,
          null,
          16.000000000000004,
          16.250000000000004,
          null,
          15.000000000000004,
          15.250000000000004,
          null,
          14.500000000000004,
          14.750000000000004,
          null,
          15.000000000000004,
          15.250000000000004,
          null,
          15.500000000000004,
          15.750000000000004,
          null,
          16.000000000000004,
          16.250000000000004,
          null,
          16.500000000000004,
          16.750000000000004,
          null,
          17.000000000000004,
          17.250000000000004,
          null,
          17.500000000000004,
          17.750000000000004,
          null,
          18.000000000000004,
          18.250000000000004,
          null,
          18.500000000000004,
          18.750000000000004,
          null
         ],
         "y": [
          0.8660254037844386,
          0.8660254037844386,
          null,
          1.7320508075688772,
          1.7320508075688772,
          null,
          2.598076211353316,
          2.598076211353316,
          null,
          3.4641016151377544,
          3.4641016151377544,
          null,
          4.330127018922193,
          4.330127018922193,
          null,
          5.196152422706632,
          5.196152422706632,
          null,
          6.06217782649107,
          6.06217782649107,
          null,
          6.928203230275509,
          6.928203230275509,
          null,
          7.794228634059947,
          7.794228634059947,
          null,
          0,
          0.4330127018922193,
          null,
          0,
          0.4330127018922193,
          null,
          0,
          0.4330127018922193,
          null,
          0,
          0.4330127018922193,
          null,
          0,
          0.4330127018922193,
          null,
          0,
          0.4330127018922193,
          null,
          0,
          0.4330127018922193,
          null,
          0,
          0.4330127018922193,
          null,
          0,
          0.4330127018922193,
          null,
          0.8660254037844386,
          0.4330127018922193,
          null,
          1.7320508075688772,
          1.299038105676658,
          null,
          2.598076211353316,
          2.165063509461097,
          null,
          3.4641016151377544,
          3.031088913245535,
          null,
          4.330127018922193,
          3.8971143170299736,
          null,
          5.196152422706632,
          4.763139720814412,
          null,
          6.06217782649107,
          5.629165124598851,
          null,
          6.928203230275509,
          6.495190528383289,
          null,
          7.794228634059947,
          7.3612159321677275,
          null
         ]
        },
        {
         "line": {
          "color": "black",
          "width": 2
         },
         "mode": "lines",
         "showlegend": false,
         "type": "scatter",
         "x": [
          24.000000000000004,
          19.000000000000004,
          14.000000000000004,
          24.000000000000004
         ],
         "y": [
          0,
          8.660254037844386,
          0,
          0
         ]
        },
        {
         "line": {
          "color": "black",
          "width": 1
         },
         "mode": "lines",
         "showlegend": false,
         "type": "scatter",
         "x": [
          19.000000000000004,
          16.500000000000004,
          21.500000000000004,
          19.000000000000004
         ],
         "y": [
          0,
          4.330127018922193,
          4.330127018922193,
          0
         ]
        },
        {
         "line": {
          "color": "black",
          "width": 2
         },
         "mode": "lines",
         "showlegend": false,
         "type": "scatter",
         "x": [
          7.000000000000001,
          12.000000000000002,
          17.000000000000004,
          12.000000000000002,
          7.000000000000001
         ],
         "y": [
          12.124355652982139,
          20.784609690826525,
          12.124355652982139,
          3.4641016151377535,
          12.124355652982139
         ]
        },
        {
         "line": {
          "color": "black",
          "width": 1
         },
         "mode": "lines",
         "showlegend": false,
         "type": "scatter",
         "x": [
          9.500000000000002,
          14.500000000000004,
          null,
          9.500000000000002,
          14.500000000000004
         ],
         "y": [
          7.794228634059946,
          16.45448267190433,
          null,
          16.45448267190433,
          7.7942286340599445
         ]
        },
        {
         "line": {
          "color": "black",
          "width": 1
         },
         "mode": "lines",
         "showlegend": false,
         "type": "scatter",
         "x": [
          7.500000000000001,
          7.750000000000001,
          null,
          8.000000000000002,
          8.250000000000002,
          null,
          8.500000000000002,
          8.750000000000002,
          null,
          9.000000000000002,
          9.250000000000002,
          null,
          9.500000000000002,
          9.750000000000002,
          null,
          10.000000000000002,
          10.250000000000002,
          null,
          10.500000000000002,
          10.750000000000002,
          null,
          11.000000000000002,
          11.250000000000002,
          null,
          11.500000000000002,
          11.750000000000002,
          null,
          12.500000000000002,
          12.250000000000002,
          null,
          13.000000000000002,
          12.750000000000002,
          null,
          13.500000000000002,
          13.250000000000002,
          null,
          14.000000000000002,
          13.750000000000002,
          null,
          14.500000000000002,
          14.250000000000002,
          null,
          15.000000000000004,
          14.750000000000004,
          null,
          15.500000000000004,
          15.250000000000004,
          null,
          16.000000000000004,
          15.750000000000004,
          null,
          16.500000000000004,
          16.250000000000004,
          null,
          12.500000000000002,
          12.250000000000002,
          null,
          13.000000000000002,
          12.750000000000002,
          null,
          13.500000000000002,
          13.250000000000002,
          null,
          14.000000000000002,
          13.750000000000002,
          null,
          14.500000000000002,
          14.250000000000002,
          null,
          15.000000000000004,
          14.750000000000004,
          null,
          15.500000000000004,
          15.250000000000004,
          null,
          16.000000000000004,
          15.750000000000004,
          null,
          16.500000000000004,
          16.250000000000004,
          null,
          7.500000000000001,
          7.750000000000001,
          null,
          8.000000000000002,
          8.250000000000002,
          null,
          8.500000000000002,
          8.750000000000002,
          null,
          9.000000000000002,
          9.250000000000002,
          null,
          9.500000000000002,
          9.750000000000002,
          null,
          10.000000000000002,
          10.250000000000002,
          null,
          10.500000000000002,
          10.750000000000002,
          null,
          11.000000000000002,
          11.250000000000002,
          null,
          11.500000000000002,
          11.750000000000002,
          null
         ],
         "y": [
          12.990381056766578,
          12.55736835487436,
          null,
          13.856406460551016,
          13.423393758658797,
          null,
          14.722431864335455,
          14.289419162443236,
          null,
          15.588457268119893,
          15.155444566227674,
          null,
          16.45448267190433,
          16.02146997001211,
          null,
          17.32050807568877,
          16.88749537379655,
          null,
          18.18653347947321,
          17.753520777580988,
          null,
          19.052558883257646,
          18.619546181365425,
          null,
          19.918584287042087,
          19.485571585149867,
          null,
          4.330127018922192,
          4.7631397208144115,
          null,
          5.19615242270663,
          5.62916512459885,
          null,
          6.0621778264910695,
          6.495190528383289,
          null,
          6.928203230275508,
          7.3612159321677275,
          null,
          7.794228634059946,
          8.227241335952165,
          null,
          8.660254037844386,
          9.093266739736604,
          null,
          9.526279441628823,
          9.959292143521042,
          null,
          10.392304845413262,
          10.825317547305481,
          null,
          11.258330249197702,
          11.69134295108992,
          null,
          19.918584287042087,
          19.485571585149867,
          null,
          19.052558883257646,
          18.619546181365425,
          null,
          18.18653347947321,
          17.753520777580988,
          null,
          17.32050807568877,
          16.88749537379655,
          null,
          16.45448267190433,
          16.02146997001211,
          null,
          15.588457268119893,
          15.155444566227674,
          null,
          14.722431864335455,
          14.289419162443236,
          null,
          13.856406460551016,
          13.423393758658797,
          null,
          12.990381056766577,
          12.557368354874358,
          null,
          11.2583302491977,
          11.691342951089919,
          null,
          10.392304845413262,
          10.825317547305481,
          null,
          9.526279441628823,
          9.959292143521042,
          null,
          8.660254037844386,
          9.093266739736604,
          null,
          7.794228634059946,
          8.227241335952165,
          null,
          6.928203230275507,
          7.361215932167727,
          null,
          6.062177826491069,
          6.495190528383288,
          null,
          5.19615242270663,
          5.62916512459885,
          null,
          4.330127018922192,
          4.7631397208144115,
          null
         ]
        },
        {
         "mode": "text",
         "showlegend": false,
         "text": [
          "(I)",
          "(II)",
          "(III)",
          "(IV)"
         ],
         "type": "scatter",
         "x": [
          12.000000000000002,
          14.5,
          12.000000000000002,
          9.5
         ],
         "y": [
          18.784609690826525,
          12.124355652982139,
          5.4641016151377535,
          12.124355652982139
         ]
        }
       ],
       "layout": {
        "annotations": [
         {
          "arrowcolor": "black",
          "arrowhead": 2,
          "ax": 0.5000000000000002,
          "axref": "x",
          "ay": 2.5980762113533156,
          "ayref": "y",
          "showarrow": true,
          "x": 2.5000000000000004,
          "y": 6.0621778264910695
         },
         {
          "arrowcolor": "black",
          "arrowhead": 2,
          "ax": 7.5,
          "axref": "x",
          "ay": -0.8660254037844386,
          "ayref": "y",
          "showarrow": true,
          "x": 2.5,
          "y": -0.8660254037844386
         },
         {
          "showarrow": false,
          "text": "Ca",
          "x": 5,
          "y": -1
         },
         {
          "showarrow": false,
          "text": "Mg",
          "textangle": -60,
          "x": 1.5000000000000004,
          "y": 6.0621778264910695
         },
         {
          "arrowcolor": "black",
          "arrowhead": 2,
          "ax": 23.500000000000004,
          "axref": "x",
          "ay": 2.5980762113533156,
          "ayref": "y",
          "showarrow": true,
          "x": 21.500000000000004,
          "y": 6.0621778264910695
         },
         {
          "arrowcolor": "black",
          "arrowhead": 2,
          "ax": 16.500000000000004,
          "axref": "x",
          "ay": -0.8660254037844386,
          "ayref": "y",
          "showarrow": true,
          "x": 21.500000000000004,
          "y": -0.8660254037844386
         },
         {
          "showarrow": false,
          "text": "Cl",
          "x": 19.000000000000004,
          "y": -1
         },
         {
          "showarrow": false,
          "text": "SO4",
          "textangle": 60,
          "x": 22.500000000000004,
          "y": 6.0621778264910695
         },
         {
          "arrowcolor": "black",
          "arrowhead": 2,
          "ax": 7.000000000000001,
          "axref": "x",
          "ay": 13.856406460551018,
          "ayref": "y",
          "showarrow": true,
          "x": 10.500000000000002,
          "y": 19.918584287042087
         },
         {
          "arrowcolor": "black",
          "arrowhead": 2,
          "ax": 16.500000000000004,
          "axref": "x",
          "ay": 14.722431864335453,
          "ayref": "y",
          "showarrow": true,
          "x": 13.500000000000004,
          "y": 19.918584287042084
         },
         {
          "arrowcolor": "black",
          "arrowhead": 2,
          "ax": 7.500000000000001,
          "axref": "x",
          "ay": 9.526279441628823,
          "ayref": "y",
          "showarrow": true,
          "x": 10.500000000000002,
          "y": 4.330127018922191
         },
         {
          "arrowcolor": "black",
          "arrowhead": 2,
          "ax": 16.500000000000004,
          "axref": "x",
          "ay": 9.526279441628823,
          "ayref": "y",
          "showarrow": true,
          "x": 13.500000000000004,
          "y": 4.330127018922191
         },
         {
          "showarrow": false,
          "text": "SO4 + Cl",
          "textangle": -60,
          "x": 8.500000000000002,
          "y": 18.18653347947321
         },
         {
          "showarrow": false,
          "text": "Ca + Mg",
          "textangle": 60,
          "x": 15.500000000000004,
          "y": 18.18653347947321
         },
         {
          "showarrow": false,
          "text": "Na + K",
          "textangle": 60,
          "x": 8.500000000000002,
          "y": 6.0621778264910695
         },
         {
          "showarrow": false,
          "text": "Na + K",
          "textangle": -60,
          "x": 15.500000000000002,
          "y": 6.0621778264910695
         }
        ],
        "legend": {
         "title": {
          "text": "cluster"
         },
         "tracegroupgap": 0
        },
        "margin": {
         "t": 60
        },
        "template": {
         "data": {
          "bar": [
           {
            "error_x": {
             "color": "#2a3f5f"
            },
            "error_y": {
             "color": "#2a3f5f"
            },
            "marker": {
             "line": {
              "color": "white",
              "width": 0.5
             },
             "pattern": {
              "fillmode": "overlay",
              "size": 10,
              "solidity": 0.2
             }
            },
            "type": "bar"
           }
          ],
          "barpolar": [
           {
            "marker": {
             "line": {
              "color": "white",
              "width": 0.5
             },
             "pattern": {
              "fillmode": "overlay",
              "size": 10,
              "solidity": 0.2
             }
            },
            "type": "barpolar"
           }
          ],
          "carpet": [
           {
            "aaxis": {
             "endlinecolor": "#2a3f5f",
             "gridcolor": "#C8D4E3",
             "linecolor": "#C8D4E3",
             "minorgridcolor": "#C8D4E3",
             "startlinecolor": "#2a3f5f"
            },
            "baxis": {
             "endlinecolor": "#2a3f5f",
             "gridcolor": "#C8D4E3",
             "linecolor": "#C8D4E3",
             "minorgridcolor": "#C8D4E3",
             "startlinecolor": "#2a3f5f"
            },
            "type": "carpet"
           }
          ],
          "choropleth": [
           {
            "colorbar": {
             "outlinewidth": 0,
             "ticks": ""
            },
            "type": "choropleth"
           }
          ],
          "contour": [
           {
            "colorbar": {
             "outlinewidth": 0,
             "ticks": ""
            },
            "colorscale": [
             [
              0,
              "#0d0887"
             ],
             [
              0.1111111111111111,
              "#46039f"
             ],
             [
              0.2222222222222222,
              "#7201a8"
             ],
             [
              0.3333333333333333,
              "#9c179e"
             ],
             [
              0.4444444444444444,
              "#bd3786"
             ],
             [
              0.5555555555555556,
              "#d8576b"
             ],
             [
              0.6666666666666666,
              "#ed7953"
             ],
             [
              0.7777777777777778,
              "#fb9f3a"
             ],
             [
              0.8888888888888888,
              "#fdca26"
             ],
             [
              1,
              "#f0f921"
             ]
            ],
            "type": "contour"
           }
          ],
          "contourcarpet": [
           {
            "colorbar": {
             "outlinewidth": 0,
             "ticks": ""
            },
            "type": "contourcarpet"
           }
          ],
          "heatmap": [
           {
            "colorbar": {
             "outlinewidth": 0,
             "ticks": ""
            },
            "colorscale": [
             [
              0,
              "#0d0887"
             ],
             [
              0.1111111111111111,
              "#46039f"
             ],
             [
              0.2222222222222222,
              "#7201a8"
             ],
             [
              0.3333333333333333,
              "#9c179e"
             ],
             [
              0.4444444444444444,
              "#bd3786"
             ],
             [
              0.5555555555555556,
              "#d8576b"
             ],
             [
              0.6666666666666666,
              "#ed7953"
             ],
             [
              0.7777777777777778,
              "#fb9f3a"
             ],
             [
              0.8888888888888888,
              "#fdca26"
             ],
             [
              1,
              "#f0f921"
             ]
            ],
            "type": "heatmap"
           }
          ],
          "heatmapgl": [
           {
            "colorbar": {
             "outlinewidth": 0,
             "ticks": ""
            },
            "colorscale": [
             [
              0,
              "#0d0887"
             ],
             [
              0.1111111111111111,
              "#46039f"
             ],
             [
              0.2222222222222222,
              "#7201a8"
             ],
             [
              0.3333333333333333,
              "#9c179e"
             ],
             [
              0.4444444444444444,
              "#bd3786"
             ],
             [
              0.5555555555555556,
              "#d8576b"
             ],
             [
              0.6666666666666666,
              "#ed7953"
             ],
             [
              0.7777777777777778,
              "#fb9f3a"
             ],
             [
              0.8888888888888888,
              "#fdca26"
             ],
             [
              1,
              "#f0f921"
             ]
            ],
            "type": "heatmapgl"
           }
          ],
          "histogram": [
           {
            "marker": {
             "pattern": {
              "fillmode": "overlay",
              "size": 10,
              "solidity": 0.2
             }
            },
            "type": "histogram"
           }
          ],
          "histogram2d": [
           {
            "colorbar": {
             "outlinewidth": 0,
             "ticks": ""
            },
            "colorscale": [
             [
              0,
              "#0d0887"
             ],
             [
              0.1111111111111111,
              "#46039f"
             ],
             [
              0.2222222222222222,
              "#7201a8"
             ],
             [
              0.3333333333333333,
              "#9c179e"
             ],
             [
              0.4444444444444444,
              "#bd3786"
             ],
             [
              0.5555555555555556,
              "#d8576b"
             ],
             [
              0.6666666666666666,
              "#ed7953"
             ],
             [
              0.7777777777777778,
              "#fb9f3a"
             ],
             [
              0.8888888888888888,
              "#fdca26"
             ],
             [
              1,
              "#f0f921"
             ]
            ],
            "type": "histogram2d"
           }
          ],
          "histogram2dcontour": [
           {
            "colorbar": {
             "outlinewidth": 0,
             "ticks": ""
            },
            "colorscale": [
             [
              0,
              "#0d0887"
             ],
             [
              0.1111111111111111,
              "#46039f"
             ],
             [
              0.2222222222222222,
              "#7201a8"
             ],
             [
              0.3333333333333333,
              "#9c179e"
             ],
             [
              0.4444444444444444,
              "#bd3786"
             ],
             [
              0.5555555555555556,
              "#d8576b"
             ],
             [
              0.6666666666666666,
              "#ed7953"
             ],
             [
              0.7777777777777778,
              "#fb9f3a"
             ],
             [
              0.8888888888888888,
              "#fdca26"
             ],
             [
              1,
              "#f0f921"
             ]
            ],
            "type": "histogram2dcontour"
           }
          ],
          "mesh3d": [
           {
            "colorbar": {
             "outlinewidth": 0,
             "ticks": ""
            },
            "type": "mesh3d"
           }
          ],
          "parcoords": [
           {
            "line": {
             "colorbar": {
              "outlinewidth": 0,
              "ticks": ""
             }
            },
            "type": "parcoords"
           }
          ],
          "pie": [
           {
            "automargin": true,
            "type": "pie"
           }
          ],
          "scatter": [
           {
            "fillpattern": {
             "fillmode": "overlay",
             "size": 10,
             "solidity": 0.2
            },
            "type": "scatter"
           }
          ],
          "scatter3d": [
           {
            "line": {
             "colorbar": {
              "outlinewidth": 0,
              "ticks": ""
             }
            },
            "marker": {
             "colorbar": {
              "outlinewidth": 0,
              "ticks": ""
             }
            },
            "type": "scatter3d"
           }
          ],
          "scattercarpet": [
           {
            "marker": {
             "colorbar": {
              "outlinewidth": 0,
              "ticks": ""
             }
            },
            "type": "scattercarpet"
           }
          ],
          "scattergeo": [
           {
            "marker": {
             "colorbar": {
              "outlinewidth": 0,
              "ticks": ""
             }
            },
            "type": "scattergeo"
           }
          ],
          "scattergl": [
           {
            "marker": {
             "colorbar": {
              "outlinewidth": 0,
              "ticks": ""
             }
            },
            "type": "scattergl"
           }
          ],
          "scattermapbox": [
           {
            "marker": {
             "colorbar": {
              "outlinewidth": 0,
              "ticks": ""
             }
            },
            "type": "scattermapbox"
           }
          ],
          "scatterpolar": [
           {
            "marker": {
             "colorbar": {
              "outlinewidth": 0,
              "ticks": ""
             }
            },
            "type": "scatterpolar"
           }
          ],
          "scatterpolargl": [
           {
            "marker": {
             "colorbar": {
              "outlinewidth": 0,
              "ticks": ""
             }
            },
            "type": "scatterpolargl"
           }
          ],
          "scatterternary": [
           {
            "marker": {
             "colorbar": {
              "outlinewidth": 0,
              "ticks": ""
             }
            },
            "type": "scatterternary"
           }
          ],
          "surface": [
           {
            "colorbar": {
             "outlinewidth": 0,
             "ticks": ""
            },
            "colorscale": [
             [
              0,
              "#0d0887"
             ],
             [
              0.1111111111111111,
              "#46039f"
             ],
             [
              0.2222222222222222,
              "#7201a8"
             ],
             [
              0.3333333333333333,
              "#9c179e"
             ],
             [
              0.4444444444444444,
              "#bd3786"
             ],
             [
              0.5555555555555556,
              "#d8576b"
             ],
             [
              0.6666666666666666,
              "#ed7953"
             ],
             [
              0.7777777777777778,
              "#fb9f3a"
             ],
             [
              0.8888888888888888,
              "#fdca26"
             ],
             [
              1,
              "#f0f921"
             ]
            ],
            "type": "surface"
           }
          ],
          "table": [
           {
            "cells": {
             "fill": {
              "color": "#EBF0F8"
             },
             "line": {
              "color": "white"
             }
            },
            "header": {
             "fill": {
              "color": "#C8D4E3"
             },
             "line": {
              "color": "white"
             }
            },
            "type": "table"
           }
          ]
         },
         "layout": {
          "annotationdefaults": {
           "arrowcolor": "#2a3f5f",
           "arrowhead": 0,
           "arrowwidth": 1
          },
          "autotypenumbers": "strict",
          "coloraxis": {
           "colorbar": {
            "outlinewidth": 0,
            "ticks": ""
           }
          },
          "colorscale": {
           "diverging": [
            [
             0,
             "#8e0152"
            ],
            [
             0.1,
             "#c51b7d"
            ],
            [
             0.2,
             "#de77ae"
            ],
            [
             0.3,
             "#f1b6da"
            ],
            [
             0.4,
             "#fde0ef"
            ],
            [
             0.5,
             "#f7f7f7"
            ],
            [
             0.6,
             "#e6f5d0"
            ],
            [
             0.7,
             "#b8e186"
            ],
            [
             0.8,
             "#7fbc41"
            ],
            [
             0.9,
             "#4d9221"
            ],
            [
             1,
             "#276419"
            ]
           ],
           "sequential": [
            [
             0,
             "#0d0887"
            ],
            [
             0.1111111111111111,
             "#46039f"
            ],
            [
             0.2222222222222222,
             "#7201a8"
            ],
            [
             0.3333333333333333,
             "#9c179e"
            ],
            [
             0.4444444444444444,
             "#bd3786"
            ],
            [
             0.5555555555555556,
             "#d8576b"
            ],
            [
             0.6666666666666666,
             "#ed7953"
            ],
            [
             0.7777777777777778,
             "#fb9f3a"
            ],
            [
             0.8888888888888888,
             "#fdca26"
            ],
            [
             1,
             "#f0f921"
            ]
           ],
           "sequentialminus": [
            [
             0,
             "#0d0887"
            ],
            [
             0.1111111111111111,
             "#46039f"
            ],
            [
             0.2222222222222222,
             "#7201a8"
            ],
            [
             0.3333333333333333,
             "#9c179e"
            ],
            [
             0.4444444444444444,
             "#bd3786"
            ],
            [
             0.5555555555555556,
             "#d8576b"
            ],
            [
             0.6666666666666666,
             "#ed7953"
            ],
            [
             0.7777777777777778,
             "#fb9f3a"
            ],
            [
             0.8888888888888888,
             "#fdca26"
            ],
            [
             1,
             "#f0f921"
            ]
           ]
          },
          "colorway": [
           "#636efa",
           "#EF553B",
           "#00cc96",
           "#ab63fa",
           "#FFA15A",
           "#19d3f3",
           "#FF6692",
           "#B6E880",
           "#FF97FF",
           "#FECB52"
          ],
          "font": {
           "color": "#2a3f5f"
          },
          "geo": {
           "bgcolor": "white",
           "lakecolor": "white",
           "landcolor": "white",
           "showlakes": true,
           "showland": true,
           "subunitcolor": "#C8D4E3"
          },
          "hoverlabel": {
           "align": "left"
          },
          "hovermode": "closest",
          "mapbox": {
           "style": "light"
          },
          "paper_bgcolor": "white",
          "plot_bgcolor": "white",
          "polar": {
           "angularaxis": {
            "gridcolor": "#EBF0F8",
            "linecolor": "#EBF0F8",
            "ticks": ""
           },
           "bgcolor": "white",
           "radialaxis": {
            "gridcolor": "#EBF0F8",
            "linecolor": "#EBF0F8",
            "ticks": ""
           }
          },
          "scene": {
           "xaxis": {
            "backgroundcolor": "white",
            "gridcolor": "#DFE8F3",
            "gridwidth": 2,
            "linecolor": "#EBF0F8",
            "showbackground": true,
            "ticks": "",
            "zerolinecolor": "#EBF0F8"
           },
           "yaxis": {
            "backgroundcolor": "white",
            "gridcolor": "#DFE8F3",
            "gridwidth": 2,
            "linecolor": "#EBF0F8",
            "showbackground": true,
            "ticks": "",
            "zerolinecolor": "#EBF0F8"
           },
           "zaxis": {
            "backgroundcolor": "white",
            "gridcolor": "#DFE8F3",
            "gridwidth": 2,
            "linecolor": "#EBF0F8",
            "showbackground": true,
            "ticks": "",
            "zerolinecolor": "#EBF0F8"
           }
          },
          "shapedefaults": {
           "line": {
            "color": "#2a3f5f"
           }
          },
          "ternary": {
           "aaxis": {
            "gridcolor": "#DFE8F3",
            "linecolor": "#A2B1C6",
            "ticks": ""
           },
           "baxis": {
            "gridcolor": "#DFE8F3",
            "linecolor": "#A2B1C6",
            "ticks": ""
           },
           "bgcolor": "white",
           "caxis": {
            "gridcolor": "#DFE8F3",
            "linecolor": "#A2B1C6",
            "ticks": ""
           }
          },
          "title": {
           "x": 0.05
          },
          "xaxis": {
           "automargin": true,
           "gridcolor": "#EBF0F8",
           "linecolor": "#EBF0F8",
           "ticks": "",
           "title": {
            "standoff": 15
           },
           "zerolinecolor": "#EBF0F8",
           "zerolinewidth": 2
          },
          "yaxis": {
           "automargin": true,
           "gridcolor": "#EBF0F8",
           "linecolor": "#EBF0F8",
           "ticks": "",
           "title": {
            "standoff": 15
           },
           "zerolinecolor": "#EBF0F8",
           "zerolinewidth": 2
          }
         }
        },
        "xaxis": {
         "anchor": "y",
         "domain": [
          0,
          1
         ],
         "showgrid": false,
         "showticklabels": false,
         "zeroline": false
        },
        "yaxis": {
         "anchor": "x",
         "domain": [
          0,
          1
         ],
         "scaleanchor": "x",
         "showgrid": false,
         "showticklabels": false,
         "zeroline": false
        }
       }
      }
     },
     "metadata": {},
     "output_type": "display_data"
    }
   ],
   "source": [
    "# ------------------------------------------------------------\n",
    "# Figure settings\n",
    "# ------------------------------------------------------------\n",
    "\n",
    "axis_length = 10\n",
    "theta = np.pi/3\n",
    "line_color = \"black\"\n",
    "gap = 0.4\n",
    "tick_length = 0.05\n",
    "arrow_args = dict(\n",
    "    axref=\"x\",\n",
    "    ayref=\"y\",\n",
    "    showarrow=True,\n",
    "    arrowhead=2,\n",
    "    arrowcolor=line_color,\n",
    ")\n",
    "arrow_txt_args = dict(\n",
    "    showarrow=False,\n",
    ")\n",
    "outer_axis_args = dict(\n",
    "    mode=\"lines\",\n",
    "    line=dict(color=line_color, width=2),\n",
    "    showlegend=False,\n",
    ")\n",
    "inner_axis_args = dict(\n",
    "    mode=\"lines\",\n",
    "    line=dict(color=line_color, width=1),\n",
    "    showlegend=False,\n",
    ")\n",
    "\n",
    "diamond_u = axis_length * np.array([np.cos(-theta), np.sin(-theta)])\n",
    "diamond_v = axis_length * np.array([np.cos(theta), np.sin(theta)])\n",
    "\n",
    "lowerleft_v = diamond_v.copy()\n",
    "lowerleft_u = np.array([axis_length, 0])\n",
    "lowerleft_w = -diamond_u\n",
    "lowerleft_o = np.zeros_like(lowerleft_v)\n",
    "\n",
    "diamond_o = lowerleft_o + (1 + gap) * diamond_v\n",
    "lowerright_o = lowerleft_o + (2 + gap)  * diamond_v + (2 + gap) * diamond_u\n",
    "lowerright_u = -lowerleft_u\n",
    "lowerright_v = -diamond_u\n",
    "lowerright_w = lowerleft_v\n",
    "\n",
    "ticks = np.arange(1, 10) * 0.1\n",
    "\n",
    "# ------------------------------------------------------------\n",
    "# Setup data and initial plot\n",
    "# ------------------------------------------------------------\n",
    "\n",
    "# Lower left data\n",
    "data_lowerleft = (\n",
    "    lowerleft_o[:, np.newaxis]\n",
    "    + (1 - (df['Ca%'])).values * lowerleft_u[:, np.newaxis]\n",
    "    + df['Mg%'].values * lowerleft_w[:, np.newaxis]\n",
    ").T\n",
    "\n",
    "# Lower right data\n",
    "data_lowerright = (\n",
    "    lowerright_o[:, np.newaxis]\n",
    "    + (1 - (df['Cl%'])).values * lowerright_u[:, np.newaxis]\n",
    "    + df['SO4%'].values * lowerright_w[:, np.newaxis]\n",
    ").T\n",
    "\n",
    "# Diamond data\n",
    "data_diamond = (\n",
    "    diamond_o[:, np.newaxis]\n",
    "    + df['K+Na%'].values * diamond_u[:, np.newaxis]\n",
    "    + (df['SO4%'] + df['Cl%']).values * diamond_v[:, np.newaxis]\n",
    ").T\n",
    "\n",
    "xy_data = np.vstack((data_lowerleft, data_lowerright, data_diamond))\n",
    "plotting_df = pd.DataFrame(xy_data, columns=['x', 'y'])\n",
    "plotting_df['cluster'] = np.hstack([df['cluster_label'].values.tolist()] * 3).astype(str)\n",
    "color_map = {str(i): c for i, c in enumerate(DEFAULT_PLOTLY_COLORS)}\n",
    "fig_piper = px.scatter(plotting_df, x=\"x\", y=\"y\", color=\"cluster\", color_discrete_map=color_map)\n",
    "\n",
    "# ------------------------------------------------------------\n",
    "# Lower-left triangle\n",
    "# ------------------------------------------------------------\n",
    "\n",
    "ll_axis = np.array([\n",
    "    lowerleft_o,\n",
    "    lowerleft_o + lowerleft_v,\n",
    "    lowerleft_o + lowerleft_u,\n",
    "    lowerleft_o,\n",
    "])\n",
    "ll_tri = np.array([\n",
    "    lowerleft_o + 0.5 * lowerleft_u,\n",
    "    lowerleft_o + 0.5 * lowerleft_u + 0.5 * lowerleft_v,\n",
    "    lowerleft_o + 0.5 * lowerleft_v,\n",
    "    lowerleft_o + 0.5 * lowerleft_u,\n",
    "])\n",
    "# Ticks, left side\n",
    "ll_tick_l0 = lowerleft_o + lowerleft_v * ticks[:, np.newaxis]\n",
    "ll_tick_l1 = ll_tick_l0 + tick_length * lowerleft_u\n",
    "ll_tick_left = np.full((ll_tick_l0.shape[0] * 3, 2), fill_value=np.nan)\n",
    "ll_tick_left[::3] = ll_tick_l0\n",
    "ll_tick_left[1::3] = ll_tick_l1\n",
    "# Ticks, bottom\n",
    "ll_tick_b0 = lowerleft_o + lowerleft_u * ticks[:, np.newaxis]\n",
    "ll_tick_b1 = ll_tick_b0 + tick_length * lowerleft_w\n",
    "ll_tick_bot = np.full((ll_tick_b0.shape[0] * 3, 2), fill_value=np.nan)\n",
    "ll_tick_bot[::3] = ll_tick_b0\n",
    "ll_tick_bot[1::3] = ll_tick_b1\n",
    "# Ticks, right side\n",
    "ll_tick_r0 = lowerleft_o + lowerleft_u + lowerleft_w * ticks[:, np.newaxis]\n",
    "ll_tick_r1 = ll_tick_r0 - tick_length * lowerleft_v\n",
    "ll_tick_right = np.full((ll_tick_r0.shape[0] * 3, 2), fill_value=np.nan)\n",
    "ll_tick_right[::3] = ll_tick_r0\n",
    "ll_tick_right[1::3] = ll_tick_r1\n",
    "# All ticks merged\n",
    "ll_all_ticks = np.vstack((ll_tick_left, ll_tick_bot, ll_tick_right))\n",
    "\n",
    "fig_piper.add_scatter(\n",
    "    x=ll_axis[:, 0],\n",
    "    y=ll_axis[:, 1],\n",
    "    **outer_axis_args,\n",
    ")\n",
    "fig_piper.add_scatter(\n",
    "    x=ll_tri[:, 0],\n",
    "    y=ll_tri[:, 1],\n",
    "    **inner_axis_args,\n",
    ")\n",
    "fig_piper.add_scatter(\n",
    "    x=ll_all_ticks[:, 0],\n",
    "    y=ll_all_ticks[:, 1],\n",
    "    **inner_axis_args,\n",
    ")\n",
    "lowerleft_arrows = np.array([\n",
    "    # Mg\n",
    "    lowerleft_o - 0.1 * lowerleft_u + 0.3 * lowerleft_v,\n",
    "    lowerleft_o - 0.1 * lowerleft_u + 0.7 * lowerleft_v,\n",
    "    # Ca\n",
    "    lowerleft_o + 0.8 * lowerleft_u - 0.1 * lowerleft_v,\n",
    "    lowerleft_o + 0.3 * lowerleft_u - 0.1 * lowerleft_v,\n",
    "])\n",
    "fig_piper.add_annotation(\n",
    "    x=lowerleft_arrows[1, 0],\n",
    "    y=lowerleft_arrows[1, 1],\n",
    "    ax=lowerleft_arrows[0, 0],\n",
    "    ay=lowerleft_arrows[0, 1],\n",
    "    **arrow_args,\n",
    ")\n",
    "fig_piper.add_annotation(\n",
    "    x=lowerleft_arrows[3, 0],\n",
    "    y=lowerleft_arrows[3, 1],\n",
    "    ax=lowerleft_arrows[2, 0],\n",
    "    ay=lowerleft_arrows[2, 1],\n",
    "    **arrow_args,\n",
    ")\n",
    "fig_piper.add_annotation(\n",
    "    x=lowerleft_o[0] + 0.5 * lowerleft_u[0],\n",
    "    y=lowerleft_o[1] - 0.1 * axis_length,\n",
    "    text=\"Ca\",\n",
    "    showarrow=False,\n",
    ")\n",
    "arrow_text_mg = lowerleft_o - 0.2 * lowerleft_u + 0.7 * lowerleft_v \n",
    "fig_piper.add_annotation(\n",
    "    x=arrow_text_mg[0],\n",
    "    y=arrow_text_mg[1],\n",
    "    text=\"Mg\",\n",
    "    textangle=-60,\n",
    "    showarrow=False,\n",
    ")\n",
    "\n",
    "# ------------------------------------------------------------\n",
    "# Lower right triangle\n",
    "# ------------------------------------------------------------\n",
    "\n",
    "lr_axis = np.array([\n",
    "    lowerright_o,\n",
    "    lowerright_o + lowerright_v,\n",
    "    lowerright_o + lowerright_u,\n",
    "    lowerright_o,\n",
    "])\n",
    "lr_tri = np.array([\n",
    "    lowerright_o + 0.5 * lowerright_u,\n",
    "    lowerright_o + 0.5 * lowerright_u + 0.5 * lowerright_v,\n",
    "    lowerright_o + 0.5 * lowerright_v,\n",
    "    lowerright_o + 0.5 * lowerright_u,\n",
    "])\n",
    "\n",
    "# Ticks, right side\n",
    "lr_tick_l0 = lowerright_o + lowerright_v * ticks[:, np.newaxis]\n",
    "lr_tick_l1 = lr_tick_l0 + tick_length * lowerright_u\n",
    "lr_tick_left = np.full((lr_tick_l0.shape[0] * 3, 2), fill_value=np.nan)\n",
    "lr_tick_left[::3] = lr_tick_l0\n",
    "lr_tick_left[1::3] = lr_tick_l1\n",
    "# Ticks, bottom\n",
    "lr_tick_b0 = lowerright_o + lowerright_u * ticks[:, np.newaxis]\n",
    "lr_tick_b1 = lr_tick_b0 + tick_length * lowerright_w\n",
    "lr_tick_bot = np.full((lr_tick_b0.shape[0] * 3, 2), fill_value=np.nan)\n",
    "lr_tick_bot[::3] = lr_tick_b0\n",
    "lr_tick_bot[1::3] = lr_tick_b1\n",
    "# Ticks, left side\n",
    "lr_tick_r0 = lowerright_o + lowerright_u + lowerright_w * ticks[:, np.newaxis]\n",
    "lr_tick_r1 = lr_tick_r0 - tick_length * lowerright_v\n",
    "lr_tick_right = np.full((lr_tick_r0.shape[0] * 3, 2), fill_value=np.nan)\n",
    "lr_tick_right[::3] = lr_tick_r0\n",
    "lr_tick_right[1::3] = lr_tick_r1\n",
    "# All ticks merged\n",
    "lr_all_ticks = np.vstack((lr_tick_left, lr_tick_bot, lr_tick_right))\n",
    "\n",
    "fig_piper.add_scatter(\n",
    "    x=lr_all_ticks[:, 0],\n",
    "    y=lr_all_ticks[:, 1],\n",
    "    **inner_axis_args,\n",
    ")\n",
    "fig_piper.add_scatter(\n",
    "    x=lr_axis[:, 0],\n",
    "    y=lr_axis[:, 1],\n",
    "    **outer_axis_args,\n",
    ")\n",
    "fig_piper.add_scatter(\n",
    "    x=lr_tri[:, 0],\n",
    "    y=lr_tri[:, 1],\n",
    "    **inner_axis_args,\n",
    ")\n",
    "\n",
    "lowerright_arrows = np.array([\n",
    "    # Mg\n",
    "    lowerright_o - 0.1 * lowerright_u + 0.3 * lowerright_v,\n",
    "    lowerright_o - 0.1 * lowerright_u + 0.7 * lowerright_v,\n",
    "    # Ca\n",
    "    lowerright_o + 0.8 * lowerright_u - 0.1 * lowerright_v,\n",
    "    lowerright_o + 0.3 * lowerright_u - 0.1 * lowerright_v,\n",
    "])\n",
    "\n",
    "fig_piper.add_annotation(\n",
    "    x=lowerright_arrows[1, 0],\n",
    "    y=lowerright_arrows[1, 1],\n",
    "    ax=lowerright_arrows[0, 0],\n",
    "    ay=lowerright_arrows[0, 1],\n",
    "    **arrow_args,\n",
    ")\n",
    "fig_piper.add_annotation(\n",
    "    x=lowerright_arrows[3, 0],\n",
    "    y=lowerright_arrows[3, 1],\n",
    "    ax=lowerright_arrows[2, 0],\n",
    "    ay=lowerright_arrows[2, 1],\n",
    "    **arrow_args,\n",
    ")\n",
    "fig_piper.add_annotation(\n",
    "    x=lowerright_o[0] + 0.5 * lowerright_u[0],\n",
    "    y=lowerright_o[1] - 0.1 * axis_length,\n",
    "    text=\"Cl\",\n",
    "    showarrow=False,\n",
    ")\n",
    "arrow_text_so4 = lowerright_o - 0.2 * lowerright_u + 0.7 * lowerright_v \n",
    "fig_piper.add_annotation(\n",
    "    x=arrow_text_so4[0],\n",
    "    y=arrow_text_so4[1],\n",
    "    text=\"SO4\",\n",
    "    textangle=60,\n",
    "    showarrow=False,\n",
    ")\n",
    "\n",
    "# ------------------------------------------------------------\n",
    "# Diamond axis parameters\n",
    "# ------------------------------------------------------------\n",
    "\n",
    "# Diamond axes\n",
    "axis_xy = np.array([\n",
    "    diamond_o,\n",
    "    diamond_o + diamond_v,\n",
    "    diamond_o + diamond_v + diamond_u,\n",
    "    diamond_o + diamond_u,\n",
    "    diamond_o,\n",
    "])\n",
    "fig_piper.add_scatter(\n",
    "    x=axis_xy[:, 0],\n",
    "    y=axis_xy[:, 1],\n",
    "    **outer_axis_args,\n",
    ")\n",
    "\n",
    "# Diamond Cross\n",
    "cross_xy = np.array([\n",
    "    diamond_o + 0.5 * diamond_u,\n",
    "    diamond_o + 0.5 * diamond_u + diamond_v,\n",
    "    [None, None],\n",
    "    diamond_o + 0.5 * diamond_v,\n",
    "    diamond_o + 0.5 * diamond_v + diamond_u\n",
    "])\n",
    "fig_piper.add_scatter(\n",
    "    x=cross_xy[:, 0],\n",
    "    y=cross_xy[:, 1],\n",
    "    **inner_axis_args,    \n",
    ")\n",
    "\n",
    "# Diamond ticks\n",
    "nw_ticks0 = diamond_o + diamond_v * ticks[:, np.newaxis]\n",
    "sw_ticks0 = diamond_o + diamond_u * ticks[:, np.newaxis]\n",
    "ne_ticks0 = diamond_o + diamond_v + diamond_u * ticks[:, np.newaxis]\n",
    "se_ticks0 = diamond_o + diamond_u + diamond_v * ticks[:, np.newaxis]\n",
    "nw_ticks1 = nw_ticks0 + diamond_u * tick_length\n",
    "sw_ticks1 = sw_ticks0 + diamond_v * tick_length\n",
    "ne_ticks1 = ne_ticks0 - diamond_v * tick_length\n",
    "se_ticks1 = se_ticks0 - diamond_u * tick_length\n",
    "nw_ticks = np.full((nw_ticks0.shape[0] * 3, 2), fill_value=np.nan)\n",
    "nw_ticks[::3] = nw_ticks0\n",
    "nw_ticks[1::3] = nw_ticks1\n",
    "sw_ticks = np.full((sw_ticks0.shape[0] * 3, 2), fill_value=np.nan)\n",
    "sw_ticks[::3] = sw_ticks0\n",
    "sw_ticks[1::3] = sw_ticks1\n",
    "ne_ticks = np.full((ne_ticks0.shape[0] * 3, 2), fill_value=np.nan)\n",
    "ne_ticks[::3] = ne_ticks0\n",
    "ne_ticks[1::3] = ne_ticks1\n",
    "se_ticks = np.full((se_ticks0.shape[0] * 3, 2), fill_value=np.nan)\n",
    "se_ticks[::3] = se_ticks0\n",
    "se_ticks[1::3] = se_ticks1\n",
    "diamond_ticks = np.vstack((nw_ticks, se_ticks, ne_ticks, sw_ticks))\n",
    "fig_piper.add_scatter(\n",
    "    x=diamond_ticks[:, 0],\n",
    "    y=diamond_ticks[:, 1],\n",
    "    **inner_axis_args,\n",
    ")\n",
    "\n",
    "# Diamond roman text\n",
    "romans_xy = np.array([\n",
    "    diamond_o + diamond_v - np.array([0, 0.2 * axis_length]),\n",
    "    diamond_o + np.array([0.75 * axis_length, 0]),\n",
    "    diamond_o + diamond_u + np.array([0, 0.2 * axis_length]),\n",
    "    diamond_o + np.array([0.25 * axis_length, 0]),\n",
    "])\n",
    "fig_piper.add_scatter(\n",
    "    x=romans_xy[:, 0],\n",
    "    y=romans_xy[:, 1],\n",
    "    text=[\"(I)\", \"(II)\", \"(III)\", \"(IV)\"],\n",
    "    mode=\"text\",\n",
    "    showlegend=False,\n",
    ")\n",
    "\n",
    "# Diamond arrows and text\n",
    "arrows = np.array([\n",
    "    # SO4 + Cl\n",
    "    diamond_o + -0.1 * diamond_u + 0.1 * diamond_v,\n",
    "    diamond_o + -0.1 * diamond_u + 0.8 * diamond_v,\n",
    "    # Ca + Mg\n",
    "    diamond_o + 1.1 * diamond_v + 0.8 * diamond_u,\n",
    "    diamond_o + 1.1 * diamond_v + 0.2 * diamond_u,\n",
    "    # Na + K\n",
    "    diamond_o + -0.1 * diamond_v + 0.2 * diamond_u,\n",
    "    diamond_o + -0.1 * diamond_v + 0.8 * diamond_u,\n",
    "    # HCO3 + CO3\n",
    "    diamond_o + 1.1 * diamond_u + 0.8 * diamond_v,\n",
    "    diamond_o + 1.1 * diamond_u + 0.2 * diamond_v,\n",
    "])\n",
    "for i in range(0, 8, 2):\n",
    "    fig_piper.add_annotation(\n",
    "        x=arrows[i + 1, 0],\n",
    "        y=arrows[i + 1, 1],\n",
    "        ax=arrows[i, 0],\n",
    "        ay=arrows[i, 1],\n",
    "        **arrow_args\n",
    "    )\n",
    "    \n",
    "arrow_txt1 = diamond_o + -0.2 * diamond_u + 0.5 * diamond_v\n",
    "fig_piper.add_annotation(\n",
    "    x=arrow_txt1[0],\n",
    "    y=arrow_txt1[1],\n",
    "    text=\"SO4 + Cl\",\n",
    "    textangle=-60,\n",
    "    **arrow_txt_args\n",
    ")\n",
    "arrow_txt2 = diamond_o + 0.5 * diamond_u + 1.2 * diamond_v\n",
    "fig_piper.add_annotation(\n",
    "    x=arrow_txt2[0],\n",
    "    y=arrow_txt2[1],\n",
    "    text=\"Ca + Mg\",\n",
    "    textangle=60,\n",
    "    **arrow_txt_args\n",
    ")\n",
    "arrow_txt3 = diamond_o + 0.5 * diamond_u - 0.2 * diamond_v\n",
    "fig_piper.add_annotation(\n",
    "    x=arrow_txt3[0],\n",
    "    y=arrow_txt3[1],\n",
    "    text=\"Na + K\",\n",
    "    textangle=60,\n",
    "    **arrow_txt_args\n",
    ")\n",
    "arrow_txt4 = diamond_o + 1.2 * diamond_u + 0.5 * diamond_v\n",
    "fig_piper.add_annotation(\n",
    "    x=arrow_txt4[0],\n",
    "    y=arrow_txt4[1],\n",
    "    text=\"Na + K\",\n",
    "    textangle=-60,\n",
    "    **arrow_txt_args\n",
    ")\n",
    "\n",
    "# ------------------------------------------------------------\n",
    "# Final layout adjustments\n",
    "# ------------------------------------------------------------\n",
    "fig_piper.layout.yaxis.scaleanchor = 'x'\n",
    "fig_piper.layout.xaxis.showgrid = False\n",
    "fig_piper.layout.xaxis.zeroline = False\n",
    "fig_piper.layout.xaxis.showticklabels = False\n",
    "fig_piper.layout.xaxis.title = None\n",
    "fig_piper.layout.yaxis.showgrid = False\n",
    "fig_piper.layout.yaxis.zeroline = False\n",
    "fig_piper.layout.yaxis.showticklabels = False\n",
    "fig_piper.layout.yaxis.title = None\n",
    "\n",
    "show_figure(fig_piper)\n"
   ]
  },
  {
   "cell_type": "markdown",
   "id": "3e389a4807c960d5",
   "metadata": {},
   "source": [
    "# TODO\n",
    "\n",
    "- ✅ Remove test-train split. Can re-introduce later if we consider it relevant\n",
    "- ✅ Cluster count analysis. Refer to other sources/papers for common techniques. Include relevant plots\n",
    "- ⬜ Clustering on HCA results or log-standardized input?\n",
    "- ✅ Remove conversion to meq/L (data should already be converted)\n",
    "- ✅ Hexagonal cluster plot with correct colors\n",
    "- ⬜ Piper diagram:\n",
    "  - ✅ Sync colors in piper diagram with dendrogram\n",
    "  - ✅ Axis ticks\n",
    "  - ⬜ Legend with roman numerals and \"water type\"\n",
    "  - ⬜ Sort legend by cluster\n",
    "- ⬜ Gibbs diagram:\n",
    "  - ✅ Phase lines\n",
    "  - ✅ Text\n",
    "- ⬜ NBCLust - R package for clustering. Anything similar in Python? Possible to invoke?\n",
    "- ⬜ Automatic color_threshold in dendrogram plot\n",
    "- ⬜ Decimal formatting on color bars\n",
    "- ⬜ Write images to file"
   ]
  }
 ],
 "metadata": {
  "kernelspec": {
   "display_name": "som",
   "language": "python",
   "name": "python3"
  },
  "language_info": {
   "codemirror_mode": {
    "name": "ipython",
    "version": 3
   },
   "file_extension": ".py",
   "mimetype": "text/x-python",
   "name": "python",
   "nbconvert_exporter": "python",
   "pygments_lexer": "ipython3",
   "version": "3.12.7"
  }
 },
 "nbformat": 4,
 "nbformat_minor": 5
}
