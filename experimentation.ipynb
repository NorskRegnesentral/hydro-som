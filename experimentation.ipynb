{
 "cells": [
  {
   "cell_type": "code",
   "execution_count": 1,
   "id": "initial_id",
   "metadata": {
    "ExecuteTime": {
     "end_time": "2025-04-03T11:16:46.990302Z",
     "start_time": "2025-04-03T11:16:44.809989Z"
    },
    "collapsed": true
   },
   "outputs": [],
   "source": [
    "import itertools\n",
    "from pathlib import Path\n",
    "\n",
    "import minisom\n",
    "import numpy as np\n",
    "import pandas as pd\n",
    "import plotly.express as px\n",
    "import plotly.graph_objects as go\n",
    "import plotly.io as pio\n",
    "import shapely\n",
    "\n",
    "from plotly.colors import sample_colorscale, make_colorscale, DEFAULT_PLOTLY_COLORS\n",
    "from plotly.subplots import make_subplots\n",
    "from plotly.figure_factory import create_dendrogram\n",
    "from scipy.cluster import hierarchy\n",
    "from sklearn.metrics import davies_bouldin_score, silhouette_score\n",
    "from sklearn.decomposition import PCA\n",
    "from IPython.display import IFrame, Image, HTML, display_html"
   ]
  },
  {
   "cell_type": "markdown",
   "id": "697341e4bf46a730",
   "metadata": {
    "ExecuteTime": {
     "end_time": "2024-11-13T13:53:47.740377Z",
     "start_time": "2024-11-13T13:53:47.718951Z"
    }
   },
   "source": [
    "# Parameters"
   ]
  },
  {
   "cell_type": "code",
   "execution_count": null,
   "id": "224dcff8",
   "metadata": {
    "ExecuteTime": {
     "end_time": "2025-04-03T11:16:47.036318Z",
     "start_time": "2025-04-03T11:16:46.991308Z"
    }
   },
   "outputs": [],
   "source": [
    "\n",
    "data_path = Path(r'data.csv')\n",
    "input_columns = ['pH', 'Ca', 'Mg', 'Na', 'K', 'HCO3', 'Cl', 'SO4']\n",
    "# Columns to include in feature/component plots (can include extra columns not used for training)\n",
    "feature_plot_columns = input_columns.copy()\n",
    "# Example:\n",
    "# feature_plot_columns = input_columns + ['CO3', 'CH4']\n",
    "\n",
    "som_nx = None  # Set to None to determine these automatically (PCA)\n",
    "som_ny = None\n",
    "som_sigma = 1.5\n",
    "som_learning_rate = 0.7\n",
    "som_activation_distance = 'euclidean'\n",
    "som_topology = 'hexagonal'\n",
    "som_neighborhood_function = 'gaussian'\n",
    "som_random_seed = 10\n",
    "som_max_iterations = 3000\n",
    "\n",
    "run_nbclust = False\n",
    "max_clusters = 10\n",
    "number_of_clusters = None  # Set to None to pick the optimal number automatically\n",
    "\n",
    "# Visualization\n",
    "# features_colorscale = 'spectral'\n",
    "features_colorscale = 'RdBu'\n",
    "pio.templates.default = 'plotly_white'\n",
    "plotly_interactive = False\n",
    "\n",
    "# Fixed colorscales\n",
    "force_feature_colorscale_to_01 = True\n",
    "specialized_colorscales = {\n",
    "    \"Mg\": \"YlGnBu\",\n",
    "    \"Na\": make_colorscale(\n",
    "        [\"rgb(255, 0, 0)\", \"rgb(0, 255, 0)\", \"rgb(0, 0, 255)\"],\n",
    "        [               0,              0.3,              1.0],\n",
    "    )\n",
    "}"
   ]
  },
  {
   "cell_type": "code",
   "execution_count": 3,
   "id": "eda4af8b0a6af2f2",
   "metadata": {
    "ExecuteTime": {
     "end_time": "2025-04-02T13:53:45.921363Z",
     "start_time": "2025-04-02T13:53:45.916735Z"
    }
   },
   "outputs": [],
   "source": [
    "# Convenience function to allow changing between interactive and static images\n",
    "# Needed to show figures on GitHub notebook preview\n",
    "def show_figure(fig: go.Figure):\n",
    "    global fig_count\n",
    "    if plotly_interactive:\n",
    "        return fig\n",
    "    else:\n",
    "        return Image(data=fig.to_image(format='png', scale=2))\n"
   ]
  },
  {
   "cell_type": "code",
   "execution_count": 4,
   "id": "9de95990402008a9",
   "metadata": {
    "ExecuteTime": {
     "end_time": "2025-04-02T13:53:45.954621Z",
     "start_time": "2025-04-02T13:53:45.931630Z"
    }
   },
   "outputs": [
    {
     "data": {
      "text/html": [
       "<div>\n",
       "<style scoped>\n",
       "    .dataframe tbody tr th:only-of-type {\n",
       "        vertical-align: middle;\n",
       "    }\n",
       "\n",
       "    .dataframe tbody tr th {\n",
       "        vertical-align: top;\n",
       "    }\n",
       "\n",
       "    .dataframe thead th {\n",
       "        text-align: right;\n",
       "    }\n",
       "</style>\n",
       "<table border=\"1\" class=\"dataframe\">\n",
       "  <thead>\n",
       "    <tr style=\"text-align: right;\">\n",
       "      <th></th>\n",
       "      <th>Alpha</th>\n",
       "      <th>Size</th>\n",
       "      <th>pH</th>\n",
       "      <th>Ca</th>\n",
       "      <th>Mg</th>\n",
       "      <th>Na</th>\n",
       "      <th>K</th>\n",
       "      <th>HCO3</th>\n",
       "      <th>CO3</th>\n",
       "      <th>Cl</th>\n",
       "      <th>SO4</th>\n",
       "      <th>TDS</th>\n",
       "    </tr>\n",
       "  </thead>\n",
       "  <tbody>\n",
       "    <tr>\n",
       "      <th>count</th>\n",
       "      <td>102.0</td>\n",
       "      <td>102.0</td>\n",
       "      <td>102.000000</td>\n",
       "      <td>102.000000</td>\n",
       "      <td>102.000000</td>\n",
       "      <td>102.000000</td>\n",
       "      <td>102.000000</td>\n",
       "      <td>102.000000</td>\n",
       "      <td>102.0</td>\n",
       "      <td>102.000000</td>\n",
       "      <td>102.000000</td>\n",
       "      <td>102.000000</td>\n",
       "    </tr>\n",
       "    <tr>\n",
       "      <th>mean</th>\n",
       "      <td>0.6</td>\n",
       "      <td>30.0</td>\n",
       "      <td>7.680392</td>\n",
       "      <td>7.710784</td>\n",
       "      <td>12.067647</td>\n",
       "      <td>18.490196</td>\n",
       "      <td>2.057843</td>\n",
       "      <td>10.184314</td>\n",
       "      <td>0.0</td>\n",
       "      <td>8.826471</td>\n",
       "      <td>17.335294</td>\n",
       "      <td>2627.794118</td>\n",
       "    </tr>\n",
       "    <tr>\n",
       "      <th>std</th>\n",
       "      <td>0.0</td>\n",
       "      <td>0.0</td>\n",
       "      <td>0.214356</td>\n",
       "      <td>6.420371</td>\n",
       "      <td>6.753762</td>\n",
       "      <td>11.158325</td>\n",
       "      <td>1.243553</td>\n",
       "      <td>3.368454</td>\n",
       "      <td>0.0</td>\n",
       "      <td>10.335902</td>\n",
       "      <td>12.658083</td>\n",
       "      <td>1313.058242</td>\n",
       "    </tr>\n",
       "    <tr>\n",
       "      <th>min</th>\n",
       "      <td>0.6</td>\n",
       "      <td>30.0</td>\n",
       "      <td>6.300000</td>\n",
       "      <td>0.400000</td>\n",
       "      <td>1.200000</td>\n",
       "      <td>0.200000</td>\n",
       "      <td>0.000000</td>\n",
       "      <td>2.500000</td>\n",
       "      <td>0.0</td>\n",
       "      <td>1.000000</td>\n",
       "      <td>2.000000</td>\n",
       "      <td>856.000000</td>\n",
       "    </tr>\n",
       "    <tr>\n",
       "      <th>25%</th>\n",
       "      <td>0.6</td>\n",
       "      <td>30.0</td>\n",
       "      <td>7.600000</td>\n",
       "      <td>3.650000</td>\n",
       "      <td>8.000000</td>\n",
       "      <td>11.825000</td>\n",
       "      <td>1.300000</td>\n",
       "      <td>8.500000</td>\n",
       "      <td>0.0</td>\n",
       "      <td>4.400000</td>\n",
       "      <td>9.025000</td>\n",
       "      <td>1902.000000</td>\n",
       "    </tr>\n",
       "    <tr>\n",
       "      <th>50%</th>\n",
       "      <td>0.6</td>\n",
       "      <td>30.0</td>\n",
       "      <td>7.700000</td>\n",
       "      <td>6.600000</td>\n",
       "      <td>11.300000</td>\n",
       "      <td>16.050000</td>\n",
       "      <td>1.800000</td>\n",
       "      <td>10.350000</td>\n",
       "      <td>0.0</td>\n",
       "      <td>7.300000</td>\n",
       "      <td>13.800000</td>\n",
       "      <td>2452.000000</td>\n",
       "    </tr>\n",
       "    <tr>\n",
       "      <th>75%</th>\n",
       "      <td>0.6</td>\n",
       "      <td>30.0</td>\n",
       "      <td>7.800000</td>\n",
       "      <td>9.550000</td>\n",
       "      <td>15.000000</td>\n",
       "      <td>21.950000</td>\n",
       "      <td>2.400000</td>\n",
       "      <td>12.775000</td>\n",
       "      <td>0.0</td>\n",
       "      <td>9.750000</td>\n",
       "      <td>23.500000</td>\n",
       "      <td>2981.000000</td>\n",
       "    </tr>\n",
       "    <tr>\n",
       "      <th>max</th>\n",
       "      <td>0.6</td>\n",
       "      <td>30.0</td>\n",
       "      <td>8.400000</td>\n",
       "      <td>42.600000</td>\n",
       "      <td>58.400000</td>\n",
       "      <td>81.300000</td>\n",
       "      <td>9.000000</td>\n",
       "      <td>16.800000</td>\n",
       "      <td>0.0</td>\n",
       "      <td>78.000000</td>\n",
       "      <td>66.300000</td>\n",
       "      <td>9629.000000</td>\n",
       "    </tr>\n",
       "  </tbody>\n",
       "</table>\n",
       "</div>"
      ],
      "text/plain": [
       "       Alpha   Size          pH          Ca          Mg          Na  \\\n",
       "count  102.0  102.0  102.000000  102.000000  102.000000  102.000000   \n",
       "mean     0.6   30.0    7.680392    7.710784   12.067647   18.490196   \n",
       "std      0.0    0.0    0.214356    6.420371    6.753762   11.158325   \n",
       "min      0.6   30.0    6.300000    0.400000    1.200000    0.200000   \n",
       "25%      0.6   30.0    7.600000    3.650000    8.000000   11.825000   \n",
       "50%      0.6   30.0    7.700000    6.600000   11.300000   16.050000   \n",
       "75%      0.6   30.0    7.800000    9.550000   15.000000   21.950000   \n",
       "max      0.6   30.0    8.400000   42.600000   58.400000   81.300000   \n",
       "\n",
       "                K        HCO3    CO3          Cl         SO4          TDS  \n",
       "count  102.000000  102.000000  102.0  102.000000  102.000000   102.000000  \n",
       "mean     2.057843   10.184314    0.0    8.826471   17.335294  2627.794118  \n",
       "std      1.243553    3.368454    0.0   10.335902   12.658083  1313.058242  \n",
       "min      0.000000    2.500000    0.0    1.000000    2.000000   856.000000  \n",
       "25%      1.300000    8.500000    0.0    4.400000    9.025000  1902.000000  \n",
       "50%      1.800000   10.350000    0.0    7.300000   13.800000  2452.000000  \n",
       "75%      2.400000   12.775000    0.0    9.750000   23.500000  2981.000000  \n",
       "max      9.000000   16.800000    0.0   78.000000   66.300000  9629.000000  "
      ]
     },
     "execution_count": 4,
     "metadata": {},
     "output_type": "execute_result"
    }
   ],
   "source": [
    "# Read input data\n",
    "df = pd.read_csv(data_path)\n",
    "df.describe()"
   ]
  },
  {
   "cell_type": "code",
   "execution_count": 5,
   "id": "71cf3c86d28b206d",
   "metadata": {
    "ExecuteTime": {
     "end_time": "2025-04-02T13:53:45.984296Z",
     "start_time": "2025-04-02T13:53:45.963161Z"
    }
   },
   "outputs": [
    {
     "data": {
      "text/html": [
       "<div>\n",
       "<style scoped>\n",
       "    .dataframe tbody tr th:only-of-type {\n",
       "        vertical-align: middle;\n",
       "    }\n",
       "\n",
       "    .dataframe tbody tr th {\n",
       "        vertical-align: top;\n",
       "    }\n",
       "\n",
       "    .dataframe thead th {\n",
       "        text-align: right;\n",
       "    }\n",
       "</style>\n",
       "<table border=\"1\" class=\"dataframe\">\n",
       "  <thead>\n",
       "    <tr style=\"text-align: right;\">\n",
       "      <th></th>\n",
       "      <th>Sample</th>\n",
       "      <th>Label</th>\n",
       "      <th>Color</th>\n",
       "      <th>Marker</th>\n",
       "      <th>Alpha</th>\n",
       "      <th>Size</th>\n",
       "      <th>pH</th>\n",
       "      <th>Ca</th>\n",
       "      <th>Mg</th>\n",
       "      <th>Na</th>\n",
       "      <th>K</th>\n",
       "      <th>HCO3</th>\n",
       "      <th>CO3</th>\n",
       "      <th>Cl</th>\n",
       "      <th>SO4</th>\n",
       "      <th>TDS</th>\n",
       "    </tr>\n",
       "  </thead>\n",
       "  <tbody>\n",
       "    <tr>\n",
       "      <th>0</th>\n",
       "      <td>sample1</td>\n",
       "      <td>K-1</td>\n",
       "      <td>red</td>\n",
       "      <td>o</td>\n",
       "      <td>0.6</td>\n",
       "      <td>30</td>\n",
       "      <td>7.5</td>\n",
       "      <td>3.2</td>\n",
       "      <td>7.1</td>\n",
       "      <td>11.5</td>\n",
       "      <td>1.3</td>\n",
       "      <td>14.8</td>\n",
       "      <td>0</td>\n",
       "      <td>2.2</td>\n",
       "      <td>3.5</td>\n",
       "      <td>1483</td>\n",
       "    </tr>\n",
       "    <tr>\n",
       "      <th>1</th>\n",
       "      <td>sample2</td>\n",
       "      <td>K-1</td>\n",
       "      <td>red</td>\n",
       "      <td>o</td>\n",
       "      <td>0.6</td>\n",
       "      <td>30</td>\n",
       "      <td>7.7</td>\n",
       "      <td>2.6</td>\n",
       "      <td>7.0</td>\n",
       "      <td>13.0</td>\n",
       "      <td>1.4</td>\n",
       "      <td>13.3</td>\n",
       "      <td>0</td>\n",
       "      <td>3.8</td>\n",
       "      <td>3.2</td>\n",
       "      <td>1601</td>\n",
       "    </tr>\n",
       "    <tr>\n",
       "      <th>2</th>\n",
       "      <td>sample3</td>\n",
       "      <td>K-1</td>\n",
       "      <td>red</td>\n",
       "      <td>o</td>\n",
       "      <td>0.6</td>\n",
       "      <td>30</td>\n",
       "      <td>7.3</td>\n",
       "      <td>1.2</td>\n",
       "      <td>8.0</td>\n",
       "      <td>12.0</td>\n",
       "      <td>1.3</td>\n",
       "      <td>13.9</td>\n",
       "      <td>0</td>\n",
       "      <td>2.0</td>\n",
       "      <td>3.4</td>\n",
       "      <td>1542</td>\n",
       "    </tr>\n",
       "    <tr>\n",
       "      <th>3</th>\n",
       "      <td>sample4</td>\n",
       "      <td>K-1</td>\n",
       "      <td>red</td>\n",
       "      <td>o</td>\n",
       "      <td>0.6</td>\n",
       "      <td>30</td>\n",
       "      <td>7.4</td>\n",
       "      <td>2.2</td>\n",
       "      <td>6.6</td>\n",
       "      <td>12.6</td>\n",
       "      <td>1.4</td>\n",
       "      <td>13.6</td>\n",
       "      <td>0</td>\n",
       "      <td>2.4</td>\n",
       "      <td>3.1</td>\n",
       "      <td>1518</td>\n",
       "    </tr>\n",
       "    <tr>\n",
       "      <th>4</th>\n",
       "      <td>sample5</td>\n",
       "      <td>K-1</td>\n",
       "      <td>red</td>\n",
       "      <td>o</td>\n",
       "      <td>0.6</td>\n",
       "      <td>30</td>\n",
       "      <td>7.3</td>\n",
       "      <td>2.5</td>\n",
       "      <td>9.6</td>\n",
       "      <td>10.3</td>\n",
       "      <td>1.1</td>\n",
       "      <td>14.3</td>\n",
       "      <td>0</td>\n",
       "      <td>2.0</td>\n",
       "      <td>3.4</td>\n",
       "      <td>1476</td>\n",
       "    </tr>\n",
       "    <tr>\n",
       "      <th>...</th>\n",
       "      <td>...</td>\n",
       "      <td>...</td>\n",
       "      <td>...</td>\n",
       "      <td>...</td>\n",
       "      <td>...</td>\n",
       "      <td>...</td>\n",
       "      <td>...</td>\n",
       "      <td>...</td>\n",
       "      <td>...</td>\n",
       "      <td>...</td>\n",
       "      <td>...</td>\n",
       "      <td>...</td>\n",
       "      <td>...</td>\n",
       "      <td>...</td>\n",
       "      <td>...</td>\n",
       "      <td>...</td>\n",
       "    </tr>\n",
       "    <tr>\n",
       "      <th>97</th>\n",
       "      <td>sample98</td>\n",
       "      <td>P-7</td>\n",
       "      <td>orange</td>\n",
       "      <td>o</td>\n",
       "      <td>0.6</td>\n",
       "      <td>30</td>\n",
       "      <td>7.9</td>\n",
       "      <td>1.8</td>\n",
       "      <td>2.4</td>\n",
       "      <td>3.8</td>\n",
       "      <td>0.4</td>\n",
       "      <td>4.0</td>\n",
       "      <td>0</td>\n",
       "      <td>1.0</td>\n",
       "      <td>3.4</td>\n",
       "      <td>856</td>\n",
       "    </tr>\n",
       "    <tr>\n",
       "      <th>98</th>\n",
       "      <td>sample99</td>\n",
       "      <td>P-8</td>\n",
       "      <td>cyan</td>\n",
       "      <td>o</td>\n",
       "      <td>0.6</td>\n",
       "      <td>30</td>\n",
       "      <td>7.5</td>\n",
       "      <td>12.2</td>\n",
       "      <td>14.0</td>\n",
       "      <td>8.6</td>\n",
       "      <td>1.0</td>\n",
       "      <td>5.5</td>\n",
       "      <td>0</td>\n",
       "      <td>6.0</td>\n",
       "      <td>23.4</td>\n",
       "      <td>2394</td>\n",
       "    </tr>\n",
       "    <tr>\n",
       "      <th>99</th>\n",
       "      <td>sample100</td>\n",
       "      <td>P-8</td>\n",
       "      <td>cyan</td>\n",
       "      <td>o</td>\n",
       "      <td>0.6</td>\n",
       "      <td>30</td>\n",
       "      <td>7.8</td>\n",
       "      <td>12.8</td>\n",
       "      <td>13.4</td>\n",
       "      <td>9.6</td>\n",
       "      <td>1.1</td>\n",
       "      <td>6.3</td>\n",
       "      <td>0</td>\n",
       "      <td>6.0</td>\n",
       "      <td>23.8</td>\n",
       "      <td>2456</td>\n",
       "    </tr>\n",
       "    <tr>\n",
       "      <th>100</th>\n",
       "      <td>sample101</td>\n",
       "      <td>P-8</td>\n",
       "      <td>cyan</td>\n",
       "      <td>o</td>\n",
       "      <td>0.6</td>\n",
       "      <td>30</td>\n",
       "      <td>7.8</td>\n",
       "      <td>11.6</td>\n",
       "      <td>12.0</td>\n",
       "      <td>11.4</td>\n",
       "      <td>1.3</td>\n",
       "      <td>5.2</td>\n",
       "      <td>0</td>\n",
       "      <td>6.2</td>\n",
       "      <td>23.8</td>\n",
       "      <td>2435</td>\n",
       "    </tr>\n",
       "    <tr>\n",
       "      <th>101</th>\n",
       "      <td>sample102</td>\n",
       "      <td>P-8</td>\n",
       "      <td>cyan</td>\n",
       "      <td>o</td>\n",
       "      <td>0.6</td>\n",
       "      <td>30</td>\n",
       "      <td>7.7</td>\n",
       "      <td>13.4</td>\n",
       "      <td>12.8</td>\n",
       "      <td>8.8</td>\n",
       "      <td>1.0</td>\n",
       "      <td>5.7</td>\n",
       "      <td>0</td>\n",
       "      <td>6.0</td>\n",
       "      <td>23.6</td>\n",
       "      <td>2448</td>\n",
       "    </tr>\n",
       "  </tbody>\n",
       "</table>\n",
       "<p>102 rows × 16 columns</p>\n",
       "</div>"
      ],
      "text/plain": [
       "        Sample Label   Color Marker  Alpha  Size   pH    Ca    Mg    Na    K  \\\n",
       "0      sample1   K-1     red      o    0.6    30  7.5   3.2   7.1  11.5  1.3   \n",
       "1      sample2   K-1     red      o    0.6    30  7.7   2.6   7.0  13.0  1.4   \n",
       "2      sample3   K-1     red      o    0.6    30  7.3   1.2   8.0  12.0  1.3   \n",
       "3      sample4   K-1     red      o    0.6    30  7.4   2.2   6.6  12.6  1.4   \n",
       "4      sample5   K-1     red      o    0.6    30  7.3   2.5   9.6  10.3  1.1   \n",
       "..         ...   ...     ...    ...    ...   ...  ...   ...   ...   ...  ...   \n",
       "97    sample98   P-7  orange      o    0.6    30  7.9   1.8   2.4   3.8  0.4   \n",
       "98    sample99   P-8    cyan      o    0.6    30  7.5  12.2  14.0   8.6  1.0   \n",
       "99   sample100   P-8    cyan      o    0.6    30  7.8  12.8  13.4   9.6  1.1   \n",
       "100  sample101   P-8    cyan      o    0.6    30  7.8  11.6  12.0  11.4  1.3   \n",
       "101  sample102   P-8    cyan      o    0.6    30  7.7  13.4  12.8   8.8  1.0   \n",
       "\n",
       "     HCO3  CO3   Cl   SO4   TDS  \n",
       "0    14.8    0  2.2   3.5  1483  \n",
       "1    13.3    0  3.8   3.2  1601  \n",
       "2    13.9    0  2.0   3.4  1542  \n",
       "3    13.6    0  2.4   3.1  1518  \n",
       "4    14.3    0  2.0   3.4  1476  \n",
       "..    ...  ...  ...   ...   ...  \n",
       "97    4.0    0  1.0   3.4   856  \n",
       "98    5.5    0  6.0  23.4  2394  \n",
       "99    6.3    0  6.0  23.8  2456  \n",
       "100   5.2    0  6.2  23.8  2435  \n",
       "101   5.7    0  6.0  23.6  2448  \n",
       "\n",
       "[102 rows x 16 columns]"
      ]
     },
     "execution_count": 5,
     "metadata": {},
     "output_type": "execute_result"
    }
   ],
   "source": [
    "df"
   ]
  },
  {
   "cell_type": "code",
   "execution_count": 6,
   "id": "f13e17525749ba42",
   "metadata": {
    "ExecuteTime": {
     "end_time": "2025-04-02T13:53:45.989551Z",
     "start_time": "2025-04-02T13:53:45.984296Z"
    }
   },
   "outputs": [],
   "source": [
    "# Apply data transformation\n",
    "\n",
    "# Normalization:\n",
    "def apply_normalization(arr):\n",
    "    data_min = arr.min(axis=0)\n",
    "    data_range = arr.max(axis=0) - data_min\n",
    "    return (arr - data_min) / data_range\n",
    "\n",
    "# Standardization\n",
    "def apply_standardization(arr):\n",
    "    data_mean = arr.mean(axis=0)\n",
    "    data_std = arr.std(axis=0)\n",
    "    return (arr - data_mean) / data_std\n",
    "\n",
    "# Sigmoid\n",
    "def apply_sigmoid(arr):\n",
    "    return 1 / (1 + np.exp(-arr))\n",
    "\n",
    "input_array = df[input_columns].values\n",
    "\n",
    "## Uncomment the appropriate transform\n",
    "# transformed_data = apply_normalization(input_array)\n",
    "# transformed_data = apply_standardization(input_array)\n",
    "transformed_data = apply_sigmoid(input_array)"
   ]
  },
  {
   "cell_type": "markdown",
   "id": "11c5b5e8",
   "metadata": {},
   "source": [
    "# SOM model"
   ]
  },
  {
   "cell_type": "code",
   "execution_count": 7,
   "id": "3b1ce069",
   "metadata": {
    "ExecuteTime": {
     "end_time": "2025-04-02T13:53:45.999392Z",
     "start_time": "2025-04-02T13:53:45.989551Z"
    }
   },
   "outputs": [
    {
     "name": "stdout",
     "output_type": "stream",
     "text": [
      "Using PCA to determine SOM dimensions: 10 x 5 (PCA ratio: 1.87)\n"
     ]
    }
   ],
   "source": [
    "# Derive SOM dimensions\n",
    "if som_nx is None or som_ny is None:\n",
    "    recommended_nodes = 5 * np.sqrt(len(df))\n",
    "\n",
    "    # \"Naive\" approach: square root of the number of samples (with round-off)\n",
    "    # final_nx = np.round(np.sqrt(som_m)).astype(int)\n",
    "    # final_ny = np.round(som_m / som_nx).astype(int)\n",
    "\n",
    "    # Perform PCA analysis\n",
    "    pca = PCA(n_components=2)\n",
    "    pca.fit(transformed_data)\n",
    "\n",
    "    # Calculate the ratio between the first two principal components\n",
    "    pca_ratio = pca.explained_variance_[0] / pca.explained_variance_[1]\n",
    "    final_nx = np.round(np.sqrt(recommended_nodes * pca_ratio)).astype(int)\n",
    "    final_ny = np.round(recommended_nodes / final_nx).astype(int)\n",
    "    print(f\"Using PCA to determine SOM dimensions: {final_nx} x {final_ny} (PCA ratio: {pca_ratio:.2f})\")\n",
    "else:\n",
    "    final_nx, final_ny = som_nx, som_ny\n",
    "    print(f\"Using fixed SOM dimensions: {final_nx} x {final_ny}\")"
   ]
  },
  {
   "cell_type": "code",
   "execution_count": 8,
   "id": "659c84be",
   "metadata": {
    "ExecuteTime": {
     "end_time": "2025-04-02T13:53:46.084384Z",
     "start_time": "2025-04-02T13:53:46.005414Z"
    }
   },
   "outputs": [],
   "source": [
    "\n",
    "# Set up model\n",
    "som = minisom.MiniSom(\n",
    "    final_nx,\n",
    "    final_ny,\n",
    "    len(input_columns),\n",
    "    sigma=som_sigma,\n",
    "    learning_rate=som_learning_rate,\n",
    "    activation_distance=som_activation_distance,\n",
    "    topology=som_topology,\n",
    "    neighborhood_function=som_neighborhood_function,\n",
    "    random_seed=som_random_seed,\n",
    ")\n",
    "\n",
    "# Train\n",
    "som.train(transformed_data, som_max_iterations)\n",
    "\n",
    "# Extract data\n",
    "xx, yy = som.get_euclidean_coordinates()\n",
    "umatrix = som.distance_map()\n",
    "weights = som.get_weights()\n",
    "win_map = som.win_map(transformed_data, return_indices=True)"
   ]
  },
  {
   "cell_type": "code",
   "execution_count": 9,
   "id": "a5d48237",
   "metadata": {},
   "outputs": [
    {
     "name": "stdout",
     "output_type": "stream",
     "text": [
      "Quantization error: 0.018069447758917796\n",
      "Topographic error : 0.11764705882352944\n"
     ]
    }
   ],
   "source": [
    "# Print quantization and topographic errors for the trained model\n",
    "print(f\"Quantization error: {som.quantization_error(transformed_data)}\")\n",
    "print(f\"Topographic error : {som.topographic_error(transformed_data)}\")\n"
   ]
  },
  {
   "cell_type": "code",
   "execution_count": 10,
   "id": "9c457a5fa8b4b90b",
   "metadata": {
    "ExecuteTime": {
     "end_time": "2025-04-02T13:53:46.088929Z",
     "start_time": "2025-04-02T13:53:46.084384Z"
    }
   },
   "outputs": [],
   "source": [
    "# Setup input to clustering and dendrogram plot\n",
    "mij = np.meshgrid(np.arange(final_nx), np.arange(final_ny), indexing='ij')\n",
    "cells_ij = np.column_stack((mij[0].flat, mij[1].flat))\n",
    "labels = [(i, j) for i, j in cells_ij]\n",
    "flat_weights = weights.reshape(-1, len(input_columns)) \n",
    "\n",
    "links = hierarchy.linkage(flat_weights, method='complete', metric='euclidean')\n"
   ]
  },
  {
   "cell_type": "markdown",
   "id": "9ee35a95",
   "metadata": {},
   "source": [
    "# Clustering"
   ]
  },
  {
   "cell_type": "code",
   "execution_count": 11,
   "id": "f9d78d37",
   "metadata": {},
   "outputs": [],
   "source": [
    "if run_nbclust:\n",
    "    # For this to work, the R_HOME environment variable needs to be set to the R installation directory\n",
    "    # e.g. C:\\Program Files\\R\\R-4.0.3\n",
    "\n",
    "    from rpy2.robjects.packages import importr\n",
    "    from rpy2.robjects import numpy2ri\n",
    "\n",
    "    # Activate automatic conversion between numpy and R arrays\n",
    "    numpy2ri.activate()\n",
    "\n",
    "    # Import required R packages\n",
    "    base = importr('base')\n",
    "    stats = importr('stats')\n",
    "    NbClust = importr('NbClust')\n",
    "\n",
    "    # Run NbClust\n",
    "    # See https://www.rdocumentation.org/packages/NbClust/versions/3.0.1/topics/NbClust\n",
    "    # This will determine the optimal number of clusters using multiple indices\n",
    "    nb_results = NbClust.NbClust(\n",
    "        data=flat_weights,\n",
    "        distance=\"euclidean\",\n",
    "        min_nc=2,\n",
    "        max_nc=10,\n",
    "        method=\"complete\",\n",
    "        index=\"all\"\n",
    "    )\n",
    "\n",
    "    nbclust_lables = np.array(nb_results.rx2('Best.partition'))"
   ]
  },
  {
   "cell_type": "code",
   "execution_count": 12,
   "id": "2f2516da",
   "metadata": {
    "ExecuteTime": {
     "end_time": "2025-04-02T13:53:46.130767Z",
     "start_time": "2025-04-02T13:53:46.108587Z"
    }
   },
   "outputs": [],
   "source": [
    "cluster_results = []\n",
    "\n",
    "for i in range(2, max_clusters):\n",
    "    flat_labels = hierarchy.fcluster(links, i, 'maxclust')\n",
    "    dbi = davies_bouldin_score(flat_weights, flat_labels) if len(set(flat_labels)) == i else None\n",
    "    sil = silhouette_score(flat_weights, flat_labels) if len(set(flat_labels)) == i else None\n",
    "    cluster_results.append({\n",
    "        \"Number of clusters\": i,\n",
    "        \"DBI\": dbi,\n",
    "        \"Silhouette\": sil,\n",
    "        \"labels\": flat_labels,\n",
    "    })\n",
    "\n",
    "cluster_df = pd.DataFrame.from_dict(cluster_results)\n",
    "\n",
    "dbi_optimal_cluster = cluster_df.iloc[cluster_df['DBI'].idxmin()]\n",
    "sil_optimal_cluster = cluster_df.iloc[cluster_df['Silhouette'].idxmax()]\n",
    "\n",
    "if number_of_clusters is None:\n",
    "    selected_cluster = dbi_optimal_cluster\n",
    "else:\n",
    "    selected_cluster = cluster_df[cluster_df['Number of clusters'] == number_of_clusters].iloc[0]"
   ]
  },
  {
   "cell_type": "code",
   "execution_count": 13,
   "id": "708ec664",
   "metadata": {
    "ExecuteTime": {
     "end_time": "2025-04-02T13:53:46.238179Z",
     "start_time": "2025-04-02T13:53:46.234180Z"
    }
   },
   "outputs": [
    {
     "name": "stdout",
     "output_type": "stream",
     "text": [
      "Optimal number of clusters based on DBI        : 5\n",
      "Optimal number of clusters based on Silhouette : 2\n",
      "\n",
      "Number of clusters picked based on DBI         : 5\n"
     ]
    }
   ],
   "source": [
    "print(f\"Optimal number of clusters based on DBI        : {dbi_optimal_cluster['Number of clusters']}\")\n",
    "print(f\"Optimal number of clusters based on Silhouette : {sil_optimal_cluster['Number of clusters']}\")\n",
    "print()\n",
    "\n",
    "if number_of_clusters is None:\n",
    "    print(f\"Number of clusters picked based on DBI         : {selected_cluster['Number of clusters']}\")\n",
    "else:\n",
    "    print(f\"Number of clusters fixed to                    : {number_of_clusters}\")"
   ]
  },
  {
   "cell_type": "code",
   "execution_count": 14,
   "id": "fdd92293",
   "metadata": {
    "ExecuteTime": {
     "end_time": "2025-04-02T13:53:46.277180Z",
     "start_time": "2025-04-02T13:53:46.250611Z"
    }
   },
   "outputs": [
    {
     "data": {
      "application/vnd.plotly.v1+json": {
       "config": {
        "plotlyServerURL": "https://plot.ly"
       },
       "data": [
        {
         "hovertemplate": "Number of clusters=%{x}<br>DBI=%{y}<extra></extra>",
         "legendgroup": "",
         "line": {
          "color": "#636efa",
          "dash": "solid"
         },
         "marker": {
          "symbol": "circle"
         },
         "mode": "lines+markers",
         "name": "",
         "orientation": "v",
         "showlegend": false,
         "type": "scatter",
         "x": [
          2,
          3,
          4,
          5,
          6,
          7,
          8,
          9
         ],
         "xaxis": "x",
         "y": [
          0.7459839875303019,
          0.9541263401180382,
          0.7798911039103306,
          0.6284781146842717,
          0.750937633648541,
          0.6594279734079179,
          0.721990550529722,
          0.6555408095748082
         ],
         "yaxis": "y"
        }
       ],
       "layout": {
        "legend": {
         "tracegroupgap": 0
        },
        "margin": {
         "t": 60
        },
        "template": {
         "data": {
          "bar": [
           {
            "error_x": {
             "color": "#2a3f5f"
            },
            "error_y": {
             "color": "#2a3f5f"
            },
            "marker": {
             "line": {
              "color": "white",
              "width": 0.5
             },
             "pattern": {
              "fillmode": "overlay",
              "size": 10,
              "solidity": 0.2
             }
            },
            "type": "bar"
           }
          ],
          "barpolar": [
           {
            "marker": {
             "line": {
              "color": "white",
              "width": 0.5
             },
             "pattern": {
              "fillmode": "overlay",
              "size": 10,
              "solidity": 0.2
             }
            },
            "type": "barpolar"
           }
          ],
          "carpet": [
           {
            "aaxis": {
             "endlinecolor": "#2a3f5f",
             "gridcolor": "#C8D4E3",
             "linecolor": "#C8D4E3",
             "minorgridcolor": "#C8D4E3",
             "startlinecolor": "#2a3f5f"
            },
            "baxis": {
             "endlinecolor": "#2a3f5f",
             "gridcolor": "#C8D4E3",
             "linecolor": "#C8D4E3",
             "minorgridcolor": "#C8D4E3",
             "startlinecolor": "#2a3f5f"
            },
            "type": "carpet"
           }
          ],
          "choropleth": [
           {
            "colorbar": {
             "outlinewidth": 0,
             "ticks": ""
            },
            "type": "choropleth"
           }
          ],
          "contour": [
           {
            "colorbar": {
             "outlinewidth": 0,
             "ticks": ""
            },
            "colorscale": [
             [
              0,
              "#0d0887"
             ],
             [
              0.1111111111111111,
              "#46039f"
             ],
             [
              0.2222222222222222,
              "#7201a8"
             ],
             [
              0.3333333333333333,
              "#9c179e"
             ],
             [
              0.4444444444444444,
              "#bd3786"
             ],
             [
              0.5555555555555556,
              "#d8576b"
             ],
             [
              0.6666666666666666,
              "#ed7953"
             ],
             [
              0.7777777777777778,
              "#fb9f3a"
             ],
             [
              0.8888888888888888,
              "#fdca26"
             ],
             [
              1,
              "#f0f921"
             ]
            ],
            "type": "contour"
           }
          ],
          "contourcarpet": [
           {
            "colorbar": {
             "outlinewidth": 0,
             "ticks": ""
            },
            "type": "contourcarpet"
           }
          ],
          "heatmap": [
           {
            "colorbar": {
             "outlinewidth": 0,
             "ticks": ""
            },
            "colorscale": [
             [
              0,
              "#0d0887"
             ],
             [
              0.1111111111111111,
              "#46039f"
             ],
             [
              0.2222222222222222,
              "#7201a8"
             ],
             [
              0.3333333333333333,
              "#9c179e"
             ],
             [
              0.4444444444444444,
              "#bd3786"
             ],
             [
              0.5555555555555556,
              "#d8576b"
             ],
             [
              0.6666666666666666,
              "#ed7953"
             ],
             [
              0.7777777777777778,
              "#fb9f3a"
             ],
             [
              0.8888888888888888,
              "#fdca26"
             ],
             [
              1,
              "#f0f921"
             ]
            ],
            "type": "heatmap"
           }
          ],
          "heatmapgl": [
           {
            "colorbar": {
             "outlinewidth": 0,
             "ticks": ""
            },
            "colorscale": [
             [
              0,
              "#0d0887"
             ],
             [
              0.1111111111111111,
              "#46039f"
             ],
             [
              0.2222222222222222,
              "#7201a8"
             ],
             [
              0.3333333333333333,
              "#9c179e"
             ],
             [
              0.4444444444444444,
              "#bd3786"
             ],
             [
              0.5555555555555556,
              "#d8576b"
             ],
             [
              0.6666666666666666,
              "#ed7953"
             ],
             [
              0.7777777777777778,
              "#fb9f3a"
             ],
             [
              0.8888888888888888,
              "#fdca26"
             ],
             [
              1,
              "#f0f921"
             ]
            ],
            "type": "heatmapgl"
           }
          ],
          "histogram": [
           {
            "marker": {
             "pattern": {
              "fillmode": "overlay",
              "size": 10,
              "solidity": 0.2
             }
            },
            "type": "histogram"
           }
          ],
          "histogram2d": [
           {
            "colorbar": {
             "outlinewidth": 0,
             "ticks": ""
            },
            "colorscale": [
             [
              0,
              "#0d0887"
             ],
             [
              0.1111111111111111,
              "#46039f"
             ],
             [
              0.2222222222222222,
              "#7201a8"
             ],
             [
              0.3333333333333333,
              "#9c179e"
             ],
             [
              0.4444444444444444,
              "#bd3786"
             ],
             [
              0.5555555555555556,
              "#d8576b"
             ],
             [
              0.6666666666666666,
              "#ed7953"
             ],
             [
              0.7777777777777778,
              "#fb9f3a"
             ],
             [
              0.8888888888888888,
              "#fdca26"
             ],
             [
              1,
              "#f0f921"
             ]
            ],
            "type": "histogram2d"
           }
          ],
          "histogram2dcontour": [
           {
            "colorbar": {
             "outlinewidth": 0,
             "ticks": ""
            },
            "colorscale": [
             [
              0,
              "#0d0887"
             ],
             [
              0.1111111111111111,
              "#46039f"
             ],
             [
              0.2222222222222222,
              "#7201a8"
             ],
             [
              0.3333333333333333,
              "#9c179e"
             ],
             [
              0.4444444444444444,
              "#bd3786"
             ],
             [
              0.5555555555555556,
              "#d8576b"
             ],
             [
              0.6666666666666666,
              "#ed7953"
             ],
             [
              0.7777777777777778,
              "#fb9f3a"
             ],
             [
              0.8888888888888888,
              "#fdca26"
             ],
             [
              1,
              "#f0f921"
             ]
            ],
            "type": "histogram2dcontour"
           }
          ],
          "mesh3d": [
           {
            "colorbar": {
             "outlinewidth": 0,
             "ticks": ""
            },
            "type": "mesh3d"
           }
          ],
          "parcoords": [
           {
            "line": {
             "colorbar": {
              "outlinewidth": 0,
              "ticks": ""
             }
            },
            "type": "parcoords"
           }
          ],
          "pie": [
           {
            "automargin": true,
            "type": "pie"
           }
          ],
          "scatter": [
           {
            "fillpattern": {
             "fillmode": "overlay",
             "size": 10,
             "solidity": 0.2
            },
            "type": "scatter"
           }
          ],
          "scatter3d": [
           {
            "line": {
             "colorbar": {
              "outlinewidth": 0,
              "ticks": ""
             }
            },
            "marker": {
             "colorbar": {
              "outlinewidth": 0,
              "ticks": ""
             }
            },
            "type": "scatter3d"
           }
          ],
          "scattercarpet": [
           {
            "marker": {
             "colorbar": {
              "outlinewidth": 0,
              "ticks": ""
             }
            },
            "type": "scattercarpet"
           }
          ],
          "scattergeo": [
           {
            "marker": {
             "colorbar": {
              "outlinewidth": 0,
              "ticks": ""
             }
            },
            "type": "scattergeo"
           }
          ],
          "scattergl": [
           {
            "marker": {
             "colorbar": {
              "outlinewidth": 0,
              "ticks": ""
             }
            },
            "type": "scattergl"
           }
          ],
          "scattermapbox": [
           {
            "marker": {
             "colorbar": {
              "outlinewidth": 0,
              "ticks": ""
             }
            },
            "type": "scattermapbox"
           }
          ],
          "scatterpolar": [
           {
            "marker": {
             "colorbar": {
              "outlinewidth": 0,
              "ticks": ""
             }
            },
            "type": "scatterpolar"
           }
          ],
          "scatterpolargl": [
           {
            "marker": {
             "colorbar": {
              "outlinewidth": 0,
              "ticks": ""
             }
            },
            "type": "scatterpolargl"
           }
          ],
          "scatterternary": [
           {
            "marker": {
             "colorbar": {
              "outlinewidth": 0,
              "ticks": ""
             }
            },
            "type": "scatterternary"
           }
          ],
          "surface": [
           {
            "colorbar": {
             "outlinewidth": 0,
             "ticks": ""
            },
            "colorscale": [
             [
              0,
              "#0d0887"
             ],
             [
              0.1111111111111111,
              "#46039f"
             ],
             [
              0.2222222222222222,
              "#7201a8"
             ],
             [
              0.3333333333333333,
              "#9c179e"
             ],
             [
              0.4444444444444444,
              "#bd3786"
             ],
             [
              0.5555555555555556,
              "#d8576b"
             ],
             [
              0.6666666666666666,
              "#ed7953"
             ],
             [
              0.7777777777777778,
              "#fb9f3a"
             ],
             [
              0.8888888888888888,
              "#fdca26"
             ],
             [
              1,
              "#f0f921"
             ]
            ],
            "type": "surface"
           }
          ],
          "table": [
           {
            "cells": {
             "fill": {
              "color": "#EBF0F8"
             },
             "line": {
              "color": "white"
             }
            },
            "header": {
             "fill": {
              "color": "#C8D4E3"
             },
             "line": {
              "color": "white"
             }
            },
            "type": "table"
           }
          ]
         },
         "layout": {
          "annotationdefaults": {
           "arrowcolor": "#2a3f5f",
           "arrowhead": 0,
           "arrowwidth": 1
          },
          "autotypenumbers": "strict",
          "coloraxis": {
           "colorbar": {
            "outlinewidth": 0,
            "ticks": ""
           }
          },
          "colorscale": {
           "diverging": [
            [
             0,
             "#8e0152"
            ],
            [
             0.1,
             "#c51b7d"
            ],
            [
             0.2,
             "#de77ae"
            ],
            [
             0.3,
             "#f1b6da"
            ],
            [
             0.4,
             "#fde0ef"
            ],
            [
             0.5,
             "#f7f7f7"
            ],
            [
             0.6,
             "#e6f5d0"
            ],
            [
             0.7,
             "#b8e186"
            ],
            [
             0.8,
             "#7fbc41"
            ],
            [
             0.9,
             "#4d9221"
            ],
            [
             1,
             "#276419"
            ]
           ],
           "sequential": [
            [
             0,
             "#0d0887"
            ],
            [
             0.1111111111111111,
             "#46039f"
            ],
            [
             0.2222222222222222,
             "#7201a8"
            ],
            [
             0.3333333333333333,
             "#9c179e"
            ],
            [
             0.4444444444444444,
             "#bd3786"
            ],
            [
             0.5555555555555556,
             "#d8576b"
            ],
            [
             0.6666666666666666,
             "#ed7953"
            ],
            [
             0.7777777777777778,
             "#fb9f3a"
            ],
            [
             0.8888888888888888,
             "#fdca26"
            ],
            [
             1,
             "#f0f921"
            ]
           ],
           "sequentialminus": [
            [
             0,
             "#0d0887"
            ],
            [
             0.1111111111111111,
             "#46039f"
            ],
            [
             0.2222222222222222,
             "#7201a8"
            ],
            [
             0.3333333333333333,
             "#9c179e"
            ],
            [
             0.4444444444444444,
             "#bd3786"
            ],
            [
             0.5555555555555556,
             "#d8576b"
            ],
            [
             0.6666666666666666,
             "#ed7953"
            ],
            [
             0.7777777777777778,
             "#fb9f3a"
            ],
            [
             0.8888888888888888,
             "#fdca26"
            ],
            [
             1,
             "#f0f921"
            ]
           ]
          },
          "colorway": [
           "#636efa",
           "#EF553B",
           "#00cc96",
           "#ab63fa",
           "#FFA15A",
           "#19d3f3",
           "#FF6692",
           "#B6E880",
           "#FF97FF",
           "#FECB52"
          ],
          "font": {
           "color": "#2a3f5f"
          },
          "geo": {
           "bgcolor": "white",
           "lakecolor": "white",
           "landcolor": "white",
           "showlakes": true,
           "showland": true,
           "subunitcolor": "#C8D4E3"
          },
          "hoverlabel": {
           "align": "left"
          },
          "hovermode": "closest",
          "mapbox": {
           "style": "light"
          },
          "paper_bgcolor": "white",
          "plot_bgcolor": "white",
          "polar": {
           "angularaxis": {
            "gridcolor": "#EBF0F8",
            "linecolor": "#EBF0F8",
            "ticks": ""
           },
           "bgcolor": "white",
           "radialaxis": {
            "gridcolor": "#EBF0F8",
            "linecolor": "#EBF0F8",
            "ticks": ""
           }
          },
          "scene": {
           "xaxis": {
            "backgroundcolor": "white",
            "gridcolor": "#DFE8F3",
            "gridwidth": 2,
            "linecolor": "#EBF0F8",
            "showbackground": true,
            "ticks": "",
            "zerolinecolor": "#EBF0F8"
           },
           "yaxis": {
            "backgroundcolor": "white",
            "gridcolor": "#DFE8F3",
            "gridwidth": 2,
            "linecolor": "#EBF0F8",
            "showbackground": true,
            "ticks": "",
            "zerolinecolor": "#EBF0F8"
           },
           "zaxis": {
            "backgroundcolor": "white",
            "gridcolor": "#DFE8F3",
            "gridwidth": 2,
            "linecolor": "#EBF0F8",
            "showbackground": true,
            "ticks": "",
            "zerolinecolor": "#EBF0F8"
           }
          },
          "shapedefaults": {
           "line": {
            "color": "#2a3f5f"
           }
          },
          "ternary": {
           "aaxis": {
            "gridcolor": "#DFE8F3",
            "linecolor": "#A2B1C6",
            "ticks": ""
           },
           "baxis": {
            "gridcolor": "#DFE8F3",
            "linecolor": "#A2B1C6",
            "ticks": ""
           },
           "bgcolor": "white",
           "caxis": {
            "gridcolor": "#DFE8F3",
            "linecolor": "#A2B1C6",
            "ticks": ""
           }
          },
          "title": {
           "x": 0.05
          },
          "xaxis": {
           "automargin": true,
           "gridcolor": "#EBF0F8",
           "linecolor": "#EBF0F8",
           "ticks": "",
           "title": {
            "standoff": 15
           },
           "zerolinecolor": "#EBF0F8",
           "zerolinewidth": 2
          },
          "yaxis": {
           "automargin": true,
           "gridcolor": "#EBF0F8",
           "linecolor": "#EBF0F8",
           "ticks": "",
           "title": {
            "standoff": 15
           },
           "zerolinecolor": "#EBF0F8",
           "zerolinewidth": 2
          }
         }
        },
        "title": {
         "text": "Davies-Bouldin Index (lower is better)"
        },
        "xaxis": {
         "anchor": "y",
         "domain": [
          0,
          1
         ],
         "title": {
          "text": "Number of clusters"
         }
        },
        "yaxis": {
         "anchor": "x",
         "domain": [
          0,
          1
         ],
         "spikemode": "across",
         "spikesnap": "hovered data",
         "spikethickness": 1,
         "title": {
          "text": "DBI"
         }
        }
       }
      }
     },
     "metadata": {},
     "output_type": "display_data"
    }
   ],
   "source": [
    "fig = px.line(cluster_df, x='Number of clusters', y='DBI', markers=True)\n",
    "fig.layout.title = \"Davies-Bouldin Index (lower is better)\"\n",
    "fig.layout.yaxis.spikesnap = \"hovered data\"\n",
    "fig.layout.yaxis.spikemode = \"across\"\n",
    "fig.layout.yaxis.spikethickness = 1\n",
    "fig"
   ]
  },
  {
   "cell_type": "code",
   "execution_count": 15,
   "id": "7799b4d4",
   "metadata": {
    "ExecuteTime": {
     "end_time": "2025-04-02T13:53:46.496695Z",
     "start_time": "2025-04-02T13:53:46.279255Z"
    }
   },
   "outputs": [
    {
     "data": {
      "image/png": "[encoded data removed]",
      "text/plain": [
       "<IPython.core.display.Image object>"
      ]
     },
     "execution_count": 15,
     "metadata": {},
     "output_type": "execute_result"
    }
   ],
   "source": [
    "fig = px.line(cluster_df, x='Number of clusters', y='Silhouette', markers=True)\n",
    "fig.layout.title = \"Silhouette score (higher is better)\"\n",
    "fig.layout.yaxis.spikesnap = \"hovered data\"\n",
    "fig.layout.yaxis.spikemode = \"across\"\n",
    "fig.layout.yaxis.spikethickness = 1\n",
    "show_figure(fig)"
   ]
  },
  {
   "cell_type": "code",
   "execution_count": 16,
   "id": "035b20c8",
   "metadata": {
    "ExecuteTime": {
     "end_time": "2025-04-02T13:53:46.722811Z",
     "start_time": "2025-04-02T13:53:46.498782Z"
    }
   },
   "outputs": [
    {
     "data": {
      "image/png": "[encoded data removed]",
      "text/plain": [
       "<IPython.core.display.Image object>"
      ]
     },
     "execution_count": 16,
     "metadata": {},
     "output_type": "execute_result"
    }
   ],
   "source": [
    "show_figure(create_dendrogram(\n",
    "    flat_weights,\n",
    "    linkagefun=lambda _: links,\n",
    "    labels=labels,\n",
    "    # NB! The color_threshold must be manually set to a value corresponding to the number of clusters\n",
    "    color_threshold=0.3\n",
    "))"
   ]
  },
  {
   "cell_type": "code",
   "execution_count": 17,
   "id": "406bcf3c",
   "metadata": {
    "ExecuteTime": {
     "end_time": "2025-04-02T13:53:46.728250Z",
     "start_time": "2025-04-02T13:53:46.723313Z"
    }
   },
   "outputs": [],
   "source": [
    "# Optimal number of lables\n",
    "node_labels = selected_cluster['labels'].reshape(final_nx, final_ny)\n",
    "\n",
    "# Sample labels\n",
    "sample_ij = [None] * len(df)\n",
    "sample_label = [-1] * len(df)\n",
    "for key, value in win_map.items():\n",
    "    for ix in value:\n",
    "        sample_ij[ix] = key\n",
    "        sample_label[ix] = node_labels[key]\n",
    "\n",
    "df['ij'] = sample_ij\n",
    "df['cluster_label'] = sample_label\n"
   ]
  },
  {
   "cell_type": "code",
   "execution_count": 18,
   "id": "8147b87f",
   "metadata": {
    "ExecuteTime": {
     "end_time": "2025-04-02T13:53:46.736162Z",
     "start_time": "2025-04-02T13:53:46.730256Z"
    }
   },
   "outputs": [
    {
     "name": "stdout",
     "output_type": "stream",
     "text": [
      "Cluster 1: 2 samples\n",
      "  sample96             sample98           \n",
      "\n",
      "Cluster 2: 1 samples\n",
      "  sample97           \n",
      "\n",
      "Cluster 3: 45 samples\n",
      "  sample12             sample13             sample14             sample15             sample23             sample25           \n",
      "  sample27             sample28             sample29             sample30             sample37             sample38           \n",
      "  sample39             sample41             sample43             sample44             sample45             sample46           \n",
      "  sample47             sample54             sample58             sample60             sample64             sample65           \n",
      "  sample68             sample69             sample70             sample71             sample72             sample73           \n",
      "  sample74             sample75             sample76             sample77             sample78             sample82           \n",
      "  sample83             sample84             sample85             sample86             sample88             sample89           \n",
      "  sample90             sample91             sample93           \n",
      "\n",
      "Cluster 4: 47 samples\n",
      "  sample1              sample2              sample4              sample5              sample6              sample8            \n",
      "  sample10             sample11             sample16             sample17             sample18             sample19           \n",
      "  sample20             sample21             sample22             sample24             sample31             sample32           \n",
      "  sample33             sample34             sample35             sample36             sample40             sample42           \n",
      "  sample48             sample49             sample50             sample51             sample52             sample53           \n",
      "  sample55             sample56             sample57             sample59             sample61             sample62           \n",
      "  sample63             sample66             sample67             sample87             sample92             sample94           \n",
      "  sample95             sample99             sample100            sample101            sample102          \n",
      "\n",
      "Cluster 5: 7 samples\n",
      "  sample3              sample7              sample9              sample26             sample79             sample80           \n",
      "  sample81           \n",
      "\n"
     ]
    }
   ],
   "source": [
    "n_cols = 6\n",
    "for lab, sub_df in df.groupby('cluster_label'):\n",
    "    print(f\"Cluster {lab}: {len(sub_df)} samples\")\n",
    "    for i, s in enumerate(sub_df['Sample']):\n",
    "        print(f\"  {s:19}\", end=\"\")\n",
    "        if i % n_cols == n_cols - 1:\n",
    "            print()\n",
    "    print(\"\\n\")"
   ]
  },
  {
   "cell_type": "code",
   "execution_count": 19,
   "id": "5a17979e",
   "metadata": {
    "ExecuteTime": {
     "end_time": "2025-04-02T13:53:46.805455Z",
     "start_time": "2025-04-02T13:53:46.737165Z"
    }
   },
   "outputs": [
    {
     "data": {
      "text/html": [
       "<h2>Cluster 1</h2>sample96 sample98<table border=\"1\" class=\"dataframe\">\n",
       "  <thead>\n",
       "    <tr style=\"text-align: right;\">\n",
       "      <th></th>\n",
       "      <th>Alpha</th>\n",
       "      <th>Size</th>\n",
       "      <th>pH</th>\n",
       "      <th>Ca</th>\n",
       "      <th>Mg</th>\n",
       "      <th>Na</th>\n",
       "      <th>K</th>\n",
       "      <th>HCO3</th>\n",
       "      <th>CO3</th>\n",
       "      <th>Cl</th>\n",
       "      <th>SO4</th>\n",
       "      <th>TDS</th>\n",
       "      <th>cluster_label</th>\n",
       "    </tr>\n",
       "  </thead>\n",
       "  <tbody>\n",
       "    <tr>\n",
       "      <th>count</th>\n",
       "      <td>2.0</td>\n",
       "      <td>2.0</td>\n",
       "      <td>2.000000</td>\n",
       "      <td>2.000000</td>\n",
       "      <td>2.000000</td>\n",
       "      <td>2.000000</td>\n",
       "      <td>2.0</td>\n",
       "      <td>2.000000</td>\n",
       "      <td>2.0</td>\n",
       "      <td>2.000000</td>\n",
       "      <td>2.0</td>\n",
       "      <td>2.000000</td>\n",
       "      <td>2.0</td>\n",
       "    </tr>\n",
       "    <tr>\n",
       "      <th>mean</th>\n",
       "      <td>0.6</td>\n",
       "      <td>30.0</td>\n",
       "      <td>7.700000</td>\n",
       "      <td>2.800000</td>\n",
       "      <td>2.900000</td>\n",
       "      <td>3.500000</td>\n",
       "      <td>0.4</td>\n",
       "      <td>4.800000</td>\n",
       "      <td>0.0</td>\n",
       "      <td>1.400000</td>\n",
       "      <td>3.4</td>\n",
       "      <td>925.500000</td>\n",
       "      <td>1.0</td>\n",
       "    </tr>\n",
       "    <tr>\n",
       "      <th>std</th>\n",
       "      <td>0.0</td>\n",
       "      <td>0.0</td>\n",
       "      <td>0.282843</td>\n",
       "      <td>1.414214</td>\n",
       "      <td>0.707107</td>\n",
       "      <td>0.424264</td>\n",
       "      <td>0.0</td>\n",
       "      <td>1.131371</td>\n",
       "      <td>0.0</td>\n",
       "      <td>0.565685</td>\n",
       "      <td>0.0</td>\n",
       "      <td>98.287843</td>\n",
       "      <td>0.0</td>\n",
       "    </tr>\n",
       "    <tr>\n",
       "      <th>min</th>\n",
       "      <td>0.6</td>\n",
       "      <td>30.0</td>\n",
       "      <td>7.500000</td>\n",
       "      <td>1.800000</td>\n",
       "      <td>2.400000</td>\n",
       "      <td>3.200000</td>\n",
       "      <td>0.4</td>\n",
       "      <td>4.000000</td>\n",
       "      <td>0.0</td>\n",
       "      <td>1.000000</td>\n",
       "      <td>3.4</td>\n",
       "      <td>856.000000</td>\n",
       "      <td>1.0</td>\n",
       "    </tr>\n",
       "    <tr>\n",
       "      <th>25%</th>\n",
       "      <td>0.6</td>\n",
       "      <td>30.0</td>\n",
       "      <td>7.600000</td>\n",
       "      <td>2.300000</td>\n",
       "      <td>2.650000</td>\n",
       "      <td>3.350000</td>\n",
       "      <td>0.4</td>\n",
       "      <td>4.400000</td>\n",
       "      <td>0.0</td>\n",
       "      <td>1.200000</td>\n",
       "      <td>3.4</td>\n",
       "      <td>890.750000</td>\n",
       "      <td>1.0</td>\n",
       "    </tr>\n",
       "    <tr>\n",
       "      <th>50%</th>\n",
       "      <td>0.6</td>\n",
       "      <td>30.0</td>\n",
       "      <td>7.700000</td>\n",
       "      <td>2.800000</td>\n",
       "      <td>2.900000</td>\n",
       "      <td>3.500000</td>\n",
       "      <td>0.4</td>\n",
       "      <td>4.800000</td>\n",
       "      <td>0.0</td>\n",
       "      <td>1.400000</td>\n",
       "      <td>3.4</td>\n",
       "      <td>925.500000</td>\n",
       "      <td>1.0</td>\n",
       "    </tr>\n",
       "    <tr>\n",
       "      <th>75%</th>\n",
       "      <td>0.6</td>\n",
       "      <td>30.0</td>\n",
       "      <td>7.800000</td>\n",
       "      <td>3.300000</td>\n",
       "      <td>3.150000</td>\n",
       "      <td>3.650000</td>\n",
       "      <td>0.4</td>\n",
       "      <td>5.200000</td>\n",
       "      <td>0.0</td>\n",
       "      <td>1.600000</td>\n",
       "      <td>3.4</td>\n",
       "      <td>960.250000</td>\n",
       "      <td>1.0</td>\n",
       "    </tr>\n",
       "    <tr>\n",
       "      <th>max</th>\n",
       "      <td>0.6</td>\n",
       "      <td>30.0</td>\n",
       "      <td>7.900000</td>\n",
       "      <td>3.800000</td>\n",
       "      <td>3.400000</td>\n",
       "      <td>3.800000</td>\n",
       "      <td>0.4</td>\n",
       "      <td>5.600000</td>\n",
       "      <td>0.0</td>\n",
       "      <td>1.800000</td>\n",
       "      <td>3.4</td>\n",
       "      <td>995.000000</td>\n",
       "      <td>1.0</td>\n",
       "    </tr>\n",
       "  </tbody>\n",
       "</table><h2>Cluster 2</h2>sample97<table border=\"1\" class=\"dataframe\">\n",
       "  <thead>\n",
       "    <tr style=\"text-align: right;\">\n",
       "      <th></th>\n",
       "      <th>Alpha</th>\n",
       "      <th>Size</th>\n",
       "      <th>pH</th>\n",
       "      <th>Ca</th>\n",
       "      <th>Mg</th>\n",
       "      <th>Na</th>\n",
       "      <th>K</th>\n",
       "      <th>HCO3</th>\n",
       "      <th>CO3</th>\n",
       "      <th>Cl</th>\n",
       "      <th>SO4</th>\n",
       "      <th>TDS</th>\n",
       "      <th>cluster_label</th>\n",
       "    </tr>\n",
       "  </thead>\n",
       "  <tbody>\n",
       "    <tr>\n",
       "      <th>count</th>\n",
       "      <td>1.0</td>\n",
       "      <td>1.0</td>\n",
       "      <td>1.0</td>\n",
       "      <td>1.0</td>\n",
       "      <td>1.0</td>\n",
       "      <td>1.0</td>\n",
       "      <td>1.0</td>\n",
       "      <td>1.0</td>\n",
       "      <td>1.0</td>\n",
       "      <td>1.0</td>\n",
       "      <td>1.0</td>\n",
       "      <td>1.0</td>\n",
       "      <td>1.0</td>\n",
       "    </tr>\n",
       "    <tr>\n",
       "      <th>mean</th>\n",
       "      <td>0.6</td>\n",
       "      <td>30.0</td>\n",
       "      <td>7.5</td>\n",
       "      <td>9.0</td>\n",
       "      <td>18.6</td>\n",
       "      <td>0.2</td>\n",
       "      <td>0.0</td>\n",
       "      <td>6.8</td>\n",
       "      <td>0.0</td>\n",
       "      <td>6.2</td>\n",
       "      <td>13.2</td>\n",
       "      <td>1880.0</td>\n",
       "      <td>2.0</td>\n",
       "    </tr>\n",
       "    <tr>\n",
       "      <th>std</th>\n",
       "      <td>NaN</td>\n",
       "      <td>NaN</td>\n",
       "      <td>NaN</td>\n",
       "      <td>NaN</td>\n",
       "      <td>NaN</td>\n",
       "      <td>NaN</td>\n",
       "      <td>NaN</td>\n",
       "      <td>NaN</td>\n",
       "      <td>NaN</td>\n",
       "      <td>NaN</td>\n",
       "      <td>NaN</td>\n",
       "      <td>NaN</td>\n",
       "      <td>NaN</td>\n",
       "    </tr>\n",
       "    <tr>\n",
       "      <th>min</th>\n",
       "      <td>0.6</td>\n",
       "      <td>30.0</td>\n",
       "      <td>7.5</td>\n",
       "      <td>9.0</td>\n",
       "      <td>18.6</td>\n",
       "      <td>0.2</td>\n",
       "      <td>0.0</td>\n",
       "      <td>6.8</td>\n",
       "      <td>0.0</td>\n",
       "      <td>6.2</td>\n",
       "      <td>13.2</td>\n",
       "      <td>1880.0</td>\n",
       "      <td>2.0</td>\n",
       "    </tr>\n",
       "    <tr>\n",
       "      <th>25%</th>\n",
       "      <td>0.6</td>\n",
       "      <td>30.0</td>\n",
       "      <td>7.5</td>\n",
       "      <td>9.0</td>\n",
       "      <td>18.6</td>\n",
       "      <td>0.2</td>\n",
       "      <td>0.0</td>\n",
       "      <td>6.8</td>\n",
       "      <td>0.0</td>\n",
       "      <td>6.2</td>\n",
       "      <td>13.2</td>\n",
       "      <td>1880.0</td>\n",
       "      <td>2.0</td>\n",
       "    </tr>\n",
       "    <tr>\n",
       "      <th>50%</th>\n",
       "      <td>0.6</td>\n",
       "      <td>30.0</td>\n",
       "      <td>7.5</td>\n",
       "      <td>9.0</td>\n",
       "      <td>18.6</td>\n",
       "      <td>0.2</td>\n",
       "      <td>0.0</td>\n",
       "      <td>6.8</td>\n",
       "      <td>0.0</td>\n",
       "      <td>6.2</td>\n",
       "      <td>13.2</td>\n",
       "      <td>1880.0</td>\n",
       "      <td>2.0</td>\n",
       "    </tr>\n",
       "    <tr>\n",
       "      <th>75%</th>\n",
       "      <td>0.6</td>\n",
       "      <td>30.0</td>\n",
       "      <td>7.5</td>\n",
       "      <td>9.0</td>\n",
       "      <td>18.6</td>\n",
       "      <td>0.2</td>\n",
       "      <td>0.0</td>\n",
       "      <td>6.8</td>\n",
       "      <td>0.0</td>\n",
       "      <td>6.2</td>\n",
       "      <td>13.2</td>\n",
       "      <td>1880.0</td>\n",
       "      <td>2.0</td>\n",
       "    </tr>\n",
       "    <tr>\n",
       "      <th>max</th>\n",
       "      <td>0.6</td>\n",
       "      <td>30.0</td>\n",
       "      <td>7.5</td>\n",
       "      <td>9.0</td>\n",
       "      <td>18.6</td>\n",
       "      <td>0.2</td>\n",
       "      <td>0.0</td>\n",
       "      <td>6.8</td>\n",
       "      <td>0.0</td>\n",
       "      <td>6.2</td>\n",
       "      <td>13.2</td>\n",
       "      <td>1880.0</td>\n",
       "      <td>2.0</td>\n",
       "    </tr>\n",
       "  </tbody>\n",
       "</table><h2>Cluster 3</h2>sample12 sample13 sample14 sample15 sample23 sample25 sample27 sample28 sample29 sample30 sample37 sample38 sample39 sample41 sample43 sample44 sample45 sample46 sample47 sample54 sample58 sample60 sample64 sample65 sample68 sample69 sample70 sample71 sample72 sample73 sample74 sample75 sample76 sample77 sample78 sample82 sample83 sample84 sample85 sample86 sample88 sample89 sample90 sample91 sample93<table border=\"1\" class=\"dataframe\">\n",
       "  <thead>\n",
       "    <tr style=\"text-align: right;\">\n",
       "      <th></th>\n",
       "      <th>Alpha</th>\n",
       "      <th>Size</th>\n",
       "      <th>pH</th>\n",
       "      <th>Ca</th>\n",
       "      <th>Mg</th>\n",
       "      <th>Na</th>\n",
       "      <th>K</th>\n",
       "      <th>HCO3</th>\n",
       "      <th>CO3</th>\n",
       "      <th>Cl</th>\n",
       "      <th>SO4</th>\n",
       "      <th>TDS</th>\n",
       "      <th>cluster_label</th>\n",
       "    </tr>\n",
       "  </thead>\n",
       "  <tbody>\n",
       "    <tr>\n",
       "      <th>count</th>\n",
       "      <td>4.500000e+01</td>\n",
       "      <td>45.0</td>\n",
       "      <td>45.000000</td>\n",
       "      <td>45.000000</td>\n",
       "      <td>45.000000</td>\n",
       "      <td>45.000000</td>\n",
       "      <td>45.000000</td>\n",
       "      <td>45.000000</td>\n",
       "      <td>45.0</td>\n",
       "      <td>45.000000</td>\n",
       "      <td>45.000000</td>\n",
       "      <td>45.000000</td>\n",
       "      <td>45.0</td>\n",
       "    </tr>\n",
       "    <tr>\n",
       "      <th>mean</th>\n",
       "      <td>6.000000e-01</td>\n",
       "      <td>30.0</td>\n",
       "      <td>7.720000</td>\n",
       "      <td>9.042222</td>\n",
       "      <td>14.984444</td>\n",
       "      <td>26.437778</td>\n",
       "      <td>2.946667</td>\n",
       "      <td>10.433333</td>\n",
       "      <td>0.0</td>\n",
       "      <td>13.244444</td>\n",
       "      <td>24.897778</td>\n",
       "      <td>3446.600000</td>\n",
       "      <td>3.0</td>\n",
       "    </tr>\n",
       "    <tr>\n",
       "      <th>std</th>\n",
       "      <td>2.245537e-16</td>\n",
       "      <td>0.0</td>\n",
       "      <td>0.177866</td>\n",
       "      <td>7.997343</td>\n",
       "      <td>8.395506</td>\n",
       "      <td>12.112508</td>\n",
       "      <td>1.347152</td>\n",
       "      <td>3.948763</td>\n",
       "      <td>0.0</td>\n",
       "      <td>14.182264</td>\n",
       "      <td>14.418556</td>\n",
       "      <td>1556.639685</td>\n",
       "      <td>0.0</td>\n",
       "    </tr>\n",
       "    <tr>\n",
       "      <th>min</th>\n",
       "      <td>6.000000e-01</td>\n",
       "      <td>30.0</td>\n",
       "      <td>7.300000</td>\n",
       "      <td>2.400000</td>\n",
       "      <td>1.200000</td>\n",
       "      <td>16.900000</td>\n",
       "      <td>1.900000</td>\n",
       "      <td>2.500000</td>\n",
       "      <td>0.0</td>\n",
       "      <td>3.900000</td>\n",
       "      <td>7.100000</td>\n",
       "      <td>2115.000000</td>\n",
       "      <td>3.0</td>\n",
       "    </tr>\n",
       "    <tr>\n",
       "      <th>25%</th>\n",
       "      <td>6.000000e-01</td>\n",
       "      <td>30.0</td>\n",
       "      <td>7.600000</td>\n",
       "      <td>5.400000</td>\n",
       "      <td>11.600000</td>\n",
       "      <td>19.000000</td>\n",
       "      <td>2.100000</td>\n",
       "      <td>8.600000</td>\n",
       "      <td>0.0</td>\n",
       "      <td>7.600000</td>\n",
       "      <td>13.500000</td>\n",
       "      <td>2673.000000</td>\n",
       "      <td>3.0</td>\n",
       "    </tr>\n",
       "    <tr>\n",
       "      <th>50%</th>\n",
       "      <td>6.000000e-01</td>\n",
       "      <td>30.0</td>\n",
       "      <td>7.700000</td>\n",
       "      <td>6.800000</td>\n",
       "      <td>13.400000</td>\n",
       "      <td>22.600000</td>\n",
       "      <td>2.500000</td>\n",
       "      <td>11.000000</td>\n",
       "      <td>0.0</td>\n",
       "      <td>9.600000</td>\n",
       "      <td>18.500000</td>\n",
       "      <td>3005.000000</td>\n",
       "      <td>3.0</td>\n",
       "    </tr>\n",
       "    <tr>\n",
       "      <th>75%</th>\n",
       "      <td>6.000000e-01</td>\n",
       "      <td>30.0</td>\n",
       "      <td>7.800000</td>\n",
       "      <td>10.000000</td>\n",
       "      <td>16.800000</td>\n",
       "      <td>26.600000</td>\n",
       "      <td>3.000000</td>\n",
       "      <td>13.500000</td>\n",
       "      <td>0.0</td>\n",
       "      <td>13.000000</td>\n",
       "      <td>32.900000</td>\n",
       "      <td>3278.000000</td>\n",
       "      <td>3.0</td>\n",
       "    </tr>\n",
       "    <tr>\n",
       "      <th>max</th>\n",
       "      <td>6.000000e-01</td>\n",
       "      <td>30.0</td>\n",
       "      <td>8.400000</td>\n",
       "      <td>42.600000</td>\n",
       "      <td>58.400000</td>\n",
       "      <td>81.300000</td>\n",
       "      <td>9.000000</td>\n",
       "      <td>16.800000</td>\n",
       "      <td>0.0</td>\n",
       "      <td>78.000000</td>\n",
       "      <td>66.300000</td>\n",
       "      <td>9629.000000</td>\n",
       "      <td>3.0</td>\n",
       "    </tr>\n",
       "  </tbody>\n",
       "</table><h2>Cluster 4</h2>sample1 sample2 sample4 sample5 sample6 sample8 sample10 sample11 sample16 sample17 sample18 sample19 sample20 sample21 sample22 sample24 sample31 sample32 sample33 sample34 sample35 sample36 sample40 sample42 sample48 sample49 sample50 sample51 sample52 sample53 sample55 sample56 sample57 sample59 sample61 sample62 sample63 sample66 sample67 sample87 sample92 sample94 sample95 sample99 sample100 sample101 sample102<table border=\"1\" class=\"dataframe\">\n",
       "  <thead>\n",
       "    <tr style=\"text-align: right;\">\n",
       "      <th></th>\n",
       "      <th>Alpha</th>\n",
       "      <th>Size</th>\n",
       "      <th>pH</th>\n",
       "      <th>Ca</th>\n",
       "      <th>Mg</th>\n",
       "      <th>Na</th>\n",
       "      <th>K</th>\n",
       "      <th>HCO3</th>\n",
       "      <th>CO3</th>\n",
       "      <th>Cl</th>\n",
       "      <th>SO4</th>\n",
       "      <th>TDS</th>\n",
       "      <th>cluster_label</th>\n",
       "    </tr>\n",
       "  </thead>\n",
       "  <tbody>\n",
       "    <tr>\n",
       "      <th>count</th>\n",
       "      <td>4.700000e+01</td>\n",
       "      <td>47.0</td>\n",
       "      <td>47.000000</td>\n",
       "      <td>47.000000</td>\n",
       "      <td>47.000000</td>\n",
       "      <td>47.000000</td>\n",
       "      <td>47.000000</td>\n",
       "      <td>47.000000</td>\n",
       "      <td>47.0</td>\n",
       "      <td>47.000000</td>\n",
       "      <td>47.000000</td>\n",
       "      <td>47.000000</td>\n",
       "      <td>47.0</td>\n",
       "    </tr>\n",
       "    <tr>\n",
       "      <th>mean</th>\n",
       "      <td>6.000000e-01</td>\n",
       "      <td>30.0</td>\n",
       "      <td>7.646809</td>\n",
       "      <td>7.600000</td>\n",
       "      <td>9.931915</td>\n",
       "      <td>11.978723</td>\n",
       "      <td>1.331915</td>\n",
       "      <td>9.889362</td>\n",
       "      <td>0.0</td>\n",
       "      <td>5.476596</td>\n",
       "      <td>12.129787</td>\n",
       "      <td>2020.595745</td>\n",
       "      <td>4.0</td>\n",
       "    </tr>\n",
       "    <tr>\n",
       "      <th>std</th>\n",
       "      <td>2.244452e-16</td>\n",
       "      <td>0.0</td>\n",
       "      <td>0.238520</td>\n",
       "      <td>4.451233</td>\n",
       "      <td>3.682810</td>\n",
       "      <td>2.453386</td>\n",
       "      <td>0.273549</td>\n",
       "      <td>2.630030</td>\n",
       "      <td>0.0</td>\n",
       "      <td>2.500975</td>\n",
       "      <td>6.629444</td>\n",
       "      <td>449.500673</td>\n",
       "      <td>0.0</td>\n",
       "    </tr>\n",
       "    <tr>\n",
       "      <th>min</th>\n",
       "      <td>6.000000e-01</td>\n",
       "      <td>30.0</td>\n",
       "      <td>6.300000</td>\n",
       "      <td>2.000000</td>\n",
       "      <td>4.000000</td>\n",
       "      <td>5.800000</td>\n",
       "      <td>0.600000</td>\n",
       "      <td>3.200000</td>\n",
       "      <td>0.0</td>\n",
       "      <td>2.000000</td>\n",
       "      <td>2.000000</td>\n",
       "      <td>1270.000000</td>\n",
       "      <td>4.0</td>\n",
       "    </tr>\n",
       "    <tr>\n",
       "      <th>25%</th>\n",
       "      <td>6.000000e-01</td>\n",
       "      <td>30.0</td>\n",
       "      <td>7.600000</td>\n",
       "      <td>3.500000</td>\n",
       "      <td>7.050000</td>\n",
       "      <td>10.250000</td>\n",
       "      <td>1.100000</td>\n",
       "      <td>8.550000</td>\n",
       "      <td>0.0</td>\n",
       "      <td>3.900000</td>\n",
       "      <td>6.900000</td>\n",
       "      <td>1605.500000</td>\n",
       "      <td>4.0</td>\n",
       "    </tr>\n",
       "    <tr>\n",
       "      <th>50%</th>\n",
       "      <td>6.000000e-01</td>\n",
       "      <td>30.0</td>\n",
       "      <td>7.700000</td>\n",
       "      <td>7.200000</td>\n",
       "      <td>9.600000</td>\n",
       "      <td>12.000000</td>\n",
       "      <td>1.300000</td>\n",
       "      <td>9.800000</td>\n",
       "      <td>0.0</td>\n",
       "      <td>5.000000</td>\n",
       "      <td>12.200000</td>\n",
       "      <td>1979.000000</td>\n",
       "      <td>4.0</td>\n",
       "    </tr>\n",
       "    <tr>\n",
       "      <th>75%</th>\n",
       "      <td>6.000000e-01</td>\n",
       "      <td>30.0</td>\n",
       "      <td>7.800000</td>\n",
       "      <td>10.150000</td>\n",
       "      <td>12.550000</td>\n",
       "      <td>13.550000</td>\n",
       "      <td>1.500000</td>\n",
       "      <td>11.500000</td>\n",
       "      <td>0.0</td>\n",
       "      <td>6.300000</td>\n",
       "      <td>17.000000</td>\n",
       "      <td>2427.500000</td>\n",
       "      <td>4.0</td>\n",
       "    </tr>\n",
       "    <tr>\n",
       "      <th>max</th>\n",
       "      <td>6.000000e-01</td>\n",
       "      <td>30.0</td>\n",
       "      <td>7.900000</td>\n",
       "      <td>18.400000</td>\n",
       "      <td>17.800000</td>\n",
       "      <td>16.600000</td>\n",
       "      <td>1.800000</td>\n",
       "      <td>14.800000</td>\n",
       "      <td>0.0</td>\n",
       "      <td>11.600000</td>\n",
       "      <td>23.800000</td>\n",
       "      <td>3058.000000</td>\n",
       "      <td>4.0</td>\n",
       "    </tr>\n",
       "  </tbody>\n",
       "</table><h2>Cluster 5</h2>sample3 sample7 sample9 sample26 sample79 sample80 sample81<table border=\"1\" class=\"dataframe\">\n",
       "  <thead>\n",
       "    <tr style=\"text-align: right;\">\n",
       "      <th></th>\n",
       "      <th>Alpha</th>\n",
       "      <th>Size</th>\n",
       "      <th>pH</th>\n",
       "      <th>Ca</th>\n",
       "      <th>Mg</th>\n",
       "      <th>Na</th>\n",
       "      <th>K</th>\n",
       "      <th>HCO3</th>\n",
       "      <th>CO3</th>\n",
       "      <th>Cl</th>\n",
       "      <th>SO4</th>\n",
       "      <th>TDS</th>\n",
       "      <th>cluster_label</th>\n",
       "    </tr>\n",
       "  </thead>\n",
       "  <tbody>\n",
       "    <tr>\n",
       "      <th>count</th>\n",
       "      <td>7.0</td>\n",
       "      <td>7.0</td>\n",
       "      <td>7.000000</td>\n",
       "      <td>7.000000</td>\n",
       "      <td>7.000000</td>\n",
       "      <td>7.000000</td>\n",
       "      <td>7.000000</td>\n",
       "      <td>7.000000</td>\n",
       "      <td>7.0</td>\n",
       "      <td>7.000000</td>\n",
       "      <td>7.000000</td>\n",
       "      <td>7.000000</td>\n",
       "      <td>7.0</td>\n",
       "    </tr>\n",
       "    <tr>\n",
       "      <th>mean</th>\n",
       "      <td>0.6</td>\n",
       "      <td>30.0</td>\n",
       "      <td>7.671429</td>\n",
       "      <td>1.114286</td>\n",
       "      <td>9.342857</td>\n",
       "      <td>18.014286</td>\n",
       "      <td>1.985714</td>\n",
       "      <td>12.585714</td>\n",
       "      <td>0.0</td>\n",
       "      <td>5.414286</td>\n",
       "      <td>8.242857</td>\n",
       "      <td>2034.142857</td>\n",
       "      <td>5.0</td>\n",
       "    </tr>\n",
       "    <tr>\n",
       "      <th>std</th>\n",
       "      <td>0.0</td>\n",
       "      <td>0.0</td>\n",
       "      <td>0.256348</td>\n",
       "      <td>0.397612</td>\n",
       "      <td>1.882248</td>\n",
       "      <td>6.085893</td>\n",
       "      <td>0.684175</td>\n",
       "      <td>1.990334</td>\n",
       "      <td>0.0</td>\n",
       "      <td>2.810948</td>\n",
       "      <td>5.515390</td>\n",
       "      <td>561.931618</td>\n",
       "      <td>0.0</td>\n",
       "    </tr>\n",
       "    <tr>\n",
       "      <th>min</th>\n",
       "      <td>0.6</td>\n",
       "      <td>30.0</td>\n",
       "      <td>7.300000</td>\n",
       "      <td>0.400000</td>\n",
       "      <td>7.600000</td>\n",
       "      <td>11.900000</td>\n",
       "      <td>1.300000</td>\n",
       "      <td>8.400000</td>\n",
       "      <td>0.0</td>\n",
       "      <td>2.000000</td>\n",
       "      <td>2.200000</td>\n",
       "      <td>1407.000000</td>\n",
       "      <td>5.0</td>\n",
       "    </tr>\n",
       "    <tr>\n",
       "      <th>25%</th>\n",
       "      <td>0.6</td>\n",
       "      <td>30.0</td>\n",
       "      <td>7.550000</td>\n",
       "      <td>1.000000</td>\n",
       "      <td>8.000000</td>\n",
       "      <td>12.050000</td>\n",
       "      <td>1.300000</td>\n",
       "      <td>12.300000</td>\n",
       "      <td>0.0</td>\n",
       "      <td>2.700000</td>\n",
       "      <td>2.850000</td>\n",
       "      <td>1495.000000</td>\n",
       "      <td>5.0</td>\n",
       "    </tr>\n",
       "    <tr>\n",
       "      <th>50%</th>\n",
       "      <td>0.6</td>\n",
       "      <td>30.0</td>\n",
       "      <td>7.800000</td>\n",
       "      <td>1.200000</td>\n",
       "      <td>9.000000</td>\n",
       "      <td>20.400000</td>\n",
       "      <td>2.300000</td>\n",
       "      <td>13.500000</td>\n",
       "      <td>0.0</td>\n",
       "      <td>6.600000</td>\n",
       "      <td>9.000000</td>\n",
       "      <td>2229.000000</td>\n",
       "      <td>5.0</td>\n",
       "    </tr>\n",
       "    <tr>\n",
       "      <th>75%</th>\n",
       "      <td>0.6</td>\n",
       "      <td>30.0</td>\n",
       "      <td>7.800000</td>\n",
       "      <td>1.300000</td>\n",
       "      <td>9.900000</td>\n",
       "      <td>21.150000</td>\n",
       "      <td>2.350000</td>\n",
       "      <td>13.850000</td>\n",
       "      <td>0.0</td>\n",
       "      <td>7.900000</td>\n",
       "      <td>13.400000</td>\n",
       "      <td>2455.500000</td>\n",
       "      <td>5.0</td>\n",
       "    </tr>\n",
       "    <tr>\n",
       "      <th>max</th>\n",
       "      <td>0.6</td>\n",
       "      <td>30.0</td>\n",
       "      <td>7.900000</td>\n",
       "      <td>1.600000</td>\n",
       "      <td>13.000000</td>\n",
       "      <td>27.400000</td>\n",
       "      <td>3.000000</td>\n",
       "      <td>13.900000</td>\n",
       "      <td>0.0</td>\n",
       "      <td>8.100000</td>\n",
       "      <td>14.000000</td>\n",
       "      <td>2702.000000</td>\n",
       "      <td>5.0</td>\n",
       "    </tr>\n",
       "  </tbody>\n",
       "</table>"
      ]
     },
     "metadata": {},
     "output_type": "display_data"
    }
   ],
   "source": [
    "t = \"\"\n",
    "for lab, sub in df.groupby('cluster_label'):\n",
    "    t += f\"<h2>Cluster {lab}</h2>\"\n",
    "    t += \" \".join(sub[\"Sample\"])\n",
    "    t += sub.describe().to_html()\n",
    "display_html(t, raw=True)"
   ]
  },
  {
   "cell_type": "markdown",
   "id": "38854a7521812472",
   "metadata": {},
   "source": [
    "# Plotting and Visualization"
   ]
  },
  {
   "cell_type": "code",
   "execution_count": 20,
   "id": "9992d97a",
   "metadata": {
    "ExecuteTime": {
     "end_time": "2025-04-02T13:53:46.812658Z",
     "start_time": "2025-04-02T13:53:46.807512Z"
    }
   },
   "outputs": [
    {
     "data": {
      "text/plain": [
       "(10, 5, 7, 2)"
      ]
     },
     "execution_count": 20,
     "metadata": {},
     "output_type": "execute_result"
    }
   ],
   "source": [
    "# Create hexagons for visualization\n",
    "def hexagon(_xx, _yy, radius):\n",
    "    # Returns a NX x NY x 6 x 2 array of hexagon coordinates\n",
    "    hex_xy = np.zeros((_xx.shape[0], _xx.shape[1], 7, 2))\n",
    "    for i in range(7):\n",
    "        theta = np.pi / 6 + 2 * np.pi * i / 6\n",
    "        hex_xy[:, :, i, 0] = _xx + radius * np.cos(theta)\n",
    "        hex_xy[:, :, i, 1] = _yy + radius * np.sin(theta)\n",
    "    return hex_xy\n",
    "\n",
    "\n",
    "hexagons = hexagon(xx, yy, 0.5)\n",
    "hexagons.shape"
   ]
  },
  {
   "cell_type": "code",
   "execution_count": 21,
   "id": "9d9e89f1",
   "metadata": {
    "ExecuteTime": {
     "end_time": "2025-04-02T13:53:46.821841Z",
     "start_time": "2025-04-02T13:53:46.814665Z"
    }
   },
   "outputs": [],
   "source": [
    "\n",
    "# Cluster polygons\n",
    "node_hexagons = hexagon(xx, yy, np.sqrt(3) / 3 + 0.001).reshape(-1, 7, 2)\n",
    "cluster_boundaries = {}\n",
    "for c in np.unique(node_labels):\n",
    "    matches = node_labels.flatten() == c\n",
    "    joined_polygon = shapely.union_all([shapely.Polygon(p) for p in node_hexagons[matches]])\n",
    "    cluster_boundaries[c] = joined_polygon"
   ]
  },
  {
   "cell_type": "code",
   "execution_count": null,
   "id": "4bd24ab8e9024e4c",
   "metadata": {
    "ExecuteTime": {
     "end_time": "2025-04-02T13:53:48.211149Z",
     "start_time": "2025-04-02T13:53:46.821841Z"
    }
   },
   "outputs": [],
   "source": [
    "# Define functions for plotting\n",
    "def add_cluster_boundaries(fig: go.Figure, row_index, col_index):\n",
    "    for k, boundary in cluster_boundaries.items():\n",
    "        \n",
    "        if boundary.geom_type == 'Polygon':\n",
    "            bnds = [boundary]\n",
    "        elif boundary.geom_type == 'MultiPolygon':\n",
    "            bnds = list(boundary.geoms)\n",
    "        else:\n",
    "            raise NotImplementedError(boundary.geom_type)\n",
    "        \n",
    "        for poly in bnds:\n",
    "            if poly.boundary.geom_type == 'LineString':\n",
    "                crds = np.array(poly.boundary.coords)\n",
    "            else:\n",
    "                crds = np.array(poly.boundary.geoms[0].coords)\n",
    "\n",
    "            fig.add_scatter(\n",
    "                x=crds[:, 0],\n",
    "                y=crds[:, 1],\n",
    "                # fill='toself',\n",
    "                mode=\"lines\",\n",
    "                showlegend=False,\n",
    "                line=dict(color='black', width=2),\n",
    "                row=row_index,\n",
    "                col=col_index,\n",
    "            )\n",
    "\n",
    "\n",
    "def add_som_grid(fig: go.Figure, row, col, w_in, colorbar_settings, colorscale):\n",
    "    # Accepts an arbitrary grid (final_nx x final_ny), normalizes and plots it on the SOM hex grid\n",
    "    w = np.array(w_in, dtype=float).copy()\n",
    "    nan_mask = np.isnan(w)\n",
    "\n",
    "    if force_feature_colorscale_to_01:\n",
    "        w_min = 0\n",
    "        w_max = 1\n",
    "    else:\n",
    "        # Use nan-aware mins and maxes\n",
    "        if np.all(nan_mask):\n",
    "            w_min = 0\n",
    "            w_max = 1\n",
    "        else:\n",
    "            w_min = float(np.nanmin(w))\n",
    "            w_max = float(np.nanmax(w))\n",
    "\n",
    "    # Normalize to [0,1] for color sampling\n",
    "    if np.all(nan_mask):\n",
    "        w_norm = np.zeros_like(w)\n",
    "    else:\n",
    "        mn = float(np.nanmin(w))\n",
    "        mx = float(np.nanmax(w))\n",
    "        if mx > mn:\n",
    "            w_norm = (w - mn) / (mx - mn)\n",
    "        else:\n",
    "            w_norm = np.zeros_like(w)\n",
    "\n",
    "    colors = np.array(\n",
    "        sample_colorscale(colorscale, np.nan_to_num(w_norm, nan=0.0).flatten())\n",
    "    ).reshape(final_nx, final_ny)\n",
    "\n",
    "    # Add colored hexagons\n",
    "    for i in range(final_nx):\n",
    "        for j in range(final_ny):\n",
    "            text = str(sorted(df.iloc[win_map[(i, j)]].index.values.tolist()))\n",
    "            fillcolor = 'rgba(0,0,0,0)' if nan_mask[i, j] else colors[i, j]\n",
    "\n",
    "            fig.add_scatter(\n",
    "                x=hexagons[i, j, :, 0],\n",
    "                y=hexagons[i, j, :, 1],\n",
    "                fill='toself',\n",
    "                mode='lines',\n",
    "                fillcolor=fillcolor,\n",
    "                line=dict(color='black', width=0),\n",
    "                text=text,\n",
    "                showlegend=False,\n",
    "                hoverinfo=\"text\",\n",
    "                hoveron=\"fills\",\n",
    "                row=row,\n",
    "                col=col,\n",
    "            )\n",
    "           \n",
    "    fig.add_scatter(\n",
    "        x=[0, 0],\n",
    "        y=[0, 0],\n",
    "        showlegend=False,\n",
    "        marker=dict(color=[w_min, w_max], colorscale=colorscale, size=0.001, colorbar=colorbar_settings),\n",
    "        row=row,\n",
    "        col=col,\n",
    "    )\n",
    "\n",
    "\n",
    "def add_som_features(fig: go.Figure, row, col, feature_index, colorbar_settings, colorscale):\n",
    "    # Backwards-compatible wrapper using trained SOM weights or Umatrix\n",
    "    if feature_index >= weights.shape[2]:\n",
    "        w = umatrix.copy()\n",
    "    else:\n",
    "        # The value of the weights will refer to the transformed data. If we want\n",
    "        # the original scale, we will need to apply the inverse transform here\n",
    "        w = weights[:, :, feature_index]\n",
    "    add_som_grid(fig, row, col, w, colorbar_settings, colorscale)\n",
    "\n",
    "\n",
    "def add_training_cells(fig: go.Figure, row, col):\n",
    "    # Add colored hexagons\n",
    "    label_colors = DEFAULT_PLOTLY_COLORS\n",
    "    for i in range(final_nx):\n",
    "        for j in range(final_ny):\n",
    "            text = \"\"\n",
    "            if len(win_map[(i, j)]) > 0:\n",
    "                samples = [str(s) for s in sorted(df.iloc[win_map[(i, j)]].index.values.tolist())]\n",
    "                if len(samples) <= 3:\n",
    "                    text = f\"{','.join(samples)}\"\n",
    "                elif len(samples) <= 6:\n",
    "                    text = f\"{','.join(samples[:3])}\" + f\"<br>{','.join(samples[3:])}\"\n",
    "                elif len(samples) <= 9:\n",
    "                    text = f\"{','.join(samples[:3])}\" + f\"<br>{','.join(samples[3:6])}\" + f\"<br>{','.join(samples[6:])}\"\n",
    "                else:\n",
    "                    text = f\"{','.join(samples[:3])}\" + f\"<br>{','.join(samples[3:-3])}\" + f\"<br>{','.join(samples[-3:])}\"\n",
    "\n",
    "            fig.add_scatter(\n",
    "                x=hexagons[i, j, :, 0],\n",
    "                y=hexagons[i, j, :, 1],\n",
    "                fill='toself',\n",
    "                mode='lines',\n",
    "                fillcolor=label_colors[node_labels[i, j]],\n",
    "                line=dict(width=0),\n",
    "                text=text,\n",
    "                showlegend=False,\n",
    "                hoverinfo=\"text\",\n",
    "                hoveron=\"fills\",\n",
    "                row=row,\n",
    "                col=col,\n",
    "            )\n",
    "\n",
    "            mid = (hexagons[i, j, 0, :] + hexagons[i, j, 3, :]) / 2\n",
    "            fig.add_scatter(\n",
    "                x=[mid[0]],\n",
    "                y=[mid[1]],\n",
    "                mode=\"text\",\n",
    "                text=text,\n",
    "                textfont=dict(color=\"black\", size=6),\n",
    "                marker=dict(color='black'),\n",
    "                showlegend=False,\n",
    "                hoverinfo=\"none\",\n",
    "                row=row,\n",
    "                col=col,\n",
    "            )\n",
    "\n",
    "\n",
    "n_plots = len(feature_plot_columns) + 2\n",
    "subplot_rows = (n_plots + 1) // 2\n",
    "subplot_columns = 2\n",
    "vertical_spacing = 0.1\n",
    "features_fig = make_subplots(\n",
    "    rows=subplot_rows,\n",
    "    cols=subplot_columns,\n",
    "    subplot_titles=feature_plot_columns + [\"Umatrix\"] + [\"Clusters and winning cells\"],\n",
    "    horizontal_spacing=0.15,\n",
    "    vertical_spacing=vertical_spacing,\n",
    "\n",
    ")\n",
    "features_fig.layout.height = 50 + 250 * subplot_rows\n",
    "v_margin = int(vertical_spacing * features_fig.layout.height)\n",
    "features_fig.layout.margin = dict(l=0, r=0, t=v_margin, b=v_margin)\n",
    "\n",
    "subplot_ix = list(\n",
    "    itertools.product(range(1, subplot_rows + 1), range(1, subplot_columns + 1))\n",
    ")[:n_plots]\n",
    "\n",
    "# Feature plots (trained inputs + any additional columns)\n",
    "for i, (row_index, col_index) in enumerate(subplot_ix[:len(feature_plot_columns)]):\n",
    "    # add_cluster_boundaries(features_fig, row_index, col_index)\n",
    "    colorbar_settings = dict(\n",
    "        orientation = \"h\",\n",
    "        thickness = 20,\n",
    "        len = 0.35,\n",
    "        y = -0.5 * vertical_spacing + (1 + vertical_spacing) * (1 - row_index / subplot_rows),\n",
    "        x = 0.2 if col_index == 1 else 0.8\n",
    "    )\n",
    "\n",
    "    col_name = feature_plot_columns[i]\n",
    "    cs = specialized_colorscales.get(col_name, features_colorscale)\n",
    "\n",
    "    if col_name in input_columns:\n",
    "        feat_idx = input_columns.index(col_name)\n",
    "        w = weights[:, :, feat_idx]\n",
    "    else:\n",
    "        # Compute per-cell mean of the selected column\n",
    "        w = np.full((final_nx, final_ny), np.nan, dtype=float)\n",
    "        for (ii, jj), idxs in win_map.items():\n",
    "            if len(idxs) == 0:\n",
    "                w[ii, jj] = np.nan\n",
    "            else:\n",
    "                vals = pd.to_numeric(df.loc[idxs, col_name], errors='coerce').values\n",
    "                w[ii, jj] = np.nanmean(vals)\n",
    "\n",
    "    add_som_grid(features_fig, row_index, col_index, w, colorbar_settings, cs)\n",
    "\n",
    "# Umatrix plot in the next slot\n",
    "um_row, um_col = subplot_ix[len(feature_plot_columns)]\n",
    "um_colorbar = dict(\n",
    "    orientation = \"h\",\n",
    "    thickness = 20,\n",
    "    len = 0.35,\n",
    "    y = -0.5 * vertical_spacing + (1 + vertical_spacing) * (1 - um_row / subplot_rows),\n",
    "    x = 0.2 if um_col == 1 else 0.8\n",
    ")\n",
    "add_som_grid(features_fig, um_row, um_col, umatrix.copy(), um_colorbar, features_colorscale)\n",
    "\n",
    "features_fig.update_traces(dict(marker=dict(colorbar=dict(orientation=\"h\"))))\n",
    "\n",
    "add_training_cells(features_fig, subplot_ix[-1][0], subplot_ix[-1][1])\n",
    "add_cluster_boundaries(features_fig, subplot_ix[-1][0], subplot_ix[-1][1])\n",
    "\n",
    "\n",
    "for i, (row_index, col_index) in enumerate(subplot_ix):\n",
    "    sp = features_fig.get_subplot(row_index, col_index)\n",
    "    sp.yaxis.scaleanchor = sp.yaxis.anchor\n",
    "    sp.yaxis.showticklabels = False\n",
    "    sp.xaxis.showticklabels = False\n",
    "\n",
    "\n",
    "show_figure(features_fig)"
   ]
  },
  {
   "cell_type": "markdown",
   "id": "0845e6d7",
   "metadata": {},
   "source": [
    "# Gibbs diagram"
   ]
  },
  {
   "cell_type": "code",
   "execution_count": null,
   "id": "72671bbd",
   "metadata": {
    "ExecuteTime": {
     "end_time": "2025-04-02T13:53:48.221369Z",
     "start_time": "2025-04-02T13:53:48.211149Z"
    }
   },
   "outputs": [],
   "source": [
    "# Values from https://github.com/jyangfsu/WQChartPy/blob/main/wqchartpy/gibbs.py\n",
    "na_ca_line = np.array(\n",
    "    [\n",
    "        [0.0083, 0.0277, 0.0505, 0.0668, 0.0830, 0.1090, 0.1253, 0.1481, 0.1611, 0.1871, 0.2067, 0.2294, 0.2457, 0.2718, 0.2880, 0.3174, 0.3500, 0.3956, 0.4379, 0.4802, 0.5225, 0.5681, 0.6039, 0.6429, 0.6819, 0.7144, 0.7534, 0.7729, 0.7924, 0.8119, 0.8314, 0.8509, 0.8737, 0.8997, 0.9225, 0.9420, 0.9615, 0.9843, 0.9973, None, None, 0.9932, 0.9866, 0.9636, 0.9406, 0.9209, 0.9045, 0.8881, 0.8716, 0.8519, 0.8322, 0.8026, 0.7663, 0.7367, 0.7070, 0.6774, 0.6543, 0.6279, 0.6146, 0.5916, 0.5783, 0.5617, 0.5419, 0.5383, 0.5513, 0.5739, 0.6096, 0.6453, 0.6778, 0.6940, 0.7135, 0.7362, 0.7653, 0.8010, 0.8399, 0.8724, 0.8983, 0.9340, 0.9469, 0.9696, 0.9891, 0.9955, None, None, 0.9003, 0.8871, 0.8410, 0.8278, 0.7949, 0.7619, 0.7290, 0.6830, 0.6369, 0.5942, 0.5516, 0.5089, 0.4399, 0.4005, 0.3545, 0.3118, 0.2658, 0.2296, 0.1836, 0.1442, 0.1047, 0.0718, 0.0454, 0.0092],\n",
    "        [108.9257, 97.0774, 88.1725, 80.1044, 74.1755, 66.0907, 61.199, 56.6553, 52.4686, 47.6497, 44.9668, 40.842, 39.2892, 35.6808, 33.0399, 30.5792, 28.2983, 24.7192, 21.5954, 18.5101, 15.5659, 12.5986, 11.0093, 9.0844, 7.3545, 6.3061, 5.2036, 4.6375, 4.2938, 3.8267, 3.543, 3.2184, 2.9232, 2.6046, 2.321, 2.1489, 1.9896, 1.8419, 1.7386, 1.7386, 7514.32, 7514.32, 7234.9489, 6582.7621, 5989.366, 5553.6776, 5051.7878, 4683.7185, 4179.9779, 3730.8803, 3394.141, 2808.0488, 2153.0926, 1714.648, 1365.4861, 1087.4256, 899.4273, 702.6564, 592.1454, 508.812, 420.6893, 334.8554, 271.6992, 204.138, 175.1691, 144.6326, 114.8937, 91.2695, 78.2591, 68.4377, 59.8414, 50.3607, 39.2599, 30.5983, 22.9525, 18.2353, 14.4912, 11.7332, 10.262, 8.6362, 7.5514, 7.267, 7.267, 45278.8769, 45278.8769, 39640.8983, 28715.7533, 25624.1396, 20408.7169, 15947.8034, 12461.9512, 9558.8684, 7473.2267, 6069.0146, 5023.5351, 4238.2048, 3072.823, 2592.1249, 2065.5649, 1614.6797, 1311.4464, 1044.6506, 816.7192, 650.65, 508.5584, 412.8464, 341.5145, 261.8588],\n",
    "    ]\n",
    ")\n",
    "cl_hco3_line = np.array(\n",
    "    [\n",
    "        [0.0056, 0.0251, 0.0446, 0.0771, 0.1096, 0.1291, 0.1454, 0.1844, 0.2104, 0.2299, 0.2656, 0.2883, 0.3078, 0.3500, 0.3792, 0.4052, 0.4507, 0.4799, 0.4994, 0.5351, 0.5579, 0.5741, 0.5904, 0.6196, 0.6488, 0.6716, 0.6976, 0.7236, 0.7495, 0.7723, 0.7983, 0.8242, 0.8535, 0.8827, 0.9119, 0.9444, 0.9704, 0.9931, None, None, 0.9961, 0.9830, 0.9668, 0.9538, 0.944, 0.9180, 0.9050, 0.8887, 0.8530, 0.8302, 0.8074, 0.7814, 0.7554, 0.7294, 0.7132, 0.6937, 0.6742, 0.6417, 0.6189, 0.5897, 0.5735, 0.5605, 0.5377, 0.5150, 0.4955, 0.4760, 0.4565, 0.4402, 0.4175, 0.4013, 0.3785, 0.3590, 0.3395, 0.3200, 0.3070, 0.2941, 0.2746, 0.2551, 0.2388, 0.2291, 0.2128, 0.2063, 0.1998, 0.1997, 0.2062, 0.2159, 0.2354, 0.2516, 0.2646, 0.2873, 0.3002, 0.3262, 0.3489, 0.3683, 0.3878, 0.4105, 0.4267, 0.4527, 0.4754, 0.5175, 0.5500, 0.5694, 0.5889, 0.6148, 0.6376, 0.6538, 0.6700, 0.6927, 0.7089, 0.7252, 0.7479, 0.7771, 0.7965, 0.8160, 0.8322, 0.8517, 0.8841, 0.9003, 0.9165, 0.9392, 0.9522, 0.9684, 0.9846, 0.9975, None, None, 0.9935, 0.9870, 0.9708, 0.9579, 0.9385, 0.9255, 0.9061, 0.8801, 0.8607, 0.8347, 0.8088, 0.7893, 0.7602, 0.7277, 0.6855, 0.6531, 0.6044, 0.5623, 0.5298, 0.4909, 0.4520, 0.4196, 0.3839, 0.3450, 0.3158, 0.2899, 0.2672, 0.2380, 0.2088, 0.1861, 0.1634, 0.1408, 0.1148, 0.0889, 0.0759, 0.0630, 0.0500, 0.0371, 0.0209, 0.0079],\n",
    "        [21.4751, 19.1493, 17.0753, 15.2298, 13.0728, 11.8826, 11.2221, 10.2041, 9.6387, 9.2797, 8.9368, 8.7709, 8.6076, 8.6146, 8.4558, 8.2994, 7.8425, 7.6979, 7.4111, 7.0018, 6.7414, 6.4899, 6.3687, 5.9019, 5.6831, 5.4718, 5.1686, 4.9767, 4.7919, 4.6137, 4.5284, 4.4446, 4.3627, 4.2822, 4.2033, 4.2059, 4.208, 4.1299, 4.1299, 10.1674, 10.1674, 11.4037, 12.7896, 14.0724, 15.4849, 17.6996, 19.8518, 21.8417, 24.487, 27.9908, 30.2081, 33.2299, 35.8599, 38.6981, 40.9758, 43.3849, 46.8245, 50.5243, 54.5265, 58.8385, 61.1188, 62.2861, 67.2201, 69.8165, 73.9212, 76.7813, 81.2954, 84.446, 89.4052, 92.8702, 96.4574, 102.1283, 104.0659, 110.1841, 114.4615, 116.6475, 121.1607, 125.8485, 130.7259, 138.4373, 146.5855, 161.3088, 174.141, 191.656, 219.2029, 236.7142, 260.6201, 281.4751, 298.2091, 322.1122, 347.8662, 383.045, 421.755, 455.5326, 482.6745, 521.3635, 563.0834, 608.2554, 657.0104, 751.9576, 828.1041, 877.4449, 929.7256, 985.244, 1044.0127, 1085.1491, 1127.9064, 1195.1847, 1242.2777, 1291.2262, 1368.2463, 1506.707, 1596.481, 1724.3402, 1826.9677, 1973.2861, 2258.0322, 2485.9166, 2684.8419, 3013.3769, 3317.2855, 3582.7378, 3944.3137, 4178.8072, 4178.8072, 62336.9735, 62336.9735, 56633.1044, 49506.8651, 42458.3638, 35717.6411, 33073.3075, 28909.8381, 24787.6514, 22513.9619, 20058.1172, 17870.1583, 16545.0928, 14739.4207, 13643.1016, 12151.1174, 11247.3165, 9825.9309, 8585.2422, 7795.8054, 6682.5559, 5839.1344, 5201.5485, 4459.0392, 3822.2836, 3277.0691, 2919.6032, 2551.907, 2273.401, 1875.816, 1703.6475, 1460.8193, 1252.6024, 1053.6071, 886.2253, 805.035, 731.2828, 677.1427, 603.4295, 517.4845, 452.3967],\n",
    "    ]\n",
    ")"
   ]
  },
  {
   "cell_type": "code",
   "execution_count": null,
   "id": "a7953f4d",
   "metadata": {
    "ExecuteTime": {
     "end_time": "2025-04-02T13:53:48.348087Z",
     "start_time": "2025-04-02T13:53:48.221369Z"
    }
   },
   "outputs": [
    {
     "data": {
      "image/png": "[encoded data removed]",
      "text/plain": [
       "<IPython.core.display.Image object>"
      ]
     },
     "execution_count": 23,
     "metadata": {},
     "output_type": "execute_result"
    }
   ],
   "source": [
    "# Create a figure that shows a hydrological Gibbs diagram with Na/Na+Cl on the x-axis and logarithmic TDS on the y-axis\n",
    "# Calculate Na/(Na+Cl) and log(TDS)\n",
    "df['Na/(Na+Cl)'] = df['Na'] / (df['Na'] + df['Cl'])\n",
    "df['cluster_label_str'] = df['cluster_label'].astype(str)\n",
    "\n",
    "# Create Gibbs diagram\n",
    "fig_gibbs = px.scatter(\n",
    "    df,\n",
    "    x='Na/(Na+Cl)',\n",
    "    y='TDS',\n",
    "    log_y=True,\n",
    "    color=df['cluster_label_str'],\n",
    "    category_orders={'cluster_label_str': list(sorted(df['cluster_label_str'].unique()))},\n",
    "    color_discrete_sequence=DEFAULT_PLOTLY_COLORS,\n",
    ")\n",
    "fig_gibbs.add_scatter(\n",
    "    x=na_ca_line[0],\n",
    "    y=na_ca_line[1],\n",
    "    mode='lines',\n",
    "    line=dict(color='black', width=2, dash='dash'),\n",
    "    name='Na/Ca line',\n",
    "    showlegend=False,\n",
    ")\n",
    "fig_gibbs.add_annotation(\n",
    "    x=0.3,\n",
    "    y=np.log10(200),\n",
    "    showarrow=False,\n",
    "    text=\"Rock weathering\",\n",
    "    font=dict(size=20, weight=\"bold\"),\n",
    ")\n",
    "fig_gibbs.add_annotation(\n",
    "    x=0.7,\n",
    "    y=np.log10(4500),\n",
    "    showarrow=False,\n",
    "    text=\"Evaporation\",\n",
    "    font=dict(size=20, weight=\"bold\"),\n",
    "    textangle=-20,\n",
    ")\n",
    "fig_gibbs.add_annotation(\n",
    "    x=0.7,\n",
    "    y=np.log10(20),\n",
    "    showarrow=False,\n",
    "    text=\"Precipitation\",\n",
    "    font=dict(size=20, weight=\"bold\"),\n",
    "    textangle=20,\n",
    ")\n",
    "\n",
    "# Update layout\n",
    "fig_gibbs.update_layout(\n",
    "    title='Gibbs Diagram',\n",
    "    xaxis_title='Na/(Na+Cl)',\n",
    "    yaxis_title='TDS',\n",
    "    # coloraxis_colorbar=dict(title='Cluster')\n",
    ")\n",
    "fig_gibbs.layout.height = 800\n",
    "fig_gibbs.layout.legend.title = 'Cluster'\n",
    "\n",
    "show_figure(fig_gibbs)\n"
   ]
  },
  {
   "cell_type": "markdown",
   "id": "e1d2e8c8",
   "metadata": {},
   "source": [
    "# Piper diagram"
   ]
  },
  {
   "cell_type": "code",
   "execution_count": null,
   "id": "3ca03006",
   "metadata": {
    "ExecuteTime": {
     "end_time": "2025-04-02T13:53:48.357097Z",
     "start_time": "2025-04-02T13:53:48.349091Z"
    }
   },
   "outputs": [],
   "source": [
    "# Calculate percentages for Piper diagram\n",
    "sum_cations = df[['Ca', 'Mg', 'K', 'Na']].sum(axis=1)\n",
    "sum_anions = df[['Cl', 'SO4', 'CO3', 'HCO3']].sum(axis=1)\n",
    "\n",
    "df['Ca%'] = df['Ca'] / sum_cations\n",
    "df['Mg%'] = df['Mg'] / sum_cations\n",
    "df['K+Na%'] = (df['K'] + df['Na']) / sum_cations\n",
    "\n",
    "df['Cl%'] = df['Cl'] / sum_anions\n",
    "df['SO4%'] = df['SO4'] / sum_anions\n",
    "df['CO3+HCO3%'] = (df['CO3'] + df['HCO3']) / sum_anions\n"
   ]
  },
  {
   "cell_type": "code",
   "execution_count": null,
   "id": "8410be8d237827b2",
   "metadata": {
    "ExecuteTime": {
     "end_time": "2025-04-02T13:53:48.537299Z",
     "start_time": "2025-04-02T13:53:48.358366Z"
    }
   },
   "outputs": [
    {
     "data": {
      "image/png": "[encoded data removed]",
      "text/plain": [
       "<IPython.core.display.Image object>"
      ]
     },
     "execution_count": 25,
     "metadata": {},
     "output_type": "execute_result"
    }
   ],
   "source": [
    "# ------------------------------------------------------------\n",
    "# Figure settings\n",
    "# ------------------------------------------------------------\n",
    "\n",
    "axis_length = 10\n",
    "theta = np.pi/3\n",
    "line_color = \"black\"\n",
    "gap = 0.4\n",
    "tick_length = 0.05\n",
    "arrow_args = dict(\n",
    "    axref=\"x\",\n",
    "    ayref=\"y\",\n",
    "    showarrow=True,\n",
    "    arrowhead=2,\n",
    "    arrowcolor=line_color,\n",
    ")\n",
    "arrow_txt_args = dict(\n",
    "    showarrow=False,\n",
    ")\n",
    "outer_axis_args = dict(\n",
    "    mode=\"lines\",\n",
    "    line=dict(color=line_color, width=2),\n",
    "    showlegend=False,\n",
    ")\n",
    "inner_axis_args = dict(\n",
    "    mode=\"lines\",\n",
    "    line=dict(color=line_color, width=1),\n",
    "    showlegend=False,\n",
    ")\n",
    "\n",
    "diamond_u = axis_length * np.array([np.cos(-theta), np.sin(-theta)])\n",
    "diamond_v = axis_length * np.array([np.cos(theta), np.sin(theta)])\n",
    "\n",
    "lowerleft_v = diamond_v.copy()\n",
    "lowerleft_u = np.array([axis_length, 0])\n",
    "lowerleft_w = -diamond_u\n",
    "lowerleft_o = np.zeros_like(lowerleft_v)\n",
    "\n",
    "diamond_o = lowerleft_o + (1 + gap) * diamond_v\n",
    "lowerright_o = lowerleft_o + (2 + gap)  * diamond_v + (2 + gap) * diamond_u\n",
    "lowerright_u = -lowerleft_u\n",
    "lowerright_v = -diamond_u\n",
    "lowerright_w = lowerleft_v\n",
    "\n",
    "ticks = np.arange(1, 10) * 0.1\n",
    "\n",
    "# ------------------------------------------------------------\n",
    "# Setup data and initial plot\n",
    "# ------------------------------------------------------------\n",
    "\n",
    "# Lower left data\n",
    "data_lowerleft = (\n",
    "    lowerleft_o[:, np.newaxis]\n",
    "    + (1 - (df['Ca%'])).values * lowerleft_u[:, np.newaxis]\n",
    "    + df['Mg%'].values * lowerleft_w[:, np.newaxis]\n",
    ").T\n",
    "\n",
    "# Lower right data\n",
    "data_lowerright = (\n",
    "    lowerright_o[:, np.newaxis]\n",
    "    + (1 - (df['Cl%'])).values * lowerright_u[:, np.newaxis]\n",
    "    + df['SO4%'].values * lowerright_w[:, np.newaxis]\n",
    ").T\n",
    "\n",
    "# Diamond data\n",
    "data_diamond = (\n",
    "    diamond_o[:, np.newaxis]\n",
    "    + df['K+Na%'].values * diamond_u[:, np.newaxis]\n",
    "    + (df['SO4%'] + df['Cl%']).values * diamond_v[:, np.newaxis]\n",
    ").T\n",
    "\n",
    "xy_data = np.vstack((data_lowerleft, data_lowerright, data_diamond))\n",
    "plotting_df = pd.DataFrame(xy_data, columns=['x', 'y'])\n",
    "plotting_df['cluster'] = np.hstack([df['cluster_label'].values.tolist()] * 3).astype(str)\n",
    "color_map = {str(i): c for i, c in enumerate(DEFAULT_PLOTLY_COLORS)}\n",
    "fig_piper = px.scatter(plotting_df, x=\"x\", y=\"y\", color=\"cluster\", color_discrete_map=color_map)\n",
    "\n",
    "# ------------------------------------------------------------\n",
    "# Lower-left triangle\n",
    "# ------------------------------------------------------------\n",
    "\n",
    "ll_axis = np.array([\n",
    "    lowerleft_o,\n",
    "    lowerleft_o + lowerleft_v,\n",
    "    lowerleft_o + lowerleft_u,\n",
    "    lowerleft_o,\n",
    "])\n",
    "ll_tri = np.array([\n",
    "    lowerleft_o + 0.5 * lowerleft_u,\n",
    "    lowerleft_o + 0.5 * lowerleft_u + 0.5 * lowerleft_v,\n",
    "    lowerleft_o + 0.5 * lowerleft_v,\n",
    "    lowerleft_o + 0.5 * lowerleft_u,\n",
    "])\n",
    "# Ticks, left side\n",
    "ll_tick_l0 = lowerleft_o + lowerleft_v * ticks[:, np.newaxis]\n",
    "ll_tick_l1 = ll_tick_l0 + tick_length * lowerleft_u\n",
    "ll_tick_left = np.full((ll_tick_l0.shape[0] * 3, 2), fill_value=np.nan)\n",
    "ll_tick_left[::3] = ll_tick_l0\n",
    "ll_tick_left[1::3] = ll_tick_l1\n",
    "# Ticks, bottom\n",
    "ll_tick_b0 = lowerleft_o + lowerleft_u * ticks[:, np.newaxis]\n",
    "ll_tick_b1 = ll_tick_b0 + tick_length * lowerleft_w\n",
    "ll_tick_bot = np.full((ll_tick_b0.shape[0] * 3, 2), fill_value=np.nan)\n",
    "ll_tick_bot[::3] = ll_tick_b0\n",
    "ll_tick_bot[1::3] = ll_tick_b1\n",
    "# Ticks, right side\n",
    "ll_tick_r0 = lowerleft_o + lowerleft_u + lowerleft_w * ticks[:, np.newaxis]\n",
    "ll_tick_r1 = ll_tick_r0 - tick_length * lowerleft_v\n",
    "ll_tick_right = np.full((ll_tick_r0.shape[0] * 3, 2), fill_value=np.nan)\n",
    "ll_tick_right[::3] = ll_tick_r0\n",
    "ll_tick_right[1::3] = ll_tick_r1\n",
    "# All ticks merged\n",
    "ll_all_ticks = np.vstack((ll_tick_left, ll_tick_bot, ll_tick_right))\n",
    "\n",
    "fig_piper.add_scatter(\n",
    "    x=ll_axis[:, 0],\n",
    "    y=ll_axis[:, 1],\n",
    "    **outer_axis_args,\n",
    ")\n",
    "fig_piper.add_scatter(\n",
    "    x=ll_tri[:, 0],\n",
    "    y=ll_tri[:, 1],\n",
    "    **inner_axis_args,\n",
    ")\n",
    "fig_piper.add_scatter(\n",
    "    x=ll_all_ticks[:, 0],\n",
    "    y=ll_all_ticks[:, 1],\n",
    "    **inner_axis_args,\n",
    ")\n",
    "lowerleft_arrows = np.array([\n",
    "    # Mg\n",
    "    lowerleft_o - 0.1 * lowerleft_u + 0.3 * lowerleft_v,\n",
    "    lowerleft_o - 0.1 * lowerleft_u + 0.7 * lowerleft_v,\n",
    "    # Ca\n",
    "    lowerleft_o + 0.8 * lowerleft_u - 0.1 * lowerleft_v,\n",
    "    lowerleft_o + 0.3 * lowerleft_u - 0.1 * lowerleft_v,\n",
    "])\n",
    "fig_piper.add_annotation(\n",
    "    x=lowerleft_arrows[1, 0],\n",
    "    y=lowerleft_arrows[1, 1],\n",
    "    ax=lowerleft_arrows[0, 0],\n",
    "    ay=lowerleft_arrows[0, 1],\n",
    "    **arrow_args,\n",
    ")\n",
    "fig_piper.add_annotation(\n",
    "    x=lowerleft_arrows[3, 0],\n",
    "    y=lowerleft_arrows[3, 1],\n",
    "    ax=lowerleft_arrows[2, 0],\n",
    "    ay=lowerleft_arrows[2, 1],\n",
    "    **arrow_args,\n",
    ")\n",
    "fig_piper.add_annotation(\n",
    "    x=lowerleft_o[0] + 0.5 * lowerleft_u[0],\n",
    "    y=lowerleft_o[1] - 0.1 * axis_length,\n",
    "    text=\"Ca\",\n",
    "    showarrow=False,\n",
    ")\n",
    "arrow_text_mg = lowerleft_o - 0.2 * lowerleft_u + 0.7 * lowerleft_v \n",
    "fig_piper.add_annotation(\n",
    "    x=arrow_text_mg[0],\n",
    "    y=arrow_text_mg[1],\n",
    "    text=\"Mg\",\n",
    "    textangle=-60,\n",
    "    showarrow=False,\n",
    ")\n",
    "\n",
    "# ------------------------------------------------------------\n",
    "# Lower right triangle\n",
    "# ------------------------------------------------------------\n",
    "\n",
    "lr_axis = np.array([\n",
    "    lowerright_o,\n",
    "    lowerright_o + lowerright_v,\n",
    "    lowerright_o + lowerright_u,\n",
    "    lowerright_o,\n",
    "])\n",
    "lr_tri = np.array([\n",
    "    lowerright_o + 0.5 * lowerright_u,\n",
    "    lowerright_o + 0.5 * lowerright_u + 0.5 * lowerright_v,\n",
    "    lowerright_o + 0.5 * lowerright_v,\n",
    "    lowerright_o + 0.5 * lowerright_u,\n",
    "])\n",
    "\n",
    "# Ticks, right side\n",
    "lr_tick_l0 = lowerright_o + lowerright_v * ticks[:, np.newaxis]\n",
    "lr_tick_l1 = lr_tick_l0 + tick_length * lowerright_u\n",
    "lr_tick_left = np.full((lr_tick_l0.shape[0] * 3, 2), fill_value=np.nan)\n",
    "lr_tick_left[::3] = lr_tick_l0\n",
    "lr_tick_left[1::3] = lr_tick_l1\n",
    "# Ticks, bottom\n",
    "lr_tick_b0 = lowerright_o + lowerright_u * ticks[:, np.newaxis]\n",
    "lr_tick_b1 = lr_tick_b0 + tick_length * lowerright_w\n",
    "lr_tick_bot = np.full((lr_tick_b0.shape[0] * 3, 2), fill_value=np.nan)\n",
    "lr_tick_bot[::3] = lr_tick_b0\n",
    "lr_tick_bot[1::3] = lr_tick_b1\n",
    "# Ticks, left side\n",
    "lr_tick_r0 = lowerright_o + lowerright_u + lowerright_w * ticks[:, np.newaxis]\n",
    "lr_tick_r1 = lr_tick_r0 - tick_length * lowerright_v\n",
    "lr_tick_right = np.full((lr_tick_r0.shape[0] * 3, 2), fill_value=np.nan)\n",
    "lr_tick_right[::3] = lr_tick_r0\n",
    "lr_tick_right[1::3] = lr_tick_r1\n",
    "# All ticks merged\n",
    "lr_all_ticks = np.vstack((lr_tick_left, lr_tick_bot, lr_tick_right))\n",
    "\n",
    "fig_piper.add_scatter(\n",
    "    x=lr_all_ticks[:, 0],\n",
    "    y=lr_all_ticks[:, 1],\n",
    "    **inner_axis_args,\n",
    ")\n",
    "fig_piper.add_scatter(\n",
    "    x=lr_axis[:, 0],\n",
    "    y=lr_axis[:, 1],\n",
    "    **outer_axis_args,\n",
    ")\n",
    "fig_piper.add_scatter(\n",
    "    x=lr_tri[:, 0],\n",
    "    y=lr_tri[:, 1],\n",
    "    **inner_axis_args,\n",
    ")\n",
    "\n",
    "lowerright_arrows = np.array([\n",
    "    # Mg\n",
    "    lowerright_o - 0.1 * lowerright_u + 0.3 * lowerright_v,\n",
    "    lowerright_o - 0.1 * lowerright_u + 0.7 * lowerright_v,\n",
    "    # Ca\n",
    "    lowerright_o + 0.8 * lowerright_u - 0.1 * lowerright_v,\n",
    "    lowerright_o + 0.3 * lowerright_u - 0.1 * lowerright_v,\n",
    "])\n",
    "\n",
    "fig_piper.add_annotation(\n",
    "    x=lowerright_arrows[1, 0],\n",
    "    y=lowerright_arrows[1, 1],\n",
    "    ax=lowerright_arrows[0, 0],\n",
    "    ay=lowerright_arrows[0, 1],\n",
    "    **arrow_args,\n",
    ")\n",
    "fig_piper.add_annotation(\n",
    "    x=lowerright_arrows[3, 0],\n",
    "    y=lowerright_arrows[3, 1],\n",
    "    ax=lowerright_arrows[2, 0],\n",
    "    ay=lowerright_arrows[2, 1],\n",
    "    **arrow_args,\n",
    ")\n",
    "fig_piper.add_annotation(\n",
    "    x=lowerright_o[0] + 0.5 * lowerright_u[0],\n",
    "    y=lowerright_o[1] - 0.1 * axis_length,\n",
    "    text=\"Cl\",\n",
    "    showarrow=False,\n",
    ")\n",
    "arrow_text_so4 = lowerright_o - 0.2 * lowerright_u + 0.7 * lowerright_v \n",
    "fig_piper.add_annotation(\n",
    "    x=arrow_text_so4[0],\n",
    "    y=arrow_text_so4[1],\n",
    "    text=\"SO4\",\n",
    "    textangle=60,\n",
    "    showarrow=False,\n",
    ")\n",
    "\n",
    "# ------------------------------------------------------------\n",
    "# Diamond axis parameters\n",
    "# ------------------------------------------------------------\n",
    "\n",
    "# Diamond axes\n",
    "axis_xy = np.array([\n",
    "    diamond_o,\n",
    "    diamond_o + diamond_v,\n",
    "    diamond_o + diamond_v + diamond_u,\n",
    "    diamond_o + diamond_u,\n",
    "    diamond_o,\n",
    "])\n",
    "fig_piper.add_scatter(\n",
    "    x=axis_xy[:, 0],\n",
    "    y=axis_xy[:, 1],\n",
    "    **outer_axis_args,\n",
    ")\n",
    "\n",
    "# Diamond Cross\n",
    "cross_xy = np.array([\n",
    "    diamond_o + 0.5 * diamond_u,\n",
    "    diamond_o + 0.5 * diamond_u + diamond_v,\n",
    "    [None, None],\n",
    "    diamond_o + 0.5 * diamond_v,\n",
    "    diamond_o + 0.5 * diamond_v + diamond_u\n",
    "])\n",
    "fig_piper.add_scatter(\n",
    "    x=cross_xy[:, 0],\n",
    "    y=cross_xy[:, 1],\n",
    "    **inner_axis_args,    \n",
    ")\n",
    "\n",
    "# Diamond ticks\n",
    "nw_ticks0 = diamond_o + diamond_v * ticks[:, np.newaxis]\n",
    "sw_ticks0 = diamond_o + diamond_u * ticks[:, np.newaxis]\n",
    "ne_ticks0 = diamond_o + diamond_v + diamond_u * ticks[:, np.newaxis]\n",
    "se_ticks0 = diamond_o + diamond_u + diamond_v * ticks[:, np.newaxis]\n",
    "nw_ticks1 = nw_ticks0 + diamond_u * tick_length\n",
    "sw_ticks1 = sw_ticks0 + diamond_v * tick_length\n",
    "ne_ticks1 = ne_ticks0 - diamond_v * tick_length\n",
    "se_ticks1 = se_ticks0 - diamond_u * tick_length\n",
    "nw_ticks = np.full((nw_ticks0.shape[0] * 3, 2), fill_value=np.nan)\n",
    "nw_ticks[::3] = nw_ticks0\n",
    "nw_ticks[1::3] = nw_ticks1\n",
    "sw_ticks = np.full((sw_ticks0.shape[0] * 3, 2), fill_value=np.nan)\n",
    "sw_ticks[::3] = sw_ticks0\n",
    "sw_ticks[1::3] = sw_ticks1\n",
    "ne_ticks = np.full((ne_ticks0.shape[0] * 3, 2), fill_value=np.nan)\n",
    "ne_ticks[::3] = ne_ticks0\n",
    "ne_ticks[1::3] = ne_ticks1\n",
    "se_ticks = np.full((se_ticks0.shape[0] * 3, 2), fill_value=np.nan)\n",
    "se_ticks[::3] = se_ticks0\n",
    "se_ticks[1::3] = se_ticks1\n",
    "diamond_ticks = np.vstack((nw_ticks, se_ticks, ne_ticks, sw_ticks))\n",
    "fig_piper.add_scatter(\n",
    "    x=diamond_ticks[:, 0],\n",
    "    y=diamond_ticks[:, 1],\n",
    "    **inner_axis_args,\n",
    ")\n",
    "\n",
    "# Diamond roman text\n",
    "romans_xy = np.array([\n",
    "    diamond_o + diamond_v - np.array([0, 0.2 * axis_length]),\n",
    "    diamond_o + np.array([0.75 * axis_length, 0]),\n",
    "    diamond_o + diamond_u + np.array([0, 0.2 * axis_length]),\n",
    "    diamond_o + np.array([0.25 * axis_length, 0]),\n",
    "])\n",
    "fig_piper.add_scatter(\n",
    "    x=romans_xy[:, 0],\n",
    "    y=romans_xy[:, 1],\n",
    "    text=[\"(I)\", \"(II)\", \"(III)\", \"(IV)\"],\n",
    "    mode=\"text\",\n",
    "    showlegend=False,\n",
    ")\n",
    "\n",
    "# Diamond arrows and text\n",
    "arrows = np.array([\n",
    "    # SO4 + Cl\n",
    "    diamond_o + -0.1 * diamond_u + 0.1 * diamond_v,\n",
    "    diamond_o + -0.1 * diamond_u + 0.8 * diamond_v,\n",
    "    # Ca + Mg\n",
    "    diamond_o + 1.1 * diamond_v + 0.8 * diamond_u,\n",
    "    diamond_o + 1.1 * diamond_v + 0.2 * diamond_u,\n",
    "    # Na + K\n",
    "    diamond_o + -0.1 * diamond_v + 0.2 * diamond_u,\n",
    "    diamond_o + -0.1 * diamond_v + 0.8 * diamond_u,\n",
    "    # HCO3 + CO3\n",
    "    diamond_o + 1.1 * diamond_u + 0.8 * diamond_v,\n",
    "    diamond_o + 1.1 * diamond_u + 0.2 * diamond_v,\n",
    "])\n",
    "for i in range(0, 8, 2):\n",
    "    fig_piper.add_annotation(\n",
    "        x=arrows[i + 1, 0],\n",
    "        y=arrows[i + 1, 1],\n",
    "        ax=arrows[i, 0],\n",
    "        ay=arrows[i, 1],\n",
    "        **arrow_args\n",
    "    )\n",
    "    \n",
    "arrow_txt1 = diamond_o + -0.2 * diamond_u + 0.5 * diamond_v\n",
    "fig_piper.add_annotation(\n",
    "    x=arrow_txt1[0],\n",
    "    y=arrow_txt1[1],\n",
    "    text=\"SO4 + Cl\",\n",
    "    textangle=-60,\n",
    "    **arrow_txt_args\n",
    ")\n",
    "arrow_txt2 = diamond_o + 0.5 * diamond_u + 1.2 * diamond_v\n",
    "fig_piper.add_annotation(\n",
    "    x=arrow_txt2[0],\n",
    "    y=arrow_txt2[1],\n",
    "    text=\"Ca + Mg\",\n",
    "    textangle=60,\n",
    "    **arrow_txt_args\n",
    ")\n",
    "arrow_txt3 = diamond_o + 0.5 * diamond_u - 0.2 * diamond_v\n",
    "fig_piper.add_annotation(\n",
    "    x=arrow_txt3[0],\n",
    "    y=arrow_txt3[1],\n",
    "    text=\"Na + K\",\n",
    "    textangle=60,\n",
    "    **arrow_txt_args\n",
    ")\n",
    "arrow_txt4 = diamond_o + 1.2 * diamond_u + 0.5 * diamond_v\n",
    "fig_piper.add_annotation(\n",
    "    x=arrow_txt4[0],\n",
    "    y=arrow_txt4[1],\n",
    "    text=\"Na + K\",\n",
    "    textangle=-60,\n",
    "    **arrow_txt_args\n",
    ")\n",
    "\n",
    "# ------------------------------------------------------------\n",
    "# Final layout adjustments\n",
    "# ------------------------------------------------------------\n",
    "fig_piper.layout.yaxis.scaleanchor = 'x'\n",
    "fig_piper.layout.xaxis.showgrid = False\n",
    "fig_piper.layout.xaxis.zeroline = False\n",
    "fig_piper.layout.xaxis.showticklabels = False\n",
    "fig_piper.layout.xaxis.title = None\n",
    "fig_piper.layout.yaxis.showgrid = False\n",
    "fig_piper.layout.yaxis.zeroline = False\n",
    "fig_piper.layout.yaxis.showticklabels = False\n",
    "fig_piper.layout.yaxis.title = None\n",
    "\n",
    "show_figure(fig_piper)\n"
   ]
  },
  {
   "cell_type": "markdown",
   "id": "3e389a4807c960d5",
   "metadata": {},
   "source": [
    "# TODO\n",
    "\n",
    "- ✅ Remove test-train split. Can re-introduce later if we consider it relevant\n",
    "- ✅ Cluster count analysis. Refer to other sources/papers for common techniques. Include relevant plots\n",
    "- ⬜ Clustering on HCA results or log-standardized input?\n",
    "- ✅ Remove conversion to meq/L (data should already be converted)\n",
    "- ✅ Hexagonal cluster plot with correct colors\n",
    "- ⬜ Piper diagram:\n",
    "  - ✅ Sync colors in piper diagram with dendrogram\n",
    "  - ✅ Axis ticks\n",
    "  - ⬜ Legend with roman numerals and \"water type\"\n",
    "  - ⬜ Sort legend by cluster\n",
    "- ⬜ Gibbs diagram:\n",
    "  - ✅ Phase lines\n",
    "  - ✅ Text\n",
    "- ⬜ NBCLust - R package for clustering. Anything similar in Python? Possible to invoke?\n",
    "- ⬜ Automatic color_threshold in dendrogram plot\n",
    "- ⬜ Decimal formatting on color bars\n",
    "- ⬜ Write images to file"
   ]
  }
 ],
 "metadata": {
  "kernelspec": {
   "display_name": "som",
   "language": "python",
   "name": "python3"
  },
  "language_info": {
   "codemirror_mode": {
    "name": "ipython",
    "version": 3
   },
   "file_extension": ".py",
   "mimetype": "text/x-python",
   "name": "python",
   "nbconvert_exporter": "python",
   "pygments_lexer": "ipython3",
   "version": "3.12.7"
  }
 },
 "nbformat": 4,
 "nbformat_minor": 5
}
