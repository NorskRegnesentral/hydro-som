{
 "cells": [
  {
   "cell_type": "code",
   "execution_count": 1,
   "id": "initial_id",
   "metadata": {
    "ExecuteTime": {
     "end_time": "2024-11-13T13:53:47.718951Z",
     "start_time": "2024-11-13T13:53:46.612679Z"
    },
    "collapsed": true
   },
   "outputs": [],
   "source": [
    "import itertools\n",
    "from pathlib import Path\n",
    "\n",
    "import minisom\n",
    "import numpy as np\n",
    "import pandas as pd\n",
    "import plotly.express as px\n",
    "import plotly.graph_objects as go\n",
    "import plotly.io as pio\n",
    "import shapely\n",
    "import matplotlib.pyplot as plt\n",
    "import matplotlib as mpl\n",
    "\n",
    "from pathlib import Path\n",
    "Path.cwd()\n",
    "\n",
    "\n",
    "from plotly.colors import sample_colorscale, make_colorscale, DEFAULT_PLOTLY_COLORS\n",
    "from plotly.subplots import make_subplots\n",
    "from plotly.figure_factory import create_dendrogram\n",
    "\n",
    "from scipy.spatial.distance import sqeuclidean\n",
    "from scipy.cluster import hierarchy\n",
    "from scipy.cluster.hierarchy import linkage, dendrogram\n",
    "from sklearn.metrics import davies_bouldin_score, silhouette_score\n",
    "from sklearn.decomposition import PCA\n",
    "from IPython.display import IFrame, Image, HTML, display_html\n",
    "#%matplotlib"
   ]
  },
  {
   "cell_type": "code",
   "execution_count": null,
   "id": "a9de97bb",
   "metadata": {},
   "outputs": [],
   "source": []
  },
  {
   "cell_type": "markdown",
   "id": "697341e4bf46a730",
   "metadata": {
    "ExecuteTime": {
     "end_time": "2024-11-13T13:53:47.740377Z",
     "start_time": "2024-11-13T13:53:47.718951Z"
    }
   },
   "source": [
    "# Parameters"
   ]
  },
  {
   "cell_type": "code",
   "execution_count": 2,
   "id": "224dcff8",
   "metadata": {},
   "outputs": [],
   "source": [
    "data_path = Path.cwd().parent / 'data.csv'\n",
    "input_columns = ['pH', 'Ca', 'Mg', 'Na', 'K', 'HCO3', 'Cl', 'SO4']\n",
    "\n",
    "som_nx = None  # Set to None to determine these automatically (PCA)\n",
    "som_ny = None\n",
    "som_sigma =  1.7\n",
    "som_learning_rate = 0.5\n",
    "som_activation_distance = 'euclidean'\n",
    "som_topology = 'hexagonal'\n",
    "som_neighborhood_function = 'gaussian'"
   ]
  },
  {
   "cell_type": "code",
   "execution_count": 3,
   "id": "d5b6f92c",
   "metadata": {},
   "outputs": [],
   "source": [
    "som_random_seed = 10\n",
    "som_max_iterations = 5000\n",
    "\n",
    "\n",
    "#run_nbclust = True\n",
    "max_clusters = 10\n",
    "number_of_clusters = 4  # Set to None to pick the optimal number automatically\n",
    "\n",
    "# Visualization\n",
    "#features_colorscale = 'spectral'\n",
    "#features_colorscale = 'RdBu'\n",
    "features_colorscale = 'RdYlBu'\n",
    "pio.templates.default = 'plotly_white'\n",
    "plotly_interactive = True\n",
    "\n",
    "# Fixed colorscales\n",
    "# force_feature_colorscale_to_01 = True\n",
    "# specialized_colorscales = {\n",
    "#      \"sil_w2\": \"spectral\",\n",
    "#      \"cat_exch1\": \"spectral\"\n",
    "#     # \"cat_exch1\": make_colorscale(\n",
    "#     #     [\"rgb(255, 0, 0)\", \"rgb(0, 255, 0)\", \"rgb(0, 0, 255)\"],\n",
    "#     #     [               0,              0.3,              1.0],\n",
    "# }"
   ]
  },
  {
   "cell_type": "code",
   "execution_count": 4,
   "id": "eda4af8b0a6af2f2",
   "metadata": {
    "ExecuteTime": {
     "end_time": "2024-11-13T13:53:47.744239Z",
     "start_time": "2024-11-13T13:53:47.740377Z"
    }
   },
   "outputs": [],
   "source": [
    "# Convenience function to allow changing between interactive and static images\n",
    "# Needed to show figures on GitHub notebook preview\n",
    "def show_figure(fig: go.Figure):\n",
    "    global fig_count\n",
    "    if plotly_interactive:\n",
    "        return fig\n",
    "    else:\n",
    "        return Image(data=fig.to_image(format='png', scale=2))"
   ]
  },
  {
   "cell_type": "code",
   "execution_count": 5,
   "id": "9de95990402008a9",
   "metadata": {
    "ExecuteTime": {
     "end_time": "2024-11-13T13:53:47.781251Z",
     "start_time": "2024-11-13T13:53:47.744239Z"
    }
   },
   "outputs": [],
   "source": [
    "# Read input data\n",
    "df = pd.read_csv(data_path)\n",
    "\n",
    "#df.describe()\n",
    "#print(f\"Input data shape:   {df.shape}\")"
   ]
  },
  {
   "cell_type": "code",
   "execution_count": 6,
   "id": "72481566",
   "metadata": {},
   "outputs": [],
   "source": [
    "#df"
   ]
  },
  {
   "cell_type": "code",
   "execution_count": 7,
   "id": "f13e17525749ba42",
   "metadata": {
    "ExecuteTime": {
     "end_time": "2024-11-13T13:53:47.916316Z",
     "start_time": "2024-11-13T13:53:47.835935Z"
    }
   },
   "outputs": [],
   "source": [
    "# Apply data transformation\n",
    "\n",
    "# Normalization:\n",
    "def apply_normalization(arr):\n",
    "    data_min = arr.min(axis=0)\n",
    "    data_range = arr.max(axis=0) - data_min\n",
    "\n",
    "    return (arr - data_min) / data_range\n",
    "\n",
    "    \n",
    "# Transforms data into a range [-1, 1].\n",
    "    #return ((2*(arr - data_min))/ data_range)-1\n",
    "\n",
    "\n",
    "# # Standardization\n",
    "# def apply_standardization(arr):\n",
    "#     data_mean = arr.mean(axis=0)\n",
    "#     data_std = arr.std(axis=0)\n",
    "#     return (arr - data_mean) / data_std\n",
    "\n",
    "# # Sigmoid\n",
    "# def apply_sigmoid(arr):\n",
    "#     return 1 / (1 + np.exp(-arr))\n",
    "\n",
    "\n",
    "input_array = df[input_columns].values\n",
    "\n",
    "## Uncomment the appropriate transform\n",
    "transformed_data = apply_normalization(input_array)\n",
    "# transformed_data = apply_standardization(input_array)\n",
    "#transformed_data = apply_sigmoid(input_array)\n",
    "\n",
    "#print(f\"Transformed data shape: {transformed_data}\")\n"
   ]
  },
  {
   "cell_type": "markdown",
   "id": "11c5b5e8",
   "metadata": {},
   "source": [
    "# SOM model"
   ]
  },
  {
   "cell_type": "code",
   "execution_count": 8,
   "id": "3b1ce069",
   "metadata": {},
   "outputs": [
    {
     "name": "stdout",
     "output_type": "stream",
     "text": [
      "Recommended number of nodes: 50\n",
      "Using PCA to determine SOM dimensions: 9 x 6 (PCA ratio: 1.68)\n"
     ]
    }
   ],
   "source": [
    "# Derive SOM dimensions\n",
    "if som_nx is None or som_ny is None:\n",
    "    recommended_nodes = 5 * np.sqrt(len(df))\n",
    "    print(f\"Recommended number of nodes: {recommended_nodes:.0f}\")\n",
    "   \n",
    "    # \"Naive\" approach: square root of the number of samples (with round-off)\n",
    "    # final_nx = np.round(np.sqrt(som_m)).astype(int)\n",
    "    # final_ny = np.round(som_m / som_nx).astype(int)\n",
    "\n",
    "    # Perform PCA analysis\n",
    "    pca = PCA(n_components=2)\n",
    "    pca.fit(transformed_data)\n",
    "\n",
    "    # Calculate the ratio between the first two principal components\n",
    "    pca_ratio = pca.explained_variance_[0] / pca.explained_variance_[1]\n",
    "    final_nx = np.round(np.sqrt(recommended_nodes * pca_ratio)).astype(int)\n",
    "    final_ny = np.round(recommended_nodes / final_nx).astype(int)\n",
    "    print(f\"Using PCA to determine SOM dimensions: {final_nx} x {final_ny} (PCA ratio: {pca_ratio:.2f})\")\n",
    "else:\n",
    "    final_nx, final_ny = som_nx, som_ny\n",
    "    print(f\"Using fixed SOM dimensions: {final_nx} x {final_ny}\")"
   ]
  },
  {
   "cell_type": "code",
   "execution_count": 9,
   "id": "659c84be",
   "metadata": {},
   "outputs": [],
   "source": [
    "\n",
    "# Set up model\n",
    "som = minisom.MiniSom(\n",
    "    final_nx,\n",
    "    final_ny,\n",
    "    len(input_columns),\n",
    "    sigma=som_sigma,\n",
    "    learning_rate=som_learning_rate,\n",
    "    activation_distance=som_activation_distance,\n",
    "    topology=som_topology,\n",
    "    neighborhood_function=som_neighborhood_function,\n",
    "    random_seed=som_random_seed,\n",
    ")\n",
    "\n",
    "# Train\n",
    "som.train(transformed_data, som_max_iterations)\n",
    "\n",
    "# Extract data\n",
    "xx, yy = som.get_euclidean_coordinates()\n",
    "umatrix = som.distance_map()\n",
    "weights = som.get_weights()\n",
    "win_map = som.win_map(transformed_data, return_indices = True)"
   ]
  },
  {
   "cell_type": "code",
   "execution_count": 10,
   "id": "38879de7",
   "metadata": {},
   "outputs": [
    {
     "name": "stdout",
     "output_type": "stream",
     "text": [
      "Quantization error: 0.10572088955832633\n",
      "Topographic error : 0.039215686274509776\n"
     ]
    },
    {
     "data": {
      "image/png": "[encoded data removed]",
      "text/plain": [
       "<Figure size 640x480 with 1 Axes>"
      ]
     },
     "metadata": {},
     "output_type": "display_data"
    },
    {
     "data": {
      "image/png": "[encoded data removed]",
      "text/plain": [
       "<Figure size 640x480 with 1 Axes>"
      ]
     },
     "metadata": {},
     "output_type": "display_data"
    }
   ],
   "source": [
    "# Print quantization and topographic errors for the trained model\n",
    "print(f\"Quantization error: {som.quantization_error(transformed_data)}\")\n",
    "print(f\"Topographic error : {som.topographic_error(transformed_data)}\")\n",
    "\n",
    "\n",
    "# Range of SOM grid sizes to test\n",
    "grid_sizes = range(2, 14)\n",
    "\n",
    "# Store QE and TE for each grid size\n",
    "qe_values = []\n",
    "te_values = []\n",
    "\n",
    "for size in grid_sizes:\n",
    "    # Initialize and train SOM\n",
    "    som = minisom.MiniSom(size, size, transformed_data.shape[1], som_sigma, som_learning_rate)\n",
    "    som.random_weights_init(transformed_data)\n",
    "    som.train_random(transformed_data, som_max_iterations)\n",
    "\n",
    "    # Calculate and store QE\n",
    "    qe = som.quantization_error(transformed_data)\n",
    "    qe_values.append(qe)\n",
    "\n",
    "     # Calculate and store TE\n",
    "    te = som.topographic_error(transformed_data)\n",
    "    te_values.append(te)\n",
    "   \n",
    "\n",
    "# Plotting QE vs SOM size\n",
    "plt.plot(grid_sizes, qe_values, marker='o')\n",
    "plt.xlabel(\"SOM Grid Size\")\n",
    "plt.ylabel(\"Quantization Error\")\n",
    "plt.title(\"Quantization Error vs. SOM Size\")\n",
    "plt.xticks(grid_sizes)\n",
    "plt.grid(True)\n",
    "plt.show()\n",
    "\n",
    "\n",
    "# Plotting TE vs SOM size\n",
    "plt.plot(grid_sizes, te_values, marker='o')\n",
    "plt.xlabel(\"SOM Grid Size\")\n",
    "plt.ylabel(\"Topographic Error\")\n",
    "plt.title(\"Topographic Error vs SOM Size\")\n",
    "plt.xticks(grid_sizes)\n",
    "plt.grid(True)\n",
    "plt.show()\n",
    "\n",
    "#Printing QE and TE values\n",
    "\n",
    "# for size in grid_sizes:\n",
    "#     print(f\"Quantization error: Som size {qe_values, size}\\n\")\n",
    "\n",
    "# for size in grid_sizes:\n",
    "#     print(f\"Topographic error: Som size {te_values, size}\\n\")\n",
    "\n",
    "# #Plot U-Matrix\n",
    "# fig = px.imshow(\n",
    "#     umatrix,\n",
    "#     color_continuous_scale=features_colorscale,\n",
    "#     title=\"U-Matrix\",\n",
    "#     labels=dict(x=\"X\", y=\"Y\"),\n",
    "    \n",
    "# )\n",
    "#     # print(\"\\n\")\n",
    "#     # print(\"\\t\\n\")\n",
    "#     # print(\"\\n\")"
   ]
  },
  {
   "cell_type": "code",
   "execution_count": 11,
   "id": "9c457a5fa8b4b90b",
   "metadata": {
    "ExecuteTime": {
     "end_time": "2024-11-13T13:53:47.935850Z",
     "start_time": "2024-11-13T13:53:47.922044Z"
    }
   },
   "outputs": [],
   "source": [
    "# Setup input to clustering and dendrogram plot\n",
    "mij = np.meshgrid(np.arange(final_nx), np.arange(final_ny), indexing='ij')\n",
    "cells_ij = np.column_stack((mij[0].flat, mij[1].flat))\n",
    "labels = [(i, j) for i, j in cells_ij]\n",
    "flat_weights = weights.reshape(-1, len(input_columns)) \n",
    "\n",
    "# Change to ward?\n",
    "links = hierarchy.linkage(flat_weights, method='ward', metric='euclidean')\n"
   ]
  },
  {
   "cell_type": "markdown",
   "id": "9ee35a95",
   "metadata": {},
   "source": [
    "# Clustering"
   ]
  },
  {
   "cell_type": "code",
   "execution_count": 12,
   "id": "2f2516da",
   "metadata": {},
   "outputs": [],
   "source": [
    "cluster_results = []\n",
    "\n",
    "for i in range(2, max_clusters):\n",
    "    flat_labels = hierarchy.fcluster(links, i, 'maxclust')\n",
    "    #dbi = davies_bouldin_score(flat_weights, flat_labels) if len(set(flat_labels)) == i else None\n",
    "    sil = silhouette_score(flat_weights, flat_labels) if len(set(flat_labels)) == i else None\n",
    "    cluster_results.append({\n",
    "        \"Number of clusters\": i,\n",
    "        #\"DBI\": dbi,\n",
    "        \"Silhouette\": sil,\n",
    "        \"labels\": flat_labels,\n",
    "    })\n",
    "\n",
    "cluster_df = pd.DataFrame.from_dict(cluster_results)\n",
    "\n",
    "\n",
    "#dbi_optimal_cluster = cluster_df.iloc[cluster_df['DBI'].idxmin()]\n",
    "sil_optimal_cluster = cluster_df.iloc[cluster_df['Silhouette'].idxmax()]\n",
    "\n",
    "if number_of_clusters is None:\n",
    "    selected_cluster = sil_optimal_cluster\n",
    "    #selected_cluster = dbi_optimal_cluster\n",
    "else:\n",
    "    selected_cluster = cluster_df[cluster_df['Number of clusters'] == number_of_clusters].iloc[0]"
   ]
  },
  {
   "cell_type": "code",
   "execution_count": 13,
   "id": "708ec664",
   "metadata": {},
   "outputs": [
    {
     "name": "stdout",
     "output_type": "stream",
     "text": [
      "Optimal number of clusters based on Silhouette : 2\n",
      "\n",
      "Number of clusters fixed to                    : 4\n"
     ]
    }
   ],
   "source": [
    "#print(f\"Optimal number of clusters based on DBI        : {dbi_optimal_cluster['Number of clusters']}\")\n",
    "print(f\"Optimal number of clusters based on Silhouette : {sil_optimal_cluster['Number of clusters']}\")\n",
    "print()\n",
    "\n",
    "if number_of_clusters is None:\n",
    "    print(f\"Number of clusters picked based on Silhouette     : {selected_cluster['Number of clusters']}\")\n",
    "    # print(f\"Number of clusters picked based on DBI         : {selected_cluster['Number of clusters']}\")\n",
    "else:\n",
    "    print(f\"Number of clusters fixed to                    : {number_of_clusters}\")"
   ]
  },
  {
   "cell_type": "code",
   "execution_count": 14,
   "id": "fdd92293",
   "metadata": {},
   "outputs": [],
   "source": [
    "# fig = px.line(cluster_df, x='Number of clusters', y='DBI', markers=True)\n",
    "# fig.layout.title = \"Davies-Bouldin Index (lower is better)\"\n",
    "# fig.layout.yaxis.spikesnap = \"hovered data\"\n",
    "# fig.layout.yaxis.spikemode = \"across\"\n",
    "# fig.layout.yaxis.spikethickness = 1\n",
    "#fig"
   ]
  },
  {
   "cell_type": "code",
   "execution_count": 15,
   "id": "7799b4d4",
   "metadata": {},
   "outputs": [
    {
     "data": {
      "application/vnd.plotly.v1+json": {
       "config": {
        "plotlyServerURL": "https://plot.ly"
       },
       "data": [
        {
         "hovertemplate": "Number of clusters=%{x}<br>Silhouette=%{y}<extra></extra>",
         "legendgroup": "",
         "line": {
          "color": "#636efa",
          "dash": "solid"
         },
         "marker": {
          "symbol": "circle"
         },
         "mode": "lines+markers",
         "name": "",
         "orientation": "v",
         "showlegend": false,
         "type": "scatter",
         "x": {
          "bdata": "AgMEBQYHCAk=",
          "dtype": "i1"
         },
         "xaxis": "x",
         "y": {
          "bdata": "zaU7S3nL3z8UzUpvfX3VPwS9ZRDqQ9Y/kq52Ilxf0j+lINvJP+LTPzx4QO6+kNU/WF/FdySu1T9ag2cTk/HUPw==",
          "dtype": "f8"
         },
         "yaxis": "y"
        }
       ],
       "layout": {
        "legend": {
         "tracegroupgap": 0
        },
        "margin": {
         "t": 60
        },
        "template": {
         "data": {
          "bar": [
           {
            "error_x": {
             "color": "#2a3f5f"
            },
            "error_y": {
             "color": "#2a3f5f"
            },
            "marker": {
             "line": {
              "color": "white",
              "width": 0.5
             },
             "pattern": {
              "fillmode": "overlay",
              "size": 10,
              "solidity": 0.2
             }
            },
            "type": "bar"
           }
          ],
          "barpolar": [
           {
            "marker": {
             "line": {
              "color": "white",
              "width": 0.5
             },
             "pattern": {
              "fillmode": "overlay",
              "size": 10,
              "solidity": 0.2
             }
            },
            "type": "barpolar"
           }
          ],
          "carpet": [
           {
            "aaxis": {
             "endlinecolor": "#2a3f5f",
             "gridcolor": "#C8D4E3",
             "linecolor": "#C8D4E3",
             "minorgridcolor": "#C8D4E3",
             "startlinecolor": "#2a3f5f"
            },
            "baxis": {
             "endlinecolor": "#2a3f5f",
             "gridcolor": "#C8D4E3",
             "linecolor": "#C8D4E3",
             "minorgridcolor": "#C8D4E3",
             "startlinecolor": "#2a3f5f"
            },
            "type": "carpet"
           }
          ],
          "choropleth": [
           {
            "colorbar": {
             "outlinewidth": 0,
             "ticks": ""
            },
            "type": "choropleth"
           }
          ],
          "contour": [
           {
            "colorbar": {
             "outlinewidth": 0,
             "ticks": ""
            },
            "colorscale": [
             [
              0,
              "#0d0887"
             ],
             [
              0.1111111111111111,
              "#46039f"
             ],
             [
              0.2222222222222222,
              "#7201a8"
             ],
             [
              0.3333333333333333,
              "#9c179e"
             ],
             [
              0.4444444444444444,
              "#bd3786"
             ],
             [
              0.5555555555555556,
              "#d8576b"
             ],
             [
              0.6666666666666666,
              "#ed7953"
             ],
             [
              0.7777777777777778,
              "#fb9f3a"
             ],
             [
              0.8888888888888888,
              "#fdca26"
             ],
             [
              1,
              "#f0f921"
             ]
            ],
            "type": "contour"
           }
          ],
          "contourcarpet": [
           {
            "colorbar": {
             "outlinewidth": 0,
             "ticks": ""
            },
            "type": "contourcarpet"
           }
          ],
          "heatmap": [
           {
            "colorbar": {
             "outlinewidth": 0,
             "ticks": ""
            },
            "colorscale": [
             [
              0,
              "#0d0887"
             ],
             [
              0.1111111111111111,
              "#46039f"
             ],
             [
              0.2222222222222222,
              "#7201a8"
             ],
             [
              0.3333333333333333,
              "#9c179e"
             ],
             [
              0.4444444444444444,
              "#bd3786"
             ],
             [
              0.5555555555555556,
              "#d8576b"
             ],
             [
              0.6666666666666666,
              "#ed7953"
             ],
             [
              0.7777777777777778,
              "#fb9f3a"
             ],
             [
              0.8888888888888888,
              "#fdca26"
             ],
             [
              1,
              "#f0f921"
             ]
            ],
            "type": "heatmap"
           }
          ],
          "histogram": [
           {
            "marker": {
             "pattern": {
              "fillmode": "overlay",
              "size": 10,
              "solidity": 0.2
             }
            },
            "type": "histogram"
           }
          ],
          "histogram2d": [
           {
            "colorbar": {
             "outlinewidth": 0,
             "ticks": ""
            },
            "colorscale": [
             [
              0,
              "#0d0887"
             ],
             [
              0.1111111111111111,
              "#46039f"
             ],
             [
              0.2222222222222222,
              "#7201a8"
             ],
             [
              0.3333333333333333,
              "#9c179e"
             ],
             [
              0.4444444444444444,
              "#bd3786"
             ],
             [
              0.5555555555555556,
              "#d8576b"
             ],
             [
              0.6666666666666666,
              "#ed7953"
             ],
             [
              0.7777777777777778,
              "#fb9f3a"
             ],
             [
              0.8888888888888888,
              "#fdca26"
             ],
             [
              1,
              "#f0f921"
             ]
            ],
            "type": "histogram2d"
           }
          ],
          "histogram2dcontour": [
           {
            "colorbar": {
             "outlinewidth": 0,
             "ticks": ""
            },
            "colorscale": [
             [
              0,
              "#0d0887"
             ],
             [
              0.1111111111111111,
              "#46039f"
             ],
             [
              0.2222222222222222,
              "#7201a8"
             ],
             [
              0.3333333333333333,
              "#9c179e"
             ],
             [
              0.4444444444444444,
              "#bd3786"
             ],
             [
              0.5555555555555556,
              "#d8576b"
             ],
             [
              0.6666666666666666,
              "#ed7953"
             ],
             [
              0.7777777777777778,
              "#fb9f3a"
             ],
             [
              0.8888888888888888,
              "#fdca26"
             ],
             [
              1,
              "#f0f921"
             ]
            ],
            "type": "histogram2dcontour"
           }
          ],
          "mesh3d": [
           {
            "colorbar": {
             "outlinewidth": 0,
             "ticks": ""
            },
            "type": "mesh3d"
           }
          ],
          "parcoords": [
           {
            "line": {
             "colorbar": {
              "outlinewidth": 0,
              "ticks": ""
             }
            },
            "type": "parcoords"
           }
          ],
          "pie": [
           {
            "automargin": true,
            "type": "pie"
           }
          ],
          "scatter": [
           {
            "fillpattern": {
             "fillmode": "overlay",
             "size": 10,
             "solidity": 0.2
            },
            "type": "scatter"
           }
          ],
          "scatter3d": [
           {
            "line": {
             "colorbar": {
              "outlinewidth": 0,
              "ticks": ""
             }
            },
            "marker": {
             "colorbar": {
              "outlinewidth": 0,
              "ticks": ""
             }
            },
            "type": "scatter3d"
           }
          ],
          "scattercarpet": [
           {
            "marker": {
             "colorbar": {
              "outlinewidth": 0,
              "ticks": ""
             }
            },
            "type": "scattercarpet"
           }
          ],
          "scattergeo": [
           {
            "marker": {
             "colorbar": {
              "outlinewidth": 0,
              "ticks": ""
             }
            },
            "type": "scattergeo"
           }
          ],
          "scattergl": [
           {
            "marker": {
             "colorbar": {
              "outlinewidth": 0,
              "ticks": ""
             }
            },
            "type": "scattergl"
           }
          ],
          "scattermap": [
           {
            "marker": {
             "colorbar": {
              "outlinewidth": 0,
              "ticks": ""
             }
            },
            "type": "scattermap"
           }
          ],
          "scattermapbox": [
           {
            "marker": {
             "colorbar": {
              "outlinewidth": 0,
              "ticks": ""
             }
            },
            "type": "scattermapbox"
           }
          ],
          "scatterpolar": [
           {
            "marker": {
             "colorbar": {
              "outlinewidth": 0,
              "ticks": ""
             }
            },
            "type": "scatterpolar"
           }
          ],
          "scatterpolargl": [
           {
            "marker": {
             "colorbar": {
              "outlinewidth": 0,
              "ticks": ""
             }
            },
            "type": "scatterpolargl"
           }
          ],
          "scatterternary": [
           {
            "marker": {
             "colorbar": {
              "outlinewidth": 0,
              "ticks": ""
             }
            },
            "type": "scatterternary"
           }
          ],
          "surface": [
           {
            "colorbar": {
             "outlinewidth": 0,
             "ticks": ""
            },
            "colorscale": [
             [
              0,
              "#0d0887"
             ],
             [
              0.1111111111111111,
              "#46039f"
             ],
             [
              0.2222222222222222,
              "#7201a8"
             ],
             [
              0.3333333333333333,
              "#9c179e"
             ],
             [
              0.4444444444444444,
              "#bd3786"
             ],
             [
              0.5555555555555556,
              "#d8576b"
             ],
             [
              0.6666666666666666,
              "#ed7953"
             ],
             [
              0.7777777777777778,
              "#fb9f3a"
             ],
             [
              0.8888888888888888,
              "#fdca26"
             ],
             [
              1,
              "#f0f921"
             ]
            ],
            "type": "surface"
           }
          ],
          "table": [
           {
            "cells": {
             "fill": {
              "color": "#EBF0F8"
             },
             "line": {
              "color": "white"
             }
            },
            "header": {
             "fill": {
              "color": "#C8D4E3"
             },
             "line": {
              "color": "white"
             }
            },
            "type": "table"
           }
          ]
         },
         "layout": {
          "annotationdefaults": {
           "arrowcolor": "#2a3f5f",
           "arrowhead": 0,
           "arrowwidth": 1
          },
          "autotypenumbers": "strict",
          "coloraxis": {
           "colorbar": {
            "outlinewidth": 0,
            "ticks": ""
           }
          },
          "colorscale": {
           "diverging": [
            [
             0,
             "#8e0152"
            ],
            [
             0.1,
             "#c51b7d"
            ],
            [
             0.2,
             "#de77ae"
            ],
            [
             0.3,
             "#f1b6da"
            ],
            [
             0.4,
             "#fde0ef"
            ],
            [
             0.5,
             "#f7f7f7"
            ],
            [
             0.6,
             "#e6f5d0"
            ],
            [
             0.7,
             "#b8e186"
            ],
            [
             0.8,
             "#7fbc41"
            ],
            [
             0.9,
             "#4d9221"
            ],
            [
             1,
             "#276419"
            ]
           ],
           "sequential": [
            [
             0,
             "#0d0887"
            ],
            [
             0.1111111111111111,
             "#46039f"
            ],
            [
             0.2222222222222222,
             "#7201a8"
            ],
            [
             0.3333333333333333,
             "#9c179e"
            ],
            [
             0.4444444444444444,
             "#bd3786"
            ],
            [
             0.5555555555555556,
             "#d8576b"
            ],
            [
             0.6666666666666666,
             "#ed7953"
            ],
            [
             0.7777777777777778,
             "#fb9f3a"
            ],
            [
             0.8888888888888888,
             "#fdca26"
            ],
            [
             1,
             "#f0f921"
            ]
           ],
           "sequentialminus": [
            [
             0,
             "#0d0887"
            ],
            [
             0.1111111111111111,
             "#46039f"
            ],
            [
             0.2222222222222222,
             "#7201a8"
            ],
            [
             0.3333333333333333,
             "#9c179e"
            ],
            [
             0.4444444444444444,
             "#bd3786"
            ],
            [
             0.5555555555555556,
             "#d8576b"
            ],
            [
             0.6666666666666666,
             "#ed7953"
            ],
            [
             0.7777777777777778,
             "#fb9f3a"
            ],
            [
             0.8888888888888888,
             "#fdca26"
            ],
            [
             1,
             "#f0f921"
            ]
           ]
          },
          "colorway": [
           "#636efa",
           "#EF553B",
           "#00cc96",
           "#ab63fa",
           "#FFA15A",
           "#19d3f3",
           "#FF6692",
           "#B6E880",
           "#FF97FF",
           "#FECB52"
          ],
          "font": {
           "color": "#2a3f5f"
          },
          "geo": {
           "bgcolor": "white",
           "lakecolor": "white",
           "landcolor": "white",
           "showlakes": true,
           "showland": true,
           "subunitcolor": "#C8D4E3"
          },
          "hoverlabel": {
           "align": "left"
          },
          "hovermode": "closest",
          "mapbox": {
           "style": "light"
          },
          "paper_bgcolor": "white",
          "plot_bgcolor": "white",
          "polar": {
           "angularaxis": {
            "gridcolor": "#EBF0F8",
            "linecolor": "#EBF0F8",
            "ticks": ""
           },
           "bgcolor": "white",
           "radialaxis": {
            "gridcolor": "#EBF0F8",
            "linecolor": "#EBF0F8",
            "ticks": ""
           }
          },
          "scene": {
           "xaxis": {
            "backgroundcolor": "white",
            "gridcolor": "#DFE8F3",
            "gridwidth": 2,
            "linecolor": "#EBF0F8",
            "showbackground": true,
            "ticks": "",
            "zerolinecolor": "#EBF0F8"
           },
           "yaxis": {
            "backgroundcolor": "white",
            "gridcolor": "#DFE8F3",
            "gridwidth": 2,
            "linecolor": "#EBF0F8",
            "showbackground": true,
            "ticks": "",
            "zerolinecolor": "#EBF0F8"
           },
           "zaxis": {
            "backgroundcolor": "white",
            "gridcolor": "#DFE8F3",
            "gridwidth": 2,
            "linecolor": "#EBF0F8",
            "showbackground": true,
            "ticks": "",
            "zerolinecolor": "#EBF0F8"
           }
          },
          "shapedefaults": {
           "line": {
            "color": "#2a3f5f"
           }
          },
          "ternary": {
           "aaxis": {
            "gridcolor": "#DFE8F3",
            "linecolor": "#A2B1C6",
            "ticks": ""
           },
           "baxis": {
            "gridcolor": "#DFE8F3",
            "linecolor": "#A2B1C6",
            "ticks": ""
           },
           "bgcolor": "white",
           "caxis": {
            "gridcolor": "#DFE8F3",
            "linecolor": "#A2B1C6",
            "ticks": ""
           }
          },
          "title": {
           "x": 0.05
          },
          "xaxis": {
           "automargin": true,
           "gridcolor": "#EBF0F8",
           "linecolor": "#EBF0F8",
           "ticks": "",
           "title": {
            "standoff": 15
           },
           "zerolinecolor": "#EBF0F8",
           "zerolinewidth": 2
          },
          "yaxis": {
           "automargin": true,
           "gridcolor": "#EBF0F8",
           "linecolor": "#EBF0F8",
           "ticks": "",
           "title": {
            "standoff": 15
           },
           "zerolinecolor": "#EBF0F8",
           "zerolinewidth": 2
          }
         }
        },
        "title": {
         "text": "Silhouette score (higher is better)"
        },
        "xaxis": {
         "anchor": "y",
         "domain": [
          0,
          1
         ],
         "title": {
          "text": "Number of clusters"
         }
        },
        "yaxis": {
         "anchor": "x",
         "domain": [
          0,
          1
         ],
         "spikemode": "across",
         "spikesnap": "hovered data",
         "spikethickness": 1,
         "title": {
          "text": "Silhouette"
         }
        }
       }
      }
     },
     "metadata": {},
     "output_type": "display_data"
    }
   ],
   "source": [
    "fig = px.line(cluster_df, x='Number of clusters', y='Silhouette', markers=True)\n",
    "fig.layout.title = \"Silhouette score (higher is better)\"\n",
    "fig.layout.yaxis.spikesnap = \"hovered data\"\n",
    "fig.layout.yaxis.spikemode = \"across\"\n",
    "fig.layout.yaxis.spikethickness = 1\n",
    "#fig\n",
    "show_figure(fig)"
   ]
  },
  {
   "cell_type": "code",
   "execution_count": 16,
   "id": "589d1cc8",
   "metadata": {},
   "outputs": [
    {
     "name": "stdout",
     "output_type": "stream",
     "text": [
      "0.8885448916408669\n",
      "0.02941176470588236\n",
      "0.4409722222222222\n",
      "-0.4375\n"
     ]
    }
   ],
   "source": [
    "a = np.array([[1, 2, 10, 11]]).T\n",
    "print(silhouette_score(a, [1, 1, 2, 2]))\n",
    "print(silhouette_score(a, [1, 1, 1, 2]))\n",
    "print(silhouette_score(a, [1, 1, 2, 3]))\n",
    "print(silhouette_score(a, [1, 2, 2, 3]))\n",
    "# print(silhouette_score(a, [1, 2, 3, 4]))"
   ]
  },
  {
   "cell_type": "code",
   "execution_count": 17,
   "id": "336b4eb5",
   "metadata": {},
   "outputs": [
    {
     "name": "stdout",
     "output_type": "stream",
     "text": [
      "Using distance threshold 1.210 to get 4 clusters\n"
     ]
    },
    {
     "name": "stderr",
     "output_type": "stream",
     "text": [
      "C:\\Users\\vegard\\AppData\\Local\\Temp\\ipykernel_43372\\775140312.py:54: UserWarning:\n",
      "\n",
      "set_ticklabels() should only be used with a fixed number of ticks, i.e. after set_ticks() or using a FixedLocator.\n",
      "\n"
     ]
    },
    {
     "data": {
      "image/png": "[encoded data removed]",
      "text/plain": [
       "<Figure size 1000x800 with 2 Axes>"
      ]
     },
     "metadata": {},
     "output_type": "display_data"
    }
   ],
   "source": [
    "final_n_clusters = number_of_clusters or int(selected_cluster['Number of clusters'])\n",
    "\n",
    "# Keep in mind that this plot is for the SOM features and NOT the original data (by design)\n",
    "\n",
    "fig = plt.figure(figsize=(10, 8))\n",
    "\n",
    "# Axis settings\n",
    "left, bottom, width, height = 0.1, 0.35, 0.8, 0.35\n",
    "ax1 = fig.add_axes([left, bottom, width, height])\n",
    "\n",
    "# Customize the colors of the nine clusters\n",
    "colors=['#BA2F29', '#E9C832', '#8EBA42', '#67ACE6']\n",
    "hierarchy.set_link_color_palette(colors)\n",
    "\n",
    "# Plot the dendrogram using the built-in scipy function\n",
    "# Ideally, we could use maxclust directly, like we do with fcluster:\n",
    "#   hierarchy.fcluster(links, i, 'maxclust')\n",
    "# However, this is not supported in dendrogram, so we need to find\n",
    "# the appropriate distance threshold to get the desired number of clusters\n",
    "max_d = 0.7\n",
    "for _ in range(20):\n",
    "    # Don't plot yet, this is just to get the number of clusters\n",
    "    dendrogram = hierarchy.dendrogram(\n",
    "        links,\n",
    "        leaf_rotation=90,\n",
    "        leaf_font_size=0,\n",
    "        color_threshold=max_d,\n",
    "        above_threshold_color='grey',\n",
    "        no_plot=True\n",
    "    )\n",
    "    d_clusts = len(set(dendrogram['leaves_color_list']))\n",
    "    if d_clusts == final_n_clusters:\n",
    "        break\n",
    "    if d_clusts < final_n_clusters:\n",
    "        max_d *= 0.8\n",
    "    if d_clusts > final_n_clusters:\n",
    "        max_d *= 1.2\n",
    "else:\n",
    "    # This can happen if e.g. two clusters are very close together\n",
    "    print(f\"Warning: Could not find a distance threshold to get {final_n_clusters} clusters\")\n",
    "\n",
    "# Main dendrogram plot\n",
    "print(f\"Using distance threshold {max_d:.3f} to get {d_clusts} clusters\")\n",
    "dendrogram = hierarchy.dendrogram(\n",
    "        links,\n",
    "        leaf_rotation=90,\n",
    "        leaf_font_size=0,\n",
    "        color_threshold=max_d,\n",
    "        above_threshold_color='grey',\n",
    ")\n",
    "hierarchy.set_link_color_palette(None)\n",
    "ax1.axhline(y=max_d, linestyle='-.', color='k', lw=1.25) \n",
    "ax1.set_ylabel('Linkage distance', fontsize=13)\n",
    "ax1.set_yticklabels([0, 5, 10, 15, 20, 25, 30, 35], fontsize=10)\n",
    "ax1.set_xticks([])\n",
    "ax1.spines['top'].set_linewidth(1.25)\n",
    "ax1.spines['bottom'].set_linewidth(1.25)\n",
    "ax1.spines['left'].set_linewidth(1.25)\n",
    "ax1.spines['right'].set_linewidth(1.25)\n",
    "# ax1.text(150, 20.5, '$Phenon$' + ' ' + '$Line$', fontsize=12)\n",
    "\n",
    "\n",
    "# The bottom figure showing the cluster names\n",
    "left, bottom, width, height = 0.1, 0.15, 0.8, 0.2\n",
    "ax2 = fig.add_axes([left, bottom, width, height])\n",
    "ax2.set_xlim(0, (len(links) + 1) * 10)\n",
    "ax2.set_ylim(0, 2)\n",
    "\n",
    "\n",
    "# Dot line to split each cluster \n",
    "unique, counts = np.unique(dendrogram['leaves_color_list'], return_counts=True)\n",
    "cluster_size_dict = dict(zip(unique, counts))\n",
    "cluster_size = [\n",
    "    cluster_size_dict[clr]\n",
    "    for clr in dict.fromkeys(dendrogram['leaves_color_list'])\n",
    "]\n",
    "boundaries = np.cumsum(cluster_size) * 10\n",
    "for i in range(final_n_clusters - 1):\n",
    "    ax2.plot([boundaries[i], boundaries[i]], [1.5, 2.0], linestyle='--', color='k', lw=1.5) \n",
    "\n",
    "ax2.set_xticks([])\n",
    "ax2.set_yticks([])\n",
    "    \n",
    "ax2.spines['top'].set_color('none')\n",
    "ax2.spines['bottom'].set_color('none')\n",
    "ax2.spines['left'].set_color('none')\n",
    "ax2.spines['right'].set_color('none')\n",
    "\n",
    "# Add cluster labels for arbitrary number of clusters\n",
    "extended_boundaries = np.concatenate([[0], boundaries])\n",
    "for i in range(final_n_clusters):\n",
    "    left_bound = extended_boundaries[i]\n",
    "    right_bound = extended_boundaries[i + 1]\n",
    "    center_x = left_bound + (right_bound - left_bound) / 2\n",
    "    ax2.text(center_x, 1.5, f'C{i+1} \\nN={cluster_size[i]}', ha='center', va='bottom', fontsize=12)\n",
    "\n",
    "plt.show()"
   ]
  },
  {
   "cell_type": "code",
   "execution_count": 18,
   "id": "406bcf3c",
   "metadata": {},
   "outputs": [],
   "source": [
    "# Optimal number of lables\n",
    "node_labels = selected_cluster['labels'].reshape(final_nx, final_ny)\n",
    "\n",
    "# For nbclust result, use this\n",
    "#node_labels = nbclust_lables.reshape(final_nx, final_ny)\n",
    "\n",
    "# Sample labels\n",
    "sample_ij = [None] * len(df)\n",
    "sample_label = [-1] * len(df)\n",
    "for key, value in win_map.items():\n",
    "    for ix in value:\n",
    "        sample_ij[ix] = key\n",
    "        sample_label[ix] = node_labels[key]\n",
    "\n",
    "df['ij'] = sample_ij\n",
    "df['cluster_label'] = sample_label\n"
   ]
  },
  {
   "cell_type": "code",
   "execution_count": 19,
   "id": "8147b87f",
   "metadata": {},
   "outputs": [
    {
     "name": "stdout",
     "output_type": "stream",
     "text": [
      "Cluster 1: 7 samples\n",
      "  sample41             sample43             sample44             sample45             sample46             sample47             sample93           \n",
      "\n",
      "Cluster 2: 2 samples\n",
      "  sample38             sample39           \n",
      "\n",
      "Cluster 3: 30 samples\n",
      "  sample1              sample2              sample3              sample4              sample5              sample6              sample7              sample8            \n",
      "  sample9              sample10             sample22             sample23             sample25             sample26             sample27             sample42           \n",
      "  sample51             sample53             sample54             sample58             sample80             sample81             sample82             sample83           \n",
      "  sample84             sample85             sample86             sample88             sample89             sample90           \n",
      "\n",
      "Cluster 4: 63 samples\n",
      "  sample11             sample12             sample13             sample14             sample15             sample16             sample17             sample18           \n",
      "  sample19             sample20             sample21             sample24             sample28             sample29             sample30             sample31           \n",
      "  sample32             sample33             sample34             sample35             sample36             sample37             sample40             sample48           \n",
      "  sample49             sample50             sample52             sample55             sample56             sample57             sample59             sample60           \n",
      "  sample61             sample62             sample63             sample64             sample65             sample66             sample67             sample68           \n",
      "  sample69             sample70             sample71             sample72             sample73             sample74             sample75             sample76           \n",
      "  sample77             sample78             sample79             sample87             sample91             sample92             sample94             sample95           \n",
      "  sample96             sample97             sample98             sample99             sample100            sample101            sample102          \n",
      "\n"
     ]
    }
   ],
   "source": [
    "n_cols = 8\n",
    "for lab, sub_df in df.groupby('cluster_label'):\n",
    "    print(f\"Cluster {lab}: {len(sub_df)} samples\")\n",
    "    for i, s in enumerate(sub_df['Sample']):\n",
    "        print(f\"  {s:19}\", end=\"\")\n",
    "        if i % n_cols == n_cols - 1:\n",
    "            print()\n",
    "    print(\"\\n\")\n",
    "    "
   ]
  },
  {
   "cell_type": "code",
   "execution_count": 20,
   "id": "5a17979e",
   "metadata": {},
   "outputs": [],
   "source": [
    "t = \"\"\n",
    "for lab, sub in df.groupby('cluster_label'):\n",
    "    t += f\"<h2>Cluster {lab}</h2>\"\n",
    "    t += \" \".join(sub[\"Sample\"])\n",
    "    t += sub.describe().to_html()\n",
    "#display_html(t, raw=True)"
   ]
  },
  {
   "cell_type": "markdown",
   "id": "38854a7521812472",
   "metadata": {},
   "source": [
    "# Plotting and Visualization"
   ]
  },
  {
   "cell_type": "code",
   "execution_count": 21,
   "id": "9992d97a",
   "metadata": {},
   "outputs": [
    {
     "data": {
      "text/plain": [
       "(9, 6, 7, 2)"
      ]
     },
     "execution_count": 21,
     "metadata": {},
     "output_type": "execute_result"
    }
   ],
   "source": [
    "# Create hexagons for visualization\n",
    "def hexagon(_xx, _yy, radius):\n",
    "    # Returns a NX x NY x 6 x 2 array of hexagon coordinates\n",
    "    hex_xy = np.zeros((_xx.shape[0], _xx.shape[1], 7, 2))\n",
    "    for i in range(7):\n",
    "        theta = np.pi / 6 + 2 * np.pi * i / 6\n",
    "        hex_xy[:, :, i, 0] = _xx + radius * np.cos(theta)\n",
    "        hex_xy[:, :, i, 1] = _yy + radius * np.sin(theta)\n",
    "    return hex_xy\n",
    "\n",
    "\n",
    "hexagons = hexagon(xx, yy, 0.5)\n",
    "hexagons.shape"
   ]
  },
  {
   "cell_type": "code",
   "execution_count": 22,
   "id": "9d9e89f1",
   "metadata": {},
   "outputs": [],
   "source": [
    "\n",
    "# Cluster polygons\n",
    "node_hexagons = hexagon(xx, yy, np.sqrt(3) / 3 + 0.001).reshape(-1, 7, 2)\n",
    "cluster_boundaries = {}\n",
    "for c in np.unique(node_labels):\n",
    "    matches = node_labels.flatten() == c\n",
    "    joined_polygon = shapely.union_all([shapely.Polygon(p) for p in node_hexagons[matches]])\n",
    "    cluster_boundaries[c] = joined_polygon"
   ]
  },
  {
   "cell_type": "code",
   "execution_count": 23,
   "id": "4bd24ab8e9024e4c",
   "metadata": {
    "ExecuteTime": {
     "end_time": "2024-11-13T13:53:51.669611Z",
     "start_time": "2024-11-13T13:53:47.948391Z"
    }
   },
   "outputs": [],
   "source": [
    "# Define functions for plotting\n",
    "def add_cluster_boundaries(fig: go.Figure, row_index, col_index):\n",
    "    for k, boundary in cluster_boundaries.items():\n",
    "        \n",
    "        if boundary.geom_type == 'Polygon':\n",
    "            bnds = [boundary]\n",
    "        elif boundary.geom_type == 'MultiPolygon':\n",
    "            bnds = list(boundary.geoms)\n",
    "        else:\n",
    "            raise NotImplementedError(boundary.geom_type)\n",
    "        \n",
    "        for poly in bnds:\n",
    "            if poly.boundary.geom_type == 'LineString':\n",
    "                crds = np.array(poly.boundary.coords)\n",
    "            else:\n",
    "                crds = np.array(poly.boundary.geoms[0].coords)\n",
    "\n",
    "            fig.add_scatter(\n",
    "                x=crds[:, 0],\n",
    "                y=crds[:, 1],\n",
    "                # fill='toself',\n",
    "                mode=\"lines\",\n",
    "                showlegend=False,\n",
    "                line=dict(color='black', width=2),\n",
    "                row=row_index,\n",
    "                col=col_index,\n",
    "            )\n",
    "\n",
    "def add_som_features(fig: go.Figure, row, col, feature_index, colorbar_settings):\n",
    "    if feature_index >= weights.shape[2]:\n",
    "        w = umatrix.copy()\n",
    "    else:\n",
    "        # The value of the weights will refer to the transformed data. If we want\n",
    "        # the original scale, we will need to apply the inverse transform here\n",
    "        w = weights[:, :, feature_index]\n",
    "\n",
    "    w_min = w.min()\n",
    "    w_max = w.max()\n",
    "    w -= w.min()\n",
    "    w /= w.max()\n",
    "    colors = np.array(\n",
    "        sample_colorscale(features_colorscale, w.flatten())\n",
    "    ).reshape(final_nx, final_ny)\n",
    "\n",
    "\n",
    "    # Add colored hexagons\n",
    "    for i in range(final_nx):\n",
    "        for j in range(final_ny):\n",
    "            text = str(sorted(df.iloc[win_map[(i, j)]].index.values.tolist()))\n",
    "\n",
    "            fig.add_scatter(\n",
    "                x=hexagons[i, j, :, 0],\n",
    "                y=hexagons[i, j, :, 1],\n",
    "                fill='toself',\n",
    "                mode='lines',\n",
    "                fillcolor=colors[i, j],\n",
    "                line=dict(color='black', width=0),\n",
    "                text=text,\n",
    "                showlegend=False,\n",
    "                hoverinfo=\"text\",\n",
    "                hoveron=\"fills\",\n",
    "                row=row,\n",
    "                col=col,\n",
    "            )\n",
    "           \n",
    "    fig.add_scatter(\n",
    "        x=[0, 0],\n",
    "        y=[0, 0],\n",
    "        showlegend=False,\n",
    "        marker=dict(color=[w_min, w_max], colorscale=features_colorscale, size=0.001, colorbar=colorbar_settings),\n",
    "        row=row,\n",
    "        col=col,\n",
    "    )\n",
    "\n",
    "\n",
    "def add_training_cells(fig: go.Figure, row, col):\n",
    "    # Add colored hexagons\n",
    "    label_colors = DEFAULT_PLOTLY_COLORS\n",
    "    for i in range(final_nx):\n",
    "        for j in range(final_ny):\n",
    "            text = \"\"\n",
    "            if len(win_map[(i, j)]) > 0:\n",
    "                samples = [str(s) for s in sorted(df.iloc[win_map[(i, j)]].index.values.tolist())]\n",
    "                if len(samples) <= 3:\n",
    "                    text = f\"{','.join(samples)}\"\n",
    "                elif len(samples) <= 6:\n",
    "                    text = f\"{','.join(samples[:3])}\" + f\"<br>{','.join(samples[3:])}\"\n",
    "                elif len(samples) <= 9:\n",
    "                    text = f\"{','.join(samples[:3])}\" + f\"<br>{','.join(samples[3:6])}\" + f\"<br>{','.join(samples[6:])}\"\n",
    "                else:\n",
    "                    text = f\"{','.join(samples[:3])}\" + f\"<br>{','.join(samples[3:-3])}\" + f\"<br>{','.join(samples[-3:])}\"\n",
    "\n",
    "            fig.add_scatter(\n",
    "                x=hexagons[i, j, :, 0],\n",
    "                y=hexagons[i, j, :, 1],\n",
    "                fill='toself',\n",
    "                mode='lines',\n",
    "                fillcolor=label_colors[node_labels[i, j]],\n",
    "                line=dict(width=0),\n",
    "                text=text,\n",
    "                showlegend=False,\n",
    "                hoverinfo=\"text\",\n",
    "                hoveron=\"fills\",\n",
    "                row=row,\n",
    "                col=col,\n",
    "            )\n",
    "\n",
    "            mid = (hexagons[i, j, 0, :] + hexagons[i, j, 3, :]) / 2\n",
    "            fig.add_scatter(\n",
    "                x=[mid[0]],\n",
    "                y=[mid[1]],\n",
    "                mode=\"text\",\n",
    "                text=text,\n",
    "                textfont=dict(color=\"black\", size=6),\n",
    "                marker=dict(color='black'),\n",
    "                showlegend=False,\n",
    "                hoverinfo=\"none\",\n",
    "                row=row,\n",
    "                col=col,\n",
    "            )\n",
    "\n",
    "\n",
    "n_plots = len(input_columns) + 2\n",
    "subplot_rows = (n_plots + 1) // 2\n",
    "subplot_columns = 2\n",
    "features_fig = make_subplots(\n",
    "    rows=subplot_rows,\n",
    "    cols=subplot_columns,\n",
    "    subplot_titles=input_columns + [\"Umatrix\"] + [\"Clusters and winning cells\"],\n",
    "    horizontal_spacing= 0.05,\n",
    "    vertical_spacing=0.05,\n",
    "\n",
    ")\n",
    "features_fig.layout.height = 50 + 250 * subplot_rows\n",
    "#features_fig.layout.width = 1200\n",
    "\n",
    "\n",
    "subplot_ix = list(\n",
    "    itertools.product(range(1, subplot_rows + 1), range(1, subplot_columns + 1))\n",
    ")[:n_plots]\n",
    "\n",
    "# Feature plots\n",
    "for i, (row_index, col_index) in enumerate(subplot_ix[:len(input_columns)+1]):\n",
    "    # add_cluster_boundaries(features_fig, row_index, col_index)\n",
    "    colorbar_settings = dict(\n",
    "        thickness = 20,\n",
    "        len = 0.5 * (1 / subplot_rows),\n",
    "        y = 1 - (row_index - 0.5) / subplot_rows,\n",
    "        x = 0.38 if col_index == 1 else 0.90\n",
    "    )\n",
    "    add_som_features(features_fig, row_index, col_index, i, colorbar_settings)\n",
    "\n",
    "add_training_cells(features_fig, subplot_ix[-1][0], subplot_ix[-1][1])\n",
    "add_cluster_boundaries(features_fig, subplot_ix[-1][0], subplot_ix[-1][1])\n",
    "\n",
    "\n",
    "for i, (row_index, col_index) in enumerate(subplot_ix):\n",
    "    sp = features_fig.get_subplot(row_index, col_index)\n",
    "    sp.yaxis.scaleanchor = sp.yaxis.anchor\n",
    "    sp.yaxis.showticklabels = False\n",
    "    sp.xaxis.showticklabels = False\n",
    "\n",
    "#show_figure(features_fig)\n"
   ]
  },
  {
   "cell_type": "markdown",
   "id": "bc9c173b",
   "metadata": {},
   "source": []
  },
  {
   "cell_type": "code",
   "execution_count": 24,
   "id": "2b124e70",
   "metadata": {},
   "outputs": [],
   "source": [
    "# save dataframe as CSV\n",
    "df.to_csv('myoutputSil.csv')\n",
    "\n",
    "df = pd.DataFrame(df)\n",
    "df['log_cluster_label'] = np.log(df['cluster_label'])\n",
    "df.to_csv('myoutputSil2.csv')\n",
    "\n"
   ]
  },
  {
   "cell_type": "code",
   "execution_count": 25,
   "id": "55028992",
   "metadata": {},
   "outputs": [
    {
     "data": {
      "application/vnd.plotly.v1+json": {
       "config": {
        "plotlyServerURL": "https://plot.ly"
       },
       "data": [
        {
         "fill": "toself",
         "fillcolor": "rgb(165, 0, 38)",
         "hoverinfo": "text",
         "hoveron": "fills",
         "line": {
          "color": "black",
          "width": 0
         },
         "mode": "lines",
         "showlegend": false,
         "text": "[5]",
         "type": "scatter",
         "x": {
          "bdata": "q0xY6Hq22z8HXBQzJqaBPKlMWOh6ttu/rExY6Hq2278Kip5MOXmavKxMWOh6tts/qkxY6Hq22z8=",
          "dtype": "f8"
         },
         "xaxis": "x",
         "y": {
          "bdata": "////////zz8AAAAAAADgPwMAAAAAANA/+///////z78AAAAAAADgv/r//////8+/AAAAAAAA0D8=",
          "dtype": "f8"
         },
         "yaxis": "y"
        },
        {
         "fill": "toself",
         "fillcolor": "rgb(254, 235, 161)",
         "hoverinfo": "text",
         "hoveron": "fills",
         "line": {
          "color": "black",
          "width": 0
         },
         "mode": "lines",
         "showlegend": false,
         "text": "[0, 4]",
         "type": "scatter",
         "x": {
          "bdata": "VM2eXhQmsb/////////fv1QmLHQ92+2/ViYsdD3b7b8BAAAAAADgv1DNnl4UJrG/WM2eXhQmsb8=",
          "dtype": "f8"
         },
         "xaxis": "x",
         "y": {
          "bdata": "VSYsdD3b8T9WJix0Pdv1P1YmLHQ92/E/rExY6Hq24z9WmbDQ9WzXP6xMWOh6tuM/ViYsdD3b8T8=",
          "dtype": "f8"
         },
         "yaxis": "y"
        },
        {
         "fill": "toself",
         "fillcolor": "rgb(146, 197, 222)",
         "hoverinfo": "text",
         "hoveron": "fills",
         "line": {
          "color": "black",
          "width": 0
         },
         "mode": "lines",
         "showlegend": false,
         "text": "[21, 22]",
         "type": "scatter",
         "x": {
          "bdata": "q0xY6Hq22z8HXBQzJqaBPKlMWOh6ttu/rExY6Hq2278Kip5MOXmavKxMWOh6tts/qkxY6Hq22z8=",
          "dtype": "f8"
         },
         "xaxis": "x",
         "y": {
          "bdata": "q0xY6Hq2/z9WJix0PdsBQKxMWOh6tv8/rExY6Hq29z+rTFjoerbzP6xMWOh6tvc/q0xY6Hq2/z8=",
          "dtype": "f8"
         },
         "yaxis": "y"
        },
        {
         "fill": "toself",
         "fillcolor": "rgb(137, 190, 218)",
         "hoverinfo": "text",
         "hoveron": "fills",
         "line": {
          "color": "black",
          "width": 0
         },
         "mode": "lines",
         "showlegend": false,
         "text": "[83, 85, 87, 89]",
         "type": "scatter",
         "x": {
          "bdata": "VM2eXhQmsb/////////fv1QmLHQ92+2/ViYsdD3b7b8BAAAAAADgv1DNnl4UJrG/WM2eXhQmsb8=",
          "dtype": "f8"
         },
         "xaxis": "x",
         "y": {
          "bdata": "gDlCLtzIBkCAOUIu3MgIQIA5Qi7cyAZAgDlCLtzIAkCAOUIu3MgAQIA5Qi7cyAJAgDlCLtzIBkA=",
          "dtype": "f8"
         },
         "yaxis": "y"
        },
        {
         "fill": "toself",
         "fillcolor": "rgb(155, 204, 226)",
         "hoverinfo": "text",
         "hoveron": "fills",
         "line": {
          "color": "black",
          "width": 0
         },
         "mode": "lines",
         "showlegend": false,
         "text": "[]",
         "type": "scatter",
         "x": {
          "bdata": "q0xY6Hq22z8HXBQzJqaBPKlMWOh6ttu/rExY6Hq2278Kip5MOXmavKxMWOh6tts/qkxY6Hq22z8=",
          "dtype": "f8"
         },
         "xaxis": "x",
         "y": {
          "bdata": "q0xY6Hq2DUCrTFjoerYPQKtMWOh6tg1Aq0xY6Hq2CUCrTFjoerYHQKtMWOh6tglAq0xY6Hq2DUA=",
          "dtype": "f8"
         },
         "yaxis": "y"
        },
        {
         "fill": "toself",
         "fillcolor": "rgb(216, 239, 246)",
         "hoverinfo": "text",
         "hoveron": "fills",
         "line": {
          "color": "black",
          "width": 0
         },
         "mode": "lines",
         "showlegend": false,
         "text": "[40, 43, 46, 92]",
         "type": "scatter",
         "x": {
          "bdata": "VM2eXhQmsb/////////fv1QmLHQ92+2/ViYsdD3b7b8BAAAAAADgv1DNnl4UJrG/WM2eXhQmsb8=",
          "dtype": "f8"
         },
         "xaxis": "x",
         "y": {
          "bdata": "6y830QxSEkDrLzfRDFITQOsvN9EMUhJA6y830QxSEEDWX26iGaQOQOsvN9EMUhBA6y830QxSEkA=",
          "dtype": "f8"
         },
         "yaxis": "y"
        },
        {
         "fill": "toself",
         "fillcolor": "rgb(254, 235, 160)",
         "hoverinfo": "text",
         "hoveron": "fills",
         "line": {
          "color": "black",
          "width": 0
         },
         "mode": "lines",
         "showlegend": false,
         "text": "[2, 3, 6]",
         "type": "scatter",
         "x": {
          "bdata": "KxMWup7t9j8AAAAAAADwP6zZ04vCJOI/qtnTi8Ik4j/////////vPysTFrqe7fY/KhMWup7t9j8=",
          "dtype": "f8"
         },
         "xaxis": "x",
         "y": {
          "bdata": "////////zz8AAAAAAADgPwMAAAAAANA/+///////z78AAAAAAADgv/r//////8+/AAAAAAAA0D8=",
          "dtype": "f8"
         },
         "yaxis": "y"
        },
        {
         "fill": "toself",
         "fillcolor": "rgb(226, 244, 244)",
         "hoverinfo": "text",
         "hoveron": "fills",
         "line": {
          "color": "black",
          "width": 0
         },
         "mode": "lines",
         "showlegend": false,
         "text": "[9, 50]",
         "type": "scatter",
         "x": {
          "bdata": "ViYsdD3b7T8AAAAAAADgP1zNnl4UJrE/UM2eXhQmsT/+///////fP1YmLHQ92+0/VSYsdD3b7T8=",
          "dtype": "f8"
         },
         "xaxis": "x",
         "y": {
          "bdata": "VSYsdD3b8T9WJix0Pdv1P1YmLHQ92/E/rExY6Hq24z9WmbDQ9WzXP6xMWOh6tuM/ViYsdD3b8T8=",
          "dtype": "f8"
         },
         "yaxis": "y"
        },
        {
         "fill": "toself",
         "fillcolor": "rgb(139, 191, 219)",
         "hoverinfo": "text",
         "hoveron": "fills",
         "line": {
          "color": "black",
          "width": 0
         },
         "mode": "lines",
         "showlegend": false,
         "text": "[24, 25, 26]",
         "type": "scatter",
         "x": {
          "bdata": "KxMWup7t9j8AAAAAAADwP6zZ04vCJOI/qtnTi8Ik4j/////////vPysTFrqe7fY/KhMWup7t9j8=",
          "dtype": "f8"
         },
         "xaxis": "x",
         "y": {
          "bdata": "q0xY6Hq2/z9WJix0PdsBQKxMWOh6tv8/rExY6Hq29z+rTFjoerbzP6xMWOh6tvc/q0xY6Hq2/z8=",
          "dtype": "f8"
         },
         "yaxis": "y"
        },
        {
         "fill": "toself",
         "fillcolor": "rgb(128, 182, 214)",
         "hoverinfo": "text",
         "hoveron": "fills",
         "line": {
          "color": "black",
          "width": 0
         },
         "mode": "lines",
         "showlegend": false,
         "text": "[53, 79, 82, 84]",
         "type": "scatter",
         "x": {
          "bdata": "ViYsdD3b7T8AAAAAAADgP1zNnl4UJrE/UM2eXhQmsT/+///////fP1YmLHQ92+0/VSYsdD3b7T8=",
          "dtype": "f8"
         },
         "xaxis": "x",
         "y": {
          "bdata": "gDlCLtzIBkCAOUIu3MgIQIA5Qi7cyAZAgDlCLtzIAkCAOUIu3MgAQIA5Qi7cyAJAgDlCLtzIBkA=",
          "dtype": "f8"
         },
         "yaxis": "y"
        },
        {
         "fill": "toself",
         "fillcolor": "rgb(161, 209, 229)",
         "hoverinfo": "text",
         "hoveron": "fills",
         "line": {
          "color": "black",
          "width": 0
         },
         "mode": "lines",
         "showlegend": false,
         "text": "[]",
         "type": "scatter",
         "x": {
          "bdata": "KxMWup7t9j8AAAAAAADwP6zZ04vCJOI/qtnTi8Ik4j/////////vPysTFrqe7fY/KhMWup7t9j8=",
          "dtype": "f8"
         },
         "xaxis": "x",
         "y": {
          "bdata": "q0xY6Hq2DUCrTFjoerYPQKtMWOh6tg1Aq0xY6Hq2CUCrTFjoerYHQKtMWOh6tglAq0xY6Hq2DUA=",
          "dtype": "f8"
         },
         "yaxis": "y"
        },
        {
         "fill": "toself",
         "fillcolor": "rgb(201, 232, 242)",
         "hoverinfo": "text",
         "hoveron": "fills",
         "line": {
          "color": "black",
          "width": 0
         },
         "mode": "lines",
         "showlegend": false,
         "text": "[42, 44, 45]",
         "type": "scatter",
         "x": {
          "bdata": "ViYsdD3b7T8AAAAAAADgP1zNnl4UJrE/UM2eXhQmsT/+///////fP1YmLHQ92+0/VSYsdD3b7T8=",
          "dtype": "f8"
         },
         "xaxis": "x",
         "y": {
          "bdata": "6y830QxSEkDrLzfRDFITQOsvN9EMUhJA6y830QxSEEDWX26iGaQOQOsvN9EMUhBA6y830QxSEkA=",
          "dtype": "f8"
         },
         "yaxis": "y"
        },
        {
         "fill": "toself",
         "fillcolor": "rgb(223, 243, 248)",
         "hoverinfo": "text",
         "hoveron": "fills",
         "line": {
          "color": "black",
          "width": 0
         },
         "mode": "lines",
         "showlegend": false,
         "text": "[]",
         "type": "scatter",
         "x": {
          "bdata": "lQkLXc92A0AAAAAAAAAAQNbs6UVhEvk/1ezpRWES+T8AAAAAAAAAQJYJC13PdgNAlQkLXc92A0A=",
          "dtype": "f8"
         },
         "xaxis": "x",
         "y": {
          "bdata": "////////zz8AAAAAAADgPwMAAAAAANA/+///////z78AAAAAAADgv/r//////8+/AAAAAAAA0D8=",
          "dtype": "f8"
         },
         "yaxis": "y"
        },
        {
         "fill": "toself",
         "fillcolor": "rgb(173, 218, 234)",
         "hoverinfo": "text",
         "hoveron": "fills",
         "line": {
          "color": "black",
          "width": 0
         },
         "mode": "lines",
         "showlegend": false,
         "text": "[1, 7, 8, 52]",
         "type": "scatter",
         "x": {
          "bdata": "KxMWup7t/j8AAAAAAAD4P9bs6UVhEvE/1ezpRWES8T8AAAAAAAD4PysTFrqe7f4/KhMWup7t/j8=",
          "dtype": "f8"
         },
         "xaxis": "x",
         "y": {
          "bdata": "VSYsdD3b8T9WJix0Pdv1P1YmLHQ92/E/rExY6Hq24z9WmbDQ9WzXP6xMWOh6tuM/ViYsdD3b8T8=",
          "dtype": "f8"
         },
         "yaxis": "y"
        },
        {
         "fill": "toself",
         "fillcolor": "rgb(167, 213, 231)",
         "hoverinfo": "text",
         "hoveron": "fills",
         "line": {
          "color": "black",
          "width": 0
         },
         "mode": "lines",
         "showlegend": false,
         "text": "[57, 81]",
         "type": "scatter",
         "x": {
          "bdata": "lQkLXc92A0AAAAAAAAAAQNbs6UVhEvk/1ezpRWES+T8AAAAAAAAAQJYJC13PdgNAlQkLXc92A0A=",
          "dtype": "f8"
         },
         "xaxis": "x",
         "y": {
          "bdata": "q0xY6Hq2/z9WJix0PdsBQKxMWOh6tv8/rExY6Hq29z+rTFjoerbzP6xMWOh6tvc/q0xY6Hq2/z8=",
          "dtype": "f8"
         },
         "yaxis": "y"
        },
        {
         "fill": "toself",
         "fillcolor": "rgb(159, 207, 228)",
         "hoverinfo": "text",
         "hoveron": "fills",
         "line": {
          "color": "black",
          "width": 0
         },
         "mode": "lines",
         "showlegend": false,
         "text": "[80, 88]",
         "type": "scatter",
         "x": {
          "bdata": "KxMWup7t/j8AAAAAAAD4P9bs6UVhEvE/1ezpRWES8T8AAAAAAAD4PysTFrqe7f4/KhMWup7t/j8=",
          "dtype": "f8"
         },
         "xaxis": "x",
         "y": {
          "bdata": "gDlCLtzIBkCAOUIu3MgIQIA5Qi7cyAZAgDlCLtzIAkCAOUIu3MgAQIA5Qi7cyAJAgDlCLtzIBkA=",
          "dtype": "f8"
         },
         "yaxis": "y"
        },
        {
         "fill": "toself",
         "fillcolor": "rgb(164, 211, 230)",
         "hoverinfo": "text",
         "hoveron": "fills",
         "line": {
          "color": "black",
          "width": 0
         },
         "mode": "lines",
         "showlegend": false,
         "text": "[]",
         "type": "scatter",
         "x": {
          "bdata": "lQkLXc92A0AAAAAAAAAAQNbs6UVhEvk/1ezpRWES+T8AAAAAAAAAQJYJC13PdgNAlQkLXc92A0A=",
          "dtype": "f8"
         },
         "xaxis": "x",
         "y": {
          "bdata": "q0xY6Hq2DUCrTFjoerYPQKtMWOh6tg1Aq0xY6Hq2CUCrTFjoerYHQKtMWOh6tglAq0xY6Hq2DUA=",
          "dtype": "f8"
         },
         "yaxis": "y"
        },
        {
         "fill": "toself",
         "fillcolor": "rgb(175, 219, 234)",
         "hoverinfo": "text",
         "hoveron": "fills",
         "line": {
          "color": "black",
          "width": 0
         },
         "mode": "lines",
         "showlegend": false,
         "text": "[]",
         "type": "scatter",
         "x": {
          "bdata": "KxMWup7t/j8AAAAAAAD4P9bs6UVhEvE/1ezpRWES8T8AAAAAAAD4PysTFrqe7f4/KhMWup7t/j8=",
          "dtype": "f8"
         },
         "xaxis": "x",
         "y": {
          "bdata": "6y830QxSEkDrLzfRDFITQOsvN9EMUhJA6y830QxSEEDWX26iGaQOQOsvN9EMUhBA6y830QxSEkA=",
          "dtype": "f8"
         },
         "yaxis": "y"
        },
        {
         "fill": "toself",
         "fillcolor": "rgb(220, 241, 247)",
         "hoverinfo": "text",
         "hoveron": "fills",
         "line": {
          "color": "black",
          "width": 0
         },
         "mode": "lines",
         "showlegend": false,
         "text": "[47, 48, 49, 51]",
         "type": "scatter",
         "x": {
          "bdata": "lQkLXc92C0AAAAAAAAAIQGv29KIwiQRAavb0ojCJBEAAAAAAAAAIQJYJC13PdgtAlQkLXc92C0A=",
          "dtype": "f8"
         },
         "xaxis": "x",
         "y": {
          "bdata": "////////zz8AAAAAAADgPwMAAAAAANA/+///////z78AAAAAAADgv/r//////8+/AAAAAAAA0D8=",
          "dtype": "f8"
         },
         "yaxis": "y"
        },
        {
         "fill": "toself",
         "fillcolor": "rgb(185, 224, 237)",
         "hoverinfo": "text",
         "hoveron": "fills",
         "line": {
          "color": "black",
          "width": 0
         },
         "mode": "lines",
         "showlegend": false,
         "text": "[41]",
         "type": "scatter",
         "x": {
          "bdata": "lQkLXc92B0AAAAAAAAAEQGv29KIwiQBAavb0ojCJAEAAAAAAAAAEQJYJC13PdgdAlQkLXc92B0A=",
          "dtype": "f8"
         },
         "xaxis": "x",
         "y": {
          "bdata": "VSYsdD3b8T9WJix0Pdv1P1YmLHQ92/E/rExY6Hq24z9WmbDQ9WzXP6xMWOh6tuM/ViYsdD3b8T8=",
          "dtype": "f8"
         },
         "yaxis": "y"
        },
        {
         "fill": "toself",
         "fillcolor": "rgb(171, 217, 233)",
         "hoverinfo": "text",
         "hoveron": "fills",
         "line": {
          "color": "black",
          "width": 0
         },
         "mode": "lines",
         "showlegend": false,
         "text": "[]",
         "type": "scatter",
         "x": {
          "bdata": "lQkLXc92C0AAAAAAAAAIQGv29KIwiQRAavb0ojCJBEAAAAAAAAAIQJYJC13PdgtAlQkLXc92C0A=",
          "dtype": "f8"
         },
         "xaxis": "x",
         "y": {
          "bdata": "q0xY6Hq2/z9WJix0PdsBQKxMWOh6tv8/rExY6Hq29z+rTFjoerbzP6xMWOh6tvc/q0xY6Hq2/z8=",
          "dtype": "f8"
         },
         "yaxis": "y"
        },
        {
         "fill": "toself",
         "fillcolor": "rgb(183, 223, 236)",
         "hoverinfo": "text",
         "hoveron": "fills",
         "line": {
          "color": "black",
          "width": 0
         },
         "mode": "lines",
         "showlegend": false,
         "text": "[63]",
         "type": "scatter",
         "x": {
          "bdata": "lQkLXc92B0AAAAAAAAAEQGv29KIwiQBAavb0ojCJAEAAAAAAAAAEQJYJC13PdgdAlQkLXc92B0A=",
          "dtype": "f8"
         },
         "xaxis": "x",
         "y": {
          "bdata": "gDlCLtzIBkCAOUIu3MgIQIA5Qi7cyAZAgDlCLtzIAkCAOUIu3MgAQIA5Qi7cyAJAgDlCLtzIBkA=",
          "dtype": "f8"
         },
         "yaxis": "y"
        },
        {
         "fill": "toself",
         "fillcolor": "rgb(108, 164, 204)",
         "hoverinfo": "text",
         "hoveron": "fills",
         "line": {
          "color": "black",
          "width": 0
         },
         "mode": "lines",
         "showlegend": false,
         "text": "[]",
         "type": "scatter",
         "x": {
          "bdata": "lQkLXc92C0AAAAAAAAAIQGv29KIwiQRAavb0ojCJBEAAAAAAAAAIQJYJC13PdgtAlQkLXc92C0A=",
          "dtype": "f8"
         },
         "xaxis": "x",
         "y": {
          "bdata": "q0xY6Hq2DUCrTFjoerYPQKtMWOh6tg1Aq0xY6Hq2CUCrTFjoerYHQKtMWOh6tglAq0xY6Hq2DUA=",
          "dtype": "f8"
         },
         "yaxis": "y"
        },
        {
         "fill": "toself",
         "fillcolor": "rgb(143, 194, 221)",
         "hoverinfo": "text",
         "hoveron": "fills",
         "line": {
          "color": "black",
          "width": 0
         },
         "mode": "lines",
         "showlegend": false,
         "text": "[37, 38]",
         "type": "scatter",
         "x": {
          "bdata": "lQkLXc92B0AAAAAAAAAEQGv29KIwiQBAavb0ojCJAEAAAAAAAAAEQJYJC13PdgdAlQkLXc92B0A=",
          "dtype": "f8"
         },
         "xaxis": "x",
         "y": {
          "bdata": "6y830QxSEkDrLzfRDFITQOsvN9EMUhJA6y830QxSEEDWX26iGaQOQOsvN9EMUhBA6y830QxSEkA=",
          "dtype": "f8"
         },
         "yaxis": "y"
        },
        {
         "fill": "toself",
         "fillcolor": "rgb(192, 227, 239)",
         "hoverinfo": "text",
         "hoveron": "fills",
         "line": {
          "color": "black",
          "width": 0
         },
         "mode": "lines",
         "showlegend": false,
         "text": "[55]",
         "type": "scatter",
         "x": {
          "bdata": "y4SFrme7EUAAAAAAAAAQQGv29KIwiQxAavb0ojCJDEAAAAAAAAAQQMuEha5nuxFAy4SFrme7EUA=",
          "dtype": "f8"
         },
         "xaxis": "x",
         "y": {
          "bdata": "////////zz8AAAAAAADgPwMAAAAAANA/+///////z78AAAAAAADgv/r//////8+/AAAAAAAA0D8=",
          "dtype": "f8"
         },
         "yaxis": "y"
        },
        {
         "fill": "toself",
         "fillcolor": "rgb(167, 214, 231)",
         "hoverinfo": "text",
         "hoveron": "fills",
         "line": {
          "color": "black",
          "width": 0
         },
         "mode": "lines",
         "showlegend": false,
         "text": "[15, 16, 17, 18, 19, 20]",
         "type": "scatter",
         "x": {
          "bdata": "lQkLXc92D0AAAAAAAAAMQGv29KIwiQhAavb0ojCJCEAAAAAAAAAMQJYJC13Pdg9AlQkLXc92D0A=",
          "dtype": "f8"
         },
         "xaxis": "x",
         "y": {
          "bdata": "VSYsdD3b8T9WJix0Pdv1P1YmLHQ92/E/rExY6Hq24z9WmbDQ9WzXP6xMWOh6tuM/ViYsdD3b8T8=",
          "dtype": "f8"
         },
         "yaxis": "y"
        },
        {
         "fill": "toself",
         "fillcolor": "rgb(187, 225, 237)",
         "hoverinfo": "text",
         "hoveron": "fills",
         "line": {
          "color": "black",
          "width": 0
         },
         "mode": "lines",
         "showlegend": false,
         "text": "[23, 78, 90]",
         "type": "scatter",
         "x": {
          "bdata": "y4SFrme7EUAAAAAAAAAQQGv29KIwiQxAavb0ojCJDEAAAAAAAAAQQMuEha5nuxFAy4SFrme7EUA=",
          "dtype": "f8"
         },
         "xaxis": "x",
         "y": {
          "bdata": "q0xY6Hq2/z9WJix0PdsBQKxMWOh6tv8/rExY6Hq29z+rTFjoerbzP6xMWOh6tvc/q0xY6Hq2/z8=",
          "dtype": "f8"
         },
         "yaxis": "y"
        },
        {
         "fill": "toself",
         "fillcolor": "rgb(142, 194, 220)",
         "hoverinfo": "text",
         "hoveron": "fills",
         "line": {
          "color": "black",
          "width": 0
         },
         "mode": "lines",
         "showlegend": false,
         "text": "[27, 29, 36]",
         "type": "scatter",
         "x": {
          "bdata": "lQkLXc92D0AAAAAAAAAMQGv29KIwiQhAavb0ojCJCEAAAAAAAAAMQJYJC13Pdg9AlQkLXc92D0A=",
          "dtype": "f8"
         },
         "xaxis": "x",
         "y": {
          "bdata": "gDlCLtzIBkCAOUIu3MgIQIA5Qi7cyAZAgDlCLtzIAkCAOUIu3MgAQIA5Qi7cyAJAgDlCLtzIBkA=",
          "dtype": "f8"
         },
         "yaxis": "y"
        },
        {
         "fill": "toself",
         "fillcolor": "rgb(49, 54, 149)",
         "hoverinfo": "text",
         "hoveron": "fills",
         "line": {
          "color": "black",
          "width": 0
         },
         "mode": "lines",
         "showlegend": false,
         "text": "[64]",
         "type": "scatter",
         "x": {
          "bdata": "y4SFrme7EUAAAAAAAAAQQGv29KIwiQxAavb0ojCJDEAAAAAAAAAQQMuEha5nuxFAy4SFrme7EUA=",
          "dtype": "f8"
         },
         "xaxis": "x",
         "y": {
          "bdata": "q0xY6Hq2DUCrTFjoerYPQKtMWOh6tg1Aq0xY6Hq2CUCrTFjoerYHQKtMWOh6tglAq0xY6Hq2DUA=",
          "dtype": "f8"
         },
         "yaxis": "y"
        },
        {
         "fill": "toself",
         "fillcolor": "rgb(78, 127, 185)",
         "hoverinfo": "text",
         "hoveron": "fills",
         "line": {
          "color": "black",
          "width": 0
         },
         "mode": "lines",
         "showlegend": false,
         "text": "[]",
         "type": "scatter",
         "x": {
          "bdata": "lQkLXc92D0AAAAAAAAAMQGv29KIwiQhAavb0ojCJCEAAAAAAAAAMQJYJC13Pdg9AlQkLXc92D0A=",
          "dtype": "f8"
         },
         "xaxis": "x",
         "y": {
          "bdata": "6y830QxSEkDrLzfRDFITQOsvN9EMUhJA6y830QxSEEDWX26iGaQOQOsvN9EMUhBA6y830QxSEkA=",
          "dtype": "f8"
         },
         "yaxis": "y"
        },
        {
         "fill": "toself",
         "fillcolor": "rgb(174, 218, 234)",
         "hoverinfo": "text",
         "hoveron": "fills",
         "line": {
          "color": "black",
          "width": 0
         },
         "mode": "lines",
         "showlegend": false,
         "text": "[95, 97]",
         "type": "scatter",
         "x": {
          "bdata": "y4SFrme7FUAAAAAAAAAUQDV7elGYRBJANXt6UZhEEkAAAAAAAAAUQMuEha5nuxVAy4SFrme7FUA=",
          "dtype": "f8"
         },
         "xaxis": "x",
         "y": {
          "bdata": "////////zz8AAAAAAADgPwMAAAAAANA/+///////z78AAAAAAADgv/r//////8+/AAAAAAAA0D8=",
          "dtype": "f8"
         },
         "yaxis": "y"
        },
        {
         "fill": "toself",
         "fillcolor": "rgb(178, 220, 235)",
         "hoverinfo": "text",
         "hoveron": "fills",
         "line": {
          "color": "black",
          "width": 0
         },
         "mode": "lines",
         "showlegend": false,
         "text": "[94]",
         "type": "scatter",
         "x": {
          "bdata": "y4SFrme7E0AAAAAAAAASQDV7elGYRBBANXt6UZhEEEAAAAAAAAASQMuEha5nuxNAy4SFrme7E0A=",
          "dtype": "f8"
         },
         "xaxis": "x",
         "y": {
          "bdata": "VSYsdD3b8T9WJix0Pdv1P1YmLHQ92/E/rExY6Hq24z9WmbDQ9WzXP6xMWOh6tuM/ViYsdD3b8T8=",
          "dtype": "f8"
         },
         "yaxis": "y"
        },
        {
         "fill": "toself",
         "fillcolor": "rgb(195, 229, 240)",
         "hoverinfo": "text",
         "hoveron": "fills",
         "line": {
          "color": "black",
          "width": 0
         },
         "mode": "lines",
         "showlegend": false,
         "text": "[33, 34]",
         "type": "scatter",
         "x": {
          "bdata": "y4SFrme7FUAAAAAAAAAUQDV7elGYRBJANXt6UZhEEkAAAAAAAAAUQMuEha5nuxVAy4SFrme7FUA=",
          "dtype": "f8"
         },
         "xaxis": "x",
         "y": {
          "bdata": "q0xY6Hq2/z9WJix0PdsBQKxMWOh6tv8/rExY6Hq29z+rTFjoerbzP6xMWOh6tvc/q0xY6Hq2/z8=",
          "dtype": "f8"
         },
         "yaxis": "y"
        },
        {
         "fill": "toself",
         "fillcolor": "rgb(166, 213, 231)",
         "hoverinfo": "text",
         "hoveron": "fills",
         "line": {
          "color": "black",
          "width": 0
         },
         "mode": "lines",
         "showlegend": false,
         "text": "[28]",
         "type": "scatter",
         "x": {
          "bdata": "y4SFrme7E0AAAAAAAAASQDV7elGYRBBANXt6UZhEEEAAAAAAAAASQMuEha5nuxNAy4SFrme7E0A=",
          "dtype": "f8"
         },
         "xaxis": "x",
         "y": {
          "bdata": "gDlCLtzIBkCAOUIu3MgIQIA5Qi7cyAZAgDlCLtzIAkCAOUIu3MgAQIA5Qi7cyAJAgDlCLtzIBkA=",
          "dtype": "f8"
         },
         "yaxis": "y"
        },
        {
         "fill": "toself",
         "fillcolor": "rgb(136, 189, 218)",
         "hoverinfo": "text",
         "hoveron": "fills",
         "line": {
          "color": "black",
          "width": 0
         },
         "mode": "lines",
         "showlegend": false,
         "text": "[]",
         "type": "scatter",
         "x": {
          "bdata": "y4SFrme7FUAAAAAAAAAUQDV7elGYRBJANXt6UZhEEkAAAAAAAAAUQMuEha5nuxVAy4SFrme7FUA=",
          "dtype": "f8"
         },
         "xaxis": "x",
         "y": {
          "bdata": "q0xY6Hq2DUCrTFjoerYPQKtMWOh6tg1Aq0xY6Hq2CUCrTFjoerYHQKtMWOh6tglAq0xY6Hq2DUA=",
          "dtype": "f8"
         },
         "yaxis": "y"
        },
        {
         "fill": "toself",
         "fillcolor": "rgb(113, 170, 207)",
         "hoverinfo": "text",
         "hoveron": "fills",
         "line": {
          "color": "black",
          "width": 0
         },
         "mode": "lines",
         "showlegend": false,
         "text": "[]",
         "type": "scatter",
         "x": {
          "bdata": "y4SFrme7E0AAAAAAAAASQDV7elGYRBBANXt6UZhEEEAAAAAAAAASQMuEha5nuxNAy4SFrme7E0A=",
          "dtype": "f8"
         },
         "xaxis": "x",
         "y": {
          "bdata": "6y830QxSEkDrLzfRDFITQOsvN9EMUhJA6y830QxSEEDWX26iGaQOQOsvN9EMUhBA6y830QxSEkA=",
          "dtype": "f8"
         },
         "yaxis": "y"
        },
        {
         "fill": "toself",
         "fillcolor": "rgb(228, 244, 241)",
         "hoverinfo": "text",
         "hoveron": "fills",
         "line": {
          "color": "black",
          "width": 0
         },
         "mode": "lines",
         "showlegend": false,
         "text": "[54]",
         "type": "scatter",
         "x": {
          "bdata": "y4SFrme7GUAAAAAAAAAYQDV7elGYRBZANXt6UZhEFkAAAAAAAAAYQMuEha5nuxlAy4SFrme7GUA=",
          "dtype": "f8"
         },
         "xaxis": "x",
         "y": {
          "bdata": "////////zz8AAAAAAADgPwMAAAAAANA/+///////z78AAAAAAADgv/r//////8+/AAAAAAAA0D8=",
          "dtype": "f8"
         },
         "yaxis": "y"
        },
        {
         "fill": "toself",
         "fillcolor": "rgb(219, 241, 247)",
         "hoverinfo": "text",
         "hoveron": "fills",
         "line": {
          "color": "black",
          "width": 0
         },
         "mode": "lines",
         "showlegend": false,
         "text": "[96]",
         "type": "scatter",
         "x": {
          "bdata": "y4SFrme7F0AAAAAAAAAWQDV7elGYRBRANXt6UZhEFEAAAAAAAAAWQMuEha5nuxdAy4SFrme7F0A=",
          "dtype": "f8"
         },
         "xaxis": "x",
         "y": {
          "bdata": "VSYsdD3b8T9WJix0Pdv1P1YmLHQ92/E/rExY6Hq24z9WmbDQ9WzXP6xMWOh6tuM/ViYsdD3b8T8=",
          "dtype": "f8"
         },
         "yaxis": "y"
        },
        {
         "fill": "toself",
         "fillcolor": "rgb(171, 217, 233)",
         "hoverinfo": "text",
         "hoveron": "fills",
         "line": {
          "color": "black",
          "width": 0
         },
         "mode": "lines",
         "showlegend": false,
         "text": "[32, 56]",
         "type": "scatter",
         "x": {
          "bdata": "y4SFrme7GUAAAAAAAAAYQDV7elGYRBZANXt6UZhEFkAAAAAAAAAYQMuEha5nuxlAy4SFrme7GUA=",
          "dtype": "f8"
         },
         "xaxis": "x",
         "y": {
          "bdata": "q0xY6Hq2/z9WJix0PdsBQKxMWOh6tv8/rExY6Hq29z+rTFjoerbzP6xMWOh6tvc/q0xY6Hq2/z8=",
          "dtype": "f8"
         },
         "yaxis": "y"
        },
        {
         "fill": "toself",
         "fillcolor": "rgb(183, 223, 237)",
         "hoverinfo": "text",
         "hoveron": "fills",
         "line": {
          "color": "black",
          "width": 0
         },
         "mode": "lines",
         "showlegend": false,
         "text": "[58]",
         "type": "scatter",
         "x": {
          "bdata": "y4SFrme7F0AAAAAAAAAWQDV7elGYRBRANXt6UZhEFEAAAAAAAAAWQMuEha5nuxdAy4SFrme7F0A=",
          "dtype": "f8"
         },
         "xaxis": "x",
         "y": {
          "bdata": "gDlCLtzIBkCAOUIu3MgIQIA5Qi7cyAZAgDlCLtzIAkCAOUIu3MgAQIA5Qi7cyAJAgDlCLtzIBkA=",
          "dtype": "f8"
         },
         "yaxis": "y"
        },
        {
         "fill": "toself",
         "fillcolor": "rgb(157, 206, 227)",
         "hoverinfo": "text",
         "hoveron": "fills",
         "line": {
          "color": "black",
          "width": 0
         },
         "mode": "lines",
         "showlegend": false,
         "text": "[13]",
         "type": "scatter",
         "x": {
          "bdata": "y4SFrme7GUAAAAAAAAAYQDV7elGYRBZANXt6UZhEFkAAAAAAAAAYQMuEha5nuxlAy4SFrme7GUA=",
          "dtype": "f8"
         },
         "xaxis": "x",
         "y": {
          "bdata": "q0xY6Hq2DUCrTFjoerYPQKtMWOh6tg1Aq0xY6Hq2CUCrTFjoerYHQKtMWOh6tglAq0xY6Hq2DUA=",
          "dtype": "f8"
         },
         "yaxis": "y"
        },
        {
         "fill": "toself",
         "fillcolor": "rgb(160, 208, 228)",
         "hoverinfo": "text",
         "hoveron": "fills",
         "line": {
          "color": "black",
          "width": 0
         },
         "mode": "lines",
         "showlegend": false,
         "text": "[11, 12, 14, 67, 68, 69]",
         "type": "scatter",
         "x": {
          "bdata": "y4SFrme7F0AAAAAAAAAWQDV7elGYRBRANXt6UZhEFEAAAAAAAAAWQMuEha5nuxdAy4SFrme7F0A=",
          "dtype": "f8"
         },
         "xaxis": "x",
         "y": {
          "bdata": "6y830QxSEkDrLzfRDFITQOsvN9EMUhJA6y830QxSEEDWX26iGaQOQOsvN9EMUhBA6y830QxSEkA=",
          "dtype": "f8"
         },
         "yaxis": "y"
        },
        {
         "fill": "toself",
         "fillcolor": "rgb(158, 207, 227)",
         "hoverinfo": "text",
         "hoveron": "fills",
         "line": {
          "color": "black",
          "width": 0
         },
         "mode": "lines",
         "showlegend": false,
         "text": "[71]",
         "type": "scatter",
         "x": {
          "bdata": "y4SFrme7HUAAAAAAAAAcQDV7elGYRBpANXt6UZhEGkAAAAAAAAAcQMuEha5nux1Ay4SFrme7HUA=",
          "dtype": "f8"
         },
         "xaxis": "x",
         "y": {
          "bdata": "////////zz8AAAAAAADgPwMAAAAAANA/+///////z78AAAAAAADgv/r//////8+/AAAAAAAA0D8=",
          "dtype": "f8"
         },
         "yaxis": "y"
        },
        {
         "fill": "toself",
         "fillcolor": "rgb(199, 231, 241)",
         "hoverinfo": "text",
         "hoveron": "fills",
         "line": {
          "color": "black",
          "width": 0
         },
         "mode": "lines",
         "showlegend": false,
         "text": "[98]",
         "type": "scatter",
         "x": {
          "bdata": "y4SFrme7G0AAAAAAAAAaQDV7elGYRBhANXt6UZhEGEAAAAAAAAAaQMuEha5nuxtAy4SFrme7G0A=",
          "dtype": "f8"
         },
         "xaxis": "x",
         "y": {
          "bdata": "VSYsdD3b8T9WJix0Pdv1P1YmLHQ92/E/rExY6Hq24z9WmbDQ9WzXP6xMWOh6tuM/ViYsdD3b8T8=",
          "dtype": "f8"
         },
         "yaxis": "y"
        },
        {
         "fill": "toself",
         "fillcolor": "rgb(135, 188, 217)",
         "hoverinfo": "text",
         "hoveron": "fills",
         "line": {
          "color": "black",
          "width": 0
         },
         "mode": "lines",
         "showlegend": false,
         "text": "[99, 100, 101]",
         "type": "scatter",
         "x": {
          "bdata": "y4SFrme7HUAAAAAAAAAcQDV7elGYRBpANXt6UZhEGkAAAAAAAAAcQMuEha5nux1Ay4SFrme7HUA=",
          "dtype": "f8"
         },
         "xaxis": "x",
         "y": {
          "bdata": "q0xY6Hq2/z9WJix0PdsBQKxMWOh6tv8/rExY6Hq29z+rTFjoerbzP6xMWOh6tvc/q0xY6Hq2/z8=",
          "dtype": "f8"
         },
         "yaxis": "y"
        },
        {
         "fill": "toself",
         "fillcolor": "rgb(128, 182, 214)",
         "hoverinfo": "text",
         "hoveron": "fills",
         "line": {
          "color": "black",
          "width": 0
         },
         "mode": "lines",
         "showlegend": false,
         "text": "[30, 35]",
         "type": "scatter",
         "x": {
          "bdata": "y4SFrme7G0AAAAAAAAAaQDV7elGYRBhANXt6UZhEGEAAAAAAAAAaQMuEha5nuxtAy4SFrme7G0A=",
          "dtype": "f8"
         },
         "xaxis": "x",
         "y": {
          "bdata": "gDlCLtzIBkCAOUIu3MgIQIA5Qi7cyAZAgDlCLtzIAkCAOUIu3MgAQIA5Qi7cyAJAgDlCLtzIBkA=",
          "dtype": "f8"
         },
         "yaxis": "y"
        },
        {
         "fill": "toself",
         "fillcolor": "rgb(139, 192, 219)",
         "hoverinfo": "text",
         "hoveron": "fills",
         "line": {
          "color": "black",
          "width": 0
         },
         "mode": "lines",
         "showlegend": false,
         "text": "[]",
         "type": "scatter",
         "x": {
          "bdata": "y4SFrme7HUAAAAAAAAAcQDV7elGYRBpANXt6UZhEGkAAAAAAAAAcQMuEha5nux1Ay4SFrme7HUA=",
          "dtype": "f8"
         },
         "xaxis": "x",
         "y": {
          "bdata": "q0xY6Hq2DUCrTFjoerYPQKtMWOh6tg1Aq0xY6Hq2CUCrTFjoerYHQKtMWOh6tglAq0xY6Hq2DUA=",
          "dtype": "f8"
         },
         "yaxis": "y"
        },
        {
         "fill": "toself",
         "fillcolor": "rgb(160, 208, 228)",
         "hoverinfo": "text",
         "hoveron": "fills",
         "line": {
          "color": "black",
          "width": 0
         },
         "mode": "lines",
         "showlegend": false,
         "text": "[66, 86, 91, 93]",
         "type": "scatter",
         "x": {
          "bdata": "y4SFrme7G0AAAAAAAAAaQDV7elGYRBhANXt6UZhEGEAAAAAAAAAaQMuEha5nuxtAy4SFrme7G0A=",
          "dtype": "f8"
         },
         "xaxis": "x",
         "y": {
          "bdata": "6y830QxSEkDrLzfRDFITQOsvN9EMUhJA6y830QxSEEDWX26iGaQOQOsvN9EMUhBA6y830QxSEkA=",
          "dtype": "f8"
         },
         "yaxis": "y"
        },
        {
         "fill": "toself",
         "fillcolor": "rgb(118, 174, 210)",
         "hoverinfo": "text",
         "hoveron": "fills",
         "line": {
          "color": "black",
          "width": 0
         },
         "mode": "lines",
         "showlegend": false,
         "text": "[70, 72, 73, 74, 76]",
         "type": "scatter",
         "x": {
          "bdata": "ZcJC17PdIEAAAAAAAAAgQDV7elGYRB5ANXt6UZhEHkAAAAAAAAAgQGXCQtez3SBAZcJC17PdIEA=",
          "dtype": "f8"
         },
         "xaxis": "x",
         "y": {
          "bdata": "////////zz8AAAAAAADgPwMAAAAAANA/+///////z78AAAAAAADgv/r//////8+/AAAAAAAA0D8=",
          "dtype": "f8"
         },
         "yaxis": "y"
        },
        {
         "fill": "toself",
         "fillcolor": "rgb(139, 191, 219)",
         "hoverinfo": "text",
         "hoveron": "fills",
         "line": {
          "color": "black",
          "width": 0
         },
         "mode": "lines",
         "showlegend": false,
         "text": "[75, 77]",
         "type": "scatter",
         "x": {
          "bdata": "y4SFrme7H0AAAAAAAAAeQDV7elGYRBxANXt6UZhEHEAAAAAAAAAeQMuEha5nux9Ay4SFrme7H0A=",
          "dtype": "f8"
         },
         "xaxis": "x",
         "y": {
          "bdata": "VSYsdD3b8T9WJix0Pdv1P1YmLHQ92/E/rExY6Hq24z9WmbDQ9WzXP6xMWOh6tuM/ViYsdD3b8T8=",
          "dtype": "f8"
         },
         "yaxis": "y"
        },
        {
         "fill": "toself",
         "fillcolor": "rgb(121, 177, 211)",
         "hoverinfo": "text",
         "hoveron": "fills",
         "line": {
          "color": "black",
          "width": 0
         },
         "mode": "lines",
         "showlegend": false,
         "text": "[]",
         "type": "scatter",
         "x": {
          "bdata": "ZcJC17PdIEAAAAAAAAAgQDV7elGYRB5ANXt6UZhEHkAAAAAAAAAgQGXCQtez3SBAZcJC17PdIEA=",
          "dtype": "f8"
         },
         "xaxis": "x",
         "y": {
          "bdata": "q0xY6Hq2/z9WJix0PdsBQKxMWOh6tv8/rExY6Hq29z+rTFjoerbzP6xMWOh6tvc/q0xY6Hq2/z8=",
          "dtype": "f8"
         },
         "yaxis": "y"
        },
        {
         "fill": "toself",
         "fillcolor": "rgb(109, 165, 205)",
         "hoverinfo": "text",
         "hoveron": "fills",
         "line": {
          "color": "black",
          "width": 0
         },
         "mode": "lines",
         "showlegend": false,
         "text": "[31, 39]",
         "type": "scatter",
         "x": {
          "bdata": "y4SFrme7H0AAAAAAAAAeQDV7elGYRBxANXt6UZhEHEAAAAAAAAAeQMuEha5nux9Ay4SFrme7H0A=",
          "dtype": "f8"
         },
         "xaxis": "x",
         "y": {
          "bdata": "gDlCLtzIBkCAOUIu3MgIQIA5Qi7cyAZAgDlCLtzIAkCAOUIu3MgAQIA5Qi7cyAJAgDlCLtzIBkA=",
          "dtype": "f8"
         },
         "yaxis": "y"
        },
        {
         "fill": "toself",
         "fillcolor": "rgb(135, 188, 217)",
         "hoverinfo": "text",
         "hoveron": "fills",
         "line": {
          "color": "black",
          "width": 0
         },
         "mode": "lines",
         "showlegend": false,
         "text": "[59, 60, 61, 62]",
         "type": "scatter",
         "x": {
          "bdata": "ZcJC17PdIEAAAAAAAAAgQDV7elGYRB5ANXt6UZhEHkAAAAAAAAAgQGXCQtez3SBAZcJC17PdIEA=",
          "dtype": "f8"
         },
         "xaxis": "x",
         "y": {
          "bdata": "q0xY6Hq2DUCrTFjoerYPQKtMWOh6tg1Aq0xY6Hq2CUCrTFjoerYHQKtMWOh6tglAq0xY6Hq2DUA=",
          "dtype": "f8"
         },
         "yaxis": "y"
        },
        {
         "fill": "toself",
         "fillcolor": "rgb(150, 200, 224)",
         "hoverinfo": "text",
         "hoveron": "fills",
         "line": {
          "color": "black",
          "width": 0
         },
         "mode": "lines",
         "showlegend": false,
         "text": "[10, 65]",
         "type": "scatter",
         "x": {
          "bdata": "y4SFrme7H0AAAAAAAAAeQDV7elGYRBxANXt6UZhEHEAAAAAAAAAeQMuEha5nux9Ay4SFrme7H0A=",
          "dtype": "f8"
         },
         "xaxis": "x",
         "y": {
          "bdata": "6y830QxSEkDrLzfRDFITQOsvN9EMUhJA6y830QxSEEDWX26iGaQOQOsvN9EMUhBA6y830QxSEkA=",
          "dtype": "f8"
         },
         "yaxis": "y"
        },
        {
         "marker": {
          "color": [
           0.32743044059751447,
           0.8028140806830762
          ],
          "colorbar": {
           "len": 0.1,
           "thickness": 20,
           "x": 0.38,
           "y": 0.9
          },
          "colorscale": [
           [
            0,
            "rgb(165,0,38)"
           ],
           [
            0.1,
            "rgb(215,48,39)"
           ],
           [
            0.2,
            "rgb(244,109,67)"
           ],
           [
            0.3,
            "rgb(253,174,97)"
           ],
           [
            0.4,
            "rgb(254,224,144)"
           ],
           [
            0.5,
            "rgb(255,255,191)"
           ],
           [
            0.6,
            "rgb(224,243,248)"
           ],
           [
            0.7,
            "rgb(171,217,233)"
           ],
           [
            0.8,
            "rgb(116,173,209)"
           ],
           [
            0.9,
            "rgb(69,117,180)"
           ],
           [
            1,
            "rgb(49,54,149)"
           ]
          ],
          "size": 0.001
         },
         "showlegend": false,
         "type": "scatter",
         "x": [
          0,
          0
         ],
         "xaxis": "x",
         "y": [
          0,
          0
         ],
         "yaxis": "y"
        },
        {
         "fill": "toself",
         "fillcolor": "rgb(172, 7, 38)",
         "hoverinfo": "text",
         "hoveron": "fills",
         "line": {
          "color": "black",
          "width": 0
         },
         "mode": "lines",
         "showlegend": false,
         "text": "[5]",
         "type": "scatter",
         "x": {
          "bdata": "q0xY6Hq22z8HXBQzJqaBPKlMWOh6ttu/rExY6Hq2278Kip5MOXmavKxMWOh6tts/qkxY6Hq22z8=",
          "dtype": "f8"
         },
         "xaxis": "x2",
         "y": {
          "bdata": "////////zz8AAAAAAADgPwMAAAAAANA/+///////z78AAAAAAADgv/r//////8+/AAAAAAAA0D8=",
          "dtype": "f8"
         },
         "yaxis": "y2"
        },
        {
         "fill": "toself",
         "fillcolor": "rgb(186, 21, 38)",
         "hoverinfo": "text",
         "hoveron": "fills",
         "line": {
          "color": "black",
          "width": 0
         },
         "mode": "lines",
         "showlegend": false,
         "text": "[0, 4]",
         "type": "scatter",
         "x": {
          "bdata": "VM2eXhQmsb/////////fv1QmLHQ92+2/ViYsdD3b7b8BAAAAAADgv1DNnl4UJrG/WM2eXhQmsb8=",
          "dtype": "f8"
         },
         "xaxis": "x2",
         "y": {
          "bdata": "VSYsdD3b8T9WJix0Pdv1P1YmLHQ92/E/rExY6Hq24z9WmbDQ9WzXP6xMWOh6tuM/ViYsdD3b8T8=",
          "dtype": "f8"
         },
         "yaxis": "y2"
        },
        {
         "fill": "toself",
         "fillcolor": "rgb(219, 57, 43)",
         "hoverinfo": "text",
         "hoveron": "fills",
         "line": {
          "color": "black",
          "width": 0
         },
         "mode": "lines",
         "showlegend": false,
         "text": "[21, 22]",
         "type": "scatter",
         "x": {
          "bdata": "q0xY6Hq22z8HXBQzJqaBPKlMWOh6ttu/rExY6Hq2278Kip5MOXmavKxMWOh6tts/qkxY6Hq22z8=",
          "dtype": "f8"
         },
         "xaxis": "x2",
         "y": {
          "bdata": "q0xY6Hq2/z9WJix0PdsBQKxMWOh6tv8/rExY6Hq29z+rTFjoerbzP6xMWOh6tvc/q0xY6Hq2/z8=",
          "dtype": "f8"
         },
         "yaxis": "y2"
        },
        {
         "fill": "toself",
         "fillcolor": "rgb(247, 131, 77)",
         "hoverinfo": "text",
         "hoveron": "fills",
         "line": {
          "color": "black",
          "width": 0
         },
         "mode": "lines",
         "showlegend": false,
         "text": "[83, 85, 87, 89]",
         "type": "scatter",
         "x": {
          "bdata": "VM2eXhQmsb/////////fv1QmLHQ92+2/ViYsdD3b7b8BAAAAAADgv1DNnl4UJrG/WM2eXhQmsb8=",
          "dtype": "f8"
         },
         "xaxis": "x2",
         "y": {
          "bdata": "gDlCLtzIBkCAOUIu3MgIQIA5Qi7cyAZAgDlCLtzIAkCAOUIu3MgAQIA5Qi7cyAJAgDlCLtzIBkA=",
          "dtype": "f8"
         },
         "yaxis": "y2"
        },
        {
         "fill": "toself",
         "fillcolor": "rgb(236, 93, 60)",
         "hoverinfo": "text",
         "hoveron": "fills",
         "line": {
          "color": "black",
          "width": 0
         },
         "mode": "lines",
         "showlegend": false,
         "text": "[]",
         "type": "scatter",
         "x": {
          "bdata": "q0xY6Hq22z8HXBQzJqaBPKlMWOh6ttu/rExY6Hq2278Kip5MOXmavKxMWOh6tts/qkxY6Hq22z8=",
          "dtype": "f8"
         },
         "xaxis": "x2",
         "y": {
          "bdata": "q0xY6Hq2DUCrTFjoerYPQKtMWOh6tg1Aq0xY6Hq2CUCrTFjoerYHQKtMWOh6tglAq0xY6Hq2DUA=",
          "dtype": "f8"
         },
         "yaxis": "y2"
        },
        {
         "fill": "toself",
         "fillcolor": "rgb(240, 101, 63)",
         "hoverinfo": "text",
         "hoveron": "fills",
         "line": {
          "color": "black",
          "width": 0
         },
         "mode": "lines",
         "showlegend": false,
         "text": "[40, 43, 46, 92]",
         "type": "scatter",
         "x": {
          "bdata": "VM2eXhQmsb/////////fv1QmLHQ92+2/ViYsdD3b7b8BAAAAAADgv1DNnl4UJrG/WM2eXhQmsb8=",
          "dtype": "f8"
         },
         "xaxis": "x2",
         "y": {
          "bdata": "6y830QxSEkDrLzfRDFITQOsvN9EMUhJA6y830QxSEEDWX26iGaQOQOsvN9EMUhBA6y830QxSEkA=",
          "dtype": "f8"
         },
         "yaxis": "y2"
        },
        {
         "fill": "toself",
         "fillcolor": "rgb(165, 0, 38)",
         "hoverinfo": "text",
         "hoveron": "fills",
         "line": {
          "color": "black",
          "width": 0
         },
         "mode": "lines",
         "showlegend": false,
         "text": "[2, 3, 6]",
         "type": "scatter",
         "x": {
          "bdata": "KxMWup7t9j8AAAAAAADwP6zZ04vCJOI/qtnTi8Ik4j/////////vPysTFrqe7fY/KhMWup7t9j8=",
          "dtype": "f8"
         },
         "xaxis": "x2",
         "y": {
          "bdata": "////////zz8AAAAAAADgPwMAAAAAANA/+///////z78AAAAAAADgv/r//////8+/AAAAAAAA0D8=",
          "dtype": "f8"
         },
         "yaxis": "y2"
        },
        {
         "fill": "toself",
         "fillcolor": "rgb(181, 16, 38)",
         "hoverinfo": "text",
         "hoveron": "fills",
         "line": {
          "color": "black",
          "width": 0
         },
         "mode": "lines",
         "showlegend": false,
         "text": "[9, 50]",
         "type": "scatter",
         "x": {
          "bdata": "ViYsdD3b7T8AAAAAAADgP1zNnl4UJrE/UM2eXhQmsT/+///////fP1YmLHQ92+0/VSYsdD3b7T8=",
          "dtype": "f8"
         },
         "xaxis": "x2",
         "y": {
          "bdata": "VSYsdD3b8T9WJix0Pdv1P1YmLHQ92/E/rExY6Hq24z9WmbDQ9WzXP6xMWOh6tuM/ViYsdD3b8T8=",
          "dtype": "f8"
         },
         "yaxis": "y2"
        },
        {
         "fill": "toself",
         "fillcolor": "rgb(186, 20, 38)",
         "hoverinfo": "text",
         "hoveron": "fills",
         "line": {
          "color": "black",
          "width": 0
         },
         "mode": "lines",
         "showlegend": false,
         "text": "[24, 25, 26]",
         "type": "scatter",
         "x": {
          "bdata": "KxMWup7t9j8AAAAAAADwP6zZ04vCJOI/qtnTi8Ik4j/////////vPysTFrqe7fY/KhMWup7t9j8=",
          "dtype": "f8"
         },
         "xaxis": "x2",
         "y": {
          "bdata": "q0xY6Hq2/z9WJix0PdsBQKxMWOh6tv8/rExY6Hq29z+rTFjoerbzP6xMWOh6tvc/q0xY6Hq2/z8=",
          "dtype": "f8"
         },
         "yaxis": "y2"
        },
        {
         "fill": "toself",
         "fillcolor": "rgb(212, 45, 39)",
         "hoverinfo": "text",
         "hoveron": "fills",
         "line": {
          "color": "black",
          "width": 0
         },
         "mode": "lines",
         "showlegend": false,
         "text": "[53, 79, 82, 84]",
         "type": "scatter",
         "x": {
          "bdata": "ViYsdD3b7T8AAAAAAADgP1zNnl4UJrE/UM2eXhQmsT/+///////fP1YmLHQ92+0/VSYsdD3b7T8=",
          "dtype": "f8"
         },
         "xaxis": "x2",
         "y": {
          "bdata": "gDlCLtzIBkCAOUIu3MgIQIA5Qi7cyAZAgDlCLtzIAkCAOUIu3MgAQIA5Qi7cyAJAgDlCLtzIBkA=",
          "dtype": "f8"
         },
         "yaxis": "y2"
        },
        {
         "fill": "toself",
         "fillcolor": "rgb(216, 51, 40)",
         "hoverinfo": "text",
         "hoveron": "fills",
         "line": {
          "color": "black",
          "width": 0
         },
         "mode": "lines",
         "showlegend": false,
         "text": "[]",
         "type": "scatter",
         "x": {
          "bdata": "KxMWup7t9j8AAAAAAADwP6zZ04vCJOI/qtnTi8Ik4j/////////vPysTFrqe7fY/KhMWup7t9j8=",
          "dtype": "f8"
         },
         "xaxis": "x2",
         "y": {
          "bdata": "q0xY6Hq2DUCrTFjoerYPQKtMWOh6tg1Aq0xY6Hq2CUCrTFjoerYHQKtMWOh6tglAq0xY6Hq2DUA=",
          "dtype": "f8"
         },
         "yaxis": "y2"
        },
        {
         "fill": "toself",
         "fillcolor": "rgb(231, 82, 55)",
         "hoverinfo": "text",
         "hoveron": "fills",
         "line": {
          "color": "black",
          "width": 0
         },
         "mode": "lines",
         "showlegend": false,
         "text": "[42, 44, 45]",
         "type": "scatter",
         "x": {
          "bdata": "ViYsdD3b7T8AAAAAAADgP1zNnl4UJrE/UM2eXhQmsT/+///////fP1YmLHQ92+0/VSYsdD3b7T8=",
          "dtype": "f8"
         },
         "xaxis": "x2",
         "y": {
          "bdata": "6y830QxSEkDrLzfRDFITQOsvN9EMUhJA6y830QxSEEDWX26iGaQOQOsvN9EMUhBA6y830QxSEkA=",
          "dtype": "f8"
         },
         "yaxis": "y2"
        },
        {
         "fill": "toself",
         "fillcolor": "rgb(178, 13, 38)",
         "hoverinfo": "text",
         "hoveron": "fills",
         "line": {
          "color": "black",
          "width": 0
         },
         "mode": "lines",
         "showlegend": false,
         "text": "[]",
         "type": "scatter",
         "x": {
          "bdata": "lQkLXc92A0AAAAAAAAAAQNbs6UVhEvk/1ezpRWES+T8AAAAAAAAAQJYJC13PdgNAlQkLXc92A0A=",
          "dtype": "f8"
         },
         "xaxis": "x2",
         "y": {
          "bdata": "////////zz8AAAAAAADgPwMAAAAAANA/+///////z78AAAAAAADgv/r//////8+/AAAAAAAA0D8=",
          "dtype": "f8"
         },
         "yaxis": "y2"
        },
        {
         "fill": "toself",
         "fillcolor": "rgb(172, 7, 38)",
         "hoverinfo": "text",
         "hoveron": "fills",
         "line": {
          "color": "black",
          "width": 0
         },
         "mode": "lines",
         "showlegend": false,
         "text": "[1, 7, 8, 52]",
         "type": "scatter",
         "x": {
          "bdata": "KxMWup7t/j8AAAAAAAD4P9bs6UVhEvE/1ezpRWES8T8AAAAAAAD4PysTFrqe7f4/KhMWup7t/j8=",
          "dtype": "f8"
         },
         "xaxis": "x2",
         "y": {
          "bdata": "VSYsdD3b8T9WJix0Pdv1P1YmLHQ92/E/rExY6Hq24z9WmbDQ9WzXP6xMWOh6tuM/ViYsdD3b8T8=",
          "dtype": "f8"
         },
         "yaxis": "y2"
        },
        {
         "fill": "toself",
         "fillcolor": "rgb(186, 21, 38)",
         "hoverinfo": "text",
         "hoveron": "fills",
         "line": {
          "color": "black",
          "width": 0
         },
         "mode": "lines",
         "showlegend": false,
         "text": "[57, 81]",
         "type": "scatter",
         "x": {
          "bdata": "lQkLXc92A0AAAAAAAAAAQNbs6UVhEvk/1ezpRWES+T8AAAAAAAAAQJYJC13PdgNAlQkLXc92A0A=",
          "dtype": "f8"
         },
         "xaxis": "x2",
         "y": {
          "bdata": "q0xY6Hq2/z9WJix0PdsBQKxMWOh6tv8/rExY6Hq29z+rTFjoerbzP6xMWOh6tvc/q0xY6Hq2/z8=",
          "dtype": "f8"
         },
         "yaxis": "y2"
        },
        {
         "fill": "toself",
         "fillcolor": "rgb(193, 27, 39)",
         "hoverinfo": "text",
         "hoveron": "fills",
         "line": {
          "color": "black",
          "width": 0
         },
         "mode": "lines",
         "showlegend": false,
         "text": "[80, 88]",
         "type": "scatter",
         "x": {
          "bdata": "KxMWup7t/j8AAAAAAAD4P9bs6UVhEvE/1ezpRWES8T8AAAAAAAD4PysTFrqe7f4/KhMWup7t/j8=",
          "dtype": "f8"
         },
         "xaxis": "x2",
         "y": {
          "bdata": "gDlCLtzIBkCAOUIu3MgIQIA5Qi7cyAZAgDlCLtzIAkCAOUIu3MgAQIA5Qi7cyAJAgDlCLtzIBkA=",
          "dtype": "f8"
         },
         "yaxis": "y2"
        },
        {
         "fill": "toself",
         "fillcolor": "rgb(254, 218, 139)",
         "hoverinfo": "text",
         "hoveron": "fills",
         "line": {
          "color": "black",
          "width": 0
         },
         "mode": "lines",
         "showlegend": false,
         "text": "[]",
         "type": "scatter",
         "x": {
          "bdata": "lQkLXc92A0AAAAAAAAAAQNbs6UVhEvk/1ezpRWES+T8AAAAAAAAAQJYJC13PdgNAlQkLXc92A0A=",
          "dtype": "f8"
         },
         "xaxis": "x2",
         "y": {
          "bdata": "q0xY6Hq2DUCrTFjoerYPQKtMWOh6tg1Aq0xY6Hq2CUCrTFjoerYHQKtMWOh6tglAq0xY6Hq2DUA=",
          "dtype": "f8"
         },
         "yaxis": "y2"
        },
        {
         "fill": "toself",
         "fillcolor": "rgb(254, 227, 148)",
         "hoverinfo": "text",
         "hoveron": "fills",
         "line": {
          "color": "black",
          "width": 0
         },
         "mode": "lines",
         "showlegend": false,
         "text": "[]",
         "type": "scatter",
         "x": {
          "bdata": "KxMWup7t/j8AAAAAAAD4P9bs6UVhEvE/1ezpRWES8T8AAAAAAAD4PysTFrqe7f4/KhMWup7t/j8=",
          "dtype": "f8"
         },
         "xaxis": "x2",
         "y": {
          "bdata": "6y830QxSEkDrLzfRDFITQOsvN9EMUhJA6y830QxSEEDWX26iGaQOQOsvN9EMUhBA6y830QxSEkA=",
          "dtype": "f8"
         },
         "yaxis": "y2"
        },
        {
         "fill": "toself",
         "fillcolor": "rgb(193, 27, 39)",
         "hoverinfo": "text",
         "hoveron": "fills",
         "line": {
          "color": "black",
          "width": 0
         },
         "mode": "lines",
         "showlegend": false,
         "text": "[47, 48, 49, 51]",
         "type": "scatter",
         "x": {
          "bdata": "lQkLXc92C0AAAAAAAAAIQGv29KIwiQRAavb0ojCJBEAAAAAAAAAIQJYJC13PdgtAlQkLXc92C0A=",
          "dtype": "f8"
         },
         "xaxis": "x2",
         "y": {
          "bdata": "////////zz8AAAAAAADgPwMAAAAAANA/+///////z78AAAAAAADgv/r//////8+/AAAAAAAA0D8=",
          "dtype": "f8"
         },
         "yaxis": "y2"
        },
        {
         "fill": "toself",
         "fillcolor": "rgb(197, 31, 39)",
         "hoverinfo": "text",
         "hoveron": "fills",
         "line": {
          "color": "black",
          "width": 0
         },
         "mode": "lines",
         "showlegend": false,
         "text": "[41]",
         "type": "scatter",
         "x": {
          "bdata": "lQkLXc92B0AAAAAAAAAEQGv29KIwiQBAavb0ojCJAEAAAAAAAAAEQJYJC13PdgdAlQkLXc92B0A=",
          "dtype": "f8"
         },
         "xaxis": "x2",
         "y": {
          "bdata": "VSYsdD3b8T9WJix0Pdv1P1YmLHQ92/E/rExY6Hq24z9WmbDQ9WzXP6xMWOh6tuM/ViYsdD3b8T8=",
          "dtype": "f8"
         },
         "yaxis": "y2"
        },
        {
         "fill": "toself",
         "fillcolor": "rgb(209, 42, 39)",
         "hoverinfo": "text",
         "hoveron": "fills",
         "line": {
          "color": "black",
          "width": 0
         },
         "mode": "lines",
         "showlegend": false,
         "text": "[]",
         "type": "scatter",
         "x": {
          "bdata": "lQkLXc92C0AAAAAAAAAIQGv29KIwiQRAavb0ojCJBEAAAAAAAAAIQJYJC13PdgtAlQkLXc92C0A=",
          "dtype": "f8"
         },
         "xaxis": "x2",
         "y": {
          "bdata": "q0xY6Hq2/z9WJix0PdsBQKxMWOh6tv8/rExY6Hq29z+rTFjoerbzP6xMWOh6tvc/q0xY6Hq2/z8=",
          "dtype": "f8"
         },
         "yaxis": "y2"
        },
        {
         "fill": "toself",
         "fillcolor": "rgb(215, 48, 39)",
         "hoverinfo": "text",
         "hoveron": "fills",
         "line": {
          "color": "black",
          "width": 0
         },
         "mode": "lines",
         "showlegend": false,
         "text": "[63]",
         "type": "scatter",
         "x": {
          "bdata": "lQkLXc92B0AAAAAAAAAEQGv29KIwiQBAavb0ojCJAEAAAAAAAAAEQJYJC13PdgdAlQkLXc92B0A=",
          "dtype": "f8"
         },
         "xaxis": "x2",
         "y": {
          "bdata": "gDlCLtzIBkCAOUIu3MgIQIA5Qi7cyAZAgDlCLtzIAkCAOUIu3MgAQIA5Qi7cyAJAgDlCLtzIBkA=",
          "dtype": "f8"
         },
         "yaxis": "y2"
        },
        {
         "fill": "toself",
         "fillcolor": "rgb(254, 219, 139)",
         "hoverinfo": "text",
         "hoveron": "fills",
         "line": {
          "color": "black",
          "width": 0
         },
         "mode": "lines",
         "showlegend": false,
         "text": "[]",
         "type": "scatter",
         "x": {
          "bdata": "lQkLXc92C0AAAAAAAAAIQGv29KIwiQRAavb0ojCJBEAAAAAAAAAIQJYJC13PdgtAlQkLXc92C0A=",
          "dtype": "f8"
         },
         "xaxis": "x2",
         "y": {
          "bdata": "q0xY6Hq2DUCrTFjoerYPQKtMWOh6tg1Aq0xY6Hq2CUCrTFjoerYHQKtMWOh6tglAq0xY6Hq2DUA=",
          "dtype": "f8"
         },
         "yaxis": "y2"
        },
        {
         "fill": "toself",
         "fillcolor": "rgb(49, 54, 149)",
         "hoverinfo": "text",
         "hoveron": "fills",
         "line": {
          "color": "black",
          "width": 0
         },
         "mode": "lines",
         "showlegend": false,
         "text": "[37, 38]",
         "type": "scatter",
         "x": {
          "bdata": "lQkLXc92B0AAAAAAAAAEQGv29KIwiQBAavb0ojCJAEAAAAAAAAAEQJYJC13PdgdAlQkLXc92B0A=",
          "dtype": "f8"
         },
         "xaxis": "x2",
         "y": {
          "bdata": "6y830QxSEkDrLzfRDFITQOsvN9EMUhJA6y830QxSEEDWX26iGaQOQOsvN9EMUhBA6y830QxSEkA=",
          "dtype": "f8"
         },
         "yaxis": "y2"
        },
        {
         "fill": "toself",
         "fillcolor": "rgb(196, 29, 39)",
         "hoverinfo": "text",
         "hoveron": "fills",
         "line": {
          "color": "black",
          "width": 0
         },
         "mode": "lines",
         "showlegend": false,
         "text": "[55]",
         "type": "scatter",
         "x": {
          "bdata": "y4SFrme7EUAAAAAAAAAQQGv29KIwiQxAavb0ojCJDEAAAAAAAAAQQMuEha5nuxFAy4SFrme7EUA=",
          "dtype": "f8"
         },
         "xaxis": "x2",
         "y": {
          "bdata": "////////zz8AAAAAAADgPwMAAAAAANA/+///////z78AAAAAAADgv/r//////8+/AAAAAAAA0D8=",
          "dtype": "f8"
         },
         "yaxis": "y2"
        },
        {
         "fill": "toself",
         "fillcolor": "rgb(211, 44, 39)",
         "hoverinfo": "text",
         "hoveron": "fills",
         "line": {
          "color": "black",
          "width": 0
         },
         "mode": "lines",
         "showlegend": false,
         "text": "[15, 16, 17, 18, 19, 20]",
         "type": "scatter",
         "x": {
          "bdata": "lQkLXc92D0AAAAAAAAAMQGv29KIwiQhAavb0ojCJCEAAAAAAAAAMQJYJC13Pdg9AlQkLXc92D0A=",
          "dtype": "f8"
         },
         "xaxis": "x2",
         "y": {
          "bdata": "VSYsdD3b8T9WJix0Pdv1P1YmLHQ92/E/rExY6Hq24z9WmbDQ9WzXP6xMWOh6tuM/ViYsdD3b8T8=",
          "dtype": "f8"
         },
         "yaxis": "y2"
        },
        {
         "fill": "toself",
         "fillcolor": "rgb(197, 30, 39)",
         "hoverinfo": "text",
         "hoveron": "fills",
         "line": {
          "color": "black",
          "width": 0
         },
         "mode": "lines",
         "showlegend": false,
         "text": "[23, 78, 90]",
         "type": "scatter",
         "x": {
          "bdata": "y4SFrme7EUAAAAAAAAAQQGv29KIwiQxAavb0ojCJDEAAAAAAAAAQQMuEha5nuxFAy4SFrme7EUA=",
          "dtype": "f8"
         },
         "xaxis": "x2",
         "y": {
          "bdata": "q0xY6Hq2/z9WJix0PdsBQKxMWOh6tv8/rExY6Hq29z+rTFjoerbzP6xMWOh6tvc/q0xY6Hq2/z8=",
          "dtype": "f8"
         },
         "yaxis": "y2"
        },
        {
         "fill": "toself",
         "fillcolor": "rgb(224, 67, 47)",
         "hoverinfo": "text",
         "hoveron": "fills",
         "line": {
          "color": "black",
          "width": 0
         },
         "mode": "lines",
         "showlegend": false,
         "text": "[27, 29, 36]",
         "type": "scatter",
         "x": {
          "bdata": "lQkLXc92D0AAAAAAAAAMQGv29KIwiQhAavb0ojCJCEAAAAAAAAAMQJYJC13Pdg9AlQkLXc92D0A=",
          "dtype": "f8"
         },
         "xaxis": "x2",
         "y": {
          "bdata": "gDlCLtzIBkCAOUIu3MgIQIA5Qi7cyAZAgDlCLtzIAkCAOUIu3MgAQIA5Qi7cyAJAgDlCLtzIBkA=",
          "dtype": "f8"
         },
         "yaxis": "y2"
        },
        {
         "fill": "toself",
         "fillcolor": "rgb(229, 77, 52)",
         "hoverinfo": "text",
         "hoveron": "fills",
         "line": {
          "color": "black",
          "width": 0
         },
         "mode": "lines",
         "showlegend": false,
         "text": "[64]",
         "type": "scatter",
         "x": {
          "bdata": "y4SFrme7EUAAAAAAAAAQQGv29KIwiQxAavb0ojCJDEAAAAAAAAAQQMuEha5nuxFAy4SFrme7EUA=",
          "dtype": "f8"
         },
         "xaxis": "x2",
         "y": {
          "bdata": "q0xY6Hq2DUCrTFjoerYPQKtMWOh6tg1Aq0xY6Hq2CUCrTFjoerYHQKtMWOh6tglAq0xY6Hq2DUA=",
          "dtype": "f8"
         },
         "yaxis": "y2"
        },
        {
         "fill": "toself",
         "fillcolor": "rgb(247, 252, 206)",
         "hoverinfo": "text",
         "hoveron": "fills",
         "line": {
          "color": "black",
          "width": 0
         },
         "mode": "lines",
         "showlegend": false,
         "text": "[]",
         "type": "scatter",
         "x": {
          "bdata": "lQkLXc92D0AAAAAAAAAMQGv29KIwiQhAavb0ojCJCEAAAAAAAAAMQJYJC13Pdg9AlQkLXc92D0A=",
          "dtype": "f8"
         },
         "xaxis": "x2",
         "y": {
          "bdata": "6y830QxSEkDrLzfRDFITQOsvN9EMUhJA6y830QxSEEDWX26iGaQOQOsvN9EMUhBA6y830QxSEkA=",
          "dtype": "f8"
         },
         "yaxis": "y2"
        },
        {
         "fill": "toself",
         "fillcolor": "rgb(189, 23, 38)",
         "hoverinfo": "text",
         "hoveron": "fills",
         "line": {
          "color": "black",
          "width": 0
         },
         "mode": "lines",
         "showlegend": false,
         "text": "[95, 97]",
         "type": "scatter",
         "x": {
          "bdata": "y4SFrme7FUAAAAAAAAAUQDV7elGYRBJANXt6UZhEEkAAAAAAAAAUQMuEha5nuxVAy4SFrme7FUA=",
          "dtype": "f8"
         },
         "xaxis": "x2",
         "y": {
          "bdata": "////////zz8AAAAAAADgPwMAAAAAANA/+///////z78AAAAAAADgv/r//////8+/AAAAAAAA0D8=",
          "dtype": "f8"
         },
         "yaxis": "y2"
        },
        {
         "fill": "toself",
         "fillcolor": "rgb(213, 46, 39)",
         "hoverinfo": "text",
         "hoveron": "fills",
         "line": {
          "color": "black",
          "width": 0
         },
         "mode": "lines",
         "showlegend": false,
         "text": "[94]",
         "type": "scatter",
         "x": {
          "bdata": "y4SFrme7E0AAAAAAAAASQDV7elGYRBBANXt6UZhEEEAAAAAAAAASQMuEha5nuxNAy4SFrme7E0A=",
          "dtype": "f8"
         },
         "xaxis": "x2",
         "y": {
          "bdata": "VSYsdD3b8T9WJix0Pdv1P1YmLHQ92/E/rExY6Hq24z9WmbDQ9WzXP6xMWOh6tuM/ViYsdD3b8T8=",
          "dtype": "f8"
         },
         "yaxis": "y2"
        },
        {
         "fill": "toself",
         "fillcolor": "rgb(222, 62, 46)",
         "hoverinfo": "text",
         "hoveron": "fills",
         "line": {
          "color": "black",
          "width": 0
         },
         "mode": "lines",
         "showlegend": false,
         "text": "[33, 34]",
         "type": "scatter",
         "x": {
          "bdata": "y4SFrme7FUAAAAAAAAAUQDV7elGYRBJANXt6UZhEEkAAAAAAAAAUQMuEha5nuxVAy4SFrme7FUA=",
          "dtype": "f8"
         },
         "xaxis": "x2",
         "y": {
          "bdata": "q0xY6Hq2/z9WJix0PdsBQKxMWOh6tv8/rExY6Hq29z+rTFjoerbzP6xMWOh6tvc/q0xY6Hq2/z8=",
          "dtype": "f8"
         },
         "yaxis": "y2"
        },
        {
         "fill": "toself",
         "fillcolor": "rgb(213, 46, 39)",
         "hoverinfo": "text",
         "hoveron": "fills",
         "line": {
          "color": "black",
          "width": 0
         },
         "mode": "lines",
         "showlegend": false,
         "text": "[28]",
         "type": "scatter",
         "x": {
          "bdata": "y4SFrme7E0AAAAAAAAASQDV7elGYRBBANXt6UZhEEEAAAAAAAAASQMuEha5nuxNAy4SFrme7E0A=",
          "dtype": "f8"
         },
         "xaxis": "x2",
         "y": {
          "bdata": "gDlCLtzIBkCAOUIu3MgIQIA5Qi7cyAZAgDlCLtzIAkCAOUIu3MgAQIA5Qi7cyAJAgDlCLtzIBkA=",
          "dtype": "f8"
         },
         "yaxis": "y2"
        },
        {
         "fill": "toself",
         "fillcolor": "rgb(225, 70, 49)",
         "hoverinfo": "text",
         "hoveron": "fills",
         "line": {
          "color": "black",
          "width": 0
         },
         "mode": "lines",
         "showlegend": false,
         "text": "[]",
         "type": "scatter",
         "x": {
          "bdata": "y4SFrme7FUAAAAAAAAAUQDV7elGYRBJANXt6UZhEEkAAAAAAAAAUQMuEha5nuxVAy4SFrme7FUA=",
          "dtype": "f8"
         },
         "xaxis": "x2",
         "y": {
          "bdata": "q0xY6Hq2DUCrTFjoerYPQKtMWOh6tg1Aq0xY6Hq2CUCrTFjoerYHQKtMWOh6tglAq0xY6Hq2DUA=",
          "dtype": "f8"
         },
         "yaxis": "y2"
        },
        {
         "fill": "toself",
         "fillcolor": "rgb(228, 75, 51)",
         "hoverinfo": "text",
         "hoveron": "fills",
         "line": {
          "color": "black",
          "width": 0
         },
         "mode": "lines",
         "showlegend": false,
         "text": "[]",
         "type": "scatter",
         "x": {
          "bdata": "y4SFrme7E0AAAAAAAAASQDV7elGYRBBANXt6UZhEEEAAAAAAAAASQMuEha5nuxNAy4SFrme7E0A=",
          "dtype": "f8"
         },
         "xaxis": "x2",
         "y": {
          "bdata": "6y830QxSEkDrLzfRDFITQOsvN9EMUhJA6y830QxSEEDWX26iGaQOQOsvN9EMUhBA6y830QxSEkA=",
          "dtype": "f8"
         },
         "yaxis": "y2"
        },
        {
         "fill": "toself",
         "fillcolor": "rgb(217, 52, 41)",
         "hoverinfo": "text",
         "hoveron": "fills",
         "line": {
          "color": "black",
          "width": 0
         },
         "mode": "lines",
         "showlegend": false,
         "text": "[54]",
         "type": "scatter",
         "x": {
          "bdata": "y4SFrme7GUAAAAAAAAAYQDV7elGYRBZANXt6UZhEFkAAAAAAAAAYQMuEha5nuxlAy4SFrme7GUA=",
          "dtype": "f8"
         },
         "xaxis": "x2",
         "y": {
          "bdata": "////////zz8AAAAAAADgPwMAAAAAANA/+///////z78AAAAAAADgv/r//////8+/AAAAAAAA0D8=",
          "dtype": "f8"
         },
         "yaxis": "y2"
        },
        {
         "fill": "toself",
         "fillcolor": "rgb(229, 78, 53)",
         "hoverinfo": "text",
         "hoveron": "fills",
         "line": {
          "color": "black",
          "width": 0
         },
         "mode": "lines",
         "showlegend": false,
         "text": "[96]",
         "type": "scatter",
         "x": {
          "bdata": "y4SFrme7F0AAAAAAAAAWQDV7elGYRBRANXt6UZhEFEAAAAAAAAAWQMuEha5nuxdAy4SFrme7F0A=",
          "dtype": "f8"
         },
         "xaxis": "x2",
         "y": {
          "bdata": "VSYsdD3b8T9WJix0Pdv1P1YmLHQ92/E/rExY6Hq24z9WmbDQ9WzXP6xMWOh6tuM/ViYsdD3b8T8=",
          "dtype": "f8"
         },
         "yaxis": "y2"
        },
        {
         "fill": "toself",
         "fillcolor": "rgb(244, 110, 68)",
         "hoverinfo": "text",
         "hoveron": "fills",
         "line": {
          "color": "black",
          "width": 0
         },
         "mode": "lines",
         "showlegend": false,
         "text": "[32, 56]",
         "type": "scatter",
         "x": {
          "bdata": "y4SFrme7GUAAAAAAAAAYQDV7elGYRBZANXt6UZhEFkAAAAAAAAAYQMuEha5nuxlAy4SFrme7GUA=",
          "dtype": "f8"
         },
         "xaxis": "x2",
         "y": {
          "bdata": "q0xY6Hq2/z9WJix0PdsBQKxMWOh6tv8/rExY6Hq29z+rTFjoerbzP6xMWOh6tvc/q0xY6Hq2/z8=",
          "dtype": "f8"
         },
         "yaxis": "y2"
        },
        {
         "fill": "toself",
         "fillcolor": "rgb(231, 82, 55)",
         "hoverinfo": "text",
         "hoveron": "fills",
         "line": {
          "color": "black",
          "width": 0
         },
         "mode": "lines",
         "showlegend": false,
         "text": "[58]",
         "type": "scatter",
         "x": {
          "bdata": "y4SFrme7F0AAAAAAAAAWQDV7elGYRBRANXt6UZhEFEAAAAAAAAAWQMuEha5nuxdAy4SFrme7F0A=",
          "dtype": "f8"
         },
         "xaxis": "x2",
         "y": {
          "bdata": "gDlCLtzIBkCAOUIu3MgIQIA5Qi7cyAZAgDlCLtzIAkCAOUIu3MgAQIA5Qi7cyAJAgDlCLtzIBkA=",
          "dtype": "f8"
         },
         "yaxis": "y2"
        },
        {
         "fill": "toself",
         "fillcolor": "rgb(235, 90, 58)",
         "hoverinfo": "text",
         "hoveron": "fills",
         "line": {
          "color": "black",
          "width": 0
         },
         "mode": "lines",
         "showlegend": false,
         "text": "[13]",
         "type": "scatter",
         "x": {
          "bdata": "y4SFrme7GUAAAAAAAAAYQDV7elGYRBZANXt6UZhEFkAAAAAAAAAYQMuEha5nuxlAy4SFrme7GUA=",
          "dtype": "f8"
         },
         "xaxis": "x2",
         "y": {
          "bdata": "q0xY6Hq2DUCrTFjoerYPQKtMWOh6tg1Aq0xY6Hq2CUCrTFjoerYHQKtMWOh6tglAq0xY6Hq2DUA=",
          "dtype": "f8"
         },
         "yaxis": "y2"
        },
        {
         "fill": "toself",
         "fillcolor": "rgb(228, 74, 51)",
         "hoverinfo": "text",
         "hoveron": "fills",
         "line": {
          "color": "black",
          "width": 0
         },
         "mode": "lines",
         "showlegend": false,
         "text": "[11, 12, 14, 67, 68, 69]",
         "type": "scatter",
         "x": {
          "bdata": "y4SFrme7F0AAAAAAAAAWQDV7elGYRBRANXt6UZhEFEAAAAAAAAAWQMuEha5nuxdAy4SFrme7F0A=",
          "dtype": "f8"
         },
         "xaxis": "x2",
         "y": {
          "bdata": "6y830QxSEkDrLzfRDFITQOsvN9EMUhJA6y830QxSEEDWX26iGaQOQOsvN9EMUhBA6y830QxSEkA=",
          "dtype": "f8"
         },
         "yaxis": "y2"
        },
        {
         "fill": "toself",
         "fillcolor": "rgb(218, 54, 42)",
         "hoverinfo": "text",
         "hoveron": "fills",
         "line": {
          "color": "black",
          "width": 0
         },
         "mode": "lines",
         "showlegend": false,
         "text": "[71]",
         "type": "scatter",
         "x": {
          "bdata": "y4SFrme7HUAAAAAAAAAcQDV7elGYRBpANXt6UZhEGkAAAAAAAAAcQMuEha5nux1Ay4SFrme7HUA=",
          "dtype": "f8"
         },
         "xaxis": "x2",
         "y": {
          "bdata": "////////zz8AAAAAAADgPwMAAAAAANA/+///////z78AAAAAAADgv/r//////8+/AAAAAAAA0D8=",
          "dtype": "f8"
         },
         "yaxis": "y2"
        },
        {
         "fill": "toself",
         "fillcolor": "rgb(245, 116, 70)",
         "hoverinfo": "text",
         "hoveron": "fills",
         "line": {
          "color": "black",
          "width": 0
         },
         "mode": "lines",
         "showlegend": false,
         "text": "[98]",
         "type": "scatter",
         "x": {
          "bdata": "y4SFrme7G0AAAAAAAAAaQDV7elGYRBhANXt6UZhEGEAAAAAAAAAaQMuEha5nuxtAy4SFrme7G0A=",
          "dtype": "f8"
         },
         "xaxis": "x2",
         "y": {
          "bdata": "VSYsdD3b8T9WJix0Pdv1P1YmLHQ92/E/rExY6Hq24z9WmbDQ9WzXP6xMWOh6tuM/ViYsdD3b8T8=",
          "dtype": "f8"
         },
         "yaxis": "y2"
        },
        {
         "fill": "toself",
         "fillcolor": "rgb(249, 143, 83)",
         "hoverinfo": "text",
         "hoveron": "fills",
         "line": {
          "color": "black",
          "width": 0
         },
         "mode": "lines",
         "showlegend": false,
         "text": "[99, 100, 101]",
         "type": "scatter",
         "x": {
          "bdata": "y4SFrme7HUAAAAAAAAAcQDV7elGYRBpANXt6UZhEGkAAAAAAAAAcQMuEha5nux1Ay4SFrme7HUA=",
          "dtype": "f8"
         },
         "xaxis": "x2",
         "y": {
          "bdata": "q0xY6Hq2/z9WJix0PdsBQKxMWOh6tv8/rExY6Hq29z+rTFjoerbzP6xMWOh6tvc/q0xY6Hq2/z8=",
          "dtype": "f8"
         },
         "yaxis": "y2"
        },
        {
         "fill": "toself",
         "fillcolor": "rgb(246, 123, 73)",
         "hoverinfo": "text",
         "hoveron": "fills",
         "line": {
          "color": "black",
          "width": 0
         },
         "mode": "lines",
         "showlegend": false,
         "text": "[30, 35]",
         "type": "scatter",
         "x": {
          "bdata": "y4SFrme7G0AAAAAAAAAaQDV7elGYRBhANXt6UZhEGEAAAAAAAAAaQMuEha5nuxtAy4SFrme7G0A=",
          "dtype": "f8"
         },
         "xaxis": "x2",
         "y": {
          "bdata": "gDlCLtzIBkCAOUIu3MgIQIA5Qi7cyAZAgDlCLtzIAkCAOUIu3MgAQIA5Qi7cyAJAgDlCLtzIBkA=",
          "dtype": "f8"
         },
         "yaxis": "y2"
        },
        {
         "fill": "toself",
         "fillcolor": "rgb(249, 145, 84)",
         "hoverinfo": "text",
         "hoveron": "fills",
         "line": {
          "color": "black",
          "width": 0
         },
         "mode": "lines",
         "showlegend": false,
         "text": "[]",
         "type": "scatter",
         "x": {
          "bdata": "y4SFrme7HUAAAAAAAAAcQDV7elGYRBpANXt6UZhEGkAAAAAAAAAcQMuEha5nux1Ay4SFrme7HUA=",
          "dtype": "f8"
         },
         "xaxis": "x2",
         "y": {
          "bdata": "q0xY6Hq2DUCrTFjoerYPQKtMWOh6tg1Aq0xY6Hq2CUCrTFjoerYHQKtMWOh6tglAq0xY6Hq2DUA=",
          "dtype": "f8"
         },
         "yaxis": "y2"
        },
        {
         "fill": "toself",
         "fillcolor": "rgb(238, 96, 61)",
         "hoverinfo": "text",
         "hoveron": "fills",
         "line": {
          "color": "black",
          "width": 0
         },
         "mode": "lines",
         "showlegend": false,
         "text": "[66, 86, 91, 93]",
         "type": "scatter",
         "x": {
          "bdata": "y4SFrme7G0AAAAAAAAAaQDV7elGYRBhANXt6UZhEGEAAAAAAAAAaQMuEha5nuxtAy4SFrme7G0A=",
          "dtype": "f8"
         },
         "xaxis": "x2",
         "y": {
          "bdata": "6y830QxSEkDrLzfRDFITQOsvN9EMUhJA6y830QxSEEDWX26iGaQOQOsvN9EMUhBA6y830QxSEkA=",
          "dtype": "f8"
         },
         "yaxis": "y2"
        },
        {
         "fill": "toself",
         "fillcolor": "rgb(209, 43, 39)",
         "hoverinfo": "text",
         "hoveron": "fills",
         "line": {
          "color": "black",
          "width": 0
         },
         "mode": "lines",
         "showlegend": false,
         "text": "[70, 72, 73, 74, 76]",
         "type": "scatter",
         "x": {
          "bdata": "ZcJC17PdIEAAAAAAAAAgQDV7elGYRB5ANXt6UZhEHkAAAAAAAAAgQGXCQtez3SBAZcJC17PdIEA=",
          "dtype": "f8"
         },
         "xaxis": "x2",
         "y": {
          "bdata": "////////zz8AAAAAAADgPwMAAAAAANA/+///////z78AAAAAAADgv/r//////8+/AAAAAAAA0D8=",
          "dtype": "f8"
         },
         "yaxis": "y2"
        },
        {
         "fill": "toself",
         "fillcolor": "rgb(230, 79, 53)",
         "hoverinfo": "text",
         "hoveron": "fills",
         "line": {
          "color": "black",
          "width": 0
         },
         "mode": "lines",
         "showlegend": false,
         "text": "[75, 77]",
         "type": "scatter",
         "x": {
          "bdata": "y4SFrme7H0AAAAAAAAAeQDV7elGYRBxANXt6UZhEHEAAAAAAAAAeQMuEha5nux9Ay4SFrme7H0A=",
          "dtype": "f8"
         },
         "xaxis": "x2",
         "y": {
          "bdata": "VSYsdD3b8T9WJix0Pdv1P1YmLHQ92/E/rExY6Hq24z9WmbDQ9WzXP6xMWOh6tuM/ViYsdD3b8T8=",
          "dtype": "f8"
         },
         "yaxis": "y2"
        },
        {
         "fill": "toself",
         "fillcolor": "rgb(246, 126, 75)",
         "hoverinfo": "text",
         "hoveron": "fills",
         "line": {
          "color": "black",
          "width": 0
         },
         "mode": "lines",
         "showlegend": false,
         "text": "[]",
         "type": "scatter",
         "x": {
          "bdata": "ZcJC17PdIEAAAAAAAAAgQDV7elGYRB5ANXt6UZhEHkAAAAAAAAAgQGXCQtez3SBAZcJC17PdIEA=",
          "dtype": "f8"
         },
         "xaxis": "x2",
         "y": {
          "bdata": "q0xY6Hq2/z9WJix0PdsBQKxMWOh6tv8/rExY6Hq29z+rTFjoerbzP6xMWOh6tvc/q0xY6Hq2/z8=",
          "dtype": "f8"
         },
         "yaxis": "y2"
        },
        {
         "fill": "toself",
         "fillcolor": "rgb(253, 178, 101)",
         "hoverinfo": "text",
         "hoveron": "fills",
         "line": {
          "color": "black",
          "width": 0
         },
         "mode": "lines",
         "showlegend": false,
         "text": "[31, 39]",
         "type": "scatter",
         "x": {
          "bdata": "y4SFrme7H0AAAAAAAAAeQDV7elGYRBxANXt6UZhEHEAAAAAAAAAeQMuEha5nux9Ay4SFrme7H0A=",
          "dtype": "f8"
         },
         "xaxis": "x2",
         "y": {
          "bdata": "gDlCLtzIBkCAOUIu3MgIQIA5Qi7cyAZAgDlCLtzIAkCAOUIu3MgAQIA5Qi7cyAJAgDlCLtzIBkA=",
          "dtype": "f8"
         },
         "yaxis": "y2"
        },
        {
         "fill": "toself",
         "fillcolor": "rgb(254, 214, 135)",
         "hoverinfo": "text",
         "hoveron": "fills",
         "line": {
          "color": "black",
          "width": 0
         },
         "mode": "lines",
         "showlegend": false,
         "text": "[59, 60, 61, 62]",
         "type": "scatter",
         "x": {
          "bdata": "ZcJC17PdIEAAAAAAAAAgQDV7elGYRB5ANXt6UZhEHkAAAAAAAAAgQGXCQtez3SBAZcJC17PdIEA=",
          "dtype": "f8"
         },
         "xaxis": "x2",
         "y": {
          "bdata": "q0xY6Hq2DUCrTFjoerYPQKtMWOh6tg1Aq0xY6Hq2CUCrTFjoerYHQKtMWOh6tglAq0xY6Hq2DUA=",
          "dtype": "f8"
         },
         "yaxis": "y2"
        },
        {
         "fill": "toself",
         "fillcolor": "rgb(249, 148, 85)",
         "hoverinfo": "text",
         "hoveron": "fills",
         "line": {
          "color": "black",
          "width": 0
         },
         "mode": "lines",
         "showlegend": false,
         "text": "[10, 65]",
         "type": "scatter",
         "x": {
          "bdata": "y4SFrme7H0AAAAAAAAAeQDV7elGYRBxANXt6UZhEHEAAAAAAAAAeQMuEha5nux9Ay4SFrme7H0A=",
          "dtype": "f8"
         },
         "xaxis": "x2",
         "y": {
          "bdata": "6y830QxSEkDrLzfRDFITQOsvN9EMUhJA6y830QxSEEDWX26iGaQOQOsvN9EMUhBA6y830QxSEkA=",
          "dtype": "f8"
         },
         "yaxis": "y2"
        },
        {
         "marker": {
          "color": [
           0.0347536620172885,
           0.9691592708172247
          ],
          "colorbar": {
           "len": 0.1,
           "thickness": 20,
           "x": 0.9,
           "y": 0.9
          },
          "colorscale": [
           [
            0,
            "rgb(165,0,38)"
           ],
           [
            0.1,
            "rgb(215,48,39)"
           ],
           [
            0.2,
            "rgb(244,109,67)"
           ],
           [
            0.3,
            "rgb(253,174,97)"
           ],
           [
            0.4,
            "rgb(254,224,144)"
           ],
           [
            0.5,
            "rgb(255,255,191)"
           ],
           [
            0.6,
            "rgb(224,243,248)"
           ],
           [
            0.7,
            "rgb(171,217,233)"
           ],
           [
            0.8,
            "rgb(116,173,209)"
           ],
           [
            0.9,
            "rgb(69,117,180)"
           ],
           [
            1,
            "rgb(49,54,149)"
           ]
          ],
          "size": 0.001
         },
         "showlegend": false,
         "type": "scatter",
         "x": [
          0,
          0
         ],
         "xaxis": "x2",
         "y": [
          0,
          0
         ],
         "yaxis": "y2"
        },
        {
         "fill": "toself",
         "fillcolor": "rgb(191, 25, 39)",
         "hoverinfo": "text",
         "hoveron": "fills",
         "line": {
          "color": "black",
          "width": 0
         },
         "mode": "lines",
         "showlegend": false,
         "text": "[5]",
         "type": "scatter",
         "x": {
          "bdata": "q0xY6Hq22z8HXBQzJqaBPKlMWOh6ttu/rExY6Hq2278Kip5MOXmavKxMWOh6tts/qkxY6Hq22z8=",
          "dtype": "f8"
         },
         "xaxis": "x3",
         "y": {
          "bdata": "////////zz8AAAAAAADgPwMAAAAAANA/+///////z78AAAAAAADgv/r//////8+/AAAAAAAA0D8=",
          "dtype": "f8"
         },
         "yaxis": "y3"
        },
        {
         "fill": "toself",
         "fillcolor": "rgb(205, 38, 39)",
         "hoverinfo": "text",
         "hoveron": "fills",
         "line": {
          "color": "black",
          "width": 0
         },
         "mode": "lines",
         "showlegend": false,
         "text": "[0, 4]",
         "type": "scatter",
         "x": {
          "bdata": "VM2eXhQmsb/////////fv1QmLHQ92+2/ViYsdD3b7b8BAAAAAADgv1DNnl4UJrG/WM2eXhQmsb8=",
          "dtype": "f8"
         },
         "xaxis": "x3",
         "y": {
          "bdata": "VSYsdD3b8T9WJix0Pdv1P1YmLHQ92/E/rExY6Hq24z9WmbDQ9WzXP6xMWOh6tuM/ViYsdD3b8T8=",
          "dtype": "f8"
         },
         "yaxis": "y3"
        },
        {
         "fill": "toself",
         "fillcolor": "rgb(230, 80, 54)",
         "hoverinfo": "text",
         "hoveron": "fills",
         "line": {
          "color": "black",
          "width": 0
         },
         "mode": "lines",
         "showlegend": false,
         "text": "[21, 22]",
         "type": "scatter",
         "x": {
          "bdata": "q0xY6Hq22z8HXBQzJqaBPKlMWOh6ttu/rExY6Hq2278Kip5MOXmavKxMWOh6tts/qkxY6Hq22z8=",
          "dtype": "f8"
         },
         "xaxis": "x3",
         "y": {
          "bdata": "q0xY6Hq2/z9WJix0PdsBQKxMWOh6tv8/rExY6Hq29z+rTFjoerbzP6xMWOh6tvc/q0xY6Hq2/z8=",
          "dtype": "f8"
         },
         "yaxis": "y3"
        },
        {
         "fill": "toself",
         "fillcolor": "rgb(246, 125, 75)",
         "hoverinfo": "text",
         "hoveron": "fills",
         "line": {
          "color": "black",
          "width": 0
         },
         "mode": "lines",
         "showlegend": false,
         "text": "[83, 85, 87, 89]",
         "type": "scatter",
         "x": {
          "bdata": "VM2eXhQmsb/////////fv1QmLHQ92+2/ViYsdD3b7b8BAAAAAADgv1DNnl4UJrG/WM2eXhQmsb8=",
          "dtype": "f8"
         },
         "xaxis": "x3",
         "y": {
          "bdata": "gDlCLtzIBkCAOUIu3MgIQIA5Qi7cyAZAgDlCLtzIAkCAOUIu3MgAQIA5Qi7cyAJAgDlCLtzIBkA=",
          "dtype": "f8"
         },
         "yaxis": "y3"
        },
        {
         "fill": "toself",
         "fillcolor": "rgb(253, 182, 104)",
         "hoverinfo": "text",
         "hoveron": "fills",
         "line": {
          "color": "black",
          "width": 0
         },
         "mode": "lines",
         "showlegend": false,
         "text": "[]",
         "type": "scatter",
         "x": {
          "bdata": "q0xY6Hq22z8HXBQzJqaBPKlMWOh6ttu/rExY6Hq2278Kip5MOXmavKxMWOh6tts/qkxY6Hq22z8=",
          "dtype": "f8"
         },
         "xaxis": "x3",
         "y": {
          "bdata": "q0xY6Hq2DUCrTFjoerYPQKtMWOh6tg1Aq0xY6Hq2CUCrTFjoerYHQKtMWOh6tglAq0xY6Hq2DUA=",
          "dtype": "f8"
         },
         "yaxis": "y3"
        },
        {
         "fill": "toself",
         "fillcolor": "rgb(255, 252, 187)",
         "hoverinfo": "text",
         "hoveron": "fills",
         "line": {
          "color": "black",
          "width": 0
         },
         "mode": "lines",
         "showlegend": false,
         "text": "[40, 43, 46, 92]",
         "type": "scatter",
         "x": {
          "bdata": "VM2eXhQmsb/////////fv1QmLHQ92+2/ViYsdD3b7b8BAAAAAADgv1DNnl4UJrG/WM2eXhQmsb8=",
          "dtype": "f8"
         },
         "xaxis": "x3",
         "y": {
          "bdata": "6y830QxSEkDrLzfRDFITQOsvN9EMUhJA6y830QxSEEDWX26iGaQOQOsvN9EMUhBA6y830QxSEkA=",
          "dtype": "f8"
         },
         "yaxis": "y3"
        },
        {
         "fill": "toself",
         "fillcolor": "rgb(199, 33, 39)",
         "hoverinfo": "text",
         "hoveron": "fills",
         "line": {
          "color": "black",
          "width": 0
         },
         "mode": "lines",
         "showlegend": false,
         "text": "[2, 3, 6]",
         "type": "scatter",
         "x": {
          "bdata": "KxMWup7t9j8AAAAAAADwP6zZ04vCJOI/qtnTi8Ik4j/////////vPysTFrqe7fY/KhMWup7t9j8=",
          "dtype": "f8"
         },
         "xaxis": "x3",
         "y": {
          "bdata": "////////zz8AAAAAAADgPwMAAAAAANA/+///////z78AAAAAAADgv/r//////8+/AAAAAAAA0D8=",
          "dtype": "f8"
         },
         "yaxis": "y3"
        },
        {
         "fill": "toself",
         "fillcolor": "rgb(197, 31, 39)",
         "hoverinfo": "text",
         "hoveron": "fills",
         "line": {
          "color": "black",
          "width": 0
         },
         "mode": "lines",
         "showlegend": false,
         "text": "[9, 50]",
         "type": "scatter",
         "x": {
          "bdata": "ViYsdD3b7T8AAAAAAADgP1zNnl4UJrE/UM2eXhQmsT/+///////fP1YmLHQ92+0/VSYsdD3b7T8=",
          "dtype": "f8"
         },
         "xaxis": "x3",
         "y": {
          "bdata": "VSYsdD3b8T9WJix0Pdv1P1YmLHQ92/E/rExY6Hq24z9WmbDQ9WzXP6xMWOh6tuM/ViYsdD3b8T8=",
          "dtype": "f8"
         },
         "yaxis": "y3"
        },
        {
         "fill": "toself",
         "fillcolor": "rgb(223, 65, 47)",
         "hoverinfo": "text",
         "hoveron": "fills",
         "line": {
          "color": "black",
          "width": 0
         },
         "mode": "lines",
         "showlegend": false,
         "text": "[24, 25, 26]",
         "type": "scatter",
         "x": {
          "bdata": "KxMWup7t9j8AAAAAAADwP6zZ04vCJOI/qtnTi8Ik4j/////////vPysTFrqe7fY/KhMWup7t9j8=",
          "dtype": "f8"
         },
         "xaxis": "x3",
         "y": {
          "bdata": "q0xY6Hq2/z9WJix0PdsBQKxMWOh6tv8/rExY6Hq29z+rTFjoerbzP6xMWOh6tvc/q0xY6Hq2/z8=",
          "dtype": "f8"
         },
         "yaxis": "y3"
        },
        {
         "fill": "toself",
         "fillcolor": "rgb(248, 140, 81)",
         "hoverinfo": "text",
         "hoveron": "fills",
         "line": {
          "color": "black",
          "width": 0
         },
         "mode": "lines",
         "showlegend": false,
         "text": "[53, 79, 82, 84]",
         "type": "scatter",
         "x": {
          "bdata": "ViYsdD3b7T8AAAAAAADgP1zNnl4UJrE/UM2eXhQmsT/+///////fP1YmLHQ92+0/VSYsdD3b7T8=",
          "dtype": "f8"
         },
         "xaxis": "x3",
         "y": {
          "bdata": "gDlCLtzIBkCAOUIu3MgIQIA5Qi7cyAZAgDlCLtzIAkCAOUIu3MgAQIA5Qi7cyAJAgDlCLtzIBkA=",
          "dtype": "f8"
         },
         "yaxis": "y3"
        },
        {
         "fill": "toself",
         "fillcolor": "rgb(250, 150, 86)",
         "hoverinfo": "text",
         "hoveron": "fills",
         "line": {
          "color": "black",
          "width": 0
         },
         "mode": "lines",
         "showlegend": false,
         "text": "[]",
         "type": "scatter",
         "x": {
          "bdata": "KxMWup7t9j8AAAAAAADwP6zZ04vCJOI/qtnTi8Ik4j/////////vPysTFrqe7fY/KhMWup7t9j8=",
          "dtype": "f8"
         },
         "xaxis": "x3",
         "y": {
          "bdata": "q0xY6Hq2DUCrTFjoerYPQKtMWOh6tg1Aq0xY6Hq2CUCrTFjoerYHQKtMWOh6tglAq0xY6Hq2DUA=",
          "dtype": "f8"
         },
         "yaxis": "y3"
        },
        {
         "fill": "toself",
         "fillcolor": "rgb(253, 179, 101)",
         "hoverinfo": "text",
         "hoveron": "fills",
         "line": {
          "color": "black",
          "width": 0
         },
         "mode": "lines",
         "showlegend": false,
         "text": "[42, 44, 45]",
         "type": "scatter",
         "x": {
          "bdata": "ViYsdD3b7T8AAAAAAADgP1zNnl4UJrE/UM2eXhQmsT/+///////fP1YmLHQ92+0/VSYsdD3b7T8=",
          "dtype": "f8"
         },
         "xaxis": "x3",
         "y": {
          "bdata": "6y830QxSEkDrLzfRDFITQOsvN9EMUhJA6y830QxSEEDWX26iGaQOQOsvN9EMUhBA6y830QxSEkA=",
          "dtype": "f8"
         },
         "yaxis": "y3"
        },
        {
         "fill": "toself",
         "fillcolor": "rgb(204, 38, 39)",
         "hoverinfo": "text",
         "hoveron": "fills",
         "line": {
          "color": "black",
          "width": 0
         },
         "mode": "lines",
         "showlegend": false,
         "text": "[]",
         "type": "scatter",
         "x": {
          "bdata": "lQkLXc92A0AAAAAAAAAAQNbs6UVhEvk/1ezpRWES+T8AAAAAAAAAQJYJC13PdgNAlQkLXc92A0A=",
          "dtype": "f8"
         },
         "xaxis": "x3",
         "y": {
          "bdata": "////////zz8AAAAAAADgPwMAAAAAANA/+///////z78AAAAAAADgv/r//////8+/AAAAAAAA0D8=",
          "dtype": "f8"
         },
         "yaxis": "y3"
        },
        {
         "fill": "toself",
         "fillcolor": "rgb(207, 40, 39)",
         "hoverinfo": "text",
         "hoveron": "fills",
         "line": {
          "color": "black",
          "width": 0
         },
         "mode": "lines",
         "showlegend": false,
         "text": "[1, 7, 8, 52]",
         "type": "scatter",
         "x": {
          "bdata": "KxMWup7t/j8AAAAAAAD4P9bs6UVhEvE/1ezpRWES8T8AAAAAAAD4PysTFrqe7f4/KhMWup7t/j8=",
          "dtype": "f8"
         },
         "xaxis": "x3",
         "y": {
          "bdata": "VSYsdD3b8T9WJix0Pdv1P1YmLHQ92/E/rExY6Hq24z9WmbDQ9WzXP6xMWOh6tuM/ViYsdD3b8T8=",
          "dtype": "f8"
         },
         "yaxis": "y3"
        },
        {
         "fill": "toself",
         "fillcolor": "rgb(220, 59, 44)",
         "hoverinfo": "text",
         "hoveron": "fills",
         "line": {
          "color": "black",
          "width": 0
         },
         "mode": "lines",
         "showlegend": false,
         "text": "[57, 81]",
         "type": "scatter",
         "x": {
          "bdata": "lQkLXc92A0AAAAAAAAAAQNbs6UVhEvk/1ezpRWES+T8AAAAAAAAAQJYJC13PdgNAlQkLXc92A0A=",
          "dtype": "f8"
         },
         "xaxis": "x3",
         "y": {
          "bdata": "q0xY6Hq2/z9WJix0PdsBQKxMWOh6tv8/rExY6Hq29z+rTFjoerbzP6xMWOh6tvc/q0xY6Hq2/z8=",
          "dtype": "f8"
         },
         "yaxis": "y3"
        },
        {
         "fill": "toself",
         "fillcolor": "rgb(230, 80, 54)",
         "hoverinfo": "text",
         "hoveron": "fills",
         "line": {
          "color": "black",
          "width": 0
         },
         "mode": "lines",
         "showlegend": false,
         "text": "[80, 88]",
         "type": "scatter",
         "x": {
          "bdata": "KxMWup7t/j8AAAAAAAD4P9bs6UVhEvE/1ezpRWES8T8AAAAAAAD4PysTFrqe7f4/KhMWup7t/j8=",
          "dtype": "f8"
         },
         "xaxis": "x3",
         "y": {
          "bdata": "gDlCLtzIBkCAOUIu3MgIQIA5Qi7cyAZAgDlCLtzIAkCAOUIu3MgAQIA5Qi7cyAJAgDlCLtzIBkA=",
          "dtype": "f8"
         },
         "yaxis": "y3"
        },
        {
         "fill": "toself",
         "fillcolor": "rgb(254, 219, 139)",
         "hoverinfo": "text",
         "hoveron": "fills",
         "line": {
          "color": "black",
          "width": 0
         },
         "mode": "lines",
         "showlegend": false,
         "text": "[]",
         "type": "scatter",
         "x": {
          "bdata": "lQkLXc92A0AAAAAAAAAAQNbs6UVhEvk/1ezpRWES+T8AAAAAAAAAQJYJC13PdgNAlQkLXc92A0A=",
          "dtype": "f8"
         },
         "xaxis": "x3",
         "y": {
          "bdata": "q0xY6Hq2DUCrTFjoerYPQKtMWOh6tg1Aq0xY6Hq2CUCrTFjoerYHQKtMWOh6tglAq0xY6Hq2DUA=",
          "dtype": "f8"
         },
         "yaxis": "y3"
        },
        {
         "fill": "toself",
         "fillcolor": "rgb(255, 251, 185)",
         "hoverinfo": "text",
         "hoveron": "fills",
         "line": {
          "color": "black",
          "width": 0
         },
         "mode": "lines",
         "showlegend": false,
         "text": "[]",
         "type": "scatter",
         "x": {
          "bdata": "KxMWup7t/j8AAAAAAAD4P9bs6UVhEvE/1ezpRWES8T8AAAAAAAD4PysTFrqe7f4/KhMWup7t/j8=",
          "dtype": "f8"
         },
         "xaxis": "x3",
         "y": {
          "bdata": "6y830QxSEkDrLzfRDFITQOsvN9EMUhJA6y830QxSEEDWX26iGaQOQOsvN9EMUhBA6y830QxSEkA=",
          "dtype": "f8"
         },
         "yaxis": "y3"
        },
        {
         "fill": "toself",
         "fillcolor": "rgb(211, 44, 39)",
         "hoverinfo": "text",
         "hoveron": "fills",
         "line": {
          "color": "black",
          "width": 0
         },
         "mode": "lines",
         "showlegend": false,
         "text": "[47, 48, 49, 51]",
         "type": "scatter",
         "x": {
          "bdata": "lQkLXc92C0AAAAAAAAAIQGv29KIwiQRAavb0ojCJBEAAAAAAAAAIQJYJC13PdgtAlQkLXc92C0A=",
          "dtype": "f8"
         },
         "xaxis": "x3",
         "y": {
          "bdata": "////////zz8AAAAAAADgPwMAAAAAANA/+///////z78AAAAAAADgv/r//////8+/AAAAAAAA0D8=",
          "dtype": "f8"
         },
         "yaxis": "y3"
        },
        {
         "fill": "toself",
         "fillcolor": "rgb(199, 33, 39)",
         "hoverinfo": "text",
         "hoveron": "fills",
         "line": {
          "color": "black",
          "width": 0
         },
         "mode": "lines",
         "showlegend": false,
         "text": "[41]",
         "type": "scatter",
         "x": {
          "bdata": "lQkLXc92B0AAAAAAAAAEQGv29KIwiQBAavb0ojCJAEAAAAAAAAAEQJYJC13PdgdAlQkLXc92B0A=",
          "dtype": "f8"
         },
         "xaxis": "x3",
         "y": {
          "bdata": "VSYsdD3b8T9WJix0Pdv1P1YmLHQ92/E/rExY6Hq24z9WmbDQ9WzXP6xMWOh6tuM/ViYsdD3b8T8=",
          "dtype": "f8"
         },
         "yaxis": "y3"
        },
        {
         "fill": "toself",
         "fillcolor": "rgb(213, 46, 39)",
         "hoverinfo": "text",
         "hoveron": "fills",
         "line": {
          "color": "black",
          "width": 0
         },
         "mode": "lines",
         "showlegend": false,
         "text": "[]",
         "type": "scatter",
         "x": {
          "bdata": "lQkLXc92C0AAAAAAAAAIQGv29KIwiQRAavb0ojCJBEAAAAAAAAAIQJYJC13PdgtAlQkLXc92C0A=",
          "dtype": "f8"
         },
         "xaxis": "x3",
         "y": {
          "bdata": "q0xY6Hq2/z9WJix0PdsBQKxMWOh6tv8/rExY6Hq29z+rTFjoerbzP6xMWOh6tvc/q0xY6Hq2/z8=",
          "dtype": "f8"
         },
         "yaxis": "y3"
        },
        {
         "fill": "toself",
         "fillcolor": "rgb(193, 27, 39)",
         "hoverinfo": "text",
         "hoveron": "fills",
         "line": {
          "color": "black",
          "width": 0
         },
         "mode": "lines",
         "showlegend": false,
         "text": "[63]",
         "type": "scatter",
         "x": {
          "bdata": "lQkLXc92B0AAAAAAAAAEQGv29KIwiQBAavb0ojCJAEAAAAAAAAAEQJYJC13PdgdAlQkLXc92B0A=",
          "dtype": "f8"
         },
         "xaxis": "x3",
         "y": {
          "bdata": "gDlCLtzIBkCAOUIu3MgIQIA5Qi7cyAZAgDlCLtzIAkCAOUIu3MgAQIA5Qi7cyAJAgDlCLtzIBkA=",
          "dtype": "f8"
         },
         "yaxis": "y3"
        },
        {
         "fill": "toself",
         "fillcolor": "rgb(254, 209, 130)",
         "hoverinfo": "text",
         "hoveron": "fills",
         "line": {
          "color": "black",
          "width": 0
         },
         "mode": "lines",
         "showlegend": false,
         "text": "[]",
         "type": "scatter",
         "x": {
          "bdata": "lQkLXc92C0AAAAAAAAAIQGv29KIwiQRAavb0ojCJBEAAAAAAAAAIQJYJC13PdgtAlQkLXc92C0A=",
          "dtype": "f8"
         },
         "xaxis": "x3",
         "y": {
          "bdata": "q0xY6Hq2DUCrTFjoerYPQKtMWOh6tg1Aq0xY6Hq2CUCrTFjoerYHQKtMWOh6tglAq0xY6Hq2DUA=",
          "dtype": "f8"
         },
         "yaxis": "y3"
        },
        {
         "fill": "toself",
         "fillcolor": "rgb(49, 54, 149)",
         "hoverinfo": "text",
         "hoveron": "fills",
         "line": {
          "color": "black",
          "width": 0
         },
         "mode": "lines",
         "showlegend": false,
         "text": "[37, 38]",
         "type": "scatter",
         "x": {
          "bdata": "lQkLXc92B0AAAAAAAAAEQGv29KIwiQBAavb0ojCJAEAAAAAAAAAEQJYJC13PdgdAlQkLXc92B0A=",
          "dtype": "f8"
         },
         "xaxis": "x3",
         "y": {
          "bdata": "6y830QxSEkDrLzfRDFITQOsvN9EMUhJA6y830QxSEEDWX26iGaQOQOsvN9EMUhBA6y830QxSEkA=",
          "dtype": "f8"
         },
         "yaxis": "y3"
        },
        {
         "fill": "toself",
         "fillcolor": "rgb(187, 21, 38)",
         "hoverinfo": "text",
         "hoveron": "fills",
         "line": {
          "color": "black",
          "width": 0
         },
         "mode": "lines",
         "showlegend": false,
         "text": "[55]",
         "type": "scatter",
         "x": {
          "bdata": "y4SFrme7EUAAAAAAAAAQQGv29KIwiQxAavb0ojCJDEAAAAAAAAAQQMuEha5nuxFAy4SFrme7EUA=",
          "dtype": "f8"
         },
         "xaxis": "x3",
         "y": {
          "bdata": "////////zz8AAAAAAADgPwMAAAAAANA/+///////z78AAAAAAADgv/r//////8+/AAAAAAAA0D8=",
          "dtype": "f8"
         },
         "yaxis": "y3"
        },
        {
         "fill": "toself",
         "fillcolor": "rgb(205, 38, 39)",
         "hoverinfo": "text",
         "hoveron": "fills",
         "line": {
          "color": "black",
          "width": 0
         },
         "mode": "lines",
         "showlegend": false,
         "text": "[15, 16, 17, 18, 19, 20]",
         "type": "scatter",
         "x": {
          "bdata": "lQkLXc92D0AAAAAAAAAMQGv29KIwiQhAavb0ojCJCEAAAAAAAAAMQJYJC13Pdg9AlQkLXc92D0A=",
          "dtype": "f8"
         },
         "xaxis": "x3",
         "y": {
          "bdata": "VSYsdD3b8T9WJix0Pdv1P1YmLHQ92/E/rExY6Hq24z9WmbDQ9WzXP6xMWOh6tuM/ViYsdD3b8T8=",
          "dtype": "f8"
         },
         "yaxis": "y3"
        },
        {
         "fill": "toself",
         "fillcolor": "rgb(234, 88, 57)",
         "hoverinfo": "text",
         "hoveron": "fills",
         "line": {
          "color": "black",
          "width": 0
         },
         "mode": "lines",
         "showlegend": false,
         "text": "[23, 78, 90]",
         "type": "scatter",
         "x": {
          "bdata": "y4SFrme7EUAAAAAAAAAQQGv29KIwiQxAavb0ojCJDEAAAAAAAAAQQMuEha5nuxFAy4SFrme7EUA=",
          "dtype": "f8"
         },
         "xaxis": "x3",
         "y": {
          "bdata": "q0xY6Hq2/z9WJix0PdsBQKxMWOh6tv8/rExY6Hq29z+rTFjoerbzP6xMWOh6tvc/q0xY6Hq2/z8=",
          "dtype": "f8"
         },
         "yaxis": "y3"
        },
        {
         "fill": "toself",
         "fillcolor": "rgb(221, 60, 44)",
         "hoverinfo": "text",
         "hoveron": "fills",
         "line": {
          "color": "black",
          "width": 0
         },
         "mode": "lines",
         "showlegend": false,
         "text": "[27, 29, 36]",
         "type": "scatter",
         "x": {
          "bdata": "lQkLXc92D0AAAAAAAAAMQGv29KIwiQhAavb0ojCJCEAAAAAAAAAMQJYJC13Pdg9AlQkLXc92D0A=",
          "dtype": "f8"
         },
         "xaxis": "x3",
         "y": {
          "bdata": "gDlCLtzIBkCAOUIu3MgIQIA5Qi7cyAZAgDlCLtzIAkCAOUIu3MgAQIA5Qi7cyAJAgDlCLtzIBkA=",
          "dtype": "f8"
         },
         "yaxis": "y3"
        },
        {
         "fill": "toself",
         "fillcolor": "rgb(250, 155, 88)",
         "hoverinfo": "text",
         "hoveron": "fills",
         "line": {
          "color": "black",
          "width": 0
         },
         "mode": "lines",
         "showlegend": false,
         "text": "[64]",
         "type": "scatter",
         "x": {
          "bdata": "y4SFrme7EUAAAAAAAAAQQGv29KIwiQxAavb0ojCJDEAAAAAAAAAQQMuEha5nuxFAy4SFrme7EUA=",
          "dtype": "f8"
         },
         "xaxis": "x3",
         "y": {
          "bdata": "q0xY6Hq2DUCrTFjoerYPQKtMWOh6tg1Aq0xY6Hq2CUCrTFjoerYHQKtMWOh6tglAq0xY6Hq2DUA=",
          "dtype": "f8"
         },
         "yaxis": "y3"
        },
        {
         "fill": "toself",
         "fillcolor": "rgb(241, 250, 216)",
         "hoverinfo": "text",
         "hoveron": "fills",
         "line": {
          "color": "black",
          "width": 0
         },
         "mode": "lines",
         "showlegend": false,
         "text": "[]",
         "type": "scatter",
         "x": {
          "bdata": "lQkLXc92D0AAAAAAAAAMQGv29KIwiQhAavb0ojCJCEAAAAAAAAAMQJYJC13Pdg9AlQkLXc92D0A=",
          "dtype": "f8"
         },
         "xaxis": "x3",
         "y": {
          "bdata": "6y830QxSEkDrLzfRDFITQOsvN9EMUhJA6y830QxSEEDWX26iGaQOQOsvN9EMUhBA6y830QxSEkA=",
          "dtype": "f8"
         },
         "yaxis": "y3"
        },
        {
         "fill": "toself",
         "fillcolor": "rgb(165, 0, 38)",
         "hoverinfo": "text",
         "hoveron": "fills",
         "line": {
          "color": "black",
          "width": 0
         },
         "mode": "lines",
         "showlegend": false,
         "text": "[95, 97]",
         "type": "scatter",
         "x": {
          "bdata": "y4SFrme7FUAAAAAAAAAUQDV7elGYRBJANXt6UZhEEkAAAAAAAAAUQMuEha5nuxVAy4SFrme7FUA=",
          "dtype": "f8"
         },
         "xaxis": "x3",
         "y": {
          "bdata": "////////zz8AAAAAAADgPwMAAAAAANA/+///////z78AAAAAAADgv/r//////8+/AAAAAAAA0D8=",
          "dtype": "f8"
         },
         "yaxis": "y3"
        },
        {
         "fill": "toself",
         "fillcolor": "rgb(217, 52, 41)",
         "hoverinfo": "text",
         "hoveron": "fills",
         "line": {
          "color": "black",
          "width": 0
         },
         "mode": "lines",
         "showlegend": false,
         "text": "[94]",
         "type": "scatter",
         "x": {
          "bdata": "y4SFrme7E0AAAAAAAAASQDV7elGYRBBANXt6UZhEEEAAAAAAAAASQMuEha5nuxNAy4SFrme7E0A=",
          "dtype": "f8"
         },
         "xaxis": "x3",
         "y": {
          "bdata": "VSYsdD3b8T9WJix0Pdv1P1YmLHQ92/E/rExY6Hq24z9WmbDQ9WzXP6xMWOh6tuM/ViYsdD3b8T8=",
          "dtype": "f8"
         },
         "yaxis": "y3"
        },
        {
         "fill": "toself",
         "fillcolor": "rgb(237, 95, 61)",
         "hoverinfo": "text",
         "hoveron": "fills",
         "line": {
          "color": "black",
          "width": 0
         },
         "mode": "lines",
         "showlegend": false,
         "text": "[33, 34]",
         "type": "scatter",
         "x": {
          "bdata": "y4SFrme7FUAAAAAAAAAUQDV7elGYRBJANXt6UZhEEkAAAAAAAAAUQMuEha5nuxVAy4SFrme7FUA=",
          "dtype": "f8"
         },
         "xaxis": "x3",
         "y": {
          "bdata": "q0xY6Hq2/z9WJix0PdsBQKxMWOh6tv8/rExY6Hq29z+rTFjoerbzP6xMWOh6tvc/q0xY6Hq2/z8=",
          "dtype": "f8"
         },
         "yaxis": "y3"
        },
        {
         "fill": "toself",
         "fillcolor": "rgb(246, 125, 75)",
         "hoverinfo": "text",
         "hoveron": "fills",
         "line": {
          "color": "black",
          "width": 0
         },
         "mode": "lines",
         "showlegend": false,
         "text": "[28]",
         "type": "scatter",
         "x": {
          "bdata": "y4SFrme7E0AAAAAAAAASQDV7elGYRBBANXt6UZhEEEAAAAAAAAASQMuEha5nuxNAy4SFrme7E0A=",
          "dtype": "f8"
         },
         "xaxis": "x3",
         "y": {
          "bdata": "gDlCLtzIBkCAOUIu3MgIQIA5Qi7cyAZAgDlCLtzIAkCAOUIu3MgAQIA5Qi7cyAJAgDlCLtzIBkA=",
          "dtype": "f8"
         },
         "yaxis": "y3"
        },
        {
         "fill": "toself",
         "fillcolor": "rgb(249, 147, 84)",
         "hoverinfo": "text",
         "hoveron": "fills",
         "line": {
          "color": "black",
          "width": 0
         },
         "mode": "lines",
         "showlegend": false,
         "text": "[]",
         "type": "scatter",
         "x": {
          "bdata": "y4SFrme7FUAAAAAAAAAUQDV7elGYRBJANXt6UZhEEkAAAAAAAAAUQMuEha5nuxVAy4SFrme7FUA=",
          "dtype": "f8"
         },
         "xaxis": "x3",
         "y": {
          "bdata": "q0xY6Hq2DUCrTFjoerYPQKtMWOh6tg1Aq0xY6Hq2CUCrTFjoerYHQKtMWOh6tglAq0xY6Hq2DUA=",
          "dtype": "f8"
         },
         "yaxis": "y3"
        },
        {
         "fill": "toself",
         "fillcolor": "rgb(250, 152, 87)",
         "hoverinfo": "text",
         "hoveron": "fills",
         "line": {
          "color": "black",
          "width": 0
         },
         "mode": "lines",
         "showlegend": false,
         "text": "[]",
         "type": "scatter",
         "x": {
          "bdata": "y4SFrme7E0AAAAAAAAASQDV7elGYRBBANXt6UZhEEEAAAAAAAAASQMuEha5nuxNAy4SFrme7E0A=",
          "dtype": "f8"
         },
         "xaxis": "x3",
         "y": {
          "bdata": "6y830QxSEkDrLzfRDFITQOsvN9EMUhJA6y830QxSEEDWX26iGaQOQOsvN9EMUhBA6y830QxSEkA=",
          "dtype": "f8"
         },
         "yaxis": "y3"
        },
        {
         "fill": "toself",
         "fillcolor": "rgb(217, 53, 41)",
         "hoverinfo": "text",
         "hoveron": "fills",
         "line": {
          "color": "black",
          "width": 0
         },
         "mode": "lines",
         "showlegend": false,
         "text": "[54]",
         "type": "scatter",
         "x": {
          "bdata": "y4SFrme7GUAAAAAAAAAYQDV7elGYRBZANXt6UZhEFkAAAAAAAAAYQMuEha5nuxlAy4SFrme7GUA=",
          "dtype": "f8"
         },
         "xaxis": "x3",
         "y": {
          "bdata": "////////zz8AAAAAAADgPwMAAAAAANA/+///////z78AAAAAAADgv/r//////8+/AAAAAAAA0D8=",
          "dtype": "f8"
         },
         "yaxis": "y3"
        },
        {
         "fill": "toself",
         "fillcolor": "rgb(244, 112, 68)",
         "hoverinfo": "text",
         "hoveron": "fills",
         "line": {
          "color": "black",
          "width": 0
         },
         "mode": "lines",
         "showlegend": false,
         "text": "[96]",
         "type": "scatter",
         "x": {
          "bdata": "y4SFrme7F0AAAAAAAAAWQDV7elGYRBRANXt6UZhEFEAAAAAAAAAWQMuEha5nuxdAy4SFrme7F0A=",
          "dtype": "f8"
         },
         "xaxis": "x3",
         "y": {
          "bdata": "VSYsdD3b8T9WJix0Pdv1P1YmLHQ92/E/rExY6Hq24z9WmbDQ9WzXP6xMWOh6tuM/ViYsdD3b8T8=",
          "dtype": "f8"
         },
         "yaxis": "y3"
        },
        {
         "fill": "toself",
         "fillcolor": "rgb(236, 93, 60)",
         "hoverinfo": "text",
         "hoveron": "fills",
         "line": {
          "color": "black",
          "width": 0
         },
         "mode": "lines",
         "showlegend": false,
         "text": "[32, 56]",
         "type": "scatter",
         "x": {
          "bdata": "y4SFrme7GUAAAAAAAAAYQDV7elGYRBZANXt6UZhEFkAAAAAAAAAYQMuEha5nuxlAy4SFrme7GUA=",
          "dtype": "f8"
         },
         "xaxis": "x3",
         "y": {
          "bdata": "q0xY6Hq2/z9WJix0PdsBQKxMWOh6tv8/rExY6Hq29z+rTFjoerbzP6xMWOh6tvc/q0xY6Hq2/z8=",
          "dtype": "f8"
         },
         "yaxis": "y3"
        },
        {
         "fill": "toself",
         "fillcolor": "rgb(234, 89, 58)",
         "hoverinfo": "text",
         "hoveron": "fills",
         "line": {
          "color": "black",
          "width": 0
         },
         "mode": "lines",
         "showlegend": false,
         "text": "[58]",
         "type": "scatter",
         "x": {
          "bdata": "y4SFrme7F0AAAAAAAAAWQDV7elGYRBRANXt6UZhEFEAAAAAAAAAWQMuEha5nuxdAy4SFrme7F0A=",
          "dtype": "f8"
         },
         "xaxis": "x3",
         "y": {
          "bdata": "gDlCLtzIBkCAOUIu3MgIQIA5Qi7cyAZAgDlCLtzIAkCAOUIu3MgAQIA5Qi7cyAJAgDlCLtzIBkA=",
          "dtype": "f8"
         },
         "yaxis": "y3"
        },
        {
         "fill": "toself",
         "fillcolor": "rgb(247, 134, 78)",
         "hoverinfo": "text",
         "hoveron": "fills",
         "line": {
          "color": "black",
          "width": 0
         },
         "mode": "lines",
         "showlegend": false,
         "text": "[13]",
         "type": "scatter",
         "x": {
          "bdata": "y4SFrme7GUAAAAAAAAAYQDV7elGYRBZANXt6UZhEFkAAAAAAAAAYQMuEha5nuxlAy4SFrme7GUA=",
          "dtype": "f8"
         },
         "xaxis": "x3",
         "y": {
          "bdata": "q0xY6Hq2DUCrTFjoerYPQKtMWOh6tg1Aq0xY6Hq2CUCrTFjoerYHQKtMWOh6tglAq0xY6Hq2DUA=",
          "dtype": "f8"
         },
         "yaxis": "y3"
        },
        {
         "fill": "toself",
         "fillcolor": "rgb(251, 157, 89)",
         "hoverinfo": "text",
         "hoveron": "fills",
         "line": {
          "color": "black",
          "width": 0
         },
         "mode": "lines",
         "showlegend": false,
         "text": "[11, 12, 14, 67, 68, 69]",
         "type": "scatter",
         "x": {
          "bdata": "y4SFrme7F0AAAAAAAAAWQDV7elGYRBRANXt6UZhEFEAAAAAAAAAWQMuEha5nuxdAy4SFrme7F0A=",
          "dtype": "f8"
         },
         "xaxis": "x3",
         "y": {
          "bdata": "6y830QxSEkDrLzfRDFITQOsvN9EMUhJA6y830QxSEEDWX26iGaQOQOsvN9EMUhBA6y830QxSEkA=",
          "dtype": "f8"
         },
         "yaxis": "y3"
        },
        {
         "fill": "toself",
         "fillcolor": "rgb(249, 149, 85)",
         "hoverinfo": "text",
         "hoveron": "fills",
         "line": {
          "color": "black",
          "width": 0
         },
         "mode": "lines",
         "showlegend": false,
         "text": "[71]",
         "type": "scatter",
         "x": {
          "bdata": "y4SFrme7HUAAAAAAAAAcQDV7elGYRBpANXt6UZhEGkAAAAAAAAAcQMuEha5nux1Ay4SFrme7HUA=",
          "dtype": "f8"
         },
         "xaxis": "x3",
         "y": {
          "bdata": "////////zz8AAAAAAADgPwMAAAAAANA/+///////z78AAAAAAADgv/r//////8+/AAAAAAAA0D8=",
          "dtype": "f8"
         },
         "yaxis": "y3"
        },
        {
         "fill": "toself",
         "fillcolor": "rgb(247, 129, 76)",
         "hoverinfo": "text",
         "hoveron": "fills",
         "line": {
          "color": "black",
          "width": 0
         },
         "mode": "lines",
         "showlegend": false,
         "text": "[98]",
         "type": "scatter",
         "x": {
          "bdata": "y4SFrme7G0AAAAAAAAAaQDV7elGYRBhANXt6UZhEGEAAAAAAAAAaQMuEha5nuxtAy4SFrme7G0A=",
          "dtype": "f8"
         },
         "xaxis": "x3",
         "y": {
          "bdata": "VSYsdD3b8T9WJix0Pdv1P1YmLHQ92/E/rExY6Hq24z9WmbDQ9WzXP6xMWOh6tuM/ViYsdD3b8T8=",
          "dtype": "f8"
         },
         "yaxis": "y3"
        },
        {
         "fill": "toself",
         "fillcolor": "rgb(245, 118, 71)",
         "hoverinfo": "text",
         "hoveron": "fills",
         "line": {
          "color": "black",
          "width": 0
         },
         "mode": "lines",
         "showlegend": false,
         "text": "[99, 100, 101]",
         "type": "scatter",
         "x": {
          "bdata": "y4SFrme7HUAAAAAAAAAcQDV7elGYRBpANXt6UZhEGkAAAAAAAAAcQMuEha5nux1Ay4SFrme7HUA=",
          "dtype": "f8"
         },
         "xaxis": "x3",
         "y": {
          "bdata": "q0xY6Hq2/z9WJix0PdsBQKxMWOh6tv8/rExY6Hq29z+rTFjoerbzP6xMWOh6tvc/q0xY6Hq2/z8=",
          "dtype": "f8"
         },
         "yaxis": "y3"
        },
        {
         "fill": "toself",
         "fillcolor": "rgb(233, 85, 56)",
         "hoverinfo": "text",
         "hoveron": "fills",
         "line": {
          "color": "black",
          "width": 0
         },
         "mode": "lines",
         "showlegend": false,
         "text": "[30, 35]",
         "type": "scatter",
         "x": {
          "bdata": "y4SFrme7G0AAAAAAAAAaQDV7elGYRBhANXt6UZhEGEAAAAAAAAAaQMuEha5nuxtAy4SFrme7G0A=",
          "dtype": "f8"
         },
         "xaxis": "x3",
         "y": {
          "bdata": "gDlCLtzIBkCAOUIu3MgIQIA5Qi7cyAZAgDlCLtzIAkCAOUIu3MgAQIA5Qi7cyAJAgDlCLtzIBkA=",
          "dtype": "f8"
         },
         "yaxis": "y3"
        },
        {
         "fill": "toself",
         "fillcolor": "rgb(249, 146, 84)",
         "hoverinfo": "text",
         "hoveron": "fills",
         "line": {
          "color": "black",
          "width": 0
         },
         "mode": "lines",
         "showlegend": false,
         "text": "[]",
         "type": "scatter",
         "x": {
          "bdata": "y4SFrme7HUAAAAAAAAAcQDV7elGYRBpANXt6UZhEGkAAAAAAAAAcQMuEha5nux1Ay4SFrme7HUA=",
          "dtype": "f8"
         },
         "xaxis": "x3",
         "y": {
          "bdata": "q0xY6Hq2DUCrTFjoerYPQKtMWOh6tg1Aq0xY6Hq2CUCrTFjoerYHQKtMWOh6tglAq0xY6Hq2DUA=",
          "dtype": "f8"
         },
         "yaxis": "y3"
        },
        {
         "fill": "toself",
         "fillcolor": "rgb(251, 163, 92)",
         "hoverinfo": "text",
         "hoveron": "fills",
         "line": {
          "color": "black",
          "width": 0
         },
         "mode": "lines",
         "showlegend": false,
         "text": "[66, 86, 91, 93]",
         "type": "scatter",
         "x": {
          "bdata": "y4SFrme7G0AAAAAAAAAaQDV7elGYRBhANXt6UZhEGEAAAAAAAAAaQMuEha5nuxtAy4SFrme7G0A=",
          "dtype": "f8"
         },
         "xaxis": "x3",
         "y": {
          "bdata": "6y830QxSEkDrLzfRDFITQOsvN9EMUhJA6y830QxSEEDWX26iGaQOQOsvN9EMUhBA6y830QxSEkA=",
          "dtype": "f8"
         },
         "yaxis": "y3"
        },
        {
         "fill": "toself",
         "fillcolor": "rgb(253, 176, 99)",
         "hoverinfo": "text",
         "hoveron": "fills",
         "line": {
          "color": "black",
          "width": 0
         },
         "mode": "lines",
         "showlegend": false,
         "text": "[70, 72, 73, 74, 76]",
         "type": "scatter",
         "x": {
          "bdata": "ZcJC17PdIEAAAAAAAAAgQDV7elGYRB5ANXt6UZhEHkAAAAAAAAAgQGXCQtez3SBAZcJC17PdIEA=",
          "dtype": "f8"
         },
         "xaxis": "x3",
         "y": {
          "bdata": "////////zz8AAAAAAADgPwMAAAAAANA/+///////z78AAAAAAADgv/r//////8+/AAAAAAAA0D8=",
          "dtype": "f8"
         },
         "yaxis": "y3"
        },
        {
         "fill": "toself",
         "fillcolor": "rgb(250, 154, 88)",
         "hoverinfo": "text",
         "hoveron": "fills",
         "line": {
          "color": "black",
          "width": 0
         },
         "mode": "lines",
         "showlegend": false,
         "text": "[75, 77]",
         "type": "scatter",
         "x": {
          "bdata": "y4SFrme7H0AAAAAAAAAeQDV7elGYRBxANXt6UZhEHEAAAAAAAAAeQMuEha5nux9Ay4SFrme7H0A=",
          "dtype": "f8"
         },
         "xaxis": "x3",
         "y": {
          "bdata": "VSYsdD3b8T9WJix0Pdv1P1YmLHQ92/E/rExY6Hq24z9WmbDQ9WzXP6xMWOh6tuM/ViYsdD3b8T8=",
          "dtype": "f8"
         },
         "yaxis": "y3"
        },
        {
         "fill": "toself",
         "fillcolor": "rgb(247, 130, 77)",
         "hoverinfo": "text",
         "hoveron": "fills",
         "line": {
          "color": "black",
          "width": 0
         },
         "mode": "lines",
         "showlegend": false,
         "text": "[]",
         "type": "scatter",
         "x": {
          "bdata": "ZcJC17PdIEAAAAAAAAAgQDV7elGYRB5ANXt6UZhEHkAAAAAAAAAgQGXCQtez3SBAZcJC17PdIEA=",
          "dtype": "f8"
         },
         "xaxis": "x3",
         "y": {
          "bdata": "q0xY6Hq2/z9WJix0PdsBQKxMWOh6tv8/rExY6Hq29z+rTFjoerbzP6xMWOh6tvc/q0xY6Hq2/z8=",
          "dtype": "f8"
         },
         "yaxis": "y3"
        },
        {
         "fill": "toself",
         "fillcolor": "rgb(246, 123, 74)",
         "hoverinfo": "text",
         "hoveron": "fills",
         "line": {
          "color": "black",
          "width": 0
         },
         "mode": "lines",
         "showlegend": false,
         "text": "[31, 39]",
         "type": "scatter",
         "x": {
          "bdata": "y4SFrme7H0AAAAAAAAAeQDV7elGYRBxANXt6UZhEHEAAAAAAAAAeQMuEha5nux9Ay4SFrme7H0A=",
          "dtype": "f8"
         },
         "xaxis": "x3",
         "y": {
          "bdata": "gDlCLtzIBkCAOUIu3MgIQIA5Qi7cyAZAgDlCLtzIAkCAOUIu3MgAQIA5Qi7cyAJAgDlCLtzIBkA=",
          "dtype": "f8"
         },
         "yaxis": "y3"
        },
        {
         "fill": "toself",
         "fillcolor": "rgb(253, 175, 98)",
         "hoverinfo": "text",
         "hoveron": "fills",
         "line": {
          "color": "black",
          "width": 0
         },
         "mode": "lines",
         "showlegend": false,
         "text": "[59, 60, 61, 62]",
         "type": "scatter",
         "x": {
          "bdata": "ZcJC17PdIEAAAAAAAAAgQDV7elGYRB5ANXt6UZhEHkAAAAAAAAAgQGXCQtez3SBAZcJC17PdIEA=",
          "dtype": "f8"
         },
         "xaxis": "x3",
         "y": {
          "bdata": "q0xY6Hq2DUCrTFjoerYPQKtMWOh6tg1Aq0xY6Hq2CUCrTFjoerYHQKtMWOh6tglAq0xY6Hq2DUA=",
          "dtype": "f8"
         },
         "yaxis": "y3"
        },
        {
         "fill": "toself",
         "fillcolor": "rgb(251, 157, 89)",
         "hoverinfo": "text",
         "hoveron": "fills",
         "line": {
          "color": "black",
          "width": 0
         },
         "mode": "lines",
         "showlegend": false,
         "text": "[10, 65]",
         "type": "scatter",
         "x": {
          "bdata": "y4SFrme7H0AAAAAAAAAeQDV7elGYRBxANXt6UZhEHEAAAAAAAAAeQMuEha5nux9Ay4SFrme7H0A=",
          "dtype": "f8"
         },
         "xaxis": "x3",
         "y": {
          "bdata": "6y830QxSEkDrLzfRDFITQOsvN9EMUhJA6y830QxSEEDWX26iGaQOQOsvN9EMUhBA6y830QxSEkA=",
          "dtype": "f8"
         },
         "yaxis": "y3"
        },
        {
         "marker": {
          "color": [
           0.06595766490313451,
           0.6765532689835241
          ],
          "colorbar": {
           "len": 0.1,
           "thickness": 20,
           "x": 0.38,
           "y": 0.7
          },
          "colorscale": [
           [
            0,
            "rgb(165,0,38)"
           ],
           [
            0.1,
            "rgb(215,48,39)"
           ],
           [
            0.2,
            "rgb(244,109,67)"
           ],
           [
            0.3,
            "rgb(253,174,97)"
           ],
           [
            0.4,
            "rgb(254,224,144)"
           ],
           [
            0.5,
            "rgb(255,255,191)"
           ],
           [
            0.6,
            "rgb(224,243,248)"
           ],
           [
            0.7,
            "rgb(171,217,233)"
           ],
           [
            0.8,
            "rgb(116,173,209)"
           ],
           [
            0.9,
            "rgb(69,117,180)"
           ],
           [
            1,
            "rgb(49,54,149)"
           ]
          ],
          "size": 0.001
         },
         "showlegend": false,
         "type": "scatter",
         "x": [
          0,
          0
         ],
         "xaxis": "x3",
         "y": [
          0,
          0
         ],
         "yaxis": "y3"
        },
        {
         "fill": "toself",
         "fillcolor": "rgb(226, 70, 49)",
         "hoverinfo": "text",
         "hoveron": "fills",
         "line": {
          "color": "black",
          "width": 0
         },
         "mode": "lines",
         "showlegend": false,
         "text": "[5]",
         "type": "scatter",
         "x": {
          "bdata": "q0xY6Hq22z8HXBQzJqaBPKlMWOh6ttu/rExY6Hq2278Kip5MOXmavKxMWOh6tts/qkxY6Hq22z8=",
          "dtype": "f8"
         },
         "xaxis": "x4",
         "y": {
          "bdata": "////////zz8AAAAAAADgPwMAAAAAANA/+///////z78AAAAAAADgv/r//////8+/AAAAAAAA0D8=",
          "dtype": "f8"
         },
         "yaxis": "y4"
        },
        {
         "fill": "toself",
         "fillcolor": "rgb(226, 71, 50)",
         "hoverinfo": "text",
         "hoveron": "fills",
         "line": {
          "color": "black",
          "width": 0
         },
         "mode": "lines",
         "showlegend": false,
         "text": "[0, 4]",
         "type": "scatter",
         "x": {
          "bdata": "VM2eXhQmsb/////////fv1QmLHQ92+2/ViYsdD3b7b8BAAAAAADgv1DNnl4UJrG/WM2eXhQmsb8=",
          "dtype": "f8"
         },
         "xaxis": "x4",
         "y": {
          "bdata": "VSYsdD3b8T9WJix0Pdv1P1YmLHQ92/E/rExY6Hq24z9WmbDQ9WzXP6xMWOh6tuM/ViYsdD3b8T8=",
          "dtype": "f8"
         },
         "yaxis": "y4"
        },
        {
         "fill": "toself",
         "fillcolor": "rgb(248, 135, 79)",
         "hoverinfo": "text",
         "hoveron": "fills",
         "line": {
          "color": "black",
          "width": 0
         },
         "mode": "lines",
         "showlegend": false,
         "text": "[21, 22]",
         "type": "scatter",
         "x": {
          "bdata": "q0xY6Hq22z8HXBQzJqaBPKlMWOh6ttu/rExY6Hq2278Kip5MOXmavKxMWOh6tts/qkxY6Hq22z8=",
          "dtype": "f8"
         },
         "xaxis": "x4",
         "y": {
          "bdata": "q0xY6Hq2/z9WJix0PdsBQKxMWOh6tv8/rExY6Hq29z+rTFjoerbzP6xMWOh6tvc/q0xY6Hq2/z8=",
          "dtype": "f8"
         },
         "yaxis": "y4"
        },
        {
         "fill": "toself",
         "fillcolor": "rgb(251, 158, 90)",
         "hoverinfo": "text",
         "hoveron": "fills",
         "line": {
          "color": "black",
          "width": 0
         },
         "mode": "lines",
         "showlegend": false,
         "text": "[83, 85, 87, 89]",
         "type": "scatter",
         "x": {
          "bdata": "VM2eXhQmsb/////////fv1QmLHQ92+2/ViYsdD3b7b8BAAAAAADgv1DNnl4UJrG/WM2eXhQmsb8=",
          "dtype": "f8"
         },
         "xaxis": "x4",
         "y": {
          "bdata": "gDlCLtzIBkCAOUIu3MgIQIA5Qi7cyAZAgDlCLtzIAkCAOUIu3MgAQIA5Qi7cyAJAgDlCLtzIBkA=",
          "dtype": "f8"
         },
         "yaxis": "y4"
        },
        {
         "fill": "toself",
         "fillcolor": "rgb(254, 230, 154)",
         "hoverinfo": "text",
         "hoveron": "fills",
         "line": {
          "color": "black",
          "width": 0
         },
         "mode": "lines",
         "showlegend": false,
         "text": "[]",
         "type": "scatter",
         "x": {
          "bdata": "q0xY6Hq22z8HXBQzJqaBPKlMWOh6ttu/rExY6Hq2278Kip5MOXmavKxMWOh6tts/qkxY6Hq22z8=",
          "dtype": "f8"
         },
         "xaxis": "x4",
         "y": {
          "bdata": "q0xY6Hq2DUCrTFjoerYPQKtMWOh6tg1Aq0xY6Hq2CUCrTFjoerYHQKtMWOh6tglAq0xY6Hq2DUA=",
          "dtype": "f8"
         },
         "yaxis": "y4"
        },
        {
         "fill": "toself",
         "fillcolor": "rgb(239, 249, 220)",
         "hoverinfo": "text",
         "hoveron": "fills",
         "line": {
          "color": "black",
          "width": 0
         },
         "mode": "lines",
         "showlegend": false,
         "text": "[40, 43, 46, 92]",
         "type": "scatter",
         "x": {
          "bdata": "VM2eXhQmsb/////////fv1QmLHQ92+2/ViYsdD3b7b8BAAAAAADgv1DNnl4UJrG/WM2eXhQmsb8=",
          "dtype": "f8"
         },
         "xaxis": "x4",
         "y": {
          "bdata": "6y830QxSEkDrLzfRDFITQOsvN9EMUhJA6y830QxSEEDWX26iGaQOQOsvN9EMUhBA6y830QxSEkA=",
          "dtype": "f8"
         },
         "yaxis": "y4"
        },
        {
         "fill": "toself",
         "fillcolor": "rgb(227, 73, 50)",
         "hoverinfo": "text",
         "hoveron": "fills",
         "line": {
          "color": "black",
          "width": 0
         },
         "mode": "lines",
         "showlegend": false,
         "text": "[2, 3, 6]",
         "type": "scatter",
         "x": {
          "bdata": "KxMWup7t9j8AAAAAAADwP6zZ04vCJOI/qtnTi8Ik4j/////////vPysTFrqe7fY/KhMWup7t9j8=",
          "dtype": "f8"
         },
         "xaxis": "x4",
         "y": {
          "bdata": "////////zz8AAAAAAADgPwMAAAAAANA/+///////z78AAAAAAADgv/r//////8+/AAAAAAAA0D8=",
          "dtype": "f8"
         },
         "yaxis": "y4"
        },
        {
         "fill": "toself",
         "fillcolor": "rgb(234, 89, 58)",
         "hoverinfo": "text",
         "hoveron": "fills",
         "line": {
          "color": "black",
          "width": 0
         },
         "mode": "lines",
         "showlegend": false,
         "text": "[9, 50]",
         "type": "scatter",
         "x": {
          "bdata": "ViYsdD3b7T8AAAAAAADgP1zNnl4UJrE/UM2eXhQmsT/+///////fP1YmLHQ92+0/VSYsdD3b7T8=",
          "dtype": "f8"
         },
         "xaxis": "x4",
         "y": {
          "bdata": "VSYsdD3b8T9WJix0Pdv1P1YmLHQ92/E/rExY6Hq24z9WmbDQ9WzXP6xMWOh6tuM/ViYsdD3b8T8=",
          "dtype": "f8"
         },
         "yaxis": "y4"
        },
        {
         "fill": "toself",
         "fillcolor": "rgb(249, 142, 82)",
         "hoverinfo": "text",
         "hoveron": "fills",
         "line": {
          "color": "black",
          "width": 0
         },
         "mode": "lines",
         "showlegend": false,
         "text": "[24, 25, 26]",
         "type": "scatter",
         "x": {
          "bdata": "KxMWup7t9j8AAAAAAADwP6zZ04vCJOI/qtnTi8Ik4j/////////vPysTFrqe7fY/KhMWup7t9j8=",
          "dtype": "f8"
         },
         "xaxis": "x4",
         "y": {
          "bdata": "q0xY6Hq2/z9WJix0PdsBQKxMWOh6tv8/rExY6Hq29z+rTFjoerbzP6xMWOh6tvc/q0xY6Hq2/z8=",
          "dtype": "f8"
         },
         "yaxis": "y4"
        },
        {
         "fill": "toself",
         "fillcolor": "rgb(253, 177, 100)",
         "hoverinfo": "text",
         "hoveron": "fills",
         "line": {
          "color": "black",
          "width": 0
         },
         "mode": "lines",
         "showlegend": false,
         "text": "[53, 79, 82, 84]",
         "type": "scatter",
         "x": {
          "bdata": "ViYsdD3b7T8AAAAAAADgP1zNnl4UJrE/UM2eXhQmsT/+///////fP1YmLHQ92+0/VSYsdD3b7T8=",
          "dtype": "f8"
         },
         "xaxis": "x4",
         "y": {
          "bdata": "gDlCLtzIBkCAOUIu3MgIQIA5Qi7cyAZAgDlCLtzIAkCAOUIu3MgAQIA5Qi7cyAJAgDlCLtzIBkA=",
          "dtype": "f8"
         },
         "yaxis": "y4"
        },
        {
         "fill": "toself",
         "fillcolor": "rgb(255, 246, 177)",
         "hoverinfo": "text",
         "hoveron": "fills",
         "line": {
          "color": "black",
          "width": 0
         },
         "mode": "lines",
         "showlegend": false,
         "text": "[]",
         "type": "scatter",
         "x": {
          "bdata": "KxMWup7t9j8AAAAAAADwP6zZ04vCJOI/qtnTi8Ik4j/////////vPysTFrqe7fY/KhMWup7t9j8=",
          "dtype": "f8"
         },
         "xaxis": "x4",
         "y": {
          "bdata": "q0xY6Hq2DUCrTFjoerYPQKtMWOh6tg1Aq0xY6Hq2CUCrTFjoerYHQKtMWOh6tglAq0xY6Hq2DUA=",
          "dtype": "f8"
         },
         "yaxis": "y4"
        },
        {
         "fill": "toself",
         "fillcolor": "rgb(197, 230, 240)",
         "hoverinfo": "text",
         "hoveron": "fills",
         "line": {
          "color": "black",
          "width": 0
         },
         "mode": "lines",
         "showlegend": false,
         "text": "[42, 44, 45]",
         "type": "scatter",
         "x": {
          "bdata": "ViYsdD3b7T8AAAAAAADgP1zNnl4UJrE/UM2eXhQmsT/+///////fP1YmLHQ92+0/VSYsdD3b7T8=",
          "dtype": "f8"
         },
         "xaxis": "x4",
         "y": {
          "bdata": "6y830QxSEkDrLzfRDFITQOsvN9EMUhJA6y830QxSEEDWX26iGaQOQOsvN9EMUhBA6y830QxSEkA=",
          "dtype": "f8"
         },
         "yaxis": "y4"
        },
        {
         "fill": "toself",
         "fillcolor": "rgb(223, 66, 47)",
         "hoverinfo": "text",
         "hoveron": "fills",
         "line": {
          "color": "black",
          "width": 0
         },
         "mode": "lines",
         "showlegend": false,
         "text": "[]",
         "type": "scatter",
         "x": {
          "bdata": "lQkLXc92A0AAAAAAAAAAQNbs6UVhEvk/1ezpRWES+T8AAAAAAAAAQJYJC13PdgNAlQkLXc92A0A=",
          "dtype": "f8"
         },
         "xaxis": "x4",
         "y": {
          "bdata": "////////zz8AAAAAAADgPwMAAAAAANA/+///////z78AAAAAAADgv/r//////8+/AAAAAAAA0D8=",
          "dtype": "f8"
         },
         "yaxis": "y4"
        },
        {
         "fill": "toself",
         "fillcolor": "rgb(234, 88, 57)",
         "hoverinfo": "text",
         "hoveron": "fills",
         "line": {
          "color": "black",
          "width": 0
         },
         "mode": "lines",
         "showlegend": false,
         "text": "[1, 7, 8, 52]",
         "type": "scatter",
         "x": {
          "bdata": "KxMWup7t/j8AAAAAAAD4P9bs6UVhEvE/1ezpRWES8T8AAAAAAAD4PysTFrqe7f4/KhMWup7t/j8=",
          "dtype": "f8"
         },
         "xaxis": "x4",
         "y": {
          "bdata": "VSYsdD3b8T9WJix0Pdv1P1YmLHQ92/E/rExY6Hq24z9WmbDQ9WzXP6xMWOh6tuM/ViYsdD3b8T8=",
          "dtype": "f8"
         },
         "yaxis": "y4"
        },
        {
         "fill": "toself",
         "fillcolor": "rgb(248, 141, 82)",
         "hoverinfo": "text",
         "hoveron": "fills",
         "line": {
          "color": "black",
          "width": 0
         },
         "mode": "lines",
         "showlegend": false,
         "text": "[57, 81]",
         "type": "scatter",
         "x": {
          "bdata": "lQkLXc92A0AAAAAAAAAAQNbs6UVhEvk/1ezpRWES+T8AAAAAAAAAQJYJC13PdgNAlQkLXc92A0A=",
          "dtype": "f8"
         },
         "xaxis": "x4",
         "y": {
          "bdata": "q0xY6Hq2/z9WJix0PdsBQKxMWOh6tv8/rExY6Hq29z+rTFjoerbzP6xMWOh6tvc/q0xY6Hq2/z8=",
          "dtype": "f8"
         },
         "yaxis": "y4"
        },
        {
         "fill": "toself",
         "fillcolor": "rgb(253, 198, 120)",
         "hoverinfo": "text",
         "hoveron": "fills",
         "line": {
          "color": "black",
          "width": 0
         },
         "mode": "lines",
         "showlegend": false,
         "text": "[80, 88]",
         "type": "scatter",
         "x": {
          "bdata": "KxMWup7t/j8AAAAAAAD4P9bs6UVhEvE/1ezpRWES8T8AAAAAAAD4PysTFrqe7f4/KhMWup7t/j8=",
          "dtype": "f8"
         },
         "xaxis": "x4",
         "y": {
          "bdata": "gDlCLtzIBkCAOUIu3MgIQIA5Qi7cyAZAgDlCLtzIAkCAOUIu3MgAQIA5Qi7cyAJAgDlCLtzIBkA=",
          "dtype": "f8"
         },
         "yaxis": "y4"
        },
        {
         "fill": "toself",
         "fillcolor": "rgb(206, 234, 243)",
         "hoverinfo": "text",
         "hoveron": "fills",
         "line": {
          "color": "black",
          "width": 0
         },
         "mode": "lines",
         "showlegend": false,
         "text": "[]",
         "type": "scatter",
         "x": {
          "bdata": "lQkLXc92A0AAAAAAAAAAQNbs6UVhEvk/1ezpRWES+T8AAAAAAAAAQJYJC13PdgNAlQkLXc92A0A=",
          "dtype": "f8"
         },
         "xaxis": "x4",
         "y": {
          "bdata": "q0xY6Hq2DUCrTFjoerYPQKtMWOh6tg1Aq0xY6Hq2CUCrTFjoerYHQKtMWOh6tglAq0xY6Hq2DUA=",
          "dtype": "f8"
         },
         "yaxis": "y4"
        },
        {
         "fill": "toself",
         "fillcolor": "rgb(136, 189, 218)",
         "hoverinfo": "text",
         "hoveron": "fills",
         "line": {
          "color": "black",
          "width": 0
         },
         "mode": "lines",
         "showlegend": false,
         "text": "[]",
         "type": "scatter",
         "x": {
          "bdata": "KxMWup7t/j8AAAAAAAD4P9bs6UVhEvE/1ezpRWES8T8AAAAAAAD4PysTFrqe7f4/KhMWup7t/j8=",
          "dtype": "f8"
         },
         "xaxis": "x4",
         "y": {
          "bdata": "6y830QxSEkDrLzfRDFITQOsvN9EMUhJA6y830QxSEEDWX26iGaQOQOsvN9EMUhBA6y830QxSEkA=",
          "dtype": "f8"
         },
         "yaxis": "y4"
        },
        {
         "fill": "toself",
         "fillcolor": "rgb(216, 50, 40)",
         "hoverinfo": "text",
         "hoveron": "fills",
         "line": {
          "color": "black",
          "width": 0
         },
         "mode": "lines",
         "showlegend": false,
         "text": "[47, 48, 49, 51]",
         "type": "scatter",
         "x": {
          "bdata": "lQkLXc92C0AAAAAAAAAIQGv29KIwiQRAavb0ojCJBEAAAAAAAAAIQJYJC13PdgtAlQkLXc92C0A=",
          "dtype": "f8"
         },
         "xaxis": "x4",
         "y": {
          "bdata": "////////zz8AAAAAAADgPwMAAAAAANA/+///////z78AAAAAAADgv/r//////8+/AAAAAAAA0D8=",
          "dtype": "f8"
         },
         "yaxis": "y4"
        },
        {
         "fill": "toself",
         "fillcolor": "rgb(227, 74, 51)",
         "hoverinfo": "text",
         "hoveron": "fills",
         "line": {
          "color": "black",
          "width": 0
         },
         "mode": "lines",
         "showlegend": false,
         "text": "[41]",
         "type": "scatter",
         "x": {
          "bdata": "lQkLXc92B0AAAAAAAAAEQGv29KIwiQBAavb0ojCJAEAAAAAAAAAEQJYJC13PdgdAlQkLXc92B0A=",
          "dtype": "f8"
         },
         "xaxis": "x4",
         "y": {
          "bdata": "VSYsdD3b8T9WJix0Pdv1P1YmLHQ92/E/rExY6Hq24z9WmbDQ9WzXP6xMWOh6tuM/ViYsdD3b8T8=",
          "dtype": "f8"
         },
         "yaxis": "y4"
        },
        {
         "fill": "toself",
         "fillcolor": "rgb(247, 130, 77)",
         "hoverinfo": "text",
         "hoveron": "fills",
         "line": {
          "color": "black",
          "width": 0
         },
         "mode": "lines",
         "showlegend": false,
         "text": "[]",
         "type": "scatter",
         "x": {
          "bdata": "lQkLXc92C0AAAAAAAAAIQGv29KIwiQRAavb0ojCJBEAAAAAAAAAIQJYJC13PdgtAlQkLXc92C0A=",
          "dtype": "f8"
         },
         "xaxis": "x4",
         "y": {
          "bdata": "q0xY6Hq2/z9WJix0PdsBQKxMWOh6tv8/rExY6Hq29z+rTFjoerbzP6xMWOh6tvc/q0xY6Hq2/z8=",
          "dtype": "f8"
         },
         "yaxis": "y4"
        },
        {
         "fill": "toself",
         "fillcolor": "rgb(254, 232, 156)",
         "hoverinfo": "text",
         "hoveron": "fills",
         "line": {
          "color": "black",
          "width": 0
         },
         "mode": "lines",
         "showlegend": false,
         "text": "[63]",
         "type": "scatter",
         "x": {
          "bdata": "lQkLXc92B0AAAAAAAAAEQGv29KIwiQBAavb0ojCJAEAAAAAAAAAEQJYJC13PdgdAlQkLXc92B0A=",
          "dtype": "f8"
         },
         "xaxis": "x4",
         "y": {
          "bdata": "gDlCLtzIBkCAOUIu3MgIQIA5Qi7cyAZAgDlCLtzIAkCAOUIu3MgAQIA5Qi7cyAJAgDlCLtzIBkA=",
          "dtype": "f8"
         },
         "yaxis": "y4"
        },
        {
         "fill": "toself",
         "fillcolor": "rgb(225, 243, 246)",
         "hoverinfo": "text",
         "hoveron": "fills",
         "line": {
          "color": "black",
          "width": 0
         },
         "mode": "lines",
         "showlegend": false,
         "text": "[]",
         "type": "scatter",
         "x": {
          "bdata": "lQkLXc92C0AAAAAAAAAIQGv29KIwiQRAavb0ojCJBEAAAAAAAAAIQJYJC13PdgtAlQkLXc92C0A=",
          "dtype": "f8"
         },
         "xaxis": "x4",
         "y": {
          "bdata": "q0xY6Hq2DUCrTFjoerYPQKtMWOh6tg1Aq0xY6Hq2CUCrTFjoerYHQKtMWOh6tglAq0xY6Hq2DUA=",
          "dtype": "f8"
         },
         "yaxis": "y4"
        },
        {
         "fill": "toself",
         "fillcolor": "rgb(49, 54, 149)",
         "hoverinfo": "text",
         "hoveron": "fills",
         "line": {
          "color": "black",
          "width": 0
         },
         "mode": "lines",
         "showlegend": false,
         "text": "[37, 38]",
         "type": "scatter",
         "x": {
          "bdata": "lQkLXc92B0AAAAAAAAAEQGv29KIwiQBAavb0ojCJAEAAAAAAAAAEQJYJC13PdgdAlQkLXc92B0A=",
          "dtype": "f8"
         },
         "xaxis": "x4",
         "y": {
          "bdata": "6y830QxSEkDrLzfRDFITQOsvN9EMUhJA6y830QxSEEDWX26iGaQOQOsvN9EMUhBA6y830QxSEkA=",
          "dtype": "f8"
         },
         "yaxis": "y4"
        },
        {
         "fill": "toself",
         "fillcolor": "rgb(211, 44, 39)",
         "hoverinfo": "text",
         "hoveron": "fills",
         "line": {
          "color": "black",
          "width": 0
         },
         "mode": "lines",
         "showlegend": false,
         "text": "[55]",
         "type": "scatter",
         "x": {
          "bdata": "y4SFrme7EUAAAAAAAAAQQGv29KIwiQxAavb0ojCJDEAAAAAAAAAQQMuEha5nuxFAy4SFrme7EUA=",
          "dtype": "f8"
         },
         "xaxis": "x4",
         "y": {
          "bdata": "////////zz8AAAAAAADgPwMAAAAAANA/+///////z78AAAAAAADgv/r//////8+/AAAAAAAA0D8=",
          "dtype": "f8"
         },
         "yaxis": "y4"
        },
        {
         "fill": "toself",
         "fillcolor": "rgb(223, 65, 47)",
         "hoverinfo": "text",
         "hoveron": "fills",
         "line": {
          "color": "black",
          "width": 0
         },
         "mode": "lines",
         "showlegend": false,
         "text": "[15, 16, 17, 18, 19, 20]",
         "type": "scatter",
         "x": {
          "bdata": "lQkLXc92D0AAAAAAAAAMQGv29KIwiQhAavb0ojCJCEAAAAAAAAAMQJYJC13Pdg9AlQkLXc92D0A=",
          "dtype": "f8"
         },
         "xaxis": "x4",
         "y": {
          "bdata": "VSYsdD3b8T9WJix0Pdv1P1YmLHQ92/E/rExY6Hq24z9WmbDQ9WzXP6xMWOh6tuM/ViYsdD3b8T8=",
          "dtype": "f8"
         },
         "yaxis": "y4"
        },
        {
         "fill": "toself",
         "fillcolor": "rgb(244, 113, 69)",
         "hoverinfo": "text",
         "hoveron": "fills",
         "line": {
          "color": "black",
          "width": 0
         },
         "mode": "lines",
         "showlegend": false,
         "text": "[23, 78, 90]",
         "type": "scatter",
         "x": {
          "bdata": "y4SFrme7EUAAAAAAAAAQQGv29KIwiQxAavb0ojCJDEAAAAAAAAAQQMuEha5nuxFAy4SFrme7EUA=",
          "dtype": "f8"
         },
         "xaxis": "x4",
         "y": {
          "bdata": "q0xY6Hq2/z9WJix0PdsBQKxMWOh6tv8/rExY6Hq29z+rTFjoerbzP6xMWOh6tvc/q0xY6Hq2/z8=",
          "dtype": "f8"
         },
         "yaxis": "y4"
        },
        {
         "fill": "toself",
         "fillcolor": "rgb(253, 196, 118)",
         "hoverinfo": "text",
         "hoveron": "fills",
         "line": {
          "color": "black",
          "width": 0
         },
         "mode": "lines",
         "showlegend": false,
         "text": "[27, 29, 36]",
         "type": "scatter",
         "x": {
          "bdata": "lQkLXc92D0AAAAAAAAAMQGv29KIwiQhAavb0ojCJCEAAAAAAAAAMQJYJC13Pdg9AlQkLXc92D0A=",
          "dtype": "f8"
         },
         "xaxis": "x4",
         "y": {
          "bdata": "gDlCLtzIBkCAOUIu3MgIQIA5Qi7cyAZAgDlCLtzIAkCAOUIu3MgAQIA5Qi7cyAJAgDlCLtzIBkA=",
          "dtype": "f8"
         },
         "yaxis": "y4"
        },
        {
         "fill": "toself",
         "fillcolor": "rgb(254, 227, 148)",
         "hoverinfo": "text",
         "hoveron": "fills",
         "line": {
          "color": "black",
          "width": 0
         },
         "mode": "lines",
         "showlegend": false,
         "text": "[64]",
         "type": "scatter",
         "x": {
          "bdata": "y4SFrme7EUAAAAAAAAAQQGv29KIwiQxAavb0ojCJDEAAAAAAAAAQQMuEha5nuxFAy4SFrme7EUA=",
          "dtype": "f8"
         },
         "xaxis": "x4",
         "y": {
          "bdata": "q0xY6Hq2DUCrTFjoerYPQKtMWOh6tg1Aq0xY6Hq2CUCrTFjoerYHQKtMWOh6tglAq0xY6Hq2DUA=",
          "dtype": "f8"
         },
         "yaxis": "y4"
        },
        {
         "fill": "toself",
         "fillcolor": "rgb(185, 224, 237)",
         "hoverinfo": "text",
         "hoveron": "fills",
         "line": {
          "color": "black",
          "width": 0
         },
         "mode": "lines",
         "showlegend": false,
         "text": "[]",
         "type": "scatter",
         "x": {
          "bdata": "lQkLXc92D0AAAAAAAAAMQGv29KIwiQhAavb0ojCJCEAAAAAAAAAMQJYJC13Pdg9AlQkLXc92D0A=",
          "dtype": "f8"
         },
         "xaxis": "x4",
         "y": {
          "bdata": "6y830QxSEkDrLzfRDFITQOsvN9EMUhJA6y830QxSEEDWX26iGaQOQOsvN9EMUhBA6y830QxSEkA=",
          "dtype": "f8"
         },
         "yaxis": "y4"
        },
        {
         "fill": "toself",
         "fillcolor": "rgb(165, 0, 38)",
         "hoverinfo": "text",
         "hoveron": "fills",
         "line": {
          "color": "black",
          "width": 0
         },
         "mode": "lines",
         "showlegend": false,
         "text": "[95, 97]",
         "type": "scatter",
         "x": {
          "bdata": "y4SFrme7FUAAAAAAAAAUQDV7elGYRBJANXt6UZhEEkAAAAAAAAAUQMuEha5nuxVAy4SFrme7FUA=",
          "dtype": "f8"
         },
         "xaxis": "x4",
         "y": {
          "bdata": "////////zz8AAAAAAADgPwMAAAAAANA/+///////z78AAAAAAADgv/r//////8+/AAAAAAAA0D8=",
          "dtype": "f8"
         },
         "yaxis": "y4"
        },
        {
         "fill": "toself",
         "fillcolor": "rgb(212, 45, 39)",
         "hoverinfo": "text",
         "hoveron": "fills",
         "line": {
          "color": "black",
          "width": 0
         },
         "mode": "lines",
         "showlegend": false,
         "text": "[94]",
         "type": "scatter",
         "x": {
          "bdata": "y4SFrme7E0AAAAAAAAASQDV7elGYRBBANXt6UZhEEEAAAAAAAAASQMuEha5nuxNAy4SFrme7E0A=",
          "dtype": "f8"
         },
         "xaxis": "x4",
         "y": {
          "bdata": "VSYsdD3b8T9WJix0Pdv1P1YmLHQ92/E/rExY6Hq24z9WmbDQ9WzXP6xMWOh6tuM/ViYsdD3b8T8=",
          "dtype": "f8"
         },
         "yaxis": "y4"
        },
        {
         "fill": "toself",
         "fillcolor": "rgb(224, 67, 48)",
         "hoverinfo": "text",
         "hoveron": "fills",
         "line": {
          "color": "black",
          "width": 0
         },
         "mode": "lines",
         "showlegend": false,
         "text": "[33, 34]",
         "type": "scatter",
         "x": {
          "bdata": "y4SFrme7FUAAAAAAAAAUQDV7elGYRBJANXt6UZhEEkAAAAAAAAAUQMuEha5nuxVAy4SFrme7FUA=",
          "dtype": "f8"
         },
         "xaxis": "x4",
         "y": {
          "bdata": "q0xY6Hq2/z9WJix0PdsBQKxMWOh6tv8/rExY6Hq29z+rTFjoerbzP6xMWOh6tvc/q0xY6Hq2/z8=",
          "dtype": "f8"
         },
         "yaxis": "y4"
        },
        {
         "fill": "toself",
         "fillcolor": "rgb(249, 148, 85)",
         "hoverinfo": "text",
         "hoveron": "fills",
         "line": {
          "color": "black",
          "width": 0
         },
         "mode": "lines",
         "showlegend": false,
         "text": "[28]",
         "type": "scatter",
         "x": {
          "bdata": "y4SFrme7E0AAAAAAAAASQDV7elGYRBBANXt6UZhEEEAAAAAAAAASQMuEha5nuxNAy4SFrme7E0A=",
          "dtype": "f8"
         },
         "xaxis": "x4",
         "y": {
          "bdata": "gDlCLtzIBkCAOUIu3MgIQIA5Qi7cyAZAgDlCLtzIAkCAOUIu3MgAQIA5Qi7cyAJAgDlCLtzIBkA=",
          "dtype": "f8"
         },
         "yaxis": "y4"
        },
        {
         "fill": "toself",
         "fillcolor": "rgb(251, 158, 90)",
         "hoverinfo": "text",
         "hoveron": "fills",
         "line": {
          "color": "black",
          "width": 0
         },
         "mode": "lines",
         "showlegend": false,
         "text": "[]",
         "type": "scatter",
         "x": {
          "bdata": "y4SFrme7FUAAAAAAAAAUQDV7elGYRBJANXt6UZhEEkAAAAAAAAAUQMuEha5nuxVAy4SFrme7FUA=",
          "dtype": "f8"
         },
         "xaxis": "x4",
         "y": {
          "bdata": "q0xY6Hq2DUCrTFjoerYPQKtMWOh6tg1Aq0xY6Hq2CUCrTFjoerYHQKtMWOh6tglAq0xY6Hq2DUA=",
          "dtype": "f8"
         },
         "yaxis": "y4"
        },
        {
         "fill": "toself",
         "fillcolor": "rgb(253, 177, 100)",
         "hoverinfo": "text",
         "hoveron": "fills",
         "line": {
          "color": "black",
          "width": 0
         },
         "mode": "lines",
         "showlegend": false,
         "text": "[]",
         "type": "scatter",
         "x": {
          "bdata": "y4SFrme7E0AAAAAAAAASQDV7elGYRBBANXt6UZhEEEAAAAAAAAASQMuEha5nuxNAy4SFrme7E0A=",
          "dtype": "f8"
         },
         "xaxis": "x4",
         "y": {
          "bdata": "6y830QxSEkDrLzfRDFITQOsvN9EMUhJA6y830QxSEEDWX26iGaQOQOsvN9EMUhBA6y830QxSEkA=",
          "dtype": "f8"
         },
         "yaxis": "y4"
        },
        {
         "fill": "toself",
         "fillcolor": "rgb(186, 20, 38)",
         "hoverinfo": "text",
         "hoveron": "fills",
         "line": {
          "color": "black",
          "width": 0
         },
         "mode": "lines",
         "showlegend": false,
         "text": "[54]",
         "type": "scatter",
         "x": {
          "bdata": "y4SFrme7GUAAAAAAAAAYQDV7elGYRBZANXt6UZhEFkAAAAAAAAAYQMuEha5nuxlAy4SFrme7GUA=",
          "dtype": "f8"
         },
         "xaxis": "x4",
         "y": {
          "bdata": "////////zz8AAAAAAADgPwMAAAAAANA/+///////z78AAAAAAADgv/r//////8+/AAAAAAAA0D8=",
          "dtype": "f8"
         },
         "yaxis": "y4"
        },
        {
         "fill": "toself",
         "fillcolor": "rgb(172, 7, 38)",
         "hoverinfo": "text",
         "hoveron": "fills",
         "line": {
          "color": "black",
          "width": 0
         },
         "mode": "lines",
         "showlegend": false,
         "text": "[96]",
         "type": "scatter",
         "x": {
          "bdata": "y4SFrme7F0AAAAAAAAAWQDV7elGYRBRANXt6UZhEFEAAAAAAAAAWQMuEha5nuxdAy4SFrme7F0A=",
          "dtype": "f8"
         },
         "xaxis": "x4",
         "y": {
          "bdata": "VSYsdD3b8T9WJix0Pdv1P1YmLHQ92/E/rExY6Hq24z9WmbDQ9WzXP6xMWOh6tuM/ViYsdD3b8T8=",
          "dtype": "f8"
         },
         "yaxis": "y4"
        },
        {
         "fill": "toself",
         "fillcolor": "rgb(209, 42, 39)",
         "hoverinfo": "text",
         "hoveron": "fills",
         "line": {
          "color": "black",
          "width": 0
         },
         "mode": "lines",
         "showlegend": false,
         "text": "[32, 56]",
         "type": "scatter",
         "x": {
          "bdata": "y4SFrme7GUAAAAAAAAAYQDV7elGYRBZANXt6UZhEFkAAAAAAAAAYQMuEha5nuxlAy4SFrme7GUA=",
          "dtype": "f8"
         },
         "xaxis": "x4",
         "y": {
          "bdata": "q0xY6Hq2/z9WJix0PdsBQKxMWOh6tv8/rExY6Hq29z+rTFjoerbzP6xMWOh6tvc/q0xY6Hq2/z8=",
          "dtype": "f8"
         },
         "yaxis": "y4"
        },
        {
         "fill": "toself",
         "fillcolor": "rgb(232, 83, 55)",
         "hoverinfo": "text",
         "hoveron": "fills",
         "line": {
          "color": "black",
          "width": 0
         },
         "mode": "lines",
         "showlegend": false,
         "text": "[58]",
         "type": "scatter",
         "x": {
          "bdata": "y4SFrme7F0AAAAAAAAAWQDV7elGYRBRANXt6UZhEFEAAAAAAAAAWQMuEha5nuxdAy4SFrme7F0A=",
          "dtype": "f8"
         },
         "xaxis": "x4",
         "y": {
          "bdata": "gDlCLtzIBkCAOUIu3MgIQIA5Qi7cyAZAgDlCLtzIAkCAOUIu3MgAQIA5Qi7cyAJAgDlCLtzIBkA=",
          "dtype": "f8"
         },
         "yaxis": "y4"
        },
        {
         "fill": "toself",
         "fillcolor": "rgb(245, 114, 69)",
         "hoverinfo": "text",
         "hoveron": "fills",
         "line": {
          "color": "black",
          "width": 0
         },
         "mode": "lines",
         "showlegend": false,
         "text": "[13]",
         "type": "scatter",
         "x": {
          "bdata": "y4SFrme7GUAAAAAAAAAYQDV7elGYRBZANXt6UZhEFkAAAAAAAAAYQMuEha5nuxlAy4SFrme7GUA=",
          "dtype": "f8"
         },
         "xaxis": "x4",
         "y": {
          "bdata": "q0xY6Hq2DUCrTFjoerYPQKtMWOh6tg1Aq0xY6Hq2CUCrTFjoerYHQKtMWOh6tglAq0xY6Hq2DUA=",
          "dtype": "f8"
         },
         "yaxis": "y4"
        },
        {
         "fill": "toself",
         "fillcolor": "rgb(248, 136, 80)",
         "hoverinfo": "text",
         "hoveron": "fills",
         "line": {
          "color": "black",
          "width": 0
         },
         "mode": "lines",
         "showlegend": false,
         "text": "[11, 12, 14, 67, 68, 69]",
         "type": "scatter",
         "x": {
          "bdata": "y4SFrme7F0AAAAAAAAAWQDV7elGYRBRANXt6UZhEFEAAAAAAAAAWQMuEha5nuxdAy4SFrme7F0A=",
          "dtype": "f8"
         },
         "xaxis": "x4",
         "y": {
          "bdata": "6y830QxSEkDrLzfRDFITQOsvN9EMUhJA6y830QxSEEDWX26iGaQOQOsvN9EMUhBA6y830QxSEkA=",
          "dtype": "f8"
         },
         "yaxis": "y4"
        },
        {
         "fill": "toself",
         "fillcolor": "rgb(250, 151, 86)",
         "hoverinfo": "text",
         "hoveron": "fills",
         "line": {
          "color": "black",
          "width": 0
         },
         "mode": "lines",
         "showlegend": false,
         "text": "[71]",
         "type": "scatter",
         "x": {
          "bdata": "y4SFrme7HUAAAAAAAAAcQDV7elGYRBpANXt6UZhEGkAAAAAAAAAcQMuEha5nux1Ay4SFrme7HUA=",
          "dtype": "f8"
         },
         "xaxis": "x4",
         "y": {
          "bdata": "////////zz8AAAAAAADgPwMAAAAAANA/+///////z78AAAAAAADgv/r//////8+/AAAAAAAA0D8=",
          "dtype": "f8"
         },
         "yaxis": "y4"
        },
        {
         "fill": "toself",
         "fillcolor": "rgb(218, 54, 42)",
         "hoverinfo": "text",
         "hoveron": "fills",
         "line": {
          "color": "black",
          "width": 0
         },
         "mode": "lines",
         "showlegend": false,
         "text": "[98]",
         "type": "scatter",
         "x": {
          "bdata": "y4SFrme7G0AAAAAAAAAaQDV7elGYRBhANXt6UZhEGEAAAAAAAAAaQMuEha5nuxtAy4SFrme7G0A=",
          "dtype": "f8"
         },
         "xaxis": "x4",
         "y": {
          "bdata": "VSYsdD3b8T9WJix0Pdv1P1YmLHQ92/E/rExY6Hq24z9WmbDQ9WzXP6xMWOh6tuM/ViYsdD3b8T8=",
          "dtype": "f8"
         },
         "yaxis": "y4"
        },
        {
         "fill": "toself",
         "fillcolor": "rgb(218, 53, 42)",
         "hoverinfo": "text",
         "hoveron": "fills",
         "line": {
          "color": "black",
          "width": 0
         },
         "mode": "lines",
         "showlegend": false,
         "text": "[99, 100, 101]",
         "type": "scatter",
         "x": {
          "bdata": "y4SFrme7HUAAAAAAAAAcQDV7elGYRBpANXt6UZhEGkAAAAAAAAAcQMuEha5nux1Ay4SFrme7HUA=",
          "dtype": "f8"
         },
         "xaxis": "x4",
         "y": {
          "bdata": "q0xY6Hq2/z9WJix0PdsBQKxMWOh6tv8/rExY6Hq29z+rTFjoerbzP6xMWOh6tvc/q0xY6Hq2/z8=",
          "dtype": "f8"
         },
         "yaxis": "y4"
        },
        {
         "fill": "toself",
         "fillcolor": "rgb(218, 54, 42)",
         "hoverinfo": "text",
         "hoveron": "fills",
         "line": {
          "color": "black",
          "width": 0
         },
         "mode": "lines",
         "showlegend": false,
         "text": "[30, 35]",
         "type": "scatter",
         "x": {
          "bdata": "y4SFrme7G0AAAAAAAAAaQDV7elGYRBhANXt6UZhEGEAAAAAAAAAaQMuEha5nuxtAy4SFrme7G0A=",
          "dtype": "f8"
         },
         "xaxis": "x4",
         "y": {
          "bdata": "gDlCLtzIBkCAOUIu3MgIQIA5Qi7cyAZAgDlCLtzIAkCAOUIu3MgAQIA5Qi7cyAJAgDlCLtzIBkA=",
          "dtype": "f8"
         },
         "yaxis": "y4"
        },
        {
         "fill": "toself",
         "fillcolor": "rgb(235, 90, 58)",
         "hoverinfo": "text",
         "hoveron": "fills",
         "line": {
          "color": "black",
          "width": 0
         },
         "mode": "lines",
         "showlegend": false,
         "text": "[]",
         "type": "scatter",
         "x": {
          "bdata": "y4SFrme7HUAAAAAAAAAcQDV7elGYRBpANXt6UZhEGkAAAAAAAAAcQMuEha5nux1Ay4SFrme7HUA=",
          "dtype": "f8"
         },
         "xaxis": "x4",
         "y": {
          "bdata": "q0xY6Hq2DUCrTFjoerYPQKtMWOh6tg1Aq0xY6Hq2CUCrTFjoerYHQKtMWOh6tglAq0xY6Hq2DUA=",
          "dtype": "f8"
         },
         "yaxis": "y4"
        },
        {
         "fill": "toself",
         "fillcolor": "rgb(243, 108, 66)",
         "hoverinfo": "text",
         "hoveron": "fills",
         "line": {
          "color": "black",
          "width": 0
         },
         "mode": "lines",
         "showlegend": false,
         "text": "[66, 86, 91, 93]",
         "type": "scatter",
         "x": {
          "bdata": "y4SFrme7G0AAAAAAAAAaQDV7elGYRBhANXt6UZhEGEAAAAAAAAAaQMuEha5nuxtAy4SFrme7G0A=",
          "dtype": "f8"
         },
         "xaxis": "x4",
         "y": {
          "bdata": "6y830QxSEkDrLzfRDFITQOsvN9EMUhJA6y830QxSEEDWX26iGaQOQOsvN9EMUhBA6y830QxSEkA=",
          "dtype": "f8"
         },
         "yaxis": "y4"
        },
        {
         "fill": "toself",
         "fillcolor": "rgb(253, 177, 100)",
         "hoverinfo": "text",
         "hoveron": "fills",
         "line": {
          "color": "black",
          "width": 0
         },
         "mode": "lines",
         "showlegend": false,
         "text": "[70, 72, 73, 74, 76]",
         "type": "scatter",
         "x": {
          "bdata": "ZcJC17PdIEAAAAAAAAAgQDV7elGYRB5ANXt6UZhEHkAAAAAAAAAgQGXCQtez3SBAZcJC17PdIEA=",
          "dtype": "f8"
         },
         "xaxis": "x4",
         "y": {
          "bdata": "////////zz8AAAAAAADgPwMAAAAAANA/+///////z78AAAAAAADgv/r//////8+/AAAAAAAA0D8=",
          "dtype": "f8"
         },
         "yaxis": "y4"
        },
        {
         "fill": "toself",
         "fillcolor": "rgb(249, 142, 82)",
         "hoverinfo": "text",
         "hoveron": "fills",
         "line": {
          "color": "black",
          "width": 0
         },
         "mode": "lines",
         "showlegend": false,
         "text": "[75, 77]",
         "type": "scatter",
         "x": {
          "bdata": "y4SFrme7H0AAAAAAAAAeQDV7elGYRBxANXt6UZhEHEAAAAAAAAAeQMuEha5nux9Ay4SFrme7H0A=",
          "dtype": "f8"
         },
         "xaxis": "x4",
         "y": {
          "bdata": "VSYsdD3b8T9WJix0Pdv1P1YmLHQ92/E/rExY6Hq24z9WmbDQ9WzXP6xMWOh6tuM/ViYsdD3b8T8=",
          "dtype": "f8"
         },
         "yaxis": "y4"
        },
        {
         "fill": "toself",
         "fillcolor": "rgb(238, 97, 61)",
         "hoverinfo": "text",
         "hoveron": "fills",
         "line": {
          "color": "black",
          "width": 0
         },
         "mode": "lines",
         "showlegend": false,
         "text": "[]",
         "type": "scatter",
         "x": {
          "bdata": "ZcJC17PdIEAAAAAAAAAgQDV7elGYRB5ANXt6UZhEHkAAAAAAAAAgQGXCQtez3SBAZcJC17PdIEA=",
          "dtype": "f8"
         },
         "xaxis": "x4",
         "y": {
          "bdata": "q0xY6Hq2/z9WJix0PdsBQKxMWOh6tv8/rExY6Hq29z+rTFjoerbzP6xMWOh6tvc/q0xY6Hq2/z8=",
          "dtype": "f8"
         },
         "yaxis": "y4"
        },
        {
         "fill": "toself",
         "fillcolor": "rgb(226, 72, 50)",
         "hoverinfo": "text",
         "hoveron": "fills",
         "line": {
          "color": "black",
          "width": 0
         },
         "mode": "lines",
         "showlegend": false,
         "text": "[31, 39]",
         "type": "scatter",
         "x": {
          "bdata": "y4SFrme7H0AAAAAAAAAeQDV7elGYRBxANXt6UZhEHEAAAAAAAAAeQMuEha5nux9Ay4SFrme7H0A=",
          "dtype": "f8"
         },
         "xaxis": "x4",
         "y": {
          "bdata": "gDlCLtzIBkCAOUIu3MgIQIA5Qi7cyAZAgDlCLtzIAkCAOUIu3MgAQIA5Qi7cyAJAgDlCLtzIBkA=",
          "dtype": "f8"
         },
         "yaxis": "y4"
        },
        {
         "fill": "toself",
         "fillcolor": "rgb(228, 75, 51)",
         "hoverinfo": "text",
         "hoveron": "fills",
         "line": {
          "color": "black",
          "width": 0
         },
         "mode": "lines",
         "showlegend": false,
         "text": "[59, 60, 61, 62]",
         "type": "scatter",
         "x": {
          "bdata": "ZcJC17PdIEAAAAAAAAAgQDV7elGYRB5ANXt6UZhEHkAAAAAAAAAgQGXCQtez3SBAZcJC17PdIEA=",
          "dtype": "f8"
         },
         "xaxis": "x4",
         "y": {
          "bdata": "q0xY6Hq2DUCrTFjoerYPQKtMWOh6tg1Aq0xY6Hq2CUCrTFjoerYHQKtMWOh6tglAq0xY6Hq2DUA=",
          "dtype": "f8"
         },
         "yaxis": "y4"
        },
        {
         "fill": "toself",
         "fillcolor": "rgb(235, 90, 58)",
         "hoverinfo": "text",
         "hoveron": "fills",
         "line": {
          "color": "black",
          "width": 0
         },
         "mode": "lines",
         "showlegend": false,
         "text": "[10, 65]",
         "type": "scatter",
         "x": {
          "bdata": "y4SFrme7H0AAAAAAAAAeQDV7elGYRBxANXt6UZhEHEAAAAAAAAAeQMuEha5nux9Ay4SFrme7H0A=",
          "dtype": "f8"
         },
         "xaxis": "x4",
         "y": {
          "bdata": "6y830QxSEkDrLzfRDFITQOsvN9EMUhJA6y830QxSEEDWX26iGaQOQOsvN9EMUhBA6y830QxSEkA=",
          "dtype": "f8"
         },
         "yaxis": "y4"
        },
        {
         "marker": {
          "color": [
           0.05458336414490223,
           0.7677022667627126
          ],
          "colorbar": {
           "len": 0.1,
           "thickness": 20,
           "x": 0.9,
           "y": 0.7
          },
          "colorscale": [
           [
            0,
            "rgb(165,0,38)"
           ],
           [
            0.1,
            "rgb(215,48,39)"
           ],
           [
            0.2,
            "rgb(244,109,67)"
           ],
           [
            0.3,
            "rgb(253,174,97)"
           ],
           [
            0.4,
            "rgb(254,224,144)"
           ],
           [
            0.5,
            "rgb(255,255,191)"
           ],
           [
            0.6,
            "rgb(224,243,248)"
           ],
           [
            0.7,
            "rgb(171,217,233)"
           ],
           [
            0.8,
            "rgb(116,173,209)"
           ],
           [
            0.9,
            "rgb(69,117,180)"
           ],
           [
            1,
            "rgb(49,54,149)"
           ]
          ],
          "size": 0.001
         },
         "showlegend": false,
         "type": "scatter",
         "x": [
          0,
          0
         ],
         "xaxis": "x4",
         "y": [
          0,
          0
         ],
         "yaxis": "y4"
        },
        {
         "fill": "toself",
         "fillcolor": "rgb(226, 70, 49)",
         "hoverinfo": "text",
         "hoveron": "fills",
         "line": {
          "color": "black",
          "width": 0
         },
         "mode": "lines",
         "showlegend": false,
         "text": "[5]",
         "type": "scatter",
         "x": {
          "bdata": "q0xY6Hq22z8HXBQzJqaBPKlMWOh6ttu/rExY6Hq2278Kip5MOXmavKxMWOh6tts/qkxY6Hq22z8=",
          "dtype": "f8"
         },
         "xaxis": "x5",
         "y": {
          "bdata": "////////zz8AAAAAAADgPwMAAAAAANA/+///////z78AAAAAAADgv/r//////8+/AAAAAAAA0D8=",
          "dtype": "f8"
         },
         "yaxis": "y5"
        },
        {
         "fill": "toself",
         "fillcolor": "rgb(226, 72, 50)",
         "hoverinfo": "text",
         "hoveron": "fills",
         "line": {
          "color": "black",
          "width": 0
         },
         "mode": "lines",
         "showlegend": false,
         "text": "[0, 4]",
         "type": "scatter",
         "x": {
          "bdata": "VM2eXhQmsb/////////fv1QmLHQ92+2/ViYsdD3b7b8BAAAAAADgv1DNnl4UJrG/WM2eXhQmsb8=",
          "dtype": "f8"
         },
         "xaxis": "x5",
         "y": {
          "bdata": "VSYsdD3b8T9WJix0Pdv1P1YmLHQ92/E/rExY6Hq24z9WmbDQ9WzXP6xMWOh6tuM/ViYsdD3b8T8=",
          "dtype": "f8"
         },
         "yaxis": "y5"
        },
        {
         "fill": "toself",
         "fillcolor": "rgb(248, 136, 80)",
         "hoverinfo": "text",
         "hoveron": "fills",
         "line": {
          "color": "black",
          "width": 0
         },
         "mode": "lines",
         "showlegend": false,
         "text": "[21, 22]",
         "type": "scatter",
         "x": {
          "bdata": "q0xY6Hq22z8HXBQzJqaBPKlMWOh6ttu/rExY6Hq2278Kip5MOXmavKxMWOh6tts/qkxY6Hq22z8=",
          "dtype": "f8"
         },
         "xaxis": "x5",
         "y": {
          "bdata": "q0xY6Hq2/z9WJix0PdsBQKxMWOh6tv8/rExY6Hq29z+rTFjoerbzP6xMWOh6tvc/q0xY6Hq2/z8=",
          "dtype": "f8"
         },
         "yaxis": "y5"
        },
        {
         "fill": "toself",
         "fillcolor": "rgb(251, 159, 90)",
         "hoverinfo": "text",
         "hoveron": "fills",
         "line": {
          "color": "black",
          "width": 0
         },
         "mode": "lines",
         "showlegend": false,
         "text": "[83, 85, 87, 89]",
         "type": "scatter",
         "x": {
          "bdata": "VM2eXhQmsb/////////fv1QmLHQ92+2/ViYsdD3b7b8BAAAAAADgv1DNnl4UJrG/WM2eXhQmsb8=",
          "dtype": "f8"
         },
         "xaxis": "x5",
         "y": {
          "bdata": "gDlCLtzIBkCAOUIu3MgIQIA5Qi7cyAZAgDlCLtzIAkCAOUIu3MgAQIA5Qi7cyAJAgDlCLtzIBkA=",
          "dtype": "f8"
         },
         "yaxis": "y5"
        },
        {
         "fill": "toself",
         "fillcolor": "rgb(254, 232, 156)",
         "hoverinfo": "text",
         "hoveron": "fills",
         "line": {
          "color": "black",
          "width": 0
         },
         "mode": "lines",
         "showlegend": false,
         "text": "[]",
         "type": "scatter",
         "x": {
          "bdata": "q0xY6Hq22z8HXBQzJqaBPKlMWOh6ttu/rExY6Hq2278Kip5MOXmavKxMWOh6tts/qkxY6Hq22z8=",
          "dtype": "f8"
         },
         "xaxis": "x5",
         "y": {
          "bdata": "q0xY6Hq2DUCrTFjoerYPQKtMWOh6tg1Aq0xY6Hq2CUCrTFjoerYHQKtMWOh6tglAq0xY6Hq2DUA=",
          "dtype": "f8"
         },
         "yaxis": "y5"
        },
        {
         "fill": "toself",
         "fillcolor": "rgb(237, 248, 224)",
         "hoverinfo": "text",
         "hoveron": "fills",
         "line": {
          "color": "black",
          "width": 0
         },
         "mode": "lines",
         "showlegend": false,
         "text": "[40, 43, 46, 92]",
         "type": "scatter",
         "x": {
          "bdata": "VM2eXhQmsb/////////fv1QmLHQ92+2/ViYsdD3b7b8BAAAAAADgv1DNnl4UJrG/WM2eXhQmsb8=",
          "dtype": "f8"
         },
         "xaxis": "x5",
         "y": {
          "bdata": "6y830QxSEkDrLzfRDFITQOsvN9EMUhJA6y830QxSEEDWX26iGaQOQOsvN9EMUhBA6y830QxSEkA=",
          "dtype": "f8"
         },
         "yaxis": "y5"
        },
        {
         "fill": "toself",
         "fillcolor": "rgb(226, 71, 49)",
         "hoverinfo": "text",
         "hoveron": "fills",
         "line": {
          "color": "black",
          "width": 0
         },
         "mode": "lines",
         "showlegend": false,
         "text": "[2, 3, 6]",
         "type": "scatter",
         "x": {
          "bdata": "KxMWup7t9j8AAAAAAADwP6zZ04vCJOI/qtnTi8Ik4j/////////vPysTFrqe7fY/KhMWup7t9j8=",
          "dtype": "f8"
         },
         "xaxis": "x5",
         "y": {
          "bdata": "////////zz8AAAAAAADgPwMAAAAAANA/+///////z78AAAAAAADgv/r//////8+/AAAAAAAA0D8=",
          "dtype": "f8"
         },
         "yaxis": "y5"
        },
        {
         "fill": "toself",
         "fillcolor": "rgb(235, 89, 58)",
         "hoverinfo": "text",
         "hoveron": "fills",
         "line": {
          "color": "black",
          "width": 0
         },
         "mode": "lines",
         "showlegend": false,
         "text": "[9, 50]",
         "type": "scatter",
         "x": {
          "bdata": "ViYsdD3b7T8AAAAAAADgP1zNnl4UJrE/UM2eXhQmsT/+///////fP1YmLHQ92+0/VSYsdD3b7T8=",
          "dtype": "f8"
         },
         "xaxis": "x5",
         "y": {
          "bdata": "VSYsdD3b8T9WJix0Pdv1P1YmLHQ92/E/rExY6Hq24z9WmbDQ9WzXP6xMWOh6tuM/ViYsdD3b8T8=",
          "dtype": "f8"
         },
         "yaxis": "y5"
        },
        {
         "fill": "toself",
         "fillcolor": "rgb(249, 143, 82)",
         "hoverinfo": "text",
         "hoveron": "fills",
         "line": {
          "color": "black",
          "width": 0
         },
         "mode": "lines",
         "showlegend": false,
         "text": "[24, 25, 26]",
         "type": "scatter",
         "x": {
          "bdata": "KxMWup7t9j8AAAAAAADwP6zZ04vCJOI/qtnTi8Ik4j/////////vPysTFrqe7fY/KhMWup7t9j8=",
          "dtype": "f8"
         },
         "xaxis": "x5",
         "y": {
          "bdata": "q0xY6Hq2/z9WJix0PdsBQKxMWOh6tv8/rExY6Hq29z+rTFjoerbzP6xMWOh6tvc/q0xY6Hq2/z8=",
          "dtype": "f8"
         },
         "yaxis": "y5"
        },
        {
         "fill": "toself",
         "fillcolor": "rgb(253, 178, 101)",
         "hoverinfo": "text",
         "hoveron": "fills",
         "line": {
          "color": "black",
          "width": 0
         },
         "mode": "lines",
         "showlegend": false,
         "text": "[53, 79, 82, 84]",
         "type": "scatter",
         "x": {
          "bdata": "ViYsdD3b7T8AAAAAAADgP1zNnl4UJrE/UM2eXhQmsT/+///////fP1YmLHQ92+0/VSYsdD3b7T8=",
          "dtype": "f8"
         },
         "xaxis": "x5",
         "y": {
          "bdata": "gDlCLtzIBkCAOUIu3MgIQIA5Qi7cyAZAgDlCLtzIAkCAOUIu3MgAQIA5Qi7cyAJAgDlCLtzIBkA=",
          "dtype": "f8"
         },
         "yaxis": "y5"
        },
        {
         "fill": "toself",
         "fillcolor": "rgb(255, 247, 178)",
         "hoverinfo": "text",
         "hoveron": "fills",
         "line": {
          "color": "black",
          "width": 0
         },
         "mode": "lines",
         "showlegend": false,
         "text": "[]",
         "type": "scatter",
         "x": {
          "bdata": "KxMWup7t9j8AAAAAAADwP6zZ04vCJOI/qtnTi8Ik4j/////////vPysTFrqe7fY/KhMWup7t9j8=",
          "dtype": "f8"
         },
         "xaxis": "x5",
         "y": {
          "bdata": "q0xY6Hq2DUCrTFjoerYPQKtMWOh6tg1Aq0xY6Hq2CUCrTFjoerYHQKtMWOh6tglAq0xY6Hq2DUA=",
          "dtype": "f8"
         },
         "yaxis": "y5"
        },
        {
         "fill": "toself",
         "fillcolor": "rgb(193, 228, 239)",
         "hoverinfo": "text",
         "hoveron": "fills",
         "line": {
          "color": "black",
          "width": 0
         },
         "mode": "lines",
         "showlegend": false,
         "text": "[42, 44, 45]",
         "type": "scatter",
         "x": {
          "bdata": "ViYsdD3b7T8AAAAAAADgP1zNnl4UJrE/UM2eXhQmsT/+///////fP1YmLHQ92+0/VSYsdD3b7T8=",
          "dtype": "f8"
         },
         "xaxis": "x5",
         "y": {
          "bdata": "6y830QxSEkDrLzfRDFITQOsvN9EMUhJA6y830QxSEEDWX26iGaQOQOsvN9EMUhBA6y830QxSEkA=",
          "dtype": "f8"
         },
         "yaxis": "y5"
        },
        {
         "fill": "toself",
         "fillcolor": "rgb(223, 64, 46)",
         "hoverinfo": "text",
         "hoveron": "fills",
         "line": {
          "color": "black",
          "width": 0
         },
         "mode": "lines",
         "showlegend": false,
         "text": "[]",
         "type": "scatter",
         "x": {
          "bdata": "lQkLXc92A0AAAAAAAAAAQNbs6UVhEvk/1ezpRWES+T8AAAAAAAAAQJYJC13PdgNAlQkLXc92A0A=",
          "dtype": "f8"
         },
         "xaxis": "x5",
         "y": {
          "bdata": "////////zz8AAAAAAADgPwMAAAAAANA/+///////z78AAAAAAADgv/r//////8+/AAAAAAAA0D8=",
          "dtype": "f8"
         },
         "yaxis": "y5"
        },
        {
         "fill": "toself",
         "fillcolor": "rgb(233, 86, 57)",
         "hoverinfo": "text",
         "hoveron": "fills",
         "line": {
          "color": "black",
          "width": 0
         },
         "mode": "lines",
         "showlegend": false,
         "text": "[1, 7, 8, 52]",
         "type": "scatter",
         "x": {
          "bdata": "KxMWup7t/j8AAAAAAAD4P9bs6UVhEvE/1ezpRWES8T8AAAAAAAD4PysTFrqe7f4/KhMWup7t/j8=",
          "dtype": "f8"
         },
         "xaxis": "x5",
         "y": {
          "bdata": "VSYsdD3b8T9WJix0Pdv1P1YmLHQ92/E/rExY6Hq24z9WmbDQ9WzXP6xMWOh6tuM/ViYsdD3b8T8=",
          "dtype": "f8"
         },
         "yaxis": "y5"
        },
        {
         "fill": "toself",
         "fillcolor": "rgb(249, 142, 82)",
         "hoverinfo": "text",
         "hoveron": "fills",
         "line": {
          "color": "black",
          "width": 0
         },
         "mode": "lines",
         "showlegend": false,
         "text": "[57, 81]",
         "type": "scatter",
         "x": {
          "bdata": "lQkLXc92A0AAAAAAAAAAQNbs6UVhEvk/1ezpRWES+T8AAAAAAAAAQJYJC13PdgNAlQkLXc92A0A=",
          "dtype": "f8"
         },
         "xaxis": "x5",
         "y": {
          "bdata": "q0xY6Hq2/z9WJix0PdsBQKxMWOh6tv8/rExY6Hq29z+rTFjoerbzP6xMWOh6tvc/q0xY6Hq2/z8=",
          "dtype": "f8"
         },
         "yaxis": "y5"
        },
        {
         "fill": "toself",
         "fillcolor": "rgb(253, 198, 120)",
         "hoverinfo": "text",
         "hoveron": "fills",
         "line": {
          "color": "black",
          "width": 0
         },
         "mode": "lines",
         "showlegend": false,
         "text": "[80, 88]",
         "type": "scatter",
         "x": {
          "bdata": "KxMWup7t/j8AAAAAAAD4P9bs6UVhEvE/1ezpRWES8T8AAAAAAAD4PysTFrqe7f4/KhMWup7t/j8=",
          "dtype": "f8"
         },
         "xaxis": "x5",
         "y": {
          "bdata": "gDlCLtzIBkCAOUIu3MgIQIA5Qi7cyAZAgDlCLtzIAkCAOUIu3MgAQIA5Qi7cyAJAgDlCLtzIBkA=",
          "dtype": "f8"
         },
         "yaxis": "y5"
        },
        {
         "fill": "toself",
         "fillcolor": "rgb(205, 234, 243)",
         "hoverinfo": "text",
         "hoveron": "fills",
         "line": {
          "color": "black",
          "width": 0
         },
         "mode": "lines",
         "showlegend": false,
         "text": "[]",
         "type": "scatter",
         "x": {
          "bdata": "lQkLXc92A0AAAAAAAAAAQNbs6UVhEvk/1ezpRWES+T8AAAAAAAAAQJYJC13PdgNAlQkLXc92A0A=",
          "dtype": "f8"
         },
         "xaxis": "x5",
         "y": {
          "bdata": "q0xY6Hq2DUCrTFjoerYPQKtMWOh6tg1Aq0xY6Hq2CUCrTFjoerYHQKtMWOh6tglAq0xY6Hq2DUA=",
          "dtype": "f8"
         },
         "yaxis": "y5"
        },
        {
         "fill": "toself",
         "fillcolor": "rgb(133, 187, 217)",
         "hoverinfo": "text",
         "hoveron": "fills",
         "line": {
          "color": "black",
          "width": 0
         },
         "mode": "lines",
         "showlegend": false,
         "text": "[]",
         "type": "scatter",
         "x": {
          "bdata": "KxMWup7t/j8AAAAAAAD4P9bs6UVhEvE/1ezpRWES8T8AAAAAAAD4PysTFrqe7f4/KhMWup7t/j8=",
          "dtype": "f8"
         },
         "xaxis": "x5",
         "y": {
          "bdata": "6y830QxSEkDrLzfRDFITQOsvN9EMUhJA6y830QxSEEDWX26iGaQOQOsvN9EMUhBA6y830QxSEkA=",
          "dtype": "f8"
         },
         "yaxis": "y5"
        },
        {
         "fill": "toself",
         "fillcolor": "rgb(216, 50, 40)",
         "hoverinfo": "text",
         "hoveron": "fills",
         "line": {
          "color": "black",
          "width": 0
         },
         "mode": "lines",
         "showlegend": false,
         "text": "[47, 48, 49, 51]",
         "type": "scatter",
         "x": {
          "bdata": "lQkLXc92C0AAAAAAAAAIQGv29KIwiQRAavb0ojCJBEAAAAAAAAAIQJYJC13PdgtAlQkLXc92C0A=",
          "dtype": "f8"
         },
         "xaxis": "x5",
         "y": {
          "bdata": "////////zz8AAAAAAADgPwMAAAAAANA/+///////z78AAAAAAADgv/r//////8+/AAAAAAAA0D8=",
          "dtype": "f8"
         },
         "yaxis": "y5"
        },
        {
         "fill": "toself",
         "fillcolor": "rgb(227, 73, 50)",
         "hoverinfo": "text",
         "hoveron": "fills",
         "line": {
          "color": "black",
          "width": 0
         },
         "mode": "lines",
         "showlegend": false,
         "text": "[41]",
         "type": "scatter",
         "x": {
          "bdata": "lQkLXc92B0AAAAAAAAAEQGv29KIwiQBAavb0ojCJAEAAAAAAAAAEQJYJC13PdgdAlQkLXc92B0A=",
          "dtype": "f8"
         },
         "xaxis": "x5",
         "y": {
          "bdata": "VSYsdD3b8T9WJix0Pdv1P1YmLHQ92/E/rExY6Hq24z9WmbDQ9WzXP6xMWOh6tuM/ViYsdD3b8T8=",
          "dtype": "f8"
         },
         "yaxis": "y5"
        },
        {
         "fill": "toself",
         "fillcolor": "rgb(247, 131, 77)",
         "hoverinfo": "text",
         "hoveron": "fills",
         "line": {
          "color": "black",
          "width": 0
         },
         "mode": "lines",
         "showlegend": false,
         "text": "[]",
         "type": "scatter",
         "x": {
          "bdata": "lQkLXc92C0AAAAAAAAAIQGv29KIwiQRAavb0ojCJBEAAAAAAAAAIQJYJC13PdgtAlQkLXc92C0A=",
          "dtype": "f8"
         },
         "xaxis": "x5",
         "y": {
          "bdata": "q0xY6Hq2/z9WJix0PdsBQKxMWOh6tv8/rExY6Hq29z+rTFjoerbzP6xMWOh6tvc/q0xY6Hq2/z8=",
          "dtype": "f8"
         },
         "yaxis": "y5"
        },
        {
         "fill": "toself",
         "fillcolor": "rgb(254, 233, 157)",
         "hoverinfo": "text",
         "hoveron": "fills",
         "line": {
          "color": "black",
          "width": 0
         },
         "mode": "lines",
         "showlegend": false,
         "text": "[63]",
         "type": "scatter",
         "x": {
          "bdata": "lQkLXc92B0AAAAAAAAAEQGv29KIwiQBAavb0ojCJAEAAAAAAAAAEQJYJC13PdgdAlQkLXc92B0A=",
          "dtype": "f8"
         },
         "xaxis": "x5",
         "y": {
          "bdata": "gDlCLtzIBkCAOUIu3MgIQIA5Qi7cyAZAgDlCLtzIAkCAOUIu3MgAQIA5Qi7cyAJAgDlCLtzIBkA=",
          "dtype": "f8"
         },
         "yaxis": "y5"
        },
        {
         "fill": "toself",
         "fillcolor": "rgb(224, 243, 248)",
         "hoverinfo": "text",
         "hoveron": "fills",
         "line": {
          "color": "black",
          "width": 0
         },
         "mode": "lines",
         "showlegend": false,
         "text": "[]",
         "type": "scatter",
         "x": {
          "bdata": "lQkLXc92C0AAAAAAAAAIQGv29KIwiQRAavb0ojCJBEAAAAAAAAAIQJYJC13PdgtAlQkLXc92C0A=",
          "dtype": "f8"
         },
         "xaxis": "x5",
         "y": {
          "bdata": "q0xY6Hq2DUCrTFjoerYPQKtMWOh6tg1Aq0xY6Hq2CUCrTFjoerYHQKtMWOh6tglAq0xY6Hq2DUA=",
          "dtype": "f8"
         },
         "yaxis": "y5"
        },
        {
         "fill": "toself",
         "fillcolor": "rgb(49, 54, 149)",
         "hoverinfo": "text",
         "hoveron": "fills",
         "line": {
          "color": "black",
          "width": 0
         },
         "mode": "lines",
         "showlegend": false,
         "text": "[37, 38]",
         "type": "scatter",
         "x": {
          "bdata": "lQkLXc92B0AAAAAAAAAEQGv29KIwiQBAavb0ojCJAEAAAAAAAAAEQJYJC13PdgdAlQkLXc92B0A=",
          "dtype": "f8"
         },
         "xaxis": "x5",
         "y": {
          "bdata": "6y830QxSEkDrLzfRDFITQOsvN9EMUhJA6y830QxSEEDWX26iGaQOQOsvN9EMUhBA6y830QxSEkA=",
          "dtype": "f8"
         },
         "yaxis": "y5"
        },
        {
         "fill": "toself",
         "fillcolor": "rgb(212, 45, 39)",
         "hoverinfo": "text",
         "hoveron": "fills",
         "line": {
          "color": "black",
          "width": 0
         },
         "mode": "lines",
         "showlegend": false,
         "text": "[55]",
         "type": "scatter",
         "x": {
          "bdata": "y4SFrme7EUAAAAAAAAAQQGv29KIwiQxAavb0ojCJDEAAAAAAAAAQQMuEha5nuxFAy4SFrme7EUA=",
          "dtype": "f8"
         },
         "xaxis": "x5",
         "y": {
          "bdata": "////////zz8AAAAAAADgPwMAAAAAANA/+///////z78AAAAAAADgv/r//////8+/AAAAAAAA0D8=",
          "dtype": "f8"
         },
         "yaxis": "y5"
        },
        {
         "fill": "toself",
         "fillcolor": "rgb(223, 66, 47)",
         "hoverinfo": "text",
         "hoveron": "fills",
         "line": {
          "color": "black",
          "width": 0
         },
         "mode": "lines",
         "showlegend": false,
         "text": "[15, 16, 17, 18, 19, 20]",
         "type": "scatter",
         "x": {
          "bdata": "lQkLXc92D0AAAAAAAAAMQGv29KIwiQhAavb0ojCJCEAAAAAAAAAMQJYJC13Pdg9AlQkLXc92D0A=",
          "dtype": "f8"
         },
         "xaxis": "x5",
         "y": {
          "bdata": "VSYsdD3b8T9WJix0Pdv1P1YmLHQ92/E/rExY6Hq24z9WmbDQ9WzXP6xMWOh6tuM/ViYsdD3b8T8=",
          "dtype": "f8"
         },
         "yaxis": "y5"
        },
        {
         "fill": "toself",
         "fillcolor": "rgb(245, 113, 69)",
         "hoverinfo": "text",
         "hoveron": "fills",
         "line": {
          "color": "black",
          "width": 0
         },
         "mode": "lines",
         "showlegend": false,
         "text": "[23, 78, 90]",
         "type": "scatter",
         "x": {
          "bdata": "y4SFrme7EUAAAAAAAAAQQGv29KIwiQxAavb0ojCJDEAAAAAAAAAQQMuEha5nuxFAy4SFrme7EUA=",
          "dtype": "f8"
         },
         "xaxis": "x5",
         "y": {
          "bdata": "q0xY6Hq2/z9WJix0PdsBQKxMWOh6tv8/rExY6Hq29z+rTFjoerbzP6xMWOh6tvc/q0xY6Hq2/z8=",
          "dtype": "f8"
         },
         "yaxis": "y5"
        },
        {
         "fill": "toself",
         "fillcolor": "rgb(253, 198, 120)",
         "hoverinfo": "text",
         "hoveron": "fills",
         "line": {
          "color": "black",
          "width": 0
         },
         "mode": "lines",
         "showlegend": false,
         "text": "[27, 29, 36]",
         "type": "scatter",
         "x": {
          "bdata": "lQkLXc92D0AAAAAAAAAMQGv29KIwiQhAavb0ojCJCEAAAAAAAAAMQJYJC13Pdg9AlQkLXc92D0A=",
          "dtype": "f8"
         },
         "xaxis": "x5",
         "y": {
          "bdata": "gDlCLtzIBkCAOUIu3MgIQIA5Qi7cyAZAgDlCLtzIAkCAOUIu3MgAQIA5Qi7cyAJAgDlCLtzIBkA=",
          "dtype": "f8"
         },
         "yaxis": "y5"
        },
        {
         "fill": "toself",
         "fillcolor": "rgb(254, 228, 151)",
         "hoverinfo": "text",
         "hoveron": "fills",
         "line": {
          "color": "black",
          "width": 0
         },
         "mode": "lines",
         "showlegend": false,
         "text": "[64]",
         "type": "scatter",
         "x": {
          "bdata": "y4SFrme7EUAAAAAAAAAQQGv29KIwiQxAavb0ojCJDEAAAAAAAAAQQMuEha5nuxFAy4SFrme7EUA=",
          "dtype": "f8"
         },
         "xaxis": "x5",
         "y": {
          "bdata": "q0xY6Hq2DUCrTFjoerYPQKtMWOh6tg1Aq0xY6Hq2CUCrTFjoerYHQKtMWOh6tglAq0xY6Hq2DUA=",
          "dtype": "f8"
         },
         "yaxis": "y5"
        },
        {
         "fill": "toself",
         "fillcolor": "rgb(184, 223, 237)",
         "hoverinfo": "text",
         "hoveron": "fills",
         "line": {
          "color": "black",
          "width": 0
         },
         "mode": "lines",
         "showlegend": false,
         "text": "[]",
         "type": "scatter",
         "x": {
          "bdata": "lQkLXc92D0AAAAAAAAAMQGv29KIwiQhAavb0ojCJCEAAAAAAAAAMQJYJC13Pdg9AlQkLXc92D0A=",
          "dtype": "f8"
         },
         "xaxis": "x5",
         "y": {
          "bdata": "6y830QxSEkDrLzfRDFITQOsvN9EMUhJA6y830QxSEEDWX26iGaQOQOsvN9EMUhBA6y830QxSEkA=",
          "dtype": "f8"
         },
         "yaxis": "y5"
        },
        {
         "fill": "toself",
         "fillcolor": "rgb(165, 0, 38)",
         "hoverinfo": "text",
         "hoveron": "fills",
         "line": {
          "color": "black",
          "width": 0
         },
         "mode": "lines",
         "showlegend": false,
         "text": "[95, 97]",
         "type": "scatter",
         "x": {
          "bdata": "y4SFrme7FUAAAAAAAAAUQDV7elGYRBJANXt6UZhEEkAAAAAAAAAUQMuEha5nuxVAy4SFrme7FUA=",
          "dtype": "f8"
         },
         "xaxis": "x5",
         "y": {
          "bdata": "////////zz8AAAAAAADgPwMAAAAAANA/+///////z78AAAAAAADgv/r//////8+/AAAAAAAA0D8=",
          "dtype": "f8"
         },
         "yaxis": "y5"
        },
        {
         "fill": "toself",
         "fillcolor": "rgb(212, 45, 39)",
         "hoverinfo": "text",
         "hoveron": "fills",
         "line": {
          "color": "black",
          "width": 0
         },
         "mode": "lines",
         "showlegend": false,
         "text": "[94]",
         "type": "scatter",
         "x": {
          "bdata": "y4SFrme7E0AAAAAAAAASQDV7elGYRBBANXt6UZhEEEAAAAAAAAASQMuEha5nuxNAy4SFrme7E0A=",
          "dtype": "f8"
         },
         "xaxis": "x5",
         "y": {
          "bdata": "VSYsdD3b8T9WJix0Pdv1P1YmLHQ92/E/rExY6Hq24z9WmbDQ9WzXP6xMWOh6tuM/ViYsdD3b8T8=",
          "dtype": "f8"
         },
         "yaxis": "y5"
        },
        {
         "fill": "toself",
         "fillcolor": "rgb(224, 67, 48)",
         "hoverinfo": "text",
         "hoveron": "fills",
         "line": {
          "color": "black",
          "width": 0
         },
         "mode": "lines",
         "showlegend": false,
         "text": "[33, 34]",
         "type": "scatter",
         "x": {
          "bdata": "y4SFrme7FUAAAAAAAAAUQDV7elGYRBJANXt6UZhEEkAAAAAAAAAUQMuEha5nuxVAy4SFrme7FUA=",
          "dtype": "f8"
         },
         "xaxis": "x5",
         "y": {
          "bdata": "q0xY6Hq2/z9WJix0PdsBQKxMWOh6tv8/rExY6Hq29z+rTFjoerbzP6xMWOh6tvc/q0xY6Hq2/z8=",
          "dtype": "f8"
         },
         "yaxis": "y5"
        },
        {
         "fill": "toself",
         "fillcolor": "rgb(250, 150, 86)",
         "hoverinfo": "text",
         "hoveron": "fills",
         "line": {
          "color": "black",
          "width": 0
         },
         "mode": "lines",
         "showlegend": false,
         "text": "[28]",
         "type": "scatter",
         "x": {
          "bdata": "y4SFrme7E0AAAAAAAAASQDV7elGYRBBANXt6UZhEEEAAAAAAAAASQMuEha5nuxNAy4SFrme7E0A=",
          "dtype": "f8"
         },
         "xaxis": "x5",
         "y": {
          "bdata": "gDlCLtzIBkCAOUIu3MgIQIA5Qi7cyAZAgDlCLtzIAkCAOUIu3MgAQIA5Qi7cyAJAgDlCLtzIBkA=",
          "dtype": "f8"
         },
         "yaxis": "y5"
        },
        {
         "fill": "toself",
         "fillcolor": "rgb(251, 160, 91)",
         "hoverinfo": "text",
         "hoveron": "fills",
         "line": {
          "color": "black",
          "width": 0
         },
         "mode": "lines",
         "showlegend": false,
         "text": "[]",
         "type": "scatter",
         "x": {
          "bdata": "y4SFrme7FUAAAAAAAAAUQDV7elGYRBJANXt6UZhEEkAAAAAAAAAUQMuEha5nuxVAy4SFrme7FUA=",
          "dtype": "f8"
         },
         "xaxis": "x5",
         "y": {
          "bdata": "q0xY6Hq2DUCrTFjoerYPQKtMWOh6tg1Aq0xY6Hq2CUCrTFjoerYHQKtMWOh6tglAq0xY6Hq2DUA=",
          "dtype": "f8"
         },
         "yaxis": "y5"
        },
        {
         "fill": "toself",
         "fillcolor": "rgb(253, 178, 101)",
         "hoverinfo": "text",
         "hoveron": "fills",
         "line": {
          "color": "black",
          "width": 0
         },
         "mode": "lines",
         "showlegend": false,
         "text": "[]",
         "type": "scatter",
         "x": {
          "bdata": "y4SFrme7E0AAAAAAAAASQDV7elGYRBBANXt6UZhEEEAAAAAAAAASQMuEha5nuxNAy4SFrme7E0A=",
          "dtype": "f8"
         },
         "xaxis": "x5",
         "y": {
          "bdata": "6y830QxSEkDrLzfRDFITQOsvN9EMUhJA6y830QxSEEDWX26iGaQOQOsvN9EMUhBA6y830QxSEkA=",
          "dtype": "f8"
         },
         "yaxis": "y5"
        },
        {
         "fill": "toself",
         "fillcolor": "rgb(184, 18, 38)",
         "hoverinfo": "text",
         "hoveron": "fills",
         "line": {
          "color": "black",
          "width": 0
         },
         "mode": "lines",
         "showlegend": false,
         "text": "[54]",
         "type": "scatter",
         "x": {
          "bdata": "y4SFrme7GUAAAAAAAAAYQDV7elGYRBZANXt6UZhEFkAAAAAAAAAYQMuEha5nuxlAy4SFrme7GUA=",
          "dtype": "f8"
         },
         "xaxis": "x5",
         "y": {
          "bdata": "////////zz8AAAAAAADgPwMAAAAAANA/+///////z78AAAAAAADgv/r//////8+/AAAAAAAA0D8=",
          "dtype": "f8"
         },
         "yaxis": "y5"
        },
        {
         "fill": "toself",
         "fillcolor": "rgb(171, 6, 38)",
         "hoverinfo": "text",
         "hoveron": "fills",
         "line": {
          "color": "black",
          "width": 0
         },
         "mode": "lines",
         "showlegend": false,
         "text": "[96]",
         "type": "scatter",
         "x": {
          "bdata": "y4SFrme7F0AAAAAAAAAWQDV7elGYRBRANXt6UZhEFEAAAAAAAAAWQMuEha5nuxdAy4SFrme7F0A=",
          "dtype": "f8"
         },
         "xaxis": "x5",
         "y": {
          "bdata": "VSYsdD3b8T9WJix0Pdv1P1YmLHQ92/E/rExY6Hq24z9WmbDQ9WzXP6xMWOh6tuM/ViYsdD3b8T8=",
          "dtype": "f8"
         },
         "yaxis": "y5"
        },
        {
         "fill": "toself",
         "fillcolor": "rgb(211, 44, 39)",
         "hoverinfo": "text",
         "hoveron": "fills",
         "line": {
          "color": "black",
          "width": 0
         },
         "mode": "lines",
         "showlegend": false,
         "text": "[32, 56]",
         "type": "scatter",
         "x": {
          "bdata": "y4SFrme7GUAAAAAAAAAYQDV7elGYRBZANXt6UZhEFkAAAAAAAAAYQMuEha5nuxlAy4SFrme7GUA=",
          "dtype": "f8"
         },
         "xaxis": "x5",
         "y": {
          "bdata": "q0xY6Hq2/z9WJix0PdsBQKxMWOh6tv8/rExY6Hq29z+rTFjoerbzP6xMWOh6tvc/q0xY6Hq2/z8=",
          "dtype": "f8"
         },
         "yaxis": "y5"
        },
        {
         "fill": "toself",
         "fillcolor": "rgb(233, 85, 56)",
         "hoverinfo": "text",
         "hoveron": "fills",
         "line": {
          "color": "black",
          "width": 0
         },
         "mode": "lines",
         "showlegend": false,
         "text": "[58]",
         "type": "scatter",
         "x": {
          "bdata": "y4SFrme7F0AAAAAAAAAWQDV7elGYRBRANXt6UZhEFEAAAAAAAAAWQMuEha5nuxdAy4SFrme7F0A=",
          "dtype": "f8"
         },
         "xaxis": "x5",
         "y": {
          "bdata": "gDlCLtzIBkCAOUIu3MgIQIA5Qi7cyAZAgDlCLtzIAkCAOUIu3MgAQIA5Qi7cyAJAgDlCLtzIBkA=",
          "dtype": "f8"
         },
         "yaxis": "y5"
        },
        {
         "fill": "toself",
         "fillcolor": "rgb(245, 114, 69)",
         "hoverinfo": "text",
         "hoveron": "fills",
         "line": {
          "color": "black",
          "width": 0
         },
         "mode": "lines",
         "showlegend": false,
         "text": "[13]",
         "type": "scatter",
         "x": {
          "bdata": "y4SFrme7GUAAAAAAAAAYQDV7elGYRBZANXt6UZhEFkAAAAAAAAAYQMuEha5nuxlAy4SFrme7GUA=",
          "dtype": "f8"
         },
         "xaxis": "x5",
         "y": {
          "bdata": "q0xY6Hq2DUCrTFjoerYPQKtMWOh6tg1Aq0xY6Hq2CUCrTFjoerYHQKtMWOh6tglAq0xY6Hq2DUA=",
          "dtype": "f8"
         },
         "yaxis": "y5"
        },
        {
         "fill": "toself",
         "fillcolor": "rgb(248, 136, 80)",
         "hoverinfo": "text",
         "hoveron": "fills",
         "line": {
          "color": "black",
          "width": 0
         },
         "mode": "lines",
         "showlegend": false,
         "text": "[11, 12, 14, 67, 68, 69]",
         "type": "scatter",
         "x": {
          "bdata": "y4SFrme7F0AAAAAAAAAWQDV7elGYRBRANXt6UZhEFEAAAAAAAAAWQMuEha5nuxdAy4SFrme7F0A=",
          "dtype": "f8"
         },
         "xaxis": "x5",
         "y": {
          "bdata": "6y830QxSEkDrLzfRDFITQOsvN9EMUhJA6y830QxSEEDWX26iGaQOQOsvN9EMUhBA6y830QxSEkA=",
          "dtype": "f8"
         },
         "yaxis": "y5"
        },
        {
         "fill": "toself",
         "fillcolor": "rgb(250, 150, 86)",
         "hoverinfo": "text",
         "hoveron": "fills",
         "line": {
          "color": "black",
          "width": 0
         },
         "mode": "lines",
         "showlegend": false,
         "text": "[71]",
         "type": "scatter",
         "x": {
          "bdata": "y4SFrme7HUAAAAAAAAAcQDV7elGYRBpANXt6UZhEGkAAAAAAAAAcQMuEha5nux1Ay4SFrme7HUA=",
          "dtype": "f8"
         },
         "xaxis": "x5",
         "y": {
          "bdata": "////////zz8AAAAAAADgPwMAAAAAANA/+///////z78AAAAAAADgv/r//////8+/AAAAAAAA0D8=",
          "dtype": "f8"
         },
         "yaxis": "y5"
        },
        {
         "fill": "toself",
         "fillcolor": "rgb(219, 56, 43)",
         "hoverinfo": "text",
         "hoveron": "fills",
         "line": {
          "color": "black",
          "width": 0
         },
         "mode": "lines",
         "showlegend": false,
         "text": "[98]",
         "type": "scatter",
         "x": {
          "bdata": "y4SFrme7G0AAAAAAAAAaQDV7elGYRBhANXt6UZhEGEAAAAAAAAAaQMuEha5nuxtAy4SFrme7G0A=",
          "dtype": "f8"
         },
         "xaxis": "x5",
         "y": {
          "bdata": "VSYsdD3b8T9WJix0Pdv1P1YmLHQ92/E/rExY6Hq24z9WmbDQ9WzXP6xMWOh6tuM/ViYsdD3b8T8=",
          "dtype": "f8"
         },
         "yaxis": "y5"
        },
        {
         "fill": "toself",
         "fillcolor": "rgb(219, 56, 43)",
         "hoverinfo": "text",
         "hoveron": "fills",
         "line": {
          "color": "black",
          "width": 0
         },
         "mode": "lines",
         "showlegend": false,
         "text": "[99, 100, 101]",
         "type": "scatter",
         "x": {
          "bdata": "y4SFrme7HUAAAAAAAAAcQDV7elGYRBpANXt6UZhEGkAAAAAAAAAcQMuEha5nux1Ay4SFrme7HUA=",
          "dtype": "f8"
         },
         "xaxis": "x5",
         "y": {
          "bdata": "q0xY6Hq2/z9WJix0PdsBQKxMWOh6tv8/rExY6Hq29z+rTFjoerbzP6xMWOh6tvc/q0xY6Hq2/z8=",
          "dtype": "f8"
         },
         "yaxis": "y5"
        },
        {
         "fill": "toself",
         "fillcolor": "rgb(219, 56, 43)",
         "hoverinfo": "text",
         "hoveron": "fills",
         "line": {
          "color": "black",
          "width": 0
         },
         "mode": "lines",
         "showlegend": false,
         "text": "[30, 35]",
         "type": "scatter",
         "x": {
          "bdata": "y4SFrme7G0AAAAAAAAAaQDV7elGYRBhANXt6UZhEGEAAAAAAAAAaQMuEha5nuxtAy4SFrme7G0A=",
          "dtype": "f8"
         },
         "xaxis": "x5",
         "y": {
          "bdata": "gDlCLtzIBkCAOUIu3MgIQIA5Qi7cyAZAgDlCLtzIAkCAOUIu3MgAQIA5Qi7cyAJAgDlCLtzIBkA=",
          "dtype": "f8"
         },
         "yaxis": "y5"
        },
        {
         "fill": "toself",
         "fillcolor": "rgb(235, 89, 58)",
         "hoverinfo": "text",
         "hoveron": "fills",
         "line": {
          "color": "black",
          "width": 0
         },
         "mode": "lines",
         "showlegend": false,
         "text": "[]",
         "type": "scatter",
         "x": {
          "bdata": "y4SFrme7HUAAAAAAAAAcQDV7elGYRBpANXt6UZhEGkAAAAAAAAAcQMuEha5nux1Ay4SFrme7HUA=",
          "dtype": "f8"
         },
         "xaxis": "x5",
         "y": {
          "bdata": "q0xY6Hq2DUCrTFjoerYPQKtMWOh6tg1Aq0xY6Hq2CUCrTFjoerYHQKtMWOh6tglAq0xY6Hq2DUA=",
          "dtype": "f8"
         },
         "yaxis": "y5"
        },
        {
         "fill": "toself",
         "fillcolor": "rgb(243, 106, 66)",
         "hoverinfo": "text",
         "hoveron": "fills",
         "line": {
          "color": "black",
          "width": 0
         },
         "mode": "lines",
         "showlegend": false,
         "text": "[66, 86, 91, 93]",
         "type": "scatter",
         "x": {
          "bdata": "y4SFrme7G0AAAAAAAAAaQDV7elGYRBhANXt6UZhEGEAAAAAAAAAaQMuEha5nuxtAy4SFrme7G0A=",
          "dtype": "f8"
         },
         "xaxis": "x5",
         "y": {
          "bdata": "6y830QxSEkDrLzfRDFITQOsvN9EMUhJA6y830QxSEEDWX26iGaQOQOsvN9EMUhBA6y830QxSEkA=",
          "dtype": "f8"
         },
         "yaxis": "y5"
        },
        {
         "fill": "toself",
         "fillcolor": "rgb(253, 177, 100)",
         "hoverinfo": "text",
         "hoveron": "fills",
         "line": {
          "color": "black",
          "width": 0
         },
         "mode": "lines",
         "showlegend": false,
         "text": "[70, 72, 73, 74, 76]",
         "type": "scatter",
         "x": {
          "bdata": "ZcJC17PdIEAAAAAAAAAgQDV7elGYRB5ANXt6UZhEHkAAAAAAAAAgQGXCQtez3SBAZcJC17PdIEA=",
          "dtype": "f8"
         },
         "xaxis": "x5",
         "y": {
          "bdata": "////////zz8AAAAAAADgPwMAAAAAANA/+///////z78AAAAAAADgv/r//////8+/AAAAAAAA0D8=",
          "dtype": "f8"
         },
         "yaxis": "y5"
        },
        {
         "fill": "toself",
         "fillcolor": "rgb(249, 143, 83)",
         "hoverinfo": "text",
         "hoveron": "fills",
         "line": {
          "color": "black",
          "width": 0
         },
         "mode": "lines",
         "showlegend": false,
         "text": "[75, 77]",
         "type": "scatter",
         "x": {
          "bdata": "y4SFrme7H0AAAAAAAAAeQDV7elGYRBxANXt6UZhEHEAAAAAAAAAeQMuEha5nux9Ay4SFrme7H0A=",
          "dtype": "f8"
         },
         "xaxis": "x5",
         "y": {
          "bdata": "VSYsdD3b8T9WJix0Pdv1P1YmLHQ92/E/rExY6Hq24z9WmbDQ9WzXP6xMWOh6tuM/ViYsdD3b8T8=",
          "dtype": "f8"
         },
         "yaxis": "y5"
        },
        {
         "fill": "toself",
         "fillcolor": "rgb(239, 98, 62)",
         "hoverinfo": "text",
         "hoveron": "fills",
         "line": {
          "color": "black",
          "width": 0
         },
         "mode": "lines",
         "showlegend": false,
         "text": "[]",
         "type": "scatter",
         "x": {
          "bdata": "ZcJC17PdIEAAAAAAAAAgQDV7elGYRB5ANXt6UZhEHkAAAAAAAAAgQGXCQtez3SBAZcJC17PdIEA=",
          "dtype": "f8"
         },
         "xaxis": "x5",
         "y": {
          "bdata": "q0xY6Hq2/z9WJix0PdsBQKxMWOh6tv8/rExY6Hq29z+rTFjoerbzP6xMWOh6tvc/q0xY6Hq2/z8=",
          "dtype": "f8"
         },
         "yaxis": "y5"
        },
        {
         "fill": "toself",
         "fillcolor": "rgb(227, 72, 50)",
         "hoverinfo": "text",
         "hoveron": "fills",
         "line": {
          "color": "black",
          "width": 0
         },
         "mode": "lines",
         "showlegend": false,
         "text": "[31, 39]",
         "type": "scatter",
         "x": {
          "bdata": "y4SFrme7H0AAAAAAAAAeQDV7elGYRBxANXt6UZhEHEAAAAAAAAAeQMuEha5nux9Ay4SFrme7H0A=",
          "dtype": "f8"
         },
         "xaxis": "x5",
         "y": {
          "bdata": "gDlCLtzIBkCAOUIu3MgIQIA5Qi7cyAZAgDlCLtzIAkCAOUIu3MgAQIA5Qi7cyAJAgDlCLtzIBkA=",
          "dtype": "f8"
         },
         "yaxis": "y5"
        },
        {
         "fill": "toself",
         "fillcolor": "rgb(228, 76, 52)",
         "hoverinfo": "text",
         "hoveron": "fills",
         "line": {
          "color": "black",
          "width": 0
         },
         "mode": "lines",
         "showlegend": false,
         "text": "[59, 60, 61, 62]",
         "type": "scatter",
         "x": {
          "bdata": "ZcJC17PdIEAAAAAAAAAgQDV7elGYRB5ANXt6UZhEHkAAAAAAAAAgQGXCQtez3SBAZcJC17PdIEA=",
          "dtype": "f8"
         },
         "xaxis": "x5",
         "y": {
          "bdata": "q0xY6Hq2DUCrTFjoerYPQKtMWOh6tg1Aq0xY6Hq2CUCrTFjoerYHQKtMWOh6tglAq0xY6Hq2DUA=",
          "dtype": "f8"
         },
         "yaxis": "y5"
        },
        {
         "fill": "toself",
         "fillcolor": "rgb(235, 90, 58)",
         "hoverinfo": "text",
         "hoveron": "fills",
         "line": {
          "color": "black",
          "width": 0
         },
         "mode": "lines",
         "showlegend": false,
         "text": "[10, 65]",
         "type": "scatter",
         "x": {
          "bdata": "y4SFrme7H0AAAAAAAAAeQDV7elGYRBxANXt6UZhEHEAAAAAAAAAeQMuEha5nux9Ay4SFrme7H0A=",
          "dtype": "f8"
         },
         "xaxis": "x5",
         "y": {
          "bdata": "6y830QxSEkDrLzfRDFITQOsvN9EMUhJA6y830QxSEEDWX26iGaQOQOsvN9EMUhBA6y830QxSEkA=",
          "dtype": "f8"
         },
         "yaxis": "y5"
        },
        {
         "marker": {
          "color": [
           0.05756068395667263,
           0.768933247502115
          ],
          "colorbar": {
           "len": 0.1,
           "thickness": 20,
           "x": 0.38,
           "y": 0.5
          },
          "colorscale": [
           [
            0,
            "rgb(165,0,38)"
           ],
           [
            0.1,
            "rgb(215,48,39)"
           ],
           [
            0.2,
            "rgb(244,109,67)"
           ],
           [
            0.3,
            "rgb(253,174,97)"
           ],
           [
            0.4,
            "rgb(254,224,144)"
           ],
           [
            0.5,
            "rgb(255,255,191)"
           ],
           [
            0.6,
            "rgb(224,243,248)"
           ],
           [
            0.7,
            "rgb(171,217,233)"
           ],
           [
            0.8,
            "rgb(116,173,209)"
           ],
           [
            0.9,
            "rgb(69,117,180)"
           ],
           [
            1,
            "rgb(49,54,149)"
           ]
          ],
          "size": 0.001
         },
         "showlegend": false,
         "type": "scatter",
         "x": [
          0,
          0
         ],
         "xaxis": "x5",
         "y": [
          0,
          0
         ],
         "yaxis": "y5"
        },
        {
         "fill": "toself",
         "fillcolor": "rgb(76, 126, 184)",
         "hoverinfo": "text",
         "hoveron": "fills",
         "line": {
          "color": "black",
          "width": 0
         },
         "mode": "lines",
         "showlegend": false,
         "text": "[5]",
         "type": "scatter",
         "x": {
          "bdata": "q0xY6Hq22z8HXBQzJqaBPKlMWOh6ttu/rExY6Hq2278Kip5MOXmavKxMWOh6tts/qkxY6Hq22z8=",
          "dtype": "f8"
         },
         "xaxis": "x6",
         "y": {
          "bdata": "////////zz8AAAAAAADgPwMAAAAAANA/+///////z78AAAAAAADgv/r//////8+/AAAAAAAA0D8=",
          "dtype": "f8"
         },
         "yaxis": "y6"
        },
        {
         "fill": "toself",
         "fillcolor": "rgb(55, 72, 158)",
         "hoverinfo": "text",
         "hoveron": "fills",
         "line": {
          "color": "black",
          "width": 0
         },
         "mode": "lines",
         "showlegend": false,
         "text": "[0, 4]",
         "type": "scatter",
         "x": {
          "bdata": "VM2eXhQmsb/////////fv1QmLHQ92+2/ViYsdD3b7b8BAAAAAADgv1DNnl4UJrG/WM2eXhQmsb8=",
          "dtype": "f8"
         },
         "xaxis": "x6",
         "y": {
          "bdata": "VSYsdD3b8T9WJix0Pdv1P1YmLHQ92/E/rExY6Hq24z9WmbDQ9WzXP6xMWOh6tuM/ViYsdD3b8T8=",
          "dtype": "f8"
         },
         "yaxis": "y6"
        },
        {
         "fill": "toself",
         "fillcolor": "rgb(54, 70, 157)",
         "hoverinfo": "text",
         "hoveron": "fills",
         "line": {
          "color": "black",
          "width": 0
         },
         "mode": "lines",
         "showlegend": false,
         "text": "[21, 22]",
         "type": "scatter",
         "x": {
          "bdata": "q0xY6Hq22z8HXBQzJqaBPKlMWOh6ttu/rExY6Hq2278Kip5MOXmavKxMWOh6tts/qkxY6Hq22z8=",
          "dtype": "f8"
         },
         "xaxis": "x6",
         "y": {
          "bdata": "q0xY6Hq2/z9WJix0PdsBQKxMWOh6tv8/rExY6Hq29z+rTFjoerbzP6xMWOh6tvc/q0xY6Hq2/z8=",
          "dtype": "f8"
         },
         "yaxis": "y6"
        },
        {
         "fill": "toself",
         "fillcolor": "rgb(49, 54, 149)",
         "hoverinfo": "text",
         "hoveron": "fills",
         "line": {
          "color": "black",
          "width": 0
         },
         "mode": "lines",
         "showlegend": false,
         "text": "[83, 85, 87, 89]",
         "type": "scatter",
         "x": {
          "bdata": "VM2eXhQmsb/////////fv1QmLHQ92+2/ViYsdD3b7b8BAAAAAADgv1DNnl4UJrG/WM2eXhQmsb8=",
          "dtype": "f8"
         },
         "xaxis": "x6",
         "y": {
          "bdata": "gDlCLtzIBkCAOUIu3MgIQIA5Qi7cyAZAgDlCLtzIAkCAOUIu3MgAQIA5Qi7cyAJAgDlCLtzIBkA=",
          "dtype": "f8"
         },
         "yaxis": "y6"
        },
        {
         "fill": "toself",
         "fillcolor": "rgb(59, 87, 165)",
         "hoverinfo": "text",
         "hoveron": "fills",
         "line": {
          "color": "black",
          "width": 0
         },
         "mode": "lines",
         "showlegend": false,
         "text": "[]",
         "type": "scatter",
         "x": {
          "bdata": "q0xY6Hq22z8HXBQzJqaBPKlMWOh6ttu/rExY6Hq2278Kip5MOXmavKxMWOh6tts/qkxY6Hq22z8=",
          "dtype": "f8"
         },
         "xaxis": "x6",
         "y": {
          "bdata": "q0xY6Hq2DUCrTFjoerYPQKtMWOh6tg1Aq0xY6Hq2CUCrTFjoerYHQKtMWOh6tglAq0xY6Hq2DUA=",
          "dtype": "f8"
         },
         "yaxis": "y6"
        },
        {
         "fill": "toself",
         "fillcolor": "rgb(55, 73, 158)",
         "hoverinfo": "text",
         "hoveron": "fills",
         "line": {
          "color": "black",
          "width": 0
         },
         "mode": "lines",
         "showlegend": false,
         "text": "[40, 43, 46, 92]",
         "type": "scatter",
         "x": {
          "bdata": "VM2eXhQmsb/////////fv1QmLHQ92+2/ViYsdD3b7b8BAAAAAADgv1DNnl4UJrG/WM2eXhQmsb8=",
          "dtype": "f8"
         },
         "xaxis": "x6",
         "y": {
          "bdata": "6y830QxSEkDrLzfRDFITQOsvN9EMUhJA6y830QxSEEDWX26iGaQOQOsvN9EMUhBA6y830QxSEkA=",
          "dtype": "f8"
         },
         "yaxis": "y6"
        },
        {
         "fill": "toself",
         "fillcolor": "rgb(91, 143, 194)",
         "hoverinfo": "text",
         "hoveron": "fills",
         "line": {
          "color": "black",
          "width": 0
         },
         "mode": "lines",
         "showlegend": false,
         "text": "[2, 3, 6]",
         "type": "scatter",
         "x": {
          "bdata": "KxMWup7t9j8AAAAAAADwP6zZ04vCJOI/qtnTi8Ik4j/////////vPysTFrqe7fY/KhMWup7t9j8=",
          "dtype": "f8"
         },
         "xaxis": "x6",
         "y": {
          "bdata": "////////zz8AAAAAAADgPwMAAAAAANA/+///////z78AAAAAAADgv/r//////8+/AAAAAAAA0D8=",
          "dtype": "f8"
         },
         "yaxis": "y6"
        },
        {
         "fill": "toself",
         "fillcolor": "rgb(70, 118, 181)",
         "hoverinfo": "text",
         "hoveron": "fills",
         "line": {
          "color": "black",
          "width": 0
         },
         "mode": "lines",
         "showlegend": false,
         "text": "[9, 50]",
         "type": "scatter",
         "x": {
          "bdata": "ViYsdD3b7T8AAAAAAADgP1zNnl4UJrE/UM2eXhQmsT/+///////fP1YmLHQ92+0/VSYsdD3b7T8=",
          "dtype": "f8"
         },
         "xaxis": "x6",
         "y": {
          "bdata": "VSYsdD3b8T9WJix0Pdv1P1YmLHQ92/E/rExY6Hq24z9WmbDQ9WzXP6xMWOh6tuM/ViYsdD3b8T8=",
          "dtype": "f8"
         },
         "yaxis": "y6"
        },
        {
         "fill": "toself",
         "fillcolor": "rgb(71, 120, 182)",
         "hoverinfo": "text",
         "hoveron": "fills",
         "line": {
          "color": "black",
          "width": 0
         },
         "mode": "lines",
         "showlegend": false,
         "text": "[24, 25, 26]",
         "type": "scatter",
         "x": {
          "bdata": "KxMWup7t9j8AAAAAAADwP6zZ04vCJOI/qtnTi8Ik4j/////////vPysTFrqe7fY/KhMWup7t9j8=",
          "dtype": "f8"
         },
         "xaxis": "x6",
         "y": {
          "bdata": "q0xY6Hq2/z9WJix0PdsBQKxMWOh6tv8/rExY6Hq29z+rTFjoerbzP6xMWOh6tvc/q0xY6Hq2/z8=",
          "dtype": "f8"
         },
         "yaxis": "y6"
        },
        {
         "fill": "toself",
         "fillcolor": "rgb(58, 84, 164)",
         "hoverinfo": "text",
         "hoveron": "fills",
         "line": {
          "color": "black",
          "width": 0
         },
         "mode": "lines",
         "showlegend": false,
         "text": "[53, 79, 82, 84]",
         "type": "scatter",
         "x": {
          "bdata": "ViYsdD3b7T8AAAAAAADgP1zNnl4UJrE/UM2eXhQmsT/+///////fP1YmLHQ92+0/VSYsdD3b7T8=",
          "dtype": "f8"
         },
         "xaxis": "x6",
         "y": {
          "bdata": "gDlCLtzIBkCAOUIu3MgIQIA5Qi7cyAZAgDlCLtzIAkCAOUIu3MgAQIA5Qi7cyAJAgDlCLtzIBkA=",
          "dtype": "f8"
         },
         "yaxis": "y6"
        },
        {
         "fill": "toself",
         "fillcolor": "rgb(87, 138, 191)",
         "hoverinfo": "text",
         "hoveron": "fills",
         "line": {
          "color": "black",
          "width": 0
         },
         "mode": "lines",
         "showlegend": false,
         "text": "[]",
         "type": "scatter",
         "x": {
          "bdata": "KxMWup7t9j8AAAAAAADwP6zZ04vCJOI/qtnTi8Ik4j/////////vPysTFrqe7fY/KhMWup7t9j8=",
          "dtype": "f8"
         },
         "xaxis": "x6",
         "y": {
          "bdata": "q0xY6Hq2DUCrTFjoerYPQKtMWOh6tg1Aq0xY6Hq2CUCrTFjoerYHQKtMWOh6tglAq0xY6Hq2DUA=",
          "dtype": "f8"
         },
         "yaxis": "y6"
        },
        {
         "fill": "toself",
         "fillcolor": "rgb(118, 175, 210)",
         "hoverinfo": "text",
         "hoveron": "fills",
         "line": {
          "color": "black",
          "width": 0
         },
         "mode": "lines",
         "showlegend": false,
         "text": "[42, 44, 45]",
         "type": "scatter",
         "x": {
          "bdata": "ViYsdD3b7T8AAAAAAADgP1zNnl4UJrE/UM2eXhQmsT/+///////fP1YmLHQ92+0/VSYsdD3b7T8=",
          "dtype": "f8"
         },
         "xaxis": "x6",
         "y": {
          "bdata": "6y830QxSEkDrLzfRDFITQOsvN9EMUhJA6y830QxSEEDWX26iGaQOQOsvN9EMUhBA6y830QxSEkA=",
          "dtype": "f8"
         },
         "yaxis": "y6"
        },
        {
         "fill": "toself",
         "fillcolor": "rgb(146, 197, 222)",
         "hoverinfo": "text",
         "hoveron": "fills",
         "line": {
          "color": "black",
          "width": 0
         },
         "mode": "lines",
         "showlegend": false,
         "text": "[]",
         "type": "scatter",
         "x": {
          "bdata": "lQkLXc92A0AAAAAAAAAAQNbs6UVhEvk/1ezpRWES+T8AAAAAAAAAQJYJC13PdgNAlQkLXc92A0A=",
          "dtype": "f8"
         },
         "xaxis": "x6",
         "y": {
          "bdata": "////////zz8AAAAAAADgPwMAAAAAANA/+///////z78AAAAAAADgv/r//////8+/AAAAAAAA0D8=",
          "dtype": "f8"
         },
         "yaxis": "y6"
        },
        {
         "fill": "toself",
         "fillcolor": "rgb(95, 147, 196)",
         "hoverinfo": "text",
         "hoveron": "fills",
         "line": {
          "color": "black",
          "width": 0
         },
         "mode": "lines",
         "showlegend": false,
         "text": "[1, 7, 8, 52]",
         "type": "scatter",
         "x": {
          "bdata": "KxMWup7t/j8AAAAAAAD4P9bs6UVhEvE/1ezpRWES8T8AAAAAAAD4PysTFrqe7f4/KhMWup7t/j8=",
          "dtype": "f8"
         },
         "xaxis": "x6",
         "y": {
          "bdata": "VSYsdD3b8T9WJix0Pdv1P1YmLHQ92/E/rExY6Hq24z9WmbDQ9WzXP6xMWOh6tuM/ViYsdD3b8T8=",
          "dtype": "f8"
         },
         "yaxis": "y6"
        },
        {
         "fill": "toself",
         "fillcolor": "rgb(108, 163, 204)",
         "hoverinfo": "text",
         "hoveron": "fills",
         "line": {
          "color": "black",
          "width": 0
         },
         "mode": "lines",
         "showlegend": false,
         "text": "[57, 81]",
         "type": "scatter",
         "x": {
          "bdata": "lQkLXc92A0AAAAAAAAAAQNbs6UVhEvk/1ezpRWES+T8AAAAAAAAAQJYJC13PdgNAlQkLXc92A0A=",
          "dtype": "f8"
         },
         "xaxis": "x6",
         "y": {
          "bdata": "q0xY6Hq2/z9WJix0PdsBQKxMWOh6tv8/rExY6Hq29z+rTFjoerbzP6xMWOh6tvc/q0xY6Hq2/z8=",
          "dtype": "f8"
         },
         "yaxis": "y6"
        },
        {
         "fill": "toself",
         "fillcolor": "rgb(78, 128, 186)",
         "hoverinfo": "text",
         "hoveron": "fills",
         "line": {
          "color": "black",
          "width": 0
         },
         "mode": "lines",
         "showlegend": false,
         "text": "[80, 88]",
         "type": "scatter",
         "x": {
          "bdata": "KxMWup7t/j8AAAAAAAD4P9bs6UVhEvE/1ezpRWES8T8AAAAAAAD4PysTFrqe7f4/KhMWup7t/j8=",
          "dtype": "f8"
         },
         "xaxis": "x6",
         "y": {
          "bdata": "gDlCLtzIBkCAOUIu3MgIQIA5Qi7cyAZAgDlCLtzIAkCAOUIu3MgAQIA5Qi7cyAJAgDlCLtzIBkA=",
          "dtype": "f8"
         },
         "yaxis": "y6"
        },
        {
         "fill": "toself",
         "fillcolor": "rgb(177, 220, 235)",
         "hoverinfo": "text",
         "hoveron": "fills",
         "line": {
          "color": "black",
          "width": 0
         },
         "mode": "lines",
         "showlegend": false,
         "text": "[]",
         "type": "scatter",
         "x": {
          "bdata": "lQkLXc92A0AAAAAAAAAAQNbs6UVhEvk/1ezpRWES+T8AAAAAAAAAQJYJC13PdgNAlQkLXc92A0A=",
          "dtype": "f8"
         },
         "xaxis": "x6",
         "y": {
          "bdata": "q0xY6Hq2DUCrTFjoerYPQKtMWOh6tg1Aq0xY6Hq2CUCrTFjoerYHQKtMWOh6tglAq0xY6Hq2DUA=",
          "dtype": "f8"
         },
         "yaxis": "y6"
        },
        {
         "fill": "toself",
         "fillcolor": "rgb(185, 224, 237)",
         "hoverinfo": "text",
         "hoveron": "fills",
         "line": {
          "color": "black",
          "width": 0
         },
         "mode": "lines",
         "showlegend": false,
         "text": "[]",
         "type": "scatter",
         "x": {
          "bdata": "KxMWup7t/j8AAAAAAAD4P9bs6UVhEvE/1ezpRWES8T8AAAAAAAD4PysTFrqe7f4/KhMWup7t/j8=",
          "dtype": "f8"
         },
         "xaxis": "x6",
         "y": {
          "bdata": "6y830QxSEkDrLzfRDFITQOsvN9EMUhJA6y830QxSEEDWX26iGaQOQOsvN9EMUhBA6y830QxSEkA=",
          "dtype": "f8"
         },
         "yaxis": "y6"
        },
        {
         "fill": "toself",
         "fillcolor": "rgb(231, 246, 235)",
         "hoverinfo": "text",
         "hoveron": "fills",
         "line": {
          "color": "black",
          "width": 0
         },
         "mode": "lines",
         "showlegend": false,
         "text": "[47, 48, 49, 51]",
         "type": "scatter",
         "x": {
          "bdata": "lQkLXc92C0AAAAAAAAAIQGv29KIwiQRAavb0ojCJBEAAAAAAAAAIQJYJC13PdgtAlQkLXc92C0A=",
          "dtype": "f8"
         },
         "xaxis": "x6",
         "y": {
          "bdata": "////////zz8AAAAAAADgPwMAAAAAANA/+///////z78AAAAAAADgv/r//////8+/AAAAAAAA0D8=",
          "dtype": "f8"
         },
         "yaxis": "y6"
        },
        {
         "fill": "toself",
         "fillcolor": "rgb(173, 218, 234)",
         "hoverinfo": "text",
         "hoveron": "fills",
         "line": {
          "color": "black",
          "width": 0
         },
         "mode": "lines",
         "showlegend": false,
         "text": "[41]",
         "type": "scatter",
         "x": {
          "bdata": "lQkLXc92B0AAAAAAAAAEQGv29KIwiQBAavb0ojCJAEAAAAAAAAAEQJYJC13PdgdAlQkLXc92B0A=",
          "dtype": "f8"
         },
         "xaxis": "x6",
         "y": {
          "bdata": "VSYsdD3b8T9WJix0Pdv1P1YmLHQ92/E/rExY6Hq24z9WmbDQ9WzXP6xMWOh6tuM/ViYsdD3b8T8=",
          "dtype": "f8"
         },
         "yaxis": "y6"
        },
        {
         "fill": "toself",
         "fillcolor": "rgb(226, 244, 244)",
         "hoverinfo": "text",
         "hoveron": "fills",
         "line": {
          "color": "black",
          "width": 0
         },
         "mode": "lines",
         "showlegend": false,
         "text": "[]",
         "type": "scatter",
         "x": {
          "bdata": "lQkLXc92C0AAAAAAAAAIQGv29KIwiQRAavb0ojCJBEAAAAAAAAAIQJYJC13PdgtAlQkLXc92C0A=",
          "dtype": "f8"
         },
         "xaxis": "x6",
         "y": {
          "bdata": "q0xY6Hq2/z9WJix0PdsBQKxMWOh6tv8/rExY6Hq29z+rTFjoerbzP6xMWOh6tvc/q0xY6Hq2/z8=",
          "dtype": "f8"
         },
         "yaxis": "y6"
        },
        {
         "fill": "toself",
         "fillcolor": "rgb(171, 217, 233)",
         "hoverinfo": "text",
         "hoveron": "fills",
         "line": {
          "color": "black",
          "width": 0
         },
         "mode": "lines",
         "showlegend": false,
         "text": "[63]",
         "type": "scatter",
         "x": {
          "bdata": "lQkLXc92B0AAAAAAAAAEQGv29KIwiQBAavb0ojCJAEAAAAAAAAAEQJYJC13PdgdAlQkLXc92B0A=",
          "dtype": "f8"
         },
         "xaxis": "x6",
         "y": {
          "bdata": "gDlCLtzIBkCAOUIu3MgIQIA5Qi7cyAZAgDlCLtzIAkCAOUIu3MgAQIA5Qi7cyAJAgDlCLtzIBkA=",
          "dtype": "f8"
         },
         "yaxis": "y6"
        },
        {
         "fill": "toself",
         "fillcolor": "rgb(248, 252, 204)",
         "hoverinfo": "text",
         "hoveron": "fills",
         "line": {
          "color": "black",
          "width": 0
         },
         "mode": "lines",
         "showlegend": false,
         "text": "[]",
         "type": "scatter",
         "x": {
          "bdata": "lQkLXc92C0AAAAAAAAAIQGv29KIwiQRAavb0ojCJBEAAAAAAAAAIQJYJC13PdgtAlQkLXc92C0A=",
          "dtype": "f8"
         },
         "xaxis": "x6",
         "y": {
          "bdata": "q0xY6Hq2DUCrTFjoerYPQKtMWOh6tg1Aq0xY6Hq2CUCrTFjoerYHQKtMWOh6tglAq0xY6Hq2DUA=",
          "dtype": "f8"
         },
         "yaxis": "y6"
        },
        {
         "fill": "toself",
         "fillcolor": "rgb(255, 241, 169)",
         "hoverinfo": "text",
         "hoveron": "fills",
         "line": {
          "color": "black",
          "width": 0
         },
         "mode": "lines",
         "showlegend": false,
         "text": "[37, 38]",
         "type": "scatter",
         "x": {
          "bdata": "lQkLXc92B0AAAAAAAAAEQGv29KIwiQBAavb0ojCJAEAAAAAAAAAEQJYJC13PdgdAlQkLXc92B0A=",
          "dtype": "f8"
         },
         "xaxis": "x6",
         "y": {
          "bdata": "6y830QxSEkDrLzfRDFITQOsvN9EMUhJA6y830QxSEEDWX26iGaQOQOsvN9EMUhBA6y830QxSEkA=",
          "dtype": "f8"
         },
         "yaxis": "y6"
        },
        {
         "fill": "toself",
         "fillcolor": "rgb(255, 248, 181)",
         "hoverinfo": "text",
         "hoveron": "fills",
         "line": {
          "color": "black",
          "width": 0
         },
         "mode": "lines",
         "showlegend": false,
         "text": "[55]",
         "type": "scatter",
         "x": {
          "bdata": "y4SFrme7EUAAAAAAAAAQQGv29KIwiQxAavb0ojCJDEAAAAAAAAAQQMuEha5nuxFAy4SFrme7EUA=",
          "dtype": "f8"
         },
         "xaxis": "x6",
         "y": {
          "bdata": "////////zz8AAAAAAADgPwMAAAAAANA/+///////z78AAAAAAADgv/r//////8+/AAAAAAAA0D8=",
          "dtype": "f8"
         },
         "yaxis": "y6"
        },
        {
         "fill": "toself",
         "fillcolor": "rgb(242, 250, 215)",
         "hoverinfo": "text",
         "hoveron": "fills",
         "line": {
          "color": "black",
          "width": 0
         },
         "mode": "lines",
         "showlegend": false,
         "text": "[15, 16, 17, 18, 19, 20]",
         "type": "scatter",
         "x": {
          "bdata": "lQkLXc92D0AAAAAAAAAMQGv29KIwiQhAavb0ojCJCEAAAAAAAAAMQJYJC13Pdg9AlQkLXc92D0A=",
          "dtype": "f8"
         },
         "xaxis": "x6",
         "y": {
          "bdata": "VSYsdD3b8T9WJix0Pdv1P1YmLHQ92/E/rExY6Hq24z9WmbDQ9WzXP6xMWOh6tuM/ViYsdD3b8T8=",
          "dtype": "f8"
         },
         "yaxis": "y6"
        },
        {
         "fill": "toself",
         "fillcolor": "rgb(255, 250, 183)",
         "hoverinfo": "text",
         "hoveron": "fills",
         "line": {
          "color": "black",
          "width": 0
         },
         "mode": "lines",
         "showlegend": false,
         "text": "[23, 78, 90]",
         "type": "scatter",
         "x": {
          "bdata": "y4SFrme7EUAAAAAAAAAQQGv29KIwiQxAavb0ojCJDEAAAAAAAAAQQMuEha5nuxFAy4SFrme7EUA=",
          "dtype": "f8"
         },
         "xaxis": "x6",
         "y": {
          "bdata": "q0xY6Hq2/z9WJix0PdsBQKxMWOh6tv8/rExY6Hq29z+rTFjoerbzP6xMWOh6tvc/q0xY6Hq2/z8=",
          "dtype": "f8"
         },
         "yaxis": "y6"
        },
        {
         "fill": "toself",
         "fillcolor": "rgb(248, 252, 205)",
         "hoverinfo": "text",
         "hoveron": "fills",
         "line": {
          "color": "black",
          "width": 0
         },
         "mode": "lines",
         "showlegend": false,
         "text": "[27, 29, 36]",
         "type": "scatter",
         "x": {
          "bdata": "lQkLXc92D0AAAAAAAAAMQGv29KIwiQhAavb0ojCJCEAAAAAAAAAMQJYJC13Pdg9AlQkLXc92D0A=",
          "dtype": "f8"
         },
         "xaxis": "x6",
         "y": {
          "bdata": "gDlCLtzIBkCAOUIu3MgIQIA5Qi7cyAZAgDlCLtzIAkCAOUIu3MgAQIA5Qi7cyAJAgDlCLtzIBkA=",
          "dtype": "f8"
         },
         "yaxis": "y6"
        },
        {
         "fill": "toself",
         "fillcolor": "rgb(253, 254, 194)",
         "hoverinfo": "text",
         "hoveron": "fills",
         "line": {
          "color": "black",
          "width": 0
         },
         "mode": "lines",
         "showlegend": false,
         "text": "[64]",
         "type": "scatter",
         "x": {
          "bdata": "y4SFrme7EUAAAAAAAAAQQGv29KIwiQxAavb0ojCJDEAAAAAAAAAQQMuEha5nuxFAy4SFrme7EUA=",
          "dtype": "f8"
         },
         "xaxis": "x6",
         "y": {
          "bdata": "q0xY6Hq2DUCrTFjoerYPQKtMWOh6tg1Aq0xY6Hq2CUCrTFjoerYHQKtMWOh6tglAq0xY6Hq2DUA=",
          "dtype": "f8"
         },
         "yaxis": "y6"
        },
        {
         "fill": "toself",
         "fillcolor": "rgb(255, 251, 185)",
         "hoverinfo": "text",
         "hoveron": "fills",
         "line": {
          "color": "black",
          "width": 0
         },
         "mode": "lines",
         "showlegend": false,
         "text": "[]",
         "type": "scatter",
         "x": {
          "bdata": "lQkLXc92D0AAAAAAAAAMQGv29KIwiQhAavb0ojCJCEAAAAAAAAAMQJYJC13Pdg9AlQkLXc92D0A=",
          "dtype": "f8"
         },
         "xaxis": "x6",
         "y": {
          "bdata": "6y830QxSEkDrLzfRDFITQOsvN9EMUhJA6y830QxSEEDWX26iGaQOQOsvN9EMUhBA6y830QxSEkA=",
          "dtype": "f8"
         },
         "yaxis": "y6"
        },
        {
         "fill": "toself",
         "fillcolor": "rgb(244, 112, 68)",
         "hoverinfo": "text",
         "hoveron": "fills",
         "line": {
          "color": "black",
          "width": 0
         },
         "mode": "lines",
         "showlegend": false,
         "text": "[95, 97]",
         "type": "scatter",
         "x": {
          "bdata": "y4SFrme7FUAAAAAAAAAUQDV7elGYRBJANXt6UZhEEkAAAAAAAAAUQMuEha5nuxVAy4SFrme7FUA=",
          "dtype": "f8"
         },
         "xaxis": "x6",
         "y": {
          "bdata": "////////zz8AAAAAAADgPwMAAAAAANA/+///////z78AAAAAAADgv/r//////8+/AAAAAAAA0D8=",
          "dtype": "f8"
         },
         "yaxis": "y6"
        },
        {
         "fill": "toself",
         "fillcolor": "rgb(254, 233, 158)",
         "hoverinfo": "text",
         "hoveron": "fills",
         "line": {
          "color": "black",
          "width": 0
         },
         "mode": "lines",
         "showlegend": false,
         "text": "[94]",
         "type": "scatter",
         "x": {
          "bdata": "y4SFrme7E0AAAAAAAAASQDV7elGYRBBANXt6UZhEEEAAAAAAAAASQMuEha5nuxNAy4SFrme7E0A=",
          "dtype": "f8"
         },
         "xaxis": "x6",
         "y": {
          "bdata": "VSYsdD3b8T9WJix0Pdv1P1YmLHQ92/E/rExY6Hq24z9WmbDQ9WzXP6xMWOh6tuM/ViYsdD3b8T8=",
          "dtype": "f8"
         },
         "yaxis": "y6"
        },
        {
         "fill": "toself",
         "fillcolor": "rgb(254, 225, 146)",
         "hoverinfo": "text",
         "hoveron": "fills",
         "line": {
          "color": "black",
          "width": 0
         },
         "mode": "lines",
         "showlegend": false,
         "text": "[33, 34]",
         "type": "scatter",
         "x": {
          "bdata": "y4SFrme7FUAAAAAAAAAUQDV7elGYRBJANXt6UZhEEkAAAAAAAAAUQMuEha5nuxVAy4SFrme7FUA=",
          "dtype": "f8"
         },
         "xaxis": "x6",
         "y": {
          "bdata": "q0xY6Hq2/z9WJix0PdsBQKxMWOh6tv8/rExY6Hq29z+rTFjoerbzP6xMWOh6tvc/q0xY6Hq2/z8=",
          "dtype": "f8"
         },
         "yaxis": "y6"
        },
        {
         "fill": "toself",
         "fillcolor": "rgb(255, 246, 177)",
         "hoverinfo": "text",
         "hoveron": "fills",
         "line": {
          "color": "black",
          "width": 0
         },
         "mode": "lines",
         "showlegend": false,
         "text": "[28]",
         "type": "scatter",
         "x": {
          "bdata": "y4SFrme7E0AAAAAAAAASQDV7elGYRBBANXt6UZhEEEAAAAAAAAASQMuEha5nuxNAy4SFrme7E0A=",
          "dtype": "f8"
         },
         "xaxis": "x6",
         "y": {
          "bdata": "gDlCLtzIBkCAOUIu3MgIQIA5Qi7cyAZAgDlCLtzIAkCAOUIu3MgAQIA5Qi7cyAJAgDlCLtzIBkA=",
          "dtype": "f8"
         },
         "yaxis": "y6"
        },
        {
         "fill": "toself",
         "fillcolor": "rgb(227, 244, 242)",
         "hoverinfo": "text",
         "hoveron": "fills",
         "line": {
          "color": "black",
          "width": 0
         },
         "mode": "lines",
         "showlegend": false,
         "text": "[]",
         "type": "scatter",
         "x": {
          "bdata": "y4SFrme7FUAAAAAAAAAUQDV7elGYRBJANXt6UZhEEkAAAAAAAAAUQMuEha5nuxVAy4SFrme7FUA=",
          "dtype": "f8"
         },
         "xaxis": "x6",
         "y": {
          "bdata": "q0xY6Hq2DUCrTFjoerYPQKtMWOh6tg1Aq0xY6Hq2CUCrTFjoerYHQKtMWOh6tglAq0xY6Hq2DUA=",
          "dtype": "f8"
         },
         "yaxis": "y6"
        },
        {
         "fill": "toself",
         "fillcolor": "rgb(211, 237, 244)",
         "hoverinfo": "text",
         "hoveron": "fills",
         "line": {
          "color": "black",
          "width": 0
         },
         "mode": "lines",
         "showlegend": false,
         "text": "[]",
         "type": "scatter",
         "x": {
          "bdata": "y4SFrme7E0AAAAAAAAASQDV7elGYRBBANXt6UZhEEEAAAAAAAAASQMuEha5nuxNAy4SFrme7E0A=",
          "dtype": "f8"
         },
         "xaxis": "x6",
         "y": {
          "bdata": "6y830QxSEkDrLzfRDFITQOsvN9EMUhJA6y830QxSEEDWX26iGaQOQOsvN9EMUhBA6y830QxSEkA=",
          "dtype": "f8"
         },
         "yaxis": "y6"
        },
        {
         "fill": "toself",
         "fillcolor": "rgb(219, 56, 42)",
         "hoverinfo": "text",
         "hoveron": "fills",
         "line": {
          "color": "black",
          "width": 0
         },
         "mode": "lines",
         "showlegend": false,
         "text": "[54]",
         "type": "scatter",
         "x": {
          "bdata": "y4SFrme7GUAAAAAAAAAYQDV7elGYRBZANXt6UZhEFkAAAAAAAAAYQMuEha5nuxlAy4SFrme7GUA=",
          "dtype": "f8"
         },
         "xaxis": "x6",
         "y": {
          "bdata": "////////zz8AAAAAAADgPwMAAAAAANA/+///////z78AAAAAAADgv/r//////8+/AAAAAAAA0D8=",
          "dtype": "f8"
         },
         "yaxis": "y6"
        },
        {
         "fill": "toself",
         "fillcolor": "rgb(252, 165, 93)",
         "hoverinfo": "text",
         "hoveron": "fills",
         "line": {
          "color": "black",
          "width": 0
         },
         "mode": "lines",
         "showlegend": false,
         "text": "[96]",
         "type": "scatter",
         "x": {
          "bdata": "y4SFrme7F0AAAAAAAAAWQDV7elGYRBRANXt6UZhEFEAAAAAAAAAWQMuEha5nuxdAy4SFrme7F0A=",
          "dtype": "f8"
         },
         "xaxis": "x6",
         "y": {
          "bdata": "VSYsdD3b8T9WJix0Pdv1P1YmLHQ92/E/rExY6Hq24z9WmbDQ9WzXP6xMWOh6tuM/ViYsdD3b8T8=",
          "dtype": "f8"
         },
         "yaxis": "y6"
        },
        {
         "fill": "toself",
         "fillcolor": "rgb(253, 186, 109)",
         "hoverinfo": "text",
         "hoveron": "fills",
         "line": {
          "color": "black",
          "width": 0
         },
         "mode": "lines",
         "showlegend": false,
         "text": "[32, 56]",
         "type": "scatter",
         "x": {
          "bdata": "y4SFrme7GUAAAAAAAAAYQDV7elGYRBZANXt6UZhEFkAAAAAAAAAYQMuEha5nuxlAy4SFrme7GUA=",
          "dtype": "f8"
         },
         "xaxis": "x6",
         "y": {
          "bdata": "q0xY6Hq2/z9WJix0PdsBQKxMWOh6tv8/rExY6Hq29z+rTFjoerbzP6xMWOh6tvc/q0xY6Hq2/z8=",
          "dtype": "f8"
         },
         "yaxis": "y6"
        },
        {
         "fill": "toself",
         "fillcolor": "rgb(254, 232, 156)",
         "hoverinfo": "text",
         "hoveron": "fills",
         "line": {
          "color": "black",
          "width": 0
         },
         "mode": "lines",
         "showlegend": false,
         "text": "[58]",
         "type": "scatter",
         "x": {
          "bdata": "y4SFrme7F0AAAAAAAAAWQDV7elGYRBRANXt6UZhEFEAAAAAAAAAWQMuEha5nuxdAy4SFrme7F0A=",
          "dtype": "f8"
         },
         "xaxis": "x6",
         "y": {
          "bdata": "gDlCLtzIBkCAOUIu3MgIQIA5Qi7cyAZAgDlCLtzIAkCAOUIu3MgAQIA5Qi7cyAJAgDlCLtzIBkA=",
          "dtype": "f8"
         },
         "yaxis": "y6"
        },
        {
         "fill": "toself",
         "fillcolor": "rgb(207, 235, 243)",
         "hoverinfo": "text",
         "hoveron": "fills",
         "line": {
          "color": "black",
          "width": 0
         },
         "mode": "lines",
         "showlegend": false,
         "text": "[13]",
         "type": "scatter",
         "x": {
          "bdata": "y4SFrme7GUAAAAAAAAAYQDV7elGYRBZANXt6UZhEFkAAAAAAAAAYQMuEha5nuxlAy4SFrme7GUA=",
          "dtype": "f8"
         },
         "xaxis": "x6",
         "y": {
          "bdata": "q0xY6Hq2DUCrTFjoerYPQKtMWOh6tg1Aq0xY6Hq2CUCrTFjoerYHQKtMWOh6tglAq0xY6Hq2DUA=",
          "dtype": "f8"
         },
         "yaxis": "y6"
        },
        {
         "fill": "toself",
         "fillcolor": "rgb(181, 222, 236)",
         "hoverinfo": "text",
         "hoveron": "fills",
         "line": {
          "color": "black",
          "width": 0
         },
         "mode": "lines",
         "showlegend": false,
         "text": "[11, 12, 14, 67, 68, 69]",
         "type": "scatter",
         "x": {
          "bdata": "y4SFrme7F0AAAAAAAAAWQDV7elGYRBRANXt6UZhEFEAAAAAAAAAWQMuEha5nuxdAy4SFrme7F0A=",
          "dtype": "f8"
         },
         "xaxis": "x6",
         "y": {
          "bdata": "6y830QxSEkDrLzfRDFITQOsvN9EMUhJA6y830QxSEEDWX26iGaQOQOsvN9EMUhBA6y830QxSEkA=",
          "dtype": "f8"
         },
         "yaxis": "y6"
        },
        {
         "fill": "toself",
         "fillcolor": "rgb(198, 32, 39)",
         "hoverinfo": "text",
         "hoveron": "fills",
         "line": {
          "color": "black",
          "width": 0
         },
         "mode": "lines",
         "showlegend": false,
         "text": "[71]",
         "type": "scatter",
         "x": {
          "bdata": "y4SFrme7HUAAAAAAAAAcQDV7elGYRBpANXt6UZhEGkAAAAAAAAAcQMuEha5nux1Ay4SFrme7HUA=",
          "dtype": "f8"
         },
         "xaxis": "x6",
         "y": {
          "bdata": "////////zz8AAAAAAADgPwMAAAAAANA/+///////z78AAAAAAADgv/r//////8+/AAAAAAAA0D8=",
          "dtype": "f8"
         },
         "yaxis": "y6"
        },
        {
         "fill": "toself",
         "fillcolor": "rgb(245, 115, 70)",
         "hoverinfo": "text",
         "hoveron": "fills",
         "line": {
          "color": "black",
          "width": 0
         },
         "mode": "lines",
         "showlegend": false,
         "text": "[98]",
         "type": "scatter",
         "x": {
          "bdata": "y4SFrme7G0AAAAAAAAAaQDV7elGYRBhANXt6UZhEGEAAAAAAAAAaQMuEha5nuxtAy4SFrme7G0A=",
          "dtype": "f8"
         },
         "xaxis": "x6",
         "y": {
          "bdata": "VSYsdD3b8T9WJix0Pdv1P1YmLHQ92/E/rExY6Hq24z9WmbDQ9WzXP6xMWOh6tuM/ViYsdD3b8T8=",
          "dtype": "f8"
         },
         "yaxis": "y6"
        },
        {
         "fill": "toself",
         "fillcolor": "rgb(248, 140, 81)",
         "hoverinfo": "text",
         "hoveron": "fills",
         "line": {
          "color": "black",
          "width": 0
         },
         "mode": "lines",
         "showlegend": false,
         "text": "[99, 100, 101]",
         "type": "scatter",
         "x": {
          "bdata": "y4SFrme7HUAAAAAAAAAcQDV7elGYRBpANXt6UZhEGkAAAAAAAAAcQMuEha5nux1Ay4SFrme7HUA=",
          "dtype": "f8"
         },
         "xaxis": "x6",
         "y": {
          "bdata": "q0xY6Hq2/z9WJix0PdsBQKxMWOh6tv8/rExY6Hq29z+rTFjoerbzP6xMWOh6tvc/q0xY6Hq2/z8=",
          "dtype": "f8"
         },
         "yaxis": "y6"
        },
        {
         "fill": "toself",
         "fillcolor": "rgb(254, 219, 139)",
         "hoverinfo": "text",
         "hoveron": "fills",
         "line": {
          "color": "black",
          "width": 0
         },
         "mode": "lines",
         "showlegend": false,
         "text": "[30, 35]",
         "type": "scatter",
         "x": {
          "bdata": "y4SFrme7G0AAAAAAAAAaQDV7elGYRBhANXt6UZhEGEAAAAAAAAAaQMuEha5nuxtAy4SFrme7G0A=",
          "dtype": "f8"
         },
         "xaxis": "x6",
         "y": {
          "bdata": "gDlCLtzIBkCAOUIu3MgIQIA5Qi7cyAZAgDlCLtzIAkCAOUIu3MgAQIA5Qi7cyAJAgDlCLtzIBkA=",
          "dtype": "f8"
         },
         "yaxis": "y6"
        },
        {
         "fill": "toself",
         "fillcolor": "rgb(214, 238, 245)",
         "hoverinfo": "text",
         "hoveron": "fills",
         "line": {
          "color": "black",
          "width": 0
         },
         "mode": "lines",
         "showlegend": false,
         "text": "[]",
         "type": "scatter",
         "x": {
          "bdata": "y4SFrme7HUAAAAAAAAAcQDV7elGYRBpANXt6UZhEGkAAAAAAAAAcQMuEha5nux1Ay4SFrme7HUA=",
          "dtype": "f8"
         },
         "xaxis": "x6",
         "y": {
          "bdata": "q0xY6Hq2DUCrTFjoerYPQKtMWOh6tg1Aq0xY6Hq2CUCrTFjoerYHQKtMWOh6tglAq0xY6Hq2DUA=",
          "dtype": "f8"
         },
         "yaxis": "y6"
        },
        {
         "fill": "toself",
         "fillcolor": "rgb(171, 217, 233)",
         "hoverinfo": "text",
         "hoveron": "fills",
         "line": {
          "color": "black",
          "width": 0
         },
         "mode": "lines",
         "showlegend": false,
         "text": "[66, 86, 91, 93]",
         "type": "scatter",
         "x": {
          "bdata": "y4SFrme7G0AAAAAAAAAaQDV7elGYRBhANXt6UZhEGEAAAAAAAAAaQMuEha5nuxtAy4SFrme7G0A=",
          "dtype": "f8"
         },
         "xaxis": "x6",
         "y": {
          "bdata": "6y830QxSEkDrLzfRDFITQOsvN9EMUhJA6y830QxSEEDWX26iGaQOQOsvN9EMUhBA6y830QxSEkA=",
          "dtype": "f8"
         },
         "yaxis": "y6"
        },
        {
         "fill": "toself",
         "fillcolor": "rgb(165, 0, 38)",
         "hoverinfo": "text",
         "hoveron": "fills",
         "line": {
          "color": "black",
          "width": 0
         },
         "mode": "lines",
         "showlegend": false,
         "text": "[70, 72, 73, 74, 76]",
         "type": "scatter",
         "x": {
          "bdata": "ZcJC17PdIEAAAAAAAAAgQDV7elGYRB5ANXt6UZhEHkAAAAAAAAAgQGXCQtez3SBAZcJC17PdIEA=",
          "dtype": "f8"
         },
         "xaxis": "x6",
         "y": {
          "bdata": "////////zz8AAAAAAADgPwMAAAAAANA/+///////z78AAAAAAADgv/r//////8+/AAAAAAAA0D8=",
          "dtype": "f8"
         },
         "yaxis": "y6"
        },
        {
         "fill": "toself",
         "fillcolor": "rgb(227, 73, 50)",
         "hoverinfo": "text",
         "hoveron": "fills",
         "line": {
          "color": "black",
          "width": 0
         },
         "mode": "lines",
         "showlegend": false,
         "text": "[75, 77]",
         "type": "scatter",
         "x": {
          "bdata": "y4SFrme7H0AAAAAAAAAeQDV7elGYRBxANXt6UZhEHEAAAAAAAAAeQMuEha5nux9Ay4SFrme7H0A=",
          "dtype": "f8"
         },
         "xaxis": "x6",
         "y": {
          "bdata": "VSYsdD3b8T9WJix0Pdv1P1YmLHQ92/E/rExY6Hq24z9WmbDQ9WzXP6xMWOh6tuM/ViYsdD3b8T8=",
          "dtype": "f8"
         },
         "yaxis": "y6"
        },
        {
         "fill": "toself",
         "fillcolor": "rgb(248, 141, 82)",
         "hoverinfo": "text",
         "hoveron": "fills",
         "line": {
          "color": "black",
          "width": 0
         },
         "mode": "lines",
         "showlegend": false,
         "text": "[]",
         "type": "scatter",
         "x": {
          "bdata": "ZcJC17PdIEAAAAAAAAAgQDV7elGYRB5ANXt6UZhEHkAAAAAAAAAgQGXCQtez3SBAZcJC17PdIEA=",
          "dtype": "f8"
         },
         "xaxis": "x6",
         "y": {
          "bdata": "q0xY6Hq2/z9WJix0PdsBQKxMWOh6tv8/rExY6Hq29z+rTFjoerbzP6xMWOh6tvc/q0xY6Hq2/z8=",
          "dtype": "f8"
         },
         "yaxis": "y6"
        },
        {
         "fill": "toself",
         "fillcolor": "rgb(254, 239, 167)",
         "hoverinfo": "text",
         "hoveron": "fills",
         "line": {
          "color": "black",
          "width": 0
         },
         "mode": "lines",
         "showlegend": false,
         "text": "[31, 39]",
         "type": "scatter",
         "x": {
          "bdata": "y4SFrme7H0AAAAAAAAAeQDV7elGYRBxANXt6UZhEHEAAAAAAAAAeQMuEha5nux9Ay4SFrme7H0A=",
          "dtype": "f8"
         },
         "xaxis": "x6",
         "y": {
          "bdata": "gDlCLtzIBkCAOUIu3MgIQIA5Qi7cyAZAgDlCLtzIAkCAOUIu3MgAQIA5Qi7cyAJAgDlCLtzIBkA=",
          "dtype": "f8"
         },
         "yaxis": "y6"
        },
        {
         "fill": "toself",
         "fillcolor": "rgb(225, 243, 247)",
         "hoverinfo": "text",
         "hoveron": "fills",
         "line": {
          "color": "black",
          "width": 0
         },
         "mode": "lines",
         "showlegend": false,
         "text": "[59, 60, 61, 62]",
         "type": "scatter",
         "x": {
          "bdata": "ZcJC17PdIEAAAAAAAAAgQDV7elGYRB5ANXt6UZhEHkAAAAAAAAAgQGXCQtez3SBAZcJC17PdIEA=",
          "dtype": "f8"
         },
         "xaxis": "x6",
         "y": {
          "bdata": "q0xY6Hq2DUCrTFjoerYPQKtMWOh6tg1Aq0xY6Hq2CUCrTFjoerYHQKtMWOh6tglAq0xY6Hq2DUA=",
          "dtype": "f8"
         },
         "yaxis": "y6"
        },
        {
         "fill": "toself",
         "fillcolor": "rgb(189, 226, 238)",
         "hoverinfo": "text",
         "hoveron": "fills",
         "line": {
          "color": "black",
          "width": 0
         },
         "mode": "lines",
         "showlegend": false,
         "text": "[10, 65]",
         "type": "scatter",
         "x": {
          "bdata": "y4SFrme7H0AAAAAAAAAeQDV7elGYRBxANXt6UZhEHEAAAAAAAAAeQMuEha5nux9Ay4SFrme7H0A=",
          "dtype": "f8"
         },
         "xaxis": "x6",
         "y": {
          "bdata": "6y830QxSEkDrLzfRDFITQOsvN9EMUhJA6y830QxSEEDWX26iGaQOQOsvN9EMUhBA6y830QxSEkA=",
          "dtype": "f8"
         },
         "yaxis": "y6"
        },
        {
         "marker": {
          "color": [
           0.04075007097053381,
           0.8521600664330209
          ],
          "colorbar": {
           "len": 0.1,
           "thickness": 20,
           "x": 0.9,
           "y": 0.5
          },
          "colorscale": [
           [
            0,
            "rgb(165,0,38)"
           ],
           [
            0.1,
            "rgb(215,48,39)"
           ],
           [
            0.2,
            "rgb(244,109,67)"
           ],
           [
            0.3,
            "rgb(253,174,97)"
           ],
           [
            0.4,
            "rgb(254,224,144)"
           ],
           [
            0.5,
            "rgb(255,255,191)"
           ],
           [
            0.6,
            "rgb(224,243,248)"
           ],
           [
            0.7,
            "rgb(171,217,233)"
           ],
           [
            0.8,
            "rgb(116,173,209)"
           ],
           [
            0.9,
            "rgb(69,117,180)"
           ],
           [
            1,
            "rgb(49,54,149)"
           ]
          ],
          "size": 0.001
         },
         "showlegend": false,
         "type": "scatter",
         "x": [
          0,
          0
         ],
         "xaxis": "x6",
         "y": [
          0,
          0
         ],
         "yaxis": "y6"
        },
        {
         "fill": "toself",
         "fillcolor": "rgb(166, 1, 38)",
         "hoverinfo": "text",
         "hoveron": "fills",
         "line": {
          "color": "black",
          "width": 0
         },
         "mode": "lines",
         "showlegend": false,
         "text": "[5]",
         "type": "scatter",
         "x": {
          "bdata": "q0xY6Hq22z8HXBQzJqaBPKlMWOh6ttu/rExY6Hq2278Kip5MOXmavKxMWOh6tts/qkxY6Hq22z8=",
          "dtype": "f8"
         },
         "xaxis": "x7",
         "y": {
          "bdata": "////////zz8AAAAAAADgPwMAAAAAANA/+///////z78AAAAAAADgv/r//////8+/AAAAAAAA0D8=",
          "dtype": "f8"
         },
         "yaxis": "y7"
        },
        {
         "fill": "toself",
         "fillcolor": "rgb(171, 6, 38)",
         "hoverinfo": "text",
         "hoveron": "fills",
         "line": {
          "color": "black",
          "width": 0
         },
         "mode": "lines",
         "showlegend": false,
         "text": "[0, 4]",
         "type": "scatter",
         "x": {
          "bdata": "VM2eXhQmsb/////////fv1QmLHQ92+2/ViYsdD3b7b8BAAAAAADgv1DNnl4UJrG/WM2eXhQmsb8=",
          "dtype": "f8"
         },
         "xaxis": "x7",
         "y": {
          "bdata": "VSYsdD3b8T9WJix0Pdv1P1YmLHQ92/E/rExY6Hq24z9WmbDQ9WzXP6xMWOh6tuM/ViYsdD3b8T8=",
          "dtype": "f8"
         },
         "yaxis": "y7"
        },
        {
         "fill": "toself",
         "fillcolor": "rgb(206, 40, 39)",
         "hoverinfo": "text",
         "hoveron": "fills",
         "line": {
          "color": "black",
          "width": 0
         },
         "mode": "lines",
         "showlegend": false,
         "text": "[21, 22]",
         "type": "scatter",
         "x": {
          "bdata": "q0xY6Hq22z8HXBQzJqaBPKlMWOh6ttu/rExY6Hq2278Kip5MOXmavKxMWOh6tts/qkxY6Hq22z8=",
          "dtype": "f8"
         },
         "xaxis": "x7",
         "y": {
          "bdata": "q0xY6Hq2/z9WJix0PdsBQKxMWOh6tv8/rExY6Hq29z+rTFjoerbzP6xMWOh6tvc/q0xY6Hq2/z8=",
          "dtype": "f8"
         },
         "yaxis": "y7"
        },
        {
         "fill": "toself",
         "fillcolor": "rgb(225, 70, 49)",
         "hoverinfo": "text",
         "hoveron": "fills",
         "line": {
          "color": "black",
          "width": 0
         },
         "mode": "lines",
         "showlegend": false,
         "text": "[83, 85, 87, 89]",
         "type": "scatter",
         "x": {
          "bdata": "VM2eXhQmsb/////////fv1QmLHQ92+2/ViYsdD3b7b8BAAAAAADgv1DNnl4UJrG/WM2eXhQmsb8=",
          "dtype": "f8"
         },
         "xaxis": "x7",
         "y": {
          "bdata": "gDlCLtzIBkCAOUIu3MgIQIA5Qi7cyAZAgDlCLtzIAkCAOUIu3MgAQIA5Qi7cyAJAgDlCLtzIBkA=",
          "dtype": "f8"
         },
         "yaxis": "y7"
        },
        {
         "fill": "toself",
         "fillcolor": "rgb(226, 72, 50)",
         "hoverinfo": "text",
         "hoveron": "fills",
         "line": {
          "color": "black",
          "width": 0
         },
         "mode": "lines",
         "showlegend": false,
         "text": "[]",
         "type": "scatter",
         "x": {
          "bdata": "q0xY6Hq22z8HXBQzJqaBPKlMWOh6ttu/rExY6Hq2278Kip5MOXmavKxMWOh6tts/qkxY6Hq22z8=",
          "dtype": "f8"
         },
         "xaxis": "x7",
         "y": {
          "bdata": "q0xY6Hq2DUCrTFjoerYPQKtMWOh6tg1Aq0xY6Hq2CUCrTFjoerYHQKtMWOh6tglAq0xY6Hq2DUA=",
          "dtype": "f8"
         },
         "yaxis": "y7"
        },
        {
         "fill": "toself",
         "fillcolor": "rgb(228, 74, 51)",
         "hoverinfo": "text",
         "hoveron": "fills",
         "line": {
          "color": "black",
          "width": 0
         },
         "mode": "lines",
         "showlegend": false,
         "text": "[40, 43, 46, 92]",
         "type": "scatter",
         "x": {
          "bdata": "VM2eXhQmsb/////////fv1QmLHQ92+2/ViYsdD3b7b8BAAAAAADgv1DNnl4UJrG/WM2eXhQmsb8=",
          "dtype": "f8"
         },
         "xaxis": "x7",
         "y": {
          "bdata": "6y830QxSEkDrLzfRDFITQOsvN9EMUhJA6y830QxSEEDWX26iGaQOQOsvN9EMUhBA6y830QxSEkA=",
          "dtype": "f8"
         },
         "yaxis": "y7"
        },
        {
         "fill": "toself",
         "fillcolor": "rgb(168, 3, 38)",
         "hoverinfo": "text",
         "hoveron": "fills",
         "line": {
          "color": "black",
          "width": 0
         },
         "mode": "lines",
         "showlegend": false,
         "text": "[2, 3, 6]",
         "type": "scatter",
         "x": {
          "bdata": "KxMWup7t9j8AAAAAAADwP6zZ04vCJOI/qtnTi8Ik4j/////////vPysTFrqe7fY/KhMWup7t9j8=",
          "dtype": "f8"
         },
         "xaxis": "x7",
         "y": {
          "bdata": "////////zz8AAAAAAADgPwMAAAAAANA/+///////z78AAAAAAADgv/r//////8+/AAAAAAAA0D8=",
          "dtype": "f8"
         },
         "yaxis": "y7"
        },
        {
         "fill": "toself",
         "fillcolor": "rgb(176, 10, 38)",
         "hoverinfo": "text",
         "hoveron": "fills",
         "line": {
          "color": "black",
          "width": 0
         },
         "mode": "lines",
         "showlegend": false,
         "text": "[9, 50]",
         "type": "scatter",
         "x": {
          "bdata": "ViYsdD3b7T8AAAAAAADgP1zNnl4UJrE/UM2eXhQmsT/+///////fP1YmLHQ92+0/VSYsdD3b7T8=",
          "dtype": "f8"
         },
         "xaxis": "x7",
         "y": {
          "bdata": "VSYsdD3b8T9WJix0Pdv1P1YmLHQ92/E/rExY6Hq24z9WmbDQ9WzXP6xMWOh6tuM/ViYsdD3b8T8=",
          "dtype": "f8"
         },
         "yaxis": "y7"
        },
        {
         "fill": "toself",
         "fillcolor": "rgb(197, 31, 39)",
         "hoverinfo": "text",
         "hoveron": "fills",
         "line": {
          "color": "black",
          "width": 0
         },
         "mode": "lines",
         "showlegend": false,
         "text": "[24, 25, 26]",
         "type": "scatter",
         "x": {
          "bdata": "KxMWup7t9j8AAAAAAADwP6zZ04vCJOI/qtnTi8Ik4j/////////vPysTFrqe7fY/KhMWup7t9j8=",
          "dtype": "f8"
         },
         "xaxis": "x7",
         "y": {
          "bdata": "q0xY6Hq2/z9WJix0PdsBQKxMWOh6tv8/rExY6Hq29z+rTFjoerbzP6xMWOh6tvc/q0xY6Hq2/z8=",
          "dtype": "f8"
         },
         "yaxis": "y7"
        },
        {
         "fill": "toself",
         "fillcolor": "rgb(220, 59, 44)",
         "hoverinfo": "text",
         "hoveron": "fills",
         "line": {
          "color": "black",
          "width": 0
         },
         "mode": "lines",
         "showlegend": false,
         "text": "[53, 79, 82, 84]",
         "type": "scatter",
         "x": {
          "bdata": "ViYsdD3b7T8AAAAAAADgP1zNnl4UJrE/UM2eXhQmsT/+///////fP1YmLHQ92+0/VSYsdD3b7T8=",
          "dtype": "f8"
         },
         "xaxis": "x7",
         "y": {
          "bdata": "gDlCLtzIBkCAOUIu3MgIQIA5Qi7cyAZAgDlCLtzIAkCAOUIu3MgAQIA5Qi7cyAJAgDlCLtzIBkA=",
          "dtype": "f8"
         },
         "yaxis": "y7"
        },
        {
         "fill": "toself",
         "fillcolor": "rgb(226, 70, 49)",
         "hoverinfo": "text",
         "hoveron": "fills",
         "line": {
          "color": "black",
          "width": 0
         },
         "mode": "lines",
         "showlegend": false,
         "text": "[]",
         "type": "scatter",
         "x": {
          "bdata": "KxMWup7t9j8AAAAAAADwP6zZ04vCJOI/qtnTi8Ik4j/////////vPysTFrqe7fY/KhMWup7t9j8=",
          "dtype": "f8"
         },
         "xaxis": "x7",
         "y": {
          "bdata": "q0xY6Hq2DUCrTFjoerYPQKtMWOh6tg1Aq0xY6Hq2CUCrTFjoerYHQKtMWOh6tglAq0xY6Hq2DUA=",
          "dtype": "f8"
         },
         "yaxis": "y7"
        },
        {
         "fill": "toself",
         "fillcolor": "rgb(229, 78, 53)",
         "hoverinfo": "text",
         "hoveron": "fills",
         "line": {
          "color": "black",
          "width": 0
         },
         "mode": "lines",
         "showlegend": false,
         "text": "[42, 44, 45]",
         "type": "scatter",
         "x": {
          "bdata": "ViYsdD3b7T8AAAAAAADgP1zNnl4UJrE/UM2eXhQmsT/+///////fP1YmLHQ92+0/VSYsdD3b7T8=",
          "dtype": "f8"
         },
         "xaxis": "x7",
         "y": {
          "bdata": "6y830QxSEkDrLzfRDFITQOsvN9EMUhJA6y830QxSEEDWX26iGaQOQOsvN9EMUhBA6y830QxSEkA=",
          "dtype": "f8"
         },
         "yaxis": "y7"
        },
        {
         "fill": "toself",
         "fillcolor": "rgb(174, 8, 38)",
         "hoverinfo": "text",
         "hoveron": "fills",
         "line": {
          "color": "black",
          "width": 0
         },
         "mode": "lines",
         "showlegend": false,
         "text": "[]",
         "type": "scatter",
         "x": {
          "bdata": "lQkLXc92A0AAAAAAAAAAQNbs6UVhEvk/1ezpRWES+T8AAAAAAAAAQJYJC13PdgNAlQkLXc92A0A=",
          "dtype": "f8"
         },
         "xaxis": "x7",
         "y": {
          "bdata": "////////zz8AAAAAAADgPwMAAAAAANA/+///////z78AAAAAAADgv/r//////8+/AAAAAAAA0D8=",
          "dtype": "f8"
         },
         "yaxis": "y7"
        },
        {
         "fill": "toself",
         "fillcolor": "rgb(174, 9, 38)",
         "hoverinfo": "text",
         "hoveron": "fills",
         "line": {
          "color": "black",
          "width": 0
         },
         "mode": "lines",
         "showlegend": false,
         "text": "[1, 7, 8, 52]",
         "type": "scatter",
         "x": {
          "bdata": "KxMWup7t/j8AAAAAAAD4P9bs6UVhEvE/1ezpRWES8T8AAAAAAAD4PysTFrqe7f4/KhMWup7t/j8=",
          "dtype": "f8"
         },
         "xaxis": "x7",
         "y": {
          "bdata": "VSYsdD3b8T9WJix0Pdv1P1YmLHQ92/E/rExY6Hq24z9WmbDQ9WzXP6xMWOh6tuM/ViYsdD3b8T8=",
          "dtype": "f8"
         },
         "yaxis": "y7"
        },
        {
         "fill": "toself",
         "fillcolor": "rgb(192, 26, 39)",
         "hoverinfo": "text",
         "hoveron": "fills",
         "line": {
          "color": "black",
          "width": 0
         },
         "mode": "lines",
         "showlegend": false,
         "text": "[57, 81]",
         "type": "scatter",
         "x": {
          "bdata": "lQkLXc92A0AAAAAAAAAAQNbs6UVhEvk/1ezpRWES+T8AAAAAAAAAQJYJC13PdgNAlQkLXc92A0A=",
          "dtype": "f8"
         },
         "xaxis": "x7",
         "y": {
          "bdata": "q0xY6Hq2/z9WJix0PdsBQKxMWOh6tv8/rExY6Hq29z+rTFjoerbzP6xMWOh6tvc/q0xY6Hq2/z8=",
          "dtype": "f8"
         },
         "yaxis": "y7"
        },
        {
         "fill": "toself",
         "fillcolor": "rgb(216, 50, 40)",
         "hoverinfo": "text",
         "hoveron": "fills",
         "line": {
          "color": "black",
          "width": 0
         },
         "mode": "lines",
         "showlegend": false,
         "text": "[80, 88]",
         "type": "scatter",
         "x": {
          "bdata": "KxMWup7t/j8AAAAAAAD4P9bs6UVhEvE/1ezpRWES8T8AAAAAAAD4PysTFrqe7f4/KhMWup7t/j8=",
          "dtype": "f8"
         },
         "xaxis": "x7",
         "y": {
          "bdata": "gDlCLtzIBkCAOUIu3MgIQIA5Qi7cyAZAgDlCLtzIAkCAOUIu3MgAQIA5Qi7cyAJAgDlCLtzIBkA=",
          "dtype": "f8"
         },
         "yaxis": "y7"
        },
        {
         "fill": "toself",
         "fillcolor": "rgb(254, 231, 154)",
         "hoverinfo": "text",
         "hoveron": "fills",
         "line": {
          "color": "black",
          "width": 0
         },
         "mode": "lines",
         "showlegend": false,
         "text": "[]",
         "type": "scatter",
         "x": {
          "bdata": "lQkLXc92A0AAAAAAAAAAQNbs6UVhEvk/1ezpRWES+T8AAAAAAAAAQJYJC13PdgNAlQkLXc92A0A=",
          "dtype": "f8"
         },
         "xaxis": "x7",
         "y": {
          "bdata": "q0xY6Hq2DUCrTFjoerYPQKtMWOh6tg1Aq0xY6Hq2CUCrTFjoerYHQKtMWOh6tglAq0xY6Hq2DUA=",
          "dtype": "f8"
         },
         "yaxis": "y7"
        },
        {
         "fill": "toself",
         "fillcolor": "rgb(254, 225, 146)",
         "hoverinfo": "text",
         "hoveron": "fills",
         "line": {
          "color": "black",
          "width": 0
         },
         "mode": "lines",
         "showlegend": false,
         "text": "[]",
         "type": "scatter",
         "x": {
          "bdata": "KxMWup7t/j8AAAAAAAD4P9bs6UVhEvE/1ezpRWES8T8AAAAAAAD4PysTFrqe7f4/KhMWup7t/j8=",
          "dtype": "f8"
         },
         "xaxis": "x7",
         "y": {
          "bdata": "6y830QxSEkDrLzfRDFITQOsvN9EMUhJA6y830QxSEEDWX26iGaQOQOsvN9EMUhBA6y830QxSEkA=",
          "dtype": "f8"
         },
         "yaxis": "y7"
        },
        {
         "fill": "toself",
         "fillcolor": "rgb(180, 15, 38)",
         "hoverinfo": "text",
         "hoveron": "fills",
         "line": {
          "color": "black",
          "width": 0
         },
         "mode": "lines",
         "showlegend": false,
         "text": "[47, 48, 49, 51]",
         "type": "scatter",
         "x": {
          "bdata": "lQkLXc92C0AAAAAAAAAIQGv29KIwiQRAavb0ojCJBEAAAAAAAAAIQJYJC13PdgtAlQkLXc92C0A=",
          "dtype": "f8"
         },
         "xaxis": "x7",
         "y": {
          "bdata": "////////zz8AAAAAAADgPwMAAAAAANA/+///////z78AAAAAAADgv/r//////8+/AAAAAAAA0D8=",
          "dtype": "f8"
         },
         "yaxis": "y7"
        },
        {
         "fill": "toself",
         "fillcolor": "rgb(179, 13, 38)",
         "hoverinfo": "text",
         "hoveron": "fills",
         "line": {
          "color": "black",
          "width": 0
         },
         "mode": "lines",
         "showlegend": false,
         "text": "[41]",
         "type": "scatter",
         "x": {
          "bdata": "lQkLXc92B0AAAAAAAAAEQGv29KIwiQBAavb0ojCJAEAAAAAAAAAEQJYJC13PdgdAlQkLXc92B0A=",
          "dtype": "f8"
         },
         "xaxis": "x7",
         "y": {
          "bdata": "VSYsdD3b8T9WJix0Pdv1P1YmLHQ92/E/rExY6Hq24z9WmbDQ9WzXP6xMWOh6tuM/ViYsdD3b8T8=",
          "dtype": "f8"
         },
         "yaxis": "y7"
        },
        {
         "fill": "toself",
         "fillcolor": "rgb(195, 29, 39)",
         "hoverinfo": "text",
         "hoveron": "fills",
         "line": {
          "color": "black",
          "width": 0
         },
         "mode": "lines",
         "showlegend": false,
         "text": "[]",
         "type": "scatter",
         "x": {
          "bdata": "lQkLXc92C0AAAAAAAAAIQGv29KIwiQRAavb0ojCJBEAAAAAAAAAIQJYJC13PdgtAlQkLXc92C0A=",
          "dtype": "f8"
         },
         "xaxis": "x7",
         "y": {
          "bdata": "q0xY6Hq2/z9WJix0PdsBQKxMWOh6tv8/rExY6Hq29z+rTFjoerbzP6xMWOh6tvc/q0xY6Hq2/z8=",
          "dtype": "f8"
         },
         "yaxis": "y7"
        },
        {
         "fill": "toself",
         "fillcolor": "rgb(223, 65, 47)",
         "hoverinfo": "text",
         "hoveron": "fills",
         "line": {
          "color": "black",
          "width": 0
         },
         "mode": "lines",
         "showlegend": false,
         "text": "[63]",
         "type": "scatter",
         "x": {
          "bdata": "lQkLXc92B0AAAAAAAAAEQGv29KIwiQBAavb0ojCJAEAAAAAAAAAEQJYJC13PdgdAlQkLXc92B0A=",
          "dtype": "f8"
         },
         "xaxis": "x7",
         "y": {
          "bdata": "gDlCLtzIBkCAOUIu3MgIQIA5Qi7cyAZAgDlCLtzIAkCAOUIu3MgAQIA5Qi7cyAJAgDlCLtzIBkA=",
          "dtype": "f8"
         },
         "yaxis": "y7"
        },
        {
         "fill": "toself",
         "fillcolor": "rgb(254, 216, 136)",
         "hoverinfo": "text",
         "hoveron": "fills",
         "line": {
          "color": "black",
          "width": 0
         },
         "mode": "lines",
         "showlegend": false,
         "text": "[]",
         "type": "scatter",
         "x": {
          "bdata": "lQkLXc92C0AAAAAAAAAIQGv29KIwiQRAavb0ojCJBEAAAAAAAAAIQJYJC13PdgtAlQkLXc92C0A=",
          "dtype": "f8"
         },
         "xaxis": "x7",
         "y": {
          "bdata": "q0xY6Hq2DUCrTFjoerYPQKtMWOh6tg1Aq0xY6Hq2CUCrTFjoerYHQKtMWOh6tglAq0xY6Hq2DUA=",
          "dtype": "f8"
         },
         "yaxis": "y7"
        },
        {
         "fill": "toself",
         "fillcolor": "rgb(49, 54, 149)",
         "hoverinfo": "text",
         "hoveron": "fills",
         "line": {
          "color": "black",
          "width": 0
         },
         "mode": "lines",
         "showlegend": false,
         "text": "[37, 38]",
         "type": "scatter",
         "x": {
          "bdata": "lQkLXc92B0AAAAAAAAAEQGv29KIwiQBAavb0ojCJAEAAAAAAAAAEQJYJC13PdgdAlQkLXc92B0A=",
          "dtype": "f8"
         },
         "xaxis": "x7",
         "y": {
          "bdata": "6y830QxSEkDrLzfRDFITQOsvN9EMUhJA6y830QxSEEDWX26iGaQOQOsvN9EMUhBA6y830QxSEkA=",
          "dtype": "f8"
         },
         "yaxis": "y7"
        },
        {
         "fill": "toself",
         "fillcolor": "rgb(174, 9, 38)",
         "hoverinfo": "text",
         "hoveron": "fills",
         "line": {
          "color": "black",
          "width": 0
         },
         "mode": "lines",
         "showlegend": false,
         "text": "[55]",
         "type": "scatter",
         "x": {
          "bdata": "y4SFrme7EUAAAAAAAAAQQGv29KIwiQxAavb0ojCJDEAAAAAAAAAQQMuEha5nuxFAy4SFrme7EUA=",
          "dtype": "f8"
         },
         "xaxis": "x7",
         "y": {
          "bdata": "////////zz8AAAAAAADgPwMAAAAAANA/+///////z78AAAAAAADgv/r//////8+/AAAAAAAA0D8=",
          "dtype": "f8"
         },
         "yaxis": "y7"
        },
        {
         "fill": "toself",
         "fillcolor": "rgb(183, 17, 38)",
         "hoverinfo": "text",
         "hoveron": "fills",
         "line": {
          "color": "black",
          "width": 0
         },
         "mode": "lines",
         "showlegend": false,
         "text": "[15, 16, 17, 18, 19, 20]",
         "type": "scatter",
         "x": {
          "bdata": "lQkLXc92D0AAAAAAAAAMQGv29KIwiQhAavb0ojCJCEAAAAAAAAAMQJYJC13Pdg9AlQkLXc92D0A=",
          "dtype": "f8"
         },
         "xaxis": "x7",
         "y": {
          "bdata": "VSYsdD3b8T9WJix0Pdv1P1YmLHQ92/E/rExY6Hq24z9WmbDQ9WzXP6xMWOh6tuM/ViYsdD3b8T8=",
          "dtype": "f8"
         },
         "yaxis": "y7"
        },
        {
         "fill": "toself",
         "fillcolor": "rgb(199, 32, 39)",
         "hoverinfo": "text",
         "hoveron": "fills",
         "line": {
          "color": "black",
          "width": 0
         },
         "mode": "lines",
         "showlegend": false,
         "text": "[23, 78, 90]",
         "type": "scatter",
         "x": {
          "bdata": "y4SFrme7EUAAAAAAAAAQQGv29KIwiQxAavb0ojCJDEAAAAAAAAAQQMuEha5nuxFAy4SFrme7EUA=",
          "dtype": "f8"
         },
         "xaxis": "x7",
         "y": {
          "bdata": "q0xY6Hq2/z9WJix0PdsBQKxMWOh6tv8/rExY6Hq29z+rTFjoerbzP6xMWOh6tvc/q0xY6Hq2/z8=",
          "dtype": "f8"
         },
         "yaxis": "y7"
        },
        {
         "fill": "toself",
         "fillcolor": "rgb(210, 43, 39)",
         "hoverinfo": "text",
         "hoveron": "fills",
         "line": {
          "color": "black",
          "width": 0
         },
         "mode": "lines",
         "showlegend": false,
         "text": "[27, 29, 36]",
         "type": "scatter",
         "x": {
          "bdata": "lQkLXc92D0AAAAAAAAAMQGv29KIwiQhAavb0ojCJCEAAAAAAAAAMQJYJC13Pdg9AlQkLXc92D0A=",
          "dtype": "f8"
         },
         "xaxis": "x7",
         "y": {
          "bdata": "gDlCLtzIBkCAOUIu3MgIQIA5Qi7cyAZAgDlCLtzIAkCAOUIu3MgAQIA5Qi7cyAJAgDlCLtzIBkA=",
          "dtype": "f8"
         },
         "yaxis": "y7"
        },
        {
         "fill": "toself",
         "fillcolor": "rgb(233, 87, 57)",
         "hoverinfo": "text",
         "hoveron": "fills",
         "line": {
          "color": "black",
          "width": 0
         },
         "mode": "lines",
         "showlegend": false,
         "text": "[64]",
         "type": "scatter",
         "x": {
          "bdata": "y4SFrme7EUAAAAAAAAAQQGv29KIwiQxAavb0ojCJDEAAAAAAAAAQQMuEha5nuxFAy4SFrme7EUA=",
          "dtype": "f8"
         },
         "xaxis": "x7",
         "y": {
          "bdata": "q0xY6Hq2DUCrTFjoerYPQKtMWOh6tg1Aq0xY6Hq2CUCrTFjoerYHQKtMWOh6tglAq0xY6Hq2DUA=",
          "dtype": "f8"
         },
         "yaxis": "y7"
        },
        {
         "fill": "toself",
         "fillcolor": "rgb(249, 253, 201)",
         "hoverinfo": "text",
         "hoveron": "fills",
         "line": {
          "color": "black",
          "width": 0
         },
         "mode": "lines",
         "showlegend": false,
         "text": "[]",
         "type": "scatter",
         "x": {
          "bdata": "lQkLXc92D0AAAAAAAAAMQGv29KIwiQhAavb0ojCJCEAAAAAAAAAMQJYJC13Pdg9AlQkLXc92D0A=",
          "dtype": "f8"
         },
         "xaxis": "x7",
         "y": {
          "bdata": "6y830QxSEkDrLzfRDFITQOsvN9EMUhJA6y830QxSEEDWX26iGaQOQOsvN9EMUhBA6y830QxSEkA=",
          "dtype": "f8"
         },
         "yaxis": "y7"
        },
        {
         "fill": "toself",
         "fillcolor": "rgb(165, 0, 38)",
         "hoverinfo": "text",
         "hoveron": "fills",
         "line": {
          "color": "black",
          "width": 0
         },
         "mode": "lines",
         "showlegend": false,
         "text": "[95, 97]",
         "type": "scatter",
         "x": {
          "bdata": "y4SFrme7FUAAAAAAAAAUQDV7elGYRBJANXt6UZhEEkAAAAAAAAAUQMuEha5nuxVAy4SFrme7FUA=",
          "dtype": "f8"
         },
         "xaxis": "x7",
         "y": {
          "bdata": "////////zz8AAAAAAADgPwMAAAAAANA/+///////z78AAAAAAADgv/r//////8+/AAAAAAAA0D8=",
          "dtype": "f8"
         },
         "yaxis": "y7"
        },
        {
         "fill": "toself",
         "fillcolor": "rgb(181, 15, 38)",
         "hoverinfo": "text",
         "hoveron": "fills",
         "line": {
          "color": "black",
          "width": 0
         },
         "mode": "lines",
         "showlegend": false,
         "text": "[94]",
         "type": "scatter",
         "x": {
          "bdata": "y4SFrme7E0AAAAAAAAASQDV7elGYRBBANXt6UZhEEEAAAAAAAAASQMuEha5nuxNAy4SFrme7E0A=",
          "dtype": "f8"
         },
         "xaxis": "x7",
         "y": {
          "bdata": "VSYsdD3b8T9WJix0Pdv1P1YmLHQ92/E/rExY6Hq24z9WmbDQ9WzXP6xMWOh6tuM/ViYsdD3b8T8=",
          "dtype": "f8"
         },
         "yaxis": "y7"
        },
        {
         "fill": "toself",
         "fillcolor": "rgb(190, 24, 39)",
         "hoverinfo": "text",
         "hoveron": "fills",
         "line": {
          "color": "black",
          "width": 0
         },
         "mode": "lines",
         "showlegend": false,
         "text": "[33, 34]",
         "type": "scatter",
         "x": {
          "bdata": "y4SFrme7FUAAAAAAAAAUQDV7elGYRBJANXt6UZhEEkAAAAAAAAAUQMuEha5nuxVAy4SFrme7FUA=",
          "dtype": "f8"
         },
         "xaxis": "x7",
         "y": {
          "bdata": "q0xY6Hq2/z9WJix0PdsBQKxMWOh6tv8/rExY6Hq29z+rTFjoerbzP6xMWOh6tvc/q0xY6Hq2/z8=",
          "dtype": "f8"
         },
         "yaxis": "y7"
        },
        {
         "fill": "toself",
         "fillcolor": "rgb(205, 38, 39)",
         "hoverinfo": "text",
         "hoveron": "fills",
         "line": {
          "color": "black",
          "width": 0
         },
         "mode": "lines",
         "showlegend": false,
         "text": "[28]",
         "type": "scatter",
         "x": {
          "bdata": "y4SFrme7E0AAAAAAAAASQDV7elGYRBBANXt6UZhEEEAAAAAAAAASQMuEha5nuxNAy4SFrme7E0A=",
          "dtype": "f8"
         },
         "xaxis": "x7",
         "y": {
          "bdata": "gDlCLtzIBkCAOUIu3MgIQIA5Qi7cyAZAgDlCLtzIAkCAOUIu3MgAQIA5Qi7cyAJAgDlCLtzIBkA=",
          "dtype": "f8"
         },
         "yaxis": "y7"
        },
        {
         "fill": "toself",
         "fillcolor": "rgb(212, 45, 39)",
         "hoverinfo": "text",
         "hoveron": "fills",
         "line": {
          "color": "black",
          "width": 0
         },
         "mode": "lines",
         "showlegend": false,
         "text": "[]",
         "type": "scatter",
         "x": {
          "bdata": "y4SFrme7FUAAAAAAAAAUQDV7elGYRBJANXt6UZhEEkAAAAAAAAAUQMuEha5nuxVAy4SFrme7FUA=",
          "dtype": "f8"
         },
         "xaxis": "x7",
         "y": {
          "bdata": "q0xY6Hq2DUCrTFjoerYPQKtMWOh6tg1Aq0xY6Hq2CUCrTFjoerYHQKtMWOh6tglAq0xY6Hq2DUA=",
          "dtype": "f8"
         },
         "yaxis": "y7"
        },
        {
         "fill": "toself",
         "fillcolor": "rgb(218, 53, 41)",
         "hoverinfo": "text",
         "hoveron": "fills",
         "line": {
          "color": "black",
          "width": 0
         },
         "mode": "lines",
         "showlegend": false,
         "text": "[]",
         "type": "scatter",
         "x": {
          "bdata": "y4SFrme7E0AAAAAAAAASQDV7elGYRBBANXt6UZhEEEAAAAAAAAASQMuEha5nuxNAy4SFrme7E0A=",
          "dtype": "f8"
         },
         "xaxis": "x7",
         "y": {
          "bdata": "6y830QxSEkDrLzfRDFITQOsvN9EMUhJA6y830QxSEEDWX26iGaQOQOsvN9EMUhBA6y830QxSEkA=",
          "dtype": "f8"
         },
         "yaxis": "y7"
        },
        {
         "fill": "toself",
         "fillcolor": "rgb(181, 15, 38)",
         "hoverinfo": "text",
         "hoveron": "fills",
         "line": {
          "color": "black",
          "width": 0
         },
         "mode": "lines",
         "showlegend": false,
         "text": "[54]",
         "type": "scatter",
         "x": {
          "bdata": "y4SFrme7GUAAAAAAAAAYQDV7elGYRBZANXt6UZhEFkAAAAAAAAAYQMuEha5nuxlAy4SFrme7GUA=",
          "dtype": "f8"
         },
         "xaxis": "x7",
         "y": {
          "bdata": "////////zz8AAAAAAADgPwMAAAAAANA/+///////z78AAAAAAADgv/r//////8+/AAAAAAAA0D8=",
          "dtype": "f8"
         },
         "yaxis": "y7"
        },
        {
         "fill": "toself",
         "fillcolor": "rgb(184, 18, 38)",
         "hoverinfo": "text",
         "hoveron": "fills",
         "line": {
          "color": "black",
          "width": 0
         },
         "mode": "lines",
         "showlegend": false,
         "text": "[96]",
         "type": "scatter",
         "x": {
          "bdata": "y4SFrme7F0AAAAAAAAAWQDV7elGYRBRANXt6UZhEFEAAAAAAAAAWQMuEha5nuxdAy4SFrme7F0A=",
          "dtype": "f8"
         },
         "xaxis": "x7",
         "y": {
          "bdata": "VSYsdD3b8T9WJix0Pdv1P1YmLHQ92/E/rExY6Hq24z9WmbDQ9WzXP6xMWOh6tuM/ViYsdD3b8T8=",
          "dtype": "f8"
         },
         "yaxis": "y7"
        },
        {
         "fill": "toself",
         "fillcolor": "rgb(187, 21, 38)",
         "hoverinfo": "text",
         "hoveron": "fills",
         "line": {
          "color": "black",
          "width": 0
         },
         "mode": "lines",
         "showlegend": false,
         "text": "[32, 56]",
         "type": "scatter",
         "x": {
          "bdata": "y4SFrme7GUAAAAAAAAAYQDV7elGYRBZANXt6UZhEFkAAAAAAAAAYQMuEha5nuxlAy4SFrme7GUA=",
          "dtype": "f8"
         },
         "xaxis": "x7",
         "y": {
          "bdata": "q0xY6Hq2/z9WJix0PdsBQKxMWOh6tv8/rExY6Hq29z+rTFjoerbzP6xMWOh6tvc/q0xY6Hq2/z8=",
          "dtype": "f8"
         },
         "yaxis": "y7"
        },
        {
         "fill": "toself",
         "fillcolor": "rgb(188, 22, 38)",
         "hoverinfo": "text",
         "hoveron": "fills",
         "line": {
          "color": "black",
          "width": 0
         },
         "mode": "lines",
         "showlegend": false,
         "text": "[58]",
         "type": "scatter",
         "x": {
          "bdata": "y4SFrme7F0AAAAAAAAAWQDV7elGYRBRANXt6UZhEFEAAAAAAAAAWQMuEha5nuxdAy4SFrme7F0A=",
          "dtype": "f8"
         },
         "xaxis": "x7",
         "y": {
          "bdata": "gDlCLtzIBkCAOUIu3MgIQIA5Qi7cyAZAgDlCLtzIAkCAOUIu3MgAQIA5Qi7cyAJAgDlCLtzIBkA=",
          "dtype": "f8"
         },
         "yaxis": "y7"
        },
        {
         "fill": "toself",
         "fillcolor": "rgb(205, 39, 39)",
         "hoverinfo": "text",
         "hoveron": "fills",
         "line": {
          "color": "black",
          "width": 0
         },
         "mode": "lines",
         "showlegend": false,
         "text": "[13]",
         "type": "scatter",
         "x": {
          "bdata": "y4SFrme7GUAAAAAAAAAYQDV7elGYRBZANXt6UZhEFkAAAAAAAAAYQMuEha5nuxlAy4SFrme7GUA=",
          "dtype": "f8"
         },
         "xaxis": "x7",
         "y": {
          "bdata": "q0xY6Hq2DUCrTFjoerYPQKtMWOh6tg1Aq0xY6Hq2CUCrTFjoerYHQKtMWOh6tglAq0xY6Hq2DUA=",
          "dtype": "f8"
         },
         "yaxis": "y7"
        },
        {
         "fill": "toself",
         "fillcolor": "rgb(211, 44, 39)",
         "hoverinfo": "text",
         "hoveron": "fills",
         "line": {
          "color": "black",
          "width": 0
         },
         "mode": "lines",
         "showlegend": false,
         "text": "[11, 12, 14, 67, 68, 69]",
         "type": "scatter",
         "x": {
          "bdata": "y4SFrme7F0AAAAAAAAAWQDV7elGYRBRANXt6UZhEFEAAAAAAAAAWQMuEha5nuxdAy4SFrme7F0A=",
          "dtype": "f8"
         },
         "xaxis": "x7",
         "y": {
          "bdata": "6y830QxSEkDrLzfRDFITQOsvN9EMUhJA6y830QxSEEDWX26iGaQOQOsvN9EMUhBA6y830QxSEkA=",
          "dtype": "f8"
         },
         "yaxis": "y7"
        },
        {
         "fill": "toself",
         "fillcolor": "rgb(207, 40, 39)",
         "hoverinfo": "text",
         "hoveron": "fills",
         "line": {
          "color": "black",
          "width": 0
         },
         "mode": "lines",
         "showlegend": false,
         "text": "[71]",
         "type": "scatter",
         "x": {
          "bdata": "y4SFrme7HUAAAAAAAAAcQDV7elGYRBpANXt6UZhEGkAAAAAAAAAcQMuEha5nux1Ay4SFrme7HUA=",
          "dtype": "f8"
         },
         "xaxis": "x7",
         "y": {
          "bdata": "////////zz8AAAAAAADgPwMAAAAAANA/+///////z78AAAAAAADgv/r//////8+/AAAAAAAA0D8=",
          "dtype": "f8"
         },
         "yaxis": "y7"
        },
        {
         "fill": "toself",
         "fillcolor": "rgb(193, 27, 39)",
         "hoverinfo": "text",
         "hoveron": "fills",
         "line": {
          "color": "black",
          "width": 0
         },
         "mode": "lines",
         "showlegend": false,
         "text": "[98]",
         "type": "scatter",
         "x": {
          "bdata": "y4SFrme7G0AAAAAAAAAaQDV7elGYRBhANXt6UZhEGEAAAAAAAAAaQMuEha5nuxtAy4SFrme7G0A=",
          "dtype": "f8"
         },
         "xaxis": "x7",
         "y": {
          "bdata": "VSYsdD3b8T9WJix0Pdv1P1YmLHQ92/E/rExY6Hq24z9WmbDQ9WzXP6xMWOh6tuM/ViYsdD3b8T8=",
          "dtype": "f8"
         },
         "yaxis": "y7"
        },
        {
         "fill": "toself",
         "fillcolor": "rgb(191, 25, 39)",
         "hoverinfo": "text",
         "hoveron": "fills",
         "line": {
          "color": "black",
          "width": 0
         },
         "mode": "lines",
         "showlegend": false,
         "text": "[99, 100, 101]",
         "type": "scatter",
         "x": {
          "bdata": "y4SFrme7HUAAAAAAAAAcQDV7elGYRBpANXt6UZhEGkAAAAAAAAAcQMuEha5nux1Ay4SFrme7HUA=",
          "dtype": "f8"
         },
         "xaxis": "x7",
         "y": {
          "bdata": "q0xY6Hq2/z9WJix0PdsBQKxMWOh6tv8/rExY6Hq29z+rTFjoerbzP6xMWOh6tvc/q0xY6Hq2/z8=",
          "dtype": "f8"
         },
         "yaxis": "y7"
        },
        {
         "fill": "toself",
         "fillcolor": "rgb(186, 20, 38)",
         "hoverinfo": "text",
         "hoveron": "fills",
         "line": {
          "color": "black",
          "width": 0
         },
         "mode": "lines",
         "showlegend": false,
         "text": "[30, 35]",
         "type": "scatter",
         "x": {
          "bdata": "y4SFrme7G0AAAAAAAAAaQDV7elGYRBhANXt6UZhEGEAAAAAAAAAaQMuEha5nuxtAy4SFrme7G0A=",
          "dtype": "f8"
         },
         "xaxis": "x7",
         "y": {
          "bdata": "gDlCLtzIBkCAOUIu3MgIQIA5Qi7cyAZAgDlCLtzIAkCAOUIu3MgAQIA5Qi7cyAJAgDlCLtzIBkA=",
          "dtype": "f8"
         },
         "yaxis": "y7"
        },
        {
         "fill": "toself",
         "fillcolor": "rgb(212, 45, 39)",
         "hoverinfo": "text",
         "hoveron": "fills",
         "line": {
          "color": "black",
          "width": 0
         },
         "mode": "lines",
         "showlegend": false,
         "text": "[]",
         "type": "scatter",
         "x": {
          "bdata": "y4SFrme7HUAAAAAAAAAcQDV7elGYRBpANXt6UZhEGkAAAAAAAAAcQMuEha5nux1Ay4SFrme7HUA=",
          "dtype": "f8"
         },
         "xaxis": "x7",
         "y": {
          "bdata": "q0xY6Hq2DUCrTFjoerYPQKtMWOh6tg1Aq0xY6Hq2CUCrTFjoerYHQKtMWOh6tglAq0xY6Hq2DUA=",
          "dtype": "f8"
         },
         "yaxis": "y7"
        },
        {
         "fill": "toself",
         "fillcolor": "rgb(216, 49, 40)",
         "hoverinfo": "text",
         "hoveron": "fills",
         "line": {
          "color": "black",
          "width": 0
         },
         "mode": "lines",
         "showlegend": false,
         "text": "[66, 86, 91, 93]",
         "type": "scatter",
         "x": {
          "bdata": "y4SFrme7G0AAAAAAAAAaQDV7elGYRBhANXt6UZhEGEAAAAAAAAAaQMuEha5nuxtAy4SFrme7G0A=",
          "dtype": "f8"
         },
         "xaxis": "x7",
         "y": {
          "bdata": "6y830QxSEkDrLzfRDFITQOsvN9EMUhJA6y830QxSEEDWX26iGaQOQOsvN9EMUhBA6y830QxSEkA=",
          "dtype": "f8"
         },
         "yaxis": "y7"
        },
        {
         "fill": "toself",
         "fillcolor": "rgb(213, 46, 39)",
         "hoverinfo": "text",
         "hoveron": "fills",
         "line": {
          "color": "black",
          "width": 0
         },
         "mode": "lines",
         "showlegend": false,
         "text": "[70, 72, 73, 74, 76]",
         "type": "scatter",
         "x": {
          "bdata": "ZcJC17PdIEAAAAAAAAAgQDV7elGYRB5ANXt6UZhEHkAAAAAAAAAgQGXCQtez3SBAZcJC17PdIEA=",
          "dtype": "f8"
         },
         "xaxis": "x7",
         "y": {
          "bdata": "////////zz8AAAAAAADgPwMAAAAAANA/+///////z78AAAAAAADgv/r//////8+/AAAAAAAA0D8=",
          "dtype": "f8"
         },
         "yaxis": "y7"
        },
        {
         "fill": "toself",
         "fillcolor": "rgb(206, 39, 39)",
         "hoverinfo": "text",
         "hoveron": "fills",
         "line": {
          "color": "black",
          "width": 0
         },
         "mode": "lines",
         "showlegend": false,
         "text": "[75, 77]",
         "type": "scatter",
         "x": {
          "bdata": "y4SFrme7H0AAAAAAAAAeQDV7elGYRBxANXt6UZhEHEAAAAAAAAAeQMuEha5nux9Ay4SFrme7H0A=",
          "dtype": "f8"
         },
         "xaxis": "x7",
         "y": {
          "bdata": "VSYsdD3b8T9WJix0Pdv1P1YmLHQ92/E/rExY6Hq24z9WmbDQ9WzXP6xMWOh6tuM/ViYsdD3b8T8=",
          "dtype": "f8"
         },
         "yaxis": "y7"
        },
        {
         "fill": "toself",
         "fillcolor": "rgb(199, 32, 39)",
         "hoverinfo": "text",
         "hoveron": "fills",
         "line": {
          "color": "black",
          "width": 0
         },
         "mode": "lines",
         "showlegend": false,
         "text": "[]",
         "type": "scatter",
         "x": {
          "bdata": "ZcJC17PdIEAAAAAAAAAgQDV7elGYRB5ANXt6UZhEHkAAAAAAAAAgQGXCQtez3SBAZcJC17PdIEA=",
          "dtype": "f8"
         },
         "xaxis": "x7",
         "y": {
          "bdata": "q0xY6Hq2/z9WJix0PdsBQKxMWOh6tv8/rExY6Hq29z+rTFjoerbzP6xMWOh6tvc/q0xY6Hq2/z8=",
          "dtype": "f8"
         },
         "yaxis": "y7"
        },
        {
         "fill": "toself",
         "fillcolor": "rgb(201, 35, 39)",
         "hoverinfo": "text",
         "hoveron": "fills",
         "line": {
          "color": "black",
          "width": 0
         },
         "mode": "lines",
         "showlegend": false,
         "text": "[31, 39]",
         "type": "scatter",
         "x": {
          "bdata": "y4SFrme7H0AAAAAAAAAeQDV7elGYRBxANXt6UZhEHEAAAAAAAAAeQMuEha5nux9Ay4SFrme7H0A=",
          "dtype": "f8"
         },
         "xaxis": "x7",
         "y": {
          "bdata": "gDlCLtzIBkCAOUIu3MgIQIA5Qi7cyAZAgDlCLtzIAkCAOUIu3MgAQIA5Qi7cyAJAgDlCLtzIBkA=",
          "dtype": "f8"
         },
         "yaxis": "y7"
        },
        {
         "fill": "toself",
         "fillcolor": "rgb(218, 54, 42)",
         "hoverinfo": "text",
         "hoveron": "fills",
         "line": {
          "color": "black",
          "width": 0
         },
         "mode": "lines",
         "showlegend": false,
         "text": "[59, 60, 61, 62]",
         "type": "scatter",
         "x": {
          "bdata": "ZcJC17PdIEAAAAAAAAAgQDV7elGYRB5ANXt6UZhEHkAAAAAAAAAgQGXCQtez3SBAZcJC17PdIEA=",
          "dtype": "f8"
         },
         "xaxis": "x7",
         "y": {
          "bdata": "q0xY6Hq2DUCrTFjoerYPQKtMWOh6tg1Aq0xY6Hq2CUCrTFjoerYHQKtMWOh6tglAq0xY6Hq2DUA=",
          "dtype": "f8"
         },
         "yaxis": "y7"
        },
        {
         "fill": "toself",
         "fillcolor": "rgb(215, 48, 39)",
         "hoverinfo": "text",
         "hoveron": "fills",
         "line": {
          "color": "black",
          "width": 0
         },
         "mode": "lines",
         "showlegend": false,
         "text": "[10, 65]",
         "type": "scatter",
         "x": {
          "bdata": "y4SFrme7H0AAAAAAAAAeQDV7elGYRBxANXt6UZhEHEAAAAAAAAAeQMuEha5nux9Ay4SFrme7H0A=",
          "dtype": "f8"
         },
         "xaxis": "x7",
         "y": {
          "bdata": "6y830QxSEkDrLzfRDFITQOsvN9EMUhJA6y830QxSEEDWX26iGaQOQOsvN9EMUhBA6y830QxSEkA=",
          "dtype": "f8"
         },
         "yaxis": "y7"
        },
        {
         "marker": {
          "color": [
           0.016714351034667917,
           0.9569945843191419
          ],
          "colorbar": {
           "len": 0.1,
           "thickness": 20,
           "x": 0.38,
           "y": 0.30000000000000004
          },
          "colorscale": [
           [
            0,
            "rgb(165,0,38)"
           ],
           [
            0.1,
            "rgb(215,48,39)"
           ],
           [
            0.2,
            "rgb(244,109,67)"
           ],
           [
            0.3,
            "rgb(253,174,97)"
           ],
           [
            0.4,
            "rgb(254,224,144)"
           ],
           [
            0.5,
            "rgb(255,255,191)"
           ],
           [
            0.6,
            "rgb(224,243,248)"
           ],
           [
            0.7,
            "rgb(171,217,233)"
           ],
           [
            0.8,
            "rgb(116,173,209)"
           ],
           [
            0.9,
            "rgb(69,117,180)"
           ],
           [
            1,
            "rgb(49,54,149)"
           ]
          ],
          "size": 0.001
         },
         "showlegend": false,
         "type": "scatter",
         "x": [
          0,
          0
         ],
         "xaxis": "x7",
         "y": [
          0,
          0
         ],
         "yaxis": "y7"
        },
        {
         "fill": "toself",
         "fillcolor": "rgb(165, 0, 38)",
         "hoverinfo": "text",
         "hoveron": "fills",
         "line": {
          "color": "black",
          "width": 0
         },
         "mode": "lines",
         "showlegend": false,
         "text": "[5]",
         "type": "scatter",
         "x": {
          "bdata": "q0xY6Hq22z8HXBQzJqaBPKlMWOh6ttu/rExY6Hq2278Kip5MOXmavKxMWOh6tts/qkxY6Hq22z8=",
          "dtype": "f8"
         },
         "xaxis": "x8",
         "y": {
          "bdata": "////////zz8AAAAAAADgPwMAAAAAANA/+///////z78AAAAAAADgv/r//////8+/AAAAAAAA0D8=",
          "dtype": "f8"
         },
         "yaxis": "y8"
        },
        {
         "fill": "toself",
         "fillcolor": "rgb(176, 11, 38)",
         "hoverinfo": "text",
         "hoveron": "fills",
         "line": {
          "color": "black",
          "width": 0
         },
         "mode": "lines",
         "showlegend": false,
         "text": "[0, 4]",
         "type": "scatter",
         "x": {
          "bdata": "VM2eXhQmsb/////////fv1QmLHQ92+2/ViYsdD3b7b8BAAAAAADgv1DNnl4UJrG/WM2eXhQmsb8=",
          "dtype": "f8"
         },
         "xaxis": "x8",
         "y": {
          "bdata": "VSYsdD3b8T9WJix0Pdv1P1YmLHQ92/E/rExY6Hq24z9WmbDQ9WzXP6xMWOh6tuM/ViYsdD3b8T8=",
          "dtype": "f8"
         },
         "yaxis": "y8"
        },
        {
         "fill": "toself",
         "fillcolor": "rgb(218, 55, 42)",
         "hoverinfo": "text",
         "hoveron": "fills",
         "line": {
          "color": "black",
          "width": 0
         },
         "mode": "lines",
         "showlegend": false,
         "text": "[21, 22]",
         "type": "scatter",
         "x": {
          "bdata": "q0xY6Hq22z8HXBQzJqaBPKlMWOh6ttu/rExY6Hq2278Kip5MOXmavKxMWOh6tts/qkxY6Hq22z8=",
          "dtype": "f8"
         },
         "xaxis": "x8",
         "y": {
          "bdata": "q0xY6Hq2/z9WJix0PdsBQKxMWOh6tv8/rExY6Hq29z+rTFjoerbzP6xMWOh6tvc/q0xY6Hq2/z8=",
          "dtype": "f8"
         },
         "yaxis": "y8"
        },
        {
         "fill": "toself",
         "fillcolor": "rgb(229, 78, 53)",
         "hoverinfo": "text",
         "hoveron": "fills",
         "line": {
          "color": "black",
          "width": 0
         },
         "mode": "lines",
         "showlegend": false,
         "text": "[83, 85, 87, 89]",
         "type": "scatter",
         "x": {
          "bdata": "VM2eXhQmsb/////////fv1QmLHQ92+2/ViYsdD3b7b8BAAAAAADgv1DNnl4UJrG/WM2eXhQmsb8=",
          "dtype": "f8"
         },
         "xaxis": "x8",
         "y": {
          "bdata": "gDlCLtzIBkCAOUIu3MgIQIA5Qi7cyAZAgDlCLtzIAkCAOUIu3MgAQIA5Qi7cyAJAgDlCLtzIBkA=",
          "dtype": "f8"
         },
         "yaxis": "y8"
        },
        {
         "fill": "toself",
         "fillcolor": "rgb(254, 207, 128)",
         "hoverinfo": "text",
         "hoveron": "fills",
         "line": {
          "color": "black",
          "width": 0
         },
         "mode": "lines",
         "showlegend": false,
         "text": "[]",
         "type": "scatter",
         "x": {
          "bdata": "q0xY6Hq22z8HXBQzJqaBPKlMWOh6ttu/rExY6Hq2278Kip5MOXmavKxMWOh6tts/qkxY6Hq22z8=",
          "dtype": "f8"
         },
         "xaxis": "x8",
         "y": {
          "bdata": "q0xY6Hq2DUCrTFjoerYPQKtMWOh6tg1Aq0xY6Hq2CUCrTFjoerYHQKtMWOh6tglAq0xY6Hq2DUA=",
          "dtype": "f8"
         },
         "yaxis": "y8"
        },
        {
         "fill": "toself",
         "fillcolor": "rgb(205, 234, 243)",
         "hoverinfo": "text",
         "hoveron": "fills",
         "line": {
          "color": "black",
          "width": 0
         },
         "mode": "lines",
         "showlegend": false,
         "text": "[40, 43, 46, 92]",
         "type": "scatter",
         "x": {
          "bdata": "VM2eXhQmsb/////////fv1QmLHQ92+2/ViYsdD3b7b8BAAAAAADgv1DNnl4UJrG/WM2eXhQmsb8=",
          "dtype": "f8"
         },
         "xaxis": "x8",
         "y": {
          "bdata": "6y830QxSEkDrLzfRDFITQOsvN9EMUhJA6y830QxSEEDWX26iGaQOQOsvN9EMUhBA6y830QxSEkA=",
          "dtype": "f8"
         },
         "yaxis": "y8"
        },
        {
         "fill": "toself",
         "fillcolor": "rgb(166, 1, 38)",
         "hoverinfo": "text",
         "hoveron": "fills",
         "line": {
          "color": "black",
          "width": 0
         },
         "mode": "lines",
         "showlegend": false,
         "text": "[2, 3, 6]",
         "type": "scatter",
         "x": {
          "bdata": "KxMWup7t9j8AAAAAAADwP6zZ04vCJOI/qtnTi8Ik4j/////////vPysTFrqe7fY/KhMWup7t9j8=",
          "dtype": "f8"
         },
         "xaxis": "x8",
         "y": {
          "bdata": "////////zz8AAAAAAADgPwMAAAAAANA/+///////z78AAAAAAADgv/r//////8+/AAAAAAAA0D8=",
          "dtype": "f8"
         },
         "yaxis": "y8"
        },
        {
         "fill": "toself",
         "fillcolor": "rgb(181, 16, 38)",
         "hoverinfo": "text",
         "hoveron": "fills",
         "line": {
          "color": "black",
          "width": 0
         },
         "mode": "lines",
         "showlegend": false,
         "text": "[9, 50]",
         "type": "scatter",
         "x": {
          "bdata": "ViYsdD3b7T8AAAAAAADgP1zNnl4UJrE/UM2eXhQmsT/+///////fP1YmLHQ92+0/VSYsdD3b7T8=",
          "dtype": "f8"
         },
         "xaxis": "x8",
         "y": {
          "bdata": "VSYsdD3b8T9WJix0Pdv1P1YmLHQ92/E/rExY6Hq24z9WmbDQ9WzXP6xMWOh6tuM/ViYsdD3b8T8=",
          "dtype": "f8"
         },
         "yaxis": "y8"
        },
        {
         "fill": "toself",
         "fillcolor": "rgb(214, 47, 39)",
         "hoverinfo": "text",
         "hoveron": "fills",
         "line": {
          "color": "black",
          "width": 0
         },
         "mode": "lines",
         "showlegend": false,
         "text": "[24, 25, 26]",
         "type": "scatter",
         "x": {
          "bdata": "KxMWup7t9j8AAAAAAADwP6zZ04vCJOI/qtnTi8Ik4j/////////vPysTFrqe7fY/KhMWup7t9j8=",
          "dtype": "f8"
         },
         "xaxis": "x8",
         "y": {
          "bdata": "q0xY6Hq2/z9WJix0PdsBQKxMWOh6tv8/rExY6Hq29z+rTFjoerbzP6xMWOh6tvc/q0xY6Hq2/z8=",
          "dtype": "f8"
         },
         "yaxis": "y8"
        },
        {
         "fill": "toself",
         "fillcolor": "rgb(234, 88, 58)",
         "hoverinfo": "text",
         "hoveron": "fills",
         "line": {
          "color": "black",
          "width": 0
         },
         "mode": "lines",
         "showlegend": false,
         "text": "[53, 79, 82, 84]",
         "type": "scatter",
         "x": {
          "bdata": "ViYsdD3b7T8AAAAAAADgP1zNnl4UJrE/UM2eXhQmsT/+///////fP1YmLHQ92+0/VSYsdD3b7T8=",
          "dtype": "f8"
         },
         "xaxis": "x8",
         "y": {
          "bdata": "gDlCLtzIBkCAOUIu3MgIQIA5Qi7cyAZAgDlCLtzIAkCAOUIu3MgAQIA5Qi7cyAJAgDlCLtzIBkA=",
          "dtype": "f8"
         },
         "yaxis": "y8"
        },
        {
         "fill": "toself",
         "fillcolor": "rgb(254, 207, 128)",
         "hoverinfo": "text",
         "hoveron": "fills",
         "line": {
          "color": "black",
          "width": 0
         },
         "mode": "lines",
         "showlegend": false,
         "text": "[]",
         "type": "scatter",
         "x": {
          "bdata": "KxMWup7t9j8AAAAAAADwP6zZ04vCJOI/qtnTi8Ik4j/////////vPysTFrqe7fY/KhMWup7t9j8=",
          "dtype": "f8"
         },
         "xaxis": "x8",
         "y": {
          "bdata": "q0xY6Hq2DUCrTFjoerYPQKtMWOh6tg1Aq0xY6Hq2CUCrTFjoerYHQKtMWOh6tglAq0xY6Hq2DUA=",
          "dtype": "f8"
         },
         "yaxis": "y8"
        },
        {
         "fill": "toself",
         "fillcolor": "rgb(197, 230, 240)",
         "hoverinfo": "text",
         "hoveron": "fills",
         "line": {
          "color": "black",
          "width": 0
         },
         "mode": "lines",
         "showlegend": false,
         "text": "[42, 44, 45]",
         "type": "scatter",
         "x": {
          "bdata": "ViYsdD3b7T8AAAAAAADgP1zNnl4UJrE/UM2eXhQmsT/+///////fP1YmLHQ92+0/VSYsdD3b7T8=",
          "dtype": "f8"
         },
         "xaxis": "x8",
         "y": {
          "bdata": "6y830QxSEkDrLzfRDFITQOsvN9EMUhJA6y830QxSEEDWX26iGaQOQOsvN9EMUhBA6y830QxSEkA=",
          "dtype": "f8"
         },
         "yaxis": "y8"
        },
        {
         "fill": "toself",
         "fillcolor": "rgb(176, 11, 38)",
         "hoverinfo": "text",
         "hoveron": "fills",
         "line": {
          "color": "black",
          "width": 0
         },
         "mode": "lines",
         "showlegend": false,
         "text": "[]",
         "type": "scatter",
         "x": {
          "bdata": "lQkLXc92A0AAAAAAAAAAQNbs6UVhEvk/1ezpRWES+T8AAAAAAAAAQJYJC13PdgNAlQkLXc92A0A=",
          "dtype": "f8"
         },
         "xaxis": "x8",
         "y": {
          "bdata": "////////zz8AAAAAAADgPwMAAAAAANA/+///////z78AAAAAAADgv/r//////8+/AAAAAAAA0D8=",
          "dtype": "f8"
         },
         "yaxis": "y8"
        },
        {
         "fill": "toself",
         "fillcolor": "rgb(181, 15, 38)",
         "hoverinfo": "text",
         "hoveron": "fills",
         "line": {
          "color": "black",
          "width": 0
         },
         "mode": "lines",
         "showlegend": false,
         "text": "[1, 7, 8, 52]",
         "type": "scatter",
         "x": {
          "bdata": "KxMWup7t/j8AAAAAAAD4P9bs6UVhEvE/1ezpRWES8T8AAAAAAAD4PysTFrqe7f4/KhMWup7t/j8=",
          "dtype": "f8"
         },
         "xaxis": "x8",
         "y": {
          "bdata": "VSYsdD3b8T9WJix0Pdv1P1YmLHQ92/E/rExY6Hq24z9WmbDQ9WzXP6xMWOh6tuM/ViYsdD3b8T8=",
          "dtype": "f8"
         },
         "yaxis": "y8"
        },
        {
         "fill": "toself",
         "fillcolor": "rgb(216, 50, 40)",
         "hoverinfo": "text",
         "hoveron": "fills",
         "line": {
          "color": "black",
          "width": 0
         },
         "mode": "lines",
         "showlegend": false,
         "text": "[57, 81]",
         "type": "scatter",
         "x": {
          "bdata": "lQkLXc92A0AAAAAAAAAAQNbs6UVhEvk/1ezpRWES+T8AAAAAAAAAQJYJC13PdgNAlQkLXc92A0A=",
          "dtype": "f8"
         },
         "xaxis": "x8",
         "y": {
          "bdata": "q0xY6Hq2/z9WJix0PdsBQKxMWOh6tv8/rExY6Hq29z+rTFjoerbzP6xMWOh6tvc/q0xY6Hq2/z8=",
          "dtype": "f8"
         },
         "yaxis": "y8"
        },
        {
         "fill": "toself",
         "fillcolor": "rgb(228, 76, 52)",
         "hoverinfo": "text",
         "hoveron": "fills",
         "line": {
          "color": "black",
          "width": 0
         },
         "mode": "lines",
         "showlegend": false,
         "text": "[80, 88]",
         "type": "scatter",
         "x": {
          "bdata": "KxMWup7t/j8AAAAAAAD4P9bs6UVhEvE/1ezpRWES8T8AAAAAAAD4PysTFrqe7f4/KhMWup7t/j8=",
          "dtype": "f8"
         },
         "xaxis": "x8",
         "y": {
          "bdata": "gDlCLtzIBkCAOUIu3MgIQIA5Qi7cyAZAgDlCLtzIAkCAOUIu3MgAQIA5Qi7cyAJAgDlCLtzIBkA=",
          "dtype": "f8"
         },
         "yaxis": "y8"
        },
        {
         "fill": "toself",
         "fillcolor": "rgb(255, 248, 180)",
         "hoverinfo": "text",
         "hoveron": "fills",
         "line": {
          "color": "black",
          "width": 0
         },
         "mode": "lines",
         "showlegend": false,
         "text": "[]",
         "type": "scatter",
         "x": {
          "bdata": "lQkLXc92A0AAAAAAAAAAQNbs6UVhEvk/1ezpRWES+T8AAAAAAAAAQJYJC13PdgNAlQkLXc92A0A=",
          "dtype": "f8"
         },
         "xaxis": "x8",
         "y": {
          "bdata": "q0xY6Hq2DUCrTFjoerYPQKtMWOh6tg1Aq0xY6Hq2CUCrTFjoerYHQKtMWOh6tglAq0xY6Hq2DUA=",
          "dtype": "f8"
         },
         "yaxis": "y8"
        },
        {
         "fill": "toself",
         "fillcolor": "rgb(144, 195, 221)",
         "hoverinfo": "text",
         "hoveron": "fills",
         "line": {
          "color": "black",
          "width": 0
         },
         "mode": "lines",
         "showlegend": false,
         "text": "[]",
         "type": "scatter",
         "x": {
          "bdata": "KxMWup7t/j8AAAAAAAD4P9bs6UVhEvE/1ezpRWES8T8AAAAAAAD4PysTFrqe7f4/KhMWup7t/j8=",
          "dtype": "f8"
         },
         "xaxis": "x8",
         "y": {
          "bdata": "6y830QxSEkDrLzfRDFITQOsvN9EMUhJA6y830QxSEEDWX26iGaQOQOsvN9EMUhBA6y830QxSEkA=",
          "dtype": "f8"
         },
         "yaxis": "y8"
        },
        {
         "fill": "toself",
         "fillcolor": "rgb(189, 23, 38)",
         "hoverinfo": "text",
         "hoveron": "fills",
         "line": {
          "color": "black",
          "width": 0
         },
         "mode": "lines",
         "showlegend": false,
         "text": "[47, 48, 49, 51]",
         "type": "scatter",
         "x": {
          "bdata": "lQkLXc92C0AAAAAAAAAIQGv29KIwiQRAavb0ojCJBEAAAAAAAAAIQJYJC13PdgtAlQkLXc92C0A=",
          "dtype": "f8"
         },
         "xaxis": "x8",
         "y": {
          "bdata": "////////zz8AAAAAAADgPwMAAAAAANA/+///////z78AAAAAAADgv/r//////8+/AAAAAAAA0D8=",
          "dtype": "f8"
         },
         "yaxis": "y8"
        },
        {
         "fill": "toself",
         "fillcolor": "rgb(201, 35, 39)",
         "hoverinfo": "text",
         "hoveron": "fills",
         "line": {
          "color": "black",
          "width": 0
         },
         "mode": "lines",
         "showlegend": false,
         "text": "[41]",
         "type": "scatter",
         "x": {
          "bdata": "lQkLXc92B0AAAAAAAAAEQGv29KIwiQBAavb0ojCJAEAAAAAAAAAEQJYJC13PdgdAlQkLXc92B0A=",
          "dtype": "f8"
         },
         "xaxis": "x8",
         "y": {
          "bdata": "VSYsdD3b8T9WJix0Pdv1P1YmLHQ92/E/rExY6Hq24z9WmbDQ9WzXP6xMWOh6tuM/ViYsdD3b8T8=",
          "dtype": "f8"
         },
         "yaxis": "y8"
        },
        {
         "fill": "toself",
         "fillcolor": "rgb(239, 99, 62)",
         "hoverinfo": "text",
         "hoveron": "fills",
         "line": {
          "color": "black",
          "width": 0
         },
         "mode": "lines",
         "showlegend": false,
         "text": "[]",
         "type": "scatter",
         "x": {
          "bdata": "lQkLXc92C0AAAAAAAAAIQGv29KIwiQRAavb0ojCJBEAAAAAAAAAIQJYJC13PdgtAlQkLXc92C0A=",
          "dtype": "f8"
         },
         "xaxis": "x8",
         "y": {
          "bdata": "q0xY6Hq2/z9WJix0PdsBQKxMWOh6tv8/rExY6Hq29z+rTFjoerbzP6xMWOh6tvc/q0xY6Hq2/z8=",
          "dtype": "f8"
         },
         "yaxis": "y8"
        },
        {
         "fill": "toself",
         "fillcolor": "rgb(246, 126, 75)",
         "hoverinfo": "text",
         "hoveron": "fills",
         "line": {
          "color": "black",
          "width": 0
         },
         "mode": "lines",
         "showlegend": false,
         "text": "[63]",
         "type": "scatter",
         "x": {
          "bdata": "lQkLXc92B0AAAAAAAAAEQGv29KIwiQBAavb0ojCJAEAAAAAAAAAEQJYJC13PdgdAlQkLXc92B0A=",
          "dtype": "f8"
         },
         "xaxis": "x8",
         "y": {
          "bdata": "gDlCLtzIBkCAOUIu3MgIQIA5Qi7cyAZAgDlCLtzIAkCAOUIu3MgAQIA5Qi7cyAJAgDlCLtzIBkA=",
          "dtype": "f8"
         },
         "yaxis": "y8"
        },
        {
         "fill": "toself",
         "fillcolor": "rgb(244, 251, 210)",
         "hoverinfo": "text",
         "hoveron": "fills",
         "line": {
          "color": "black",
          "width": 0
         },
         "mode": "lines",
         "showlegend": false,
         "text": "[]",
         "type": "scatter",
         "x": {
          "bdata": "lQkLXc92C0AAAAAAAAAIQGv29KIwiQRAavb0ojCJBEAAAAAAAAAIQJYJC13PdgtAlQkLXc92C0A=",
          "dtype": "f8"
         },
         "xaxis": "x8",
         "y": {
          "bdata": "q0xY6Hq2DUCrTFjoerYPQKtMWOh6tg1Aq0xY6Hq2CUCrTFjoerYHQKtMWOh6tglAq0xY6Hq2DUA=",
          "dtype": "f8"
         },
         "yaxis": "y8"
        },
        {
         "fill": "toself",
         "fillcolor": "rgb(49, 54, 149)",
         "hoverinfo": "text",
         "hoveron": "fills",
         "line": {
          "color": "black",
          "width": 0
         },
         "mode": "lines",
         "showlegend": false,
         "text": "[37, 38]",
         "type": "scatter",
         "x": {
          "bdata": "lQkLXc92B0AAAAAAAAAEQGv29KIwiQBAavb0ojCJAEAAAAAAAAAEQJYJC13PdgdAlQkLXc92B0A=",
          "dtype": "f8"
         },
         "xaxis": "x8",
         "y": {
          "bdata": "6y830QxSEkDrLzfRDFITQOsvN9EMUhJA6y830QxSEEDWX26iGaQOQOsvN9EMUhBA6y830QxSEkA=",
          "dtype": "f8"
         },
         "yaxis": "y8"
        },
        {
         "fill": "toself",
         "fillcolor": "rgb(205, 38, 39)",
         "hoverinfo": "text",
         "hoveron": "fills",
         "line": {
          "color": "black",
          "width": 0
         },
         "mode": "lines",
         "showlegend": false,
         "text": "[55]",
         "type": "scatter",
         "x": {
          "bdata": "y4SFrme7EUAAAAAAAAAQQGv29KIwiQxAavb0ojCJDEAAAAAAAAAQQMuEha5nuxFAy4SFrme7EUA=",
          "dtype": "f8"
         },
         "xaxis": "x8",
         "y": {
          "bdata": "////////zz8AAAAAAADgPwMAAAAAANA/+///////z78AAAAAAADgv/r//////8+/AAAAAAAA0D8=",
          "dtype": "f8"
         },
         "yaxis": "y8"
        },
        {
         "fill": "toself",
         "fillcolor": "rgb(223, 65, 47)",
         "hoverinfo": "text",
         "hoveron": "fills",
         "line": {
          "color": "black",
          "width": 0
         },
         "mode": "lines",
         "showlegend": false,
         "text": "[15, 16, 17, 18, 19, 20]",
         "type": "scatter",
         "x": {
          "bdata": "lQkLXc92D0AAAAAAAAAMQGv29KIwiQhAavb0ojCJCEAAAAAAAAAMQJYJC13Pdg9AlQkLXc92D0A=",
          "dtype": "f8"
         },
         "xaxis": "x8",
         "y": {
          "bdata": "VSYsdD3b8T9WJix0Pdv1P1YmLHQ92/E/rExY6Hq24z9WmbDQ9WzXP6xMWOh6tuM/ViYsdD3b8T8=",
          "dtype": "f8"
         },
         "yaxis": "y8"
        },
        {
         "fill": "toself",
         "fillcolor": "rgb(244, 109, 67)",
         "hoverinfo": "text",
         "hoveron": "fills",
         "line": {
          "color": "black",
          "width": 0
         },
         "mode": "lines",
         "showlegend": false,
         "text": "[23, 78, 90]",
         "type": "scatter",
         "x": {
          "bdata": "y4SFrme7EUAAAAAAAAAQQGv29KIwiQxAavb0ojCJDEAAAAAAAAAQQMuEha5nuxFAy4SFrme7EUA=",
          "dtype": "f8"
         },
         "xaxis": "x8",
         "y": {
          "bdata": "q0xY6Hq2/z9WJix0PdsBQKxMWOh6tv8/rExY6Hq29z+rTFjoerbzP6xMWOh6tvc/q0xY6Hq2/z8=",
          "dtype": "f8"
         },
         "yaxis": "y8"
        },
        {
         "fill": "toself",
         "fillcolor": "rgb(253, 183, 106)",
         "hoverinfo": "text",
         "hoveron": "fills",
         "line": {
          "color": "black",
          "width": 0
         },
         "mode": "lines",
         "showlegend": false,
         "text": "[27, 29, 36]",
         "type": "scatter",
         "x": {
          "bdata": "lQkLXc92D0AAAAAAAAAMQGv29KIwiQhAavb0ojCJCEAAAAAAAAAMQJYJC13Pdg9AlQkLXc92D0A=",
          "dtype": "f8"
         },
         "xaxis": "x8",
         "y": {
          "bdata": "gDlCLtzIBkCAOUIu3MgIQIA5Qi7cyAZAgDlCLtzIAkCAOUIu3MgAQIA5Qi7cyAJAgDlCLtzIBkA=",
          "dtype": "f8"
         },
         "yaxis": "y8"
        },
        {
         "fill": "toself",
         "fillcolor": "rgb(254, 218, 138)",
         "hoverinfo": "text",
         "hoveron": "fills",
         "line": {
          "color": "black",
          "width": 0
         },
         "mode": "lines",
         "showlegend": false,
         "text": "[64]",
         "type": "scatter",
         "x": {
          "bdata": "y4SFrme7EUAAAAAAAAAQQGv29KIwiQxAavb0ojCJDEAAAAAAAAAQQMuEha5nuxFAy4SFrme7EUA=",
          "dtype": "f8"
         },
         "xaxis": "x8",
         "y": {
          "bdata": "q0xY6Hq2DUCrTFjoerYPQKtMWOh6tg1Aq0xY6Hq2CUCrTFjoerYHQKtMWOh6tglAq0xY6Hq2DUA=",
          "dtype": "f8"
         },
         "yaxis": "y8"
        },
        {
         "fill": "toself",
         "fillcolor": "rgb(196, 229, 240)",
         "hoverinfo": "text",
         "hoveron": "fills",
         "line": {
          "color": "black",
          "width": 0
         },
         "mode": "lines",
         "showlegend": false,
         "text": "[]",
         "type": "scatter",
         "x": {
          "bdata": "lQkLXc92D0AAAAAAAAAMQGv29KIwiQhAavb0ojCJCEAAAAAAAAAMQJYJC13Pdg9AlQkLXc92D0A=",
          "dtype": "f8"
         },
         "xaxis": "x8",
         "y": {
          "bdata": "6y830QxSEkDrLzfRDFITQOsvN9EMUhJA6y830QxSEEDWX26iGaQOQOsvN9EMUhBA6y830QxSEkA=",
          "dtype": "f8"
         },
         "yaxis": "y8"
        },
        {
         "fill": "toself",
         "fillcolor": "rgb(186, 20, 38)",
         "hoverinfo": "text",
         "hoveron": "fills",
         "line": {
          "color": "black",
          "width": 0
         },
         "mode": "lines",
         "showlegend": false,
         "text": "[95, 97]",
         "type": "scatter",
         "x": {
          "bdata": "y4SFrme7FUAAAAAAAAAUQDV7elGYRBJANXt6UZhEEkAAAAAAAAAUQMuEha5nuxVAy4SFrme7FUA=",
          "dtype": "f8"
         },
         "xaxis": "x8",
         "y": {
          "bdata": "////////zz8AAAAAAADgPwMAAAAAANA/+///////z78AAAAAAADgv/r//////8+/AAAAAAAA0D8=",
          "dtype": "f8"
         },
         "yaxis": "y8"
        },
        {
         "fill": "toself",
         "fillcolor": "rgb(228, 76, 52)",
         "hoverinfo": "text",
         "hoveron": "fills",
         "line": {
          "color": "black",
          "width": 0
         },
         "mode": "lines",
         "showlegend": false,
         "text": "[94]",
         "type": "scatter",
         "x": {
          "bdata": "y4SFrme7E0AAAAAAAAASQDV7elGYRBBANXt6UZhEEEAAAAAAAAASQMuEha5nuxNAy4SFrme7E0A=",
          "dtype": "f8"
         },
         "xaxis": "x8",
         "y": {
          "bdata": "VSYsdD3b8T9WJix0Pdv1P1YmLHQ92/E/rExY6Hq24z9WmbDQ9WzXP6xMWOh6tuM/ViYsdD3b8T8=",
          "dtype": "f8"
         },
         "yaxis": "y8"
        },
        {
         "fill": "toself",
         "fillcolor": "rgb(246, 120, 72)",
         "hoverinfo": "text",
         "hoveron": "fills",
         "line": {
          "color": "black",
          "width": 0
         },
         "mode": "lines",
         "showlegend": false,
         "text": "[33, 34]",
         "type": "scatter",
         "x": {
          "bdata": "y4SFrme7FUAAAAAAAAAUQDV7elGYRBJANXt6UZhEEkAAAAAAAAAUQMuEha5nuxVAy4SFrme7FUA=",
          "dtype": "f8"
         },
         "xaxis": "x8",
         "y": {
          "bdata": "q0xY6Hq2/z9WJix0PdsBQKxMWOh6tv8/rExY6Hq29z+rTFjoerbzP6xMWOh6tvc/q0xY6Hq2/z8=",
          "dtype": "f8"
         },
         "yaxis": "y8"
        },
        {
         "fill": "toself",
         "fillcolor": "rgb(253, 171, 96)",
         "hoverinfo": "text",
         "hoveron": "fills",
         "line": {
          "color": "black",
          "width": 0
         },
         "mode": "lines",
         "showlegend": false,
         "text": "[28]",
         "type": "scatter",
         "x": {
          "bdata": "y4SFrme7E0AAAAAAAAASQDV7elGYRBBANXt6UZhEEEAAAAAAAAASQMuEha5nuxNAy4SFrme7E0A=",
          "dtype": "f8"
         },
         "xaxis": "x8",
         "y": {
          "bdata": "gDlCLtzIBkCAOUIu3MgIQIA5Qi7cyAZAgDlCLtzIAkCAOUIu3MgAQIA5Qi7cyAJAgDlCLtzIBkA=",
          "dtype": "f8"
         },
         "yaxis": "y8"
        },
        {
         "fill": "toself",
         "fillcolor": "rgb(250, 149, 86)",
         "hoverinfo": "text",
         "hoveron": "fills",
         "line": {
          "color": "black",
          "width": 0
         },
         "mode": "lines",
         "showlegend": false,
         "text": "[]",
         "type": "scatter",
         "x": {
          "bdata": "y4SFrme7FUAAAAAAAAAUQDV7elGYRBJANXt6UZhEEkAAAAAAAAAUQMuEha5nuxVAy4SFrme7FUA=",
          "dtype": "f8"
         },
         "xaxis": "x8",
         "y": {
          "bdata": "q0xY6Hq2DUCrTFjoerYPQKtMWOh6tg1Aq0xY6Hq2CUCrTFjoerYHQKtMWOh6tglAq0xY6Hq2DUA=",
          "dtype": "f8"
         },
         "yaxis": "y8"
        },
        {
         "fill": "toself",
         "fillcolor": "rgb(250, 153, 87)",
         "hoverinfo": "text",
         "hoveron": "fills",
         "line": {
          "color": "black",
          "width": 0
         },
         "mode": "lines",
         "showlegend": false,
         "text": "[]",
         "type": "scatter",
         "x": {
          "bdata": "y4SFrme7E0AAAAAAAAASQDV7elGYRBBANXt6UZhEEEAAAAAAAAASQMuEha5nuxNAy4SFrme7E0A=",
          "dtype": "f8"
         },
         "xaxis": "x8",
         "y": {
          "bdata": "6y830QxSEkDrLzfRDFITQOsvN9EMUhJA6y830QxSEEDWX26iGaQOQOsvN9EMUhBA6y830QxSEkA=",
          "dtype": "f8"
         },
         "yaxis": "y8"
        },
        {
         "fill": "toself",
         "fillcolor": "rgb(229, 78, 53)",
         "hoverinfo": "text",
         "hoveron": "fills",
         "line": {
          "color": "black",
          "width": 0
         },
         "mode": "lines",
         "showlegend": false,
         "text": "[54]",
         "type": "scatter",
         "x": {
          "bdata": "y4SFrme7GUAAAAAAAAAYQDV7elGYRBZANXt6UZhEFkAAAAAAAAAYQMuEha5nuxlAy4SFrme7GUA=",
          "dtype": "f8"
         },
         "xaxis": "x8",
         "y": {
          "bdata": "////////zz8AAAAAAADgPwMAAAAAANA/+///////z78AAAAAAADgv/r//////8+/AAAAAAAA0D8=",
          "dtype": "f8"
         },
         "yaxis": "y8"
        },
        {
         "fill": "toself",
         "fillcolor": "rgb(235, 89, 58)",
         "hoverinfo": "text",
         "hoveron": "fills",
         "line": {
          "color": "black",
          "width": 0
         },
         "mode": "lines",
         "showlegend": false,
         "text": "[96]",
         "type": "scatter",
         "x": {
          "bdata": "y4SFrme7F0AAAAAAAAAWQDV7elGYRBRANXt6UZhEFEAAAAAAAAAWQMuEha5nuxdAy4SFrme7F0A=",
          "dtype": "f8"
         },
         "xaxis": "x8",
         "y": {
          "bdata": "VSYsdD3b8T9WJix0Pdv1P1YmLHQ92/E/rExY6Hq24z9WmbDQ9WzXP6xMWOh6tuM/ViYsdD3b8T8=",
          "dtype": "f8"
         },
         "yaxis": "y8"
        },
        {
         "fill": "toself",
         "fillcolor": "rgb(248, 138, 80)",
         "hoverinfo": "text",
         "hoveron": "fills",
         "line": {
          "color": "black",
          "width": 0
         },
         "mode": "lines",
         "showlegend": false,
         "text": "[32, 56]",
         "type": "scatter",
         "x": {
          "bdata": "y4SFrme7GUAAAAAAAAAYQDV7elGYRBZANXt6UZhEFkAAAAAAAAAYQMuEha5nuxlAy4SFrme7GUA=",
          "dtype": "f8"
         },
         "xaxis": "x8",
         "y": {
          "bdata": "q0xY6Hq2/z9WJix0PdsBQKxMWOh6tv8/rExY6Hq29z+rTFjoerbzP6xMWOh6tvc/q0xY6Hq2/z8=",
          "dtype": "f8"
         },
         "yaxis": "y8"
        },
        {
         "fill": "toself",
         "fillcolor": "rgb(248, 135, 79)",
         "hoverinfo": "text",
         "hoveron": "fills",
         "line": {
          "color": "black",
          "width": 0
         },
         "mode": "lines",
         "showlegend": false,
         "text": "[58]",
         "type": "scatter",
         "x": {
          "bdata": "y4SFrme7F0AAAAAAAAAWQDV7elGYRBRANXt6UZhEFEAAAAAAAAAWQMuEha5nuxdAy4SFrme7F0A=",
          "dtype": "f8"
         },
         "xaxis": "x8",
         "y": {
          "bdata": "gDlCLtzIBkCAOUIu3MgIQIA5Qi7cyAZAgDlCLtzIAkCAOUIu3MgAQIA5Qi7cyAJAgDlCLtzIBkA=",
          "dtype": "f8"
         },
         "yaxis": "y8"
        },
        {
         "fill": "toself",
         "fillcolor": "rgb(244, 110, 68)",
         "hoverinfo": "text",
         "hoveron": "fills",
         "line": {
          "color": "black",
          "width": 0
         },
         "mode": "lines",
         "showlegend": false,
         "text": "[13]",
         "type": "scatter",
         "x": {
          "bdata": "y4SFrme7GUAAAAAAAAAYQDV7elGYRBZANXt6UZhEFkAAAAAAAAAYQMuEha5nuxlAy4SFrme7GUA=",
          "dtype": "f8"
         },
         "xaxis": "x8",
         "y": {
          "bdata": "q0xY6Hq2DUCrTFjoerYPQKtMWOh6tg1Aq0xY6Hq2CUCrTFjoerYHQKtMWOh6tglAq0xY6Hq2DUA=",
          "dtype": "f8"
         },
         "yaxis": "y8"
        },
        {
         "fill": "toself",
         "fillcolor": "rgb(244, 111, 68)",
         "hoverinfo": "text",
         "hoveron": "fills",
         "line": {
          "color": "black",
          "width": 0
         },
         "mode": "lines",
         "showlegend": false,
         "text": "[11, 12, 14, 67, 68, 69]",
         "type": "scatter",
         "x": {
          "bdata": "y4SFrme7F0AAAAAAAAAWQDV7elGYRBRANXt6UZhEFEAAAAAAAAAWQMuEha5nuxdAy4SFrme7F0A=",
          "dtype": "f8"
         },
         "xaxis": "x8",
         "y": {
          "bdata": "6y830QxSEkDrLzfRDFITQOsvN9EMUhJA6y830QxSEEDWX26iGaQOQOsvN9EMUhBA6y830QxSEkA=",
          "dtype": "f8"
         },
         "yaxis": "y8"
        },
        {
         "fill": "toself",
         "fillcolor": "rgb(254, 234, 159)",
         "hoverinfo": "text",
         "hoveron": "fills",
         "line": {
          "color": "black",
          "width": 0
         },
         "mode": "lines",
         "showlegend": false,
         "text": "[71]",
         "type": "scatter",
         "x": {
          "bdata": "y4SFrme7HUAAAAAAAAAcQDV7elGYRBpANXt6UZhEGkAAAAAAAAAcQMuEha5nux1Ay4SFrme7HUA=",
          "dtype": "f8"
         },
         "xaxis": "x8",
         "y": {
          "bdata": "////////zz8AAAAAAADgPwMAAAAAANA/+///////z78AAAAAAADgv/r//////8+/AAAAAAAA0D8=",
          "dtype": "f8"
         },
         "yaxis": "y8"
        },
        {
         "fill": "toself",
         "fillcolor": "rgb(253, 184, 106)",
         "hoverinfo": "text",
         "hoveron": "fills",
         "line": {
          "color": "black",
          "width": 0
         },
         "mode": "lines",
         "showlegend": false,
         "text": "[98]",
         "type": "scatter",
         "x": {
          "bdata": "y4SFrme7G0AAAAAAAAAaQDV7elGYRBhANXt6UZhEGEAAAAAAAAAaQMuEha5nuxtAy4SFrme7G0A=",
          "dtype": "f8"
         },
         "xaxis": "x8",
         "y": {
          "bdata": "VSYsdD3b8T9WJix0Pdv1P1YmLHQ92/E/rExY6Hq24z9WmbDQ9WzXP6xMWOh6tuM/ViYsdD3b8T8=",
          "dtype": "f8"
         },
         "yaxis": "y8"
        },
        {
         "fill": "toself",
         "fillcolor": "rgb(253, 191, 113)",
         "hoverinfo": "text",
         "hoveron": "fills",
         "line": {
          "color": "black",
          "width": 0
         },
         "mode": "lines",
         "showlegend": false,
         "text": "[99, 100, 101]",
         "type": "scatter",
         "x": {
          "bdata": "y4SFrme7HUAAAAAAAAAcQDV7elGYRBpANXt6UZhEGkAAAAAAAAAcQMuEha5nux1Ay4SFrme7HUA=",
          "dtype": "f8"
         },
         "xaxis": "x8",
         "y": {
          "bdata": "q0xY6Hq2/z9WJix0PdsBQKxMWOh6tv8/rExY6Hq29z+rTFjoerbzP6xMWOh6tvc/q0xY6Hq2/z8=",
          "dtype": "f8"
         },
         "yaxis": "y8"
        },
        {
         "fill": "toself",
         "fillcolor": "rgb(249, 147, 84)",
         "hoverinfo": "text",
         "hoveron": "fills",
         "line": {
          "color": "black",
          "width": 0
         },
         "mode": "lines",
         "showlegend": false,
         "text": "[30, 35]",
         "type": "scatter",
         "x": {
          "bdata": "y4SFrme7G0AAAAAAAAAaQDV7elGYRBhANXt6UZhEGEAAAAAAAAAaQMuEha5nuxtAy4SFrme7G0A=",
          "dtype": "f8"
         },
         "xaxis": "x8",
         "y": {
          "bdata": "gDlCLtzIBkCAOUIu3MgIQIA5Qi7cyAZAgDlCLtzIAkCAOUIu3MgAQIA5Qi7cyAJAgDlCLtzIBkA=",
          "dtype": "f8"
         },
         "yaxis": "y8"
        },
        {
         "fill": "toself",
         "fillcolor": "rgb(244, 111, 68)",
         "hoverinfo": "text",
         "hoveron": "fills",
         "line": {
          "color": "black",
          "width": 0
         },
         "mode": "lines",
         "showlegend": false,
         "text": "[]",
         "type": "scatter",
         "x": {
          "bdata": "y4SFrme7HUAAAAAAAAAcQDV7elGYRBpANXt6UZhEGkAAAAAAAAAcQMuEha5nux1Ay4SFrme7HUA=",
          "dtype": "f8"
         },
         "xaxis": "x8",
         "y": {
          "bdata": "q0xY6Hq2DUCrTFjoerYPQKtMWOh6tg1Aq0xY6Hq2CUCrTFjoerYHQKtMWOh6tglAq0xY6Hq2DUA=",
          "dtype": "f8"
         },
         "yaxis": "y8"
        },
        {
         "fill": "toself",
         "fillcolor": "rgb(239, 98, 62)",
         "hoverinfo": "text",
         "hoveron": "fills",
         "line": {
          "color": "black",
          "width": 0
         },
         "mode": "lines",
         "showlegend": false,
         "text": "[66, 86, 91, 93]",
         "type": "scatter",
         "x": {
          "bdata": "y4SFrme7G0AAAAAAAAAaQDV7elGYRBhANXt6UZhEGEAAAAAAAAAaQMuEha5nuxtAy4SFrme7G0A=",
          "dtype": "f8"
         },
         "xaxis": "x8",
         "y": {
          "bdata": "6y830QxSEkDrLzfRDFITQOsvN9EMUhJA6y830QxSEEDWX26iGaQOQOsvN9EMUhBA6y830QxSEkA=",
          "dtype": "f8"
         },
         "yaxis": "y8"
        },
        {
         "fill": "toself",
         "fillcolor": "rgb(255, 251, 186)",
         "hoverinfo": "text",
         "hoveron": "fills",
         "line": {
          "color": "black",
          "width": 0
         },
         "mode": "lines",
         "showlegend": false,
         "text": "[70, 72, 73, 74, 76]",
         "type": "scatter",
         "x": {
          "bdata": "ZcJC17PdIEAAAAAAAAAgQDV7elGYRB5ANXt6UZhEHkAAAAAAAAAgQGXCQtez3SBAZcJC17PdIEA=",
          "dtype": "f8"
         },
         "xaxis": "x8",
         "y": {
          "bdata": "////////zz8AAAAAAADgPwMAAAAAANA/+///////z78AAAAAAADgv/r//////8+/AAAAAAAA0D8=",
          "dtype": "f8"
         },
         "yaxis": "y8"
        },
        {
         "fill": "toself",
         "fillcolor": "rgb(254, 236, 162)",
         "hoverinfo": "text",
         "hoveron": "fills",
         "line": {
          "color": "black",
          "width": 0
         },
         "mode": "lines",
         "showlegend": false,
         "text": "[75, 77]",
         "type": "scatter",
         "x": {
          "bdata": "y4SFrme7H0AAAAAAAAAeQDV7elGYRBxANXt6UZhEHEAAAAAAAAAeQMuEha5nux9Ay4SFrme7H0A=",
          "dtype": "f8"
         },
         "xaxis": "x8",
         "y": {
          "bdata": "VSYsdD3b8T9WJix0Pdv1P1YmLHQ92/E/rExY6Hq24z9WmbDQ9WzXP6xMWOh6tuM/ViYsdD3b8T8=",
          "dtype": "f8"
         },
         "yaxis": "y8"
        },
        {
         "fill": "toself",
         "fillcolor": "rgb(254, 212, 132)",
         "hoverinfo": "text",
         "hoveron": "fills",
         "line": {
          "color": "black",
          "width": 0
         },
         "mode": "lines",
         "showlegend": false,
         "text": "[]",
         "type": "scatter",
         "x": {
          "bdata": "ZcJC17PdIEAAAAAAAAAgQDV7elGYRB5ANXt6UZhEHkAAAAAAAAAgQGXCQtez3SBAZcJC17PdIEA=",
          "dtype": "f8"
         },
         "xaxis": "x8",
         "y": {
          "bdata": "q0xY6Hq2/z9WJix0PdsBQKxMWOh6tv8/rExY6Hq29z+rTFjoerbzP6xMWOh6tvc/q0xY6Hq2/z8=",
          "dtype": "f8"
         },
         "yaxis": "y8"
        },
        {
         "fill": "toself",
         "fillcolor": "rgb(251, 157, 89)",
         "hoverinfo": "text",
         "hoveron": "fills",
         "line": {
          "color": "black",
          "width": 0
         },
         "mode": "lines",
         "showlegend": false,
         "text": "[31, 39]",
         "type": "scatter",
         "x": {
          "bdata": "y4SFrme7H0AAAAAAAAAeQDV7elGYRBxANXt6UZhEHEAAAAAAAAAeQMuEha5nux9Ay4SFrme7H0A=",
          "dtype": "f8"
         },
         "xaxis": "x8",
         "y": {
          "bdata": "gDlCLtzIBkCAOUIu3MgIQIA5Qi7cyAZAgDlCLtzIAkCAOUIu3MgAQIA5Qi7cyAJAgDlCLtzIBkA=",
          "dtype": "f8"
         },
         "yaxis": "y8"
        },
        {
         "fill": "toself",
         "fillcolor": "rgb(240, 100, 63)",
         "hoverinfo": "text",
         "hoveron": "fills",
         "line": {
          "color": "black",
          "width": 0
         },
         "mode": "lines",
         "showlegend": false,
         "text": "[59, 60, 61, 62]",
         "type": "scatter",
         "x": {
          "bdata": "ZcJC17PdIEAAAAAAAAAgQDV7elGYRB5ANXt6UZhEHkAAAAAAAAAgQGXCQtez3SBAZcJC17PdIEA=",
          "dtype": "f8"
         },
         "xaxis": "x8",
         "y": {
          "bdata": "q0xY6Hq2DUCrTFjoerYPQKtMWOh6tg1Aq0xY6Hq2CUCrTFjoerYHQKtMWOh6tglAq0xY6Hq2DUA=",
          "dtype": "f8"
         },
         "yaxis": "y8"
        },
        {
         "fill": "toself",
         "fillcolor": "rgb(242, 106, 66)",
         "hoverinfo": "text",
         "hoveron": "fills",
         "line": {
          "color": "black",
          "width": 0
         },
         "mode": "lines",
         "showlegend": false,
         "text": "[10, 65]",
         "type": "scatter",
         "x": {
          "bdata": "y4SFrme7H0AAAAAAAAAeQDV7elGYRBxANXt6UZhEHEAAAAAAAAAeQMuEha5nux9Ay4SFrme7H0A=",
          "dtype": "f8"
         },
         "xaxis": "x8",
         "y": {
          "bdata": "6y830QxSEkDrLzfRDFITQOsvN9EMUhJA6y830QxSEEDWX26iGaQOQOsvN9EMUhBA6y830QxSEkA=",
          "dtype": "f8"
         },
         "yaxis": "y8"
        },
        {
         "marker": {
          "color": [
           0.019201688863224462,
           0.9583955190160905
          ],
          "colorbar": {
           "len": 0.1,
           "thickness": 20,
           "x": 0.9,
           "y": 0.30000000000000004
          },
          "colorscale": [
           [
            0,
            "rgb(165,0,38)"
           ],
           [
            0.1,
            "rgb(215,48,39)"
           ],
           [
            0.2,
            "rgb(244,109,67)"
           ],
           [
            0.3,
            "rgb(253,174,97)"
           ],
           [
            0.4,
            "rgb(254,224,144)"
           ],
           [
            0.5,
            "rgb(255,255,191)"
           ],
           [
            0.6,
            "rgb(224,243,248)"
           ],
           [
            0.7,
            "rgb(171,217,233)"
           ],
           [
            0.8,
            "rgb(116,173,209)"
           ],
           [
            0.9,
            "rgb(69,117,180)"
           ],
           [
            1,
            "rgb(49,54,149)"
           ]
          ],
          "size": 0.001
         },
         "showlegend": false,
         "type": "scatter",
         "x": [
          0,
          0
         ],
         "xaxis": "x8",
         "y": [
          0,
          0
         ],
         "yaxis": "y8"
        },
        {
         "fill": "toself",
         "fillcolor": "rgb(191, 25, 39)",
         "hoverinfo": "text",
         "hoveron": "fills",
         "line": {
          "color": "black",
          "width": 0
         },
         "mode": "lines",
         "showlegend": false,
         "text": "[5]",
         "type": "scatter",
         "x": {
          "bdata": "q0xY6Hq22z8HXBQzJqaBPKlMWOh6ttu/rExY6Hq2278Kip5MOXmavKxMWOh6tts/qkxY6Hq22z8=",
          "dtype": "f8"
         },
         "xaxis": "x9",
         "y": {
          "bdata": "////////zz8AAAAAAADgPwMAAAAAANA/+///////z78AAAAAAADgv/r//////8+/AAAAAAAA0D8=",
          "dtype": "f8"
         },
         "yaxis": "y9"
        },
        {
         "fill": "toself",
         "fillcolor": "rgb(233, 85, 56)",
         "hoverinfo": "text",
         "hoveron": "fills",
         "line": {
          "color": "black",
          "width": 0
         },
         "mode": "lines",
         "showlegend": false,
         "text": "[0, 4]",
         "type": "scatter",
         "x": {
          "bdata": "VM2eXhQmsb/////////fv1QmLHQ92+2/ViYsdD3b7b8BAAAAAADgv1DNnl4UJrG/WM2eXhQmsb8=",
          "dtype": "f8"
         },
         "xaxis": "x9",
         "y": {
          "bdata": "VSYsdD3b8T9WJix0Pdv1P1YmLHQ92/E/rExY6Hq24z9WmbDQ9WzXP6xMWOh6tuM/ViYsdD3b8T8=",
          "dtype": "f8"
         },
         "yaxis": "y9"
        },
        {
         "fill": "toself",
         "fillcolor": "rgb(195, 29, 39)",
         "hoverinfo": "text",
         "hoveron": "fills",
         "line": {
          "color": "black",
          "width": 0
         },
         "mode": "lines",
         "showlegend": false,
         "text": "[21, 22]",
         "type": "scatter",
         "x": {
          "bdata": "q0xY6Hq22z8HXBQzJqaBPKlMWOh6ttu/rExY6Hq2278Kip5MOXmavKxMWOh6tts/qkxY6Hq22z8=",
          "dtype": "f8"
         },
         "xaxis": "x9",
         "y": {
          "bdata": "q0xY6Hq2/z9WJix0PdsBQKxMWOh6tv8/rExY6Hq29z+rTFjoerbzP6xMWOh6tvc/q0xY6Hq2/z8=",
          "dtype": "f8"
         },
         "yaxis": "y9"
        },
        {
         "fill": "toself",
         "fillcolor": "rgb(246, 120, 72)",
         "hoverinfo": "text",
         "hoveron": "fills",
         "line": {
          "color": "black",
          "width": 0
         },
         "mode": "lines",
         "showlegend": false,
         "text": "[83, 85, 87, 89]",
         "type": "scatter",
         "x": {
          "bdata": "VM2eXhQmsb/////////fv1QmLHQ92+2/ViYsdD3b7b8BAAAAAADgv1DNnl4UJrG/WM2eXhQmsb8=",
          "dtype": "f8"
         },
         "xaxis": "x9",
         "y": {
          "bdata": "gDlCLtzIBkCAOUIu3MgIQIA5Qi7cyAZAgDlCLtzIAkCAOUIu3MgAQIA5Qi7cyAJAgDlCLtzIBkA=",
          "dtype": "f8"
         },
         "yaxis": "y9"
        },
        {
         "fill": "toself",
         "fillcolor": "rgb(220, 57, 43)",
         "hoverinfo": "text",
         "hoveron": "fills",
         "line": {
          "color": "black",
          "width": 0
         },
         "mode": "lines",
         "showlegend": false,
         "text": "[]",
         "type": "scatter",
         "x": {
          "bdata": "q0xY6Hq22z8HXBQzJqaBPKlMWOh6ttu/rExY6Hq2278Kip5MOXmavKxMWOh6tts/qkxY6Hq22z8=",
          "dtype": "f8"
         },
         "xaxis": "x9",
         "y": {
          "bdata": "q0xY6Hq2DUCrTFjoerYPQKtMWOh6tg1Aq0xY6Hq2CUCrTFjoerYHQKtMWOh6tglAq0xY6Hq2DUA=",
          "dtype": "f8"
         },
         "yaxis": "y9"
        },
        {
         "fill": "toself",
         "fillcolor": "rgb(231, 81, 54)",
         "hoverinfo": "text",
         "hoveron": "fills",
         "line": {
          "color": "black",
          "width": 0
         },
         "mode": "lines",
         "showlegend": false,
         "text": "[40, 43, 46, 92]",
         "type": "scatter",
         "x": {
          "bdata": "VM2eXhQmsb/////////fv1QmLHQ92+2/ViYsdD3b7b8BAAAAAADgv1DNnl4UJrG/WM2eXhQmsb8=",
          "dtype": "f8"
         },
         "xaxis": "x9",
         "y": {
          "bdata": "6y830QxSEkDrLzfRDFITQOsvN9EMUhJA6y830QxSEEDWX26iGaQOQOsvN9EMUhBA6y830QxSEkA=",
          "dtype": "f8"
         },
         "yaxis": "y9"
        },
        {
         "fill": "toself",
         "fillcolor": "rgb(204, 38, 39)",
         "hoverinfo": "text",
         "hoveron": "fills",
         "line": {
          "color": "black",
          "width": 0
         },
         "mode": "lines",
         "showlegend": false,
         "text": "[2, 3, 6]",
         "type": "scatter",
         "x": {
          "bdata": "KxMWup7t9j8AAAAAAADwP6zZ04vCJOI/qtnTi8Ik4j/////////vPysTFrqe7fY/KhMWup7t9j8=",
          "dtype": "f8"
         },
         "xaxis": "x9",
         "y": {
          "bdata": "////////zz8AAAAAAADgPwMAAAAAANA/+///////z78AAAAAAADgv/r//////8+/AAAAAAAA0D8=",
          "dtype": "f8"
         },
         "yaxis": "y9"
        },
        {
         "fill": "toself",
         "fillcolor": "rgb(219, 57, 43)",
         "hoverinfo": "text",
         "hoveron": "fills",
         "line": {
          "color": "black",
          "width": 0
         },
         "mode": "lines",
         "showlegend": false,
         "text": "[9, 50]",
         "type": "scatter",
         "x": {
          "bdata": "ViYsdD3b7T8AAAAAAADgP1zNnl4UJrE/UM2eXhQmsT/+///////fP1YmLHQ92+0/VSYsdD3b7T8=",
          "dtype": "f8"
         },
         "xaxis": "x9",
         "y": {
          "bdata": "VSYsdD3b8T9WJix0Pdv1P1YmLHQ92/E/rExY6Hq24z9WmbDQ9WzXP6xMWOh6tuM/ViYsdD3b8T8=",
          "dtype": "f8"
         },
         "yaxis": "y9"
        },
        {
         "fill": "toself",
         "fillcolor": "rgb(234, 88, 58)",
         "hoverinfo": "text",
         "hoveron": "fills",
         "line": {
          "color": "black",
          "width": 0
         },
         "mode": "lines",
         "showlegend": false,
         "text": "[24, 25, 26]",
         "type": "scatter",
         "x": {
          "bdata": "KxMWup7t9j8AAAAAAADwP6zZ04vCJOI/qtnTi8Ik4j/////////vPysTFrqe7fY/KhMWup7t9j8=",
          "dtype": "f8"
         },
         "xaxis": "x9",
         "y": {
          "bdata": "q0xY6Hq2/z9WJix0PdsBQKxMWOh6tv8/rExY6Hq29z+rTFjoerbzP6xMWOh6tvc/q0xY6Hq2/z8=",
          "dtype": "f8"
         },
         "yaxis": "y9"
        },
        {
         "fill": "toself",
         "fillcolor": "rgb(253, 177, 100)",
         "hoverinfo": "text",
         "hoveron": "fills",
         "line": {
          "color": "black",
          "width": 0
         },
         "mode": "lines",
         "showlegend": false,
         "text": "[53, 79, 82, 84]",
         "type": "scatter",
         "x": {
          "bdata": "ViYsdD3b7T8AAAAAAADgP1zNnl4UJrE/UM2eXhQmsT/+///////fP1YmLHQ92+0/VSYsdD3b7T8=",
          "dtype": "f8"
         },
         "xaxis": "x9",
         "y": {
          "bdata": "gDlCLtzIBkCAOUIu3MgIQIA5Qi7cyAZAgDlCLtzIAkCAOUIu3MgAQIA5Qi7cyAJAgDlCLtzIBkA=",
          "dtype": "f8"
         },
         "yaxis": "y9"
        },
        {
         "fill": "toself",
         "fillcolor": "rgb(254, 220, 140)",
         "hoverinfo": "text",
         "hoveron": "fills",
         "line": {
          "color": "black",
          "width": 0
         },
         "mode": "lines",
         "showlegend": false,
         "text": "[]",
         "type": "scatter",
         "x": {
          "bdata": "KxMWup7t9j8AAAAAAADwP6zZ04vCJOI/qtnTi8Ik4j/////////vPysTFrqe7fY/KhMWup7t9j8=",
          "dtype": "f8"
         },
         "xaxis": "x9",
         "y": {
          "bdata": "q0xY6Hq2DUCrTFjoerYPQKtMWOh6tg1Aq0xY6Hq2CUCrTFjoerYHQKtMWOh6tglAq0xY6Hq2DUA=",
          "dtype": "f8"
         },
         "yaxis": "y9"
        },
        {
         "fill": "toself",
         "fillcolor": "rgb(250, 156, 89)",
         "hoverinfo": "text",
         "hoveron": "fills",
         "line": {
          "color": "black",
          "width": 0
         },
         "mode": "lines",
         "showlegend": false,
         "text": "[42, 44, 45]",
         "type": "scatter",
         "x": {
          "bdata": "ViYsdD3b7T8AAAAAAADgP1zNnl4UJrE/UM2eXhQmsT/+///////fP1YmLHQ92+0/VSYsdD3b7T8=",
          "dtype": "f8"
         },
         "xaxis": "x9",
         "y": {
          "bdata": "6y830QxSEkDrLzfRDFITQOsvN9EMUhJA6y830QxSEEDWX26iGaQOQOsvN9EMUhBA6y830QxSEkA=",
          "dtype": "f8"
         },
         "yaxis": "y9"
        },
        {
         "fill": "toself",
         "fillcolor": "rgb(200, 33, 39)",
         "hoverinfo": "text",
         "hoveron": "fills",
         "line": {
          "color": "black",
          "width": 0
         },
         "mode": "lines",
         "showlegend": false,
         "text": "[]",
         "type": "scatter",
         "x": {
          "bdata": "lQkLXc92A0AAAAAAAAAAQNbs6UVhEvk/1ezpRWES+T8AAAAAAAAAQJYJC13PdgNAlQkLXc92A0A=",
          "dtype": "f8"
         },
         "xaxis": "x9",
         "y": {
          "bdata": "////////zz8AAAAAAADgPwMAAAAAANA/+///////z78AAAAAAADgv/r//////8+/AAAAAAAA0D8=",
          "dtype": "f8"
         },
         "yaxis": "y9"
        },
        {
         "fill": "toself",
         "fillcolor": "rgb(237, 94, 60)",
         "hoverinfo": "text",
         "hoveron": "fills",
         "line": {
          "color": "black",
          "width": 0
         },
         "mode": "lines",
         "showlegend": false,
         "text": "[1, 7, 8, 52]",
         "type": "scatter",
         "x": {
          "bdata": "KxMWup7t/j8AAAAAAAD4P9bs6UVhEvE/1ezpRWES8T8AAAAAAAD4PysTFrqe7f4/KhMWup7t/j8=",
          "dtype": "f8"
         },
         "xaxis": "x9",
         "y": {
          "bdata": "VSYsdD3b8T9WJix0Pdv1P1YmLHQ92/E/rExY6Hq24z9WmbDQ9WzXP6xMWOh6tuM/ViYsdD3b8T8=",
          "dtype": "f8"
         },
         "yaxis": "y9"
        },
        {
         "fill": "toself",
         "fillcolor": "rgb(231, 81, 54)",
         "hoverinfo": "text",
         "hoveron": "fills",
         "line": {
          "color": "black",
          "width": 0
         },
         "mode": "lines",
         "showlegend": false,
         "text": "[57, 81]",
         "type": "scatter",
         "x": {
          "bdata": "lQkLXc92A0AAAAAAAAAAQNbs6UVhEvk/1ezpRWES+T8AAAAAAAAAQJYJC13PdgNAlQkLXc92A0A=",
          "dtype": "f8"
         },
         "xaxis": "x9",
         "y": {
          "bdata": "q0xY6Hq2/z9WJix0PdsBQKxMWOh6tv8/rExY6Hq29z+rTFjoerbzP6xMWOh6tvc/q0xY6Hq2/z8=",
          "dtype": "f8"
         },
         "yaxis": "y9"
        },
        {
         "fill": "toself",
         "fillcolor": "rgb(254, 237, 164)",
         "hoverinfo": "text",
         "hoveron": "fills",
         "line": {
          "color": "black",
          "width": 0
         },
         "mode": "lines",
         "showlegend": false,
         "text": "[80, 88]",
         "type": "scatter",
         "x": {
          "bdata": "KxMWup7t/j8AAAAAAAD4P9bs6UVhEvE/1ezpRWES8T8AAAAAAAD4PysTFrqe7f4/KhMWup7t/j8=",
          "dtype": "f8"
         },
         "xaxis": "x9",
         "y": {
          "bdata": "gDlCLtzIBkCAOUIu3MgIQIA5Qi7cyAZAgDlCLtzIAkCAOUIu3MgAQIA5Qi7cyAJAgDlCLtzIBkA=",
          "dtype": "f8"
         },
         "yaxis": "y9"
        },
        {
         "fill": "toself",
         "fillcolor": "rgb(231, 246, 235)",
         "hoverinfo": "text",
         "hoveron": "fills",
         "line": {
          "color": "black",
          "width": 0
         },
         "mode": "lines",
         "showlegend": false,
         "text": "[]",
         "type": "scatter",
         "x": {
          "bdata": "lQkLXc92A0AAAAAAAAAAQNbs6UVhEvk/1ezpRWES+T8AAAAAAAAAQJYJC13PdgNAlQkLXc92A0A=",
          "dtype": "f8"
         },
         "xaxis": "x9",
         "y": {
          "bdata": "q0xY6Hq2DUCrTFjoerYPQKtMWOh6tg1Aq0xY6Hq2CUCrTFjoerYHQKtMWOh6tglAq0xY6Hq2DUA=",
          "dtype": "f8"
         },
         "yaxis": "y9"
        },
        {
         "fill": "toself",
         "fillcolor": "rgb(254, 230, 152)",
         "hoverinfo": "text",
         "hoveron": "fills",
         "line": {
          "color": "black",
          "width": 0
         },
         "mode": "lines",
         "showlegend": false,
         "text": "[]",
         "type": "scatter",
         "x": {
          "bdata": "KxMWup7t/j8AAAAAAAD4P9bs6UVhEvE/1ezpRWES8T8AAAAAAAD4PysTFrqe7f4/KhMWup7t/j8=",
          "dtype": "f8"
         },
         "xaxis": "x9",
         "y": {
          "bdata": "6y830QxSEkDrLzfRDFITQOsvN9EMUhJA6y830QxSEEDWX26iGaQOQOsvN9EMUhBA6y830QxSEkA=",
          "dtype": "f8"
         },
         "yaxis": "y9"
        },
        {
         "fill": "toself",
         "fillcolor": "rgb(210, 43, 39)",
         "hoverinfo": "text",
         "hoveron": "fills",
         "line": {
          "color": "black",
          "width": 0
         },
         "mode": "lines",
         "showlegend": false,
         "text": "[47, 48, 49, 51]",
         "type": "scatter",
         "x": {
          "bdata": "lQkLXc92C0AAAAAAAAAIQGv29KIwiQRAavb0ojCJBEAAAAAAAAAIQJYJC13PdgtAlQkLXc92C0A=",
          "dtype": "f8"
         },
         "xaxis": "x9",
         "y": {
          "bdata": "////////zz8AAAAAAADgPwMAAAAAANA/+///////z78AAAAAAADgv/r//////8+/AAAAAAAA0D8=",
          "dtype": "f8"
         },
         "yaxis": "y9"
        },
        {
         "fill": "toself",
         "fillcolor": "rgb(240, 100, 63)",
         "hoverinfo": "text",
         "hoveron": "fills",
         "line": {
          "color": "black",
          "width": 0
         },
         "mode": "lines",
         "showlegend": false,
         "text": "[41]",
         "type": "scatter",
         "x": {
          "bdata": "lQkLXc92B0AAAAAAAAAEQGv29KIwiQBAavb0ojCJAEAAAAAAAAAEQJYJC13PdgdAlQkLXc92B0A=",
          "dtype": "f8"
         },
         "xaxis": "x9",
         "y": {
          "bdata": "VSYsdD3b8T9WJix0Pdv1P1YmLHQ92/E/rExY6Hq24z9WmbDQ9WzXP6xMWOh6tuM/ViYsdD3b8T8=",
          "dtype": "f8"
         },
         "yaxis": "y9"
        },
        {
         "fill": "toself",
         "fillcolor": "rgb(249, 143, 83)",
         "hoverinfo": "text",
         "hoveron": "fills",
         "line": {
          "color": "black",
          "width": 0
         },
         "mode": "lines",
         "showlegend": false,
         "text": "[]",
         "type": "scatter",
         "x": {
          "bdata": "lQkLXc92C0AAAAAAAAAIQGv29KIwiQRAavb0ojCJBEAAAAAAAAAIQJYJC13PdgtAlQkLXc92C0A=",
          "dtype": "f8"
         },
         "xaxis": "x9",
         "y": {
          "bdata": "q0xY6Hq2/z9WJix0PdsBQKxMWOh6tv8/rExY6Hq29z+rTFjoerbzP6xMWOh6tvc/q0xY6Hq2/z8=",
          "dtype": "f8"
         },
         "yaxis": "y9"
        },
        {
         "fill": "toself",
         "fillcolor": "rgb(254, 215, 136)",
         "hoverinfo": "text",
         "hoveron": "fills",
         "line": {
          "color": "black",
          "width": 0
         },
         "mode": "lines",
         "showlegend": false,
         "text": "[63]",
         "type": "scatter",
         "x": {
          "bdata": "lQkLXc92B0AAAAAAAAAEQGv29KIwiQBAavb0ojCJAEAAAAAAAAAEQJYJC13PdgdAlQkLXc92B0A=",
          "dtype": "f8"
         },
         "xaxis": "x9",
         "y": {
          "bdata": "gDlCLtzIBkCAOUIu3MgIQIA5Qi7cyAZAgDlCLtzIAkCAOUIu3MgAQIA5Qi7cyAJAgDlCLtzIBkA=",
          "dtype": "f8"
         },
         "yaxis": "y9"
        },
        {
         "fill": "toself",
         "fillcolor": "rgb(157, 206, 227)",
         "hoverinfo": "text",
         "hoveron": "fills",
         "line": {
          "color": "black",
          "width": 0
         },
         "mode": "lines",
         "showlegend": false,
         "text": "[]",
         "type": "scatter",
         "x": {
          "bdata": "lQkLXc92C0AAAAAAAAAIQGv29KIwiQRAavb0ojCJBEAAAAAAAAAIQJYJC13PdgtAlQkLXc92C0A=",
          "dtype": "f8"
         },
         "xaxis": "x9",
         "y": {
          "bdata": "q0xY6Hq2DUCrTFjoerYPQKtMWOh6tg1Aq0xY6Hq2CUCrTFjoerYHQKtMWOh6tglAq0xY6Hq2DUA=",
          "dtype": "f8"
         },
         "yaxis": "y9"
        },
        {
         "fill": "toself",
         "fillcolor": "rgb(49, 54, 149)",
         "hoverinfo": "text",
         "hoveron": "fills",
         "line": {
          "color": "black",
          "width": 0
         },
         "mode": "lines",
         "showlegend": false,
         "text": "[37, 38]",
         "type": "scatter",
         "x": {
          "bdata": "lQkLXc92B0AAAAAAAAAEQGv29KIwiQBAavb0ojCJAEAAAAAAAAAEQJYJC13PdgdAlQkLXc92B0A=",
          "dtype": "f8"
         },
         "xaxis": "x9",
         "y": {
          "bdata": "6y830QxSEkDrLzfRDFITQOsvN9EMUhJA6y830QxSEEDWX26iGaQOQOsvN9EMUhBA6y830QxSEkA=",
          "dtype": "f8"
         },
         "yaxis": "y9"
        },
        {
         "fill": "toself",
         "fillcolor": "rgb(214, 47, 39)",
         "hoverinfo": "text",
         "hoveron": "fills",
         "line": {
          "color": "black",
          "width": 0
         },
         "mode": "lines",
         "showlegend": false,
         "text": "[55]",
         "type": "scatter",
         "x": {
          "bdata": "y4SFrme7EUAAAAAAAAAQQGv29KIwiQxAavb0ojCJDEAAAAAAAAAQQMuEha5nuxFAy4SFrme7EUA=",
          "dtype": "f8"
         },
         "xaxis": "x9",
         "y": {
          "bdata": "////////zz8AAAAAAADgPwMAAAAAANA/+///////z78AAAAAAADgv/r//////8+/AAAAAAAA0D8=",
          "dtype": "f8"
         },
         "yaxis": "y9"
        },
        {
         "fill": "toself",
         "fillcolor": "rgb(237, 95, 61)",
         "hoverinfo": "text",
         "hoveron": "fills",
         "line": {
          "color": "black",
          "width": 0
         },
         "mode": "lines",
         "showlegend": false,
         "text": "[15, 16, 17, 18, 19, 20]",
         "type": "scatter",
         "x": {
          "bdata": "lQkLXc92D0AAAAAAAAAMQGv29KIwiQhAavb0ojCJCEAAAAAAAAAMQJYJC13Pdg9AlQkLXc92D0A=",
          "dtype": "f8"
         },
         "xaxis": "x9",
         "y": {
          "bdata": "VSYsdD3b8T9WJix0Pdv1P1YmLHQ92/E/rExY6Hq24z9WmbDQ9WzXP6xMWOh6tuM/ViYsdD3b8T8=",
          "dtype": "f8"
         },
         "yaxis": "y9"
        },
        {
         "fill": "toself",
         "fillcolor": "rgb(245, 117, 71)",
         "hoverinfo": "text",
         "hoveron": "fills",
         "line": {
          "color": "black",
          "width": 0
         },
         "mode": "lines",
         "showlegend": false,
         "text": "[23, 78, 90]",
         "type": "scatter",
         "x": {
          "bdata": "y4SFrme7EUAAAAAAAAAQQGv29KIwiQxAavb0ojCJDEAAAAAAAAAQQMuEha5nuxFAy4SFrme7EUA=",
          "dtype": "f8"
         },
         "xaxis": "x9",
         "y": {
          "bdata": "q0xY6Hq2/z9WJix0PdsBQKxMWOh6tv8/rExY6Hq29z+rTFjoerbzP6xMWOh6tvc/q0xY6Hq2/z8=",
          "dtype": "f8"
         },
         "yaxis": "y9"
        },
        {
         "fill": "toself",
         "fillcolor": "rgb(246, 121, 73)",
         "hoverinfo": "text",
         "hoveron": "fills",
         "line": {
          "color": "black",
          "width": 0
         },
         "mode": "lines",
         "showlegend": false,
         "text": "[27, 29, 36]",
         "type": "scatter",
         "x": {
          "bdata": "lQkLXc92D0AAAAAAAAAMQGv29KIwiQhAavb0ojCJCEAAAAAAAAAMQJYJC13Pdg9AlQkLXc92D0A=",
          "dtype": "f8"
         },
         "xaxis": "x9",
         "y": {
          "bdata": "gDlCLtzIBkCAOUIu3MgIQIA5Qi7cyAZAgDlCLtzIAkCAOUIu3MgAQIA5Qi7cyAJAgDlCLtzIBkA=",
          "dtype": "f8"
         },
         "yaxis": "y9"
        },
        {
         "fill": "toself",
         "fillcolor": "rgb(152, 202, 225)",
         "hoverinfo": "text",
         "hoveron": "fills",
         "line": {
          "color": "black",
          "width": 0
         },
         "mode": "lines",
         "showlegend": false,
         "text": "[64]",
         "type": "scatter",
         "x": {
          "bdata": "y4SFrme7EUAAAAAAAAAQQGv29KIwiQxAavb0ojCJDEAAAAAAAAAQQMuEha5nuxFAy4SFrme7EUA=",
          "dtype": "f8"
         },
         "xaxis": "x9",
         "y": {
          "bdata": "q0xY6Hq2DUCrTFjoerYPQKtMWOh6tg1Aq0xY6Hq2CUCrTFjoerYHQKtMWOh6tglAq0xY6Hq2DUA=",
          "dtype": "f8"
         },
         "yaxis": "y9"
        },
        {
         "fill": "toself",
         "fillcolor": "rgb(178, 221, 235)",
         "hoverinfo": "text",
         "hoveron": "fills",
         "line": {
          "color": "black",
          "width": 0
         },
         "mode": "lines",
         "showlegend": false,
         "text": "[]",
         "type": "scatter",
         "x": {
          "bdata": "lQkLXc92D0AAAAAAAAAMQGv29KIwiQhAavb0ojCJCEAAAAAAAAAMQJYJC13Pdg9AlQkLXc92D0A=",
          "dtype": "f8"
         },
         "xaxis": "x9",
         "y": {
          "bdata": "6y830QxSEkDrLzfRDFITQOsvN9EMUhJA6y830QxSEEDWX26iGaQOQOsvN9EMUhBA6y830QxSEkA=",
          "dtype": "f8"
         },
         "yaxis": "y9"
        },
        {
         "fill": "toself",
         "fillcolor": "rgb(240, 101, 63)",
         "hoverinfo": "text",
         "hoveron": "fills",
         "line": {
          "color": "black",
          "width": 0
         },
         "mode": "lines",
         "showlegend": false,
         "text": "[95, 97]",
         "type": "scatter",
         "x": {
          "bdata": "y4SFrme7FUAAAAAAAAAUQDV7elGYRBJANXt6UZhEEkAAAAAAAAAUQMuEha5nuxVAy4SFrme7FUA=",
          "dtype": "f8"
         },
         "xaxis": "x9",
         "y": {
          "bdata": "////////zz8AAAAAAADgPwMAAAAAANA/+///////z78AAAAAAADgv/r//////8+/AAAAAAAA0D8=",
          "dtype": "f8"
         },
         "yaxis": "y9"
        },
        {
         "fill": "toself",
         "fillcolor": "rgb(244, 110, 68)",
         "hoverinfo": "text",
         "hoveron": "fills",
         "line": {
          "color": "black",
          "width": 0
         },
         "mode": "lines",
         "showlegend": false,
         "text": "[94]",
         "type": "scatter",
         "x": {
          "bdata": "y4SFrme7E0AAAAAAAAASQDV7elGYRBBANXt6UZhEEEAAAAAAAAASQMuEha5nuxNAy4SFrme7E0A=",
          "dtype": "f8"
         },
         "xaxis": "x9",
         "y": {
          "bdata": "VSYsdD3b8T9WJix0Pdv1P1YmLHQ92/E/rExY6Hq24z9WmbDQ9WzXP6xMWOh6tuM/ViYsdD3b8T8=",
          "dtype": "f8"
         },
         "yaxis": "y9"
        },
        {
         "fill": "toself",
         "fillcolor": "rgb(236, 91, 59)",
         "hoverinfo": "text",
         "hoveron": "fills",
         "line": {
          "color": "black",
          "width": 0
         },
         "mode": "lines",
         "showlegend": false,
         "text": "[33, 34]",
         "type": "scatter",
         "x": {
          "bdata": "y4SFrme7FUAAAAAAAAAUQDV7elGYRBJANXt6UZhEEkAAAAAAAAAUQMuEha5nuxVAy4SFrme7FUA=",
          "dtype": "f8"
         },
         "xaxis": "x9",
         "y": {
          "bdata": "q0xY6Hq2/z9WJix0PdsBQKxMWOh6tv8/rExY6Hq29z+rTFjoerbzP6xMWOh6tvc/q0xY6Hq2/z8=",
          "dtype": "f8"
         },
         "yaxis": "y9"
        },
        {
         "fill": "toself",
         "fillcolor": "rgb(240, 100, 63)",
         "hoverinfo": "text",
         "hoveron": "fills",
         "line": {
          "color": "black",
          "width": 0
         },
         "mode": "lines",
         "showlegend": false,
         "text": "[28]",
         "type": "scatter",
         "x": {
          "bdata": "y4SFrme7E0AAAAAAAAASQDV7elGYRBBANXt6UZhEEEAAAAAAAAASQMuEha5nuxNAy4SFrme7E0A=",
          "dtype": "f8"
         },
         "xaxis": "x9",
         "y": {
          "bdata": "gDlCLtzIBkCAOUIu3MgIQIA5Qi7cyAZAgDlCLtzIAkCAOUIu3MgAQIA5Qi7cyAJAgDlCLtzIBkA=",
          "dtype": "f8"
         },
         "yaxis": "y9"
        },
        {
         "fill": "toself",
         "fillcolor": "rgb(253, 171, 96)",
         "hoverinfo": "text",
         "hoveron": "fills",
         "line": {
          "color": "black",
          "width": 0
         },
         "mode": "lines",
         "showlegend": false,
         "text": "[]",
         "type": "scatter",
         "x": {
          "bdata": "y4SFrme7FUAAAAAAAAAUQDV7elGYRBJANXt6UZhEEkAAAAAAAAAUQMuEha5nuxVAy4SFrme7FUA=",
          "dtype": "f8"
         },
         "xaxis": "x9",
         "y": {
          "bdata": "q0xY6Hq2DUCrTFjoerYPQKtMWOh6tg1Aq0xY6Hq2CUCrTFjoerYHQKtMWOh6tglAq0xY6Hq2DUA=",
          "dtype": "f8"
         },
         "yaxis": "y9"
        },
        {
         "fill": "toself",
         "fillcolor": "rgb(244, 112, 69)",
         "hoverinfo": "text",
         "hoveron": "fills",
         "line": {
          "color": "black",
          "width": 0
         },
         "mode": "lines",
         "showlegend": false,
         "text": "[]",
         "type": "scatter",
         "x": {
          "bdata": "y4SFrme7E0AAAAAAAAASQDV7elGYRBBANXt6UZhEEEAAAAAAAAASQMuEha5nuxNAy4SFrme7E0A=",
          "dtype": "f8"
         },
         "xaxis": "x9",
         "y": {
          "bdata": "6y830QxSEkDrLzfRDFITQOsvN9EMUhJA6y830QxSEEDWX26iGaQOQOsvN9EMUhBA6y830QxSEkA=",
          "dtype": "f8"
         },
         "yaxis": "y9"
        },
        {
         "fill": "toself",
         "fillcolor": "rgb(239, 99, 62)",
         "hoverinfo": "text",
         "hoveron": "fills",
         "line": {
          "color": "black",
          "width": 0
         },
         "mode": "lines",
         "showlegend": false,
         "text": "[54]",
         "type": "scatter",
         "x": {
          "bdata": "y4SFrme7GUAAAAAAAAAYQDV7elGYRBZANXt6UZhEFkAAAAAAAAAYQMuEha5nuxlAy4SFrme7GUA=",
          "dtype": "f8"
         },
         "xaxis": "x9",
         "y": {
          "bdata": "////////zz8AAAAAAADgPwMAAAAAANA/+///////z78AAAAAAADgv/r//////8+/AAAAAAAA0D8=",
          "dtype": "f8"
         },
         "yaxis": "y9"
        },
        {
         "fill": "toself",
         "fillcolor": "rgb(249, 149, 85)",
         "hoverinfo": "text",
         "hoveron": "fills",
         "line": {
          "color": "black",
          "width": 0
         },
         "mode": "lines",
         "showlegend": false,
         "text": "[96]",
         "type": "scatter",
         "x": {
          "bdata": "y4SFrme7F0AAAAAAAAAWQDV7elGYRBRANXt6UZhEFEAAAAAAAAAWQMuEha5nuxdAy4SFrme7F0A=",
          "dtype": "f8"
         },
         "xaxis": "x9",
         "y": {
          "bdata": "VSYsdD3b8T9WJix0Pdv1P1YmLHQ92/E/rExY6Hq24z9WmbDQ9WzXP6xMWOh6tuM/ViYsdD3b8T8=",
          "dtype": "f8"
         },
         "yaxis": "y9"
        },
        {
         "fill": "toself",
         "fillcolor": "rgb(234, 87, 57)",
         "hoverinfo": "text",
         "hoveron": "fills",
         "line": {
          "color": "black",
          "width": 0
         },
         "mode": "lines",
         "showlegend": false,
         "text": "[32, 56]",
         "type": "scatter",
         "x": {
          "bdata": "y4SFrme7GUAAAAAAAAAYQDV7elGYRBZANXt6UZhEFkAAAAAAAAAYQMuEha5nuxlAy4SFrme7GUA=",
          "dtype": "f8"
         },
         "xaxis": "x9",
         "y": {
          "bdata": "q0xY6Hq2/z9WJix0PdsBQKxMWOh6tv8/rExY6Hq29z+rTFjoerbzP6xMWOh6tvc/q0xY6Hq2/z8=",
          "dtype": "f8"
         },
         "yaxis": "y9"
        },
        {
         "fill": "toself",
         "fillcolor": "rgb(238, 97, 61)",
         "hoverinfo": "text",
         "hoveron": "fills",
         "line": {
          "color": "black",
          "width": 0
         },
         "mode": "lines",
         "showlegend": false,
         "text": "[58]",
         "type": "scatter",
         "x": {
          "bdata": "y4SFrme7F0AAAAAAAAAWQDV7elGYRBRANXt6UZhEFEAAAAAAAAAWQMuEha5nuxdAy4SFrme7F0A=",
          "dtype": "f8"
         },
         "xaxis": "x9",
         "y": {
          "bdata": "gDlCLtzIBkCAOUIu3MgIQIA5Qi7cyAZAgDlCLtzIAkCAOUIu3MgAQIA5Qi7cyAJAgDlCLtzIBkA=",
          "dtype": "f8"
         },
         "yaxis": "y9"
        },
        {
         "fill": "toself",
         "fillcolor": "rgb(225, 68, 48)",
         "hoverinfo": "text",
         "hoveron": "fills",
         "line": {
          "color": "black",
          "width": 0
         },
         "mode": "lines",
         "showlegend": false,
         "text": "[13]",
         "type": "scatter",
         "x": {
          "bdata": "y4SFrme7GUAAAAAAAAAYQDV7elGYRBZANXt6UZhEFkAAAAAAAAAYQMuEha5nuxlAy4SFrme7GUA=",
          "dtype": "f8"
         },
         "xaxis": "x9",
         "y": {
          "bdata": "q0xY6Hq2DUCrTFjoerYPQKtMWOh6tg1Aq0xY6Hq2CUCrTFjoerYHQKtMWOh6tglAq0xY6Hq2DUA=",
          "dtype": "f8"
         },
         "yaxis": "y9"
        },
        {
         "fill": "toself",
         "fillcolor": "rgb(185, 19, 38)",
         "hoverinfo": "text",
         "hoveron": "fills",
         "line": {
          "color": "black",
          "width": 0
         },
         "mode": "lines",
         "showlegend": false,
         "text": "[11, 12, 14, 67, 68, 69]",
         "type": "scatter",
         "x": {
          "bdata": "y4SFrme7F0AAAAAAAAAWQDV7elGYRBRANXt6UZhEFEAAAAAAAAAWQMuEha5nuxdAy4SFrme7F0A=",
          "dtype": "f8"
         },
         "xaxis": "x9",
         "y": {
          "bdata": "6y830QxSEkDrLzfRDFITQOsvN9EMUhJA6y830QxSEEDWX26iGaQOQOsvN9EMUhBA6y830QxSEkA=",
          "dtype": "f8"
         },
         "yaxis": "y9"
        },
        {
         "fill": "toself",
         "fillcolor": "rgb(246, 123, 73)",
         "hoverinfo": "text",
         "hoveron": "fills",
         "line": {
          "color": "black",
          "width": 0
         },
         "mode": "lines",
         "showlegend": false,
         "text": "[71]",
         "type": "scatter",
         "x": {
          "bdata": "y4SFrme7HUAAAAAAAAAcQDV7elGYRBpANXt6UZhEGkAAAAAAAAAcQMuEha5nux1Ay4SFrme7HUA=",
          "dtype": "f8"
         },
         "xaxis": "x9",
         "y": {
          "bdata": "////////zz8AAAAAAADgPwMAAAAAANA/+///////z78AAAAAAADgv/r//////8+/AAAAAAAA0D8=",
          "dtype": "f8"
         },
         "yaxis": "y9"
        },
        {
         "fill": "toself",
         "fillcolor": "rgb(247, 132, 77)",
         "hoverinfo": "text",
         "hoveron": "fills",
         "line": {
          "color": "black",
          "width": 0
         },
         "mode": "lines",
         "showlegend": false,
         "text": "[98]",
         "type": "scatter",
         "x": {
          "bdata": "y4SFrme7G0AAAAAAAAAaQDV7elGYRBhANXt6UZhEGEAAAAAAAAAaQMuEha5nuxtAy4SFrme7G0A=",
          "dtype": "f8"
         },
         "xaxis": "x9",
         "y": {
          "bdata": "VSYsdD3b8T9WJix0Pdv1P1YmLHQ92/E/rExY6Hq24z9WmbDQ9WzXP6xMWOh6tuM/ViYsdD3b8T8=",
          "dtype": "f8"
         },
         "yaxis": "y9"
        },
        {
         "fill": "toself",
         "fillcolor": "rgb(231, 82, 55)",
         "hoverinfo": "text",
         "hoveron": "fills",
         "line": {
          "color": "black",
          "width": 0
         },
         "mode": "lines",
         "showlegend": false,
         "text": "[99, 100, 101]",
         "type": "scatter",
         "x": {
          "bdata": "y4SFrme7HUAAAAAAAAAcQDV7elGYRBpANXt6UZhEGkAAAAAAAAAcQMuEha5nux1Ay4SFrme7HUA=",
          "dtype": "f8"
         },
         "xaxis": "x9",
         "y": {
          "bdata": "q0xY6Hq2/z9WJix0PdsBQKxMWOh6tv8/rExY6Hq29z+rTFjoerbzP6xMWOh6tvc/q0xY6Hq2/z8=",
          "dtype": "f8"
         },
         "yaxis": "y9"
        },
        {
         "fill": "toself",
         "fillcolor": "rgb(242, 105, 65)",
         "hoverinfo": "text",
         "hoveron": "fills",
         "line": {
          "color": "black",
          "width": 0
         },
         "mode": "lines",
         "showlegend": false,
         "text": "[30, 35]",
         "type": "scatter",
         "x": {
          "bdata": "y4SFrme7G0AAAAAAAAAaQDV7elGYRBhANXt6UZhEGEAAAAAAAAAaQMuEha5nuxtAy4SFrme7G0A=",
          "dtype": "f8"
         },
         "xaxis": "x9",
         "y": {
          "bdata": "gDlCLtzIBkCAOUIu3MgIQIA5Qi7cyAZAgDlCLtzIAkCAOUIu3MgAQIA5Qi7cyAJAgDlCLtzIBkA=",
          "dtype": "f8"
         },
         "yaxis": "y9"
        },
        {
         "fill": "toself",
         "fillcolor": "rgb(233, 87, 57)",
         "hoverinfo": "text",
         "hoveron": "fills",
         "line": {
          "color": "black",
          "width": 0
         },
         "mode": "lines",
         "showlegend": false,
         "text": "[]",
         "type": "scatter",
         "x": {
          "bdata": "y4SFrme7HUAAAAAAAAAcQDV7elGYRBpANXt6UZhEGkAAAAAAAAAcQMuEha5nux1Ay4SFrme7HUA=",
          "dtype": "f8"
         },
         "xaxis": "x9",
         "y": {
          "bdata": "q0xY6Hq2DUCrTFjoerYPQKtMWOh6tg1Aq0xY6Hq2CUCrTFjoerYHQKtMWOh6tglAq0xY6Hq2DUA=",
          "dtype": "f8"
         },
         "yaxis": "y9"
        },
        {
         "fill": "toself",
         "fillcolor": "rgb(196, 30, 39)",
         "hoverinfo": "text",
         "hoveron": "fills",
         "line": {
          "color": "black",
          "width": 0
         },
         "mode": "lines",
         "showlegend": false,
         "text": "[66, 86, 91, 93]",
         "type": "scatter",
         "x": {
          "bdata": "y4SFrme7G0AAAAAAAAAaQDV7elGYRBhANXt6UZhEGEAAAAAAAAAaQMuEha5nuxtAy4SFrme7G0A=",
          "dtype": "f8"
         },
         "xaxis": "x9",
         "y": {
          "bdata": "6y830QxSEkDrLzfRDFITQOsvN9EMUhJA6y830QxSEEDWX26iGaQOQOsvN9EMUhBA6y830QxSEkA=",
          "dtype": "f8"
         },
         "yaxis": "y9"
        },
        {
         "fill": "toself",
         "fillcolor": "rgb(210, 44, 39)",
         "hoverinfo": "text",
         "hoveron": "fills",
         "line": {
          "color": "black",
          "width": 0
         },
         "mode": "lines",
         "showlegend": false,
         "text": "[70, 72, 73, 74, 76]",
         "type": "scatter",
         "x": {
          "bdata": "ZcJC17PdIEAAAAAAAAAgQDV7elGYRB5ANXt6UZhEHkAAAAAAAAAgQGXCQtez3SBAZcJC17PdIEA=",
          "dtype": "f8"
         },
         "xaxis": "x9",
         "y": {
          "bdata": "////////zz8AAAAAAADgPwMAAAAAANA/+///////z78AAAAAAADgv/r//////8+/AAAAAAAA0D8=",
          "dtype": "f8"
         },
         "yaxis": "y9"
        },
        {
         "fill": "toself",
         "fillcolor": "rgb(200, 34, 39)",
         "hoverinfo": "text",
         "hoveron": "fills",
         "line": {
          "color": "black",
          "width": 0
         },
         "mode": "lines",
         "showlegend": false,
         "text": "[75, 77]",
         "type": "scatter",
         "x": {
          "bdata": "y4SFrme7H0AAAAAAAAAeQDV7elGYRBxANXt6UZhEHEAAAAAAAAAeQMuEha5nux9Ay4SFrme7H0A=",
          "dtype": "f8"
         },
         "xaxis": "x9",
         "y": {
          "bdata": "VSYsdD3b8T9WJix0Pdv1P1YmLHQ92/E/rExY6Hq24z9WmbDQ9WzXP6xMWOh6tuM/ViYsdD3b8T8=",
          "dtype": "f8"
         },
         "yaxis": "y9"
        },
        {
         "fill": "toself",
         "fillcolor": "rgb(223, 65, 47)",
         "hoverinfo": "text",
         "hoveron": "fills",
         "line": {
          "color": "black",
          "width": 0
         },
         "mode": "lines",
         "showlegend": false,
         "text": "[]",
         "type": "scatter",
         "x": {
          "bdata": "ZcJC17PdIEAAAAAAAAAgQDV7elGYRB5ANXt6UZhEHkAAAAAAAAAgQGXCQtez3SBAZcJC17PdIEA=",
          "dtype": "f8"
         },
         "xaxis": "x9",
         "y": {
          "bdata": "q0xY6Hq2/z9WJix0PdsBQKxMWOh6tv8/rExY6Hq29z+rTFjoerbzP6xMWOh6tvc/q0xY6Hq2/z8=",
          "dtype": "f8"
         },
         "yaxis": "y9"
        },
        {
         "fill": "toself",
         "fillcolor": "rgb(199, 32, 39)",
         "hoverinfo": "text",
         "hoveron": "fills",
         "line": {
          "color": "black",
          "width": 0
         },
         "mode": "lines",
         "showlegend": false,
         "text": "[31, 39]",
         "type": "scatter",
         "x": {
          "bdata": "y4SFrme7H0AAAAAAAAAeQDV7elGYRBxANXt6UZhEHEAAAAAAAAAeQMuEha5nux9Ay4SFrme7H0A=",
          "dtype": "f8"
         },
         "xaxis": "x9",
         "y": {
          "bdata": "gDlCLtzIBkCAOUIu3MgIQIA5Qi7cyAZAgDlCLtzIAkCAOUIu3MgAQIA5Qi7cyAJAgDlCLtzIBkA=",
          "dtype": "f8"
         },
         "yaxis": "y9"
        },
        {
         "fill": "toself",
         "fillcolor": "rgb(235, 89, 58)",
         "hoverinfo": "text",
         "hoveron": "fills",
         "line": {
          "color": "black",
          "width": 0
         },
         "mode": "lines",
         "showlegend": false,
         "text": "[59, 60, 61, 62]",
         "type": "scatter",
         "x": {
          "bdata": "ZcJC17PdIEAAAAAAAAAgQDV7elGYRB5ANXt6UZhEHkAAAAAAAAAgQGXCQtez3SBAZcJC17PdIEA=",
          "dtype": "f8"
         },
         "xaxis": "x9",
         "y": {
          "bdata": "q0xY6Hq2DUCrTFjoerYPQKtMWOh6tg1Aq0xY6Hq2CUCrTFjoerYHQKtMWOh6tglAq0xY6Hq2DUA=",
          "dtype": "f8"
         },
         "yaxis": "y9"
        },
        {
         "fill": "toself",
         "fillcolor": "rgb(165, 0, 38)",
         "hoverinfo": "text",
         "hoveron": "fills",
         "line": {
          "color": "black",
          "width": 0
         },
         "mode": "lines",
         "showlegend": false,
         "text": "[10, 65]",
         "type": "scatter",
         "x": {
          "bdata": "y4SFrme7H0AAAAAAAAAeQDV7elGYRBxANXt6UZhEHEAAAAAAAAAeQMuEha5nux9Ay4SFrme7H0A=",
          "dtype": "f8"
         },
         "xaxis": "x9",
         "y": {
          "bdata": "6y830QxSEkDrLzfRDFITQOsvN9EMUhJA6y830QxSEEDWX26iGaQOQOsvN9EMUhBA6y830QxSEkA=",
          "dtype": "f8"
         },
         "yaxis": "y9"
        },
        {
         "marker": {
          "color": [
           0.050336955088621224,
           1
          ],
          "colorbar": {
           "len": 0.1,
           "thickness": 20,
           "x": 0.38,
           "y": 0.09999999999999998
          },
          "colorscale": [
           [
            0,
            "rgb(165,0,38)"
           ],
           [
            0.1,
            "rgb(215,48,39)"
           ],
           [
            0.2,
            "rgb(244,109,67)"
           ],
           [
            0.3,
            "rgb(253,174,97)"
           ],
           [
            0.4,
            "rgb(254,224,144)"
           ],
           [
            0.5,
            "rgb(255,255,191)"
           ],
           [
            0.6,
            "rgb(224,243,248)"
           ],
           [
            0.7,
            "rgb(171,217,233)"
           ],
           [
            0.8,
            "rgb(116,173,209)"
           ],
           [
            0.9,
            "rgb(69,117,180)"
           ],
           [
            1,
            "rgb(49,54,149)"
           ]
          ],
          "size": 0.001
         },
         "showlegend": false,
         "type": "scatter",
         "x": [
          0,
          0
         ],
         "xaxis": "x9",
         "y": [
          0,
          0
         ],
         "yaxis": "y9"
        },
        {
         "fill": "toself",
         "fillcolor": "rgb(214, 39, 40)",
         "hoverinfo": "text",
         "hoveron": "fills",
         "line": {
          "width": 0
         },
         "mode": "lines",
         "showlegend": false,
         "text": "5",
         "type": "scatter",
         "x": {
          "bdata": "q0xY6Hq22z8HXBQzJqaBPKlMWOh6ttu/rExY6Hq2278Kip5MOXmavKxMWOh6tts/qkxY6Hq22z8=",
          "dtype": "f8"
         },
         "xaxis": "x10",
         "y": {
          "bdata": "////////zz8AAAAAAADgPwMAAAAAANA/+///////z78AAAAAAADgv/r//////8+/AAAAAAAA0D8=",
          "dtype": "f8"
         },
         "yaxis": "y10"
        },
        {
         "hoverinfo": "none",
         "marker": {
          "color": "black"
         },
         "mode": "text",
         "showlegend": false,
         "text": "5",
         "textfont": {
          "color": "black",
          "size": 6
         },
         "type": "scatter",
         "x": [
          -2.7755575615628914e-17
         ],
         "xaxis": "x10",
         "y": [
          5.551115123125783e-17
         ],
         "yaxis": "y10"
        },
        {
         "fill": "toself",
         "fillcolor": "rgb(214, 39, 40)",
         "hoverinfo": "text",
         "hoveron": "fills",
         "line": {
          "width": 0
         },
         "mode": "lines",
         "showlegend": false,
         "text": "0,4",
         "type": "scatter",
         "x": {
          "bdata": "VM2eXhQmsb/////////fv1QmLHQ92+2/ViYsdD3b7b8BAAAAAADgv1DNnl4UJrG/WM2eXhQmsb8=",
          "dtype": "f8"
         },
         "xaxis": "x10",
         "y": {
          "bdata": "VSYsdD3b8T9WJix0Pdv1P1YmLHQ92/E/rExY6Hq24z9WmbDQ9WzXP6xMWOh6tuM/ViYsdD3b8T8=",
          "dtype": "f8"
         },
         "yaxis": "y10"
        },
        {
         "hoverinfo": "none",
         "marker": {
          "color": "black"
         },
         "mode": "text",
         "showlegend": false,
         "text": "0,4",
         "textfont": {
          "color": "black",
          "size": 6
         },
         "type": "scatter",
         "x": [
          -0.5
         ],
         "xaxis": "x10",
         "y": [
          0.8660254037844387
         ],
         "yaxis": "y10"
        },
        {
         "fill": "toself",
         "fillcolor": "rgb(214, 39, 40)",
         "hoverinfo": "text",
         "hoveron": "fills",
         "line": {
          "width": 0
         },
         "mode": "lines",
         "showlegend": false,
         "text": "21,22",
         "type": "scatter",
         "x": {
          "bdata": "q0xY6Hq22z8HXBQzJqaBPKlMWOh6ttu/rExY6Hq2278Kip5MOXmavKxMWOh6tts/qkxY6Hq22z8=",
          "dtype": "f8"
         },
         "xaxis": "x10",
         "y": {
          "bdata": "q0xY6Hq2/z9WJix0PdsBQKxMWOh6tv8/rExY6Hq29z+rTFjoerbzP6xMWOh6tvc/q0xY6Hq2/z8=",
          "dtype": "f8"
         },
         "yaxis": "y10"
        },
        {
         "hoverinfo": "none",
         "marker": {
          "color": "black"
         },
         "mode": "text",
         "showlegend": false,
         "text": "21,22",
         "textfont": {
          "color": "black",
          "size": 6
         },
         "type": "scatter",
         "x": [
          -2.7755575615628914e-17
         ],
         "xaxis": "x10",
         "y": [
          1.7320508075688776
         ],
         "yaxis": "y10"
        },
        {
         "fill": "toself",
         "fillcolor": "rgb(214, 39, 40)",
         "hoverinfo": "text",
         "hoveron": "fills",
         "line": {
          "width": 0
         },
         "mode": "lines",
         "showlegend": false,
         "text": "83,85,87<br>89",
         "type": "scatter",
         "x": {
          "bdata": "VM2eXhQmsb/////////fv1QmLHQ92+2/ViYsdD3b7b8BAAAAAADgv1DNnl4UJrG/WM2eXhQmsb8=",
          "dtype": "f8"
         },
         "xaxis": "x10",
         "y": {
          "bdata": "gDlCLtzIBkCAOUIu3MgIQIA5Qi7cyAZAgDlCLtzIAkCAOUIu3MgAQIA5Qi7cyAJAgDlCLtzIBkA=",
          "dtype": "f8"
         },
         "yaxis": "y10"
        },
        {
         "hoverinfo": "none",
         "marker": {
          "color": "black"
         },
         "mode": "text",
         "showlegend": false,
         "text": "83,85,87<br>89",
         "textfont": {
          "color": "black",
          "size": 6
         },
         "type": "scatter",
         "x": [
          -0.5
         ],
         "xaxis": "x10",
         "y": [
          2.598076211353316
         ],
         "yaxis": "y10"
        },
        {
         "fill": "toself",
         "fillcolor": "rgb(255, 127, 14)",
         "hoverinfo": "text",
         "hoveron": "fills",
         "line": {
          "width": 0
         },
         "mode": "lines",
         "showlegend": false,
         "text": "",
         "type": "scatter",
         "x": {
          "bdata": "q0xY6Hq22z8HXBQzJqaBPKlMWOh6ttu/rExY6Hq2278Kip5MOXmavKxMWOh6tts/qkxY6Hq22z8=",
          "dtype": "f8"
         },
         "xaxis": "x10",
         "y": {
          "bdata": "q0xY6Hq2DUCrTFjoerYPQKtMWOh6tg1Aq0xY6Hq2CUCrTFjoerYHQKtMWOh6tglAq0xY6Hq2DUA=",
          "dtype": "f8"
         },
         "yaxis": "y10"
        },
        {
         "hoverinfo": "none",
         "marker": {
          "color": "black"
         },
         "mode": "text",
         "showlegend": false,
         "text": "",
         "textfont": {
          "color": "black",
          "size": 6
         },
         "type": "scatter",
         "x": [
          -2.7755575615628914e-17
         ],
         "xaxis": "x10",
         "y": [
          3.464101615137755
         ],
         "yaxis": "y10"
        },
        {
         "fill": "toself",
         "fillcolor": "rgb(255, 127, 14)",
         "hoverinfo": "text",
         "hoveron": "fills",
         "line": {
          "width": 0
         },
         "mode": "lines",
         "showlegend": false,
         "text": "40,43,46<br>92",
         "type": "scatter",
         "x": {
          "bdata": "VM2eXhQmsb/////////fv1QmLHQ92+2/ViYsdD3b7b8BAAAAAADgv1DNnl4UJrG/WM2eXhQmsb8=",
          "dtype": "f8"
         },
         "xaxis": "x10",
         "y": {
          "bdata": "6y830QxSEkDrLzfRDFITQOsvN9EMUhJA6y830QxSEEDWX26iGaQOQOsvN9EMUhBA6y830QxSEkA=",
          "dtype": "f8"
         },
         "yaxis": "y10"
        },
        {
         "hoverinfo": "none",
         "marker": {
          "color": "black"
         },
         "mode": "text",
         "showlegend": false,
         "text": "40,43,46<br>92",
         "textfont": {
          "color": "black",
          "size": 6
         },
         "type": "scatter",
         "x": [
          -0.5
         ],
         "xaxis": "x10",
         "y": [
          4.330127018922194
         ],
         "yaxis": "y10"
        },
        {
         "fill": "toself",
         "fillcolor": "rgb(214, 39, 40)",
         "hoverinfo": "text",
         "hoveron": "fills",
         "line": {
          "width": 0
         },
         "mode": "lines",
         "showlegend": false,
         "text": "2,3,6",
         "type": "scatter",
         "x": {
          "bdata": "KxMWup7t9j8AAAAAAADwP6zZ04vCJOI/qtnTi8Ik4j/////////vPysTFrqe7fY/KhMWup7t9j8=",
          "dtype": "f8"
         },
         "xaxis": "x10",
         "y": {
          "bdata": "////////zz8AAAAAAADgPwMAAAAAANA/+///////z78AAAAAAADgv/r//////8+/AAAAAAAA0D8=",
          "dtype": "f8"
         },
         "yaxis": "y10"
        },
        {
         "hoverinfo": "none",
         "marker": {
          "color": "black"
         },
         "mode": "text",
         "showlegend": false,
         "text": "2,3,6",
         "textfont": {
          "color": "black",
          "size": 6
         },
         "type": "scatter",
         "x": [
          1
         ],
         "xaxis": "x10",
         "y": [
          5.551115123125783e-17
         ],
         "yaxis": "y10"
        },
        {
         "fill": "toself",
         "fillcolor": "rgb(214, 39, 40)",
         "hoverinfo": "text",
         "hoveron": "fills",
         "line": {
          "width": 0
         },
         "mode": "lines",
         "showlegend": false,
         "text": "9,50",
         "type": "scatter",
         "x": {
          "bdata": "ViYsdD3b7T8AAAAAAADgP1zNnl4UJrE/UM2eXhQmsT/+///////fP1YmLHQ92+0/VSYsdD3b7T8=",
          "dtype": "f8"
         },
         "xaxis": "x10",
         "y": {
          "bdata": "VSYsdD3b8T9WJix0Pdv1P1YmLHQ92/E/rExY6Hq24z9WmbDQ9WzXP6xMWOh6tuM/ViYsdD3b8T8=",
          "dtype": "f8"
         },
         "yaxis": "y10"
        },
        {
         "hoverinfo": "none",
         "marker": {
          "color": "black"
         },
         "mode": "text",
         "showlegend": false,
         "text": "9,50",
         "textfont": {
          "color": "black",
          "size": 6
         },
         "type": "scatter",
         "x": [
          0.5
         ],
         "xaxis": "x10",
         "y": [
          0.8660254037844387
         ],
         "yaxis": "y10"
        },
        {
         "fill": "toself",
         "fillcolor": "rgb(214, 39, 40)",
         "hoverinfo": "text",
         "hoveron": "fills",
         "line": {
          "width": 0
         },
         "mode": "lines",
         "showlegend": false,
         "text": "24,25,26",
         "type": "scatter",
         "x": {
          "bdata": "KxMWup7t9j8AAAAAAADwP6zZ04vCJOI/qtnTi8Ik4j/////////vPysTFrqe7fY/KhMWup7t9j8=",
          "dtype": "f8"
         },
         "xaxis": "x10",
         "y": {
          "bdata": "q0xY6Hq2/z9WJix0PdsBQKxMWOh6tv8/rExY6Hq29z+rTFjoerbzP6xMWOh6tvc/q0xY6Hq2/z8=",
          "dtype": "f8"
         },
         "yaxis": "y10"
        },
        {
         "hoverinfo": "none",
         "marker": {
          "color": "black"
         },
         "mode": "text",
         "showlegend": false,
         "text": "24,25,26",
         "textfont": {
          "color": "black",
          "size": 6
         },
         "type": "scatter",
         "x": [
          1
         ],
         "xaxis": "x10",
         "y": [
          1.7320508075688776
         ],
         "yaxis": "y10"
        },
        {
         "fill": "toself",
         "fillcolor": "rgb(214, 39, 40)",
         "hoverinfo": "text",
         "hoveron": "fills",
         "line": {
          "width": 0
         },
         "mode": "lines",
         "showlegend": false,
         "text": "53,79,82<br>84",
         "type": "scatter",
         "x": {
          "bdata": "ViYsdD3b7T8AAAAAAADgP1zNnl4UJrE/UM2eXhQmsT/+///////fP1YmLHQ92+0/VSYsdD3b7T8=",
          "dtype": "f8"
         },
         "xaxis": "x10",
         "y": {
          "bdata": "gDlCLtzIBkCAOUIu3MgIQIA5Qi7cyAZAgDlCLtzIAkCAOUIu3MgAQIA5Qi7cyAJAgDlCLtzIBkA=",
          "dtype": "f8"
         },
         "yaxis": "y10"
        },
        {
         "hoverinfo": "none",
         "marker": {
          "color": "black"
         },
         "mode": "text",
         "showlegend": false,
         "text": "53,79,82<br>84",
         "textfont": {
          "color": "black",
          "size": 6
         },
         "type": "scatter",
         "x": [
          0.5
         ],
         "xaxis": "x10",
         "y": [
          2.598076211353316
         ],
         "yaxis": "y10"
        },
        {
         "fill": "toself",
         "fillcolor": "rgb(255, 127, 14)",
         "hoverinfo": "text",
         "hoveron": "fills",
         "line": {
          "width": 0
         },
         "mode": "lines",
         "showlegend": false,
         "text": "",
         "type": "scatter",
         "x": {
          "bdata": "KxMWup7t9j8AAAAAAADwP6zZ04vCJOI/qtnTi8Ik4j/////////vPysTFrqe7fY/KhMWup7t9j8=",
          "dtype": "f8"
         },
         "xaxis": "x10",
         "y": {
          "bdata": "q0xY6Hq2DUCrTFjoerYPQKtMWOh6tg1Aq0xY6Hq2CUCrTFjoerYHQKtMWOh6tglAq0xY6Hq2DUA=",
          "dtype": "f8"
         },
         "yaxis": "y10"
        },
        {
         "hoverinfo": "none",
         "marker": {
          "color": "black"
         },
         "mode": "text",
         "showlegend": false,
         "text": "",
         "textfont": {
          "color": "black",
          "size": 6
         },
         "type": "scatter",
         "x": [
          1
         ],
         "xaxis": "x10",
         "y": [
          3.464101615137755
         ],
         "yaxis": "y10"
        },
        {
         "fill": "toself",
         "fillcolor": "rgb(255, 127, 14)",
         "hoverinfo": "text",
         "hoveron": "fills",
         "line": {
          "width": 0
         },
         "mode": "lines",
         "showlegend": false,
         "text": "42,44,45",
         "type": "scatter",
         "x": {
          "bdata": "ViYsdD3b7T8AAAAAAADgP1zNnl4UJrE/UM2eXhQmsT/+///////fP1YmLHQ92+0/VSYsdD3b7T8=",
          "dtype": "f8"
         },
         "xaxis": "x10",
         "y": {
          "bdata": "6y830QxSEkDrLzfRDFITQOsvN9EMUhJA6y830QxSEEDWX26iGaQOQOsvN9EMUhBA6y830QxSEkA=",
          "dtype": "f8"
         },
         "yaxis": "y10"
        },
        {
         "hoverinfo": "none",
         "marker": {
          "color": "black"
         },
         "mode": "text",
         "showlegend": false,
         "text": "42,44,45",
         "textfont": {
          "color": "black",
          "size": 6
         },
         "type": "scatter",
         "x": [
          0.5
         ],
         "xaxis": "x10",
         "y": [
          4.330127018922194
         ],
         "yaxis": "y10"
        },
        {
         "fill": "toself",
         "fillcolor": "rgb(214, 39, 40)",
         "hoverinfo": "text",
         "hoveron": "fills",
         "line": {
          "width": 0
         },
         "mode": "lines",
         "showlegend": false,
         "text": "",
         "type": "scatter",
         "x": {
          "bdata": "lQkLXc92A0AAAAAAAAAAQNbs6UVhEvk/1ezpRWES+T8AAAAAAAAAQJYJC13PdgNAlQkLXc92A0A=",
          "dtype": "f8"
         },
         "xaxis": "x10",
         "y": {
          "bdata": "////////zz8AAAAAAADgPwMAAAAAANA/+///////z78AAAAAAADgv/r//////8+/AAAAAAAA0D8=",
          "dtype": "f8"
         },
         "yaxis": "y10"
        },
        {
         "hoverinfo": "none",
         "marker": {
          "color": "black"
         },
         "mode": "text",
         "showlegend": false,
         "text": "",
         "textfont": {
          "color": "black",
          "size": 6
         },
         "type": "scatter",
         "x": [
          2
         ],
         "xaxis": "x10",
         "y": [
          5.551115123125783e-17
         ],
         "yaxis": "y10"
        },
        {
         "fill": "toself",
         "fillcolor": "rgb(214, 39, 40)",
         "hoverinfo": "text",
         "hoveron": "fills",
         "line": {
          "width": 0
         },
         "mode": "lines",
         "showlegend": false,
         "text": "1,7,8<br>52",
         "type": "scatter",
         "x": {
          "bdata": "KxMWup7t/j8AAAAAAAD4P9bs6UVhEvE/1ezpRWES8T8AAAAAAAD4PysTFrqe7f4/KhMWup7t/j8=",
          "dtype": "f8"
         },
         "xaxis": "x10",
         "y": {
          "bdata": "VSYsdD3b8T9WJix0Pdv1P1YmLHQ92/E/rExY6Hq24z9WmbDQ9WzXP6xMWOh6tuM/ViYsdD3b8T8=",
          "dtype": "f8"
         },
         "yaxis": "y10"
        },
        {
         "hoverinfo": "none",
         "marker": {
          "color": "black"
         },
         "mode": "text",
         "showlegend": false,
         "text": "1,7,8<br>52",
         "textfont": {
          "color": "black",
          "size": 6
         },
         "type": "scatter",
         "x": [
          1.5
         ],
         "xaxis": "x10",
         "y": [
          0.8660254037844387
         ],
         "yaxis": "y10"
        },
        {
         "fill": "toself",
         "fillcolor": "rgb(214, 39, 40)",
         "hoverinfo": "text",
         "hoveron": "fills",
         "line": {
          "width": 0
         },
         "mode": "lines",
         "showlegend": false,
         "text": "57,81",
         "type": "scatter",
         "x": {
          "bdata": "lQkLXc92A0AAAAAAAAAAQNbs6UVhEvk/1ezpRWES+T8AAAAAAAAAQJYJC13PdgNAlQkLXc92A0A=",
          "dtype": "f8"
         },
         "xaxis": "x10",
         "y": {
          "bdata": "q0xY6Hq2/z9WJix0PdsBQKxMWOh6tv8/rExY6Hq29z+rTFjoerbzP6xMWOh6tvc/q0xY6Hq2/z8=",
          "dtype": "f8"
         },
         "yaxis": "y10"
        },
        {
         "hoverinfo": "none",
         "marker": {
          "color": "black"
         },
         "mode": "text",
         "showlegend": false,
         "text": "57,81",
         "textfont": {
          "color": "black",
          "size": 6
         },
         "type": "scatter",
         "x": [
          2
         ],
         "xaxis": "x10",
         "y": [
          1.7320508075688776
         ],
         "yaxis": "y10"
        },
        {
         "fill": "toself",
         "fillcolor": "rgb(214, 39, 40)",
         "hoverinfo": "text",
         "hoveron": "fills",
         "line": {
          "width": 0
         },
         "mode": "lines",
         "showlegend": false,
         "text": "80,88",
         "type": "scatter",
         "x": {
          "bdata": "KxMWup7t/j8AAAAAAAD4P9bs6UVhEvE/1ezpRWES8T8AAAAAAAD4PysTFrqe7f4/KhMWup7t/j8=",
          "dtype": "f8"
         },
         "xaxis": "x10",
         "y": {
          "bdata": "gDlCLtzIBkCAOUIu3MgIQIA5Qi7cyAZAgDlCLtzIAkCAOUIu3MgAQIA5Qi7cyAJAgDlCLtzIBkA=",
          "dtype": "f8"
         },
         "yaxis": "y10"
        },
        {
         "hoverinfo": "none",
         "marker": {
          "color": "black"
         },
         "mode": "text",
         "showlegend": false,
         "text": "80,88",
         "textfont": {
          "color": "black",
          "size": 6
         },
         "type": "scatter",
         "x": [
          1.5
         ],
         "xaxis": "x10",
         "y": [
          2.598076211353316
         ],
         "yaxis": "y10"
        },
        {
         "fill": "toself",
         "fillcolor": "rgb(255, 127, 14)",
         "hoverinfo": "text",
         "hoveron": "fills",
         "line": {
          "width": 0
         },
         "mode": "lines",
         "showlegend": false,
         "text": "",
         "type": "scatter",
         "x": {
          "bdata": "lQkLXc92A0AAAAAAAAAAQNbs6UVhEvk/1ezpRWES+T8AAAAAAAAAQJYJC13PdgNAlQkLXc92A0A=",
          "dtype": "f8"
         },
         "xaxis": "x10",
         "y": {
          "bdata": "q0xY6Hq2DUCrTFjoerYPQKtMWOh6tg1Aq0xY6Hq2CUCrTFjoerYHQKtMWOh6tglAq0xY6Hq2DUA=",
          "dtype": "f8"
         },
         "yaxis": "y10"
        },
        {
         "hoverinfo": "none",
         "marker": {
          "color": "black"
         },
         "mode": "text",
         "showlegend": false,
         "text": "",
         "textfont": {
          "color": "black",
          "size": 6
         },
         "type": "scatter",
         "x": [
          2
         ],
         "xaxis": "x10",
         "y": [
          3.464101615137755
         ],
         "yaxis": "y10"
        },
        {
         "fill": "toself",
         "fillcolor": "rgb(255, 127, 14)",
         "hoverinfo": "text",
         "hoveron": "fills",
         "line": {
          "width": 0
         },
         "mode": "lines",
         "showlegend": false,
         "text": "",
         "type": "scatter",
         "x": {
          "bdata": "KxMWup7t/j8AAAAAAAD4P9bs6UVhEvE/1ezpRWES8T8AAAAAAAD4PysTFrqe7f4/KhMWup7t/j8=",
          "dtype": "f8"
         },
         "xaxis": "x10",
         "y": {
          "bdata": "6y830QxSEkDrLzfRDFITQOsvN9EMUhJA6y830QxSEEDWX26iGaQOQOsvN9EMUhBA6y830QxSEkA=",
          "dtype": "f8"
         },
         "yaxis": "y10"
        },
        {
         "hoverinfo": "none",
         "marker": {
          "color": "black"
         },
         "mode": "text",
         "showlegend": false,
         "text": "",
         "textfont": {
          "color": "black",
          "size": 6
         },
         "type": "scatter",
         "x": [
          1.5
         ],
         "xaxis": "x10",
         "y": [
          4.330127018922194
         ],
         "yaxis": "y10"
        },
        {
         "fill": "toself",
         "fillcolor": "rgb(148, 103, 189)",
         "hoverinfo": "text",
         "hoveron": "fills",
         "line": {
          "width": 0
         },
         "mode": "lines",
         "showlegend": false,
         "text": "47,48,49<br>51",
         "type": "scatter",
         "x": {
          "bdata": "lQkLXc92C0AAAAAAAAAIQGv29KIwiQRAavb0ojCJBEAAAAAAAAAIQJYJC13PdgtAlQkLXc92C0A=",
          "dtype": "f8"
         },
         "xaxis": "x10",
         "y": {
          "bdata": "////////zz8AAAAAAADgPwMAAAAAANA/+///////z78AAAAAAADgv/r//////8+/AAAAAAAA0D8=",
          "dtype": "f8"
         },
         "yaxis": "y10"
        },
        {
         "hoverinfo": "none",
         "marker": {
          "color": "black"
         },
         "mode": "text",
         "showlegend": false,
         "text": "47,48,49<br>51",
         "textfont": {
          "color": "black",
          "size": 6
         },
         "type": "scatter",
         "x": [
          3
         ],
         "xaxis": "x10",
         "y": [
          5.551115123125783e-17
         ],
         "yaxis": "y10"
        },
        {
         "fill": "toself",
         "fillcolor": "rgb(214, 39, 40)",
         "hoverinfo": "text",
         "hoveron": "fills",
         "line": {
          "width": 0
         },
         "mode": "lines",
         "showlegend": false,
         "text": "41",
         "type": "scatter",
         "x": {
          "bdata": "lQkLXc92B0AAAAAAAAAEQGv29KIwiQBAavb0ojCJAEAAAAAAAAAEQJYJC13PdgdAlQkLXc92B0A=",
          "dtype": "f8"
         },
         "xaxis": "x10",
         "y": {
          "bdata": "VSYsdD3b8T9WJix0Pdv1P1YmLHQ92/E/rExY6Hq24z9WmbDQ9WzXP6xMWOh6tuM/ViYsdD3b8T8=",
          "dtype": "f8"
         },
         "yaxis": "y10"
        },
        {
         "hoverinfo": "none",
         "marker": {
          "color": "black"
         },
         "mode": "text",
         "showlegend": false,
         "text": "41",
         "textfont": {
          "color": "black",
          "size": 6
         },
         "type": "scatter",
         "x": [
          2.5
         ],
         "xaxis": "x10",
         "y": [
          0.8660254037844387
         ],
         "yaxis": "y10"
        },
        {
         "fill": "toself",
         "fillcolor": "rgb(148, 103, 189)",
         "hoverinfo": "text",
         "hoveron": "fills",
         "line": {
          "width": 0
         },
         "mode": "lines",
         "showlegend": false,
         "text": "",
         "type": "scatter",
         "x": {
          "bdata": "lQkLXc92C0AAAAAAAAAIQGv29KIwiQRAavb0ojCJBEAAAAAAAAAIQJYJC13PdgtAlQkLXc92C0A=",
          "dtype": "f8"
         },
         "xaxis": "x10",
         "y": {
          "bdata": "q0xY6Hq2/z9WJix0PdsBQKxMWOh6tv8/rExY6Hq29z+rTFjoerbzP6xMWOh6tvc/q0xY6Hq2/z8=",
          "dtype": "f8"
         },
         "yaxis": "y10"
        },
        {
         "hoverinfo": "none",
         "marker": {
          "color": "black"
         },
         "mode": "text",
         "showlegend": false,
         "text": "",
         "textfont": {
          "color": "black",
          "size": 6
         },
         "type": "scatter",
         "x": [
          3
         ],
         "xaxis": "x10",
         "y": [
          1.7320508075688776
         ],
         "yaxis": "y10"
        },
        {
         "fill": "toself",
         "fillcolor": "rgb(148, 103, 189)",
         "hoverinfo": "text",
         "hoveron": "fills",
         "line": {
          "width": 0
         },
         "mode": "lines",
         "showlegend": false,
         "text": "63",
         "type": "scatter",
         "x": {
          "bdata": "lQkLXc92B0AAAAAAAAAEQGv29KIwiQBAavb0ojCJAEAAAAAAAAAEQJYJC13PdgdAlQkLXc92B0A=",
          "dtype": "f8"
         },
         "xaxis": "x10",
         "y": {
          "bdata": "gDlCLtzIBkCAOUIu3MgIQIA5Qi7cyAZAgDlCLtzIAkCAOUIu3MgAQIA5Qi7cyAJAgDlCLtzIBkA=",
          "dtype": "f8"
         },
         "yaxis": "y10"
        },
        {
         "hoverinfo": "none",
         "marker": {
          "color": "black"
         },
         "mode": "text",
         "showlegend": false,
         "text": "63",
         "textfont": {
          "color": "black",
          "size": 6
         },
         "type": "scatter",
         "x": [
          2.5
         ],
         "xaxis": "x10",
         "y": [
          2.598076211353316
         ],
         "yaxis": "y10"
        },
        {
         "fill": "toself",
         "fillcolor": "rgb(255, 127, 14)",
         "hoverinfo": "text",
         "hoveron": "fills",
         "line": {
          "width": 0
         },
         "mode": "lines",
         "showlegend": false,
         "text": "",
         "type": "scatter",
         "x": {
          "bdata": "lQkLXc92C0AAAAAAAAAIQGv29KIwiQRAavb0ojCJBEAAAAAAAAAIQJYJC13PdgtAlQkLXc92C0A=",
          "dtype": "f8"
         },
         "xaxis": "x10",
         "y": {
          "bdata": "q0xY6Hq2DUCrTFjoerYPQKtMWOh6tg1Aq0xY6Hq2CUCrTFjoerYHQKtMWOh6tglAq0xY6Hq2DUA=",
          "dtype": "f8"
         },
         "yaxis": "y10"
        },
        {
         "hoverinfo": "none",
         "marker": {
          "color": "black"
         },
         "mode": "text",
         "showlegend": false,
         "text": "",
         "textfont": {
          "color": "black",
          "size": 6
         },
         "type": "scatter",
         "x": [
          3
         ],
         "xaxis": "x10",
         "y": [
          3.464101615137755
         ],
         "yaxis": "y10"
        },
        {
         "fill": "toself",
         "fillcolor": "rgb(44, 160, 44)",
         "hoverinfo": "text",
         "hoveron": "fills",
         "line": {
          "width": 0
         },
         "mode": "lines",
         "showlegend": false,
         "text": "37,38",
         "type": "scatter",
         "x": {
          "bdata": "lQkLXc92B0AAAAAAAAAEQGv29KIwiQBAavb0ojCJAEAAAAAAAAAEQJYJC13PdgdAlQkLXc92B0A=",
          "dtype": "f8"
         },
         "xaxis": "x10",
         "y": {
          "bdata": "6y830QxSEkDrLzfRDFITQOsvN9EMUhJA6y830QxSEEDWX26iGaQOQOsvN9EMUhBA6y830QxSEkA=",
          "dtype": "f8"
         },
         "yaxis": "y10"
        },
        {
         "hoverinfo": "none",
         "marker": {
          "color": "black"
         },
         "mode": "text",
         "showlegend": false,
         "text": "37,38",
         "textfont": {
          "color": "black",
          "size": 6
         },
         "type": "scatter",
         "x": [
          2.5
         ],
         "xaxis": "x10",
         "y": [
          4.330127018922194
         ],
         "yaxis": "y10"
        },
        {
         "fill": "toself",
         "fillcolor": "rgb(148, 103, 189)",
         "hoverinfo": "text",
         "hoveron": "fills",
         "line": {
          "width": 0
         },
         "mode": "lines",
         "showlegend": false,
         "text": "55",
         "type": "scatter",
         "x": {
          "bdata": "y4SFrme7EUAAAAAAAAAQQGv29KIwiQxAavb0ojCJDEAAAAAAAAAQQMuEha5nuxFAy4SFrme7EUA=",
          "dtype": "f8"
         },
         "xaxis": "x10",
         "y": {
          "bdata": "////////zz8AAAAAAADgPwMAAAAAANA/+///////z78AAAAAAADgv/r//////8+/AAAAAAAA0D8=",
          "dtype": "f8"
         },
         "yaxis": "y10"
        },
        {
         "hoverinfo": "none",
         "marker": {
          "color": "black"
         },
         "mode": "text",
         "showlegend": false,
         "text": "55",
         "textfont": {
          "color": "black",
          "size": 6
         },
         "type": "scatter",
         "x": [
          4
         ],
         "xaxis": "x10",
         "y": [
          5.551115123125783e-17
         ],
         "yaxis": "y10"
        },
        {
         "fill": "toself",
         "fillcolor": "rgb(148, 103, 189)",
         "hoverinfo": "text",
         "hoveron": "fills",
         "line": {
          "width": 0
         },
         "mode": "lines",
         "showlegend": false,
         "text": "15,16,17<br>18,19,20",
         "type": "scatter",
         "x": {
          "bdata": "lQkLXc92D0AAAAAAAAAMQGv29KIwiQhAavb0ojCJCEAAAAAAAAAMQJYJC13Pdg9AlQkLXc92D0A=",
          "dtype": "f8"
         },
         "xaxis": "x10",
         "y": {
          "bdata": "VSYsdD3b8T9WJix0Pdv1P1YmLHQ92/E/rExY6Hq24z9WmbDQ9WzXP6xMWOh6tuM/ViYsdD3b8T8=",
          "dtype": "f8"
         },
         "yaxis": "y10"
        },
        {
         "hoverinfo": "none",
         "marker": {
          "color": "black"
         },
         "mode": "text",
         "showlegend": false,
         "text": "15,16,17<br>18,19,20",
         "textfont": {
          "color": "black",
          "size": 6
         },
         "type": "scatter",
         "x": [
          3.5
         ],
         "xaxis": "x10",
         "y": [
          0.8660254037844387
         ],
         "yaxis": "y10"
        },
        {
         "fill": "toself",
         "fillcolor": "rgb(148, 103, 189)",
         "hoverinfo": "text",
         "hoveron": "fills",
         "line": {
          "width": 0
         },
         "mode": "lines",
         "showlegend": false,
         "text": "23,78,90",
         "type": "scatter",
         "x": {
          "bdata": "y4SFrme7EUAAAAAAAAAQQGv29KIwiQxAavb0ojCJDEAAAAAAAAAQQMuEha5nuxFAy4SFrme7EUA=",
          "dtype": "f8"
         },
         "xaxis": "x10",
         "y": {
          "bdata": "q0xY6Hq2/z9WJix0PdsBQKxMWOh6tv8/rExY6Hq29z+rTFjoerbzP6xMWOh6tvc/q0xY6Hq2/z8=",
          "dtype": "f8"
         },
         "yaxis": "y10"
        },
        {
         "hoverinfo": "none",
         "marker": {
          "color": "black"
         },
         "mode": "text",
         "showlegend": false,
         "text": "23,78,90",
         "textfont": {
          "color": "black",
          "size": 6
         },
         "type": "scatter",
         "x": [
          4
         ],
         "xaxis": "x10",
         "y": [
          1.7320508075688776
         ],
         "yaxis": "y10"
        },
        {
         "fill": "toself",
         "fillcolor": "rgb(148, 103, 189)",
         "hoverinfo": "text",
         "hoveron": "fills",
         "line": {
          "width": 0
         },
         "mode": "lines",
         "showlegend": false,
         "text": "27,29,36",
         "type": "scatter",
         "x": {
          "bdata": "lQkLXc92D0AAAAAAAAAMQGv29KIwiQhAavb0ojCJCEAAAAAAAAAMQJYJC13Pdg9AlQkLXc92D0A=",
          "dtype": "f8"
         },
         "xaxis": "x10",
         "y": {
          "bdata": "gDlCLtzIBkCAOUIu3MgIQIA5Qi7cyAZAgDlCLtzIAkCAOUIu3MgAQIA5Qi7cyAJAgDlCLtzIBkA=",
          "dtype": "f8"
         },
         "yaxis": "y10"
        },
        {
         "hoverinfo": "none",
         "marker": {
          "color": "black"
         },
         "mode": "text",
         "showlegend": false,
         "text": "27,29,36",
         "textfont": {
          "color": "black",
          "size": 6
         },
         "type": "scatter",
         "x": [
          3.5
         ],
         "xaxis": "x10",
         "y": [
          2.598076211353316
         ],
         "yaxis": "y10"
        },
        {
         "fill": "toself",
         "fillcolor": "rgb(148, 103, 189)",
         "hoverinfo": "text",
         "hoveron": "fills",
         "line": {
          "width": 0
         },
         "mode": "lines",
         "showlegend": false,
         "text": "64",
         "type": "scatter",
         "x": {
          "bdata": "y4SFrme7EUAAAAAAAAAQQGv29KIwiQxAavb0ojCJDEAAAAAAAAAQQMuEha5nuxFAy4SFrme7EUA=",
          "dtype": "f8"
         },
         "xaxis": "x10",
         "y": {
          "bdata": "q0xY6Hq2DUCrTFjoerYPQKtMWOh6tg1Aq0xY6Hq2CUCrTFjoerYHQKtMWOh6tglAq0xY6Hq2DUA=",
          "dtype": "f8"
         },
         "yaxis": "y10"
        },
        {
         "hoverinfo": "none",
         "marker": {
          "color": "black"
         },
         "mode": "text",
         "showlegend": false,
         "text": "64",
         "textfont": {
          "color": "black",
          "size": 6
         },
         "type": "scatter",
         "x": [
          4
         ],
         "xaxis": "x10",
         "y": [
          3.464101615137755
         ],
         "yaxis": "y10"
        },
        {
         "fill": "toself",
         "fillcolor": "rgb(255, 127, 14)",
         "hoverinfo": "text",
         "hoveron": "fills",
         "line": {
          "width": 0
         },
         "mode": "lines",
         "showlegend": false,
         "text": "",
         "type": "scatter",
         "x": {
          "bdata": "lQkLXc92D0AAAAAAAAAMQGv29KIwiQhAavb0ojCJCEAAAAAAAAAMQJYJC13Pdg9AlQkLXc92D0A=",
          "dtype": "f8"
         },
         "xaxis": "x10",
         "y": {
          "bdata": "6y830QxSEkDrLzfRDFITQOsvN9EMUhJA6y830QxSEEDWX26iGaQOQOsvN9EMUhBA6y830QxSEkA=",
          "dtype": "f8"
         },
         "yaxis": "y10"
        },
        {
         "hoverinfo": "none",
         "marker": {
          "color": "black"
         },
         "mode": "text",
         "showlegend": false,
         "text": "",
         "textfont": {
          "color": "black",
          "size": 6
         },
         "type": "scatter",
         "x": [
          3.5
         ],
         "xaxis": "x10",
         "y": [
          4.330127018922194
         ],
         "yaxis": "y10"
        },
        {
         "fill": "toself",
         "fillcolor": "rgb(148, 103, 189)",
         "hoverinfo": "text",
         "hoveron": "fills",
         "line": {
          "width": 0
         },
         "mode": "lines",
         "showlegend": false,
         "text": "95,97",
         "type": "scatter",
         "x": {
          "bdata": "y4SFrme7FUAAAAAAAAAUQDV7elGYRBJANXt6UZhEEkAAAAAAAAAUQMuEha5nuxVAy4SFrme7FUA=",
          "dtype": "f8"
         },
         "xaxis": "x10",
         "y": {
          "bdata": "////////zz8AAAAAAADgPwMAAAAAANA/+///////z78AAAAAAADgv/r//////8+/AAAAAAAA0D8=",
          "dtype": "f8"
         },
         "yaxis": "y10"
        },
        {
         "hoverinfo": "none",
         "marker": {
          "color": "black"
         },
         "mode": "text",
         "showlegend": false,
         "text": "95,97",
         "textfont": {
          "color": "black",
          "size": 6
         },
         "type": "scatter",
         "x": [
          5
         ],
         "xaxis": "x10",
         "y": [
          5.551115123125783e-17
         ],
         "yaxis": "y10"
        },
        {
         "fill": "toself",
         "fillcolor": "rgb(148, 103, 189)",
         "hoverinfo": "text",
         "hoveron": "fills",
         "line": {
          "width": 0
         },
         "mode": "lines",
         "showlegend": false,
         "text": "94",
         "type": "scatter",
         "x": {
          "bdata": "y4SFrme7E0AAAAAAAAASQDV7elGYRBBANXt6UZhEEEAAAAAAAAASQMuEha5nuxNAy4SFrme7E0A=",
          "dtype": "f8"
         },
         "xaxis": "x10",
         "y": {
          "bdata": "VSYsdD3b8T9WJix0Pdv1P1YmLHQ92/E/rExY6Hq24z9WmbDQ9WzXP6xMWOh6tuM/ViYsdD3b8T8=",
          "dtype": "f8"
         },
         "yaxis": "y10"
        },
        {
         "hoverinfo": "none",
         "marker": {
          "color": "black"
         },
         "mode": "text",
         "showlegend": false,
         "text": "94",
         "textfont": {
          "color": "black",
          "size": 6
         },
         "type": "scatter",
         "x": [
          4.5
         ],
         "xaxis": "x10",
         "y": [
          0.8660254037844387
         ],
         "yaxis": "y10"
        },
        {
         "fill": "toself",
         "fillcolor": "rgb(148, 103, 189)",
         "hoverinfo": "text",
         "hoveron": "fills",
         "line": {
          "width": 0
         },
         "mode": "lines",
         "showlegend": false,
         "text": "33,34",
         "type": "scatter",
         "x": {
          "bdata": "y4SFrme7FUAAAAAAAAAUQDV7elGYRBJANXt6UZhEEkAAAAAAAAAUQMuEha5nuxVAy4SFrme7FUA=",
          "dtype": "f8"
         },
         "xaxis": "x10",
         "y": {
          "bdata": "q0xY6Hq2/z9WJix0PdsBQKxMWOh6tv8/rExY6Hq29z+rTFjoerbzP6xMWOh6tvc/q0xY6Hq2/z8=",
          "dtype": "f8"
         },
         "yaxis": "y10"
        },
        {
         "hoverinfo": "none",
         "marker": {
          "color": "black"
         },
         "mode": "text",
         "showlegend": false,
         "text": "33,34",
         "textfont": {
          "color": "black",
          "size": 6
         },
         "type": "scatter",
         "x": [
          5
         ],
         "xaxis": "x10",
         "y": [
          1.7320508075688776
         ],
         "yaxis": "y10"
        },
        {
         "fill": "toself",
         "fillcolor": "rgb(148, 103, 189)",
         "hoverinfo": "text",
         "hoveron": "fills",
         "line": {
          "width": 0
         },
         "mode": "lines",
         "showlegend": false,
         "text": "28",
         "type": "scatter",
         "x": {
          "bdata": "y4SFrme7E0AAAAAAAAASQDV7elGYRBBANXt6UZhEEEAAAAAAAAASQMuEha5nuxNAy4SFrme7E0A=",
          "dtype": "f8"
         },
         "xaxis": "x10",
         "y": {
          "bdata": "gDlCLtzIBkCAOUIu3MgIQIA5Qi7cyAZAgDlCLtzIAkCAOUIu3MgAQIA5Qi7cyAJAgDlCLtzIBkA=",
          "dtype": "f8"
         },
         "yaxis": "y10"
        },
        {
         "hoverinfo": "none",
         "marker": {
          "color": "black"
         },
         "mode": "text",
         "showlegend": false,
         "text": "28",
         "textfont": {
          "color": "black",
          "size": 6
         },
         "type": "scatter",
         "x": [
          4.5
         ],
         "xaxis": "x10",
         "y": [
          2.598076211353316
         ],
         "yaxis": "y10"
        },
        {
         "fill": "toself",
         "fillcolor": "rgb(148, 103, 189)",
         "hoverinfo": "text",
         "hoveron": "fills",
         "line": {
          "width": 0
         },
         "mode": "lines",
         "showlegend": false,
         "text": "",
         "type": "scatter",
         "x": {
          "bdata": "y4SFrme7FUAAAAAAAAAUQDV7elGYRBJANXt6UZhEEkAAAAAAAAAUQMuEha5nuxVAy4SFrme7FUA=",
          "dtype": "f8"
         },
         "xaxis": "x10",
         "y": {
          "bdata": "q0xY6Hq2DUCrTFjoerYPQKtMWOh6tg1Aq0xY6Hq2CUCrTFjoerYHQKtMWOh6tglAq0xY6Hq2DUA=",
          "dtype": "f8"
         },
         "yaxis": "y10"
        },
        {
         "hoverinfo": "none",
         "marker": {
          "color": "black"
         },
         "mode": "text",
         "showlegend": false,
         "text": "",
         "textfont": {
          "color": "black",
          "size": 6
         },
         "type": "scatter",
         "x": [
          5
         ],
         "xaxis": "x10",
         "y": [
          3.464101615137755
         ],
         "yaxis": "y10"
        },
        {
         "fill": "toself",
         "fillcolor": "rgb(148, 103, 189)",
         "hoverinfo": "text",
         "hoveron": "fills",
         "line": {
          "width": 0
         },
         "mode": "lines",
         "showlegend": false,
         "text": "",
         "type": "scatter",
         "x": {
          "bdata": "y4SFrme7E0AAAAAAAAASQDV7elGYRBBANXt6UZhEEEAAAAAAAAASQMuEha5nuxNAy4SFrme7E0A=",
          "dtype": "f8"
         },
         "xaxis": "x10",
         "y": {
          "bdata": "6y830QxSEkDrLzfRDFITQOsvN9EMUhJA6y830QxSEEDWX26iGaQOQOsvN9EMUhBA6y830QxSEkA=",
          "dtype": "f8"
         },
         "yaxis": "y10"
        },
        {
         "hoverinfo": "none",
         "marker": {
          "color": "black"
         },
         "mode": "text",
         "showlegend": false,
         "text": "",
         "textfont": {
          "color": "black",
          "size": 6
         },
         "type": "scatter",
         "x": [
          4.5
         ],
         "xaxis": "x10",
         "y": [
          4.330127018922194
         ],
         "yaxis": "y10"
        },
        {
         "fill": "toself",
         "fillcolor": "rgb(148, 103, 189)",
         "hoverinfo": "text",
         "hoveron": "fills",
         "line": {
          "width": 0
         },
         "mode": "lines",
         "showlegend": false,
         "text": "54",
         "type": "scatter",
         "x": {
          "bdata": "y4SFrme7GUAAAAAAAAAYQDV7elGYRBZANXt6UZhEFkAAAAAAAAAYQMuEha5nuxlAy4SFrme7GUA=",
          "dtype": "f8"
         },
         "xaxis": "x10",
         "y": {
          "bdata": "////////zz8AAAAAAADgPwMAAAAAANA/+///////z78AAAAAAADgv/r//////8+/AAAAAAAA0D8=",
          "dtype": "f8"
         },
         "yaxis": "y10"
        },
        {
         "hoverinfo": "none",
         "marker": {
          "color": "black"
         },
         "mode": "text",
         "showlegend": false,
         "text": "54",
         "textfont": {
          "color": "black",
          "size": 6
         },
         "type": "scatter",
         "x": [
          6
         ],
         "xaxis": "x10",
         "y": [
          5.551115123125783e-17
         ],
         "yaxis": "y10"
        },
        {
         "fill": "toself",
         "fillcolor": "rgb(148, 103, 189)",
         "hoverinfo": "text",
         "hoveron": "fills",
         "line": {
          "width": 0
         },
         "mode": "lines",
         "showlegend": false,
         "text": "96",
         "type": "scatter",
         "x": {
          "bdata": "y4SFrme7F0AAAAAAAAAWQDV7elGYRBRANXt6UZhEFEAAAAAAAAAWQMuEha5nuxdAy4SFrme7F0A=",
          "dtype": "f8"
         },
         "xaxis": "x10",
         "y": {
          "bdata": "VSYsdD3b8T9WJix0Pdv1P1YmLHQ92/E/rExY6Hq24z9WmbDQ9WzXP6xMWOh6tuM/ViYsdD3b8T8=",
          "dtype": "f8"
         },
         "yaxis": "y10"
        },
        {
         "hoverinfo": "none",
         "marker": {
          "color": "black"
         },
         "mode": "text",
         "showlegend": false,
         "text": "96",
         "textfont": {
          "color": "black",
          "size": 6
         },
         "type": "scatter",
         "x": [
          5.5
         ],
         "xaxis": "x10",
         "y": [
          0.8660254037844387
         ],
         "yaxis": "y10"
        },
        {
         "fill": "toself",
         "fillcolor": "rgb(148, 103, 189)",
         "hoverinfo": "text",
         "hoveron": "fills",
         "line": {
          "width": 0
         },
         "mode": "lines",
         "showlegend": false,
         "text": "32,56",
         "type": "scatter",
         "x": {
          "bdata": "y4SFrme7GUAAAAAAAAAYQDV7elGYRBZANXt6UZhEFkAAAAAAAAAYQMuEha5nuxlAy4SFrme7GUA=",
          "dtype": "f8"
         },
         "xaxis": "x10",
         "y": {
          "bdata": "q0xY6Hq2/z9WJix0PdsBQKxMWOh6tv8/rExY6Hq29z+rTFjoerbzP6xMWOh6tvc/q0xY6Hq2/z8=",
          "dtype": "f8"
         },
         "yaxis": "y10"
        },
        {
         "hoverinfo": "none",
         "marker": {
          "color": "black"
         },
         "mode": "text",
         "showlegend": false,
         "text": "32,56",
         "textfont": {
          "color": "black",
          "size": 6
         },
         "type": "scatter",
         "x": [
          6
         ],
         "xaxis": "x10",
         "y": [
          1.7320508075688776
         ],
         "yaxis": "y10"
        },
        {
         "fill": "toself",
         "fillcolor": "rgb(148, 103, 189)",
         "hoverinfo": "text",
         "hoveron": "fills",
         "line": {
          "width": 0
         },
         "mode": "lines",
         "showlegend": false,
         "text": "58",
         "type": "scatter",
         "x": {
          "bdata": "y4SFrme7F0AAAAAAAAAWQDV7elGYRBRANXt6UZhEFEAAAAAAAAAWQMuEha5nuxdAy4SFrme7F0A=",
          "dtype": "f8"
         },
         "xaxis": "x10",
         "y": {
          "bdata": "gDlCLtzIBkCAOUIu3MgIQIA5Qi7cyAZAgDlCLtzIAkCAOUIu3MgAQIA5Qi7cyAJAgDlCLtzIBkA=",
          "dtype": "f8"
         },
         "yaxis": "y10"
        },
        {
         "hoverinfo": "none",
         "marker": {
          "color": "black"
         },
         "mode": "text",
         "showlegend": false,
         "text": "58",
         "textfont": {
          "color": "black",
          "size": 6
         },
         "type": "scatter",
         "x": [
          5.5
         ],
         "xaxis": "x10",
         "y": [
          2.598076211353316
         ],
         "yaxis": "y10"
        },
        {
         "fill": "toself",
         "fillcolor": "rgb(148, 103, 189)",
         "hoverinfo": "text",
         "hoveron": "fills",
         "line": {
          "width": 0
         },
         "mode": "lines",
         "showlegend": false,
         "text": "13",
         "type": "scatter",
         "x": {
          "bdata": "y4SFrme7GUAAAAAAAAAYQDV7elGYRBZANXt6UZhEFkAAAAAAAAAYQMuEha5nuxlAy4SFrme7GUA=",
          "dtype": "f8"
         },
         "xaxis": "x10",
         "y": {
          "bdata": "q0xY6Hq2DUCrTFjoerYPQKtMWOh6tg1Aq0xY6Hq2CUCrTFjoerYHQKtMWOh6tglAq0xY6Hq2DUA=",
          "dtype": "f8"
         },
         "yaxis": "y10"
        },
        {
         "hoverinfo": "none",
         "marker": {
          "color": "black"
         },
         "mode": "text",
         "showlegend": false,
         "text": "13",
         "textfont": {
          "color": "black",
          "size": 6
         },
         "type": "scatter",
         "x": [
          6
         ],
         "xaxis": "x10",
         "y": [
          3.464101615137755
         ],
         "yaxis": "y10"
        },
        {
         "fill": "toself",
         "fillcolor": "rgb(148, 103, 189)",
         "hoverinfo": "text",
         "hoveron": "fills",
         "line": {
          "width": 0
         },
         "mode": "lines",
         "showlegend": false,
         "text": "11,12,14<br>67,68,69",
         "type": "scatter",
         "x": {
          "bdata": "y4SFrme7F0AAAAAAAAAWQDV7elGYRBRANXt6UZhEFEAAAAAAAAAWQMuEha5nuxdAy4SFrme7F0A=",
          "dtype": "f8"
         },
         "xaxis": "x10",
         "y": {
          "bdata": "6y830QxSEkDrLzfRDFITQOsvN9EMUhJA6y830QxSEEDWX26iGaQOQOsvN9EMUhBA6y830QxSEkA=",
          "dtype": "f8"
         },
         "yaxis": "y10"
        },
        {
         "hoverinfo": "none",
         "marker": {
          "color": "black"
         },
         "mode": "text",
         "showlegend": false,
         "text": "11,12,14<br>67,68,69",
         "textfont": {
          "color": "black",
          "size": 6
         },
         "type": "scatter",
         "x": [
          5.5
         ],
         "xaxis": "x10",
         "y": [
          4.330127018922194
         ],
         "yaxis": "y10"
        },
        {
         "fill": "toself",
         "fillcolor": "rgb(148, 103, 189)",
         "hoverinfo": "text",
         "hoveron": "fills",
         "line": {
          "width": 0
         },
         "mode": "lines",
         "showlegend": false,
         "text": "71",
         "type": "scatter",
         "x": {
          "bdata": "y4SFrme7HUAAAAAAAAAcQDV7elGYRBpANXt6UZhEGkAAAAAAAAAcQMuEha5nux1Ay4SFrme7HUA=",
          "dtype": "f8"
         },
         "xaxis": "x10",
         "y": {
          "bdata": "////////zz8AAAAAAADgPwMAAAAAANA/+///////z78AAAAAAADgv/r//////8+/AAAAAAAA0D8=",
          "dtype": "f8"
         },
         "yaxis": "y10"
        },
        {
         "hoverinfo": "none",
         "marker": {
          "color": "black"
         },
         "mode": "text",
         "showlegend": false,
         "text": "71",
         "textfont": {
          "color": "black",
          "size": 6
         },
         "type": "scatter",
         "x": [
          7
         ],
         "xaxis": "x10",
         "y": [
          5.551115123125783e-17
         ],
         "yaxis": "y10"
        },
        {
         "fill": "toself",
         "fillcolor": "rgb(148, 103, 189)",
         "hoverinfo": "text",
         "hoveron": "fills",
         "line": {
          "width": 0
         },
         "mode": "lines",
         "showlegend": false,
         "text": "98",
         "type": "scatter",
         "x": {
          "bdata": "y4SFrme7G0AAAAAAAAAaQDV7elGYRBhANXt6UZhEGEAAAAAAAAAaQMuEha5nuxtAy4SFrme7G0A=",
          "dtype": "f8"
         },
         "xaxis": "x10",
         "y": {
          "bdata": "VSYsdD3b8T9WJix0Pdv1P1YmLHQ92/E/rExY6Hq24z9WmbDQ9WzXP6xMWOh6tuM/ViYsdD3b8T8=",
          "dtype": "f8"
         },
         "yaxis": "y10"
        },
        {
         "hoverinfo": "none",
         "marker": {
          "color": "black"
         },
         "mode": "text",
         "showlegend": false,
         "text": "98",
         "textfont": {
          "color": "black",
          "size": 6
         },
         "type": "scatter",
         "x": [
          6.5
         ],
         "xaxis": "x10",
         "y": [
          0.8660254037844387
         ],
         "yaxis": "y10"
        },
        {
         "fill": "toself",
         "fillcolor": "rgb(148, 103, 189)",
         "hoverinfo": "text",
         "hoveron": "fills",
         "line": {
          "width": 0
         },
         "mode": "lines",
         "showlegend": false,
         "text": "99,100,101",
         "type": "scatter",
         "x": {
          "bdata": "y4SFrme7HUAAAAAAAAAcQDV7elGYRBpANXt6UZhEGkAAAAAAAAAcQMuEha5nux1Ay4SFrme7HUA=",
          "dtype": "f8"
         },
         "xaxis": "x10",
         "y": {
          "bdata": "q0xY6Hq2/z9WJix0PdsBQKxMWOh6tv8/rExY6Hq29z+rTFjoerbzP6xMWOh6tvc/q0xY6Hq2/z8=",
          "dtype": "f8"
         },
         "yaxis": "y10"
        },
        {
         "hoverinfo": "none",
         "marker": {
          "color": "black"
         },
         "mode": "text",
         "showlegend": false,
         "text": "99,100,101",
         "textfont": {
          "color": "black",
          "size": 6
         },
         "type": "scatter",
         "x": [
          7
         ],
         "xaxis": "x10",
         "y": [
          1.7320508075688776
         ],
         "yaxis": "y10"
        },
        {
         "fill": "toself",
         "fillcolor": "rgb(148, 103, 189)",
         "hoverinfo": "text",
         "hoveron": "fills",
         "line": {
          "width": 0
         },
         "mode": "lines",
         "showlegend": false,
         "text": "30,35",
         "type": "scatter",
         "x": {
          "bdata": "y4SFrme7G0AAAAAAAAAaQDV7elGYRBhANXt6UZhEGEAAAAAAAAAaQMuEha5nuxtAy4SFrme7G0A=",
          "dtype": "f8"
         },
         "xaxis": "x10",
         "y": {
          "bdata": "gDlCLtzIBkCAOUIu3MgIQIA5Qi7cyAZAgDlCLtzIAkCAOUIu3MgAQIA5Qi7cyAJAgDlCLtzIBkA=",
          "dtype": "f8"
         },
         "yaxis": "y10"
        },
        {
         "hoverinfo": "none",
         "marker": {
          "color": "black"
         },
         "mode": "text",
         "showlegend": false,
         "text": "30,35",
         "textfont": {
          "color": "black",
          "size": 6
         },
         "type": "scatter",
         "x": [
          6.5
         ],
         "xaxis": "x10",
         "y": [
          2.598076211353316
         ],
         "yaxis": "y10"
        },
        {
         "fill": "toself",
         "fillcolor": "rgb(148, 103, 189)",
         "hoverinfo": "text",
         "hoveron": "fills",
         "line": {
          "width": 0
         },
         "mode": "lines",
         "showlegend": false,
         "text": "",
         "type": "scatter",
         "x": {
          "bdata": "y4SFrme7HUAAAAAAAAAcQDV7elGYRBpANXt6UZhEGkAAAAAAAAAcQMuEha5nux1Ay4SFrme7HUA=",
          "dtype": "f8"
         },
         "xaxis": "x10",
         "y": {
          "bdata": "q0xY6Hq2DUCrTFjoerYPQKtMWOh6tg1Aq0xY6Hq2CUCrTFjoerYHQKtMWOh6tglAq0xY6Hq2DUA=",
          "dtype": "f8"
         },
         "yaxis": "y10"
        },
        {
         "hoverinfo": "none",
         "marker": {
          "color": "black"
         },
         "mode": "text",
         "showlegend": false,
         "text": "",
         "textfont": {
          "color": "black",
          "size": 6
         },
         "type": "scatter",
         "x": [
          7
         ],
         "xaxis": "x10",
         "y": [
          3.464101615137755
         ],
         "yaxis": "y10"
        },
        {
         "fill": "toself",
         "fillcolor": "rgb(148, 103, 189)",
         "hoverinfo": "text",
         "hoveron": "fills",
         "line": {
          "width": 0
         },
         "mode": "lines",
         "showlegend": false,
         "text": "66,86,91<br>93",
         "type": "scatter",
         "x": {
          "bdata": "y4SFrme7G0AAAAAAAAAaQDV7elGYRBhANXt6UZhEGEAAAAAAAAAaQMuEha5nuxtAy4SFrme7G0A=",
          "dtype": "f8"
         },
         "xaxis": "x10",
         "y": {
          "bdata": "6y830QxSEkDrLzfRDFITQOsvN9EMUhJA6y830QxSEEDWX26iGaQOQOsvN9EMUhBA6y830QxSEkA=",
          "dtype": "f8"
         },
         "yaxis": "y10"
        },
        {
         "hoverinfo": "none",
         "marker": {
          "color": "black"
         },
         "mode": "text",
         "showlegend": false,
         "text": "66,86,91<br>93",
         "textfont": {
          "color": "black",
          "size": 6
         },
         "type": "scatter",
         "x": [
          6.5
         ],
         "xaxis": "x10",
         "y": [
          4.330127018922194
         ],
         "yaxis": "y10"
        },
        {
         "fill": "toself",
         "fillcolor": "rgb(148, 103, 189)",
         "hoverinfo": "text",
         "hoveron": "fills",
         "line": {
          "width": 0
         },
         "mode": "lines",
         "showlegend": false,
         "text": "70,72,73<br>74,76",
         "type": "scatter",
         "x": {
          "bdata": "ZcJC17PdIEAAAAAAAAAgQDV7elGYRB5ANXt6UZhEHkAAAAAAAAAgQGXCQtez3SBAZcJC17PdIEA=",
          "dtype": "f8"
         },
         "xaxis": "x10",
         "y": {
          "bdata": "////////zz8AAAAAAADgPwMAAAAAANA/+///////z78AAAAAAADgv/r//////8+/AAAAAAAA0D8=",
          "dtype": "f8"
         },
         "yaxis": "y10"
        },
        {
         "hoverinfo": "none",
         "marker": {
          "color": "black"
         },
         "mode": "text",
         "showlegend": false,
         "text": "70,72,73<br>74,76",
         "textfont": {
          "color": "black",
          "size": 6
         },
         "type": "scatter",
         "x": [
          8
         ],
         "xaxis": "x10",
         "y": [
          5.551115123125783e-17
         ],
         "yaxis": "y10"
        },
        {
         "fill": "toself",
         "fillcolor": "rgb(148, 103, 189)",
         "hoverinfo": "text",
         "hoveron": "fills",
         "line": {
          "width": 0
         },
         "mode": "lines",
         "showlegend": false,
         "text": "75,77",
         "type": "scatter",
         "x": {
          "bdata": "y4SFrme7H0AAAAAAAAAeQDV7elGYRBxANXt6UZhEHEAAAAAAAAAeQMuEha5nux9Ay4SFrme7H0A=",
          "dtype": "f8"
         },
         "xaxis": "x10",
         "y": {
          "bdata": "VSYsdD3b8T9WJix0Pdv1P1YmLHQ92/E/rExY6Hq24z9WmbDQ9WzXP6xMWOh6tuM/ViYsdD3b8T8=",
          "dtype": "f8"
         },
         "yaxis": "y10"
        },
        {
         "hoverinfo": "none",
         "marker": {
          "color": "black"
         },
         "mode": "text",
         "showlegend": false,
         "text": "75,77",
         "textfont": {
          "color": "black",
          "size": 6
         },
         "type": "scatter",
         "x": [
          7.5
         ],
         "xaxis": "x10",
         "y": [
          0.8660254037844387
         ],
         "yaxis": "y10"
        },
        {
         "fill": "toself",
         "fillcolor": "rgb(148, 103, 189)",
         "hoverinfo": "text",
         "hoveron": "fills",
         "line": {
          "width": 0
         },
         "mode": "lines",
         "showlegend": false,
         "text": "",
         "type": "scatter",
         "x": {
          "bdata": "ZcJC17PdIEAAAAAAAAAgQDV7elGYRB5ANXt6UZhEHkAAAAAAAAAgQGXCQtez3SBAZcJC17PdIEA=",
          "dtype": "f8"
         },
         "xaxis": "x10",
         "y": {
          "bdata": "q0xY6Hq2/z9WJix0PdsBQKxMWOh6tv8/rExY6Hq29z+rTFjoerbzP6xMWOh6tvc/q0xY6Hq2/z8=",
          "dtype": "f8"
         },
         "yaxis": "y10"
        },
        {
         "hoverinfo": "none",
         "marker": {
          "color": "black"
         },
         "mode": "text",
         "showlegend": false,
         "text": "",
         "textfont": {
          "color": "black",
          "size": 6
         },
         "type": "scatter",
         "x": [
          8
         ],
         "xaxis": "x10",
         "y": [
          1.7320508075688776
         ],
         "yaxis": "y10"
        },
        {
         "fill": "toself",
         "fillcolor": "rgb(148, 103, 189)",
         "hoverinfo": "text",
         "hoveron": "fills",
         "line": {
          "width": 0
         },
         "mode": "lines",
         "showlegend": false,
         "text": "31,39",
         "type": "scatter",
         "x": {
          "bdata": "y4SFrme7H0AAAAAAAAAeQDV7elGYRBxANXt6UZhEHEAAAAAAAAAeQMuEha5nux9Ay4SFrme7H0A=",
          "dtype": "f8"
         },
         "xaxis": "x10",
         "y": {
          "bdata": "gDlCLtzIBkCAOUIu3MgIQIA5Qi7cyAZAgDlCLtzIAkCAOUIu3MgAQIA5Qi7cyAJAgDlCLtzIBkA=",
          "dtype": "f8"
         },
         "yaxis": "y10"
        },
        {
         "hoverinfo": "none",
         "marker": {
          "color": "black"
         },
         "mode": "text",
         "showlegend": false,
         "text": "31,39",
         "textfont": {
          "color": "black",
          "size": 6
         },
         "type": "scatter",
         "x": [
          7.5
         ],
         "xaxis": "x10",
         "y": [
          2.598076211353316
         ],
         "yaxis": "y10"
        },
        {
         "fill": "toself",
         "fillcolor": "rgb(148, 103, 189)",
         "hoverinfo": "text",
         "hoveron": "fills",
         "line": {
          "width": 0
         },
         "mode": "lines",
         "showlegend": false,
         "text": "59,60,61<br>62",
         "type": "scatter",
         "x": {
          "bdata": "ZcJC17PdIEAAAAAAAAAgQDV7elGYRB5ANXt6UZhEHkAAAAAAAAAgQGXCQtez3SBAZcJC17PdIEA=",
          "dtype": "f8"
         },
         "xaxis": "x10",
         "y": {
          "bdata": "q0xY6Hq2DUCrTFjoerYPQKtMWOh6tg1Aq0xY6Hq2CUCrTFjoerYHQKtMWOh6tglAq0xY6Hq2DUA=",
          "dtype": "f8"
         },
         "yaxis": "y10"
        },
        {
         "hoverinfo": "none",
         "marker": {
          "color": "black"
         },
         "mode": "text",
         "showlegend": false,
         "text": "59,60,61<br>62",
         "textfont": {
          "color": "black",
          "size": 6
         },
         "type": "scatter",
         "x": [
          8
         ],
         "xaxis": "x10",
         "y": [
          3.464101615137755
         ],
         "yaxis": "y10"
        },
        {
         "fill": "toself",
         "fillcolor": "rgb(148, 103, 189)",
         "hoverinfo": "text",
         "hoveron": "fills",
         "line": {
          "width": 0
         },
         "mode": "lines",
         "showlegend": false,
         "text": "10,65",
         "type": "scatter",
         "x": {
          "bdata": "y4SFrme7H0AAAAAAAAAeQDV7elGYRBxANXt6UZhEHEAAAAAAAAAeQMuEha5nux9Ay4SFrme7H0A=",
          "dtype": "f8"
         },
         "xaxis": "x10",
         "y": {
          "bdata": "6y830QxSEkDrLzfRDFITQOsvN9EMUhJA6y830QxSEEDWX26iGaQOQOsvN9EMUhBA6y830QxSEkA=",
          "dtype": "f8"
         },
         "yaxis": "y10"
        },
        {
         "hoverinfo": "none",
         "marker": {
          "color": "black"
         },
         "mode": "text",
         "showlegend": false,
         "text": "10,65",
         "textfont": {
          "color": "black",
          "size": 6
         },
         "type": "scatter",
         "x": [
          7.5
         ],
         "xaxis": "x10",
         "y": [
          4.330127018922194
         ],
         "yaxis": "y10"
        },
        {
         "line": {
          "color": "black",
          "width": 2
         },
         "mode": "lines",
         "showlegend": false,
         "type": "scatter",
         "x": {
          "bdata": "IS3ZLxgH4L+SluwXjAPwv5CW7BeMA/C/////////379lyxD06viPPAAAAAAAAOA/AAAAAAAA8D8AAAAAAAD4P0hL9gvGAQBASUv2C8YBAED///////8DQLe0CfQ5/gdAuLQJ9Dn+B0AAAAAAAAAMQKQl+wXjABBApCX7BeMAEEBIS/YLxgEMQElL9gvGAQxAAAAAAAAACEAAAAAAAAAEQAAAAAAAAABAAAAAAAAA+D/////////vPwAAAAAAAOA/5Tct7DefnrwjLdkvGAfgvyEt2S8YB+C/",
          "dtype": "f8"
         },
         "xaxis": "x10",
         "y": {
          "bdata": "9CMtrKkEDkAslW9K7ykQQKrK/lcqehJAaWXG3keiE0A3Ym1qrXoSQGllxt5HohNAN2Jtaq16EkBpZcbeR6ITQKrK/lcqehJAR8RMb/UqEEBEscQavAcOQEfETG/1KhBAqsr+Vyp6EkBpZcbeR6ITQKrK/lcqehJALJVvSu8pEED0Iy2sqQQOQC0Xydo/ZglAr+E5zQQWB0AS6Ou1OWUJQK/hOc0EFgdAEujrtTllCUCv4TnNBBYHQBLo67U5ZQlAr+E5zQQWB0AtF8naP2YJQPQjLaypBA5A",
          "dtype": "f8"
         },
         "yaxis": "y10"
        },
        {
         "line": {
          "color": "black",
          "width": 2
         },
         "mode": "lines",
         "showlegend": false,
         "type": "scatter",
         "x": {
          "bdata": "SEv2C8YBCEAAAAAAAAAEQHBpE+hz/P8/bmkT6HP8/z8AAAAAAAAEQElL9gvGAQhASEv2C8YBCEA=",
          "dtype": "f8"
         },
         "xaxis": "x10",
         "y": {
          "bdata": "qsr+Vyp6EkBpZcbeR6ITQKrK/lcqehJALJVvSu8pEEDa9E+HowMOQCyVb0rvKRBAqsr+Vyp6EkA=",
          "dtype": "f8"
         },
         "yaxis": "y10"
        },
        {
         "line": {
          "color": "black",
          "width": 2
         },
         "mode": "lines",
         "showlegend": false,
         "type": "scatter",
         "x": {
          "bdata": "////////7z8AAAAAAADgP+U3Lew3n568Iy3ZLxgH4L8hLdkvGAfgv5KW7BeMA/C/kJbsF4wD8L8jLdkvGAfgvyEt2S8YB+C/kpbsF4wD8L+QluwXjAPwv////////9+/XcsQ9Or4jzwAAAAAAADgPwAAAAAAAPA/AAAAAAAA+D9IS/YLxgEAQElL9gvGAQBASEv2C8YBBEBJS/YLxgEEQEhL9gvGAQhASUv2C8YBCEBIS/YLxgEEQElL9gvGAQRAAAAAAAAAAEAAAAAAAAD4P////////+8/",
          "dtype": "f8"
         },
         "xaxis": "x10",
         "y": {
          "bdata": "8at5bNiB4r/EJGOTCYrSv/GreWzYgeK/7qt5bNiB0r9HuqYednHSP7R2G7KOdeI/UpFKj7N78j8Ynq5gHRr3P579ADhsKQBAAgSzIKF4AkD+btE7FxkHQHykYElSaQlAGZ6uYB0aB0B8pGBJUmkJQBiermAdGgdAfKRgSVJpCUD+btE7FxkHQDdibWqtegJA1Fu7gXgrAEAYnq5gHRr3P1KRSo+ze/I/tHYbso514j9HuqYednHSP+6reWzYgdK/8at5bNiB4r/FJGOTCYrSv/GreWzYgeK/",
          "dtype": "f8"
         },
         "yaxis": "y10"
        },
        {
         "line": {
          "color": "black",
          "width": 2
         },
         "mode": "lines",
         "showlegend": false,
         "type": "scatter",
         "x": {
          "bdata": "uLQJ9Dn+B0C3tAn0Of4DQLi0CfQ5/gNAbmkT6HP8/z9waRPoc/z/PwAAAAAAAARAAAAAAAAACEC3tAn0Of4LQLi0CfQ5/gtAt7QJ9Dn+D0C4tAn0Of4PQAAAAAAAABJAAAAAAAAAFEAAAAAAAAAWQAAAAAAAABhAAAAAAAAAGkAAAAAAAAAcQAAAAAAAAB5A0pL9gnEAIEDSkv2CcQAgQNKS/YJxACFA0pL9gnEAIUDSkv2CcQAgQNKS/YJxACBA0pL9gnEAIUDSkv2CcQAhQNKS/YJxACBA0pL9gnEAIEDSkv2CcQAhQNKS/YJxACFAAAAAAAAAIEAAAAAAAAAeQAAAAAAAABxAAAAAAAAAGkAAAAAAAAAYQAAAAAAAABZAAAAAAAAAFEAAAAAAAAASQAAAAAAAABBAAAAAAAAADEAAAAAAAAAIQLe0CfQ5/gNAuLQJ9Dn+A0C3tAn0Of4HQLi0CfQ5/gdA",
          "dtype": "f8"
         },
         "xaxis": "x10",
         "y": {
          "bdata": "59TV+5p38j+w4TnNBBb3P579ADhsKQBAAgSzIKF4AkD+btE7FxkHQHykYElSaQlAGJ6uYB0aB0BhdYMkTGgJQCqC5/W1Bg5AR8RMb/UqEECqyv5XKnoSQGllxt5HohNAN2Jtaq16EkBpZcbeR6ITQDdibWqtehJAaWXG3keiE0A3Ym1qrXoSQGllxt5HohNAqsr+Vyp6EkBHxExv9SoQQCmC5/W1Bg5ALRfJ2j9mCUDJEBfyChcHQDhibWqtegJA1Fu7gXgrAECw4TnNBBb3P+fU1fuad/I/iO8E2b994j/wq3ls2IHSP+6reWzYgdK/8at5bNiB4r/BJGOTCYrSv/GreWzYgeK/wSRjkwmK0r/xq3ls2IHiv8EkY5MJitK/8at5bNiB4r/BJGOTCYrSv/GreWzYgeK/xSRjkwmK0r/xq3ls2IHiv+6reWzYgdK/9Kt5bNiB0j+F7wTZv33iP+fU1fuad/I/",
          "dtype": "f8"
         },
         "yaxis": "y10"
        }
       ],
       "layout": {
        "annotations": [
         {
          "font": {
           "size": 16
          },
          "showarrow": false,
          "text": "pH",
          "x": 0.2375,
          "xanchor": "center",
          "xref": "paper",
          "y": 1,
          "yanchor": "bottom",
          "yref": "paper"
         },
         {
          "font": {
           "size": 16
          },
          "showarrow": false,
          "text": "Ca",
          "x": 0.7625,
          "xanchor": "center",
          "xref": "paper",
          "y": 1,
          "yanchor": "bottom",
          "yref": "paper"
         },
         {
          "font": {
           "size": 16
          },
          "showarrow": false,
          "text": "Mg",
          "x": 0.2375,
          "xanchor": "center",
          "xref": "paper",
          "y": 0.79,
          "yanchor": "bottom",
          "yref": "paper"
         },
         {
          "font": {
           "size": 16
          },
          "showarrow": false,
          "text": "Na",
          "x": 0.7625,
          "xanchor": "center",
          "xref": "paper",
          "y": 0.79,
          "yanchor": "bottom",
          "yref": "paper"
         },
         {
          "font": {
           "size": 16
          },
          "showarrow": false,
          "text": "K",
          "x": 0.2375,
          "xanchor": "center",
          "xref": "paper",
          "y": 0.5800000000000001,
          "yanchor": "bottom",
          "yref": "paper"
         },
         {
          "font": {
           "size": 16
          },
          "showarrow": false,
          "text": "HCO3",
          "x": 0.7625,
          "xanchor": "center",
          "xref": "paper",
          "y": 0.5800000000000001,
          "yanchor": "bottom",
          "yref": "paper"
         },
         {
          "font": {
           "size": 16
          },
          "showarrow": false,
          "text": "Cl",
          "x": 0.2375,
          "xanchor": "center",
          "xref": "paper",
          "y": 0.37,
          "yanchor": "bottom",
          "yref": "paper"
         },
         {
          "font": {
           "size": 16
          },
          "showarrow": false,
          "text": "SO4",
          "x": 0.7625,
          "xanchor": "center",
          "xref": "paper",
          "y": 0.37,
          "yanchor": "bottom",
          "yref": "paper"
         },
         {
          "font": {
           "size": 16
          },
          "showarrow": false,
          "text": "Umatrix",
          "x": 0.2375,
          "xanchor": "center",
          "xref": "paper",
          "y": 0.16,
          "yanchor": "bottom",
          "yref": "paper"
         },
         {
          "font": {
           "size": 16
          },
          "showarrow": false,
          "text": "Clusters and winning cells",
          "x": 0.7625,
          "xanchor": "center",
          "xref": "paper",
          "y": 0.16,
          "yanchor": "bottom",
          "yref": "paper"
         }
        ],
        "height": 1300,
        "template": {
         "data": {
          "bar": [
           {
            "error_x": {
             "color": "#2a3f5f"
            },
            "error_y": {
             "color": "#2a3f5f"
            },
            "marker": {
             "line": {
              "color": "white",
              "width": 0.5
             },
             "pattern": {
              "fillmode": "overlay",
              "size": 10,
              "solidity": 0.2
             }
            },
            "type": "bar"
           }
          ],
          "barpolar": [
           {
            "marker": {
             "line": {
              "color": "white",
              "width": 0.5
             },
             "pattern": {
              "fillmode": "overlay",
              "size": 10,
              "solidity": 0.2
             }
            },
            "type": "barpolar"
           }
          ],
          "carpet": [
           {
            "aaxis": {
             "endlinecolor": "#2a3f5f",
             "gridcolor": "#C8D4E3",
             "linecolor": "#C8D4E3",
             "minorgridcolor": "#C8D4E3",
             "startlinecolor": "#2a3f5f"
            },
            "baxis": {
             "endlinecolor": "#2a3f5f",
             "gridcolor": "#C8D4E3",
             "linecolor": "#C8D4E3",
             "minorgridcolor": "#C8D4E3",
             "startlinecolor": "#2a3f5f"
            },
            "type": "carpet"
           }
          ],
          "choropleth": [
           {
            "colorbar": {
             "outlinewidth": 0,
             "ticks": ""
            },
            "type": "choropleth"
           }
          ],
          "contour": [
           {
            "colorbar": {
             "outlinewidth": 0,
             "ticks": ""
            },
            "colorscale": [
             [
              0,
              "#0d0887"
             ],
             [
              0.1111111111111111,
              "#46039f"
             ],
             [
              0.2222222222222222,
              "#7201a8"
             ],
             [
              0.3333333333333333,
              "#9c179e"
             ],
             [
              0.4444444444444444,
              "#bd3786"
             ],
             [
              0.5555555555555556,
              "#d8576b"
             ],
             [
              0.6666666666666666,
              "#ed7953"
             ],
             [
              0.7777777777777778,
              "#fb9f3a"
             ],
             [
              0.8888888888888888,
              "#fdca26"
             ],
             [
              1,
              "#f0f921"
             ]
            ],
            "type": "contour"
           }
          ],
          "contourcarpet": [
           {
            "colorbar": {
             "outlinewidth": 0,
             "ticks": ""
            },
            "type": "contourcarpet"
           }
          ],
          "heatmap": [
           {
            "colorbar": {
             "outlinewidth": 0,
             "ticks": ""
            },
            "colorscale": [
             [
              0,
              "#0d0887"
             ],
             [
              0.1111111111111111,
              "#46039f"
             ],
             [
              0.2222222222222222,
              "#7201a8"
             ],
             [
              0.3333333333333333,
              "#9c179e"
             ],
             [
              0.4444444444444444,
              "#bd3786"
             ],
             [
              0.5555555555555556,
              "#d8576b"
             ],
             [
              0.6666666666666666,
              "#ed7953"
             ],
             [
              0.7777777777777778,
              "#fb9f3a"
             ],
             [
              0.8888888888888888,
              "#fdca26"
             ],
             [
              1,
              "#f0f921"
             ]
            ],
            "type": "heatmap"
           }
          ],
          "histogram": [
           {
            "marker": {
             "pattern": {
              "fillmode": "overlay",
              "size": 10,
              "solidity": 0.2
             }
            },
            "type": "histogram"
           }
          ],
          "histogram2d": [
           {
            "colorbar": {
             "outlinewidth": 0,
             "ticks": ""
            },
            "colorscale": [
             [
              0,
              "#0d0887"
             ],
             [
              0.1111111111111111,
              "#46039f"
             ],
             [
              0.2222222222222222,
              "#7201a8"
             ],
             [
              0.3333333333333333,
              "#9c179e"
             ],
             [
              0.4444444444444444,
              "#bd3786"
             ],
             [
              0.5555555555555556,
              "#d8576b"
             ],
             [
              0.6666666666666666,
              "#ed7953"
             ],
             [
              0.7777777777777778,
              "#fb9f3a"
             ],
             [
              0.8888888888888888,
              "#fdca26"
             ],
             [
              1,
              "#f0f921"
             ]
            ],
            "type": "histogram2d"
           }
          ],
          "histogram2dcontour": [
           {
            "colorbar": {
             "outlinewidth": 0,
             "ticks": ""
            },
            "colorscale": [
             [
              0,
              "#0d0887"
             ],
             [
              0.1111111111111111,
              "#46039f"
             ],
             [
              0.2222222222222222,
              "#7201a8"
             ],
             [
              0.3333333333333333,
              "#9c179e"
             ],
             [
              0.4444444444444444,
              "#bd3786"
             ],
             [
              0.5555555555555556,
              "#d8576b"
             ],
             [
              0.6666666666666666,
              "#ed7953"
             ],
             [
              0.7777777777777778,
              "#fb9f3a"
             ],
             [
              0.8888888888888888,
              "#fdca26"
             ],
             [
              1,
              "#f0f921"
             ]
            ],
            "type": "histogram2dcontour"
           }
          ],
          "mesh3d": [
           {
            "colorbar": {
             "outlinewidth": 0,
             "ticks": ""
            },
            "type": "mesh3d"
           }
          ],
          "parcoords": [
           {
            "line": {
             "colorbar": {
              "outlinewidth": 0,
              "ticks": ""
             }
            },
            "type": "parcoords"
           }
          ],
          "pie": [
           {
            "automargin": true,
            "type": "pie"
           }
          ],
          "scatter": [
           {
            "fillpattern": {
             "fillmode": "overlay",
             "size": 10,
             "solidity": 0.2
            },
            "type": "scatter"
           }
          ],
          "scatter3d": [
           {
            "line": {
             "colorbar": {
              "outlinewidth": 0,
              "ticks": ""
             }
            },
            "marker": {
             "colorbar": {
              "outlinewidth": 0,
              "ticks": ""
             }
            },
            "type": "scatter3d"
           }
          ],
          "scattercarpet": [
           {
            "marker": {
             "colorbar": {
              "outlinewidth": 0,
              "ticks": ""
             }
            },
            "type": "scattercarpet"
           }
          ],
          "scattergeo": [
           {
            "marker": {
             "colorbar": {
              "outlinewidth": 0,
              "ticks": ""
             }
            },
            "type": "scattergeo"
           }
          ],
          "scattergl": [
           {
            "marker": {
             "colorbar": {
              "outlinewidth": 0,
              "ticks": ""
             }
            },
            "type": "scattergl"
           }
          ],
          "scattermap": [
           {
            "marker": {
             "colorbar": {
              "outlinewidth": 0,
              "ticks": ""
             }
            },
            "type": "scattermap"
           }
          ],
          "scattermapbox": [
           {
            "marker": {
             "colorbar": {
              "outlinewidth": 0,
              "ticks": ""
             }
            },
            "type": "scattermapbox"
           }
          ],
          "scatterpolar": [
           {
            "marker": {
             "colorbar": {
              "outlinewidth": 0,
              "ticks": ""
             }
            },
            "type": "scatterpolar"
           }
          ],
          "scatterpolargl": [
           {
            "marker": {
             "colorbar": {
              "outlinewidth": 0,
              "ticks": ""
             }
            },
            "type": "scatterpolargl"
           }
          ],
          "scatterternary": [
           {
            "marker": {
             "colorbar": {
              "outlinewidth": 0,
              "ticks": ""
             }
            },
            "type": "scatterternary"
           }
          ],
          "surface": [
           {
            "colorbar": {
             "outlinewidth": 0,
             "ticks": ""
            },
            "colorscale": [
             [
              0,
              "#0d0887"
             ],
             [
              0.1111111111111111,
              "#46039f"
             ],
             [
              0.2222222222222222,
              "#7201a8"
             ],
             [
              0.3333333333333333,
              "#9c179e"
             ],
             [
              0.4444444444444444,
              "#bd3786"
             ],
             [
              0.5555555555555556,
              "#d8576b"
             ],
             [
              0.6666666666666666,
              "#ed7953"
             ],
             [
              0.7777777777777778,
              "#fb9f3a"
             ],
             [
              0.8888888888888888,
              "#fdca26"
             ],
             [
              1,
              "#f0f921"
             ]
            ],
            "type": "surface"
           }
          ],
          "table": [
           {
            "cells": {
             "fill": {
              "color": "#EBF0F8"
             },
             "line": {
              "color": "white"
             }
            },
            "header": {
             "fill": {
              "color": "#C8D4E3"
             },
             "line": {
              "color": "white"
             }
            },
            "type": "table"
           }
          ]
         },
         "layout": {
          "annotationdefaults": {
           "arrowcolor": "#2a3f5f",
           "arrowhead": 0,
           "arrowwidth": 1
          },
          "autotypenumbers": "strict",
          "coloraxis": {
           "colorbar": {
            "outlinewidth": 0,
            "ticks": ""
           }
          },
          "colorscale": {
           "diverging": [
            [
             0,
             "#8e0152"
            ],
            [
             0.1,
             "#c51b7d"
            ],
            [
             0.2,
             "#de77ae"
            ],
            [
             0.3,
             "#f1b6da"
            ],
            [
             0.4,
             "#fde0ef"
            ],
            [
             0.5,
             "#f7f7f7"
            ],
            [
             0.6,
             "#e6f5d0"
            ],
            [
             0.7,
             "#b8e186"
            ],
            [
             0.8,
             "#7fbc41"
            ],
            [
             0.9,
             "#4d9221"
            ],
            [
             1,
             "#276419"
            ]
           ],
           "sequential": [
            [
             0,
             "#0d0887"
            ],
            [
             0.1111111111111111,
             "#46039f"
            ],
            [
             0.2222222222222222,
             "#7201a8"
            ],
            [
             0.3333333333333333,
             "#9c179e"
            ],
            [
             0.4444444444444444,
             "#bd3786"
            ],
            [
             0.5555555555555556,
             "#d8576b"
            ],
            [
             0.6666666666666666,
             "#ed7953"
            ],
            [
             0.7777777777777778,
             "#fb9f3a"
            ],
            [
             0.8888888888888888,
             "#fdca26"
            ],
            [
             1,
             "#f0f921"
            ]
           ],
           "sequentialminus": [
            [
             0,
             "#0d0887"
            ],
            [
             0.1111111111111111,
             "#46039f"
            ],
            [
             0.2222222222222222,
             "#7201a8"
            ],
            [
             0.3333333333333333,
             "#9c179e"
            ],
            [
             0.4444444444444444,
             "#bd3786"
            ],
            [
             0.5555555555555556,
             "#d8576b"
            ],
            [
             0.6666666666666666,
             "#ed7953"
            ],
            [
             0.7777777777777778,
             "#fb9f3a"
            ],
            [
             0.8888888888888888,
             "#fdca26"
            ],
            [
             1,
             "#f0f921"
            ]
           ]
          },
          "colorway": [
           "#636efa",
           "#EF553B",
           "#00cc96",
           "#ab63fa",
           "#FFA15A",
           "#19d3f3",
           "#FF6692",
           "#B6E880",
           "#FF97FF",
           "#FECB52"
          ],
          "font": {
           "color": "#2a3f5f"
          },
          "geo": {
           "bgcolor": "white",
           "lakecolor": "white",
           "landcolor": "white",
           "showlakes": true,
           "showland": true,
           "subunitcolor": "#C8D4E3"
          },
          "hoverlabel": {
           "align": "left"
          },
          "hovermode": "closest",
          "mapbox": {
           "style": "light"
          },
          "paper_bgcolor": "white",
          "plot_bgcolor": "white",
          "polar": {
           "angularaxis": {
            "gridcolor": "#EBF0F8",
            "linecolor": "#EBF0F8",
            "ticks": ""
           },
           "bgcolor": "white",
           "radialaxis": {
            "gridcolor": "#EBF0F8",
            "linecolor": "#EBF0F8",
            "ticks": ""
           }
          },
          "scene": {
           "xaxis": {
            "backgroundcolor": "white",
            "gridcolor": "#DFE8F3",
            "gridwidth": 2,
            "linecolor": "#EBF0F8",
            "showbackground": true,
            "ticks": "",
            "zerolinecolor": "#EBF0F8"
           },
           "yaxis": {
            "backgroundcolor": "white",
            "gridcolor": "#DFE8F3",
            "gridwidth": 2,
            "linecolor": "#EBF0F8",
            "showbackground": true,
            "ticks": "",
            "zerolinecolor": "#EBF0F8"
           },
           "zaxis": {
            "backgroundcolor": "white",
            "gridcolor": "#DFE8F3",
            "gridwidth": 2,
            "linecolor": "#EBF0F8",
            "showbackground": true,
            "ticks": "",
            "zerolinecolor": "#EBF0F8"
           }
          },
          "shapedefaults": {
           "line": {
            "color": "#2a3f5f"
           }
          },
          "ternary": {
           "aaxis": {
            "gridcolor": "#DFE8F3",
            "linecolor": "#A2B1C6",
            "ticks": ""
           },
           "baxis": {
            "gridcolor": "#DFE8F3",
            "linecolor": "#A2B1C6",
            "ticks": ""
           },
           "bgcolor": "white",
           "caxis": {
            "gridcolor": "#DFE8F3",
            "linecolor": "#A2B1C6",
            "ticks": ""
           }
          },
          "title": {
           "x": 0.05
          },
          "xaxis": {
           "automargin": true,
           "gridcolor": "#EBF0F8",
           "linecolor": "#EBF0F8",
           "ticks": "",
           "title": {
            "standoff": 15
           },
           "zerolinecolor": "#EBF0F8",
           "zerolinewidth": 2
          },
          "yaxis": {
           "automargin": true,
           "gridcolor": "#EBF0F8",
           "linecolor": "#EBF0F8",
           "ticks": "",
           "title": {
            "standoff": 15
           },
           "zerolinecolor": "#EBF0F8",
           "zerolinewidth": 2
          }
         }
        },
        "xaxis": {
         "anchor": "y",
         "domain": [
          0,
          0.475
         ],
         "showticklabels": false
        },
        "xaxis10": {
         "anchor": "y10",
         "domain": [
          0.525,
          1
         ],
         "showticklabels": false
        },
        "xaxis2": {
         "anchor": "y2",
         "domain": [
          0.525,
          1
         ],
         "showticklabels": false
        },
        "xaxis3": {
         "anchor": "y3",
         "domain": [
          0,
          0.475
         ],
         "showticklabels": false
        },
        "xaxis4": {
         "anchor": "y4",
         "domain": [
          0.525,
          1
         ],
         "showticklabels": false
        },
        "xaxis5": {
         "anchor": "y5",
         "domain": [
          0,
          0.475
         ],
         "showticklabels": false
        },
        "xaxis6": {
         "anchor": "y6",
         "domain": [
          0.525,
          1
         ],
         "showticklabels": false
        },
        "xaxis7": {
         "anchor": "y7",
         "domain": [
          0,
          0.475
         ],
         "showticklabels": false
        },
        "xaxis8": {
         "anchor": "y8",
         "domain": [
          0.525,
          1
         ],
         "showticklabels": false
        },
        "xaxis9": {
         "anchor": "y9",
         "domain": [
          0,
          0.475
         ],
         "showticklabels": false
        },
        "yaxis": {
         "anchor": "x",
         "domain": [
          0.8400000000000001,
          1
         ],
         "scaleanchor": "x",
         "showticklabels": false
        },
        "yaxis10": {
         "anchor": "x10",
         "domain": [
          0,
          0.16
         ],
         "scaleanchor": "x10",
         "showticklabels": false
        },
        "yaxis2": {
         "anchor": "x2",
         "domain": [
          0.8400000000000001,
          1
         ],
         "scaleanchor": "x2",
         "showticklabels": false
        },
        "yaxis3": {
         "anchor": "x3",
         "domain": [
          0.63,
          0.79
         ],
         "scaleanchor": "x3",
         "showticklabels": false
        },
        "yaxis4": {
         "anchor": "x4",
         "domain": [
          0.63,
          0.79
         ],
         "scaleanchor": "x4",
         "showticklabels": false
        },
        "yaxis5": {
         "anchor": "x5",
         "domain": [
          0.42000000000000004,
          0.5800000000000001
         ],
         "scaleanchor": "x5",
         "showticklabels": false
        },
        "yaxis6": {
         "anchor": "x6",
         "domain": [
          0.42000000000000004,
          0.5800000000000001
         ],
         "scaleanchor": "x6",
         "showticklabels": false
        },
        "yaxis7": {
         "anchor": "x7",
         "domain": [
          0.21000000000000002,
          0.37
         ],
         "scaleanchor": "x7",
         "showticklabels": false
        },
        "yaxis8": {
         "anchor": "x8",
         "domain": [
          0.21000000000000002,
          0.37
         ],
         "scaleanchor": "x8",
         "showticklabels": false
        },
        "yaxis9": {
         "anchor": "x9",
         "domain": [
          0,
          0.16
         ],
         "scaleanchor": "x9",
         "showticklabels": false
        }
       }
      }
     },
     "metadata": {},
     "output_type": "display_data"
    }
   ],
   "source": [
    "show_figure(features_fig)"
   ]
  },
  {
   "cell_type": "markdown",
   "id": "3e389a4807c960d5",
   "metadata": {},
   "source": [
    "# TODO\n",
    "\n",
    "- ✅ Remove test-train split. Can re-introduce later if we consider it relevant\n",
    "- ✅ Cluster count analysis. Refer to other sources/papers for common techniques. Include relevant plots\n",
    "- ⬜ Clustering on HCA results or log-standardized input?\n",
    "- ✅ Remove conversion to meq/L (data should already be converted)\n",
    "- ✅ Hexagonal cluster plot with correct colors\n",
    "- ⬜ Piper diagram:\n",
    "  - ✅ Sync colors in piper diagram with dendrogram\n",
    "  - ✅ Axis ticks\n",
    "  - ⬜ Legend with roman numerals and \"water type\"\n",
    "  - ⬜ Sort legend by cluster\n",
    "- ⬜ Gibbs diagram:\n",
    "  - ✅ Phase lines\n",
    "  - ✅ Text\n",
    "- ⬜ NBCLust - R package for clustering. Anything similar in Python? Possible to invoke?\n",
    "- ⬜ Automatic color_threshold in dendrogram plot\n",
    "- ⬜ Decimal formatting on color bars\n",
    "- ⬜ Write images to file"
   ]
  }
 ],
 "metadata": {
  "kernelspec": {
   "display_name": "som (3.12.8)",
   "language": "python",
   "name": "python3"
  },
  "language_info": {
   "codemirror_mode": {
    "name": "ipython",
    "version": 3
   },
   "file_extension": ".py",
   "mimetype": "text/x-python",
   "name": "python",
   "nbconvert_exporter": "python",
   "pygments_lexer": "ipython3",
   "version": "3.12.8"
  }
 },
 "nbformat": 4,
 "nbformat_minor": 5
}
